{
 "cells": [
  {
   "cell_type": "markdown",
   "metadata": {
    "toc": true
   },
   "source": [
    "<h1>Table of Contents<span class=\"tocSkip\"></span></h1>\n",
    "<div class=\"toc\"><ul class=\"toc-item\"><li><span><a href=\"#Introduction\" data-toc-modified-id=\"Introduction-1\"><span class=\"toc-item-num\">1&nbsp;&nbsp;</span>Introduction</a></span><ul class=\"toc-item\"><li><span><a href=\"#Dependencies\" data-toc-modified-id=\"Dependencies-1.1\"><span class=\"toc-item-num\">1.1&nbsp;&nbsp;</span>Dependencies</a></span></li><li><span><a href=\"#lmfit\" data-toc-modified-id=\"lmfit-1.2\"><span class=\"toc-item-num\">1.2&nbsp;&nbsp;</span>lmfit</a></span><ul class=\"toc-item\"><li><span><a href=\"#Example\" data-toc-modified-id=\"Example-1.2.1\"><span class=\"toc-item-num\">1.2.1&nbsp;&nbsp;</span>Example</a></span><ul class=\"toc-item\"><li><span><a href=\"#Generate-some-data\" data-toc-modified-id=\"Generate-some-data-1.2.1.1\"><span class=\"toc-item-num\">1.2.1.1&nbsp;&nbsp;</span>Generate some data</a></span></li><li><span><a href=\"#Do-the-fitting\" data-toc-modified-id=\"Do-the-fitting-1.2.1.2\"><span class=\"toc-item-num\">1.2.1.2&nbsp;&nbsp;</span>Do the fitting</a></span></li></ul></li></ul></li></ul></li><li><span><a href=\"#NCrystal\" data-toc-modified-id=\"NCrystal-2\"><span class=\"toc-item-num\">2&nbsp;&nbsp;</span>NCrystal</a></span></li><li><span><a href=\"#Example\" data-toc-modified-id=\"Example-3\"><span class=\"toc-item-num\">3&nbsp;&nbsp;</span>Example</a></span><ul class=\"toc-item\"><li><span><a href=\"#Calculate-the-total-cross-section\" data-toc-modified-id=\"Calculate-the-total-cross-section-3.1\"><span class=\"toc-item-num\">3.1&nbsp;&nbsp;</span>Calculate the total cross section</a></span></li><li><span><a href=\"#Do-a-Monte-Carlo-simulation\" data-toc-modified-id=\"Do-a-Monte-Carlo-simulation-3.2\"><span class=\"toc-item-num\">3.2&nbsp;&nbsp;</span>Do a Monte Carlo simulation</a></span><ul class=\"toc-item\"><li><span><a href=\"#Calculate-scattering\" data-toc-modified-id=\"Calculate-scattering-3.2.1\"><span class=\"toc-item-num\">3.2.1&nbsp;&nbsp;</span>Calculate scattering</a></span></li></ul></li></ul></li><li><span><a href=\"#Atomic-Simulation-Environment-(ASE)\" data-toc-modified-id=\"Atomic-Simulation-Environment-(ASE)-4\"><span class=\"toc-item-num\">4&nbsp;&nbsp;</span>Atomic Simulation Environment (ASE)</a></span><ul class=\"toc-item\"><li><span><a href=\"#ASE-Visualization\" data-toc-modified-id=\"ASE-Visualization-4.1\"><span class=\"toc-item-num\">4.1&nbsp;&nbsp;</span>ASE Visualization</a></span></li><li><span><a href=\"#Ideal-scattering-cross-section\" data-toc-modified-id=\"Ideal-scattering-cross-section-4.2\"><span class=\"toc-item-num\">4.2&nbsp;&nbsp;</span>Ideal scattering cross section</a></span></li><li><span><a href=\"#Adding-finite-resolution\" data-toc-modified-id=\"Adding-finite-resolution-4.3\"><span class=\"toc-item-num\">4.3&nbsp;&nbsp;</span>Adding finite resolution</a></span></li></ul></li><li><span><a href=\"#Adding-background\" data-toc-modified-id=\"Adding-background-5\"><span class=\"toc-item-num\">5&nbsp;&nbsp;</span>Adding background</a></span></li><li><span><a href=\"#Adding-both-background-and-finite-resolution\" data-toc-modified-id=\"Adding-both-background-and-finite-resolution-6\"><span class=\"toc-item-num\">6&nbsp;&nbsp;</span>Adding both background and finite resolution</a></span></li><li><span><a href=\"#Different-lattice-constants\" data-toc-modified-id=\"Different-lattice-constants-7\"><span class=\"toc-item-num\">7&nbsp;&nbsp;</span>Different lattice constants</a></span></li><li><span><a href=\"#Mixture\" data-toc-modified-id=\"Mixture-8\"><span class=\"toc-item-num\">8&nbsp;&nbsp;</span>Mixture</a></span></li><li><span><a href=\"#Fitting-using-lmfit-and-NCAtoms-/-Mixture\" data-toc-modified-id=\"Fitting-using-lmfit-and-NCAtoms-/-Mixture-9\"><span class=\"toc-item-num\">9&nbsp;&nbsp;</span>Fitting using lmfit and NCAtoms / Mixture</a></span><ul class=\"toc-item\"><li><span><a href=\"#Fitting-to-ideal-data\" data-toc-modified-id=\"Fitting-to-ideal-data-9.1\"><span class=\"toc-item-num\">9.1&nbsp;&nbsp;</span>Fitting to ideal data</a></span></li><li><span><a href=\"#Fitting-to-noisy-data\" data-toc-modified-id=\"Fitting-to-noisy-data-9.2\"><span class=\"toc-item-num\">9.2&nbsp;&nbsp;</span>Fitting to noisy data</a></span></li></ul></li></ul></div>"
   ]
  },
  {
   "cell_type": "markdown",
   "metadata": {},
   "source": [
    "# Rietveld-type analysis of time-of-flight imaging data"
   ]
  },
  {
   "cell_type": "markdown",
   "metadata": {},
   "source": [
    "## Introduction\n",
    "\n",
    "In this notebook, we will develop tools for fitting ToF data sets with scattering cross sections. Scattering cross sections will be calculated with `NCrystal` and fitting with `lmfit` and `ase` will be used to construct atomic structures whose lattice parameters then can be fitted. Besides that, we will also use the `distributions` module in `scipy` and (of course) `numpy` and `matplotlib` and also `pandas`."
   ]
  },
  {
   "cell_type": "markdown",
   "metadata": {},
   "source": [
    "### Dependencies"
   ]
  },
  {
   "cell_type": "code",
   "execution_count": 22,
   "metadata": {
    "ExecuteTime": {
     "end_time": "2019-10-28T16:12:30.326158Z",
     "start_time": "2019-10-28T16:12:30.316030Z"
    }
   },
   "outputs": [],
   "source": [
    "import sys\n",
    "\n",
    "import numpy as np\n",
    "import pandas\n",
    "\n",
    "from matplotlib import pyplot as plt\n",
    "%matplotlib inline  \n",
    "\n",
    "from scipy.stats import distributions\n",
    "import lmfit\n",
    "\n",
    "# set path to NCrystal if needed (most likely system dependent)\n",
    "sys.path.append('/usr/local/ncrystal/python')\n",
    "\n",
    "import NCrystal\n",
    "\n",
    "import ase\n",
    "from ase.build import bulk\n",
    "import ase.spacegroup\n",
    "from ase.visualize import view\n",
    "\n",
    "\n"
   ]
  },
  {
   "cell_type": "markdown",
   "metadata": {},
   "source": [
    "### lmfit\n",
    "lmfit (https://lmfit.github.io/lmfit-py/intro.html) is used for fitting here. \n",
    "\n",
    "In these machine-learning times, probabilistic programming modules like pyro (facebook) \n",
    "or the alternative one from google could perhaps be an alternative.\n",
    "\n",
    "#### Example\n",
    "Define a model, `f`, parameters `params` to be optimized, and function to be minimized `fom` (difference between actual data and model):"
   ]
  },
  {
   "cell_type": "code",
   "execution_count": 23,
   "metadata": {
    "ExecuteTime": {
     "end_time": "2019-10-28T16:12:33.169166Z",
     "start_time": "2019-10-28T16:12:33.164619Z"
    }
   },
   "outputs": [],
   "source": [
    "def f(x, a, b):\n",
    "    return a*x + b"
   ]
  },
  {
   "cell_type": "markdown",
   "metadata": {},
   "source": [
    "##### Generate some data\n",
    "Let's create the grid to evaluate the model function on and for which the target data are defined. We use the model function to create the target data and then add some random noise to them."
   ]
  },
  {
   "cell_type": "code",
   "execution_count": 24,
   "metadata": {
    "ExecuteTime": {
     "end_time": "2019-10-28T16:12:34.629913Z",
     "start_time": "2019-10-28T16:12:34.624632Z"
    }
   },
   "outputs": [],
   "source": [
    "N = 20\n",
    "x = distributions.uniform(loc=-2, scale=6).rvs(N) # select 20 random x values in the interval from -2 to 4"
   ]
  },
  {
   "cell_type": "code",
   "execution_count": 25,
   "metadata": {
    "ExecuteTime": {
     "end_time": "2019-10-28T16:12:35.374902Z",
     "start_time": "2019-10-28T16:12:35.367383Z"
    }
   },
   "outputs": [],
   "source": [
    "target_data = f(x, -1, 1) + distributions.norm(loc=0, scale=0.8).rvs(20)"
   ]
  },
  {
   "cell_type": "markdown",
   "metadata": {},
   "source": [
    "Have a look"
   ]
  },
  {
   "cell_type": "code",
   "execution_count": 26,
   "metadata": {
    "ExecuteTime": {
     "end_time": "2019-10-28T16:12:37.212219Z",
     "start_time": "2019-10-28T16:12:36.961480Z"
    },
    "scrolled": true
   },
   "outputs": [
    {
     "data": {
      "text/plain": [
       "[<matplotlib.lines.Line2D at 0x120462320>]"
      ]
     },
     "execution_count": 26,
     "metadata": {},
     "output_type": "execute_result"
    },
    {
     "data": {
      "image/png": "[encoded data removed]",
      "text/plain": [
       "<matplotlib.figure.Figure at 0x12026c320>"
      ]
     },
     "metadata": {
      "needs_background": "light"
     },
     "output_type": "display_data"
    }
   ],
   "source": [
    "plt.plot(x, target_data, 'o')"
   ]
  },
  {
   "cell_type": "markdown",
   "metadata": {},
   "source": [
    "##### Do the fitting"
   ]
  },
  {
   "cell_type": "markdown",
   "metadata": {},
   "source": [
    "Use the lmfit `Parameters` class (https://lmfit.github.io/lmfit-py/parameters.html) for defining parameters ()"
   ]
  },
  {
   "cell_type": "code",
   "execution_count": 27,
   "metadata": {
    "ExecuteTime": {
     "end_time": "2019-10-28T16:12:40.228077Z",
     "start_time": "2019-10-28T16:12:40.223722Z"
    }
   },
   "outputs": [],
   "source": [
    "p = lmfit.Parameters()\n",
    "p.add('a', value=1)\n",
    "p.add('b', value=-1)"
   ]
  },
  {
   "cell_type": "markdown",
   "metadata": {},
   "source": [
    "The function to be minimized:"
   ]
  },
  {
   "cell_type": "code",
   "execution_count": 28,
   "metadata": {
    "ExecuteTime": {
     "end_time": "2019-10-28T16:12:41.850556Z",
     "start_time": "2019-10-28T16:12:41.845764Z"
    }
   },
   "outputs": [],
   "source": [
    "def fom(params, x, target_data):\n",
    "    return f(x,**params) - target_data"
   ]
  },
  {
   "cell_type": "markdown",
   "metadata": {},
   "source": [
    "Define a function to be called for each iteration in the minimization"
   ]
  },
  {
   "cell_type": "code",
   "execution_count": 29,
   "metadata": {
    "ExecuteTime": {
     "end_time": "2019-10-28T16:12:43.530636Z",
     "start_time": "2019-10-28T16:12:43.524907Z"
    }
   },
   "outputs": [],
   "source": [
    "def iter_cb(params, i, resid, x, target_data):\n",
    "    print(\"{} a={a:5.2f} b={b:5.2f}\".format(i, **params.valuesdict()))"
   ]
  },
  {
   "cell_type": "code",
   "execution_count": 30,
   "metadata": {
    "ExecuteTime": {
     "end_time": "2019-10-28T16:12:44.356199Z",
     "start_time": "2019-10-28T16:12:44.352423Z"
    }
   },
   "outputs": [],
   "source": [
    "mn = lmfit.Minimizer(fom, p, fcn_args=(x, target_data), iter_cb=iter_cb)"
   ]
  },
  {
   "cell_type": "code",
   "execution_count": 31,
   "metadata": {
    "ExecuteTime": {
     "end_time": "2019-10-28T16:12:45.102489Z",
     "start_time": "2019-10-28T16:12:45.092530Z"
    }
   },
   "outputs": [
    {
     "name": "stdout",
     "output_type": "stream",
     "text": [
      "1 a= 1.00 b=-1.00\n",
      "2 a= 1.00 b=-1.00\n",
      "3 a= 1.00 b=-1.00\n",
      "4 a= 1.00 b=-1.00\n",
      "5 a= 1.00 b=-1.00\n",
      "6 a=-1.09 b= 0.70\n",
      "7 a=-1.09 b= 0.70\n",
      "8 a=-1.09 b= 0.70\n"
     ]
    }
   ],
   "source": [
    "result = mn.minimize()"
   ]
  },
  {
   "cell_type": "code",
   "execution_count": 32,
   "metadata": {
    "ExecuteTime": {
     "end_time": "2019-10-28T16:12:45.681626Z",
     "start_time": "2019-10-28T16:12:45.677614Z"
    }
   },
   "outputs": [
    {
     "name": "stdout",
     "output_type": "stream",
     "text": [
      "[[Fit Statistics]]\n",
      "    # function evals   = 8\n",
      "    # data points      = 20\n",
      "    # variables        = 2\n",
      "    chi-square         = 14.198\n",
      "    reduced chi-square = 0.789\n",
      "    Akaike info crit   = -2.853\n",
      "    Bayesian info crit = -0.861\n",
      "[[Variables]]\n",
      "    a:  -1.08771190 +/- 0.124191 (11.42%) (init= 1)\n",
      "    b:   0.69576332 +/- 0.246432 (35.42%) (init=-1)\n",
      "[[Correlations]] (unreported correlations are <  0.100)\n",
      "    C(a, b)                      = -0.592 \n"
     ]
    }
   ],
   "source": [
    "lmfit.report_fit(result)"
   ]
  },
  {
   "cell_type": "markdown",
   "metadata": {},
   "source": [
    "Plot initial guess, fitted data, and target data"
   ]
  },
  {
   "cell_type": "code",
   "execution_count": 33,
   "metadata": {
    "ExecuteTime": {
     "end_time": "2019-10-28T16:12:47.360556Z",
     "start_time": "2019-10-28T16:12:47.161380Z"
    }
   },
   "outputs": [
    {
     "data": {
      "image/png": "[encoded data removed]",
      "text/plain": [
       "<matplotlib.figure.Figure at 0x1204c7588>"
      ]
     },
     "metadata": {
      "needs_background": "light"
     },
     "output_type": "display_data"
    }
   ],
   "source": [
    "plot_elements = plt.plot(x, f(x, **result.params.valuesdict()), x, f(x, **p.valuesdict()), x, target_data, 'o')\n",
    "plt.legend(plot_elements, ('Model fit', 'Initial guess', 'Target data') )  # a bit of an indirect way for adding labels\n",
    "plt.show()"
   ]
  },
  {
   "cell_type": "markdown",
   "metadata": {},
   "source": [
    "## NCrystal\n",
    "\n",
    "NCrystal (https://github.com/mctools/ncrystal) \"for Monte Carlo simulations of thermal neutrons in\n",
    "crystals. Initial releases focus on scattering in single-crystals or\n",
    "polycrystalline materials and powders, including both coherent elastic (Bragg)\n",
    "diffraction and various models for inelastic scattering on phonons.\"\n",
    "\n",
    "The Python interface is not well developed and works to a lot of extend through strings. Moreover, it does not readily give access to the different components to the total scattering cross section or keep track of whether a scatterer is isotropic or not"
   ]
  },
  {
   "cell_type": "markdown",
   "metadata": {},
   "source": [
    "## Example"
   ]
  },
  {
   "cell_type": "code",
   "execution_count": 34,
   "metadata": {
    "ExecuteTime": {
     "end_time": "2019-10-28T16:12:49.864250Z",
     "start_time": "2019-10-28T16:12:49.858679Z"
    },
    "scrolled": true
   },
   "outputs": [],
   "source": [
    "# set path to NCrystal\n",
    "\n",
    "# create isotropic Fe scatter\n",
    "pc = NCrystal.createScatter(\"Fe_sg229_Iron-beta.ncmat;dcutoff=0.5;temp=25C\")\n",
    "\n"
   ]
  },
  {
   "cell_type": "markdown",
   "metadata": {},
   "source": [
    "Where the ncmat file contains"
   ]
  },
  {
   "cell_type": "code",
   "execution_count": 35,
   "metadata": {
    "ExecuteTime": {
     "end_time": "2019-10-28T16:12:51.470890Z",
     "start_time": "2019-10-28T16:12:51.465419Z"
    }
   },
   "outputs": [
    {
     "name": "stdout",
     "output_type": "stream",
     "text": [
      "NCMAT v1\n",
      "#converted from the cif file of the entry 0011215 in the AMCSD\n",
      "#reference: Wyckoff R W G, Crystal Structures, vol. 1, p. 7-83, 1963.\n",
      "#comment: The Debye temperature is derived from the Debye-waller factor at 293K compiled in the supplement of Acta Cryst., A52, p. 456-470, 1996\n",
      "@CELL\n",
      "    lengths 2.91 2.91 2.91 \n",
      "    angles 90. 90. 90. \n",
      "@SPACEGROUP\n",
      "    229\n",
      "@ATOMPOSITIONS\n",
      "    Fe 0. 0. 0.\n",
      "    Fe 0.5 0.5 0.5\n",
      "@DEBYETEMPERATURE\n",
      "    Fe   334.6089\n",
      "\n"
     ]
    }
   ],
   "source": [
    "print(open(\"data/Fe_sg229_Iron-beta.ncmat\").read())"
   ]
  },
  {
   "cell_type": "markdown",
   "metadata": {},
   "source": [
    "### Calculate the total cross section"
   ]
  },
  {
   "cell_type": "code",
   "execution_count": 36,
   "metadata": {
    "ExecuteTime": {
     "end_time": "2019-10-28T16:12:52.959565Z",
     "start_time": "2019-10-28T16:12:52.747970Z"
    }
   },
   "outputs": [
    {
     "data": {
      "text/plain": [
       "[<matplotlib.lines.Line2D at 0x12065b048>]"
      ]
     },
     "execution_count": 36,
     "metadata": {},
     "output_type": "execute_result"
    },
    {
     "data": {
      "image/png": "[encoded data removed]",
      "text/plain": [
       "<matplotlib.figure.Figure at 0x120f694a8>"
      ]
     },
     "metadata": {
      "needs_background": "light"
     },
     "output_type": "display_data"
    }
   ],
   "source": [
    "# create the grid we will evaluate the cross section on\n",
    "wavelengths = np.linspace(0.5, 8, 100)\n",
    "\n",
    "ekins = NCrystal.wl2ekin(wavelengths)\n",
    "\n",
    "\n",
    "# Calculate total cross sections\n",
    "xsections = pc.crossSectionNonOriented(ekins)\n",
    "\n",
    "plt.plot(wavelengths, xsections)"
   ]
  },
  {
   "cell_type": "markdown",
   "metadata": {},
   "source": [
    "### Do a Monte Carlo simulation"
   ]
  },
  {
   "cell_type": "code",
   "execution_count": 37,
   "metadata": {
    "ExecuteTime": {
     "end_time": "2019-10-28T16:12:54.847438Z",
     "start_time": "2019-10-28T16:12:54.841300Z"
    }
   },
   "outputs": [
    {
     "data": {
      "text/plain": [
       "(1.3459898641614418, -3.464730951708933)"
      ]
     },
     "execution_count": 37,
     "metadata": {},
     "output_type": "execute_result"
    }
   ],
   "source": [
    "pc.generateScatteringNonOriented(3.5)"
   ]
  },
  {
   "cell_type": "code",
   "execution_count": 38,
   "metadata": {
    "ExecuteTime": {
     "end_time": "2019-10-28T16:12:55.508324Z",
     "start_time": "2019-10-28T16:12:55.499251Z"
    }
   },
   "outputs": [
    {
     "name": "stdout",
     "output_type": "stream",
     "text": [
      "A neutron was scattered with an energy change of -3.497 meV and scattering angle of 1.072 rad\n",
      "A neutron was scattered with an energy change of -3.486 meV and scattering angle of 0.591 rad\n",
      "A neutron was scattered with an energy change of 0.000 meV and scattering angle of 0.129 rad\n",
      "A neutron was scattered with an energy change of -3.484 meV and scattering angle of 1.085 rad\n",
      "A neutron was scattered with an energy change of -3.474 meV and scattering angle of 0.905 rad\n",
      "A neutron was scattered with an energy change of -3.476 meV and scattering angle of 2.256 rad\n",
      "A neutron was scattered with an energy change of -3.477 meV and scattering angle of 0.359 rad\n",
      "A neutron was scattered with an energy change of -3.463 meV and scattering angle of 1.224 rad\n",
      "A neutron was scattered with an energy change of -3.452 meV and scattering angle of 2.412 rad\n",
      "A neutron was scattered with an energy change of -3.475 meV and scattering angle of 0.196 rad\n"
     ]
    }
   ],
   "source": [
    "for i in range(10):\n",
    "    print(\"A neutron was scattered with an energy change of {1:.3f} meV and scattering angle of {0:.3f} rad\".format(\n",
    "    *pc.generateScatteringNonOriented(3.5 ) ) )"
   ]
  },
  {
   "cell_type": "markdown",
   "metadata": {},
   "source": [
    "#### Calculate scattering"
   ]
  },
  {
   "cell_type": "code",
   "execution_count": 124,
   "metadata": {
    "ExecuteTime": {
     "end_time": "2019-10-28T18:15:12.190765Z",
     "start_time": "2019-10-28T18:15:08.466620Z"
    }
   },
   "outputs": [
    {
     "data": {
      "text/html": [
       "<div>\n",
       "<style scoped>\n",
       "    .dataframe tbody tr th:only-of-type {\n",
       "        vertical-align: middle;\n",
       "    }\n",
       "\n",
       "    .dataframe tbody tr th {\n",
       "        vertical-align: top;\n",
       "    }\n",
       "\n",
       "    .dataframe thead th {\n",
       "        text-align: right;\n",
       "    }\n",
       "</style>\n",
       "<table border=\"1\" class=\"dataframe\">\n",
       "  <thead>\n",
       "    <tr style=\"text-align: right;\">\n",
       "      <th></th>\n",
       "      <th>dE (meV)</th>\n",
       "      <th>scat. angle (rad)</th>\n",
       "      <th>scat. angle (deg)</th>\n",
       "    </tr>\n",
       "  </thead>\n",
       "  <tbody>\n",
       "    <tr>\n",
       "      <td>0</td>\n",
       "      <td>-5.492311</td>\n",
       "      <td>1.488175</td>\n",
       "      <td>85.266130</td>\n",
       "    </tr>\n",
       "    <tr>\n",
       "      <td>1</td>\n",
       "      <td>-5.457113</td>\n",
       "      <td>2.825085</td>\n",
       "      <td>161.865459</td>\n",
       "    </tr>\n",
       "    <tr>\n",
       "      <td>2</td>\n",
       "      <td>-5.451747</td>\n",
       "      <td>2.819697</td>\n",
       "      <td>161.556720</td>\n",
       "    </tr>\n",
       "    <tr>\n",
       "      <td>3</td>\n",
       "      <td>-5.456468</td>\n",
       "      <td>1.805783</td>\n",
       "      <td>103.463772</td>\n",
       "    </tr>\n",
       "    <tr>\n",
       "      <td>4</td>\n",
       "      <td>-5.480842</td>\n",
       "      <td>1.681896</td>\n",
       "      <td>96.365523</td>\n",
       "    </tr>\n",
       "    <tr>\n",
       "      <td>...</td>\n",
       "      <td>...</td>\n",
       "      <td>...</td>\n",
       "      <td>...</td>\n",
       "    </tr>\n",
       "    <tr>\n",
       "      <td>999995</td>\n",
       "      <td>-5.497406</td>\n",
       "      <td>1.134192</td>\n",
       "      <td>64.984403</td>\n",
       "    </tr>\n",
       "    <tr>\n",
       "      <td>999996</td>\n",
       "      <td>-5.415084</td>\n",
       "      <td>2.116077</td>\n",
       "      <td>121.242255</td>\n",
       "    </tr>\n",
       "    <tr>\n",
       "      <td>999997</td>\n",
       "      <td>-5.479832</td>\n",
       "      <td>1.998784</td>\n",
       "      <td>114.521864</td>\n",
       "    </tr>\n",
       "    <tr>\n",
       "      <td>999998</td>\n",
       "      <td>-5.422395</td>\n",
       "      <td>1.428368</td>\n",
       "      <td>81.839456</td>\n",
       "    </tr>\n",
       "    <tr>\n",
       "      <td>999999</td>\n",
       "      <td>-5.449343</td>\n",
       "      <td>1.219283</td>\n",
       "      <td>69.859796</td>\n",
       "    </tr>\n",
       "  </tbody>\n",
       "</table>\n",
       "<p>1000000 rows × 3 columns</p>\n",
       "</div>"
      ],
      "text/plain": [
       "        dE (meV)  scat. angle (rad)  scat. angle (deg)\n",
       "0      -5.492311           1.488175          85.266130\n",
       "1      -5.457113           2.825085         161.865459\n",
       "2      -5.451747           2.819697         161.556720\n",
       "3      -5.456468           1.805783         103.463772\n",
       "4      -5.480842           1.681896          96.365523\n",
       "...          ...                ...                ...\n",
       "999995 -5.497406           1.134192          64.984403\n",
       "999996 -5.415084           2.116077         121.242255\n",
       "999997 -5.479832           1.998784         114.521864\n",
       "999998 -5.422395           1.428368          81.839456\n",
       "999999 -5.449343           1.219283          69.859796\n",
       "\n",
       "[1000000 rows x 3 columns]"
      ]
     },
     "execution_count": 124,
     "metadata": {},
     "output_type": "execute_result"
    }
   ],
   "source": [
    "# Perforn a million events for same incoming wavelengths\n",
    "\n",
    "wavelengths = [4.5,5., 5.5]\n",
    "sample_size = 1000000\n",
    "ones = np.ones(sample_size)\n",
    "\n",
    "data_sets = {}\n",
    "\n",
    "for wl in wavelengths:\n",
    "    data = pandas.DataFrame()\n",
    "    thetas, des = pc.generateScatteringNonOriented(wl*ones)\n",
    "    data['dE (meV)'] = des\n",
    "    data['scat. angle (rad)'] = thetas\n",
    "    data['scat. angle (deg)'] = 180*thetas/np.pi\n",
    "    data_sets[wl] = data\n",
    "    \n",
    "data"
   ]
  },
  {
   "cell_type": "code",
   "execution_count": 126,
   "metadata": {
    "ExecuteTime": {
     "end_time": "2019-10-28T18:15:25.169489Z",
     "start_time": "2019-10-28T18:15:23.925308Z"
    }
   },
   "outputs": [
    {
     "data": {
      "text/plain": [
       "<matplotlib.axes._subplots.AxesSubplot at 0x142fe1978>"
      ]
     },
     "execution_count": 126,
     "metadata": {},
     "output_type": "execute_result"
    },
    {
     "data": {
      "image/png": "[encoded data removed]",
      "text/plain": [
       "<matplotlib.figure.Figure at 0x145ccebe0>"
      ]
     },
     "metadata": {
      "needs_background": "light"
     },
     "output_type": "display_data"
    }
   ],
   "source": [
    "data_sets[wl]['scat. angle (deg)'].hist(bins=500)"
   ]
  },
  {
   "cell_type": "markdown",
   "metadata": {},
   "source": [
    "The sine above reflects the isotropic scattering (non-coherent) whereas the peaks are coherent scattering (i.e. diffraction. Clearly, only scattering events are returned (i.e. no transmission). The constant wavelengths diffraction pattern at 5 AA is shown below (by zooming in)"
   ]
  },
  {
   "cell_type": "code",
   "execution_count": 127,
   "metadata": {
    "ExecuteTime": {
     "end_time": "2019-10-28T18:15:27.661035Z",
     "start_time": "2019-10-28T18:15:27.000095Z"
    }
   },
   "outputs": [
    {
     "data": {
      "text/plain": [
       "<matplotlib.axes._subplots.AxesSubplot at 0x1590045f8>"
      ]
     },
     "execution_count": 127,
     "metadata": {},
     "output_type": "execute_result"
    },
    {
     "data": {
      "image/png": "[encoded data removed]",
      "text/plain": [
       "<matplotlib.figure.Figure at 0x14c0662b0>"
      ]
     },
     "metadata": {
      "needs_background": "light"
     },
     "output_type": "display_data"
    }
   ],
   "source": [
    "data_sets[wl]['scat. angle (deg)'].hist(bins=200, range=(0,15))"
   ]
  },
  {
   "cell_type": "code",
   "execution_count": 128,
   "metadata": {
    "ExecuteTime": {
     "end_time": "2019-10-28T18:15:32.376911Z",
     "start_time": "2019-10-28T18:15:30.761325Z"
    }
   },
   "outputs": [
    {
     "data": {
      "text/plain": [
       "<matplotlib.legend.Legend at 0x13a4ecb00>"
      ]
     },
     "execution_count": 128,
     "metadata": {},
     "output_type": "execute_result"
    },
    {
     "data": {
      "image/png": "[encoded data removed]",
      "text/plain": [
       "<matplotlib.figure.Figure at 0x13a4fb780>"
      ]
     },
     "metadata": {
      "needs_background": "light"
     },
     "output_type": "display_data"
    }
   ],
   "source": [
    "#histograms = [np.histogram(data_sets[wl]['scat. angle (deg)'], bins=200, range=[0,15]) for wl in wavelengths]\n",
    "#xbin = 0.5*(histograms[0][1][1:] + histograms[0][1][:-1])\n",
    "for wl in wavelengths:\n",
    "    plt.hist(data_sets[wl]['scat. angle (deg)'], np.linspace(0,15,200), label='{} AA'.format(wl))\n",
    "    \n",
    "plt.legend(loc='upper right')\n"
   ]
  },
  {
   "cell_type": "code",
   "execution_count": 91,
   "metadata": {
    "ExecuteTime": {
     "end_time": "2019-10-28T16:48:06.554228Z",
     "start_time": "2019-10-28T16:48:06.544553Z"
    }
   },
   "outputs": [],
   "source": [
    "np.histogram?"
   ]
  },
  {
   "cell_type": "code",
   "execution_count": 78,
   "metadata": {
    "ExecuteTime": {
     "end_time": "2019-10-28T16:35:19.043892Z",
     "start_time": "2019-10-28T16:35:19.037710Z"
    }
   },
   "outputs": [
    {
     "data": {
      "text/plain": [
       "(array([2029087,   68630,  106355,  136533,  153426,  154787,  140975,\n",
       "         112657,   72388,   25162]),\n",
       " array([ -2.99999781,  15.28737675,  33.57475131,  51.86212587,\n",
       "         70.14950042,  88.43687498, 106.72424954, 125.0116241 ,\n",
       "        143.29899866, 161.58637322, 179.87374778]))"
      ]
     },
     "execution_count": 78,
     "metadata": {},
     "output_type": "execute_result"
    }
   ],
   "source": []
  },
  {
   "cell_type": "markdown",
   "metadata": {},
   "source": [
    "## Atomic Simulation Environment (ASE)\n",
    "ASE is useful for constructing advanced crystal structures. Here will use the simple build features for bulk systems and the spacegroup module to get the spacegroup of a structure"
   ]
  },
  {
   "cell_type": "code",
   "execution_count": 38,
   "metadata": {
    "ExecuteTime": {
     "end_time": "2019-10-25T15:56:34.847973Z",
     "start_time": "2019-10-25T15:56:34.823484Z"
    }
   },
   "outputs": [],
   "source": []
  },
  {
   "cell_type": "code",
   "execution_count": 39,
   "metadata": {
    "ExecuteTime": {
     "end_time": "2019-10-25T15:56:35.769453Z",
     "start_time": "2019-10-25T15:56:35.766436Z"
    }
   },
   "outputs": [],
   "source": [
    "Cu_prim = bulk('Cu')"
   ]
  },
  {
   "cell_type": "code",
   "execution_count": 40,
   "metadata": {
    "ExecuteTime": {
     "end_time": "2019-10-25T15:56:36.236563Z",
     "start_time": "2019-10-25T15:56:36.230954Z"
    }
   },
   "outputs": [
    {
     "name": "stdout",
     "output_type": "stream",
     "text": [
      "[ 2.55265548  2.55265548  2.55265548 60.         60.         60.        ]\n"
     ]
    }
   ],
   "source": [
    "print(Cu_prim.get_cell_lengths_and_angles())"
   ]
  },
  {
   "cell_type": "code",
   "execution_count": 41,
   "metadata": {
    "ExecuteTime": {
     "end_time": "2019-10-25T15:56:36.996069Z",
     "start_time": "2019-10-25T15:56:36.956816Z"
    }
   },
   "outputs": [
    {
     "data": {
      "text/plain": [
       "Spacegroup(225, setting=1)"
      ]
     },
     "execution_count": 41,
     "metadata": {},
     "output_type": "execute_result"
    }
   ],
   "source": [
    "ase.spacegroup.get_spacegroup(Cu_prim)"
   ]
  },
  {
   "cell_type": "code",
   "execution_count": 42,
   "metadata": {
    "ExecuteTime": {
     "end_time": "2019-10-25T15:56:40.845461Z",
     "start_time": "2019-10-25T15:56:40.841692Z"
    }
   },
   "outputs": [],
   "source": [
    "Cu_conv = bulk('Cu', cubic=True)"
   ]
  },
  {
   "cell_type": "code",
   "execution_count": 43,
   "metadata": {
    "ExecuteTime": {
     "end_time": "2019-10-25T15:56:41.764417Z",
     "start_time": "2019-10-25T15:56:41.758061Z"
    }
   },
   "outputs": [
    {
     "name": "stdout",
     "output_type": "stream",
     "text": [
      "[ 3.61  3.61  3.61 90.   90.   90.  ]\n"
     ]
    }
   ],
   "source": [
    "print(Cu_conv.get_cell_lengths_and_angles())"
   ]
  },
  {
   "cell_type": "code",
   "execution_count": 44,
   "metadata": {
    "ExecuteTime": {
     "end_time": "2019-10-25T15:56:42.725662Z",
     "start_time": "2019-10-25T15:56:42.692075Z"
    }
   },
   "outputs": [
    {
     "data": {
      "text/plain": [
       "Spacegroup(225, setting=1)"
      ]
     },
     "execution_count": 44,
     "metadata": {},
     "output_type": "execute_result"
    }
   ],
   "source": [
    "ase.spacegroup.get_spacegroup(Cu_conv)"
   ]
  },
  {
   "cell_type": "code",
   "execution_count": 45,
   "metadata": {
    "ExecuteTime": {
     "end_time": "2019-10-25T15:56:43.391084Z",
     "start_time": "2019-10-25T15:56:43.387410Z"
    }
   },
   "outputs": [],
   "source": [
    "Cu_bcc = bulk('Cu', crystalstructure='bcc', a = 3.)"
   ]
  },
  {
   "cell_type": "code",
   "execution_count": 46,
   "metadata": {
    "ExecuteTime": {
     "end_time": "2019-10-25T15:56:43.957123Z",
     "start_time": "2019-10-25T15:56:43.952055Z"
    }
   },
   "outputs": [
    {
     "name": "stdout",
     "output_type": "stream",
     "text": [
      "[  2.59807621   2.59807621   2.59807621 109.47122063 109.47122063\n",
      " 109.47122063]\n"
     ]
    }
   ],
   "source": [
    "print(Cu_bcc.get_cell_lengths_and_angles())"
   ]
  },
  {
   "cell_type": "code",
   "execution_count": 47,
   "metadata": {
    "ExecuteTime": {
     "end_time": "2019-10-25T15:56:44.619548Z",
     "start_time": "2019-10-25T15:56:44.594839Z"
    }
   },
   "outputs": [
    {
     "data": {
      "text/plain": [
       "Spacegroup(229, setting=1)"
      ]
     },
     "execution_count": 47,
     "metadata": {},
     "output_type": "execute_result"
    }
   ],
   "source": [
    "ase.spacegroup.get_spacegroup(Cu_bcc)"
   ]
  },
  {
   "cell_type": "markdown",
   "metadata": {},
   "source": [
    "Creating a unit cell matrix from lattice vector lengths and angles"
   ]
  },
  {
   "cell_type": "code",
   "execution_count": 48,
   "metadata": {
    "ExecuteTime": {
     "end_time": "2019-10-25T15:56:45.931314Z",
     "start_time": "2019-10-25T15:56:45.924302Z"
    }
   },
   "outputs": [
    {
     "data": {
      "text/plain": [
       "array([[ 4.00000000e+00,  0.00000000e+00,  0.00000000e+00],\n",
       "       [ 1.73205081e+00,  1.00000000e+00,  0.00000000e+00],\n",
       "       [-2.50000000e+00,  4.33012702e+00,  1.17804023e-07]])"
      ]
     },
     "execution_count": 48,
     "metadata": {},
     "output_type": "execute_result"
    }
   ],
   "source": [
    "cell = ase.geometry.cellpar_to_cell([4., 2., 5., 90., 120., 30])\n",
    "cell"
   ]
  },
  {
   "cell_type": "markdown",
   "metadata": {},
   "source": [
    "### ASE Visualization\n",
    "Different viewers can be used, e.g. nglview inline if jupyter is set up for it. The default built in one is pretty primitive but does the job. Note that it is possible to change to other viewers from the menu if they are installed, e.g. Avogadro."
   ]
  },
  {
   "cell_type": "code",
   "execution_count": 49,
   "metadata": {
    "ExecuteTime": {
     "end_time": "2019-10-25T15:56:47.487885Z",
     "start_time": "2019-10-25T15:56:47.458145Z"
    }
   },
   "outputs": [],
   "source": [
    "view(Cu_conv)  "
   ]
  },
  {
   "cell_type": "markdown",
   "metadata": {},
   "source": [
    "Specifically for Jupyter"
   ]
  },
  {
   "cell_type": "code",
   "execution_count": 51,
   "metadata": {
    "ExecuteTime": {
     "end_time": "2019-10-25T15:56:59.995089Z",
     "start_time": "2019-10-25T15:56:59.986622Z"
    }
   },
   "outputs": [
    {
     "data": {
      "text/html": [
       "<html>\n",
       " <head>\n",
       "  <title>ASE atomic visualization</title>\n",
       "  <link rel=\"stylesheet\" type=\"text/css\"\n",
       "   href=\"https://www.x3dom.org/x3dom/release/x3dom.css\">\n",
       "  </link>\n",
       "  <script type=\"text/javascript\"\n",
       "   src=\"https://www.x3dom.org/x3dom/release/x3dom.js\">\n",
       "  </script>\n",
       " </head>\n",
       " <body>\n",
       "  <X3D style=\"margin:0; padding:0; width:100%; height:100%; border:none;\">\n",
       "   <Scene>\n",
       "    <Transform translation=\"0.00 0.00 0.00\">\n",
       "     <Shape>\n",
       "      <Appearance>\n",
       "       <Material diffuseColor=\"0.784 0.502 0.200\" specularColor=\"0.5 0.5 0.5\">\n",
       "       </Material>\n",
       "      </Appearance>\n",
       "      <Sphere radius=\"1.32\">\n",
       "      </Sphere>\n",
       "     </Shape>\n",
       "    </Transform>\n",
       "    <Transform translation=\"0.00 1.80 1.80\">\n",
       "     <Shape>\n",
       "      <Appearance>\n",
       "       <Material diffuseColor=\"0.784 0.502 0.200\" specularColor=\"0.5 0.5 0.5\">\n",
       "       </Material>\n",
       "      </Appearance>\n",
       "      <Sphere radius=\"1.32\">\n",
       "      </Sphere>\n",
       "     </Shape>\n",
       "    </Transform>\n",
       "    <Transform translation=\"1.80 0.00 1.80\">\n",
       "     <Shape>\n",
       "      <Appearance>\n",
       "       <Material diffuseColor=\"0.784 0.502 0.200\" specularColor=\"0.5 0.5 0.5\">\n",
       "       </Material>\n",
       "      </Appearance>\n",
       "      <Sphere radius=\"1.32\">\n",
       "      </Sphere>\n",
       "     </Shape>\n",
       "    </Transform>\n",
       "    <Transform translation=\"1.80 1.80 0.00\">\n",
       "     <Shape>\n",
       "      <Appearance>\n",
       "       <Material diffuseColor=\"0.784 0.502 0.200\" specularColor=\"0.5 0.5 0.5\">\n",
       "       </Material>\n",
       "      </Appearance>\n",
       "      <Sphere radius=\"1.32\">\n",
       "      </Sphere>\n",
       "     </Shape>\n",
       "    </Transform>\n",
       "   </Scene>\n",
       "  </X3D>\n",
       " </body>\n",
       "</html>\n"
      ],
      "text/plain": [
       "<IPython.core.display.HTML object>"
      ]
     },
     "execution_count": 51,
     "metadata": {},
     "output_type": "execute_result"
    }
   ],
   "source": [
    "view(Cu_conv, viewer='x3d')"
   ]
  },
  {
   "cell_type": "code",
   "execution_count": 52,
   "metadata": {
    "ExecuteTime": {
     "end_time": "2019-10-25T15:57:17.551602Z",
     "start_time": "2019-10-25T15:57:17.539820Z"
    }
   },
   "outputs": [
    {
     "name": "stdout",
     "output_type": "stream",
     "text": [
      "nglview is not properly installed\n"
     ]
    }
   ],
   "source": [
    "try:\n",
    "    view(Cu_conv, viewer='ngl')  # only works if nglview is setup\\\n",
    "except ModuleNotFoundError:\n",
    "    print(\"nglview is not properly installed\")"
   ]
  },
  {
   "cell_type": "code",
   "execution_count": 53,
   "metadata": {
    "ExecuteTime": {
     "end_time": "2019-10-25T15:57:18.930924Z",
     "start_time": "2019-10-25T15:57:18.914812Z"
    }
   },
   "outputs": [
    {
     "data": {
      "text/html": [
       "<html>\n",
       " <head>\n",
       "  <title>ASE atomic visualization</title>\n",
       "  <link rel=\"stylesheet\" type=\"text/css\"\n",
       "   href=\"https://www.x3dom.org/x3dom/release/x3dom.css\">\n",
       "  </link>\n",
       "  <script type=\"text/javascript\"\n",
       "   src=\"https://www.x3dom.org/x3dom/release/x3dom.js\">\n",
       "  </script>\n",
       " </head>\n",
       " <body>\n",
       "  <X3D style=\"margin:0; padding:0; width:100%; height:100%; border:none;\">\n",
       "   <Scene>\n",
       "    <Transform translation=\"0.00 0.00 0.00\">\n",
       "     <Shape>\n",
       "      <Appearance>\n",
       "       <Material diffuseColor=\"0.784 0.502 0.200\" specularColor=\"0.5 0.5 0.5\">\n",
       "       </Material>\n",
       "      </Appearance>\n",
       "      <Sphere radius=\"1.32\">\n",
       "      </Sphere>\n",
       "     </Shape>\n",
       "    </Transform>\n",
       "    <Transform translation=\"0.00 1.80 1.80\">\n",
       "     <Shape>\n",
       "      <Appearance>\n",
       "       <Material diffuseColor=\"0.784 0.502 0.200\" specularColor=\"0.5 0.5 0.5\">\n",
       "       </Material>\n",
       "      </Appearance>\n",
       "      <Sphere radius=\"1.32\">\n",
       "      </Sphere>\n",
       "     </Shape>\n",
       "    </Transform>\n",
       "    <Transform translation=\"1.80 0.00 1.80\">\n",
       "     <Shape>\n",
       "      <Appearance>\n",
       "       <Material diffuseColor=\"0.784 0.502 0.200\" specularColor=\"0.5 0.5 0.5\">\n",
       "       </Material>\n",
       "      </Appearance>\n",
       "      <Sphere radius=\"1.32\">\n",
       "      </Sphere>\n",
       "     </Shape>\n",
       "    </Transform>\n",
       "    <Transform translation=\"1.80 1.80 0.00\">\n",
       "     <Shape>\n",
       "      <Appearance>\n",
       "       <Material diffuseColor=\"0.784 0.502 0.200\" specularColor=\"0.5 0.5 0.5\">\n",
       "       </Material>\n",
       "      </Appearance>\n",
       "      <Sphere radius=\"1.32\">\n",
       "      </Sphere>\n",
       "     </Shape>\n",
       "    </Transform>\n",
       "    <Transform translation=\"0.00 0.00 3.61\">\n",
       "     <Shape>\n",
       "      <Appearance>\n",
       "       <Material diffuseColor=\"0.784 0.502 0.200\" specularColor=\"0.5 0.5 0.5\">\n",
       "       </Material>\n",
       "      </Appearance>\n",
       "      <Sphere radius=\"1.32\">\n",
       "      </Sphere>\n",
       "     </Shape>\n",
       "    </Transform>\n",
       "    <Transform translation=\"0.00 1.80 5.42\">\n",
       "     <Shape>\n",
       "      <Appearance>\n",
       "       <Material diffuseColor=\"0.784 0.502 0.200\" specularColor=\"0.5 0.5 0.5\">\n",
       "       </Material>\n",
       "      </Appearance>\n",
       "      <Sphere radius=\"1.32\">\n",
       "      </Sphere>\n",
       "     </Shape>\n",
       "    </Transform>\n",
       "    <Transform translation=\"1.80 0.00 5.42\">\n",
       "     <Shape>\n",
       "      <Appearance>\n",
       "       <Material diffuseColor=\"0.784 0.502 0.200\" specularColor=\"0.5 0.5 0.5\">\n",
       "       </Material>\n",
       "      </Appearance>\n",
       "      <Sphere radius=\"1.32\">\n",
       "      </Sphere>\n",
       "     </Shape>\n",
       "    </Transform>\n",
       "    <Transform translation=\"1.80 1.80 3.61\">\n",
       "     <Shape>\n",
       "      <Appearance>\n",
       "       <Material diffuseColor=\"0.784 0.502 0.200\" specularColor=\"0.5 0.5 0.5\">\n",
       "       </Material>\n",
       "      </Appearance>\n",
       "      <Sphere radius=\"1.32\">\n",
       "      </Sphere>\n",
       "     </Shape>\n",
       "    </Transform>\n",
       "    <Transform translation=\"0.00 0.00 7.22\">\n",
       "     <Shape>\n",
       "      <Appearance>\n",
       "       <Material diffuseColor=\"0.784 0.502 0.200\" specularColor=\"0.5 0.5 0.5\">\n",
       "       </Material>\n",
       "      </Appearance>\n",
       "      <Sphere radius=\"1.32\">\n",
       "      </Sphere>\n",
       "     </Shape>\n",
       "    </Transform>\n",
       "    <Transform translation=\"0.00 1.80 9.03\">\n",
       "     <Shape>\n",
       "      <Appearance>\n",
       "       <Material diffuseColor=\"0.784 0.502 0.200\" specularColor=\"0.5 0.5 0.5\">\n",
       "       </Material>\n",
       "      </Appearance>\n",
       "      <Sphere radius=\"1.32\">\n",
       "      </Sphere>\n",
       "     </Shape>\n",
       "    </Transform>\n",
       "    <Transform translation=\"1.80 0.00 9.03\">\n",
       "     <Shape>\n",
       "      <Appearance>\n",
       "       <Material diffuseColor=\"0.784 0.502 0.200\" specularColor=\"0.5 0.5 0.5\">\n",
       "       </Material>\n",
       "      </Appearance>\n",
       "      <Sphere radius=\"1.32\">\n",
       "      </Sphere>\n",
       "     </Shape>\n",
       "    </Transform>\n",
       "    <Transform translation=\"1.80 1.80 7.22\">\n",
       "     <Shape>\n",
       "      <Appearance>\n",
       "       <Material diffuseColor=\"0.784 0.502 0.200\" specularColor=\"0.5 0.5 0.5\">\n",
       "       </Material>\n",
       "      </Appearance>\n",
       "      <Sphere radius=\"1.32\">\n",
       "      </Sphere>\n",
       "     </Shape>\n",
       "    </Transform>\n",
       "    <Transform translation=\"0.00 3.61 0.00\">\n",
       "     <Shape>\n",
       "      <Appearance>\n",
       "       <Material diffuseColor=\"0.784 0.502 0.200\" specularColor=\"0.5 0.5 0.5\">\n",
       "       </Material>\n",
       "      </Appearance>\n",
       "      <Sphere radius=\"1.32\">\n",
       "      </Sphere>\n",
       "     </Shape>\n",
       "    </Transform>\n",
       "    <Transform translation=\"0.00 5.42 1.80\">\n",
       "     <Shape>\n",
       "      <Appearance>\n",
       "       <Material diffuseColor=\"0.784 0.502 0.200\" specularColor=\"0.5 0.5 0.5\">\n",
       "       </Material>\n",
       "      </Appearance>\n",
       "      <Sphere radius=\"1.32\">\n",
       "      </Sphere>\n",
       "     </Shape>\n",
       "    </Transform>\n",
       "    <Transform translation=\"1.80 3.61 1.80\">\n",
       "     <Shape>\n",
       "      <Appearance>\n",
       "       <Material diffuseColor=\"0.784 0.502 0.200\" specularColor=\"0.5 0.5 0.5\">\n",
       "       </Material>\n",
       "      </Appearance>\n",
       "      <Sphere radius=\"1.32\">\n",
       "      </Sphere>\n",
       "     </Shape>\n",
       "    </Transform>\n",
       "    <Transform translation=\"1.80 5.42 0.00\">\n",
       "     <Shape>\n",
       "      <Appearance>\n",
       "       <Material diffuseColor=\"0.784 0.502 0.200\" specularColor=\"0.5 0.5 0.5\">\n",
       "       </Material>\n",
       "      </Appearance>\n",
       "      <Sphere radius=\"1.32\">\n",
       "      </Sphere>\n",
       "     </Shape>\n",
       "    </Transform>\n",
       "    <Transform translation=\"0.00 3.61 3.61\">\n",
       "     <Shape>\n",
       "      <Appearance>\n",
       "       <Material diffuseColor=\"0.784 0.502 0.200\" specularColor=\"0.5 0.5 0.5\">\n",
       "       </Material>\n",
       "      </Appearance>\n",
       "      <Sphere radius=\"1.32\">\n",
       "      </Sphere>\n",
       "     </Shape>\n",
       "    </Transform>\n",
       "    <Transform translation=\"0.00 5.42 5.42\">\n",
       "     <Shape>\n",
       "      <Appearance>\n",
       "       <Material diffuseColor=\"0.784 0.502 0.200\" specularColor=\"0.5 0.5 0.5\">\n",
       "       </Material>\n",
       "      </Appearance>\n",
       "      <Sphere radius=\"1.32\">\n",
       "      </Sphere>\n",
       "     </Shape>\n",
       "    </Transform>\n",
       "    <Transform translation=\"1.80 3.61 5.42\">\n",
       "     <Shape>\n",
       "      <Appearance>\n",
       "       <Material diffuseColor=\"0.784 0.502 0.200\" specularColor=\"0.5 0.5 0.5\">\n",
       "       </Material>\n",
       "      </Appearance>\n",
       "      <Sphere radius=\"1.32\">\n",
       "      </Sphere>\n",
       "     </Shape>\n",
       "    </Transform>\n",
       "    <Transform translation=\"1.80 5.42 3.61\">\n",
       "     <Shape>\n",
       "      <Appearance>\n",
       "       <Material diffuseColor=\"0.784 0.502 0.200\" specularColor=\"0.5 0.5 0.5\">\n",
       "       </Material>\n",
       "      </Appearance>\n",
       "      <Sphere radius=\"1.32\">\n",
       "      </Sphere>\n",
       "     </Shape>\n",
       "    </Transform>\n",
       "    <Transform translation=\"0.00 3.61 7.22\">\n",
       "     <Shape>\n",
       "      <Appearance>\n",
       "       <Material diffuseColor=\"0.784 0.502 0.200\" specularColor=\"0.5 0.5 0.5\">\n",
       "       </Material>\n",
       "      </Appearance>\n",
       "      <Sphere radius=\"1.32\">\n",
       "      </Sphere>\n",
       "     </Shape>\n",
       "    </Transform>\n",
       "    <Transform translation=\"0.00 5.42 9.03\">\n",
       "     <Shape>\n",
       "      <Appearance>\n",
       "       <Material diffuseColor=\"0.784 0.502 0.200\" specularColor=\"0.5 0.5 0.5\">\n",
       "       </Material>\n",
       "      </Appearance>\n",
       "      <Sphere radius=\"1.32\">\n",
       "      </Sphere>\n",
       "     </Shape>\n",
       "    </Transform>\n",
       "    <Transform translation=\"1.80 3.61 9.03\">\n",
       "     <Shape>\n",
       "      <Appearance>\n",
       "       <Material diffuseColor=\"0.784 0.502 0.200\" specularColor=\"0.5 0.5 0.5\">\n",
       "       </Material>\n",
       "      </Appearance>\n",
       "      <Sphere radius=\"1.32\">\n",
       "      </Sphere>\n",
       "     </Shape>\n",
       "    </Transform>\n",
       "    <Transform translation=\"1.80 5.42 7.22\">\n",
       "     <Shape>\n",
       "      <Appearance>\n",
       "       <Material diffuseColor=\"0.784 0.502 0.200\" specularColor=\"0.5 0.5 0.5\">\n",
       "       </Material>\n",
       "      </Appearance>\n",
       "      <Sphere radius=\"1.32\">\n",
       "      </Sphere>\n",
       "     </Shape>\n",
       "    </Transform>\n",
       "    <Transform translation=\"0.00 7.22 0.00\">\n",
       "     <Shape>\n",
       "      <Appearance>\n",
       "       <Material diffuseColor=\"0.784 0.502 0.200\" specularColor=\"0.5 0.5 0.5\">\n",
       "       </Material>\n",
       "      </Appearance>\n",
       "      <Sphere radius=\"1.32\">\n",
       "      </Sphere>\n",
       "     </Shape>\n",
       "    </Transform>\n",
       "    <Transform translation=\"0.00 9.03 1.80\">\n",
       "     <Shape>\n",
       "      <Appearance>\n",
       "       <Material diffuseColor=\"0.784 0.502 0.200\" specularColor=\"0.5 0.5 0.5\">\n",
       "       </Material>\n",
       "      </Appearance>\n",
       "      <Sphere radius=\"1.32\">\n",
       "      </Sphere>\n",
       "     </Shape>\n",
       "    </Transform>\n",
       "    <Transform translation=\"1.80 7.22 1.80\">\n",
       "     <Shape>\n",
       "      <Appearance>\n",
       "       <Material diffuseColor=\"0.784 0.502 0.200\" specularColor=\"0.5 0.5 0.5\">\n",
       "       </Material>\n",
       "      </Appearance>\n",
       "      <Sphere radius=\"1.32\">\n",
       "      </Sphere>\n",
       "     </Shape>\n",
       "    </Transform>\n",
       "    <Transform translation=\"1.80 9.03 0.00\">\n",
       "     <Shape>\n",
       "      <Appearance>\n",
       "       <Material diffuseColor=\"0.784 0.502 0.200\" specularColor=\"0.5 0.5 0.5\">\n",
       "       </Material>\n",
       "      </Appearance>\n",
       "      <Sphere radius=\"1.32\">\n",
       "      </Sphere>\n",
       "     </Shape>\n",
       "    </Transform>\n",
       "    <Transform translation=\"0.00 7.22 3.61\">\n",
       "     <Shape>\n",
       "      <Appearance>\n",
       "       <Material diffuseColor=\"0.784 0.502 0.200\" specularColor=\"0.5 0.5 0.5\">\n",
       "       </Material>\n",
       "      </Appearance>\n",
       "      <Sphere radius=\"1.32\">\n",
       "      </Sphere>\n",
       "     </Shape>\n",
       "    </Transform>\n",
       "    <Transform translation=\"0.00 9.03 5.42\">\n",
       "     <Shape>\n",
       "      <Appearance>\n",
       "       <Material diffuseColor=\"0.784 0.502 0.200\" specularColor=\"0.5 0.5 0.5\">\n",
       "       </Material>\n",
       "      </Appearance>\n",
       "      <Sphere radius=\"1.32\">\n",
       "      </Sphere>\n",
       "     </Shape>\n",
       "    </Transform>\n",
       "    <Transform translation=\"1.80 7.22 5.42\">\n",
       "     <Shape>\n",
       "      <Appearance>\n",
       "       <Material diffuseColor=\"0.784 0.502 0.200\" specularColor=\"0.5 0.5 0.5\">\n",
       "       </Material>\n",
       "      </Appearance>\n",
       "      <Sphere radius=\"1.32\">\n",
       "      </Sphere>\n",
       "     </Shape>\n",
       "    </Transform>\n",
       "    <Transform translation=\"1.80 9.03 3.61\">\n",
       "     <Shape>\n",
       "      <Appearance>\n",
       "       <Material diffuseColor=\"0.784 0.502 0.200\" specularColor=\"0.5 0.5 0.5\">\n",
       "       </Material>\n",
       "      </Appearance>\n",
       "      <Sphere radius=\"1.32\">\n",
       "      </Sphere>\n",
       "     </Shape>\n",
       "    </Transform>\n",
       "    <Transform translation=\"0.00 7.22 7.22\">\n",
       "     <Shape>\n",
       "      <Appearance>\n",
       "       <Material diffuseColor=\"0.784 0.502 0.200\" specularColor=\"0.5 0.5 0.5\">\n",
       "       </Material>\n",
       "      </Appearance>\n",
       "      <Sphere radius=\"1.32\">\n",
       "      </Sphere>\n",
       "     </Shape>\n",
       "    </Transform>\n",
       "    <Transform translation=\"0.00 9.03 9.03\">\n",
       "     <Shape>\n",
       "      <Appearance>\n",
       "       <Material diffuseColor=\"0.784 0.502 0.200\" specularColor=\"0.5 0.5 0.5\">\n",
       "       </Material>\n",
       "      </Appearance>\n",
       "      <Sphere radius=\"1.32\">\n",
       "      </Sphere>\n",
       "     </Shape>\n",
       "    </Transform>\n",
       "    <Transform translation=\"1.80 7.22 9.03\">\n",
       "     <Shape>\n",
       "      <Appearance>\n",
       "       <Material diffuseColor=\"0.784 0.502 0.200\" specularColor=\"0.5 0.5 0.5\">\n",
       "       </Material>\n",
       "      </Appearance>\n",
       "      <Sphere radius=\"1.32\">\n",
       "      </Sphere>\n",
       "     </Shape>\n",
       "    </Transform>\n",
       "    <Transform translation=\"1.80 9.03 7.22\">\n",
       "     <Shape>\n",
       "      <Appearance>\n",
       "       <Material diffuseColor=\"0.784 0.502 0.200\" specularColor=\"0.5 0.5 0.5\">\n",
       "       </Material>\n",
       "      </Appearance>\n",
       "      <Sphere radius=\"1.32\">\n",
       "      </Sphere>\n",
       "     </Shape>\n",
       "    </Transform>\n",
       "    <Transform translation=\"3.61 0.00 0.00\">\n",
       "     <Shape>\n",
       "      <Appearance>\n",
       "       <Material diffuseColor=\"0.784 0.502 0.200\" specularColor=\"0.5 0.5 0.5\">\n",
       "       </Material>\n",
       "      </Appearance>\n",
       "      <Sphere radius=\"1.32\">\n",
       "      </Sphere>\n",
       "     </Shape>\n",
       "    </Transform>\n",
       "    <Transform translation=\"3.61 1.80 1.80\">\n",
       "     <Shape>\n",
       "      <Appearance>\n",
       "       <Material diffuseColor=\"0.784 0.502 0.200\" specularColor=\"0.5 0.5 0.5\">\n",
       "       </Material>\n",
       "      </Appearance>\n",
       "      <Sphere radius=\"1.32\">\n",
       "      </Sphere>\n",
       "     </Shape>\n",
       "    </Transform>\n",
       "    <Transform translation=\"5.42 0.00 1.80\">\n",
       "     <Shape>\n",
       "      <Appearance>\n",
       "       <Material diffuseColor=\"0.784 0.502 0.200\" specularColor=\"0.5 0.5 0.5\">\n",
       "       </Material>\n",
       "      </Appearance>\n",
       "      <Sphere radius=\"1.32\">\n",
       "      </Sphere>\n",
       "     </Shape>\n",
       "    </Transform>\n",
       "    <Transform translation=\"5.42 1.80 0.00\">\n",
       "     <Shape>\n",
       "      <Appearance>\n",
       "       <Material diffuseColor=\"0.784 0.502 0.200\" specularColor=\"0.5 0.5 0.5\">\n",
       "       </Material>\n",
       "      </Appearance>\n",
       "      <Sphere radius=\"1.32\">\n",
       "      </Sphere>\n",
       "     </Shape>\n",
       "    </Transform>\n",
       "    <Transform translation=\"3.61 0.00 3.61\">\n",
       "     <Shape>\n",
       "      <Appearance>\n",
       "       <Material diffuseColor=\"0.784 0.502 0.200\" specularColor=\"0.5 0.5 0.5\">\n",
       "       </Material>\n",
       "      </Appearance>\n",
       "      <Sphere radius=\"1.32\">\n",
       "      </Sphere>\n",
       "     </Shape>\n",
       "    </Transform>\n",
       "    <Transform translation=\"3.61 1.80 5.42\">\n",
       "     <Shape>\n",
       "      <Appearance>\n",
       "       <Material diffuseColor=\"0.784 0.502 0.200\" specularColor=\"0.5 0.5 0.5\">\n",
       "       </Material>\n",
       "      </Appearance>\n",
       "      <Sphere radius=\"1.32\">\n",
       "      </Sphere>\n",
       "     </Shape>\n",
       "    </Transform>\n",
       "    <Transform translation=\"5.42 0.00 5.42\">\n",
       "     <Shape>\n",
       "      <Appearance>\n",
       "       <Material diffuseColor=\"0.784 0.502 0.200\" specularColor=\"0.5 0.5 0.5\">\n",
       "       </Material>\n",
       "      </Appearance>\n",
       "      <Sphere radius=\"1.32\">\n",
       "      </Sphere>\n",
       "     </Shape>\n",
       "    </Transform>\n",
       "    <Transform translation=\"5.42 1.80 3.61\">\n",
       "     <Shape>\n",
       "      <Appearance>\n",
       "       <Material diffuseColor=\"0.784 0.502 0.200\" specularColor=\"0.5 0.5 0.5\">\n",
       "       </Material>\n",
       "      </Appearance>\n",
       "      <Sphere radius=\"1.32\">\n",
       "      </Sphere>\n",
       "     </Shape>\n",
       "    </Transform>\n",
       "    <Transform translation=\"3.61 0.00 7.22\">\n",
       "     <Shape>\n",
       "      <Appearance>\n",
       "       <Material diffuseColor=\"0.784 0.502 0.200\" specularColor=\"0.5 0.5 0.5\">\n",
       "       </Material>\n",
       "      </Appearance>\n",
       "      <Sphere radius=\"1.32\">\n",
       "      </Sphere>\n",
       "     </Shape>\n",
       "    </Transform>\n",
       "    <Transform translation=\"3.61 1.80 9.03\">\n",
       "     <Shape>\n",
       "      <Appearance>\n",
       "       <Material diffuseColor=\"0.784 0.502 0.200\" specularColor=\"0.5 0.5 0.5\">\n",
       "       </Material>\n",
       "      </Appearance>\n",
       "      <Sphere radius=\"1.32\">\n",
       "      </Sphere>\n",
       "     </Shape>\n",
       "    </Transform>\n",
       "    <Transform translation=\"5.42 0.00 9.03\">\n",
       "     <Shape>\n",
       "      <Appearance>\n",
       "       <Material diffuseColor=\"0.784 0.502 0.200\" specularColor=\"0.5 0.5 0.5\">\n",
       "       </Material>\n",
       "      </Appearance>\n",
       "      <Sphere radius=\"1.32\">\n",
       "      </Sphere>\n",
       "     </Shape>\n",
       "    </Transform>\n",
       "    <Transform translation=\"5.42 1.80 7.22\">\n",
       "     <Shape>\n",
       "      <Appearance>\n",
       "       <Material diffuseColor=\"0.784 0.502 0.200\" specularColor=\"0.5 0.5 0.5\">\n",
       "       </Material>\n",
       "      </Appearance>\n",
       "      <Sphere radius=\"1.32\">\n",
       "      </Sphere>\n",
       "     </Shape>\n",
       "    </Transform>\n",
       "    <Transform translation=\"3.61 3.61 0.00\">\n",
       "     <Shape>\n",
       "      <Appearance>\n",
       "       <Material diffuseColor=\"0.784 0.502 0.200\" specularColor=\"0.5 0.5 0.5\">\n",
       "       </Material>\n",
       "      </Appearance>\n",
       "      <Sphere radius=\"1.32\">\n",
       "      </Sphere>\n",
       "     </Shape>\n",
       "    </Transform>\n",
       "    <Transform translation=\"3.61 5.42 1.80\">\n",
       "     <Shape>\n",
       "      <Appearance>\n",
       "       <Material diffuseColor=\"0.784 0.502 0.200\" specularColor=\"0.5 0.5 0.5\">\n",
       "       </Material>\n",
       "      </Appearance>\n",
       "      <Sphere radius=\"1.32\">\n",
       "      </Sphere>\n",
       "     </Shape>\n",
       "    </Transform>\n",
       "    <Transform translation=\"5.42 3.61 1.80\">\n",
       "     <Shape>\n",
       "      <Appearance>\n",
       "       <Material diffuseColor=\"0.784 0.502 0.200\" specularColor=\"0.5 0.5 0.5\">\n",
       "       </Material>\n",
       "      </Appearance>\n",
       "      <Sphere radius=\"1.32\">\n",
       "      </Sphere>\n",
       "     </Shape>\n",
       "    </Transform>\n",
       "    <Transform translation=\"5.42 5.42 0.00\">\n",
       "     <Shape>\n",
       "      <Appearance>\n",
       "       <Material diffuseColor=\"0.784 0.502 0.200\" specularColor=\"0.5 0.5 0.5\">\n",
       "       </Material>\n",
       "      </Appearance>\n",
       "      <Sphere radius=\"1.32\">\n",
       "      </Sphere>\n",
       "     </Shape>\n",
       "    </Transform>\n",
       "    <Transform translation=\"3.61 3.61 3.61\">\n",
       "     <Shape>\n",
       "      <Appearance>\n",
       "       <Material diffuseColor=\"0.784 0.502 0.200\" specularColor=\"0.5 0.5 0.5\">\n",
       "       </Material>\n",
       "      </Appearance>\n",
       "      <Sphere radius=\"1.32\">\n",
       "      </Sphere>\n",
       "     </Shape>\n",
       "    </Transform>\n",
       "    <Transform translation=\"3.61 5.42 5.42\">\n",
       "     <Shape>\n",
       "      <Appearance>\n",
       "       <Material diffuseColor=\"0.784 0.502 0.200\" specularColor=\"0.5 0.5 0.5\">\n",
       "       </Material>\n",
       "      </Appearance>\n",
       "      <Sphere radius=\"1.32\">\n",
       "      </Sphere>\n",
       "     </Shape>\n",
       "    </Transform>\n",
       "    <Transform translation=\"5.42 3.61 5.42\">\n",
       "     <Shape>\n",
       "      <Appearance>\n",
       "       <Material diffuseColor=\"0.784 0.502 0.200\" specularColor=\"0.5 0.5 0.5\">\n",
       "       </Material>\n",
       "      </Appearance>\n",
       "      <Sphere radius=\"1.32\">\n",
       "      </Sphere>\n",
       "     </Shape>\n",
       "    </Transform>\n",
       "    <Transform translation=\"5.42 5.42 3.61\">\n",
       "     <Shape>\n",
       "      <Appearance>\n",
       "       <Material diffuseColor=\"0.784 0.502 0.200\" specularColor=\"0.5 0.5 0.5\">\n",
       "       </Material>\n",
       "      </Appearance>\n",
       "      <Sphere radius=\"1.32\">\n",
       "      </Sphere>\n",
       "     </Shape>\n",
       "    </Transform>\n",
       "    <Transform translation=\"3.61 3.61 7.22\">\n",
       "     <Shape>\n",
       "      <Appearance>\n",
       "       <Material diffuseColor=\"0.784 0.502 0.200\" specularColor=\"0.5 0.5 0.5\">\n",
       "       </Material>\n",
       "      </Appearance>\n",
       "      <Sphere radius=\"1.32\">\n",
       "      </Sphere>\n",
       "     </Shape>\n",
       "    </Transform>\n",
       "    <Transform translation=\"3.61 5.42 9.03\">\n",
       "     <Shape>\n",
       "      <Appearance>\n",
       "       <Material diffuseColor=\"0.784 0.502 0.200\" specularColor=\"0.5 0.5 0.5\">\n",
       "       </Material>\n",
       "      </Appearance>\n",
       "      <Sphere radius=\"1.32\">\n",
       "      </Sphere>\n",
       "     </Shape>\n",
       "    </Transform>\n",
       "    <Transform translation=\"5.42 3.61 9.03\">\n",
       "     <Shape>\n",
       "      <Appearance>\n",
       "       <Material diffuseColor=\"0.784 0.502 0.200\" specularColor=\"0.5 0.5 0.5\">\n",
       "       </Material>\n",
       "      </Appearance>\n",
       "      <Sphere radius=\"1.32\">\n",
       "      </Sphere>\n",
       "     </Shape>\n",
       "    </Transform>\n",
       "    <Transform translation=\"5.42 5.42 7.22\">\n",
       "     <Shape>\n",
       "      <Appearance>\n",
       "       <Material diffuseColor=\"0.784 0.502 0.200\" specularColor=\"0.5 0.5 0.5\">\n",
       "       </Material>\n",
       "      </Appearance>\n",
       "      <Sphere radius=\"1.32\">\n",
       "      </Sphere>\n",
       "     </Shape>\n",
       "    </Transform>\n",
       "    <Transform translation=\"3.61 7.22 0.00\">\n",
       "     <Shape>\n",
       "      <Appearance>\n",
       "       <Material diffuseColor=\"0.784 0.502 0.200\" specularColor=\"0.5 0.5 0.5\">\n",
       "       </Material>\n",
       "      </Appearance>\n",
       "      <Sphere radius=\"1.32\">\n",
       "      </Sphere>\n",
       "     </Shape>\n",
       "    </Transform>\n",
       "    <Transform translation=\"3.61 9.03 1.80\">\n",
       "     <Shape>\n",
       "      <Appearance>\n",
       "       <Material diffuseColor=\"0.784 0.502 0.200\" specularColor=\"0.5 0.5 0.5\">\n",
       "       </Material>\n",
       "      </Appearance>\n",
       "      <Sphere radius=\"1.32\">\n",
       "      </Sphere>\n",
       "     </Shape>\n",
       "    </Transform>\n",
       "    <Transform translation=\"5.42 7.22 1.80\">\n",
       "     <Shape>\n",
       "      <Appearance>\n",
       "       <Material diffuseColor=\"0.784 0.502 0.200\" specularColor=\"0.5 0.5 0.5\">\n",
       "       </Material>\n",
       "      </Appearance>\n",
       "      <Sphere radius=\"1.32\">\n",
       "      </Sphere>\n",
       "     </Shape>\n",
       "    </Transform>\n",
       "    <Transform translation=\"5.42 9.03 0.00\">\n",
       "     <Shape>\n",
       "      <Appearance>\n",
       "       <Material diffuseColor=\"0.784 0.502 0.200\" specularColor=\"0.5 0.5 0.5\">\n",
       "       </Material>\n",
       "      </Appearance>\n",
       "      <Sphere radius=\"1.32\">\n",
       "      </Sphere>\n",
       "     </Shape>\n",
       "    </Transform>\n",
       "    <Transform translation=\"3.61 7.22 3.61\">\n",
       "     <Shape>\n",
       "      <Appearance>\n",
       "       <Material diffuseColor=\"0.784 0.502 0.200\" specularColor=\"0.5 0.5 0.5\">\n",
       "       </Material>\n",
       "      </Appearance>\n",
       "      <Sphere radius=\"1.32\">\n",
       "      </Sphere>\n",
       "     </Shape>\n",
       "    </Transform>\n",
       "    <Transform translation=\"3.61 9.03 5.42\">\n",
       "     <Shape>\n",
       "      <Appearance>\n",
       "       <Material diffuseColor=\"0.784 0.502 0.200\" specularColor=\"0.5 0.5 0.5\">\n",
       "       </Material>\n",
       "      </Appearance>\n",
       "      <Sphere radius=\"1.32\">\n",
       "      </Sphere>\n",
       "     </Shape>\n",
       "    </Transform>\n",
       "    <Transform translation=\"5.42 7.22 5.42\">\n",
       "     <Shape>\n",
       "      <Appearance>\n",
       "       <Material diffuseColor=\"0.784 0.502 0.200\" specularColor=\"0.5 0.5 0.5\">\n",
       "       </Material>\n",
       "      </Appearance>\n",
       "      <Sphere radius=\"1.32\">\n",
       "      </Sphere>\n",
       "     </Shape>\n",
       "    </Transform>\n",
       "    <Transform translation=\"5.42 9.03 3.61\">\n",
       "     <Shape>\n",
       "      <Appearance>\n",
       "       <Material diffuseColor=\"0.784 0.502 0.200\" specularColor=\"0.5 0.5 0.5\">\n",
       "       </Material>\n",
       "      </Appearance>\n",
       "      <Sphere radius=\"1.32\">\n",
       "      </Sphere>\n",
       "     </Shape>\n",
       "    </Transform>\n",
       "    <Transform translation=\"3.61 7.22 7.22\">\n",
       "     <Shape>\n",
       "      <Appearance>\n",
       "       <Material diffuseColor=\"0.784 0.502 0.200\" specularColor=\"0.5 0.5 0.5\">\n",
       "       </Material>\n",
       "      </Appearance>\n",
       "      <Sphere radius=\"1.32\">\n",
       "      </Sphere>\n",
       "     </Shape>\n",
       "    </Transform>\n",
       "    <Transform translation=\"3.61 9.03 9.03\">\n",
       "     <Shape>\n",
       "      <Appearance>\n",
       "       <Material diffuseColor=\"0.784 0.502 0.200\" specularColor=\"0.5 0.5 0.5\">\n",
       "       </Material>\n",
       "      </Appearance>\n",
       "      <Sphere radius=\"1.32\">\n",
       "      </Sphere>\n",
       "     </Shape>\n",
       "    </Transform>\n",
       "    <Transform translation=\"5.42 7.22 9.03\">\n",
       "     <Shape>\n",
       "      <Appearance>\n",
       "       <Material diffuseColor=\"0.784 0.502 0.200\" specularColor=\"0.5 0.5 0.5\">\n",
       "       </Material>\n",
       "      </Appearance>\n",
       "      <Sphere radius=\"1.32\">\n",
       "      </Sphere>\n",
       "     </Shape>\n",
       "    </Transform>\n",
       "    <Transform translation=\"5.42 9.03 7.22\">\n",
       "     <Shape>\n",
       "      <Appearance>\n",
       "       <Material diffuseColor=\"0.784 0.502 0.200\" specularColor=\"0.5 0.5 0.5\">\n",
       "       </Material>\n",
       "      </Appearance>\n",
       "      <Sphere radius=\"1.32\">\n",
       "      </Sphere>\n",
       "     </Shape>\n",
       "    </Transform>\n",
       "    <Transform translation=\"7.22 0.00 0.00\">\n",
       "     <Shape>\n",
       "      <Appearance>\n",
       "       <Material diffuseColor=\"0.784 0.502 0.200\" specularColor=\"0.5 0.5 0.5\">\n",
       "       </Material>\n",
       "      </Appearance>\n",
       "      <Sphere radius=\"1.32\">\n",
       "      </Sphere>\n",
       "     </Shape>\n",
       "    </Transform>\n",
       "    <Transform translation=\"7.22 1.80 1.80\">\n",
       "     <Shape>\n",
       "      <Appearance>\n",
       "       <Material diffuseColor=\"0.784 0.502 0.200\" specularColor=\"0.5 0.5 0.5\">\n",
       "       </Material>\n",
       "      </Appearance>\n",
       "      <Sphere radius=\"1.32\">\n",
       "      </Sphere>\n",
       "     </Shape>\n",
       "    </Transform>\n",
       "    <Transform translation=\"9.03 0.00 1.80\">\n",
       "     <Shape>\n",
       "      <Appearance>\n",
       "       <Material diffuseColor=\"0.784 0.502 0.200\" specularColor=\"0.5 0.5 0.5\">\n",
       "       </Material>\n",
       "      </Appearance>\n",
       "      <Sphere radius=\"1.32\">\n",
       "      </Sphere>\n",
       "     </Shape>\n",
       "    </Transform>\n",
       "    <Transform translation=\"9.03 1.80 0.00\">\n",
       "     <Shape>\n",
       "      <Appearance>\n",
       "       <Material diffuseColor=\"0.784 0.502 0.200\" specularColor=\"0.5 0.5 0.5\">\n",
       "       </Material>\n",
       "      </Appearance>\n",
       "      <Sphere radius=\"1.32\">\n",
       "      </Sphere>\n",
       "     </Shape>\n",
       "    </Transform>\n",
       "    <Transform translation=\"7.22 0.00 3.61\">\n",
       "     <Shape>\n",
       "      <Appearance>\n",
       "       <Material diffuseColor=\"0.784 0.502 0.200\" specularColor=\"0.5 0.5 0.5\">\n",
       "       </Material>\n",
       "      </Appearance>\n",
       "      <Sphere radius=\"1.32\">\n",
       "      </Sphere>\n",
       "     </Shape>\n",
       "    </Transform>\n",
       "    <Transform translation=\"7.22 1.80 5.42\">\n",
       "     <Shape>\n",
       "      <Appearance>\n",
       "       <Material diffuseColor=\"0.784 0.502 0.200\" specularColor=\"0.5 0.5 0.5\">\n",
       "       </Material>\n",
       "      </Appearance>\n",
       "      <Sphere radius=\"1.32\">\n",
       "      </Sphere>\n",
       "     </Shape>\n",
       "    </Transform>\n",
       "    <Transform translation=\"9.03 0.00 5.42\">\n",
       "     <Shape>\n",
       "      <Appearance>\n",
       "       <Material diffuseColor=\"0.784 0.502 0.200\" specularColor=\"0.5 0.5 0.5\">\n",
       "       </Material>\n",
       "      </Appearance>\n",
       "      <Sphere radius=\"1.32\">\n",
       "      </Sphere>\n",
       "     </Shape>\n",
       "    </Transform>\n",
       "    <Transform translation=\"9.03 1.80 3.61\">\n",
       "     <Shape>\n",
       "      <Appearance>\n",
       "       <Material diffuseColor=\"0.784 0.502 0.200\" specularColor=\"0.5 0.5 0.5\">\n",
       "       </Material>\n",
       "      </Appearance>\n",
       "      <Sphere radius=\"1.32\">\n",
       "      </Sphere>\n",
       "     </Shape>\n",
       "    </Transform>\n",
       "    <Transform translation=\"7.22 0.00 7.22\">\n",
       "     <Shape>\n",
       "      <Appearance>\n",
       "       <Material diffuseColor=\"0.784 0.502 0.200\" specularColor=\"0.5 0.5 0.5\">\n",
       "       </Material>\n",
       "      </Appearance>\n",
       "      <Sphere radius=\"1.32\">\n",
       "      </Sphere>\n",
       "     </Shape>\n",
       "    </Transform>\n",
       "    <Transform translation=\"7.22 1.80 9.03\">\n",
       "     <Shape>\n",
       "      <Appearance>\n",
       "       <Material diffuseColor=\"0.784 0.502 0.200\" specularColor=\"0.5 0.5 0.5\">\n",
       "       </Material>\n",
       "      </Appearance>\n",
       "      <Sphere radius=\"1.32\">\n",
       "      </Sphere>\n",
       "     </Shape>\n",
       "    </Transform>\n",
       "    <Transform translation=\"9.03 0.00 9.03\">\n",
       "     <Shape>\n",
       "      <Appearance>\n",
       "       <Material diffuseColor=\"0.784 0.502 0.200\" specularColor=\"0.5 0.5 0.5\">\n",
       "       </Material>\n",
       "      </Appearance>\n",
       "      <Sphere radius=\"1.32\">\n",
       "      </Sphere>\n",
       "     </Shape>\n",
       "    </Transform>\n",
       "    <Transform translation=\"9.03 1.80 7.22\">\n",
       "     <Shape>\n",
       "      <Appearance>\n",
       "       <Material diffuseColor=\"0.784 0.502 0.200\" specularColor=\"0.5 0.5 0.5\">\n",
       "       </Material>\n",
       "      </Appearance>\n",
       "      <Sphere radius=\"1.32\">\n",
       "      </Sphere>\n",
       "     </Shape>\n",
       "    </Transform>\n",
       "    <Transform translation=\"7.22 3.61 0.00\">\n",
       "     <Shape>\n",
       "      <Appearance>\n",
       "       <Material diffuseColor=\"0.784 0.502 0.200\" specularColor=\"0.5 0.5 0.5\">\n",
       "       </Material>\n",
       "      </Appearance>\n",
       "      <Sphere radius=\"1.32\">\n",
       "      </Sphere>\n",
       "     </Shape>\n",
       "    </Transform>\n",
       "    <Transform translation=\"7.22 5.42 1.80\">\n",
       "     <Shape>\n",
       "      <Appearance>\n",
       "       <Material diffuseColor=\"0.784 0.502 0.200\" specularColor=\"0.5 0.5 0.5\">\n",
       "       </Material>\n",
       "      </Appearance>\n",
       "      <Sphere radius=\"1.32\">\n",
       "      </Sphere>\n",
       "     </Shape>\n",
       "    </Transform>\n",
       "    <Transform translation=\"9.03 3.61 1.80\">\n",
       "     <Shape>\n",
       "      <Appearance>\n",
       "       <Material diffuseColor=\"0.784 0.502 0.200\" specularColor=\"0.5 0.5 0.5\">\n",
       "       </Material>\n",
       "      </Appearance>\n",
       "      <Sphere radius=\"1.32\">\n",
       "      </Sphere>\n",
       "     </Shape>\n",
       "    </Transform>\n",
       "    <Transform translation=\"9.03 5.42 0.00\">\n",
       "     <Shape>\n",
       "      <Appearance>\n",
       "       <Material diffuseColor=\"0.784 0.502 0.200\" specularColor=\"0.5 0.5 0.5\">\n",
       "       </Material>\n",
       "      </Appearance>\n",
       "      <Sphere radius=\"1.32\">\n",
       "      </Sphere>\n",
       "     </Shape>\n",
       "    </Transform>\n",
       "    <Transform translation=\"7.22 3.61 3.61\">\n",
       "     <Shape>\n",
       "      <Appearance>\n",
       "       <Material diffuseColor=\"0.784 0.502 0.200\" specularColor=\"0.5 0.5 0.5\">\n",
       "       </Material>\n",
       "      </Appearance>\n",
       "      <Sphere radius=\"1.32\">\n",
       "      </Sphere>\n",
       "     </Shape>\n",
       "    </Transform>\n",
       "    <Transform translation=\"7.22 5.42 5.42\">\n",
       "     <Shape>\n",
       "      <Appearance>\n",
       "       <Material diffuseColor=\"0.784 0.502 0.200\" specularColor=\"0.5 0.5 0.5\">\n",
       "       </Material>\n",
       "      </Appearance>\n",
       "      <Sphere radius=\"1.32\">\n",
       "      </Sphere>\n",
       "     </Shape>\n",
       "    </Transform>\n",
       "    <Transform translation=\"9.03 3.61 5.42\">\n",
       "     <Shape>\n",
       "      <Appearance>\n",
       "       <Material diffuseColor=\"0.784 0.502 0.200\" specularColor=\"0.5 0.5 0.5\">\n",
       "       </Material>\n",
       "      </Appearance>\n",
       "      <Sphere radius=\"1.32\">\n",
       "      </Sphere>\n",
       "     </Shape>\n",
       "    </Transform>\n",
       "    <Transform translation=\"9.03 5.42 3.61\">\n",
       "     <Shape>\n",
       "      <Appearance>\n",
       "       <Material diffuseColor=\"0.784 0.502 0.200\" specularColor=\"0.5 0.5 0.5\">\n",
       "       </Material>\n",
       "      </Appearance>\n",
       "      <Sphere radius=\"1.32\">\n",
       "      </Sphere>\n",
       "     </Shape>\n",
       "    </Transform>\n",
       "    <Transform translation=\"7.22 3.61 7.22\">\n",
       "     <Shape>\n",
       "      <Appearance>\n",
       "       <Material diffuseColor=\"0.784 0.502 0.200\" specularColor=\"0.5 0.5 0.5\">\n",
       "       </Material>\n",
       "      </Appearance>\n",
       "      <Sphere radius=\"1.32\">\n",
       "      </Sphere>\n",
       "     </Shape>\n",
       "    </Transform>\n",
       "    <Transform translation=\"7.22 5.42 9.03\">\n",
       "     <Shape>\n",
       "      <Appearance>\n",
       "       <Material diffuseColor=\"0.784 0.502 0.200\" specularColor=\"0.5 0.5 0.5\">\n",
       "       </Material>\n",
       "      </Appearance>\n",
       "      <Sphere radius=\"1.32\">\n",
       "      </Sphere>\n",
       "     </Shape>\n",
       "    </Transform>\n",
       "    <Transform translation=\"9.03 3.61 9.03\">\n",
       "     <Shape>\n",
       "      <Appearance>\n",
       "       <Material diffuseColor=\"0.784 0.502 0.200\" specularColor=\"0.5 0.5 0.5\">\n",
       "       </Material>\n",
       "      </Appearance>\n",
       "      <Sphere radius=\"1.32\">\n",
       "      </Sphere>\n",
       "     </Shape>\n",
       "    </Transform>\n",
       "    <Transform translation=\"9.03 5.42 7.22\">\n",
       "     <Shape>\n",
       "      <Appearance>\n",
       "       <Material diffuseColor=\"0.784 0.502 0.200\" specularColor=\"0.5 0.5 0.5\">\n",
       "       </Material>\n",
       "      </Appearance>\n",
       "      <Sphere radius=\"1.32\">\n",
       "      </Sphere>\n",
       "     </Shape>\n",
       "    </Transform>\n",
       "    <Transform translation=\"7.22 7.22 0.00\">\n",
       "     <Shape>\n",
       "      <Appearance>\n",
       "       <Material diffuseColor=\"0.784 0.502 0.200\" specularColor=\"0.5 0.5 0.5\">\n",
       "       </Material>\n",
       "      </Appearance>\n",
       "      <Sphere radius=\"1.32\">\n",
       "      </Sphere>\n",
       "     </Shape>\n",
       "    </Transform>\n",
       "    <Transform translation=\"7.22 9.03 1.80\">\n",
       "     <Shape>\n",
       "      <Appearance>\n",
       "       <Material diffuseColor=\"0.784 0.502 0.200\" specularColor=\"0.5 0.5 0.5\">\n",
       "       </Material>\n",
       "      </Appearance>\n",
       "      <Sphere radius=\"1.32\">\n",
       "      </Sphere>\n",
       "     </Shape>\n",
       "    </Transform>\n",
       "    <Transform translation=\"9.03 7.22 1.80\">\n",
       "     <Shape>\n",
       "      <Appearance>\n",
       "       <Material diffuseColor=\"0.784 0.502 0.200\" specularColor=\"0.5 0.5 0.5\">\n",
       "       </Material>\n",
       "      </Appearance>\n",
       "      <Sphere radius=\"1.32\">\n",
       "      </Sphere>\n",
       "     </Shape>\n",
       "    </Transform>\n",
       "    <Transform translation=\"9.03 9.03 0.00\">\n",
       "     <Shape>\n",
       "      <Appearance>\n",
       "       <Material diffuseColor=\"0.784 0.502 0.200\" specularColor=\"0.5 0.5 0.5\">\n",
       "       </Material>\n",
       "      </Appearance>\n",
       "      <Sphere radius=\"1.32\">\n",
       "      </Sphere>\n",
       "     </Shape>\n",
       "    </Transform>\n",
       "    <Transform translation=\"7.22 7.22 3.61\">\n",
       "     <Shape>\n",
       "      <Appearance>\n",
       "       <Material diffuseColor=\"0.784 0.502 0.200\" specularColor=\"0.5 0.5 0.5\">\n",
       "       </Material>\n",
       "      </Appearance>\n",
       "      <Sphere radius=\"1.32\">\n",
       "      </Sphere>\n",
       "     </Shape>\n",
       "    </Transform>\n",
       "    <Transform translation=\"7.22 9.03 5.42\">\n",
       "     <Shape>\n",
       "      <Appearance>\n",
       "       <Material diffuseColor=\"0.784 0.502 0.200\" specularColor=\"0.5 0.5 0.5\">\n",
       "       </Material>\n",
       "      </Appearance>\n",
       "      <Sphere radius=\"1.32\">\n",
       "      </Sphere>\n",
       "     </Shape>\n",
       "    </Transform>\n",
       "    <Transform translation=\"9.03 7.22 5.42\">\n",
       "     <Shape>\n",
       "      <Appearance>\n",
       "       <Material diffuseColor=\"0.784 0.502 0.200\" specularColor=\"0.5 0.5 0.5\">\n",
       "       </Material>\n",
       "      </Appearance>\n",
       "      <Sphere radius=\"1.32\">\n",
       "      </Sphere>\n",
       "     </Shape>\n",
       "    </Transform>\n",
       "    <Transform translation=\"9.03 9.03 3.61\">\n",
       "     <Shape>\n",
       "      <Appearance>\n",
       "       <Material diffuseColor=\"0.784 0.502 0.200\" specularColor=\"0.5 0.5 0.5\">\n",
       "       </Material>\n",
       "      </Appearance>\n",
       "      <Sphere radius=\"1.32\">\n",
       "      </Sphere>\n",
       "     </Shape>\n",
       "    </Transform>\n",
       "    <Transform translation=\"7.22 7.22 7.22\">\n",
       "     <Shape>\n",
       "      <Appearance>\n",
       "       <Material diffuseColor=\"0.784 0.502 0.200\" specularColor=\"0.5 0.5 0.5\">\n",
       "       </Material>\n",
       "      </Appearance>\n",
       "      <Sphere radius=\"1.32\">\n",
       "      </Sphere>\n",
       "     </Shape>\n",
       "    </Transform>\n",
       "    <Transform translation=\"7.22 9.03 9.03\">\n",
       "     <Shape>\n",
       "      <Appearance>\n",
       "       <Material diffuseColor=\"0.784 0.502 0.200\" specularColor=\"0.5 0.5 0.5\">\n",
       "       </Material>\n",
       "      </Appearance>\n",
       "      <Sphere radius=\"1.32\">\n",
       "      </Sphere>\n",
       "     </Shape>\n",
       "    </Transform>\n",
       "    <Transform translation=\"9.03 7.22 9.03\">\n",
       "     <Shape>\n",
       "      <Appearance>\n",
       "       <Material diffuseColor=\"0.784 0.502 0.200\" specularColor=\"0.5 0.5 0.5\">\n",
       "       </Material>\n",
       "      </Appearance>\n",
       "      <Sphere radius=\"1.32\">\n",
       "      </Sphere>\n",
       "     </Shape>\n",
       "    </Transform>\n",
       "    <Transform translation=\"9.03 9.03 7.22\">\n",
       "     <Shape>\n",
       "      <Appearance>\n",
       "       <Material diffuseColor=\"0.784 0.502 0.200\" specularColor=\"0.5 0.5 0.5\">\n",
       "       </Material>\n",
       "      </Appearance>\n",
       "      <Sphere radius=\"1.32\">\n",
       "      </Sphere>\n",
       "     </Shape>\n",
       "    </Transform>\n",
       "   </Scene>\n",
       "  </X3D>\n",
       " </body>\n",
       "</html>\n"
      ],
      "text/plain": [
       "<IPython.core.display.HTML object>"
      ]
     },
     "execution_count": 53,
     "metadata": {},
     "output_type": "execute_result"
    }
   ],
   "source": [
    "view(Cu_conv.repeat(3), viewer='x3d')"
   ]
  },
  {
   "cell_type": "markdown",
   "metadata": {
    "ExecuteTime": {
     "end_time": "2019-10-07T20:44:28.290186Z",
     "start_time": "2019-10-07T20:44:28.280156Z"
    }
   },
   "source": [
    "# Putting it together\n",
    "\n",
    "The class below can calculate the total scattering cross section (using NCrystal) for an ASE Atoms instance."
   ]
  },
  {
   "cell_type": "code",
   "execution_count": 54,
   "metadata": {
    "ExecuteTime": {
     "end_time": "2019-10-25T15:58:18.443082Z",
     "start_time": "2019-10-25T15:58:18.439674Z"
    }
   },
   "outputs": [],
   "source": [
    "import os\n",
    "import re\n",
    "\n",
    "from scipy.stats import distributions"
   ]
  },
  {
   "cell_type": "code",
   "execution_count": 58,
   "metadata": {
    "ExecuteTime": {
     "end_time": "2019-10-25T15:58:48.154529Z",
     "start_time": "2019-10-25T15:58:48.124650Z"
    }
   },
   "outputs": [],
   "source": [
    "class NCAtoms(object):\n",
    "    lengths_format = ' {:7.5f}'\n",
    "    angle_format = ' {:7.3f}'\n",
    "    \n",
    "    def __init__(self, atoms, debye_temperatures, resolution_function=distributions.norm,\n",
    "                 background_function=lambda x: 1,\n",
    "                wavelengths = np.linspace(0.5,10,100)):\n",
    "        self.__dict__['_atoms'] = atoms\n",
    "        self.__dict__['debye_temperatures'] = debye_temperatures\n",
    "        self.__dict__['resolution_function'] = resolution_function\n",
    "        self.__dict__['wavelengths'] = wavelengths\n",
    "        self.__dict__['background_function'] = background_function\n",
    "        self.cell_parameters = self.get_cell_lengths_and_angles()\n",
    "    \n",
    "    def __getattr__(self, attr):\n",
    "        return getattr(self._atoms, attr)\n",
    "    \n",
    "    def __setattr__(self, attr, value):\n",
    "        setattr(self._atoms, attr, value)\n",
    "        \n",
    "    def __getitem__(self, item):\n",
    "        return self._atoms[item]\n",
    "    \n",
    "    def __setitem__(self, item, value):\n",
    "        self._atoms[item] = value\n",
    "        \n",
    "    def _get_cell_string(self):\n",
    "        format_string = \"@CELL\\n    lengths\" + 3*self.lengths_format + '\\n    angles' + 3*self.angle_format + '\\n'\n",
    "        return format_string.format(*tuple(self.get_cell_lengths_and_angles()))\n",
    "    \n",
    "    def _get_spacegroup_string(self):\n",
    "        return \"@SPACEGROUP\\n    {:d}\".format(ase.spacegroup.get_spacegroup(self).no) +\"\\n\"\n",
    "    \n",
    "    def _get_atom_positions_string(self):\n",
    "        atom_lines = [\"    {0.symbol} {0.a} {0.b} {0.c}\".format(atom) for atom in self]\n",
    "        return \"@ATOMPOSITIONS\\n\" + \"\\n\".join(atom_lines) + \"\\n\"\n",
    "    \n",
    "    def _get_debye_temperature_string(self):\n",
    "        return \"@DEBYETEMPERATURE\\n\" + \"\\n\".join([\"    {} {}\".format(*item) for item in self.debye_temperatures.items()]) + \"\\n\"\n",
    "    \n",
    "    def __str__(self):\n",
    "        #return \"NCMAT v1\\n\" + ''.join([getattr(ncatoms, method)()  for method in filter(lambda s: s[:4]=='get_' and s[-7:]=='_string', dir(ncatoms))])\n",
    "        s  = \"NCMAT v1\\n\"\n",
    "        s += self._get_cell_string()\n",
    "        s += self._get_spacegroup_string()\n",
    "        s += self._get_atom_positions_string()\n",
    "        s += self._get_debye_temperature_string()\n",
    "        return s\n",
    "        \n",
    "    def set_cell_parameters(self, *cell_parameters):\n",
    "        self.cell_parameters = cell_parameters\n",
    "        updated_cell = ase.geometry.cellpar_to_cell(cell_parameters)\n",
    "        tmpcoor = self.get_scaled_positions()[:]\n",
    "        self.set_cell(updated_cell)\n",
    "        self.set_scaled_positions(tmpcoor)\n",
    "        \n",
    "    def set_lattice_constant(self, lattice_constant):\n",
    "        \"\"\"\n",
    "        Assumes all three lattice constants are equal and that all three angles are 90 degrees\n",
    "        \"\"\"\n",
    "        lattice_constants = 3*(lattice_constant,)\n",
    "        angles = 3*(90,)\n",
    "        self.set_cell_parameters(*lattice_constants, *angles)\n",
    "        \n",
    "    def write_ncmat(self, ncmat_filename=None):\n",
    "        filecontext = str(self)\n",
    "        if ncmat_filename==None:\n",
    "            # NCrystal does not repeat calculations for same filenames, so ensure that filename is unique for the configuation\n",
    "            self.ncmat_filename = self.get_chemical_formula() \n",
    "            self.ncmat_filename += re.sub('[@a-zA-Z\\s]+', '-', filecontext[1:-1]) +'.ncmat'\n",
    "        else:\n",
    "            self.ncmat_filename = ncmat_filename\n",
    "        with open(self.ncmat_filename,'w') as ncmat_file:\n",
    "            ncmat_file.write(filecontext)\n",
    "            ncmat_file.close()\n",
    "            \n",
    "    def create_scatter(self, dcutoff=0.5, temperature=25):\n",
    "        s = \"{};dcutoff={};temp={}C\".format(self.ncmat_filename, dcutoff, temperature)\n",
    "        self.scatter = NCrystal.createScatter(os.getcwd() + os.sep + s)\n",
    "        \n",
    "    def convolve_resolution(self, resolution, xsection):\n",
    "        offset = 0.5*(max(self.wavelengths) - min(self.wavelengths))\n",
    "        self.x = np.linspace(-offset, offset, len(self.wavelengths))\n",
    "        self.convolution_function = distributions.norm.pdf(self.x, scale=resolution)\n",
    "        self.convolution_function /= np.sum(self.convolution_function)\n",
    "        return np.convolve(xsection, self.convolution_function, 'same')\n",
    "    \n",
    "    def plot_resolution_function(self):\n",
    "        plt.plot(self.x, self.convolution_function)\n",
    "        \n",
    "        \n",
    "    def get_powder_cross_section(self, lattice_constant=None, resolution=0, background_strength=0,\n",
    "                                 dcutoff=0.5, temperature=25, \n",
    "                                 return_wl=True):\n",
    "        if lattice_constant:\n",
    "            self.set_lattice_constant(lattice_constant)\n",
    "        self.write_ncmat()\n",
    "        self.create_scatter(dcutoff=dcutoff, temperature=temperature)\n",
    "        xsection = self.scatter.crossSectionNonOriented(NCrystal.wl2ekin(self.wavelengths))\n",
    "        if background_strength:\n",
    "            xsection += background_strength*self.background_function(self.wavelengths)\n",
    "        if resolution:\n",
    "            xsection = self.convolve_resolution(resolution, xsection)\n",
    "        if return_wl:\n",
    "            return self.wavelengths, xsection\n",
    "        else:\n",
    "            return xsection\n",
    "        \n",
    "    def get_mc_powder_cross_section(self, lattice_constant=None, resolution=0, background_strength=0,\n",
    "                                 spectrum=None, dcutoff=0.5, temperature=25, \n",
    "                                 return_wl=True):\n",
    "        raise NotImplementedError\n",
    "        \n",
    "        "
   ]
  },
  {
   "cell_type": "code",
   "execution_count": 59,
   "metadata": {
    "ExecuteTime": {
     "end_time": "2019-10-25T15:58:48.923514Z",
     "start_time": "2019-10-25T15:58:48.918121Z"
    }
   },
   "outputs": [],
   "source": [
    "ncatoms = NCAtoms(bulk('Cu', cubic=True), debye_temperatures = {'Cu': 315.1134})"
   ]
  },
  {
   "cell_type": "markdown",
   "metadata": {},
   "source": [
    "### Ideal scattering cross section"
   ]
  },
  {
   "cell_type": "code",
   "execution_count": 60,
   "metadata": {
    "ExecuteTime": {
     "end_time": "2019-10-25T15:58:52.391287Z",
     "start_time": "2019-10-25T15:58:52.146068Z"
    }
   },
   "outputs": [
    {
     "data": {
      "text/plain": [
       "[<matplotlib.lines.Line2D at 0x11e88af28>]"
      ]
     },
     "execution_count": 60,
     "metadata": {},
     "output_type": "execute_result"
    },
    {
     "data": {
      "image/png": "[encoded data removed]",
      "text/plain": [
       "<matplotlib.figure.Figure at 0x11e8472b0>"
      ]
     },
     "metadata": {
      "needs_background": "light"
     },
     "output_type": "display_data"
    }
   ],
   "source": [
    "plt.plot(*ncatoms.get_powder_cross_section())"
   ]
  },
  {
   "cell_type": "markdown",
   "metadata": {
    "ExecuteTime": {
     "end_time": "2019-10-07T20:58:35.992298Z",
     "start_time": "2019-10-07T20:58:35.982422Z"
    }
   },
   "source": [
    "### Adding finite resolution\n",
    "Note that the ends need to be cutoff before used for fitting of real data"
   ]
  },
  {
   "cell_type": "code",
   "execution_count": 61,
   "metadata": {
    "ExecuteTime": {
     "end_time": "2019-10-25T15:58:55.974951Z",
     "start_time": "2019-10-25T15:58:55.672331Z"
    }
   },
   "outputs": [
    {
     "data": {
      "text/plain": [
       "[<matplotlib.lines.Line2D at 0x11e93fcc0>]"
      ]
     },
     "execution_count": 61,
     "metadata": {},
     "output_type": "execute_result"
    },
    {
     "data": {
      "image/png": "[encoded data removed]",
      "text/plain": [
       "<matplotlib.figure.Figure at 0x11c73a908>"
      ]
     },
     "metadata": {
      "needs_background": "light"
     },
     "output_type": "display_data"
    }
   ],
   "source": [
    "plt.plot(*ncatoms.get_powder_cross_section(resolution=0.1))  # resolution is gaussian (default) with width of 0.1 AA"
   ]
  },
  {
   "cell_type": "code",
   "execution_count": 62,
   "metadata": {
    "ExecuteTime": {
     "end_time": "2019-10-25T15:59:07.895979Z",
     "start_time": "2019-10-25T15:59:07.678411Z"
    }
   },
   "outputs": [
    {
     "data": {
      "image/png": "[encoded data removed]",
      "text/plain": [
       "<matplotlib.figure.Figure at 0x11e8542b0>"
      ]
     },
     "metadata": {
      "needs_background": "light"
     },
     "output_type": "display_data"
    }
   ],
   "source": [
    "ncatoms.plot_resolution_function()"
   ]
  },
  {
   "cell_type": "markdown",
   "metadata": {},
   "source": [
    "## Adding background\n",
    "Default is flat background"
   ]
  },
  {
   "cell_type": "code",
   "execution_count": 63,
   "metadata": {
    "ExecuteTime": {
     "end_time": "2019-10-25T15:59:15.557930Z",
     "start_time": "2019-10-25T15:59:15.252325Z"
    }
   },
   "outputs": [
    {
     "data": {
      "text/plain": [
       "<matplotlib.legend.Legend at 0x11e9750f0>"
      ]
     },
     "execution_count": 63,
     "metadata": {},
     "output_type": "execute_result"
    },
    {
     "data": {
      "image/png": "[encoded data removed]",
      "text/plain": [
       "<matplotlib.figure.Figure at 0x11e9755f8>"
      ]
     },
     "metadata": {
      "needs_background": "light"
     },
     "output_type": "display_data"
    }
   ],
   "source": [
    "lines = plt.plot(*ncatoms.get_powder_cross_section(),\n",
    "         *ncatoms.get_powder_cross_section(background_strength=2.)\n",
    "        )\n",
    "plt.legend(lines, ('no background', '+ background'))"
   ]
  },
  {
   "cell_type": "markdown",
   "metadata": {},
   "source": [
    "Using another background function. At this point it is not possible to fit parameters that define the background function, only the total strength for a given set of parameter, but this should be easy to implement\n",
    "\n",
    "Here is an example for a linear function"
   ]
  },
  {
   "cell_type": "code",
   "execution_count": 71,
   "metadata": {
    "ExecuteTime": {
     "end_time": "2019-10-25T16:07:53.620009Z",
     "start_time": "2019-10-25T16:07:53.275747Z"
    }
   },
   "outputs": [
    {
     "data": {
      "text/plain": [
       "<matplotlib.legend.Legend at 0x11f4a2cf8>"
      ]
     },
     "execution_count": 71,
     "metadata": {},
     "output_type": "execute_result"
    },
    {
     "data": {
      "image/png": "[encoded data removed]",
      "text/plain": [
       "<matplotlib.figure.Figure at 0x11f3de710>"
      ]
     },
     "metadata": {
      "needs_background": "light"
     },
     "output_type": "display_data"
    }
   ],
   "source": [
    "ncatoms2 = NCAtoms(Cu_conv, background_function=lambda x: 2*x+5, debye_temperatures={'Cu': 315.1134})\n",
    "lines = plt.plot(*ncatoms2.get_powder_cross_section(), \n",
    "                 *ncatoms2.get_powder_cross_section(resolution=0.1, background_strength=1.)\n",
    "                )\n",
    "plt.legend(lines, (\"no background\", \"background = 2x+5\"))"
   ]
  },
  {
   "cell_type": "markdown",
   "metadata": {},
   "source": [
    "## Adding both background and finite resolution"
   ]
  },
  {
   "cell_type": "code",
   "execution_count": 73,
   "metadata": {
    "ExecuteTime": {
     "end_time": "2019-10-25T16:10:49.958205Z",
     "start_time": "2019-10-25T16:10:49.708560Z"
    }
   },
   "outputs": [
    {
     "data": {
      "text/plain": [
       "<matplotlib.legend.Legend at 0x11f78c8d0>"
      ]
     },
     "execution_count": 73,
     "metadata": {},
     "output_type": "execute_result"
    },
    {
     "data": {
      "image/png": "[encoded data removed]",
      "text/plain": [
       "<matplotlib.figure.Figure at 0x11f4a70f0>"
      ]
     },
     "metadata": {
      "needs_background": "light"
     },
     "output_type": "display_data"
    }
   ],
   "source": [
    "lines = plt.plot(*ncatoms.get_powder_cross_section(), \n",
    "                 *ncatoms.get_powder_cross_section(resolution=0.1, background_strength=2.)\n",
    "                )\n",
    "plt.legend(lines, (\"Ideal\", \"+ background and finite resolution\"))"
   ]
  },
  {
   "cell_type": "code",
   "execution_count": null,
   "metadata": {},
   "outputs": [],
   "source": []
  },
  {
   "cell_type": "markdown",
   "metadata": {},
   "source": [
    "## Different lattice constants"
   ]
  },
  {
   "cell_type": "code",
   "execution_count": 74,
   "metadata": {
    "ExecuteTime": {
     "end_time": "2019-10-25T16:10:55.556387Z",
     "start_time": "2019-10-25T16:10:55.172135Z"
    }
   },
   "outputs": [
    {
     "data": {
      "text/plain": [
       "<matplotlib.legend.Legend at 0x11c3429e8>"
      ]
     },
     "execution_count": 74,
     "metadata": {},
     "output_type": "execute_result"
    },
    {
     "data": {
      "image/png": "[encoded data removed]",
      "text/plain": [
       "<matplotlib.figure.Figure at 0x11e897f60>"
      ]
     },
     "metadata": {
      "needs_background": "light"
     },
     "output_type": "display_data"
    }
   ],
   "source": [
    "lattice_constant = ncatoms.get_cell_lengths_and_angles()[0]\n",
    "latcs = np.linspace(0.8,1.2,3)*lattice_constant\n",
    "xcs = [ncatoms.get_powder_cross_section(lattice_constant=lc) for lc in latcs]\n",
    "lines = plt.plot(*sum(xcs, ()))\n",
    "plt.legend(lines, [\"{:3f}\".format(lc) for lc in latcs])"
   ]
  },
  {
   "cell_type": "markdown",
   "metadata": {},
   "source": [
    "## Mixture\n",
    "\n",
    "The class below calculates the scattering cross section from a list of ASE Atoms or NCAtoms instances"
   ]
  },
  {
   "cell_type": "code",
   "execution_count": 75,
   "metadata": {
    "ExecuteTime": {
     "end_time": "2019-10-25T16:11:13.116542Z",
     "start_time": "2019-10-25T16:11:13.108918Z"
    }
   },
   "outputs": [],
   "source": [
    "class PowderMixture(object):\n",
    "    def __init__(self, ncatoms_list, weights=None, wavelengths=np.linspace(0.5, 10, 100)):\n",
    "        self.ncatoms_list = ncatoms_list\n",
    "        nmixture = len(ncatoms_list)\n",
    "        self.wavelengths = wavelengths\n",
    "        if weights == None:\n",
    "            weights = np.ones(nmixture)\n",
    "        self.set_weights(weights)\n",
    "        # Ensure wavelengths is the same for all ncatoms set\n",
    "        for ncatoms in self.ncatoms_list:\n",
    "            ncatoms.wavelengths = wavelengths\n",
    "            \n",
    "    def set_weights(self, weights):\n",
    "        self.weights = np.asarray(weights) + 0.\n",
    "        # normalize weights\n",
    "        self.weights /= np.sum(self.weights)\n",
    "        \n",
    "        \n",
    "    def get_powder_cross_section(self, weights=None, lattice_constants=None, **kwargs):\n",
    "        if weights != None:\n",
    "            self.set_weights(weights)\n",
    "        if lattice_constants != None:\n",
    "            for latc, nca in zip(lattice_constants, self.ncatoms_list):\n",
    "                nca.set_lattice_constant(latc)\n",
    "        xsections = np.array([nca.get_powder_cross_section(return_wl=False, **kwargs) \n",
    "                              for nca in self.ncatoms_list])\n",
    "        xsections = np.dot(self.weights, xsections)\n",
    "        return self.wavelengths, xsections\n",
    "        "
   ]
  },
  {
   "cell_type": "code",
   "execution_count": 76,
   "metadata": {
    "ExecuteTime": {
     "end_time": "2019-10-25T16:11:22.237340Z",
     "start_time": "2019-10-25T16:11:21.934621Z"
    }
   },
   "outputs": [
    {
     "data": {
      "text/plain": [
       "Text(0.5,0,'Wavelength (AA)')"
      ]
     },
     "execution_count": 76,
     "metadata": {},
     "output_type": "execute_result"
    },
    {
     "data": {
      "image/png": "[encoded data removed]",
      "text/plain": [
       "<matplotlib.figure.Figure at 0x11f40dac8>"
      ]
     },
     "metadata": {
      "needs_background": "light"
     },
     "output_type": "display_data"
    }
   ],
   "source": [
    "Cu = NCAtoms(bulk('Cu', cubic=True), debye_temperatures = {'Cu': 315.1134})  # fcc\n",
    "Fe = NCAtoms(bulk('Fe', cubic=True), debye_temperatures = {'Fe' : 443.9152})  # bcc\n",
    "lines = plt.plot(*Cu.get_powder_cross_section(), *Fe.get_powder_cross_section())\n",
    "plt.legend(lines, (\"Cu\", \"Fe\"))\n",
    "plt.ylabel(\"Cross section (barn)\")\n",
    "plt.xlabel(\"Wavelength (AA)\")"
   ]
  },
  {
   "cell_type": "code",
   "execution_count": 77,
   "metadata": {
    "ExecuteTime": {
     "end_time": "2019-10-25T16:11:26.953644Z",
     "start_time": "2019-10-25T16:11:26.949550Z"
    }
   },
   "outputs": [],
   "source": [
    "CuFe = PowderMixture([Cu, Fe], [1,1])"
   ]
  },
  {
   "cell_type": "code",
   "execution_count": 78,
   "metadata": {
    "ExecuteTime": {
     "end_time": "2019-10-25T16:11:27.975350Z",
     "start_time": "2019-10-25T16:11:27.695105Z"
    }
   },
   "outputs": [
    {
     "data": {
      "text/plain": [
       "<matplotlib.legend.Legend at 0x11c549160>"
      ]
     },
     "execution_count": 78,
     "metadata": {},
     "output_type": "execute_result"
    },
    {
     "data": {
      "image/png": "[encoded data removed]",
      "text/plain": [
       "<matplotlib.figure.Figure at 0x11f40d9b0>"
      ]
     },
     "metadata": {
      "needs_background": "light"
     },
     "output_type": "display_data"
    }
   ],
   "source": [
    "lines = plt.plot(*Cu.get_powder_cross_section(),\n",
    "         *Fe.get_powder_cross_section(),\n",
    "         *CuFe.get_powder_cross_section()\n",
    "        )\n",
    "plt.legend(lines, (\"Cu\", \"Fe\", \"50% Cu + 50% Fe\"))"
   ]
  },
  {
   "cell_type": "code",
   "execution_count": 79,
   "metadata": {
    "ExecuteTime": {
     "end_time": "2019-10-25T16:11:32.673660Z",
     "start_time": "2019-10-25T16:11:32.150520Z"
    }
   },
   "outputs": [
    {
     "data": {
      "text/plain": [
       "Text(0.5,0,'Wavelength (AA)')"
      ]
     },
     "execution_count": 79,
     "metadata": {},
     "output_type": "execute_result"
    },
    {
     "data": {
      "image/png": "[encoded data removed]",
      "text/plain": [
       "<matplotlib.figure.Figure at 0x11f737e80>"
      ]
     },
     "metadata": {
      "needs_background": "light"
     },
     "output_type": "display_data"
    }
   ],
   "source": [
    "loweights = [(dw, 100-dw) for dw in np.linspace(0, 100, 5)]  # Use percentage content of each\n",
    "CuFe_plotdata = sum([CuFe.get_powder_cross_section(weights=weights) for weights in loweights], ())\n",
    "lines = plt.plot(*CuFe_plotdata)\n",
    "plt.legend(lines, (\"{}% Cu and {}% Fe\".format(*weights) for weights in loweights))\n",
    "plt.ylabel(\"Cross section (barn)\")\n",
    "plt.xlabel(\"Wavelength (AA)\")"
   ]
  },
  {
   "cell_type": "markdown",
   "metadata": {},
   "source": [
    "## Fitting using lmfit and NCAtoms / Mixture"
   ]
  },
  {
   "cell_type": "markdown",
   "metadata": {},
   "source": [
    "Below class can be used to fit an atomic model to a data set"
   ]
  },
  {
   "cell_type": "code",
   "execution_count": 132,
   "metadata": {
    "ExecuteTime": {
     "end_time": "2019-10-25T16:33:48.160054Z",
     "start_time": "2019-10-25T16:33:48.132919Z"
    }
   },
   "outputs": [],
   "source": [
    "def print_parameters(params, i, resid):\n",
    "    if i <= 10 or i%10==0:\n",
    "        s = '{0:3d}: '.format(i) + ',  '.join(['{0.name} = {0.value}'.format(p) for p in params.values()])\n",
    "        print(s)\n",
    "    else:\n",
    "        pass\n",
    "    \n",
    "class Minimizer(object):\n",
    "\n",
    "    def __init__(self, wavelengths, spectrum=None):\n",
    "        self.set_weights(spectrum)\n",
    "        self.parameters = lmfit.Parameters()\n",
    "        self.parameters.add('lattice_constant', min=1., max=7., value=2., vary=True)\n",
    "        self.parameters.add('resolution', min=0., max=1., value=0, vary=False)\n",
    "        self.parameters.add('background_strength', min=0., value=0, vary=False)\n",
    "        self.wavelengths = wavelengths\n",
    "        self.results = []\n",
    "\n",
    "    def objective_function(self, parameters): #, wavelenghts, xsection_data):\n",
    "        lattice_constant = parameters['lattice_constant'].value\n",
    "        xsections = self._ncatoms.get_powder_cross_section(lattice_constant=lattice_constant)\n",
    "        return self.target_data - xsections[1]\n",
    "    \n",
    "    def set_model(self, ncatoms):\n",
    "        if ncatoms != None:\n",
    "            self._ncatoms = ncatoms\n",
    "        \n",
    "    def set_target_data(self, target_data):\n",
    "        if type(target_data) != type(None):\n",
    "            self.target_data = target_data\n",
    "        \n",
    "            \n",
    "    def set_weights(self, weights):\n",
    "        if weights != None:\n",
    "            raise NotImplementedError('weighting of data is not implemented yet')\n",
    "    \n",
    "    def free(self, parameter):\n",
    "        self.parameters[parameter].vary = True\n",
    "        \n",
    "    def fix(self, parameter):\n",
    "        self.parameters[parameter].vary = False\n",
    "        \n",
    "    \n",
    "    def init_minimizer(self, ncatoms=None, target_data=None):\n",
    "        self.set_model(ncatoms)\n",
    "        self.set_target_data(target_data)\n",
    "        \n",
    "    def update_parameters(self):\n",
    "        \"\"\"\n",
    "        Update the (initial) parameters to the ones from the latest minimization\n",
    "        \"\"\"\n",
    "        self.minimizer = self.results[-1]\n",
    "    \n",
    "    def run(self, method='bassinhopping'):\n",
    "        self.minimizer = lmfit.Minimizer(self.objective_function, self.parameters, \n",
    "                                         iter_cb=print_parameters) #, fcn_args=(self.wavelengths, self.target_data)\n",
    "        #print('\\nInitial values:\\n')\n",
    "        #self.parameters.pretty_print()\n",
    "        #print(\"\\n\\nIterations:\\n\")\n",
    "        result = self.minimizer.minimize(method=method)\n",
    "        print('\\nFinal result:\\n')\n",
    "        #self.parameters.pretty_print()\n",
    "        print(lmfit.report_fit(result))\n",
    "        self.results.append(result)\n",
    "        return result\n",
    "        \n",
    "    "
   ]
  },
  {
   "cell_type": "code",
   "execution_count": 133,
   "metadata": {
    "ExecuteTime": {
     "end_time": "2019-10-25T16:33:55.648832Z",
     "start_time": "2019-10-25T16:33:55.644664Z"
    }
   },
   "outputs": [],
   "source": [
    "wavelengths = np.linspace(0.5,8.0, 200)"
   ]
  },
  {
   "cell_type": "code",
   "execution_count": 134,
   "metadata": {
    "ExecuteTime": {
     "end_time": "2019-10-25T16:33:56.073502Z",
     "start_time": "2019-10-25T16:33:56.068058Z"
    }
   },
   "outputs": [],
   "source": [
    "Cu = NCAtoms(bulk('Cu', cubic=True), debye_temperatures = {'Cu': 315.1134}, wavelengths=wavelengths)"
   ]
  },
  {
   "cell_type": "code",
   "execution_count": 135,
   "metadata": {
    "ExecuteTime": {
     "end_time": "2019-10-25T16:33:58.663501Z",
     "start_time": "2019-10-25T16:33:58.626690Z"
    }
   },
   "outputs": [],
   "source": [
    "cu_xsections_ideal = Cu.get_powder_cross_section()"
   ]
  },
  {
   "cell_type": "code",
   "execution_count": 136,
   "metadata": {
    "ExecuteTime": {
     "end_time": "2019-10-25T16:33:59.168378Z",
     "start_time": "2019-10-25T16:33:59.163956Z"
    }
   },
   "outputs": [],
   "source": [
    "noisy = wavelengths, cu_xsections_ideal[1] + np.random.normal(size=wavelengths.size)"
   ]
  },
  {
   "cell_type": "code",
   "execution_count": 137,
   "metadata": {
    "ExecuteTime": {
     "end_time": "2019-10-25T16:33:59.909488Z",
     "start_time": "2019-10-25T16:33:59.701031Z"
    }
   },
   "outputs": [
    {
     "data": {
      "text/plain": [
       "[<matplotlib.lines.Line2D at 0x1201b7cc0>,\n",
       " <matplotlib.lines.Line2D at 0x1201b7e10>]"
      ]
     },
     "execution_count": 137,
     "metadata": {},
     "output_type": "execute_result"
    },
    {
     "data": {
      "image/png": "[encoded data removed]",
      "text/plain": [
       "<matplotlib.figure.Figure at 0x11fd302e8>"
      ]
     },
     "metadata": {
      "needs_background": "light"
     },
     "output_type": "display_data"
    }
   ],
   "source": [
    "plt.plot(*cu_xsections_ideal, *noisy)"
   ]
  },
  {
   "cell_type": "code",
   "execution_count": 138,
   "metadata": {
    "ExecuteTime": {
     "end_time": "2019-10-25T16:34:00.768353Z",
     "start_time": "2019-10-25T16:34:00.764365Z"
    }
   },
   "outputs": [],
   "source": [
    "minimizer = Minimizer(wavelengths)"
   ]
  },
  {
   "cell_type": "markdown",
   "metadata": {},
   "source": [
    "### Fitting to ideal data"
   ]
  },
  {
   "cell_type": "code",
   "execution_count": 139,
   "metadata": {
    "ExecuteTime": {
     "end_time": "2019-10-25T16:34:02.498119Z",
     "start_time": "2019-10-25T16:34:02.492581Z"
    }
   },
   "outputs": [
    {
     "data": {
      "text/plain": [
       "2.0"
      ]
     },
     "execution_count": 139,
     "metadata": {},
     "output_type": "execute_result"
    }
   ],
   "source": [
    "minimizer.init_minimizer(ncatoms=Cu, target_data=cu_xsections_ideal[1])\n",
    "minimizer.parameters['lattice_constant'].value"
   ]
  },
  {
   "cell_type": "code",
   "execution_count": 140,
   "metadata": {
    "ExecuteTime": {
     "end_time": "2019-10-25T16:34:04.753495Z",
     "start_time": "2019-10-25T16:34:03.170941Z"
    }
   },
   "outputs": [
    {
     "name": "stdout",
     "output_type": "stream",
     "text": [
      "  1: lattice_constant = 1.9999999999999998,  resolution = 0,  background_strength = 0\n",
      "  2: lattice_constant = 1.9197631770104284,  resolution = 0,  background_strength = 0\n",
      "  3: lattice_constant = 2.0828990398901763,  resolution = 0,  background_strength = 0\n",
      "  4: lattice_constant = 2.168349949068439,  resolution = 0,  background_strength = 0\n",
      "  5: lattice_constant = 2.346449152171442,  resolution = 0,  background_strength = 0\n",
      "  6: lattice_constant = 2.533349647457059,  resolution = 0,  background_strength = 0\n",
      "  7: lattice_constant = 2.929533730680731,  resolution = 0,  background_strength = 0\n",
      "  8: lattice_constant = 3.348478407141582,  resolution = 0,  background_strength = 0\n",
      "  9: lattice_constant = 4.218724057708508,  resolution = 0,  background_strength = 0\n",
      " 10: lattice_constant = 3.7812759422914968,  resolution = 0,  background_strength = 0\n",
      " 20: lattice_constant = 3.604366450541674,  resolution = 0,  background_strength = 0\n",
      " 30: lattice_constant = 3.6098770510288243,  resolution = 0,  background_strength = 0\n",
      "\n",
      "Final result:\n",
      "\n",
      "[[Fit Statistics]]\n",
      "    # function evals   = 33\n",
      "    # data points      = 200\n",
      "    # variables        = 1\n",
      "    chi-square         = 0.000\n",
      "    reduced chi-square = 0.000\n",
      "    Akaike info crit   = -3471.344\n",
      "    Bayesian info crit = -3468.046\n",
      "[[Variables]]\n",
      "    lattice_constant:      3.61008902 (init= 2)\n",
      "    resolution:            0 (fixed)\n",
      "    background_strength:   0 (fixed)\n",
      "None\n"
     ]
    }
   ],
   "source": [
    "result = minimizer.run()"
   ]
  },
  {
   "cell_type": "code",
   "execution_count": 141,
   "metadata": {
    "ExecuteTime": {
     "end_time": "2019-10-25T16:34:05.980974Z",
     "start_time": "2019-10-25T16:34:05.717105Z"
    }
   },
   "outputs": [
    {
     "data": {
      "text/plain": [
       "<matplotlib.legend.Legend at 0x1200553c8>"
      ]
     },
     "execution_count": 141,
     "metadata": {},
     "output_type": "execute_result"
    },
    {
     "data": {
      "image/png": "[encoded data removed]",
      "text/plain": [
       "<matplotlib.figure.Figure at 0x1201b7438>"
      ]
     },
     "metadata": {
      "needs_background": "light"
     },
     "output_type": "display_data"
    }
   ],
   "source": [
    "lines = plt.plot(*cu_xsections_ideal, *Cu.get_powder_cross_section())\n",
    "plt.legend(lines, (\"Target\", \"Fitted\"))"
   ]
  },
  {
   "cell_type": "markdown",
   "metadata": {},
   "source": [
    "### Fitting to noisy data"
   ]
  },
  {
   "cell_type": "code",
   "execution_count": 142,
   "metadata": {
    "ExecuteTime": {
     "end_time": "2019-10-25T16:34:07.181528Z",
     "start_time": "2019-10-25T16:34:07.175415Z"
    }
   },
   "outputs": [
    {
     "data": {
      "text/plain": [
       "2.0"
      ]
     },
     "execution_count": 142,
     "metadata": {},
     "output_type": "execute_result"
    }
   ],
   "source": [
    "minimizer.init_minimizer(ncatoms=Cu, target_data=noisy[1])\n",
    "minimizer.parameters['lattice_constant'].value"
   ]
  },
  {
   "cell_type": "code",
   "execution_count": 143,
   "metadata": {
    "ExecuteTime": {
     "end_time": "2019-10-25T16:34:09.914433Z",
     "start_time": "2019-10-25T16:34:08.260912Z"
    }
   },
   "outputs": [
    {
     "name": "stdout",
     "output_type": "stream",
     "text": [
      "  1: lattice_constant = 1.9999999999999998,  resolution = 0,  background_strength = 0\n",
      "  2: lattice_constant = 1.9197631770104284,  resolution = 0,  background_strength = 0\n",
      "  3: lattice_constant = 2.0828990398901763,  resolution = 0,  background_strength = 0\n",
      "  4: lattice_constant = 2.168349949068439,  resolution = 0,  background_strength = 0\n",
      "  5: lattice_constant = 2.346449152171442,  resolution = 0,  background_strength = 0\n",
      "  6: lattice_constant = 2.533349647457059,  resolution = 0,  background_strength = 0\n",
      "  7: lattice_constant = 2.929533730680731,  resolution = 0,  background_strength = 0\n",
      "  8: lattice_constant = 3.348478407141582,  resolution = 0,  background_strength = 0\n",
      "  9: lattice_constant = 4.218724057708508,  resolution = 0,  background_strength = 0\n",
      " 10: lattice_constant = 3.7812759422914968,  resolution = 0,  background_strength = 0\n",
      " 20: lattice_constant = 3.604366450541674,  resolution = 0,  background_strength = 0\n",
      " 30: lattice_constant = 3.6153889907909957,  resolution = 0,  background_strength = 0\n",
      "\n",
      "Final result:\n",
      "\n",
      "[[Fit Statistics]]\n",
      "    # function evals   = 35\n",
      "    # data points      = 200\n",
      "    # variables        = 1\n",
      "    chi-square         = 193.429\n",
      "    reduced chi-square = 0.972\n",
      "    Akaike info crit   = -4.681\n",
      "    Bayesian info crit = -1.383\n",
      "[[Variables]]\n",
      "    lattice_constant:      3.61454091 (init= 2)\n",
      "    resolution:            0 (fixed)\n",
      "    background_strength:   0 (fixed)\n",
      "None\n"
     ]
    },
    {
     "data": {
      "text/plain": [
       "<lmfit.minimizer.MinimizerResult at 0x11f69b6a0>"
      ]
     },
     "execution_count": 143,
     "metadata": {},
     "output_type": "execute_result"
    }
   ],
   "source": [
    "minimizer.run()"
   ]
  },
  {
   "cell_type": "code",
   "execution_count": 144,
   "metadata": {
    "ExecuteTime": {
     "end_time": "2019-10-25T16:34:37.552957Z",
     "start_time": "2019-10-25T16:34:37.330418Z"
    }
   },
   "outputs": [
    {
     "data": {
      "text/plain": [
       "[<matplotlib.lines.Line2D at 0x12040d1d0>,\n",
       " <matplotlib.lines.Line2D at 0x12040d390>]"
      ]
     },
     "execution_count": 144,
     "metadata": {},
     "output_type": "execute_result"
    },
    {
     "data": {
      "image/png": "[encoded data removed]",
      "text/plain": [
       "<matplotlib.figure.Figure at 0x12019ecf8>"
      ]
     },
     "metadata": {
      "needs_background": "light"
     },
     "output_type": "display_data"
    }
   ],
   "source": [
    "plt.plot(*noisy, *Cu.get_powder_cross_section())"
   ]
  },
  {
   "cell_type": "code",
   "execution_count": 145,
   "metadata": {
    "ExecuteTime": {
     "end_time": "2019-10-25T16:34:38.336454Z",
     "start_time": "2019-10-25T16:34:38.331114Z"
    }
   },
   "outputs": [
    {
     "data": {
      "text/plain": [
       "Parameters([('lattice_constant',\n",
       "             <Parameter 'lattice_constant', 2.0, bounds=[1.0:7.0]>),\n",
       "            ('resolution',\n",
       "             <Parameter 'resolution', value=0 (fixed), bounds=[0.0:1.0]>),\n",
       "            ('background_strength',\n",
       "             <Parameter 'background_strength', value=0 (fixed), bounds=[0.0:inf]>)])"
      ]
     },
     "execution_count": 145,
     "metadata": {},
     "output_type": "execute_result"
    }
   ],
   "source": [
    "minimizer.parameters"
   ]
  },
  {
   "cell_type": "code",
   "execution_count": 146,
   "metadata": {
    "ExecuteTime": {
     "end_time": "2019-10-25T16:34:39.008733Z",
     "start_time": "2019-10-25T16:34:39.002833Z"
    }
   },
   "outputs": [],
   "source": [
    "Cu = NCAtoms(bulk('Cu', cubic=True), debye_temperatures = {'Cu': 315.1134}, wavelengths=wavelengths)"
   ]
  },
  {
   "cell_type": "code",
   "execution_count": 147,
   "metadata": {
    "ExecuteTime": {
     "end_time": "2019-10-25T16:34:40.165045Z",
     "start_time": "2019-10-25T16:34:40.160671Z"
    }
   },
   "outputs": [],
   "source": [
    "minimizer.free('resolution')"
   ]
  },
  {
   "cell_type": "code",
   "execution_count": 148,
   "metadata": {
    "ExecuteTime": {
     "end_time": "2019-10-25T16:34:40.896425Z",
     "start_time": "2019-10-25T16:34:40.890039Z"
    }
   },
   "outputs": [
    {
     "data": {
      "text/plain": [
       "Parameters([('lattice_constant',\n",
       "             <Parameter 'lattice_constant', 2.0, bounds=[1.0:7.0]>),\n",
       "            ('resolution', <Parameter 'resolution', 0, bounds=[0.0:1.0]>),\n",
       "            ('background_strength',\n",
       "             <Parameter 'background_strength', value=0 (fixed), bounds=[0.0:inf]>)])"
      ]
     },
     "execution_count": 148,
     "metadata": {},
     "output_type": "execute_result"
    }
   ],
   "source": [
    "minimizer.parameters"
   ]
  },
  {
   "cell_type": "code",
   "execution_count": 149,
   "metadata": {
    "ExecuteTime": {
     "end_time": "2019-10-25T16:34:41.757336Z",
     "start_time": "2019-10-25T16:34:41.707097Z"
    }
   },
   "outputs": [],
   "source": [
    "convolved = Cu.get_powder_cross_section(resolution=0.08)"
   ]
  },
  {
   "cell_type": "code",
   "execution_count": 150,
   "metadata": {
    "ExecuteTime": {
     "end_time": "2019-10-25T16:34:42.744353Z",
     "start_time": "2019-10-25T16:34:42.530565Z"
    }
   },
   "outputs": [
    {
     "data": {
      "text/plain": [
       "[<matplotlib.lines.Line2D at 0x12053eef0>]"
      ]
     },
     "execution_count": 150,
     "metadata": {},
     "output_type": "execute_result"
    },
    {
     "data": {
      "image/png": "[encoded data removed]",
      "text/plain": [
       "<matplotlib.figure.Figure at 0x12041bb70>"
      ]
     },
     "metadata": {
      "needs_background": "light"
     },
     "output_type": "display_data"
    }
   ],
   "source": [
    "plt.plot(*convolved)"
   ]
  },
  {
   "cell_type": "code",
   "execution_count": 151,
   "metadata": {
    "ExecuteTime": {
     "end_time": "2019-10-25T16:34:47.542049Z",
     "start_time": "2019-10-25T16:34:43.374411Z"
    }
   },
   "outputs": [
    {
     "name": "stdout",
     "output_type": "stream",
     "text": [
      "  1: lattice_constant = 1.9999999999999998,  resolution = 0.0,  background_strength = 0\n",
      "  2: lattice_constant = 1.9197631770104284,  resolution = 0.0,  background_strength = 0\n",
      "  3: lattice_constant = 1.9999999999999998,  resolution = 0.001541333133436018,  background_strength = 0\n",
      "  4: lattice_constant = 2.0828990398901763,  resolution = 0.001541333133436018,  background_strength = 0\n",
      "  5: lattice_constant = 2.168349949068439,  resolution = 0.0034657715225368535,  background_strength = 0\n",
      "  6: lattice_constant = 2.1683499490684386,  resolution = 0.0003854818796385495,  background_strength = 0\n",
      "  7: lattice_constant = 2.346449152171442,  resolution = 0.006155829702431115,  background_strength = 0\n",
      "  8: lattice_constant = 2.533349647457059,  resolution = 0.013815039801161666,  background_strength = 0\n",
      "  9: lattice_constant = 2.533349647457059,  resolution = 0.024471741852423123,  background_strength = 0\n",
      " 10: lattice_constant = 2.929533730680731,  resolution = 0.04592841308745921,  background_strength = 0\n",
      " 20: lattice_constant = 3.672277893714652,  resolution = 0.10734153455962703,  background_strength = 0\n",
      " 30: lattice_constant = 3.6111489189461703,  resolution = 0.10060020003182057,  background_strength = 0\n",
      " 40: lattice_constant = 3.6153889907909953,  resolution = 0.10106208904259711,  background_strength = 0\n",
      " 50: lattice_constant = 3.6146999257258345,  resolution = 0.11312402545749134,  background_strength = 0\n",
      " 60: lattice_constant = 3.6146336705581517,  resolution = 0.11311643369767516,  background_strength = 0\n",
      " 70: lattice_constant = 3.614634498746568,  resolution = 0.10246365082538311,  background_strength = 0\n",
      " 80: lattice_constant = 3.6146336705581517,  resolution = 0.1013497997483005,  background_strength = 0\n",
      " 90: lattice_constant = 3.6146336964390393,  resolution = 0.10102597296641214,  background_strength = 0\n",
      "\n",
      "Final result:\n",
      "\n",
      "[[Fit Statistics]]\n",
      "    # function evals   = 98\n",
      "    # data points      = 200\n",
      "    # variables        = 2\n",
      "    chi-square         = 193.429\n",
      "    reduced chi-square = 0.977\n",
      "    Akaike info crit   = -2.681\n",
      "    Bayesian info crit = 3.915\n",
      "[[Variables]]\n",
      "    lattice_constant:      3.61463367 (init= 2)\n",
      "    resolution:            0.10097974 (init= 0)\n",
      "    background_strength:   0 (fixed)\n",
      "None\n"
     ]
    }
   ],
   "source": [
    "result = minimizer.run()"
   ]
  },
  {
   "cell_type": "code",
   "execution_count": 153,
   "metadata": {
    "ExecuteTime": {
     "end_time": "2019-10-25T16:35:16.568626Z",
     "start_time": "2019-10-25T16:35:16.564534Z"
    }
   },
   "outputs": [],
   "source": [
    "minimizer.update_parameters()"
   ]
  },
  {
   "cell_type": "code",
   "execution_count": 154,
   "metadata": {
    "ExecuteTime": {
     "end_time": "2019-10-25T16:35:18.498287Z",
     "start_time": "2019-10-25T16:35:18.313624Z"
    }
   },
   "outputs": [
    {
     "name": "stdout",
     "output_type": "stream",
     "text": [
      "  1: lattice_constant = 3.6146336705581517,  resolution = 0.10097974631720408,  background_strength = 0\n",
      "  2: lattice_constant = 3.6146336705581517,  resolution = 0.10097974631720408,  background_strength = 0\n",
      "  3: lattice_constant = 3.6146336705581517,  resolution = 0.10097974631720408,  background_strength = 0\n",
      "  4: lattice_constant = 3.6146336762687623,  resolution = 0.10097974631720408,  background_strength = 0\n",
      "  5: lattice_constant = 3.6146336705581517,  resolution = 0.10097975046589525,  background_strength = 0\n",
      "\n",
      "Final result:\n",
      "\n",
      "[[Fit Statistics]]\n",
      "    # function evals   = 5\n",
      "    # data points      = 200\n",
      "    # variables        = 2\n",
      "    chi-square         = 193.429\n",
      "    reduced chi-square = 0.977\n",
      "    Akaike info crit   = -2.681\n",
      "    Bayesian info crit = 3.915\n",
      "[[Variables]]\n",
      "    lattice_constant:      3.61463367 +/- 0        (0.00%) (init= 3.614634)\n",
      "    resolution:            0.10097975 +/- 0        (0.00%) (init= 0.1009797)\n",
      "    background_strength:   0 (fixed)\n",
      "None\n"
     ]
    },
    {
     "data": {
      "text/plain": [
       "<lmfit.minimizer.MinimizerResult at 0x120420320>"
      ]
     },
     "execution_count": 154,
     "metadata": {},
     "output_type": "execute_result"
    }
   ],
   "source": [
    "minimizer.run(method='leastsq')"
   ]
  },
  {
   "cell_type": "code",
   "execution_count": 155,
   "metadata": {
    "ExecuteTime": {
     "end_time": "2019-10-25T16:35:50.659344Z",
     "start_time": "2019-10-25T16:35:50.652675Z"
    }
   },
   "outputs": [
    {
     "data": {
      "text/plain": [
       "Parameters([('lattice_constant',\n",
       "             <Parameter 'lattice_constant', 3.6146336705581517, bounds=[1.0:7.0]>),\n",
       "            ('resolution',\n",
       "             <Parameter 'resolution', 0.10097974631720408, bounds=[0.0:1.0]>),\n",
       "            ('background_strength',\n",
       "             <Parameter 'background_strength', value=0 (fixed), bounds=[0.0:inf]>)])"
      ]
     },
     "execution_count": 155,
     "metadata": {},
     "output_type": "execute_result"
    }
   ],
   "source": [
    "result.params"
   ]
  },
  {
   "cell_type": "code",
   "execution_count": null,
   "metadata": {},
   "outputs": [],
   "source": []
  },
  {
   "cell_type": "code",
   "execution_count": null,
   "metadata": {},
   "outputs": [],
   "source": []
  },
  {
   "cell_type": "code",
   "execution_count": null,
   "metadata": {},
   "outputs": [],
   "source": []
  },
  {
   "cell_type": "code",
   "execution_count": null,
   "metadata": {},
   "outputs": [],
   "source": []
  },
  {
   "cell_type": "code",
   "execution_count": null,
   "metadata": {},
   "outputs": [],
   "source": []
  },
  {
   "cell_type": "code",
   "execution_count": null,
   "metadata": {},
   "outputs": [],
   "source": []
  },
  {
   "cell_type": "code",
   "execution_count": null,
   "metadata": {},
   "outputs": [],
   "source": []
  },
  {
   "cell_type": "code",
   "execution_count": null,
   "metadata": {
    "ExecuteTime": {
     "end_time": "2019-10-07T20:46:23.624510Z",
     "start_time": "2019-10-07T20:46:23.612466Z"
    }
   },
   "outputs": [],
   "source": [
    "minimizer.parameters.keys()"
   ]
  },
  {
   "cell_type": "code",
   "execution_count": null,
   "metadata": {
    "ExecuteTime": {
     "end_time": "2019-10-07T20:46:23.640028Z",
     "start_time": "2019-10-07T20:46:23.631773Z"
    }
   },
   "outputs": [],
   "source": [
    "minimizer.parameters.pretty_print(columns=['value'])"
   ]
  },
  {
   "cell_type": "code",
   "execution_count": null,
   "metadata": {
    "ExecuteTime": {
     "end_time": "2019-10-07T20:46:23.651439Z",
     "start_time": "2019-10-07T20:46:23.642658Z"
    }
   },
   "outputs": [],
   "source": [
    "minimizer.parameters.valuesdict()"
   ]
  },
  {
   "cell_type": "code",
   "execution_count": null,
   "metadata": {},
   "outputs": [],
   "source": []
  },
  {
   "cell_type": "code",
   "execution_count": null,
   "metadata": {
    "ExecuteTime": {
     "end_time": "2019-10-07T20:46:23.661882Z",
     "start_time": "2019-10-07T20:46:23.655970Z"
    }
   },
   "outputs": [],
   "source": [
    "def diff(params, wls, exp):\n",
    "    return Cu.get_powder_cross_section(**params.valuesdict())[1] - exp"
   ]
  },
  {
   "cell_type": "code",
   "execution_count": null,
   "metadata": {
    "ExecuteTime": {
     "end_time": "2019-10-07T20:46:23.681693Z",
     "start_time": "2019-10-07T20:46:23.668154Z"
    }
   },
   "outputs": [],
   "source": [
    "params = lmfit.Parameters()\n",
    "params.add('lattice_constant', value=4.5, min=3., max=6.)"
   ]
  },
  {
   "cell_type": "code",
   "execution_count": null,
   "metadata": {
    "ExecuteTime": {
     "end_time": "2019-10-07T20:46:23.690826Z",
     "start_time": "2019-10-07T20:46:23.685189Z"
    }
   },
   "outputs": [],
   "source": [
    "wls = wavelengths"
   ]
  },
  {
   "cell_type": "code",
   "execution_count": null,
   "metadata": {
    "ExecuteTime": {
     "end_time": "2019-10-07T20:46:23.738139Z",
     "start_time": "2019-10-07T20:46:23.694529Z"
    }
   },
   "outputs": [],
   "source": [
    "exp = Cu.get_powder_cross_section()[1]"
   ]
  },
  {
   "cell_type": "code",
   "execution_count": null,
   "metadata": {
    "ExecuteTime": {
     "end_time": "2019-10-07T20:46:24.030481Z",
     "start_time": "2019-10-07T20:46:23.744707Z"
    },
    "scrolled": true
   },
   "outputs": [],
   "source": [
    "plt.plot(wls,diff(params, wls, exp))"
   ]
  },
  {
   "cell_type": "code",
   "execution_count": null,
   "metadata": {
    "ExecuteTime": {
     "end_time": "2019-10-07T20:46:24.046196Z",
     "start_time": "2019-10-07T20:46:24.032719Z"
    }
   },
   "outputs": [],
   "source": [
    "lmfit.report_fit()"
   ]
  },
  {
   "cell_type": "code",
   "execution_count": null,
   "metadata": {},
   "outputs": [],
   "source": []
  },
  {
   "cell_type": "code",
   "execution_count": null,
   "metadata": {},
   "outputs": [],
   "source": []
  },
  {
   "cell_type": "code",
   "execution_count": null,
   "metadata": {},
   "outputs": [],
   "source": []
  },
  {
   "cell_type": "code",
   "execution_count": null,
   "metadata": {
    "ExecuteTime": {
     "end_time": "2019-10-07T20:46:24.062898Z",
     "start_time": "2019-10-07T20:46:24.051626Z"
    }
   },
   "outputs": [],
   "source": [
    "mn = lmfit.Minimizer(diff, params, fcn_args=(wls, exp))"
   ]
  },
  {
   "cell_type": "code",
   "execution_count": null,
   "metadata": {
    "ExecuteTime": {
     "end_time": "2019-10-07T20:46:25.818444Z",
     "start_time": "2019-10-07T20:46:24.066083Z"
    }
   },
   "outputs": [],
   "source": [
    "result = mn.minimize(method='bassinhopping')"
   ]
  },
  {
   "cell_type": "code",
   "execution_count": null,
   "metadata": {
    "ExecuteTime": {
     "end_time": "2019-10-07T20:46:25.831980Z",
     "start_time": "2019-10-07T20:46:25.820529Z"
    }
   },
   "outputs": [],
   "source": [
    "lmfit.Minimizer?"
   ]
  }
 ],
 "metadata": {
  "kernelspec": {
   "display_name": "Python 3",
   "language": "python",
   "name": "python3"
  },
  "language_info": {
   "codemirror_mode": {
    "name": "ipython",
    "version": 3
   },
   "file_extension": ".py",
   "mimetype": "text/x-python",
   "name": "python",
   "nbconvert_exporter": "python",
   "pygments_lexer": "ipython3",
   "version": "3.6.8"
  },
  "toc": {
   "base_numbering": 1,
   "nav_menu": {},
   "number_sections": true,
   "sideBar": true,
   "skip_h1_title": true,
   "title_cell": "Table of Contents",
   "title_sidebar": "Contents",
   "toc_cell": true,
   "toc_position": {},
   "toc_section_display": true,
   "toc_window_display": true
  },
  "varInspector": {
   "cols": {
    "lenName": 16,
    "lenType": 16,
    "lenVar": 40
   },
   "kernels_config": {
    "python": {
     "delete_cmd_postfix": "",
     "delete_cmd_prefix": "del ",
     "library": "var_list.py",
     "varRefreshCmd": "print(var_dic_list())"
    },
    "r": {
     "delete_cmd_postfix": ") ",
     "delete_cmd_prefix": "rm(",
     "library": "var_list.r",
     "varRefreshCmd": "cat(var_dic_list()) "
    }
   },
   "types_to_exclude": [
    "module",
    "function",
    "builtin_function_or_method",
    "instance",
    "_Feature"
   ],
   "window_display": false
  }
 },
 "nbformat": 4,
 "nbformat_minor": 2
}
