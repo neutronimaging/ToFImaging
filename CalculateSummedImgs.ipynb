{
 "cells": [
  {
   "cell_type": "markdown",
   "metadata": {},
   "source": [
    "# In this notebook I create a summed img from an energy resolved scan, thus obtaining the white beam projection, and save the result in some defined folder"
   ]
  },
  {
   "cell_type": "code",
   "execution_count": 41,
   "metadata": {
    "ExecuteTime": {
     "end_time": "2018-10-12T08:29:20.278209Z",
     "start_time": "2018-10-12T08:29:20.273384Z"
    },
    "collapsed": false
   },
   "outputs": [],
   "source": [
    "import skimage\n",
    "import os, fnmatch\n",
    "import numpy as np\n",
    "import matplotlib.pyplot as plt\n",
    "%matplotlib inline\n",
    "# %matplotlib notebook\n",
    "import pylab\n",
    "import scipy\n",
    "from skimage import io\n",
    "from os import listdir\n",
    "from astropy.io import fits"
   ]
  },
  {
   "cell_type": "code",
   "execution_count": 42,
   "metadata": {
    "ExecuteTime": {
     "end_time": "2018-10-12T08:29:20.291406Z",
     "start_time": "2018-10-12T08:29:20.279467Z"
    },
    "collapsed": false
   },
   "outputs": [
    {
     "name": "stdout",
     "output_type": "stream",
     "text": [
      "/data/data2/RADEN_Feb2018/08_FurnaceARMCO/\n",
      "/data/data2/RADEN_Feb2018/08_FurnaceARMCO/After47A/\n"
     ]
    }
   ],
   "source": [
    "# rootpath='/data/data2/RADEN_Feb2018/07_TomoA_ARMCO/' #this is the path to be eventually changed\n",
    "# rootpath='/data/data2/RADEN_Feb2018/10_Tomo_Final/' #this is the path to be eventually changed\n",
    "rootpath='/data/data2/RADEN_Feb2018/08_FurnaceARMCO/'\n",
    "# savepath=rootpath+'WhiteBeam/'\n",
    "savepath=rootpath+'After47A/'\n",
    "print(rootpath)\n",
    "print(savepath)"
   ]
  },
  {
   "cell_type": "code",
   "execution_count": 43,
   "metadata": {
    "ExecuteTime": {
     "end_time": "2018-10-12T08:29:20.296566Z",
     "start_time": "2018-10-12T08:29:20.292429Z"
    },
    "collapsed": false
   },
   "outputs": [],
   "source": [
    "coll_dir = fnmatch.filter(listdir(rootpath),'TEST*')"
   ]
  },
  {
   "cell_type": "code",
   "execution_count": 44,
   "metadata": {
    "ExecuteTime": {
     "end_time": "2018-10-12T08:29:20.304778Z",
     "start_time": "2018-10-12T08:29:20.297549Z"
    },
    "collapsed": false
   },
   "outputs": [],
   "source": [
    "after_47A=[700,-1]"
   ]
  },
  {
   "cell_type": "code",
   "execution_count": 45,
   "metadata": {
    "ExecuteTime": {
     "end_time": "2018-10-12T08:29:20.314361Z",
     "start_time": "2018-10-12T08:29:20.305870Z"
    },
    "collapsed": false
   },
   "outputs": [],
   "source": [
    "if not os.path.exists(savepath):\n",
    "    os.makedirs(savepath)"
   ]
  },
  {
   "cell_type": "code",
   "execution_count": 46,
   "metadata": {
    "ExecuteTime": {
     "end_time": "2018-10-12T08:52:43.339687Z",
     "start_time": "2018-10-12T08:29:20.315471Z"
    },
    "collapsed": false
   },
   "outputs": [
    {
     "name": "stdout",
     "output_type": "stream",
     "text": [
      "0\n",
      "/data/data2/RADEN_Feb2018/08_FurnaceARMCO/After47A/Summed_img_10_002.tif\n",
      "1\n",
      "/data/data2/RADEN_Feb2018/08_FurnaceARMCO/After47A/Summed_img_10_013.tif\n",
      "2\n",
      "/data/data2/RADEN_Feb2018/08_FurnaceARMCO/After47A/Summed_img_10_009.tif\n",
      "3\n",
      "/data/data2/RADEN_Feb2018/08_FurnaceARMCO/After47A/Summed_img_10_086.tif\n",
      "4\n",
      "/data/data2/RADEN_Feb2018/08_FurnaceARMCO/After47A/Summed_img_10_049.tif\n",
      "5\n",
      "/data/data2/RADEN_Feb2018/08_FurnaceARMCO/After47A/Summed_img_10_089.tif\n",
      "6\n",
      "/data/data2/RADEN_Feb2018/08_FurnaceARMCO/After47A/Summed_img_10_017.tif\n",
      "7\n",
      "/data/data2/RADEN_Feb2018/08_FurnaceARMCO/After47A/Summed_img_10_008.tif\n",
      "8\n",
      "/data/data2/RADEN_Feb2018/08_FurnaceARMCO/After47A/Summed_img_10_070.tif\n",
      "9\n",
      "/data/data2/RADEN_Feb2018/08_FurnaceARMCO/After47A/Summed_img_10_033.tif\n",
      "10\n",
      "/data/data2/RADEN_Feb2018/08_FurnaceARMCO/After47A/Summed_img_10_053.tif\n",
      "11\n",
      "/data/data2/RADEN_Feb2018/08_FurnaceARMCO/After47A/Summed_img_10_080.tif\n",
      "12\n",
      "/data/data2/RADEN_Feb2018/08_FurnaceARMCO/After47A/Summed_img_10_085.tif\n",
      "13\n",
      "/data/data2/RADEN_Feb2018/08_FurnaceARMCO/After47A/Summed_img_10_087.tif\n",
      "14\n",
      "/data/data2/RADEN_Feb2018/08_FurnaceARMCO/After47A/Summed_img_10_083.tif\n",
      "15\n",
      "/data/data2/RADEN_Feb2018/08_FurnaceARMCO/After47A/Summed_img_10_012.tif\n",
      "16\n",
      "/data/data2/RADEN_Feb2018/08_FurnaceARMCO/After47A/Summed_img_10_091.tif\n",
      "17\n",
      "/data/data2/RADEN_Feb2018/08_FurnaceARMCO/After47A/Summed_img_10_059.tif\n",
      "18\n",
      "/data/data2/RADEN_Feb2018/08_FurnaceARMCO/After47A/Summed_img_10_019.tif\n",
      "19\n",
      "/data/data2/RADEN_Feb2018/08_FurnaceARMCO/After47A/Summed_img_10_065.tif\n",
      "20\n",
      "/data/data2/RADEN_Feb2018/08_FurnaceARMCO/After47A/Summed_img_10_093.tif\n",
      "21\n",
      "/data/data2/RADEN_Feb2018/08_FurnaceARMCO/After47A/Summed_img_10_014.tif\n",
      "22\n",
      "/data/data2/RADEN_Feb2018/08_FurnaceARMCO/After47A/Summed_img_10_092.tif\n",
      "23\n",
      "/data/data2/RADEN_Feb2018/08_FurnaceARMCO/After47A/Summed_img_10_074.tif\n",
      "24\n",
      "/data/data2/RADEN_Feb2018/08_FurnaceARMCO/After47A/Summed_img_10_079.tif\n",
      "25\n",
      "/data/data2/RADEN_Feb2018/08_FurnaceARMCO/After47A/Summed_img_10_005.tif\n",
      "26\n",
      "/data/data2/RADEN_Feb2018/08_FurnaceARMCO/After47A/Summed_img_10_072.tif\n",
      "27\n",
      "/data/data2/RADEN_Feb2018/08_FurnaceARMCO/After47A/Summed_img_10_094.tif\n",
      "28\n",
      "/data/data2/RADEN_Feb2018/08_FurnaceARMCO/After47A/Summed_img_10_026.tif\n",
      "29\n",
      "/data/data2/RADEN_Feb2018/08_FurnaceARMCO/After47A/Summed_img_10_069.tif\n",
      "30\n",
      "/data/data2/RADEN_Feb2018/08_FurnaceARMCO/After47A/Summed_img_10_036.tif\n",
      "31\n",
      "/data/data2/RADEN_Feb2018/08_FurnaceARMCO/After47A/Summed_img_10_028.tif\n",
      "32\n",
      "/data/data2/RADEN_Feb2018/08_FurnaceARMCO/After47A/Summed_img_10_016.tif\n",
      "33\n",
      "/data/data2/RADEN_Feb2018/08_FurnaceARMCO/After47A/Summed_img_10_054.tif\n",
      "34\n",
      "/data/data2/RADEN_Feb2018/08_FurnaceARMCO/After47A/Summed_img_10_042.tif\n",
      "35\n",
      "/data/data2/RADEN_Feb2018/08_FurnaceARMCO/After47A/Summed_img_10_030.tif\n",
      "36\n",
      "/data/data2/RADEN_Feb2018/08_FurnaceARMCO/After47A/Summed_img_10_082.tif\n",
      "37\n",
      "/data/data2/RADEN_Feb2018/08_FurnaceARMCO/After47A/Summed_img_10_078.tif\n",
      "38\n",
      "/data/data2/RADEN_Feb2018/08_FurnaceARMCO/After47A/Summed_img_10_031.tif\n",
      "39\n",
      "/data/data2/RADEN_Feb2018/08_FurnaceARMCO/After47A/Summed_img_10_058.tif\n",
      "40\n",
      "/data/data2/RADEN_Feb2018/08_FurnaceARMCO/After47A/Summed_img_10_077.tif\n",
      "41\n",
      "/data/data2/RADEN_Feb2018/08_FurnaceARMCO/After47A/Summed_img_10_084.tif\n",
      "42\n",
      "/data/data2/RADEN_Feb2018/08_FurnaceARMCO/After47A/Summed_img_10_025.tif\n",
      "43\n",
      "/data/data2/RADEN_Feb2018/08_FurnaceARMCO/After47A/Summed_img_10_034.tif\n",
      "44\n",
      "/data/data2/RADEN_Feb2018/08_FurnaceARMCO/After47A/Summed_img_10_041.tif\n",
      "45\n",
      "/data/data2/RADEN_Feb2018/08_FurnaceARMCO/After47A/Summed_img_10_076.tif\n",
      "46\n",
      "/data/data2/RADEN_Feb2018/08_FurnaceARMCO/After47A/Summed_img_10_050.tif\n",
      "47\n",
      "/data/data2/RADEN_Feb2018/08_FurnaceARMCO/After47A/Summed_img_10_043.tif\n",
      "48\n",
      "/data/data2/RADEN_Feb2018/08_FurnaceARMCO/After47A/Summed_img_10_048.tif\n",
      "49\n",
      "/data/data2/RADEN_Feb2018/08_FurnaceARMCO/After47A/Summed_img_10_023.tif\n",
      "50\n",
      "/data/data2/RADEN_Feb2018/08_FurnaceARMCO/After47A/Summed_img_10_032.tif\n",
      "51\n",
      "/data/data2/RADEN_Feb2018/08_FurnaceARMCO/After47A/Summed_img_10_046.tif\n",
      "52\n",
      "/data/data2/RADEN_Feb2018/08_FurnaceARMCO/After47A/Summed_img_10_095.tif\n",
      "53\n",
      "/data/data2/RADEN_Feb2018/08_FurnaceARMCO/After47A/Summed_img_10_007.tif\n",
      "54\n",
      "/data/data2/RADEN_Feb2018/08_FurnaceARMCO/After47A/Summed_img_10_001.tif\n",
      "55\n",
      "/data/data2/RADEN_Feb2018/08_FurnaceARMCO/After47A/Summed_img_10_045.tif\n",
      "56\n",
      "/data/data2/RADEN_Feb2018/08_FurnaceARMCO/After47A/Summed_img_10_067.tif\n",
      "57\n",
      "/data/data2/RADEN_Feb2018/08_FurnaceARMCO/After47A/Summed_img_10_066.tif\n",
      "58\n",
      "/data/data2/RADEN_Feb2018/08_FurnaceARMCO/After47A/Summed_img_10_096.tif\n",
      "59\n",
      "/data/data2/RADEN_Feb2018/08_FurnaceARMCO/After47A/Summed_img_10_004.tif\n",
      "60\n",
      "/data/data2/RADEN_Feb2018/08_FurnaceARMCO/After47A/Summed_img_10_057.tif\n",
      "61\n",
      "/data/data2/RADEN_Feb2018/08_FurnaceARMCO/After47A/Summed_img_10_022.tif\n",
      "62\n",
      "/data/data2/RADEN_Feb2018/08_FurnaceARMCO/After47A/Summed_img_10_088.tif\n",
      "63\n",
      "/data/data2/RADEN_Feb2018/08_FurnaceARMCO/After47A/Summed_img_10_075.tif\n",
      "64\n",
      "/data/data2/RADEN_Feb2018/08_FurnaceARMCO/After47A/Summed_img_10_039.tif\n",
      "65\n",
      "/data/data2/RADEN_Feb2018/08_FurnaceARMCO/After47A/Summed_img_10_018.tif\n",
      "66\n",
      "/data/data2/RADEN_Feb2018/08_FurnaceARMCO/After47A/Summed_img_10_044.tif\n",
      "67\n",
      "/data/data2/RADEN_Feb2018/08_FurnaceARMCO/After47A/Summed_img_10_021.tif\n",
      "68\n",
      "/data/data2/RADEN_Feb2018/08_FurnaceARMCO/After47A/Summed_img_10_056.tif\n",
      "69\n",
      "/data/data2/RADEN_Feb2018/08_FurnaceARMCO/After47A/Summed_img_10_000.tif\n",
      "70\n",
      "/data/data2/RADEN_Feb2018/08_FurnaceARMCO/After47A/Summed_img_10_090.tif\n",
      "71\n",
      "/data/data2/RADEN_Feb2018/08_FurnaceARMCO/After47A/Summed_img_10_052.tif\n",
      "72\n",
      "/data/data2/RADEN_Feb2018/08_FurnaceARMCO/After47A/Summed_img_10_038.tif\n",
      "73\n",
      "/data/data2/RADEN_Feb2018/08_FurnaceARMCO/After47A/Summed_img_10_035.tif\n",
      "74\n",
      "/data/data2/RADEN_Feb2018/08_FurnaceARMCO/After47A/Summed_img_10_073.tif\n",
      "75\n",
      "/data/data2/RADEN_Feb2018/08_FurnaceARMCO/After47A/Summed_img_10_027.tif\n",
      "76\n",
      "/data/data2/RADEN_Feb2018/08_FurnaceARMCO/After47A/Summed_img_10_061.tif\n",
      "77\n",
      "/data/data2/RADEN_Feb2018/08_FurnaceARMCO/After47A/Summed_img_10_010.tif\n",
      "78\n",
      "/data/data2/RADEN_Feb2018/08_FurnaceARMCO/After47A/Summed_img_10_029.tif\n",
      "79\n",
      "/data/data2/RADEN_Feb2018/08_FurnaceARMCO/After47A/Summed_img_10_047.tif\n",
      "80\n",
      "/data/data2/RADEN_Feb2018/08_FurnaceARMCO/After47A/Summed_img_10_055.tif\n",
      "81\n",
      "/data/data2/RADEN_Feb2018/08_FurnaceARMCO/After47A/Summed_img_10_020.tif\n",
      "82\n",
      "/data/data2/RADEN_Feb2018/08_FurnaceARMCO/After47A/Summed_img_10_040.tif\n",
      "83\n",
      "/data/data2/RADEN_Feb2018/08_FurnaceARMCO/After47A/Summed_img_10_062.tif\n",
      "84\n",
      "/data/data2/RADEN_Feb2018/08_FurnaceARMCO/After47A/Summed_img_10_051.tif\n",
      "85\n",
      "/data/data2/RADEN_Feb2018/08_FurnaceARMCO/After47A/Summed_img_10_064.tif\n",
      "86\n",
      "/data/data2/RADEN_Feb2018/08_FurnaceARMCO/After47A/Summed_img_10_037.tif\n",
      "87\n",
      "/data/data2/RADEN_Feb2018/08_FurnaceARMCO/After47A/Summed_img_10_081.tif\n",
      "88\n",
      "/data/data2/RADEN_Feb2018/08_FurnaceARMCO/After47A/Summed_img_10_003.tif\n",
      "89\n",
      "/data/data2/RADEN_Feb2018/08_FurnaceARMCO/After47A/Summed_img_10_015.tif\n",
      "90\n",
      "/data/data2/RADEN_Feb2018/08_FurnaceARMCO/After47A/Summed_img_10_006.tif\n",
      "91\n",
      "/data/data2/RADEN_Feb2018/08_FurnaceARMCO/After47A/Summed_img_10_071.tif\n",
      "92\n",
      "/data/data2/RADEN_Feb2018/08_FurnaceARMCO/After47A/Summed_img_10_063.tif\n",
      "93\n",
      "/data/data2/RADEN_Feb2018/08_FurnaceARMCO/After47A/Summed_img_10_068.tif\n",
      "94\n",
      "/data/data2/RADEN_Feb2018/08_FurnaceARMCO/After47A/Summed_img_10_024.tif\n",
      "95\n",
      "/data/data2/RADEN_Feb2018/08_FurnaceARMCO/After47A/Summed_img_10_011.tif\n",
      "96\n",
      "/data/data2/RADEN_Feb2018/08_FurnaceARMCO/After47A/Summed_img_10_060.tif\n"
     ]
    }
   ],
   "source": [
    "for i in range(0, len(coll_dir)):\n",
    "    path= rootpath+coll_dir[i]+'/Corrected/'\n",
    "#     print(path)\n",
    "#     coll = listdir(path) # this just lists everything   \n",
    "    summed_img = np.zeros([512,512], dtype='>f4')\n",
    "    current_dir = fnmatch.filter(listdir(path),'*.fits')\n",
    "    \n",
    "    for x in range(0, after_4A[0]-1):\n",
    "        name=path+current_dir[x]\n",
    "        im = fits.open(name)\n",
    "        data=im[0].data\n",
    "        summed_img+= data\n",
    "\n",
    "    \n",
    "    io.imsave(savepath+'Summed_img_'+current_dir[0][4:10]+'.tif', summed_img)\n",
    "    print(i)\n",
    "    print(savepath+'Summed_img_'+current_dir[0][4:10]+'.tif')\n",
    "\n",
    "\n"
   ]
  },
  {
   "cell_type": "code",
   "execution_count": null,
   "metadata": {
    "collapsed": true
   },
   "outputs": [],
   "source": []
  }
 ],
 "metadata": {
  "kernelspec": {
   "display_name": "Python 2",
   "language": "python",
   "name": "python2"
  },
  "language_info": {
   "codemirror_mode": {
    "name": "ipython",
    "version": 2
   },
   "file_extension": ".py",
   "mimetype": "text/x-python",
   "name": "python",
   "nbconvert_exporter": "python",
   "pygments_lexer": "ipython2",
   "version": "2.7.12"
  },
  "varInspector": {
   "cols": {
    "lenName": 16,
    "lenType": 16,
    "lenVar": 40
   },
   "kernels_config": {
    "python": {
     "delete_cmd_postfix": "",
     "delete_cmd_prefix": "del ",
     "library": "var_list.py",
     "varRefreshCmd": "print(var_dic_list())"
    },
    "r": {
     "delete_cmd_postfix": ") ",
     "delete_cmd_prefix": "rm(",
     "library": "var_list.r",
     "varRefreshCmd": "cat(var_dic_list()) "
    }
   },
   "position": {
    "height": "490px",
    "left": "1647.5px",
    "right": "-400.833px",
    "top": "464px",
    "width": "800px"
   },
   "types_to_exclude": [
    "module",
    "function",
    "builtin_function_or_method",
    "instance",
    "_Feature"
   ],
   "window_display": true
  }
 },
 "nbformat": 4,
 "nbformat_minor": 2
}
