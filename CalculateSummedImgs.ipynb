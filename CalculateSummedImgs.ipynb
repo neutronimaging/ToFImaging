{
 "cells": [
  {
   "cell_type": "markdown",
   "metadata": {},
   "source": [
    "# In this notebook I create a summed img from an energy resolved scan, thus obtaining the white beam projection, and save the result in some defined folder"
   ]
  },
  {
   "cell_type": "code",
   "execution_count": 1,
   "metadata": {
    "ExecuteTime": {
     "end_time": "2018-10-12T17:49:56.829190Z",
     "start_time": "2018-10-12T17:49:53.676360Z"
    },
    "collapsed": false
   },
   "outputs": [
    {
     "name": "stderr",
     "output_type": "stream",
     "text": [
      "/home/carminati_c/anaconda2/lib/python2.7/site-packages/matplotlib/font_manager.py:273: UserWarning: Matplotlib is building the font cache using fc-list. This may take a moment.\n",
      "  warnings.warn('Matplotlib is building the font cache using fc-list. This may take a moment.')\n"
     ]
    }
   ],
   "source": [
    "import skimage\n",
    "import os, fnmatch\n",
    "import numpy as np\n",
    "import matplotlib.pyplot as plt\n",
    "%matplotlib inline\n",
    "# %matplotlib notebook\n",
    "import pylab\n",
    "import scipy\n",
    "from skimage import io\n",
    "from os import listdir\n",
    "from astropy.io import fits"
   ]
  },
  {
   "cell_type": "code",
   "execution_count": 2,
   "metadata": {
    "ExecuteTime": {
     "end_time": "2018-10-12T17:49:56.846736Z",
     "start_time": "2018-10-12T17:49:56.841753Z"
    },
    "collapsed": false
   },
   "outputs": [
    {
     "name": "stdout",
     "output_type": "stream",
     "text": [
      "/data/data2/RADEN_Feb2018/08_FurnaceARMCO/\n",
      "/data/data2/RADEN_Feb2018/08_FurnaceARMCO/After47A/\n"
     ]
    }
   ],
   "source": [
    "# rootpath='/data/data2/RADEN_Feb2018/07_TomoA_ARMCO/' #this is the path to be eventually changed\n",
    "# rootpath='/data/data2/RADEN_Feb2018/10_Tomo_Final/' #this is the path to be eventually changed\n",
    "rootpath='/data/data2/RADEN_Feb2018/08_FurnaceARMCO/'\n",
    "# savepath=rootpath+'WhiteBeam/'\n",
    "savepath=rootpath+'After47A/'\n",
    "print(rootpath)\n",
    "print(savepath)"
   ]
  },
  {
   "cell_type": "code",
   "execution_count": 6,
   "metadata": {
    "ExecuteTime": {
     "end_time": "2018-10-12T17:50:19.869480Z",
     "start_time": "2018-10-12T17:50:19.866596Z"
    },
    "collapsed": false
   },
   "outputs": [
    {
     "name": "stdout",
     "output_type": "stream",
     "text": [
      "['TEST10_002', 'TEST10_013', 'TEST10_009', 'TEST10_086', 'TEST10_049', 'TEST10_089', 'TEST10_017', 'TEST10_008', 'TEST10_070', 'TEST10_033', 'TEST10_053', 'TEST10_080', 'TEST10_085', 'TEST10_087', 'TEST10_083', 'TEST10_012', 'TEST10_091', 'TEST10_059', 'TEST10_019', 'TEST10_065', 'TEST10_093', 'TEST10_014', 'TEST10_092', 'TEST10_074', 'TEST10_079', 'TEST10_005', 'TEST10_072', 'TEST10_094', 'TEST10_026', 'TEST10_069', 'TEST10_036', 'TEST10_028', 'TEST10_016', 'TEST10_054', 'TEST10_042', 'TEST10_030', 'TEST10_082', 'TEST10_078', 'TEST10_031', 'TEST10_058', 'TEST10_077', 'TEST10_084', 'TEST10_025', 'TEST10_034', 'TEST10_041', 'TEST10_076', 'TEST10_050', 'TEST10_043', 'TEST10_048', 'TEST10_023', 'TEST10_032', 'TEST10_046', 'TEST10_095', 'TEST10_007', 'TEST10_001', 'TEST10_045', 'TEST10_067', 'TEST10_066', 'TEST10_096', 'TEST10_004', 'TEST10_057', 'TEST10_022', 'TEST10_088', 'TEST10_075', 'TEST10_039', 'TEST10_018', 'TEST10_044', 'TEST10_021', 'TEST10_056', 'TEST10_000', 'TEST10_090', 'TEST10_052', 'TEST10_038', 'TEST10_035', 'TEST10_073', 'TEST10_027', 'TEST10_061', 'TEST10_010', 'TEST10_029', 'TEST10_047', 'TEST10_055', 'TEST10_020', 'TEST10_040', 'TEST10_062', 'TEST10_051', 'TEST10_064', 'TEST10_037', 'TEST10_081', 'TEST10_003', 'TEST10_015', 'TEST10_006', 'TEST10_071', 'TEST10_063', 'TEST10_068', 'TEST10_024', 'TEST10_011', 'TEST10_060']\n"
     ]
    }
   ],
   "source": [
    "coll_dir = fnmatch.filter(listdir(rootpath),'TEST*')"
   ]
  },
  {
   "cell_type": "code",
   "execution_count": 9,
   "metadata": {
    "ExecuteTime": {
     "end_time": "2018-10-12T17:51:08.187195Z",
     "start_time": "2018-10-12T17:51:08.184374Z"
    },
    "collapsed": false
   },
   "outputs": [],
   "source": [
    "if not os.path.exists(savepath):\n",
    "    os.makedirs(savepath)"
   ]
  },
  {
   "cell_type": "code",
   "execution_count": 23,
   "metadata": {
    "ExecuteTime": {
     "end_time": "2018-10-12T18:08:38.535490Z",
     "start_time": "2018-10-12T17:58:50.022628Z"
    },
    "collapsed": false
   },
   "outputs": [],
   "source": [
    "for i in range(0, len(coll_dir)):\n",
    "    path= rootpath+coll_dir[i]+'/Corrected/'\n",
    "#     print(path)\n",
    "#     coll = listdir(path) # this just lists everything   \n",
    "    summed_img = np.zeros([512,512], dtype='>f4')\n",
    "    current_dir = fnmatch.filter(listdir(path),'*.fits')\n",
    "    sorted_dir = sorted(current_dir)\n",
    "    \n",
    "    myrange=[700,len(sorted_dir)] # here one has to select which range to use for the summing of the images\n",
    "\n",
    "    \n",
    "    for x in range(myrange[0], myrange[1]):\n",
    "        name=path+sorted_dir[x]\n",
    "#         print(name)\n",
    "        im = fits.open(name)\n",
    "        data=im[0].data\n",
    "        summed_img+= data\n",
    "\n",
    "    \n",
    "    io.imsave(savepath+'Summed_img_'+current_dir[0][4:10]+'.tif', summed_img)\n",
    "#     print(i)\n",
    "#     print(savepath+'Summed_img_'+current_dir[0][4:10]+'.tif')\n",
    "\n",
    "\n"
   ]
  },
  {
   "cell_type": "code",
   "execution_count": null,
   "metadata": {
    "collapsed": true
   },
   "outputs": [],
   "source": []
  }
 ],
 "metadata": {
  "kernelspec": {
   "display_name": "Python 2",
   "language": "python",
   "name": "python2"
  },
  "language_info": {
   "codemirror_mode": {
    "name": "ipython",
    "version": 2
   },
   "file_extension": ".py",
   "mimetype": "text/x-python",
   "name": "python",
   "nbconvert_exporter": "python",
   "pygments_lexer": "ipython2",
   "version": "2.7.12"
  },
  "varInspector": {
   "cols": {
    "lenName": 16,
    "lenType": 16,
    "lenVar": 40
   },
   "kernels_config": {
    "python": {
     "delete_cmd_postfix": "",
     "delete_cmd_prefix": "del ",
     "library": "var_list.py",
     "varRefreshCmd": "print(var_dic_list())"
    },
    "r": {
     "delete_cmd_postfix": ") ",
     "delete_cmd_prefix": "rm(",
     "library": "var_list.r",
     "varRefreshCmd": "cat(var_dic_list()) "
    }
   },
   "position": {
    "height": "490px",
    "left": "1647.5px",
    "right": "-400.833px",
    "top": "464px",
    "width": "800px"
   },
   "types_to_exclude": [
    "module",
    "function",
    "builtin_function_or_method",
    "instance",
    "_Feature"
   ],
   "window_display": true
  }
 },
 "nbformat": 4,
 "nbformat_minor": 2
}
