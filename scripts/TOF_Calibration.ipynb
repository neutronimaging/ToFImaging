{
 "cells": [
  {
   "cell_type": "markdown",
   "metadata": {},
   "source": [
    "# This notebook implements the routine for flight-path calibration\n",
    "\n",
    "        What it should be done:\n",
    "        - read the theoretical spectrum\n",
    "        - read the calibration sample\n",
    "        - be able to convert from TOF to lambda and back\n",
    "        - the peak positions are detected and single edge fitting is applied\n",
    "        - calculate L, T0 or deltaL, which are the results of the calibration \n",
    "        \n",
    "        time to lambda convertion:\n",
    "            lambda = h/mL (t-t0)\n",
    "            where:lambda = wavelength [A] (A=0.1nm = 1e-10m)\n",
    "                    h = Planck's constant: 6.62607004 × 10-34 m^2 kg / s\n",
    "                    m = Neutron mass [kg]: 1.674 927 471 x 10-27 kg \n",
    "                    L = total flight path [m]\n",
    "                    t = time of flight [s]\n",
    "        \n",
    "       Convertion between time of flight and neutron wavelenght can be done after flight-path calibration: the value of the distance between the source and the transmission detector L0  and the time delay of the source trigger DT0, is obtained by linear regression to the function  lambda = h/mL (t-t0), or t= lambda(mL/h)+t0, with h= Planck constant\n",
    "        \n",
    "        txt files used as inputs are extracted from nxsplotter\n",
    "        "
   ]
  },
  {
   "cell_type": "code",
   "execution_count": null,
   "metadata": {
    "ExecuteTime": {
     "end_time": "2019-02-08T13:47:44.308070Z",
     "start_time": "2019-02-08T13:47:40.516160Z"
    },
    "scrolled": true
   },
   "outputs": [],
   "source": [
    "import numpy as np\n",
    "\n",
    "import matplotlib.pyplot as plt\n",
    "from astropy.io import fits\n",
    "import os, fnmatch\n",
    "from os import listdir\n",
    "\n",
    "import scipy.signal\n",
    "print(scipy.__version__)\n",
    "from scipy.signal import find_peaks\n",
    "\n",
    "from ipywidgets import widgets\n",
    "import IPython.display as Disp\n",
    "import cv2\n",
    "\n",
    "import AdvancedBraggEdgeFitting\n",
    "from TOF_routines import find_first, find_last, find_nearest\n",
    "from TOF_routines import tof2l, l2tof\n",
    "\n",
    "import ipywe.fileselector\n",
    "from IPython.core.display import display, HTML\n",
    "display(HTML(\"<style>.container { width:90% !important; }</style>\"))"
   ]
  },
  {
   "cell_type": "markdown",
   "metadata": {},
   "source": [
    "## Give as input the filename the theoretical spectrum (y-axis) and lambda (x-axis)\n",
    "### here they are txt files extracted from nxsplotter"
   ]
  },
  {
   "cell_type": "code",
   "execution_count": null,
   "metadata": {},
   "outputs": [],
   "source": [
    "# Select theoretical spectrum file (txt)\n",
    "# alternative:\n",
    "# file_s_the = input('Select theoretical spectrum file (txt): ')\n",
    "# ex: /home/carminati_c/git/ToFImaging/scripts/data/alpha.txt\n",
    "fsel_file_spectrum= ipywe.fileselector.FileSelectorPanel(instruction='Select txt file for the reference spectrum', start_dir='.', type='file')\n",
    "fsel_file_spectrum.show()"
   ]
  },
  {
   "cell_type": "code",
   "execution_count": null,
   "metadata": {},
   "outputs": [],
   "source": [
    "file_s_the = fsel_file_spectrum.selected\n",
    "# ex: data/alpha.txt\n",
    "print(file_s_the)"
   ]
  },
  {
   "cell_type": "code",
   "execution_count": null,
   "metadata": {},
   "outputs": [],
   "source": [
    "# Select lambda txt file for the reference spectrum \n",
    "# alternative:\n",
    "# file_l_th  =input('Select corresponding lambda (txt): ')\n",
    "# ex: /home/carminati_c/git/ToFImaging/scripts/data/lambda.txt\n",
    "fsel_file_lambda= ipywe.fileselector.FileSelectorPanel(instruction='Select txt file for the reference lambda', start_dir='.', type='file')\n",
    "fsel_file_lambda.show()"
   ]
  },
  {
   "cell_type": "code",
   "execution_count": null,
   "metadata": {},
   "outputs": [],
   "source": [
    "# Select corresponding lambda\n",
    "file_l_th  = fsel_file_lambda.selected\n",
    "print(file_l_th)\n",
    "# ex: data/lambda.txt"
   ]
  },
  {
   "cell_type": "code",
   "execution_count": null,
   "metadata": {
    "ExecuteTime": {
     "end_time": "2019-02-08T13:54:23.513693Z",
     "start_time": "2019-02-08T13:54:23.256247Z"
    }
   },
   "outputs": [],
   "source": [
    "mylambda = np.genfromtxt(file_l_th, usecols=0)\n",
    "myspectrum = np.genfromtxt(file_s_the, usecols=0)"
   ]
  },
  {
   "cell_type": "code",
   "execution_count": null,
   "metadata": {},
   "outputs": [],
   "source": [
    "# Select list of corresponding hkls\n",
    "# alternative: file_hkl = input()\n",
    "# ex. data/alphaFe_hkl\n",
    "\n",
    "fsel_file_hkl = ipywe.fileselector.FileSelectorPanel(instruction='Select txt file for the hkl list', start_dir='.', type='file')\n",
    "fsel_file_hkl.show()"
   ]
  },
  {
   "cell_type": "code",
   "execution_count": null,
   "metadata": {},
   "outputs": [],
   "source": [
    "file_hkl = fsel_file_hkl.selected\n",
    "dhkl_alphaFe = np.genfromtxt(file_hkl, usecols=4)\n",
    "h_alphaFe= np.genfromtxt(file_hkl, usecols=0)\n",
    "k_alphaFe= np.genfromtxt(file_hkl, usecols=1)\n",
    "l_alphaFe= np.genfromtxt(file_hkl, usecols=2)\n"
   ]
  },
  {
   "cell_type": "code",
   "execution_count": null,
   "metadata": {},
   "outputs": [],
   "source": [
    "fig, ax = plt.subplots(figsize=(10,5))\n",
    "plt.plot(mylambda, myspectrum, label=r'$\\alpha$ Fe, Martensite')\n",
    "\n",
    "for i in range(0,7):\n",
    "    plt.plot(np.array([2*dhkl_alphaFe[i],2*dhkl_alphaFe[i]]), np.array([7,22]), '--k')\n",
    "    mytext = '('+str((h_alphaFe[i]).astype(int))+','+str(k_alphaFe[i].astype(int))+','+str(l_alphaFe[i].astype(int))+')'\n",
    "    plt.text(2*dhkl_alphaFe[i]-0.05,24, mytext, rotation=45, color='k')\n",
    "    plt.text(2*dhkl_alphaFe[i]-0.05,6.5, str(2*dhkl_alphaFe[i]), rotation=45, color='k')\n",
    "\n",
    "plt.legend(loc='upper right')\n",
    "plt.xlim(1,6.5)\n",
    "plt.ylim(5,25)\n",
    "plt.ylabel('total cross section [barn]')\n",
    "plt.xlabel('wavelength [A]')\n",
    "plt.title('Theoretical Fe total cross section and lattice parameters')\n",
    "\n",
    "print('---- Peak positions given by the lattice parameters ----')\n",
    "print(dhkl_alphaFe*2)"
   ]
  },
  {
   "cell_type": "markdown",
   "metadata": {},
   "source": [
    "## Read the measured spectra file for the TOF calibration sample scan\n",
    "### spectra txt file"
   ]
  },
  {
   "cell_type": "code",
   "execution_count": null,
   "metadata": {},
   "outputs": [],
   "source": [
    "# Select spectra txt file\n",
    "# alternative :\n",
    "# spectra_txt_file = input(\"Select spectra file (txt): \")\n",
    "# ex: /media/carminati_c/Data2/IMAT_Nov2018/02_HighStats_radio_1hruns/samples_after_reboot_OC_Fiji/IMAT00010420_HighStats_Radio_1hruns_000_Spectra.txt\n",
    "\n",
    "fsel_spectra = ipywe.fileselector.FileSelectorPanel(instruction='Select spectra txt file', start_dir='.', type='file')\n",
    "fsel_spectra.show()"
   ]
  },
  {
   "cell_type": "code",
   "execution_count": null,
   "metadata": {
    "ExecuteTime": {
     "end_time": "2019-02-08T13:48:07.320898Z",
     "start_time": "2019-02-08T13:48:07.115067Z"
    }
   },
   "outputs": [],
   "source": [
    "spectra_txt_file = fsel_spectra.selected\n",
    "mycaltof = np.genfromtxt(spectra_txt_file, usecols=0)\n",
    "myhist = np.genfromtxt(spectra_txt_file, usecols=1) #this is the cumulative histogram of the raw data (before the overlap correction)\n",
    "\n",
    "\n",
    "\n",
    "plt.plot(mycaltof,myhist)\n",
    "plt.show()"
   ]
  },
  {
   "cell_type": "markdown",
   "metadata": {},
   "source": [
    "## Read the calibration datasets\n",
    "\n",
    "### TOF sample directory"
   ]
  },
  {
   "cell_type": "code",
   "execution_count": null,
   "metadata": {},
   "outputs": [],
   "source": [
    "# here copy the path of the sample data\n",
    "# alternative:\n",
    "# pathdata = input(\"Copy the path for the sample data: \")\n",
    "#ex: /media/carminati_c/Data2/IMAT_Nov2018/02_HighStats_radio_1hruns/Samples_AfterReboot_Corrected/\n",
    "\n",
    "fsel_data= ipywe.fileselector.FileSelectorPanel(instruction='select path for the sample data', start_dir='.', type='directory')\n",
    "fsel_data.show()"
   ]
  },
  {
   "cell_type": "code",
   "execution_count": null,
   "metadata": {},
   "outputs": [],
   "source": [
    "pathdata = fsel_data.selected\n",
    "print(pathdata)"
   ]
  },
  {
   "cell_type": "code",
   "execution_count": null,
   "metadata": {},
   "outputs": [],
   "source": [
    "# Here copy the path of the open beam data\n",
    "# alternative:\n",
    "# pathOB = input('Copy the path for the open beam data: ')\n",
    "# ex: /media/carminati_c/Data2/IMAT_Nov2018/02_HighStats_radio_1hruns/Flat_AfterReboot_Corrected/\n",
    "\n",
    "fsel_ob= ipywe.fileselector.FileSelectorPanel(instruction='select path for the ob data', start_dir='.', type='directory')\n",
    "fsel_ob.show()\n"
   ]
  },
  {
   "cell_type": "code",
   "execution_count": null,
   "metadata": {},
   "outputs": [],
   "source": [
    "pathOB = fsel_ob.selected"
   ]
  },
  {
   "cell_type": "code",
   "execution_count": null,
   "metadata": {
    "ExecuteTime": {
     "end_time": "2019-02-08T13:48:11.137497Z",
     "start_time": "2019-02-08T13:48:11.043300Z"
    }
   },
   "outputs": [],
   "source": [
    "#sort the files\n",
    "myfiles = fnmatch.filter(listdir(pathdata),'*.fits')\n",
    "coll_files = sorted(myfiles)\n",
    "obfiles = fnmatch.filter(listdir(pathOB),'*.fits') # here there are several OB folders\n",
    "coll_ob = sorted(obfiles)\n"
   ]
  },
  {
   "cell_type": "code",
   "execution_count": null,
   "metadata": {},
   "outputs": [],
   "source": [
    "class bbox_select():\n",
    "    %matplotlib notebook \n",
    "\n",
    "\n",
    "    def __init__(self,im):\n",
    "        self.im = im\n",
    "        self.selected_points = []\n",
    "        self.fig,ax = plt.subplots()\n",
    "        self.img = ax.imshow(self.im.copy(), cmap='gray', vmin=0, vmax=10)\n",
    "        self.ka = self.fig.canvas.mpl_connect('button_press_event', self.onclick)\n",
    "        disconnect_button = widgets.Button(description=\"Disconnect mpl\")\n",
    "        Disp.display(disconnect_button)\n",
    "        disconnect_button.on_click(self.disconnect_mpl)\n",
    "\n",
    "\n",
    "        \n",
    "    def poly_img(self,img,pts):\n",
    "        pts = np.array(pts, np.int32)\n",
    "        pts = pts.reshape((-1,1,2))\n",
    "        color = (255,255,0)\n",
    "        cv2.polylines(img,[pts],True,color,7)\n",
    "                      \n",
    "#         cv2.Rectangle(img, pt1, pt2, color, thickness=7)\n",
    "#         pts = [[pt1],[pt2]]\n",
    "        return img\n",
    "\n",
    "    def onclick(self, event):\n",
    "        display(str(event))\n",
    "        self.selected_points.append([event.xdata,event.ydata])\n",
    "        if len(self.selected_points)>1:\n",
    "            self.fig\n",
    "            self.img.set_data(self.poly_img(self.im.copy(),self.selected_points))\n",
    "    def disconnect_mpl(self,_):\n",
    "        self.fig.canvas.mpl_disconnect(self.ka)\n"
   ]
  },
  {
   "cell_type": "code",
   "execution_count": null,
   "metadata": {},
   "outputs": [],
   "source": [
    "print(\"select 4 points for a rectangular ROI, then click Disconnect mpl\")\n",
    "filename = pathdata +'/'+ coll_files[0]\n",
    "im = fits.open(filename)\n",
    "bs = bbox_select(im[0].data)\n",
    "# here I have to change the fact that the ROI is blue like the image"
   ]
  },
  {
   "cell_type": "code",
   "execution_count": null,
   "metadata": {},
   "outputs": [],
   "source": [
    "bs.selected_points\n"
   ]
  },
  {
   "cell_type": "markdown",
   "metadata": {},
   "source": [
    "### Plot of the region used for calibration "
   ]
  },
  {
   "cell_type": "code",
   "execution_count": null,
   "metadata": {
    "ExecuteTime": {
     "end_time": "2019-02-08T13:48:13.885514Z",
     "start_time": "2019-02-08T13:48:13.658648Z"
    }
   },
   "outputs": [],
   "source": [
    "roi_cal = np.array([0,0, 10,10])\n",
    "sel_points = np.squeeze(np.array([bs.selected_points],'int'))\n",
    "print(sel_points)\n",
    "roi_cal[0] = sel_points[0][0]\n",
    "roi_cal[1] = sel_points[0][1]\n",
    "roi_cal[2] = sel_points[2][0]\n",
    "roi_cal[3] = sel_points [2][1]\n",
    "\n",
    "plt.figure()\n",
    "plt.imshow(im[0].data[roi_cal[1]:roi_cal[3],roi_cal[0]:roi_cal[2]]) #this is the area that I want to study\n"
   ]
  },
  {
   "cell_type": "markdown",
   "metadata": {},
   "source": [
    "### Load data and plot calibration spectrum"
   ]
  },
  {
   "cell_type": "code",
   "execution_count": null,
   "metadata": {
    "ExecuteTime": {
     "end_time": "2019-02-08T13:50:31.475069Z",
     "start_time": "2019-02-08T13:48:16.242880Z"
    }
   },
   "outputs": [],
   "source": [
    "cal_spectrum = np.zeros(len(coll_files))\n",
    "std_spectrum = np.zeros(len(coll_files))\n",
    "cal_ob = np.zeros(len(coll_files))\n",
    "std_ob = np.zeros(len(coll_files))\n",
    "ori_hist = np.zeros(len(coll_files))\n",
    "collImg= np.zeros([512,512,len(coll_files)])\n",
    "collOB = np.zeros([512,512, len(coll_files)])\n",
    "\n",
    "for i in range(0, len(coll_files)):\n",
    "    \n",
    "    curr_img = (fits.open(pathdata+'/'+coll_files[i])[0].data[roi_cal[1]:roi_cal[3],roi_cal[0]:roi_cal[2]]).astype(float)\n",
    "    curr_ob =(fits.open(pathOB+'/'+coll_ob[i])[0].data[roi_cal[1]:roi_cal[3],roi_cal[0]:roi_cal[2]]).astype(float)\n",
    "    cal_spectrum[i] = np.sum(curr_img[~np.isnan(curr_img) & ~np.isinf(curr_img)])\n",
    "    cal_ob[i]= np.sum(curr_ob[~np.isnan(curr_ob) & ~np.isinf(curr_ob)])\n",
    "    std_spectrum[i] = np.std(curr_img/curr_ob)\n",
    "#     std_ob[i] = np.std(curr_ob[~np.isnan(curr_ob) & ~np.isinf(curr_ob)])\n",
    "    \n",
    "    \n",
    "    "
   ]
  },
  {
   "cell_type": "code",
   "execution_count": null,
   "metadata": {
    "ExecuteTime": {
     "end_time": "2019-02-08T13:50:41.599320Z",
     "start_time": "2019-02-08T13:50:41.321702Z"
    }
   },
   "outputs": [],
   "source": [
    "# Plot calibration spectrum \n",
    "cal_spectrum_norm = cal_spectrum/cal_ob\n",
    "plt.figure()\n",
    "plt.plot(mycaltof, (cal_spectrum/cal_ob))\n",
    "plt.title('Calibration spectrum, Fe')\n",
    "plt.xlabel('TOF [s]')\n",
    "plt.ylabel('Transmission I/$I_{0}$')\n",
    "plt.show()"
   ]
  },
  {
   "cell_type": "code",
   "execution_count": null,
   "metadata": {
    "ExecuteTime": {
     "end_time": "2019-02-08T13:50:44.815122Z",
     "start_time": "2019-02-08T13:50:44.457065Z"
    }
   },
   "outputs": [],
   "source": [
    "tof_ranges=np.zeros((6,2))\n",
    "\n",
    "tof_ranges[5,0] = 0.05\n",
    "tof_ranges[5,1] = 0.08\n",
    "\n",
    "tof_ranges[4,0] =  0.038\n",
    "tof_ranges[4,1] =  0.05\n",
    "\n",
    "tof_ranges[3,0] = 0.031\n",
    "tof_ranges[3,1] = 0.036\n",
    "\n",
    "tof_ranges[2,0] = 0.0275\n",
    "tof_ranges[2,1] =  0.031\n",
    "\n",
    "tof_ranges[1,0] = 0.0245\n",
    "tof_ranges[1,1] =  0.0275\n",
    "\n",
    "tof_ranges[0,0] = 0.0205\n",
    "tof_ranges[0,1] =  0.0235\n",
    "\n",
    "\n",
    "peaks, _ = find_peaks(-cal_spectrum_norm, width=15)\n",
    "plt.figure()\n",
    "plt.plot(mycaltof, cal_spectrum_norm)\n",
    "plt.plot(mycaltof[peaks],cal_spectrum_norm[peaks],'x', markeredgewidth=3)\n",
    "for i in range(0,6):\n",
    "    plt.plot((tof_ranges[i,0], tof_ranges[i,0]),(0.1,0.8), 'k-')\n",
    "    plt.plot((tof_ranges[i,1], tof_ranges[i,1]),(0.1,0.8), 'k-')\n",
    "\n",
    "plt.title('Spectrum for Fe powder')\n",
    "plt.xlabel('TOF[s]')\n",
    "plt.ylabel('Transmission I/I$_{0}$')\n",
    "plt.show()\n",
    "print(mycaltof[peaks])\n",
    "print(peaks)\n"
   ]
  },
  {
   "cell_type": "markdown",
   "metadata": {},
   "source": [
    "### here I loop over all selected peaks "
   ]
  },
  {
   "cell_type": "code",
   "execution_count": null,
   "metadata": {
    "ExecuteTime": {
     "end_time": "2019-02-08T13:51:45.084573Z",
     "start_time": "2019-02-08T13:51:42.481752Z"
    },
    "scrolled": true
   },
   "outputs": [],
   "source": [
    "\n",
    "print(peaks) # here I see which are the positions of the peaks in the cal spectrum\n",
    "\n",
    "\n",
    "#in TOF [s!]\n",
    "est_sigma = 0.0001\n",
    "est_alpha = np.array([0.0001,0.0001,0.0001,0.0001,0.0001,0.0015]) # This takes into account that the alpha values as a pseudo-sigmoid behaviour\n",
    "CalPoints = np.zeros(6)\n",
    "RefPoints = np.zeros(6)\n",
    "\n",
    "RefPoints[0]=dhkl_alphaFe[6]*2\n",
    "\n",
    "#Here I exclude the peak for hkl (2,2,2)\n",
    "for i in range(1, 6):\n",
    "    RefPoints[i]=dhkl_alphaFe[5-i]*2\n",
    "\n",
    "print('--- RefPoints obtained from lattice parameters ---')\n",
    "print(RefPoints)\n",
    "print('number of peaks: ',len(peaks))\n",
    "\n",
    "computed_alpha = np.zeros(len(peaks))\n",
    "\n",
    "for i in range(0, len(peaks)):\n",
    "# for i in range(len(peaks)-1, len(peaks)):\n",
    "    \n",
    "    print(tof_ranges[i,:])\n",
    "    myrange = np.array([find_nearest(mycaltof, tof_ranges[i,0]), find_nearest(mycaltof,tof_ranges[i,1])])\n",
    "    print(myrange)\n",
    "    print(peaks[i])\n",
    "    print(tof_ranges[i,:])\n",
    "    print(mycaltof[peaks[i]])\n",
    "            \n",
    "\n",
    "    print('-----------Fitting calibration Bragg Edge--------------')\n",
    "    results_cal = AdvancedBraggEdgeFitting.AdvancedBraggEdgeFitting(cal_spectrum_norm, myrange, mycaltof, peaks[i], est_sigma, est_alpha[i], True, False, False,True)\n",
    "    print('-----------Results of fitting: Edge Position------------')\n",
    "    print(results_cal['t0'])\n",
    "\n",
    "#     CalPoints[i] = mycaltof[myrange[0]+int(results_cal['t0'])]\n",
    "    CalPoints[i] = results_cal['t0']\n",
    "    computed_alpha[i] = results_cal['sigma']\n",
    "\n",
    "    print(CalPoints)\n",
    "#     print(RefPoints)\n",
    "\n",
    "print('computed moderator decay:')\n",
    "print(computed_alpha)\n",
    "print(RefPoints)\n",
    "print(CalPoints)\n",
    "print(i)"
   ]
  },
  {
   "cell_type": "markdown",
   "metadata": {},
   "source": [
    "## I will then fit the calculated TOF to the theoretical lambda, x= RefPoints (theoretical lambda) y=mycaltof (computed TOF) "
   ]
  },
  {
   "cell_type": "code",
   "execution_count": null,
   "metadata": {
    "ExecuteTime": {
     "end_time": "2019-02-08T13:54:45.302553Z",
     "start_time": "2019-02-08T13:54:45.103787Z"
    }
   },
   "outputs": [],
   "source": [
    "#Calibration on the lattice parameters value\n",
    "print(RefPoints) # theoretical lambda\n",
    "print(CalPoints) # calculated TOF\n",
    "h=6.62607004e-34 #Planck constant [m^2 kg / s]\n",
    "m=1.674927471e-27 #Neutron mass [kg]\n",
    "\n",
    "z= np.polyfit( CalPoints,RefPoints,1)\n",
    "print('Calibration parameters:')\n",
    "print('flight path L:', (h/(m*z[0]))/1e-10, 'm')\n",
    "print('T0:', z[1]/z[0] ,'s')\n",
    "print(z)\n",
    "\n",
    "plt.figure()\n",
    "plt.plot(CalPoints,RefPoints,'ob')\n",
    "plt.plot( mycaltof, mycaltof*z[0]+z[1],'-g')\n",
    "plt.ylabel('wavelength theoretical [A]')\n",
    "plt.xlabel('ToF fitted [s]')\n",
    "plt.title('Calibration plot')\n"
   ]
  },
  {
   "cell_type": "code",
   "execution_count": null,
   "metadata": {},
   "outputs": [],
   "source": []
  }
 ],
 "metadata": {
  "kernelspec": {
   "display_name": "Python 3",
   "language": "python",
   "name": "python3"
  },
  "language_info": {
   "codemirror_mode": {
    "name": "ipython",
    "version": 3
   },
   "file_extension": ".py",
   "mimetype": "text/x-python",
   "name": "python",
   "nbconvert_exporter": "python",
   "pygments_lexer": "ipython3",
   "version": "3.7.4"
  },
  "toc": {
   "base_numbering": 1,
   "nav_menu": {},
   "number_sections": true,
   "sideBar": true,
   "skip_h1_title": false,
   "title_cell": "Table of Contents",
   "title_sidebar": "Contents",
   "toc_cell": false,
   "toc_position": {},
   "toc_section_display": true,
   "toc_window_display": false
  },
  "varInspector": {
   "cols": {
    "lenName": 16,
    "lenType": 16,
    "lenVar": 40
   },
   "kernels_config": {
    "python": {
     "delete_cmd_postfix": "",
     "delete_cmd_prefix": "del ",
     "library": "var_list.py",
     "varRefreshCmd": "print(var_dic_list())"
    },
    "r": {
     "delete_cmd_postfix": ") ",
     "delete_cmd_prefix": "rm(",
     "library": "var_list.r",
     "varRefreshCmd": "cat(var_dic_list()) "
    }
   },
   "position": {
    "height": "145px",
    "left": "2066.5px",
    "right": "132.333px",
    "top": "141px",
    "width": "762px"
   },
   "types_to_exclude": [
    "module",
    "function",
    "builtin_function_or_method",
    "instance",
    "_Feature"
   ],
   "window_display": true
  }
 },
 "nbformat": 4,
 "nbformat_minor": 2
}
