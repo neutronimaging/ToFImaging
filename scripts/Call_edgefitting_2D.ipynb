{
 "cells": [
  {
   "cell_type": "markdown",
   "metadata": {},
   "source": [
    "# This notebooks calls the edgefitting_2D.py routine and makes some pictures afterwards"
   ]
  },
  {
   "cell_type": "code",
   "execution_count": 1,
   "metadata": {},
   "outputs": [
    {
     "data": {
      "text/html": [
       "\n",
       "<style type=\"text/css\">\n",
       ".jupyter-widgets select option {font-family: \"Lucida Console\", Monaco, monospace;}\n",
       ".jupyter-widgets select {width: 98%;}\n",
       "div.output_subarea {padding: 0px;}\n",
       "div.output_subarea > div {margin: 0.4em;}\n",
       "</style>\n"
      ],
      "text/plain": [
       "<IPython.core.display.HTML object>"
      ]
     },
     "metadata": {},
     "output_type": "display_data"
    },
    {
     "data": {
      "text/html": [
       "<style>.container { width:90% !important; }</style>"
      ],
      "text/plain": [
       "<IPython.core.display.HTML object>"
      ]
     },
     "metadata": {},
     "output_type": "display_data"
    }
   ],
   "source": [
    "import numpy as np\n",
    "\n",
    "import matplotlib\n",
    "import matplotlib.pyplot as plt\n",
    "\n",
    "import AdvancedBraggEdgeFitting\n",
    "from PIL import Image\n",
    "\n",
    "import tifffile\n",
    "from tifffile import TiffFile\n",
    "\n",
    "from skimage import io\n",
    "\n",
    "import os, fnmatch\n",
    "from os import listdir\n",
    "\n",
    "from TOF_routines import tof2l\n",
    "from TOF_routines import find_nearest\n",
    "\n",
    "from astropy.io import fits\n",
    "import edgefitting_2D\n",
    "\n",
    "import ipywe.fileselector\n",
    "\n",
    "from IPython.core.display import display, HTML\n",
    "display(HTML(\"<style>.container { width:90% !important; }</style>\"))\n",
    "#TODO : remove the unused libs\n",
    "\n",
    "%matplotlib notebook"
   ]
  },
  {
   "cell_type": "markdown",
   "metadata": {},
   "source": [
    "### Get the path data "
   ]
  },
  {
   "cell_type": "code",
   "execution_count": null,
   "metadata": {},
   "outputs": [],
   "source": [
    "fsel_data= ipywe.fileselector.FileSelectorPanel(instruction='select directory for data' , start_dir='.', type='directory')\n",
    "fsel_data.show()\n",
    "#ex. '/media/carminati_c/Data2/LSP_Manuel/sample_binned_spotCleaned/'"
   ]
  },
  {
   "cell_type": "markdown",
   "metadata": {},
   "source": [
    "### Get the path OB "
   ]
  },
  {
   "cell_type": "code",
   "execution_count": null,
   "metadata": {},
   "outputs": [],
   "source": [
    "fsel_ob= ipywe.fileselector.FileSelectorPanel(instruction='select directory for open beam' , start_dir='.', type='directory')\n",
    "fsel_ob.show()\n",
    "#ex. '/media/carminati_c/Data2/LSP_Manuel/OB_binned_spotCleaned/'"
   ]
  },
  {
   "cell_type": "markdown",
   "metadata": {},
   "source": [
    "### Get the spectrum txt file"
   ]
  },
  {
   "cell_type": "code",
   "execution_count": null,
   "metadata": {},
   "outputs": [],
   "source": [
    "fsel_spectrum = ipywe.fileselector.FileSelectorPanel(instruction='select Spectra.txt' , start_dir='.', type='file')\n",
    "fsel_spectrum.show()\n",
    "#ex. '/media/ws_niag/10_people/Morgano/RADEN_data_analysis/TEST6_000_Spectra.txt"
   ]
  },
  {
   "cell_type": "markdown",
   "metadata": {},
   "source": [
    "### Get the mask file "
   ]
  },
  {
   "cell_type": "code",
   "execution_count": null,
   "metadata": {},
   "outputs": [],
   "source": [
    "fsel_mask = ipywe.fileselector.FileSelectorPanel(instruction='select mask file' , start_dir='.', type='file')\n",
    "fsel_mask.show()\n",
    "#ex. /home/carminati_c/git/ToFImaging/scripts/mymask.tif"
   ]
  },
  {
   "cell_type": "markdown",
   "metadata": {},
   "source": [
    "### Define the parameters needed for the edgefitting_2D function "
   ]
  },
  {
   "cell_type": "code",
   "execution_count": null,
   "metadata": {},
   "outputs": [],
   "source": [
    "pathdata = fsel_data.selected\n",
    "pathob = fsel_ob.selected\n",
    "filemask = fsel_mask.selected\n",
    "files_sample = (sorted(fnmatch.filter(listdir(pathdata),'*.tif')))\n",
    "files_ob = (sorted(fnmatch.filter(listdir(pathob),'*.tif')))\n",
    "spectrum = fsel_spectrum.selected"
   ]
  },
  {
   "cell_type": "code",
   "execution_count": null,
   "metadata": {},
   "outputs": [],
   "source": [
    "# These numbers come from TOF_Calibration\n",
    "t0=-0.0002618673892937752 \n",
    "L = 18.5\n",
    "cal_parameters = np.array([t0, L])\n",
    "#other initialization parameters\n",
    "binning = 18\n",
    "lambda_range = np.array([3.7, 4.4])\n",
    "est_parameters = np.array([0.1, 0.1, 4.05]) # sigma, alpha, edge_position"
   ]
  },
  {
   "cell_type": "code",
   "execution_count": null,
   "metadata": {},
   "outputs": [],
   "source": [
    "res = edgefitting_2D.image_edge_fitting(pathdata, pathob, filemask, spectrum, cal_parameters, binning, lambda_range, est_parameters)"
   ]
  },
  {
   "cell_type": "code",
   "execution_count": null,
   "metadata": {},
   "outputs": [],
   "source": [
    "edge_pos = np."
   ]
  },
  {
   "cell_type": "code",
   "execution_count": null,
   "metadata": {},
   "outputs": [],
   "source": []
  },
  {
   "cell_type": "markdown",
   "metadata": {},
   "source": [
    "### Example how to compute initial parameters: "
   ]
  },
  {
   "cell_type": "code",
   "execution_count": null,
   "metadata": {},
   "outputs": [],
   "source": [
    "files_ob = (sorted(fnmatch.filter(listdir(pathob),'*.tif')))\n",
    "# print(files_ob)\n",
    "ob = io.imread(pathob+'/'+files_ob[0])\n",
    "np.array([np.shape(ob)[0], np.shape(ob)[1], len(files_ob)])"
   ]
  },
  {
   "cell_type": "code",
   "execution_count": null,
   "metadata": {},
   "outputs": [],
   "source": [
    "#load spectrum, bin, and convert to lambda\n",
    "spec = np.loadtxt(spectrum, usecols=0)\n",
    "spectrum_binned = spec[0::18]\n",
    "print(len(spectrum_binned))\n",
    "mylambda_bin = tof2l(spectrum_binned,t0,L)"
   ]
  },
  {
   "cell_type": "code",
   "execution_count": null,
   "metadata": {},
   "outputs": [],
   "source": [
    "#load ob and sample images\n",
    "print(pathob+'/'+files_ob[0])\n",
    "\n",
    "ob = io.imread(pathob+'/'+files_ob[0])\n",
    "np.shape(ob)\n",
    "\n",
    "ob_image = np.zeros([300,400,155])\n",
    "sample_image = np.zeros([300,400,155])\n",
    "np.shape(ob_image)\n",
    "\n",
    "for i in range(0,155):\n",
    "    ob_image[:,:,i] = io.imread(pathob+'/'+files_ob[i])\n",
    "    sample_image[:,:,i] = io.imread(pathdata+'/'+files_sample[i])"
   ]
  },
  {
   "cell_type": "code",
   "execution_count": null,
   "metadata": {},
   "outputs": [],
   "source": [
    "# compute transmission\n",
    "trans_image = np.zeros([300,400,155])\n",
    "for i in range(0,155):\n",
    "    dose = np.median(ob_image[10:20,10:20,i])/np.median(sample_image[10:20,10:20,i])\n",
    "    trans_image[:,:,i] = sample_image[:,:,i]/ob_image[:,:,i]*dose"
   ]
  },
  {
   "cell_type": "code",
   "execution_count": null,
   "metadata": {},
   "outputs": [],
   "source": [
    "plt.figure()\n",
    "plt.imshow(trans_image[:,:,70],cmap='gray')\n",
    "plt.axis('off')\n",
    "# plt.savefig('transmission_lsp.pdf')"
   ]
  },
  {
   "cell_type": "code",
   "execution_count": null,
   "metadata": {},
   "outputs": [],
   "source": [
    "#compute spectrum over a large region to compute test initial parameters\n",
    "sp=np.zeros(156)\n",
    "for i in range(0,155):\n",
    "    sp[i] = np.median(trans_image[37,254,i])"
   ]
  },
  {
   "cell_type": "code",
   "execution_count": null,
   "metadata": {},
   "outputs": [],
   "source": [
    "plt.figure()\n",
    "plt.plot(mylambda_bin, sp)\n",
    "plt.title('total spectrum')"
   ]
  },
  {
   "cell_type": "code",
   "execution_count": null,
   "metadata": {},
   "outputs": [],
   "source": [
    "%%time\n",
    "myrange =[]\n",
    "myrange.append(find_nearest(mylambda_bin, 3.7))\n",
    "myrange.append(find_nearest(mylambda_bin, 4.4))\n",
    "print(myrange)\n",
    "\n",
    "plt.figure()\n",
    "plt.plot(mylambda_bin[myrange[0]:myrange[1]], sp[myrange[0]:myrange[1]])\n",
    "\n",
    "est_sigma = 0.1\n",
    "est_alpha = 0.1\n",
    "est_pos = find_nearest(mylambda_bin, 4.05)\n",
    "print(est_pos)\n",
    "ris = AdvancedBraggEdgeFitting.AdvancedBraggEdgeFitting(sp, myrange, mylambda_bin, est_pos, est_sigma, est_alpha, True, False, False, True)\n",
    "# t_edg = ris['t0']\n",
    "# print(t_edg)"
   ]
  },
  {
   "cell_type": "markdown",
   "metadata": {},
   "source": [
    "### This is an example how to create a mask"
   ]
  },
  {
   "cell_type": "code",
   "execution_count": null,
   "metadata": {},
   "outputs": [],
   "source": [
    "# This in an example how to create the mask\n",
    "ob = io.imread(pathob+'/'+files_ob[0])\n",
    "np.shape(ob)\n",
    "\n",
    "ob_image = np.zeros([300,400,155])\n",
    "sample_image = np.zeros([300,400,155])\n",
    "np.shape(ob_image)\n",
    "\n",
    "for i in range(0,155):\n",
    "    ob_image[:,:,i] = io.imread(pathob+'/'+files_ob[i])\n",
    "    sample_image[:,:,i] = io.imread(pathdata+'/'+files_sample[i])\n",
    "\n",
    "\n",
    "trans_image = np.zeros([300,400,155])\n",
    "for i in range(0,155):\n",
    "    dose = np.median(ob_image[10:20,10:20,i])/np.median(sample_image[10:20,10:20,i])\n",
    "    trans_image[:,:,i] = sample_image[:,:,i]/ob_image[:,:,i]*dose\n",
    "\n",
    "mymask = trans_image[:,:,70]<0.5\n",
    "\n",
    "mymask[:28,:] = False\n",
    "mymask[:,380:] = False\n",
    "\n",
    "plt.figure()\n",
    "plt.imshow(mymask)\n",
    "plt.axis('off')\n",
    "plt.axis('tight')\n",
    "# io.imsave('mymask.tif', mymask+0)"
   ]
  },
  {
   "cell_type": "markdown",
   "metadata": {},
   "source": [
    "### Example on data plotting after 2D edge fitting "
   ]
  },
  {
   "cell_type": "code",
   "execution_count": null,
   "metadata": {},
   "outputs": [],
   "source": [
    "test = np.load('edge_position.npy')\n",
    "plt.figure()\n",
    "plt.imshow(test,vmin=4.10, vmax=4.15)\n",
    "plt.colorbar()"
   ]
  },
  {
   "cell_type": "code",
   "execution_count": null,
   "metadata": {},
   "outputs": [],
   "source": [
    "# Check the number of points where the fitting fails\n",
    "sum(sum(n < 0 for n in EP))"
   ]
  },
  {
   "cell_type": "code",
   "execution_count": null,
   "metadata": {},
   "outputs": [],
   "source": [
    "# Re-run the fitting in those points\n",
    "\n",
    "#     t0:                 4.07855978 +/- 15750.9720 (386189.56%) (init = 4.076283)\n",
    "#     alpha:              8.8506e-04 +/- 26892.9752 (3038556174.03%) (init = 0.007669497)\n",
    "#     sigma:              2.0660e-04 +/- 62396.2248 (30201102063.85%) (init = 0.0001408172)\n",
    "#     a1:                 1.94456283 +/- 1.28224664 (65.94%) (init = 0.9776328)\n",
    "#     a2:                -0.03410872 +/- 0.30144455 (883.78%) (init = 0.1905023)\n",
    "#     a5:                -4.32338756 +/- 1.99813278 (46.22%) (init = -3.757007)\n",
    "#     a6:                 1.29564172 +/- 0.49946988 (38.55%) (init = 1.176675)\n",
    "        \n",
    "est_alpha = 0.1\n",
    "est_sigma = 0.1\n",
    "a1 = 1.94456283\n",
    "a2 = -0.03410872\n",
    "a5 = -4.32338756\n",
    "a6 = 1.29564172\n",
    "est_pos = find_nearest(mylambda_bin[myrange[0]:myrange[1]], 4.07)\n",
    "\n",
    "missing_edges = np.zeros(np.shape(mymask))\n",
    "missing_heigths = np.zeros(np.shape(mymask))\n",
    "print(est_pos)\n",
    "\n",
    "print(myrange)\n",
    "print(small_range)\n",
    "\n",
    "\n",
    "# Re-run the edge fitting where the first set of parameters failed\n",
    "for i in range(0, np.shape(mymask)[0]):\n",
    "    \n",
    "    for j in range(0, np.shape(mymask)[1]):\n",
    "        \n",
    "        if (EP[i,j]==-2):\n",
    "            # extract the signal\n",
    "            mysignal = np.zeros(myrange[1]-myrange[0])\n",
    "            \n",
    "    \n",
    "            for ind in range(myrange[0],myrange[1]):\n",
    "                mysignal[ind-myrange[0]] = np.median(trans_image[i,j,ind])\n",
    "            \n",
    "            try:\n",
    "                edge_fit = AdvancedBraggEdgeFitting.AdvancedBraggEdgeFitting(mysignal, small_range, small_lambda, est_pos, est_sigma, est_alpha, False, False, False, True)\n",
    "                missing_edges[i,j] = edge_fit['t0']\n",
    "                missing_heigths[i,j] = edge_fit['height']\n",
    "            except:\n",
    "                print(\"Unexpected error at :\", i, j)\n",
    "                missing_edges[i,j]= -2.0\n",
    "                missing_heigths[i,j] = -2.0\n",
    "\n",
    "                "
   ]
  },
  {
   "cell_type": "code",
   "execution_count": null,
   "metadata": {},
   "outputs": [],
   "source": [
    "plt.figure()\n",
    "plt.imshow(missing_edges)"
   ]
  },
  {
   "cell_type": "code",
   "execution_count": null,
   "metadata": {},
   "outputs": [],
   "source": [
    "# Run again for the further missing edges \n",
    "est_alpha = 0.09\n",
    "est_sigma = 0.09\n",
    "a1 = 1.94456283\n",
    "a2 = -0.03410872\n",
    "a5 = -4.32338756\n",
    "a6 = 1.29564172\n",
    "est_pos = find_nearest(mylambda_bin[myrange[0]:myrange[1]], 4.05)\n",
    "\n",
    "\n",
    "for i in range(0, np.shape(mymask)[0]):\n",
    "    \n",
    "    for j in range(0, np.shape(mymask)[1]):\n",
    "        \n",
    "        if (missing_edges[i,j]==-2):\n",
    "            # extract the signal\n",
    "            mysignal = np.zeros(myrange[1]-myrange[0])\n",
    "            \n",
    "    \n",
    "            for ind in range(myrange[0],myrange[1]):\n",
    "                mysignal[ind-myrange[0]] = np.median(trans_image[i,j,ind])\n",
    "            \n",
    "            try:\n",
    "                edge_fit = AdvancedBraggEdgeFitting.AdvancedBraggEdgeFitting(mysignal, small_range, small_lambda, est_pos, est_sigma, est_alpha, False, False, False, True)\n",
    "                missing_edges[i,j] = edge_fit['t0']\n",
    "                missing_heigths[i,j] = edge_fit['height']\n",
    "\n",
    "            except:\n",
    "                print(\"Unexpected error at :\", i, j)\n",
    "                missing_edges[i,j]= -2.0\n",
    "                missing_heigths[i,j] = -2.0"
   ]
  },
  {
   "cell_type": "code",
   "execution_count": null,
   "metadata": {},
   "outputs": [],
   "source": [
    "updated_EP = np.zeros(np.shape(mymask))\n",
    "\n",
    "for i in range(0, np.shape(mymask)[0]):\n",
    "    for j in range(0, np.shape(mymask)[1]):\n",
    "        if (EP[i,j]!=-2):\n",
    "            updated_EP[i,j]= EP[i,j]\n",
    "        else:\n",
    "            updated_EP[i,j]= missing_edges[i,j]\n",
    "# updated_EP = EP[EP!=-2]\n",
    "# updated_EP = missing_edges[EP==-2]"
   ]
  },
  {
   "cell_type": "code",
   "execution_count": null,
   "metadata": {},
   "outputs": [],
   "source": [
    "plt.figure()\n",
    "plt.imshow(np.rot90(updated_EP,3),vmin=4.05, vmax=4.09)\n",
    "plt.axis('off')\n",
    "plt.colorbar()\n",
    "plt.savefig('LSP_model.pdf')"
   ]
  },
  {
   "cell_type": "code",
   "execution_count": null,
   "metadata": {},
   "outputs": [],
   "source": [
    "#saving some results\n",
    "np.save('edge_positions_all.npy', updated_EP)\n",
    "fits.writeto('edge_pos_all.fits',updated_EP)"
   ]
  },
  {
   "cell_type": "code",
   "execution_count": null,
   "metadata": {},
   "outputs": [],
   "source": []
  },
  {
   "cell_type": "code",
   "execution_count": null,
   "metadata": {},
   "outputs": [],
   "source": []
  }
 ],
 "metadata": {
  "kernelspec": {
   "display_name": "Python 3",
   "language": "python",
   "name": "python3"
  },
  "language_info": {
   "codemirror_mode": {
    "name": "ipython",
    "version": 3
   },
   "file_extension": ".py",
   "mimetype": "text/x-python",
   "name": "python",
   "nbconvert_exporter": "python",
   "pygments_lexer": "ipython3",
   "version": "3.7.4"
  },
  "toc": {
   "base_numbering": 1,
   "nav_menu": {},
   "number_sections": true,
   "sideBar": true,
   "skip_h1_title": false,
   "title_cell": "Table of Contents",
   "title_sidebar": "Contents",
   "toc_cell": false,
   "toc_position": {},
   "toc_section_display": true,
   "toc_window_display": false
  },
  "varInspector": {
   "cols": {
    "lenName": 16,
    "lenType": 16,
    "lenVar": 40
   },
   "kernels_config": {
    "python": {
     "delete_cmd_postfix": "",
     "delete_cmd_prefix": "del ",
     "library": "var_list.py",
     "varRefreshCmd": "print(var_dic_list())"
    },
    "r": {
     "delete_cmd_postfix": ") ",
     "delete_cmd_prefix": "rm(",
     "library": "var_list.r",
     "varRefreshCmd": "cat(var_dic_list()) "
    }
   },
   "types_to_exclude": [
    "module",
    "function",
    "builtin_function_or_method",
    "instance",
    "_Feature"
   ],
   "window_display": false
  }
 },
 "nbformat": 4,
 "nbformat_minor": 2
}
