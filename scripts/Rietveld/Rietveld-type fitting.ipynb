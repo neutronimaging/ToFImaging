{
 "cells": [
  {
   "cell_type": "markdown",
   "metadata": {
    "toc": true
   },
   "source": [
    "<h1>Table of Contents<span class=\"tocSkip\"></span></h1>\n",
    "<div class=\"toc\"><ul class=\"toc-item\"><li><span><a href=\"#Introduction\" data-toc-modified-id=\"Introduction-1\"><span class=\"toc-item-num\">1&nbsp;&nbsp;</span>Introduction</a></span><ul class=\"toc-item\"><li><span><a href=\"#Dependencies\" data-toc-modified-id=\"Dependencies-1.1\"><span class=\"toc-item-num\">1.1&nbsp;&nbsp;</span>Dependencies</a></span></li><li><span><a href=\"#lmfit\" data-toc-modified-id=\"lmfit-1.2\"><span class=\"toc-item-num\">1.2&nbsp;&nbsp;</span>lmfit</a></span><ul class=\"toc-item\"><li><span><a href=\"#Example\" data-toc-modified-id=\"Example-1.2.1\"><span class=\"toc-item-num\">1.2.1&nbsp;&nbsp;</span>Example</a></span><ul class=\"toc-item\"><li><span><a href=\"#Generate-some-data\" data-toc-modified-id=\"Generate-some-data-1.2.1.1\"><span class=\"toc-item-num\">1.2.1.1&nbsp;&nbsp;</span>Generate some data</a></span></li><li><span><a href=\"#Do-the-fitting\" data-toc-modified-id=\"Do-the-fitting-1.2.1.2\"><span class=\"toc-item-num\">1.2.1.2&nbsp;&nbsp;</span>Do the fitting</a></span></li></ul></li></ul></li></ul></li><li><span><a href=\"#NCrystal\" data-toc-modified-id=\"NCrystal-2\"><span class=\"toc-item-num\">2&nbsp;&nbsp;</span>NCrystal</a></span></li><li><span><a href=\"#Example\" data-toc-modified-id=\"Example-3\"><span class=\"toc-item-num\">3&nbsp;&nbsp;</span>Example</a></span><ul class=\"toc-item\"><li><span><a href=\"#Calculate-the-total-cross-section\" data-toc-modified-id=\"Calculate-the-total-cross-section-3.1\"><span class=\"toc-item-num\">3.1&nbsp;&nbsp;</span>Calculate the total cross section</a></span></li><li><span><a href=\"#Do-a-Monte-Carlo-simulation\" data-toc-modified-id=\"Do-a-Monte-Carlo-simulation-3.2\"><span class=\"toc-item-num\">3.2&nbsp;&nbsp;</span>Do a Monte Carlo simulation</a></span><ul class=\"toc-item\"><li><span><a href=\"#Calculate-scattering\" data-toc-modified-id=\"Calculate-scattering-3.2.1\"><span class=\"toc-item-num\">3.2.1&nbsp;&nbsp;</span>Calculate scattering</a></span></li></ul></li></ul></li><li><span><a href=\"#Atomic-Simulation-Environment-(ASE)\" data-toc-modified-id=\"Atomic-Simulation-Environment-(ASE)-4\"><span class=\"toc-item-num\">4&nbsp;&nbsp;</span>Atomic Simulation Environment (ASE)</a></span><ul class=\"toc-item\"><li><span><a href=\"#ASE-Visualization\" data-toc-modified-id=\"ASE-Visualization-4.1\"><span class=\"toc-item-num\">4.1&nbsp;&nbsp;</span>ASE Visualization</a></span></li><li><span><a href=\"#Ideal-scattering-cross-section\" data-toc-modified-id=\"Ideal-scattering-cross-section-4.2\"><span class=\"toc-item-num\">4.2&nbsp;&nbsp;</span>Ideal scattering cross section</a></span></li><li><span><a href=\"#Adding-finite-resolution\" data-toc-modified-id=\"Adding-finite-resolution-4.3\"><span class=\"toc-item-num\">4.3&nbsp;&nbsp;</span>Adding finite resolution</a></span></li></ul></li><li><span><a href=\"#Adding-background\" data-toc-modified-id=\"Adding-background-5\"><span class=\"toc-item-num\">5&nbsp;&nbsp;</span>Adding background</a></span></li><li><span><a href=\"#Adding-both-background-and-finite-resolution\" data-toc-modified-id=\"Adding-both-background-and-finite-resolution-6\"><span class=\"toc-item-num\">6&nbsp;&nbsp;</span>Adding both background and finite resolution</a></span></li><li><span><a href=\"#Different-lattice-constants\" data-toc-modified-id=\"Different-lattice-constants-7\"><span class=\"toc-item-num\">7&nbsp;&nbsp;</span>Different lattice constants</a></span></li><li><span><a href=\"#Mixture\" data-toc-modified-id=\"Mixture-8\"><span class=\"toc-item-num\">8&nbsp;&nbsp;</span>Mixture</a></span></li><li><span><a href=\"#Fitting-using-lmfit-and-NCAtoms-/-Mixture\" data-toc-modified-id=\"Fitting-using-lmfit-and-NCAtoms-/-Mixture-9\"><span class=\"toc-item-num\">9&nbsp;&nbsp;</span>Fitting using lmfit and NCAtoms / Mixture</a></span><ul class=\"toc-item\"><li><span><a href=\"#Fitting-to-ideal-data\" data-toc-modified-id=\"Fitting-to-ideal-data-9.1\"><span class=\"toc-item-num\">9.1&nbsp;&nbsp;</span>Fitting to ideal data</a></span></li><li><span><a href=\"#Fitting-to-noisy-data\" data-toc-modified-id=\"Fitting-to-noisy-data-9.2\"><span class=\"toc-item-num\">9.2&nbsp;&nbsp;</span>Fitting to noisy data</a></span><ul class=\"toc-item\"><li><span><a href=\"#Noisy-with-background-and-resolution\" data-toc-modified-id=\"Noisy-with-background-and-resolution-9.2.1\"><span class=\"toc-item-num\">9.2.1&nbsp;&nbsp;</span>Noisy with background and resolution</a></span></li></ul></li><li><span><a href=\"#Fitting-content\" data-toc-modified-id=\"Fitting-content-9.3\"><span class=\"toc-item-num\">9.3&nbsp;&nbsp;</span>Fitting content</a></span></li></ul></li></ul></div>"
   ]
  },
  {
   "cell_type": "markdown",
   "metadata": {},
   "source": [
    "# Rietveld-type analysis of time-of-flight imaging data"
   ]
  },
  {
   "cell_type": "markdown",
   "metadata": {},
   "source": [
    "## Introduction\n",
    "\n",
    "In this notebook, we will develop tools for fitting ToF data sets with scattering cross sections. Scattering cross sections will be calculated with `NCrystal` and fitting with `lmfit` and `ase` will be used to construct atomic structures whose lattice parameters then can be fitted. Besides that, we will also use the `distributions` module in `scipy` and (of course) `numpy` and `matplotlib` and also `pandas`."
   ]
  },
  {
   "cell_type": "markdown",
   "metadata": {},
   "source": [
    "### Dependencies"
   ]
  },
  {
   "cell_type": "code",
   "execution_count": 44,
   "metadata": {
    "ExecuteTime": {
     "end_time": "2019-10-30T15:15:14.438134Z",
     "start_time": "2019-10-30T15:15:14.420455Z"
    }
   },
   "outputs": [],
   "source": [
    "import sys\n",
    "import os\n",
    "import re\n",
    "\n",
    "import numpy as np\n",
    "import pandas\n",
    "\n",
    "from matplotlib import pyplot as plt\n",
    "%matplotlib inline  \n",
    "\n",
    "from scipy.stats import distributions\n",
    "import lmfit\n",
    "\n",
    "# set path to NCrystal if needed (most likely system dependent)\n",
    "\n",
    "ncrystal_path = '/usr/local/ncrystal'\n",
    "\n",
    "sys.path.append(os.path.join(ncrystal_path, 'python'))\n",
    "\n",
    "import NCrystal\n",
    "\n",
    "import ase\n",
    "from ase.build import bulk\n",
    "import ase.spacegroup\n",
    "from ase.visualize import view\n",
    "\n",
    "#import scipp # ESS developed data container for multi-dimensional data with associated uncertainties and units\n",
    "\n",
    "\n"
   ]
  },
  {
   "cell_type": "markdown",
   "metadata": {},
   "source": [
    "### lmfit\n",
    "lmfit (https://lmfit.github.io/lmfit-py/intro.html) is used for fitting here. \n",
    "\n",
    "In these machine-learning times, probabilistic programming modules like pyro (facebook) \n",
    "or the alternative one from google could perhaps be an alternative.\n",
    "\n",
    "#### Example\n",
    "Define a model, `f`, parameters `params` to be optimized, and function to be minimized `fom` (difference between actual data and model):"
   ]
  },
  {
   "cell_type": "code",
   "execution_count": 4,
   "metadata": {
    "ExecuteTime": {
     "end_time": "2019-10-30T15:09:32.881370Z",
     "start_time": "2019-10-30T15:09:32.877809Z"
    }
   },
   "outputs": [],
   "source": [
    "def f(x, a, b):\n",
    "    return a*x + b"
   ]
  },
  {
   "cell_type": "markdown",
   "metadata": {},
   "source": [
    "##### Generate some data\n",
    "Let's create the grid to evaluate the model function on and for which the target data are defined. We use the model function to create the target data and then add some random noise to them."
   ]
  },
  {
   "cell_type": "code",
   "execution_count": 5,
   "metadata": {
    "ExecuteTime": {
     "end_time": "2019-10-30T15:09:34.293226Z",
     "start_time": "2019-10-30T15:09:34.287140Z"
    }
   },
   "outputs": [],
   "source": [
    "N = 20\n",
    "x = distributions.uniform(loc=-2, scale=6).rvs(N) # select 20 random x values in the interval from -2 to 4"
   ]
  },
  {
   "cell_type": "code",
   "execution_count": 6,
   "metadata": {
    "ExecuteTime": {
     "end_time": "2019-10-30T15:09:34.880187Z",
     "start_time": "2019-10-30T15:09:34.875250Z"
    }
   },
   "outputs": [],
   "source": [
    "target_data = f(x, -1, 1) + distributions.norm(loc=0, scale=0.8).rvs(20)"
   ]
  },
  {
   "cell_type": "markdown",
   "metadata": {},
   "source": [
    "Have a look"
   ]
  },
  {
   "cell_type": "code",
   "execution_count": 7,
   "metadata": {
    "ExecuteTime": {
     "end_time": "2019-10-30T15:09:36.645817Z",
     "start_time": "2019-10-30T15:09:36.384153Z"
    },
    "scrolled": true
   },
   "outputs": [
    {
     "data": {
      "text/plain": [
       "[<matplotlib.lines.Line2D at 0x101e2c8d0>]"
      ]
     },
     "execution_count": 7,
     "metadata": {},
     "output_type": "execute_result"
    },
    {
     "data": {
      "image/png": "[encoded data removed]",
      "text/plain": [
       "<Figure size 432x288 with 1 Axes>"
      ]
     },
     "metadata": {
      "needs_background": "light"
     },
     "output_type": "display_data"
    }
   ],
   "source": [
    "plt.plot(x, target_data, 'o')"
   ]
  },
  {
   "cell_type": "markdown",
   "metadata": {},
   "source": [
    "##### Do the fitting"
   ]
  },
  {
   "cell_type": "markdown",
   "metadata": {},
   "source": [
    "Use the lmfit `Parameters` class (https://lmfit.github.io/lmfit-py/parameters.html) for defining parameters ()"
   ]
  },
  {
   "cell_type": "code",
   "execution_count": 8,
   "metadata": {
    "ExecuteTime": {
     "end_time": "2019-10-30T15:09:41.995288Z",
     "start_time": "2019-10-30T15:09:41.987704Z"
    }
   },
   "outputs": [],
   "source": [
    "p = lmfit.Parameters()\n",
    "p.add('a', value=1)\n",
    "p.add('b', value=-1)"
   ]
  },
  {
   "cell_type": "markdown",
   "metadata": {},
   "source": [
    "The function to be minimized:"
   ]
  },
  {
   "cell_type": "code",
   "execution_count": 9,
   "metadata": {
    "ExecuteTime": {
     "end_time": "2019-10-30T15:09:43.808659Z",
     "start_time": "2019-10-30T15:09:43.802653Z"
    }
   },
   "outputs": [],
   "source": [
    "def fom(params, x, target_data):\n",
    "    return f(x,**params) - target_data"
   ]
  },
  {
   "cell_type": "markdown",
   "metadata": {},
   "source": [
    "Define a function to be called for each iteration in the minimization"
   ]
  },
  {
   "cell_type": "code",
   "execution_count": 10,
   "metadata": {
    "ExecuteTime": {
     "end_time": "2019-10-30T15:09:45.781976Z",
     "start_time": "2019-10-30T15:09:45.777364Z"
    }
   },
   "outputs": [],
   "source": [
    "def iter_cb(params, i, resid, x, target_data):\n",
    "    print(\"{} a={a:5.2f} b={b:5.2f}\".format(i, **params.valuesdict()))"
   ]
  },
  {
   "cell_type": "code",
   "execution_count": 11,
   "metadata": {
    "ExecuteTime": {
     "end_time": "2019-10-30T15:09:47.071209Z",
     "start_time": "2019-10-30T15:09:47.067369Z"
    }
   },
   "outputs": [],
   "source": [
    "mn = lmfit.Minimizer(fom, p, fcn_args=(x, target_data), iter_cb=iter_cb)"
   ]
  },
  {
   "cell_type": "code",
   "execution_count": 12,
   "metadata": {
    "ExecuteTime": {
     "end_time": "2019-10-30T15:09:47.894819Z",
     "start_time": "2019-10-30T15:09:47.884060Z"
    }
   },
   "outputs": [
    {
     "name": "stdout",
     "output_type": "stream",
     "text": [
      "-1 a= 1.00 b=-1.00\n",
      "0 a= 1.00 b=-1.00\n",
      "1 a= 1.00 b=-1.00\n",
      "2 a= 1.00 b=-1.00\n",
      "3 a= 1.00 b=-1.00\n",
      "4 a=-0.82 b= 1.25\n",
      "5 a=-0.82 b= 1.25\n",
      "6 a=-0.82 b= 1.25\n",
      "7 a=-0.82 b= 1.25\n"
     ]
    }
   ],
   "source": [
    "result = mn.minimize()"
   ]
  },
  {
   "cell_type": "code",
   "execution_count": 13,
   "metadata": {
    "ExecuteTime": {
     "end_time": "2019-10-30T15:09:48.529904Z",
     "start_time": "2019-10-30T15:09:48.525392Z"
    }
   },
   "outputs": [
    {
     "name": "stdout",
     "output_type": "stream",
     "text": [
      "[[Fit Statistics]]\n",
      "    # fitting method   = leastsq\n",
      "    # function evals   = 6\n",
      "    # data points      = 20\n",
      "    # variables        = 2\n",
      "    chi-square         = 19.5409699\n",
      "    reduced chi-square = 1.08560944\n",
      "    Akaike info crit   = 3.53562019\n",
      "    Bayesian info crit = 5.52708474\n",
      "[[Variables]]\n",
      "    a: -0.82195715 +/- 0.15045441 (18.30%) (init = 1)\n",
      "    b:  1.24872327 +/- 0.23812946 (19.07%) (init = -1)\n",
      "[[Correlations]] (unreported correlations are < 0.100)\n",
      "    C(a, b) = -0.207\n"
     ]
    }
   ],
   "source": [
    "lmfit.report_fit(result)"
   ]
  },
  {
   "cell_type": "markdown",
   "metadata": {},
   "source": [
    "Plot initial guess, fitted data, and target data"
   ]
  },
  {
   "cell_type": "code",
   "execution_count": 14,
   "metadata": {
    "ExecuteTime": {
     "end_time": "2019-10-30T15:09:50.410288Z",
     "start_time": "2019-10-30T15:09:50.117072Z"
    }
   },
   "outputs": [
    {
     "data": {
      "image/png": "[encoded data removed]",
      "text/plain": [
       "<Figure size 432x288 with 1 Axes>"
      ]
     },
     "metadata": {
      "needs_background": "light"
     },
     "output_type": "display_data"
    }
   ],
   "source": [
    "plot_elements = plt.plot(x, f(x, **result.params.valuesdict()), x, f(x, **p.valuesdict()), x, target_data, 'o')\n",
    "plt.legend(plot_elements, ('Model fit', 'Initial guess', 'Target data') )  # a bit of an indirect way for adding labels\n",
    "plt.show()"
   ]
  },
  {
   "cell_type": "markdown",
   "metadata": {},
   "source": [
    "## NCrystal\n",
    "\n",
    "NCrystal (https://github.com/mctools/ncrystal) \"for Monte Carlo simulations of thermal neutrons in\n",
    "crystals. Initial releases focus on scattering in single-crystals or\n",
    "polycrystalline materials and powders, including both coherent elastic (Bragg)\n",
    "diffraction and various models for inelastic scattering on phonons.\"\n",
    "\n",
    "The Python interface is not well developed and works to a lot of extend through strings. Moreover, it does not readily give access to the different components to the total scattering cross section or keep track of whether a scatterer is isotropic or not"
   ]
  },
  {
   "cell_type": "markdown",
   "metadata": {},
   "source": [
    "## Example"
   ]
  },
  {
   "cell_type": "code",
   "execution_count": 15,
   "metadata": {
    "ExecuteTime": {
     "end_time": "2019-10-30T15:09:53.641764Z",
     "start_time": "2019-10-30T15:09:53.616159Z"
    },
    "scrolled": true
   },
   "outputs": [],
   "source": [
    "# set path to NCrystal\n",
    "\n",
    "# create isotropic Fe scatter\n",
    "pc = NCrystal.createScatter(\"Fe_sg229_Iron-beta.ncmat;dcutoff=0.5;temp=25C\")\n",
    "\n"
   ]
  },
  {
   "cell_type": "markdown",
   "metadata": {},
   "source": [
    "Where the ncmat file contains"
   ]
  },
  {
   "cell_type": "code",
   "execution_count": 16,
   "metadata": {
    "ExecuteTime": {
     "end_time": "2019-10-30T15:09:55.186945Z",
     "start_time": "2019-10-30T15:09:55.172656Z"
    }
   },
   "outputs": [
    {
     "name": "stdout",
     "output_type": "stream",
     "text": [
      "NCMAT v1\n",
      "#converted from the cif file of the entry 0011215 in the AMCSD\n",
      "#reference: Wyckoff R W G, Crystal Structures, vol. 1, p. 7-83, 1963.\n",
      "#comment: The Debye temperature is derived from the Debye-waller factor at 293K compiled in the supplement of Acta Cryst., A52, p. 456-470, 1996\n",
      "@CELL\n",
      "    lengths 2.91 2.91 2.91 \n",
      "    angles 90. 90. 90. \n",
      "@SPACEGROUP\n",
      "    229\n",
      "@ATOMPOSITIONS\n",
      "    Fe 0. 0. 0.\n",
      "    Fe 0.5 0.5 0.5\n",
      "@DEBYETEMPERATURE\n",
      "    Fe   334.6089\n",
      "\n"
     ]
    }
   ],
   "source": [
    "print(open(os.path.join(ncrystal_path, \"data/Fe_sg229_Iron-beta.ncmat\")).read())"
   ]
  },
  {
   "cell_type": "markdown",
   "metadata": {},
   "source": [
    "### Calculate the total cross section"
   ]
  },
  {
   "cell_type": "code",
   "execution_count": 17,
   "metadata": {
    "ExecuteTime": {
     "end_time": "2019-10-30T15:09:58.297014Z",
     "start_time": "2019-10-30T15:09:58.023625Z"
    }
   },
   "outputs": [
    {
     "data": {
      "text/plain": [
       "[<matplotlib.lines.Line2D at 0x1a1659fa50>]"
      ]
     },
     "execution_count": 17,
     "metadata": {},
     "output_type": "execute_result"
    },
    {
     "data": {
      "image/png": "[encoded data removed]",
      "text/plain": [
       "<Figure size 432x288 with 1 Axes>"
      ]
     },
     "metadata": {
      "needs_background": "light"
     },
     "output_type": "display_data"
    }
   ],
   "source": [
    "# create the grid we will evaluate the cross section on\n",
    "wavelengths = np.linspace(0.5, 8, 100)\n",
    "\n",
    "ekins = NCrystal.wl2ekin(wavelengths)\n",
    "\n",
    "\n",
    "# Calculate total cross sections\n",
    "xsections = pc.crossSectionNonOriented(ekins)\n",
    "\n",
    "plt.plot(wavelengths, xsections)"
   ]
  },
  {
   "cell_type": "markdown",
   "metadata": {},
   "source": [
    "### Do a Monte Carlo simulation"
   ]
  },
  {
   "cell_type": "code",
   "execution_count": 18,
   "metadata": {
    "ExecuteTime": {
     "end_time": "2019-10-30T15:10:00.594424Z",
     "start_time": "2019-10-30T15:10:00.587854Z"
    }
   },
   "outputs": [
    {
     "data": {
      "text/plain": [
       "(2.4642330527104717, -3.493499517225087)"
      ]
     },
     "execution_count": 18,
     "metadata": {},
     "output_type": "execute_result"
    }
   ],
   "source": [
    "pc.generateScatteringNonOriented(3.5)"
   ]
  },
  {
   "cell_type": "code",
   "execution_count": 19,
   "metadata": {
    "ExecuteTime": {
     "end_time": "2019-10-30T15:10:01.182694Z",
     "start_time": "2019-10-30T15:10:01.175324Z"
    }
   },
   "outputs": [
    {
     "name": "stdout",
     "output_type": "stream",
     "text": [
      "A neutron was scattered with an energy change of -3.491 meV and scattering angle of 1.672 rad\n",
      "A neutron was scattered with an energy change of -3.415 meV and scattering angle of 1.049 rad\n",
      "A neutron was scattered with an energy change of -3.432 meV and scattering angle of 2.862 rad\n",
      "A neutron was scattered with an energy change of 0.000 meV and scattering angle of 0.129 rad\n",
      "A neutron was scattered with an energy change of -3.456 meV and scattering angle of 1.127 rad\n",
      "A neutron was scattered with an energy change of -3.478 meV and scattering angle of 1.510 rad\n",
      "A neutron was scattered with an energy change of -3.489 meV and scattering angle of 0.929 rad\n",
      "A neutron was scattered with an energy change of -3.318 meV and scattering angle of 2.712 rad\n",
      "A neutron was scattered with an energy change of -3.468 meV and scattering angle of 1.879 rad\n",
      "A neutron was scattered with an energy change of -3.483 meV and scattering angle of 2.146 rad\n"
     ]
    }
   ],
   "source": [
    "for i in range(10):\n",
    "    print(\"A neutron was scattered with an energy change of {1:.3f} meV and scattering angle of {0:.3f} rad\".format(\n",
    "    *pc.generateScatteringNonOriented(3.5 ) ) )"
   ]
  },
  {
   "cell_type": "markdown",
   "metadata": {},
   "source": [
    "#### Calculate scattering"
   ]
  },
  {
   "cell_type": "code",
   "execution_count": 23,
   "metadata": {
    "ExecuteTime": {
     "end_time": "2019-10-30T15:10:37.265379Z",
     "start_time": "2019-10-30T15:10:31.970839Z"
    }
   },
   "outputs": [
    {
     "data": {
      "text/html": [
       "<div>\n",
       "<style scoped>\n",
       "    .dataframe tbody tr th:only-of-type {\n",
       "        vertical-align: middle;\n",
       "    }\n",
       "\n",
       "    .dataframe tbody tr th {\n",
       "        vertical-align: top;\n",
       "    }\n",
       "\n",
       "    .dataframe thead th {\n",
       "        text-align: right;\n",
       "    }\n",
       "</style>\n",
       "<table border=\"1\" class=\"dataframe\">\n",
       "  <thead>\n",
       "    <tr style=\"text-align: right;\">\n",
       "      <th></th>\n",
       "      <th>dE (meV)</th>\n",
       "      <th>scat. angle (rad)</th>\n",
       "      <th>scat. angle (deg)</th>\n",
       "    </tr>\n",
       "  </thead>\n",
       "  <tbody>\n",
       "    <tr>\n",
       "      <th>0</th>\n",
       "      <td>-5.482111</td>\n",
       "      <td>1.980741</td>\n",
       "      <td>113.488101</td>\n",
       "    </tr>\n",
       "    <tr>\n",
       "      <th>1</th>\n",
       "      <td>-5.418114</td>\n",
       "      <td>1.608559</td>\n",
       "      <td>92.163660</td>\n",
       "    </tr>\n",
       "    <tr>\n",
       "      <th>2</th>\n",
       "      <td>-5.448938</td>\n",
       "      <td>0.372830</td>\n",
       "      <td>21.361591</td>\n",
       "    </tr>\n",
       "    <tr>\n",
       "      <th>3</th>\n",
       "      <td>-5.486856</td>\n",
       "      <td>1.509778</td>\n",
       "      <td>86.503914</td>\n",
       "    </tr>\n",
       "    <tr>\n",
       "      <th>4</th>\n",
       "      <td>-5.480633</td>\n",
       "      <td>2.040787</td>\n",
       "      <td>116.928479</td>\n",
       "    </tr>\n",
       "    <tr>\n",
       "      <th>...</th>\n",
       "      <td>...</td>\n",
       "      <td>...</td>\n",
       "      <td>...</td>\n",
       "    </tr>\n",
       "    <tr>\n",
       "      <th>999995</th>\n",
       "      <td>-5.468451</td>\n",
       "      <td>1.843012</td>\n",
       "      <td>105.596786</td>\n",
       "    </tr>\n",
       "    <tr>\n",
       "      <th>999996</th>\n",
       "      <td>-5.471681</td>\n",
       "      <td>2.191342</td>\n",
       "      <td>125.554637</td>\n",
       "    </tr>\n",
       "    <tr>\n",
       "      <th>999997</th>\n",
       "      <td>-5.428287</td>\n",
       "      <td>1.874786</td>\n",
       "      <td>107.417319</td>\n",
       "    </tr>\n",
       "    <tr>\n",
       "      <th>999998</th>\n",
       "      <td>-5.474003</td>\n",
       "      <td>2.320767</td>\n",
       "      <td>132.970153</td>\n",
       "    </tr>\n",
       "    <tr>\n",
       "      <th>999999</th>\n",
       "      <td>-5.481842</td>\n",
       "      <td>1.053552</td>\n",
       "      <td>60.364062</td>\n",
       "    </tr>\n",
       "  </tbody>\n",
       "</table>\n",
       "<p>1000000 rows × 3 columns</p>\n",
       "</div>"
      ],
      "text/plain": [
       "        dE (meV)  scat. angle (rad)  scat. angle (deg)\n",
       "0      -5.482111           1.980741         113.488101\n",
       "1      -5.418114           1.608559          92.163660\n",
       "2      -5.448938           0.372830          21.361591\n",
       "3      -5.486856           1.509778          86.503914\n",
       "4      -5.480633           2.040787         116.928479\n",
       "...          ...                ...                ...\n",
       "999995 -5.468451           1.843012         105.596786\n",
       "999996 -5.471681           2.191342         125.554637\n",
       "999997 -5.428287           1.874786         107.417319\n",
       "999998 -5.474003           2.320767         132.970153\n",
       "999999 -5.481842           1.053552          60.364062\n",
       "\n",
       "[1000000 rows x 3 columns]"
      ]
     },
     "execution_count": 23,
     "metadata": {},
     "output_type": "execute_result"
    }
   ],
   "source": [
    "# Perform a million events for some incoming wavelengths\n",
    "\n",
    "wavelengths = [4.5, 5., 5.5]\n",
    "sample_size = 1000000\n",
    "ones = np.ones(sample_size)\n",
    "\n",
    "data_sets = {}\n",
    "\n",
    "for wl in wavelengths:\n",
    "    data = pandas.DataFrame()\n",
    "    thetas, des = pc.generateScatteringNonOriented(wl*ones)\n",
    "    data['dE (meV)'] = des\n",
    "    data['scat. angle (rad)'] = thetas\n",
    "    data['scat. angle (deg)'] = 180*thetas/np.pi\n",
    "    data_sets[wl] = data\n",
    "    \n",
    "data"
   ]
  },
  {
   "cell_type": "code",
   "execution_count": 24,
   "metadata": {
    "ExecuteTime": {
     "end_time": "2019-10-30T15:10:42.414146Z",
     "start_time": "2019-10-30T15:10:40.588973Z"
    }
   },
   "outputs": [
    {
     "data": {
      "text/plain": [
       "<matplotlib.axes._subplots.AxesSubplot at 0x1a1b33b1d0>"
      ]
     },
     "execution_count": 24,
     "metadata": {},
     "output_type": "execute_result"
    },
    {
     "data": {
      "image/png": "[encoded data removed]",
      "text/plain": [
       "<Figure size 432x288 with 1 Axes>"
      ]
     },
     "metadata": {
      "needs_background": "light"
     },
     "output_type": "display_data"
    }
   ],
   "source": [
    "data_sets[wl]['scat. angle (deg)'].hist(bins=500)"
   ]
  },
  {
   "cell_type": "markdown",
   "metadata": {},
   "source": [
    "The sine above reflects the isotropic scattering (non-coherent) whereas the peaks are coherent scattering (i.e. diffraction. Clearly, only scattering events are returned (i.e. no transmission). The constant wavelengths diffraction pattern at 5 AA is shown below (by zooming in)"
   ]
  },
  {
   "cell_type": "code",
   "execution_count": 25,
   "metadata": {
    "ExecuteTime": {
     "end_time": "2019-10-30T15:10:45.181247Z",
     "start_time": "2019-10-30T15:10:44.278649Z"
    }
   },
   "outputs": [
    {
     "data": {
      "text/plain": [
       "<matplotlib.axes._subplots.AxesSubplot at 0x1a1888e1d0>"
      ]
     },
     "execution_count": 25,
     "metadata": {},
     "output_type": "execute_result"
    },
    {
     "data": {
      "image/png": "[encoded data removed]",
      "text/plain": [
       "<Figure size 432x288 with 1 Axes>"
      ]
     },
     "metadata": {
      "needs_background": "light"
     },
     "output_type": "display_data"
    }
   ],
   "source": [
    "data_sets[wl]['scat. angle (deg)'].hist(bins=200, range=(0,15))"
   ]
  },
  {
   "cell_type": "code",
   "execution_count": 27,
   "metadata": {
    "ExecuteTime": {
     "end_time": "2019-10-30T15:11:05.340363Z",
     "start_time": "2019-10-30T15:11:02.939004Z"
    }
   },
   "outputs": [
    {
     "data": {
      "text/plain": [
       "<matplotlib.legend.Legend at 0x1a19c14550>"
      ]
     },
     "execution_count": 27,
     "metadata": {},
     "output_type": "execute_result"
    },
    {
     "data": {
      "image/png": "[encoded data removed]",
      "text/plain": [
       "<Figure size 432x288 with 1 Axes>"
      ]
     },
     "metadata": {
      "needs_background": "light"
     },
     "output_type": "display_data"
    }
   ],
   "source": [
    "for wl in wavelengths:\n",
    "    plt.hist(data_sets[wl]['scat. angle (deg)'], np.linspace(0,15,200), label='{} AA'.format(wl))\n",
    "    \n",
    "plt.legend(loc='upper left')\n"
   ]
  },
  {
   "cell_type": "markdown",
   "metadata": {},
   "source": [
    "## Atomic Simulation Environment (ASE)\n",
    "ASE is useful for constructing advanced crystal structures. Here will use the simple build features for bulk systems and the spacegroup module to get the spacegroup of a structure"
   ]
  },
  {
   "cell_type": "code",
   "execution_count": 28,
   "metadata": {
    "ExecuteTime": {
     "end_time": "2019-10-30T15:11:32.478832Z",
     "start_time": "2019-10-30T15:11:32.475469Z"
    }
   },
   "outputs": [],
   "source": [
    "Cu_prim = bulk('Cu')"
   ]
  },
  {
   "cell_type": "code",
   "execution_count": 29,
   "metadata": {
    "ExecuteTime": {
     "end_time": "2019-10-30T15:11:33.188006Z",
     "start_time": "2019-10-30T15:11:33.183106Z"
    }
   },
   "outputs": [
    {
     "name": "stdout",
     "output_type": "stream",
     "text": [
      "[ 2.55265548  2.55265548  2.55265548 60.         60.         60.        ]\n"
     ]
    }
   ],
   "source": [
    "print(Cu_prim.get_cell_lengths_and_angles())"
   ]
  },
  {
   "cell_type": "code",
   "execution_count": 31,
   "metadata": {
    "ExecuteTime": {
     "end_time": "2019-10-30T15:13:55.268782Z",
     "start_time": "2019-10-30T15:13:55.218640Z"
    }
   },
   "outputs": [
    {
     "data": {
      "text/plain": [
       "Spacegroup(225, setting=1)"
      ]
     },
     "execution_count": 31,
     "metadata": {},
     "output_type": "execute_result"
    }
   ],
   "source": [
    "ase.spacegroup.get_spacegroup(Cu_prim)"
   ]
  },
  {
   "cell_type": "code",
   "execution_count": 32,
   "metadata": {
    "ExecuteTime": {
     "end_time": "2019-10-30T15:13:57.747305Z",
     "start_time": "2019-10-30T15:13:57.734881Z"
    }
   },
   "outputs": [],
   "source": [
    "Cu_conv = bulk('Cu', cubic=True)"
   ]
  },
  {
   "cell_type": "code",
   "execution_count": 33,
   "metadata": {
    "ExecuteTime": {
     "end_time": "2019-10-30T15:13:58.474272Z",
     "start_time": "2019-10-30T15:13:58.467805Z"
    }
   },
   "outputs": [
    {
     "name": "stdout",
     "output_type": "stream",
     "text": [
      "[ 3.61  3.61  3.61 90.   90.   90.  ]\n"
     ]
    }
   ],
   "source": [
    "print(Cu_conv.get_cell_lengths_and_angles())"
   ]
  },
  {
   "cell_type": "code",
   "execution_count": 34,
   "metadata": {
    "ExecuteTime": {
     "end_time": "2019-10-30T15:14:14.016713Z",
     "start_time": "2019-10-30T15:14:13.974718Z"
    }
   },
   "outputs": [
    {
     "data": {
      "text/plain": [
       "Spacegroup(225, setting=1)"
      ]
     },
     "execution_count": 34,
     "metadata": {},
     "output_type": "execute_result"
    }
   ],
   "source": [
    "ase.spacegroup.get_spacegroup(Cu_conv)"
   ]
  },
  {
   "cell_type": "code",
   "execution_count": 35,
   "metadata": {
    "ExecuteTime": {
     "end_time": "2019-10-30T15:14:14.915370Z",
     "start_time": "2019-10-30T15:14:14.910632Z"
    }
   },
   "outputs": [],
   "source": [
    "Cu_bcc = bulk('Cu', crystalstructure='bcc', a = 3.)"
   ]
  },
  {
   "cell_type": "code",
   "execution_count": 36,
   "metadata": {
    "ExecuteTime": {
     "end_time": "2019-10-30T15:14:15.558232Z",
     "start_time": "2019-10-30T15:14:15.553650Z"
    }
   },
   "outputs": [
    {
     "name": "stdout",
     "output_type": "stream",
     "text": [
      "[  2.59807621   2.59807621   2.59807621 109.47122063 109.47122063\n",
      " 109.47122063]\n"
     ]
    }
   ],
   "source": [
    "print(Cu_bcc.get_cell_lengths_and_angles())"
   ]
  },
  {
   "cell_type": "code",
   "execution_count": 37,
   "metadata": {
    "ExecuteTime": {
     "end_time": "2019-10-30T15:14:16.893503Z",
     "start_time": "2019-10-30T15:14:16.872450Z"
    }
   },
   "outputs": [
    {
     "data": {
      "text/plain": [
       "Spacegroup(229, setting=1)"
      ]
     },
     "execution_count": 37,
     "metadata": {},
     "output_type": "execute_result"
    }
   ],
   "source": [
    "ase.spacegroup.get_spacegroup(Cu_bcc)"
   ]
  },
  {
   "cell_type": "markdown",
   "metadata": {},
   "source": [
    "Creating a unit cell matrix from lattice vector lengths and angles"
   ]
  },
  {
   "cell_type": "code",
   "execution_count": 38,
   "metadata": {
    "ExecuteTime": {
     "end_time": "2019-10-30T15:14:20.727916Z",
     "start_time": "2019-10-30T15:14:20.716478Z"
    }
   },
   "outputs": [
    {
     "data": {
      "text/plain": [
       "array([[ 4.00000000e+00,  0.00000000e+00,  0.00000000e+00],\n",
       "       [ 1.73205081e+00,  1.00000000e+00,  0.00000000e+00],\n",
       "       [-2.50000000e+00,  4.33012702e+00,  1.17804023e-07]])"
      ]
     },
     "execution_count": 38,
     "metadata": {},
     "output_type": "execute_result"
    }
   ],
   "source": [
    "cell = ase.geometry.cellpar_to_cell([4., 2., 5., 90., 120., 30])\n",
    "cell"
   ]
  },
  {
   "cell_type": "markdown",
   "metadata": {},
   "source": [
    "### ASE Visualization\n",
    "Different viewers can be used, e.g. nglview inline if jupyter is set up for it. The default built in one is pretty primitive but does the job. Note that it is possible to change to other viewers from the menu if they are installed, e.g. Avogadro."
   ]
  },
  {
   "cell_type": "code",
   "execution_count": 39,
   "metadata": {
    "ExecuteTime": {
     "end_time": "2019-10-30T15:14:22.608110Z",
     "start_time": "2019-10-30T15:14:22.582242Z"
    }
   },
   "outputs": [],
   "source": [
    "view(Cu_conv)  "
   ]
  },
  {
   "cell_type": "markdown",
   "metadata": {},
   "source": [
    "Specifically for Jupyter"
   ]
  },
  {
   "cell_type": "code",
   "execution_count": 40,
   "metadata": {
    "ExecuteTime": {
     "end_time": "2019-10-30T15:14:24.136219Z",
     "start_time": "2019-10-30T15:14:24.001035Z"
    }
   },
   "outputs": [
    {
     "data": {
      "text/html": [
       "<html>\n",
       "\n",
       " <head>\n",
       "\n",
       "  <title>ASE atomic visualization</title>\n",
       "\n",
       "  <link rel=\"stylesheet\" type=\"text/css\"\n",
       "\n",
       "   href=\"https://www.x3dom.org/x3dom/release/x3dom.css\">\n",
       "\n",
       "  </link>\n",
       "\n",
       "  <script type=\"text/javascript\"\n",
       "\n",
       "   src=\"https://www.x3dom.org/x3dom/release/x3dom.js\">\n",
       "\n",
       "  </script>\n",
       "\n",
       " </head>\n",
       "\n",
       " <body>\n",
       "\n",
       "  <X3D style=\"margin:0; padding:0; width:100%; height:100%; border:none;\">\n",
       "\n",
       "   <Scene>\n",
       "\n",
       "    <Transform translation=\"0.00 0.00 0.00\">\n",
       "\n",
       "     <Shape>\n",
       "\n",
       "      <Appearance>\n",
       "\n",
       "       <Material diffuseColor=\"0.784 0.502 0.200\" specularColor=\"0.5 0.5 0.5\">\n",
       "\n",
       "       </Material>\n",
       "\n",
       "      </Appearance>\n",
       "\n",
       "      <Sphere radius=\"1.32\">\n",
       "\n",
       "      </Sphere>\n",
       "\n",
       "     </Shape>\n",
       "\n",
       "    </Transform>\n",
       "\n",
       "    <Transform translation=\"0.00 1.80 1.80\">\n",
       "\n",
       "     <Shape>\n",
       "\n",
       "      <Appearance>\n",
       "\n",
       "       <Material diffuseColor=\"0.784 0.502 0.200\" specularColor=\"0.5 0.5 0.5\">\n",
       "\n",
       "       </Material>\n",
       "\n",
       "      </Appearance>\n",
       "\n",
       "      <Sphere radius=\"1.32\">\n",
       "\n",
       "      </Sphere>\n",
       "\n",
       "     </Shape>\n",
       "\n",
       "    </Transform>\n",
       "\n",
       "    <Transform translation=\"1.80 0.00 1.80\">\n",
       "\n",
       "     <Shape>\n",
       "\n",
       "      <Appearance>\n",
       "\n",
       "       <Material diffuseColor=\"0.784 0.502 0.200\" specularColor=\"0.5 0.5 0.5\">\n",
       "\n",
       "       </Material>\n",
       "\n",
       "      </Appearance>\n",
       "\n",
       "      <Sphere radius=\"1.32\">\n",
       "\n",
       "      </Sphere>\n",
       "\n",
       "     </Shape>\n",
       "\n",
       "    </Transform>\n",
       "\n",
       "    <Transform translation=\"1.80 1.80 0.00\">\n",
       "\n",
       "     <Shape>\n",
       "\n",
       "      <Appearance>\n",
       "\n",
       "       <Material diffuseColor=\"0.784 0.502 0.200\" specularColor=\"0.5 0.5 0.5\">\n",
       "\n",
       "       </Material>\n",
       "\n",
       "      </Appearance>\n",
       "\n",
       "      <Sphere radius=\"1.32\">\n",
       "\n",
       "      </Sphere>\n",
       "\n",
       "     </Shape>\n",
       "\n",
       "    </Transform>\n",
       "\n",
       "   </Scene>\n",
       "\n",
       "  </X3D>\n",
       "\n",
       " </body>\n",
       "\n",
       "</html>\n",
       "\n"
      ],
      "text/plain": [
       "<IPython.core.display.HTML object>"
      ]
     },
     "execution_count": 40,
     "metadata": {},
     "output_type": "execute_result"
    }
   ],
   "source": [
    "view(Cu_conv, viewer='x3d')"
   ]
  },
  {
   "cell_type": "code",
   "execution_count": 41,
   "metadata": {
    "ExecuteTime": {
     "end_time": "2019-10-30T15:14:34.768022Z",
     "start_time": "2019-10-30T15:14:34.759138Z"
    }
   },
   "outputs": [
    {
     "name": "stdout",
     "output_type": "stream",
     "text": [
      "nglview is not properly installed\n"
     ]
    }
   ],
   "source": [
    "try:\n",
    "    view(Cu_conv, viewer='ngl')  # only works if nglview is setup\\\n",
    "except ModuleNotFoundError:\n",
    "    print(\"nglview is not properly installed\")"
   ]
  },
  {
   "cell_type": "code",
   "execution_count": 42,
   "metadata": {
    "ExecuteTime": {
     "end_time": "2019-10-30T15:14:35.372787Z",
     "start_time": "2019-10-30T15:14:35.359406Z"
    }
   },
   "outputs": [
    {
     "data": {
      "text/html": [
       "<html>\n",
       "\n",
       " <head>\n",
       "\n",
       "  <title>ASE atomic visualization</title>\n",
       "\n",
       "  <link rel=\"stylesheet\" type=\"text/css\"\n",
       "\n",
       "   href=\"https://www.x3dom.org/x3dom/release/x3dom.css\">\n",
       "\n",
       "  </link>\n",
       "\n",
       "  <script type=\"text/javascript\"\n",
       "\n",
       "   src=\"https://www.x3dom.org/x3dom/release/x3dom.js\">\n",
       "\n",
       "  </script>\n",
       "\n",
       " </head>\n",
       "\n",
       " <body>\n",
       "\n",
       "  <X3D style=\"margin:0; padding:0; width:100%; height:100%; border:none;\">\n",
       "\n",
       "   <Scene>\n",
       "\n",
       "    <Transform translation=\"0.00 0.00 0.00\">\n",
       "\n",
       "     <Shape>\n",
       "\n",
       "      <Appearance>\n",
       "\n",
       "       <Material diffuseColor=\"0.784 0.502 0.200\" specularColor=\"0.5 0.5 0.5\">\n",
       "\n",
       "       </Material>\n",
       "\n",
       "      </Appearance>\n",
       "\n",
       "      <Sphere radius=\"1.32\">\n",
       "\n",
       "      </Sphere>\n",
       "\n",
       "     </Shape>\n",
       "\n",
       "    </Transform>\n",
       "\n",
       "    <Transform translation=\"0.00 1.80 1.80\">\n",
       "\n",
       "     <Shape>\n",
       "\n",
       "      <Appearance>\n",
       "\n",
       "       <Material diffuseColor=\"0.784 0.502 0.200\" specularColor=\"0.5 0.5 0.5\">\n",
       "\n",
       "       </Material>\n",
       "\n",
       "      </Appearance>\n",
       "\n",
       "      <Sphere radius=\"1.32\">\n",
       "\n",
       "      </Sphere>\n",
       "\n",
       "     </Shape>\n",
       "\n",
       "    </Transform>\n",
       "\n",
       "    <Transform translation=\"1.80 0.00 1.80\">\n",
       "\n",
       "     <Shape>\n",
       "\n",
       "      <Appearance>\n",
       "\n",
       "       <Material diffuseColor=\"0.784 0.502 0.200\" specularColor=\"0.5 0.5 0.5\">\n",
       "\n",
       "       </Material>\n",
       "\n",
       "      </Appearance>\n",
       "\n",
       "      <Sphere radius=\"1.32\">\n",
       "\n",
       "      </Sphere>\n",
       "\n",
       "     </Shape>\n",
       "\n",
       "    </Transform>\n",
       "\n",
       "    <Transform translation=\"1.80 1.80 0.00\">\n",
       "\n",
       "     <Shape>\n",
       "\n",
       "      <Appearance>\n",
       "\n",
       "       <Material diffuseColor=\"0.784 0.502 0.200\" specularColor=\"0.5 0.5 0.5\">\n",
       "\n",
       "       </Material>\n",
       "\n",
       "      </Appearance>\n",
       "\n",
       "      <Sphere radius=\"1.32\">\n",
       "\n",
       "      </Sphere>\n",
       "\n",
       "     </Shape>\n",
       "\n",
       "    </Transform>\n",
       "\n",
       "    <Transform translation=\"0.00 0.00 3.61\">\n",
       "\n",
       "     <Shape>\n",
       "\n",
       "      <Appearance>\n",
       "\n",
       "       <Material diffuseColor=\"0.784 0.502 0.200\" specularColor=\"0.5 0.5 0.5\">\n",
       "\n",
       "       </Material>\n",
       "\n",
       "      </Appearance>\n",
       "\n",
       "      <Sphere radius=\"1.32\">\n",
       "\n",
       "      </Sphere>\n",
       "\n",
       "     </Shape>\n",
       "\n",
       "    </Transform>\n",
       "\n",
       "    <Transform translation=\"0.00 1.80 5.42\">\n",
       "\n",
       "     <Shape>\n",
       "\n",
       "      <Appearance>\n",
       "\n",
       "       <Material diffuseColor=\"0.784 0.502 0.200\" specularColor=\"0.5 0.5 0.5\">\n",
       "\n",
       "       </Material>\n",
       "\n",
       "      </Appearance>\n",
       "\n",
       "      <Sphere radius=\"1.32\">\n",
       "\n",
       "      </Sphere>\n",
       "\n",
       "     </Shape>\n",
       "\n",
       "    </Transform>\n",
       "\n",
       "    <Transform translation=\"1.80 0.00 5.42\">\n",
       "\n",
       "     <Shape>\n",
       "\n",
       "      <Appearance>\n",
       "\n",
       "       <Material diffuseColor=\"0.784 0.502 0.200\" specularColor=\"0.5 0.5 0.5\">\n",
       "\n",
       "       </Material>\n",
       "\n",
       "      </Appearance>\n",
       "\n",
       "      <Sphere radius=\"1.32\">\n",
       "\n",
       "      </Sphere>\n",
       "\n",
       "     </Shape>\n",
       "\n",
       "    </Transform>\n",
       "\n",
       "    <Transform translation=\"1.80 1.80 3.61\">\n",
       "\n",
       "     <Shape>\n",
       "\n",
       "      <Appearance>\n",
       "\n",
       "       <Material diffuseColor=\"0.784 0.502 0.200\" specularColor=\"0.5 0.5 0.5\">\n",
       "\n",
       "       </Material>\n",
       "\n",
       "      </Appearance>\n",
       "\n",
       "      <Sphere radius=\"1.32\">\n",
       "\n",
       "      </Sphere>\n",
       "\n",
       "     </Shape>\n",
       "\n",
       "    </Transform>\n",
       "\n",
       "    <Transform translation=\"0.00 0.00 7.22\">\n",
       "\n",
       "     <Shape>\n",
       "\n",
       "      <Appearance>\n",
       "\n",
       "       <Material diffuseColor=\"0.784 0.502 0.200\" specularColor=\"0.5 0.5 0.5\">\n",
       "\n",
       "       </Material>\n",
       "\n",
       "      </Appearance>\n",
       "\n",
       "      <Sphere radius=\"1.32\">\n",
       "\n",
       "      </Sphere>\n",
       "\n",
       "     </Shape>\n",
       "\n",
       "    </Transform>\n",
       "\n",
       "    <Transform translation=\"0.00 1.80 9.03\">\n",
       "\n",
       "     <Shape>\n",
       "\n",
       "      <Appearance>\n",
       "\n",
       "       <Material diffuseColor=\"0.784 0.502 0.200\" specularColor=\"0.5 0.5 0.5\">\n",
       "\n",
       "       </Material>\n",
       "\n",
       "      </Appearance>\n",
       "\n",
       "      <Sphere radius=\"1.32\">\n",
       "\n",
       "      </Sphere>\n",
       "\n",
       "     </Shape>\n",
       "\n",
       "    </Transform>\n",
       "\n",
       "    <Transform translation=\"1.80 0.00 9.03\">\n",
       "\n",
       "     <Shape>\n",
       "\n",
       "      <Appearance>\n",
       "\n",
       "       <Material diffuseColor=\"0.784 0.502 0.200\" specularColor=\"0.5 0.5 0.5\">\n",
       "\n",
       "       </Material>\n",
       "\n",
       "      </Appearance>\n",
       "\n",
       "      <Sphere radius=\"1.32\">\n",
       "\n",
       "      </Sphere>\n",
       "\n",
       "     </Shape>\n",
       "\n",
       "    </Transform>\n",
       "\n",
       "    <Transform translation=\"1.80 1.80 7.22\">\n",
       "\n",
       "     <Shape>\n",
       "\n",
       "      <Appearance>\n",
       "\n",
       "       <Material diffuseColor=\"0.784 0.502 0.200\" specularColor=\"0.5 0.5 0.5\">\n",
       "\n",
       "       </Material>\n",
       "\n",
       "      </Appearance>\n",
       "\n",
       "      <Sphere radius=\"1.32\">\n",
       "\n",
       "      </Sphere>\n",
       "\n",
       "     </Shape>\n",
       "\n",
       "    </Transform>\n",
       "\n",
       "    <Transform translation=\"0.00 3.61 0.00\">\n",
       "\n",
       "     <Shape>\n",
       "\n",
       "      <Appearance>\n",
       "\n",
       "       <Material diffuseColor=\"0.784 0.502 0.200\" specularColor=\"0.5 0.5 0.5\">\n",
       "\n",
       "       </Material>\n",
       "\n",
       "      </Appearance>\n",
       "\n",
       "      <Sphere radius=\"1.32\">\n",
       "\n",
       "      </Sphere>\n",
       "\n",
       "     </Shape>\n",
       "\n",
       "    </Transform>\n",
       "\n",
       "    <Transform translation=\"0.00 5.42 1.80\">\n",
       "\n",
       "     <Shape>\n",
       "\n",
       "      <Appearance>\n",
       "\n",
       "       <Material diffuseColor=\"0.784 0.502 0.200\" specularColor=\"0.5 0.5 0.5\">\n",
       "\n",
       "       </Material>\n",
       "\n",
       "      </Appearance>\n",
       "\n",
       "      <Sphere radius=\"1.32\">\n",
       "\n",
       "      </Sphere>\n",
       "\n",
       "     </Shape>\n",
       "\n",
       "    </Transform>\n",
       "\n",
       "    <Transform translation=\"1.80 3.61 1.80\">\n",
       "\n",
       "     <Shape>\n",
       "\n",
       "      <Appearance>\n",
       "\n",
       "       <Material diffuseColor=\"0.784 0.502 0.200\" specularColor=\"0.5 0.5 0.5\">\n",
       "\n",
       "       </Material>\n",
       "\n",
       "      </Appearance>\n",
       "\n",
       "      <Sphere radius=\"1.32\">\n",
       "\n",
       "      </Sphere>\n",
       "\n",
       "     </Shape>\n",
       "\n",
       "    </Transform>\n",
       "\n",
       "    <Transform translation=\"1.80 5.42 0.00\">\n",
       "\n",
       "     <Shape>\n",
       "\n",
       "      <Appearance>\n",
       "\n",
       "       <Material diffuseColor=\"0.784 0.502 0.200\" specularColor=\"0.5 0.5 0.5\">\n",
       "\n",
       "       </Material>\n",
       "\n",
       "      </Appearance>\n",
       "\n",
       "      <Sphere radius=\"1.32\">\n",
       "\n",
       "      </Sphere>\n",
       "\n",
       "     </Shape>\n",
       "\n",
       "    </Transform>\n",
       "\n",
       "    <Transform translation=\"0.00 3.61 3.61\">\n",
       "\n",
       "     <Shape>\n",
       "\n",
       "      <Appearance>\n",
       "\n",
       "       <Material diffuseColor=\"0.784 0.502 0.200\" specularColor=\"0.5 0.5 0.5\">\n",
       "\n",
       "       </Material>\n",
       "\n",
       "      </Appearance>\n",
       "\n",
       "      <Sphere radius=\"1.32\">\n",
       "\n",
       "      </Sphere>\n",
       "\n",
       "     </Shape>\n",
       "\n",
       "    </Transform>\n",
       "\n",
       "    <Transform translation=\"0.00 5.42 5.42\">\n",
       "\n",
       "     <Shape>\n",
       "\n",
       "      <Appearance>\n",
       "\n",
       "       <Material diffuseColor=\"0.784 0.502 0.200\" specularColor=\"0.5 0.5 0.5\">\n",
       "\n",
       "       </Material>\n",
       "\n",
       "      </Appearance>\n",
       "\n",
       "      <Sphere radius=\"1.32\">\n",
       "\n",
       "      </Sphere>\n",
       "\n",
       "     </Shape>\n",
       "\n",
       "    </Transform>\n",
       "\n",
       "    <Transform translation=\"1.80 3.61 5.42\">\n",
       "\n",
       "     <Shape>\n",
       "\n",
       "      <Appearance>\n",
       "\n",
       "       <Material diffuseColor=\"0.784 0.502 0.200\" specularColor=\"0.5 0.5 0.5\">\n",
       "\n",
       "       </Material>\n",
       "\n",
       "      </Appearance>\n",
       "\n",
       "      <Sphere radius=\"1.32\">\n",
       "\n",
       "      </Sphere>\n",
       "\n",
       "     </Shape>\n",
       "\n",
       "    </Transform>\n",
       "\n",
       "    <Transform translation=\"1.80 5.42 3.61\">\n",
       "\n",
       "     <Shape>\n",
       "\n",
       "      <Appearance>\n",
       "\n",
       "       <Material diffuseColor=\"0.784 0.502 0.200\" specularColor=\"0.5 0.5 0.5\">\n",
       "\n",
       "       </Material>\n",
       "\n",
       "      </Appearance>\n",
       "\n",
       "      <Sphere radius=\"1.32\">\n",
       "\n",
       "      </Sphere>\n",
       "\n",
       "     </Shape>\n",
       "\n",
       "    </Transform>\n",
       "\n",
       "    <Transform translation=\"0.00 3.61 7.22\">\n",
       "\n",
       "     <Shape>\n",
       "\n",
       "      <Appearance>\n",
       "\n",
       "       <Material diffuseColor=\"0.784 0.502 0.200\" specularColor=\"0.5 0.5 0.5\">\n",
       "\n",
       "       </Material>\n",
       "\n",
       "      </Appearance>\n",
       "\n",
       "      <Sphere radius=\"1.32\">\n",
       "\n",
       "      </Sphere>\n",
       "\n",
       "     </Shape>\n",
       "\n",
       "    </Transform>\n",
       "\n",
       "    <Transform translation=\"0.00 5.42 9.03\">\n",
       "\n",
       "     <Shape>\n",
       "\n",
       "      <Appearance>\n",
       "\n",
       "       <Material diffuseColor=\"0.784 0.502 0.200\" specularColor=\"0.5 0.5 0.5\">\n",
       "\n",
       "       </Material>\n",
       "\n",
       "      </Appearance>\n",
       "\n",
       "      <Sphere radius=\"1.32\">\n",
       "\n",
       "      </Sphere>\n",
       "\n",
       "     </Shape>\n",
       "\n",
       "    </Transform>\n",
       "\n",
       "    <Transform translation=\"1.80 3.61 9.03\">\n",
       "\n",
       "     <Shape>\n",
       "\n",
       "      <Appearance>\n",
       "\n",
       "       <Material diffuseColor=\"0.784 0.502 0.200\" specularColor=\"0.5 0.5 0.5\">\n",
       "\n",
       "       </Material>\n",
       "\n",
       "      </Appearance>\n",
       "\n",
       "      <Sphere radius=\"1.32\">\n",
       "\n",
       "      </Sphere>\n",
       "\n",
       "     </Shape>\n",
       "\n",
       "    </Transform>\n",
       "\n",
       "    <Transform translation=\"1.80 5.42 7.22\">\n",
       "\n",
       "     <Shape>\n",
       "\n",
       "      <Appearance>\n",
       "\n",
       "       <Material diffuseColor=\"0.784 0.502 0.200\" specularColor=\"0.5 0.5 0.5\">\n",
       "\n",
       "       </Material>\n",
       "\n",
       "      </Appearance>\n",
       "\n",
       "      <Sphere radius=\"1.32\">\n",
       "\n",
       "      </Sphere>\n",
       "\n",
       "     </Shape>\n",
       "\n",
       "    </Transform>\n",
       "\n",
       "    <Transform translation=\"0.00 7.22 0.00\">\n",
       "\n",
       "     <Shape>\n",
       "\n",
       "      <Appearance>\n",
       "\n",
       "       <Material diffuseColor=\"0.784 0.502 0.200\" specularColor=\"0.5 0.5 0.5\">\n",
       "\n",
       "       </Material>\n",
       "\n",
       "      </Appearance>\n",
       "\n",
       "      <Sphere radius=\"1.32\">\n",
       "\n",
       "      </Sphere>\n",
       "\n",
       "     </Shape>\n",
       "\n",
       "    </Transform>\n",
       "\n",
       "    <Transform translation=\"0.00 9.03 1.80\">\n",
       "\n",
       "     <Shape>\n",
       "\n",
       "      <Appearance>\n",
       "\n",
       "       <Material diffuseColor=\"0.784 0.502 0.200\" specularColor=\"0.5 0.5 0.5\">\n",
       "\n",
       "       </Material>\n",
       "\n",
       "      </Appearance>\n",
       "\n",
       "      <Sphere radius=\"1.32\">\n",
       "\n",
       "      </Sphere>\n",
       "\n",
       "     </Shape>\n",
       "\n",
       "    </Transform>\n",
       "\n",
       "    <Transform translation=\"1.80 7.22 1.80\">\n",
       "\n",
       "     <Shape>\n",
       "\n",
       "      <Appearance>\n",
       "\n",
       "       <Material diffuseColor=\"0.784 0.502 0.200\" specularColor=\"0.5 0.5 0.5\">\n",
       "\n",
       "       </Material>\n",
       "\n",
       "      </Appearance>\n",
       "\n",
       "      <Sphere radius=\"1.32\">\n",
       "\n",
       "      </Sphere>\n",
       "\n",
       "     </Shape>\n",
       "\n",
       "    </Transform>\n",
       "\n",
       "    <Transform translation=\"1.80 9.03 0.00\">\n",
       "\n",
       "     <Shape>\n",
       "\n",
       "      <Appearance>\n",
       "\n",
       "       <Material diffuseColor=\"0.784 0.502 0.200\" specularColor=\"0.5 0.5 0.5\">\n",
       "\n",
       "       </Material>\n",
       "\n",
       "      </Appearance>\n",
       "\n",
       "      <Sphere radius=\"1.32\">\n",
       "\n",
       "      </Sphere>\n",
       "\n",
       "     </Shape>\n",
       "\n",
       "    </Transform>\n",
       "\n",
       "    <Transform translation=\"0.00 7.22 3.61\">\n",
       "\n",
       "     <Shape>\n",
       "\n",
       "      <Appearance>\n",
       "\n",
       "       <Material diffuseColor=\"0.784 0.502 0.200\" specularColor=\"0.5 0.5 0.5\">\n",
       "\n",
       "       </Material>\n",
       "\n",
       "      </Appearance>\n",
       "\n",
       "      <Sphere radius=\"1.32\">\n",
       "\n",
       "      </Sphere>\n",
       "\n",
       "     </Shape>\n",
       "\n",
       "    </Transform>\n",
       "\n",
       "    <Transform translation=\"0.00 9.03 5.42\">\n",
       "\n",
       "     <Shape>\n",
       "\n",
       "      <Appearance>\n",
       "\n",
       "       <Material diffuseColor=\"0.784 0.502 0.200\" specularColor=\"0.5 0.5 0.5\">\n",
       "\n",
       "       </Material>\n",
       "\n",
       "      </Appearance>\n",
       "\n",
       "      <Sphere radius=\"1.32\">\n",
       "\n",
       "      </Sphere>\n",
       "\n",
       "     </Shape>\n",
       "\n",
       "    </Transform>\n",
       "\n",
       "    <Transform translation=\"1.80 7.22 5.42\">\n",
       "\n",
       "     <Shape>\n",
       "\n",
       "      <Appearance>\n",
       "\n",
       "       <Material diffuseColor=\"0.784 0.502 0.200\" specularColor=\"0.5 0.5 0.5\">\n",
       "\n",
       "       </Material>\n",
       "\n",
       "      </Appearance>\n",
       "\n",
       "      <Sphere radius=\"1.32\">\n",
       "\n",
       "      </Sphere>\n",
       "\n",
       "     </Shape>\n",
       "\n",
       "    </Transform>\n",
       "\n",
       "    <Transform translation=\"1.80 9.03 3.61\">\n",
       "\n",
       "     <Shape>\n",
       "\n",
       "      <Appearance>\n",
       "\n",
       "       <Material diffuseColor=\"0.784 0.502 0.200\" specularColor=\"0.5 0.5 0.5\">\n",
       "\n",
       "       </Material>\n",
       "\n",
       "      </Appearance>\n",
       "\n",
       "      <Sphere radius=\"1.32\">\n",
       "\n",
       "      </Sphere>\n",
       "\n",
       "     </Shape>\n",
       "\n",
       "    </Transform>\n",
       "\n",
       "    <Transform translation=\"0.00 7.22 7.22\">\n",
       "\n",
       "     <Shape>\n",
       "\n",
       "      <Appearance>\n",
       "\n",
       "       <Material diffuseColor=\"0.784 0.502 0.200\" specularColor=\"0.5 0.5 0.5\">\n",
       "\n",
       "       </Material>\n",
       "\n",
       "      </Appearance>\n",
       "\n",
       "      <Sphere radius=\"1.32\">\n",
       "\n",
       "      </Sphere>\n",
       "\n",
       "     </Shape>\n",
       "\n",
       "    </Transform>\n",
       "\n",
       "    <Transform translation=\"0.00 9.03 9.03\">\n",
       "\n",
       "     <Shape>\n",
       "\n",
       "      <Appearance>\n",
       "\n",
       "       <Material diffuseColor=\"0.784 0.502 0.200\" specularColor=\"0.5 0.5 0.5\">\n",
       "\n",
       "       </Material>\n",
       "\n",
       "      </Appearance>\n",
       "\n",
       "      <Sphere radius=\"1.32\">\n",
       "\n",
       "      </Sphere>\n",
       "\n",
       "     </Shape>\n",
       "\n",
       "    </Transform>\n",
       "\n",
       "    <Transform translation=\"1.80 7.22 9.03\">\n",
       "\n",
       "     <Shape>\n",
       "\n",
       "      <Appearance>\n",
       "\n",
       "       <Material diffuseColor=\"0.784 0.502 0.200\" specularColor=\"0.5 0.5 0.5\">\n",
       "\n",
       "       </Material>\n",
       "\n",
       "      </Appearance>\n",
       "\n",
       "      <Sphere radius=\"1.32\">\n",
       "\n",
       "      </Sphere>\n",
       "\n",
       "     </Shape>\n",
       "\n",
       "    </Transform>\n",
       "\n",
       "    <Transform translation=\"1.80 9.03 7.22\">\n",
       "\n",
       "     <Shape>\n",
       "\n",
       "      <Appearance>\n",
       "\n",
       "       <Material diffuseColor=\"0.784 0.502 0.200\" specularColor=\"0.5 0.5 0.5\">\n",
       "\n",
       "       </Material>\n",
       "\n",
       "      </Appearance>\n",
       "\n",
       "      <Sphere radius=\"1.32\">\n",
       "\n",
       "      </Sphere>\n",
       "\n",
       "     </Shape>\n",
       "\n",
       "    </Transform>\n",
       "\n",
       "    <Transform translation=\"3.61 0.00 0.00\">\n",
       "\n",
       "     <Shape>\n",
       "\n",
       "      <Appearance>\n",
       "\n",
       "       <Material diffuseColor=\"0.784 0.502 0.200\" specularColor=\"0.5 0.5 0.5\">\n",
       "\n",
       "       </Material>\n",
       "\n",
       "      </Appearance>\n",
       "\n",
       "      <Sphere radius=\"1.32\">\n",
       "\n",
       "      </Sphere>\n",
       "\n",
       "     </Shape>\n",
       "\n",
       "    </Transform>\n",
       "\n",
       "    <Transform translation=\"3.61 1.80 1.80\">\n",
       "\n",
       "     <Shape>\n",
       "\n",
       "      <Appearance>\n",
       "\n",
       "       <Material diffuseColor=\"0.784 0.502 0.200\" specularColor=\"0.5 0.5 0.5\">\n",
       "\n",
       "       </Material>\n",
       "\n",
       "      </Appearance>\n",
       "\n",
       "      <Sphere radius=\"1.32\">\n",
       "\n",
       "      </Sphere>\n",
       "\n",
       "     </Shape>\n",
       "\n",
       "    </Transform>\n",
       "\n",
       "    <Transform translation=\"5.42 0.00 1.80\">\n",
       "\n",
       "     <Shape>\n",
       "\n",
       "      <Appearance>\n",
       "\n",
       "       <Material diffuseColor=\"0.784 0.502 0.200\" specularColor=\"0.5 0.5 0.5\">\n",
       "\n",
       "       </Material>\n",
       "\n",
       "      </Appearance>\n",
       "\n",
       "      <Sphere radius=\"1.32\">\n",
       "\n",
       "      </Sphere>\n",
       "\n",
       "     </Shape>\n",
       "\n",
       "    </Transform>\n",
       "\n",
       "    <Transform translation=\"5.42 1.80 0.00\">\n",
       "\n",
       "     <Shape>\n",
       "\n",
       "      <Appearance>\n",
       "\n",
       "       <Material diffuseColor=\"0.784 0.502 0.200\" specularColor=\"0.5 0.5 0.5\">\n",
       "\n",
       "       </Material>\n",
       "\n",
       "      </Appearance>\n",
       "\n",
       "      <Sphere radius=\"1.32\">\n",
       "\n",
       "      </Sphere>\n",
       "\n",
       "     </Shape>\n",
       "\n",
       "    </Transform>\n",
       "\n",
       "    <Transform translation=\"3.61 0.00 3.61\">\n",
       "\n",
       "     <Shape>\n",
       "\n",
       "      <Appearance>\n",
       "\n",
       "       <Material diffuseColor=\"0.784 0.502 0.200\" specularColor=\"0.5 0.5 0.5\">\n",
       "\n",
       "       </Material>\n",
       "\n",
       "      </Appearance>\n",
       "\n",
       "      <Sphere radius=\"1.32\">\n",
       "\n",
       "      </Sphere>\n",
       "\n",
       "     </Shape>\n",
       "\n",
       "    </Transform>\n",
       "\n",
       "    <Transform translation=\"3.61 1.80 5.42\">\n",
       "\n",
       "     <Shape>\n",
       "\n",
       "      <Appearance>\n",
       "\n",
       "       <Material diffuseColor=\"0.784 0.502 0.200\" specularColor=\"0.5 0.5 0.5\">\n",
       "\n",
       "       </Material>\n",
       "\n",
       "      </Appearance>\n",
       "\n",
       "      <Sphere radius=\"1.32\">\n",
       "\n",
       "      </Sphere>\n",
       "\n",
       "     </Shape>\n",
       "\n",
       "    </Transform>\n",
       "\n",
       "    <Transform translation=\"5.42 0.00 5.42\">\n",
       "\n",
       "     <Shape>\n",
       "\n",
       "      <Appearance>\n",
       "\n",
       "       <Material diffuseColor=\"0.784 0.502 0.200\" specularColor=\"0.5 0.5 0.5\">\n",
       "\n",
       "       </Material>\n",
       "\n",
       "      </Appearance>\n",
       "\n",
       "      <Sphere radius=\"1.32\">\n",
       "\n",
       "      </Sphere>\n",
       "\n",
       "     </Shape>\n",
       "\n",
       "    </Transform>\n",
       "\n",
       "    <Transform translation=\"5.42 1.80 3.61\">\n",
       "\n",
       "     <Shape>\n",
       "\n",
       "      <Appearance>\n",
       "\n",
       "       <Material diffuseColor=\"0.784 0.502 0.200\" specularColor=\"0.5 0.5 0.5\">\n",
       "\n",
       "       </Material>\n",
       "\n",
       "      </Appearance>\n",
       "\n",
       "      <Sphere radius=\"1.32\">\n",
       "\n",
       "      </Sphere>\n",
       "\n",
       "     </Shape>\n",
       "\n",
       "    </Transform>\n",
       "\n",
       "    <Transform translation=\"3.61 0.00 7.22\">\n",
       "\n",
       "     <Shape>\n",
       "\n",
       "      <Appearance>\n",
       "\n",
       "       <Material diffuseColor=\"0.784 0.502 0.200\" specularColor=\"0.5 0.5 0.5\">\n",
       "\n",
       "       </Material>\n",
       "\n",
       "      </Appearance>\n",
       "\n",
       "      <Sphere radius=\"1.32\">\n",
       "\n",
       "      </Sphere>\n",
       "\n",
       "     </Shape>\n",
       "\n",
       "    </Transform>\n",
       "\n",
       "    <Transform translation=\"3.61 1.80 9.03\">\n",
       "\n",
       "     <Shape>\n",
       "\n",
       "      <Appearance>\n",
       "\n",
       "       <Material diffuseColor=\"0.784 0.502 0.200\" specularColor=\"0.5 0.5 0.5\">\n",
       "\n",
       "       </Material>\n",
       "\n",
       "      </Appearance>\n",
       "\n",
       "      <Sphere radius=\"1.32\">\n",
       "\n",
       "      </Sphere>\n",
       "\n",
       "     </Shape>\n",
       "\n",
       "    </Transform>\n",
       "\n",
       "    <Transform translation=\"5.42 0.00 9.03\">\n",
       "\n",
       "     <Shape>\n",
       "\n",
       "      <Appearance>\n",
       "\n",
       "       <Material diffuseColor=\"0.784 0.502 0.200\" specularColor=\"0.5 0.5 0.5\">\n",
       "\n",
       "       </Material>\n",
       "\n",
       "      </Appearance>\n",
       "\n",
       "      <Sphere radius=\"1.32\">\n",
       "\n",
       "      </Sphere>\n",
       "\n",
       "     </Shape>\n",
       "\n",
       "    </Transform>\n",
       "\n",
       "    <Transform translation=\"5.42 1.80 7.22\">\n",
       "\n",
       "     <Shape>\n",
       "\n",
       "      <Appearance>\n",
       "\n",
       "       <Material diffuseColor=\"0.784 0.502 0.200\" specularColor=\"0.5 0.5 0.5\">\n",
       "\n",
       "       </Material>\n",
       "\n",
       "      </Appearance>\n",
       "\n",
       "      <Sphere radius=\"1.32\">\n",
       "\n",
       "      </Sphere>\n",
       "\n",
       "     </Shape>\n",
       "\n",
       "    </Transform>\n",
       "\n",
       "    <Transform translation=\"3.61 3.61 0.00\">\n",
       "\n",
       "     <Shape>\n",
       "\n",
       "      <Appearance>\n",
       "\n",
       "       <Material diffuseColor=\"0.784 0.502 0.200\" specularColor=\"0.5 0.5 0.5\">\n",
       "\n",
       "       </Material>\n",
       "\n",
       "      </Appearance>\n",
       "\n",
       "      <Sphere radius=\"1.32\">\n",
       "\n",
       "      </Sphere>\n",
       "\n",
       "     </Shape>\n",
       "\n",
       "    </Transform>\n",
       "\n",
       "    <Transform translation=\"3.61 5.42 1.80\">\n",
       "\n",
       "     <Shape>\n",
       "\n",
       "      <Appearance>\n",
       "\n",
       "       <Material diffuseColor=\"0.784 0.502 0.200\" specularColor=\"0.5 0.5 0.5\">\n",
       "\n",
       "       </Material>\n",
       "\n",
       "      </Appearance>\n",
       "\n",
       "      <Sphere radius=\"1.32\">\n",
       "\n",
       "      </Sphere>\n",
       "\n",
       "     </Shape>\n",
       "\n",
       "    </Transform>\n",
       "\n",
       "    <Transform translation=\"5.42 3.61 1.80\">\n",
       "\n",
       "     <Shape>\n",
       "\n",
       "      <Appearance>\n",
       "\n",
       "       <Material diffuseColor=\"0.784 0.502 0.200\" specularColor=\"0.5 0.5 0.5\">\n",
       "\n",
       "       </Material>\n",
       "\n",
       "      </Appearance>\n",
       "\n",
       "      <Sphere radius=\"1.32\">\n",
       "\n",
       "      </Sphere>\n",
       "\n",
       "     </Shape>\n",
       "\n",
       "    </Transform>\n",
       "\n",
       "    <Transform translation=\"5.42 5.42 0.00\">\n",
       "\n",
       "     <Shape>\n",
       "\n",
       "      <Appearance>\n",
       "\n",
       "       <Material diffuseColor=\"0.784 0.502 0.200\" specularColor=\"0.5 0.5 0.5\">\n",
       "\n",
       "       </Material>\n",
       "\n",
       "      </Appearance>\n",
       "\n",
       "      <Sphere radius=\"1.32\">\n",
       "\n",
       "      </Sphere>\n",
       "\n",
       "     </Shape>\n",
       "\n",
       "    </Transform>\n",
       "\n",
       "    <Transform translation=\"3.61 3.61 3.61\">\n",
       "\n",
       "     <Shape>\n",
       "\n",
       "      <Appearance>\n",
       "\n",
       "       <Material diffuseColor=\"0.784 0.502 0.200\" specularColor=\"0.5 0.5 0.5\">\n",
       "\n",
       "       </Material>\n",
       "\n",
       "      </Appearance>\n",
       "\n",
       "      <Sphere radius=\"1.32\">\n",
       "\n",
       "      </Sphere>\n",
       "\n",
       "     </Shape>\n",
       "\n",
       "    </Transform>\n",
       "\n",
       "    <Transform translation=\"3.61 5.42 5.42\">\n",
       "\n",
       "     <Shape>\n",
       "\n",
       "      <Appearance>\n",
       "\n",
       "       <Material diffuseColor=\"0.784 0.502 0.200\" specularColor=\"0.5 0.5 0.5\">\n",
       "\n",
       "       </Material>\n",
       "\n",
       "      </Appearance>\n",
       "\n",
       "      <Sphere radius=\"1.32\">\n",
       "\n",
       "      </Sphere>\n",
       "\n",
       "     </Shape>\n",
       "\n",
       "    </Transform>\n",
       "\n",
       "    <Transform translation=\"5.42 3.61 5.42\">\n",
       "\n",
       "     <Shape>\n",
       "\n",
       "      <Appearance>\n",
       "\n",
       "       <Material diffuseColor=\"0.784 0.502 0.200\" specularColor=\"0.5 0.5 0.5\">\n",
       "\n",
       "       </Material>\n",
       "\n",
       "      </Appearance>\n",
       "\n",
       "      <Sphere radius=\"1.32\">\n",
       "\n",
       "      </Sphere>\n",
       "\n",
       "     </Shape>\n",
       "\n",
       "    </Transform>\n",
       "\n",
       "    <Transform translation=\"5.42 5.42 3.61\">\n",
       "\n",
       "     <Shape>\n",
       "\n",
       "      <Appearance>\n",
       "\n",
       "       <Material diffuseColor=\"0.784 0.502 0.200\" specularColor=\"0.5 0.5 0.5\">\n",
       "\n",
       "       </Material>\n",
       "\n",
       "      </Appearance>\n",
       "\n",
       "      <Sphere radius=\"1.32\">\n",
       "\n",
       "      </Sphere>\n",
       "\n",
       "     </Shape>\n",
       "\n",
       "    </Transform>\n",
       "\n",
       "    <Transform translation=\"3.61 3.61 7.22\">\n",
       "\n",
       "     <Shape>\n",
       "\n",
       "      <Appearance>\n",
       "\n",
       "       <Material diffuseColor=\"0.784 0.502 0.200\" specularColor=\"0.5 0.5 0.5\">\n",
       "\n",
       "       </Material>\n",
       "\n",
       "      </Appearance>\n",
       "\n",
       "      <Sphere radius=\"1.32\">\n",
       "\n",
       "      </Sphere>\n",
       "\n",
       "     </Shape>\n",
       "\n",
       "    </Transform>\n",
       "\n",
       "    <Transform translation=\"3.61 5.42 9.03\">\n",
       "\n",
       "     <Shape>\n",
       "\n",
       "      <Appearance>\n",
       "\n",
       "       <Material diffuseColor=\"0.784 0.502 0.200\" specularColor=\"0.5 0.5 0.5\">\n",
       "\n",
       "       </Material>\n",
       "\n",
       "      </Appearance>\n",
       "\n",
       "      <Sphere radius=\"1.32\">\n",
       "\n",
       "      </Sphere>\n",
       "\n",
       "     </Shape>\n",
       "\n",
       "    </Transform>\n",
       "\n",
       "    <Transform translation=\"5.42 3.61 9.03\">\n",
       "\n",
       "     <Shape>\n",
       "\n",
       "      <Appearance>\n",
       "\n",
       "       <Material diffuseColor=\"0.784 0.502 0.200\" specularColor=\"0.5 0.5 0.5\">\n",
       "\n",
       "       </Material>\n",
       "\n",
       "      </Appearance>\n",
       "\n",
       "      <Sphere radius=\"1.32\">\n",
       "\n",
       "      </Sphere>\n",
       "\n",
       "     </Shape>\n",
       "\n",
       "    </Transform>\n",
       "\n",
       "    <Transform translation=\"5.42 5.42 7.22\">\n",
       "\n",
       "     <Shape>\n",
       "\n",
       "      <Appearance>\n",
       "\n",
       "       <Material diffuseColor=\"0.784 0.502 0.200\" specularColor=\"0.5 0.5 0.5\">\n",
       "\n",
       "       </Material>\n",
       "\n",
       "      </Appearance>\n",
       "\n",
       "      <Sphere radius=\"1.32\">\n",
       "\n",
       "      </Sphere>\n",
       "\n",
       "     </Shape>\n",
       "\n",
       "    </Transform>\n",
       "\n",
       "    <Transform translation=\"3.61 7.22 0.00\">\n",
       "\n",
       "     <Shape>\n",
       "\n",
       "      <Appearance>\n",
       "\n",
       "       <Material diffuseColor=\"0.784 0.502 0.200\" specularColor=\"0.5 0.5 0.5\">\n",
       "\n",
       "       </Material>\n",
       "\n",
       "      </Appearance>\n",
       "\n",
       "      <Sphere radius=\"1.32\">\n",
       "\n",
       "      </Sphere>\n",
       "\n",
       "     </Shape>\n",
       "\n",
       "    </Transform>\n",
       "\n",
       "    <Transform translation=\"3.61 9.03 1.80\">\n",
       "\n",
       "     <Shape>\n",
       "\n",
       "      <Appearance>\n",
       "\n",
       "       <Material diffuseColor=\"0.784 0.502 0.200\" specularColor=\"0.5 0.5 0.5\">\n",
       "\n",
       "       </Material>\n",
       "\n",
       "      </Appearance>\n",
       "\n",
       "      <Sphere radius=\"1.32\">\n",
       "\n",
       "      </Sphere>\n",
       "\n",
       "     </Shape>\n",
       "\n",
       "    </Transform>\n",
       "\n",
       "    <Transform translation=\"5.42 7.22 1.80\">\n",
       "\n",
       "     <Shape>\n",
       "\n",
       "      <Appearance>\n",
       "\n",
       "       <Material diffuseColor=\"0.784 0.502 0.200\" specularColor=\"0.5 0.5 0.5\">\n",
       "\n",
       "       </Material>\n",
       "\n",
       "      </Appearance>\n",
       "\n",
       "      <Sphere radius=\"1.32\">\n",
       "\n",
       "      </Sphere>\n",
       "\n",
       "     </Shape>\n",
       "\n",
       "    </Transform>\n",
       "\n",
       "    <Transform translation=\"5.42 9.03 0.00\">\n",
       "\n",
       "     <Shape>\n",
       "\n",
       "      <Appearance>\n",
       "\n",
       "       <Material diffuseColor=\"0.784 0.502 0.200\" specularColor=\"0.5 0.5 0.5\">\n",
       "\n",
       "       </Material>\n",
       "\n",
       "      </Appearance>\n",
       "\n",
       "      <Sphere radius=\"1.32\">\n",
       "\n",
       "      </Sphere>\n",
       "\n",
       "     </Shape>\n",
       "\n",
       "    </Transform>\n",
       "\n",
       "    <Transform translation=\"3.61 7.22 3.61\">\n",
       "\n",
       "     <Shape>\n",
       "\n",
       "      <Appearance>\n",
       "\n",
       "       <Material diffuseColor=\"0.784 0.502 0.200\" specularColor=\"0.5 0.5 0.5\">\n",
       "\n",
       "       </Material>\n",
       "\n",
       "      </Appearance>\n",
       "\n",
       "      <Sphere radius=\"1.32\">\n",
       "\n",
       "      </Sphere>\n",
       "\n",
       "     </Shape>\n",
       "\n",
       "    </Transform>\n",
       "\n",
       "    <Transform translation=\"3.61 9.03 5.42\">\n",
       "\n",
       "     <Shape>\n",
       "\n",
       "      <Appearance>\n",
       "\n",
       "       <Material diffuseColor=\"0.784 0.502 0.200\" specularColor=\"0.5 0.5 0.5\">\n",
       "\n",
       "       </Material>\n",
       "\n",
       "      </Appearance>\n",
       "\n",
       "      <Sphere radius=\"1.32\">\n",
       "\n",
       "      </Sphere>\n",
       "\n",
       "     </Shape>\n",
       "\n",
       "    </Transform>\n",
       "\n",
       "    <Transform translation=\"5.42 7.22 5.42\">\n",
       "\n",
       "     <Shape>\n",
       "\n",
       "      <Appearance>\n",
       "\n",
       "       <Material diffuseColor=\"0.784 0.502 0.200\" specularColor=\"0.5 0.5 0.5\">\n",
       "\n",
       "       </Material>\n",
       "\n",
       "      </Appearance>\n",
       "\n",
       "      <Sphere radius=\"1.32\">\n",
       "\n",
       "      </Sphere>\n",
       "\n",
       "     </Shape>\n",
       "\n",
       "    </Transform>\n",
       "\n",
       "    <Transform translation=\"5.42 9.03 3.61\">\n",
       "\n",
       "     <Shape>\n",
       "\n",
       "      <Appearance>\n",
       "\n",
       "       <Material diffuseColor=\"0.784 0.502 0.200\" specularColor=\"0.5 0.5 0.5\">\n",
       "\n",
       "       </Material>\n",
       "\n",
       "      </Appearance>\n",
       "\n",
       "      <Sphere radius=\"1.32\">\n",
       "\n",
       "      </Sphere>\n",
       "\n",
       "     </Shape>\n",
       "\n",
       "    </Transform>\n",
       "\n",
       "    <Transform translation=\"3.61 7.22 7.22\">\n",
       "\n",
       "     <Shape>\n",
       "\n",
       "      <Appearance>\n",
       "\n",
       "       <Material diffuseColor=\"0.784 0.502 0.200\" specularColor=\"0.5 0.5 0.5\">\n",
       "\n",
       "       </Material>\n",
       "\n",
       "      </Appearance>\n",
       "\n",
       "      <Sphere radius=\"1.32\">\n",
       "\n",
       "      </Sphere>\n",
       "\n",
       "     </Shape>\n",
       "\n",
       "    </Transform>\n",
       "\n",
       "    <Transform translation=\"3.61 9.03 9.03\">\n",
       "\n",
       "     <Shape>\n",
       "\n",
       "      <Appearance>\n",
       "\n",
       "       <Material diffuseColor=\"0.784 0.502 0.200\" specularColor=\"0.5 0.5 0.5\">\n",
       "\n",
       "       </Material>\n",
       "\n",
       "      </Appearance>\n",
       "\n",
       "      <Sphere radius=\"1.32\">\n",
       "\n",
       "      </Sphere>\n",
       "\n",
       "     </Shape>\n",
       "\n",
       "    </Transform>\n",
       "\n",
       "    <Transform translation=\"5.42 7.22 9.03\">\n",
       "\n",
       "     <Shape>\n",
       "\n",
       "      <Appearance>\n",
       "\n",
       "       <Material diffuseColor=\"0.784 0.502 0.200\" specularColor=\"0.5 0.5 0.5\">\n",
       "\n",
       "       </Material>\n",
       "\n",
       "      </Appearance>\n",
       "\n",
       "      <Sphere radius=\"1.32\">\n",
       "\n",
       "      </Sphere>\n",
       "\n",
       "     </Shape>\n",
       "\n",
       "    </Transform>\n",
       "\n",
       "    <Transform translation=\"5.42 9.03 7.22\">\n",
       "\n",
       "     <Shape>\n",
       "\n",
       "      <Appearance>\n",
       "\n",
       "       <Material diffuseColor=\"0.784 0.502 0.200\" specularColor=\"0.5 0.5 0.5\">\n",
       "\n",
       "       </Material>\n",
       "\n",
       "      </Appearance>\n",
       "\n",
       "      <Sphere radius=\"1.32\">\n",
       "\n",
       "      </Sphere>\n",
       "\n",
       "     </Shape>\n",
       "\n",
       "    </Transform>\n",
       "\n",
       "    <Transform translation=\"7.22 0.00 0.00\">\n",
       "\n",
       "     <Shape>\n",
       "\n",
       "      <Appearance>\n",
       "\n",
       "       <Material diffuseColor=\"0.784 0.502 0.200\" specularColor=\"0.5 0.5 0.5\">\n",
       "\n",
       "       </Material>\n",
       "\n",
       "      </Appearance>\n",
       "\n",
       "      <Sphere radius=\"1.32\">\n",
       "\n",
       "      </Sphere>\n",
       "\n",
       "     </Shape>\n",
       "\n",
       "    </Transform>\n",
       "\n",
       "    <Transform translation=\"7.22 1.80 1.80\">\n",
       "\n",
       "     <Shape>\n",
       "\n",
       "      <Appearance>\n",
       "\n",
       "       <Material diffuseColor=\"0.784 0.502 0.200\" specularColor=\"0.5 0.5 0.5\">\n",
       "\n",
       "       </Material>\n",
       "\n",
       "      </Appearance>\n",
       "\n",
       "      <Sphere radius=\"1.32\">\n",
       "\n",
       "      </Sphere>\n",
       "\n",
       "     </Shape>\n",
       "\n",
       "    </Transform>\n",
       "\n",
       "    <Transform translation=\"9.03 0.00 1.80\">\n",
       "\n",
       "     <Shape>\n",
       "\n",
       "      <Appearance>\n",
       "\n",
       "       <Material diffuseColor=\"0.784 0.502 0.200\" specularColor=\"0.5 0.5 0.5\">\n",
       "\n",
       "       </Material>\n",
       "\n",
       "      </Appearance>\n",
       "\n",
       "      <Sphere radius=\"1.32\">\n",
       "\n",
       "      </Sphere>\n",
       "\n",
       "     </Shape>\n",
       "\n",
       "    </Transform>\n",
       "\n",
       "    <Transform translation=\"9.03 1.80 0.00\">\n",
       "\n",
       "     <Shape>\n",
       "\n",
       "      <Appearance>\n",
       "\n",
       "       <Material diffuseColor=\"0.784 0.502 0.200\" specularColor=\"0.5 0.5 0.5\">\n",
       "\n",
       "       </Material>\n",
       "\n",
       "      </Appearance>\n",
       "\n",
       "      <Sphere radius=\"1.32\">\n",
       "\n",
       "      </Sphere>\n",
       "\n",
       "     </Shape>\n",
       "\n",
       "    </Transform>\n",
       "\n",
       "    <Transform translation=\"7.22 0.00 3.61\">\n",
       "\n",
       "     <Shape>\n",
       "\n",
       "      <Appearance>\n",
       "\n",
       "       <Material diffuseColor=\"0.784 0.502 0.200\" specularColor=\"0.5 0.5 0.5\">\n",
       "\n",
       "       </Material>\n",
       "\n",
       "      </Appearance>\n",
       "\n",
       "      <Sphere radius=\"1.32\">\n",
       "\n",
       "      </Sphere>\n",
       "\n",
       "     </Shape>\n",
       "\n",
       "    </Transform>\n",
       "\n",
       "    <Transform translation=\"7.22 1.80 5.42\">\n",
       "\n",
       "     <Shape>\n",
       "\n",
       "      <Appearance>\n",
       "\n",
       "       <Material diffuseColor=\"0.784 0.502 0.200\" specularColor=\"0.5 0.5 0.5\">\n",
       "\n",
       "       </Material>\n",
       "\n",
       "      </Appearance>\n",
       "\n",
       "      <Sphere radius=\"1.32\">\n",
       "\n",
       "      </Sphere>\n",
       "\n",
       "     </Shape>\n",
       "\n",
       "    </Transform>\n",
       "\n",
       "    <Transform translation=\"9.03 0.00 5.42\">\n",
       "\n",
       "     <Shape>\n",
       "\n",
       "      <Appearance>\n",
       "\n",
       "       <Material diffuseColor=\"0.784 0.502 0.200\" specularColor=\"0.5 0.5 0.5\">\n",
       "\n",
       "       </Material>\n",
       "\n",
       "      </Appearance>\n",
       "\n",
       "      <Sphere radius=\"1.32\">\n",
       "\n",
       "      </Sphere>\n",
       "\n",
       "     </Shape>\n",
       "\n",
       "    </Transform>\n",
       "\n",
       "    <Transform translation=\"9.03 1.80 3.61\">\n",
       "\n",
       "     <Shape>\n",
       "\n",
       "      <Appearance>\n",
       "\n",
       "       <Material diffuseColor=\"0.784 0.502 0.200\" specularColor=\"0.5 0.5 0.5\">\n",
       "\n",
       "       </Material>\n",
       "\n",
       "      </Appearance>\n",
       "\n",
       "      <Sphere radius=\"1.32\">\n",
       "\n",
       "      </Sphere>\n",
       "\n",
       "     </Shape>\n",
       "\n",
       "    </Transform>\n",
       "\n",
       "    <Transform translation=\"7.22 0.00 7.22\">\n",
       "\n",
       "     <Shape>\n",
       "\n",
       "      <Appearance>\n",
       "\n",
       "       <Material diffuseColor=\"0.784 0.502 0.200\" specularColor=\"0.5 0.5 0.5\">\n",
       "\n",
       "       </Material>\n",
       "\n",
       "      </Appearance>\n",
       "\n",
       "      <Sphere radius=\"1.32\">\n",
       "\n",
       "      </Sphere>\n",
       "\n",
       "     </Shape>\n",
       "\n",
       "    </Transform>\n",
       "\n",
       "    <Transform translation=\"7.22 1.80 9.03\">\n",
       "\n",
       "     <Shape>\n",
       "\n",
       "      <Appearance>\n",
       "\n",
       "       <Material diffuseColor=\"0.784 0.502 0.200\" specularColor=\"0.5 0.5 0.5\">\n",
       "\n",
       "       </Material>\n",
       "\n",
       "      </Appearance>\n",
       "\n",
       "      <Sphere radius=\"1.32\">\n",
       "\n",
       "      </Sphere>\n",
       "\n",
       "     </Shape>\n",
       "\n",
       "    </Transform>\n",
       "\n",
       "    <Transform translation=\"9.03 0.00 9.03\">\n",
       "\n",
       "     <Shape>\n",
       "\n",
       "      <Appearance>\n",
       "\n",
       "       <Material diffuseColor=\"0.784 0.502 0.200\" specularColor=\"0.5 0.5 0.5\">\n",
       "\n",
       "       </Material>\n",
       "\n",
       "      </Appearance>\n",
       "\n",
       "      <Sphere radius=\"1.32\">\n",
       "\n",
       "      </Sphere>\n",
       "\n",
       "     </Shape>\n",
       "\n",
       "    </Transform>\n",
       "\n",
       "    <Transform translation=\"9.03 1.80 7.22\">\n",
       "\n",
       "     <Shape>\n",
       "\n",
       "      <Appearance>\n",
       "\n",
       "       <Material diffuseColor=\"0.784 0.502 0.200\" specularColor=\"0.5 0.5 0.5\">\n",
       "\n",
       "       </Material>\n",
       "\n",
       "      </Appearance>\n",
       "\n",
       "      <Sphere radius=\"1.32\">\n",
       "\n",
       "      </Sphere>\n",
       "\n",
       "     </Shape>\n",
       "\n",
       "    </Transform>\n",
       "\n",
       "    <Transform translation=\"7.22 3.61 0.00\">\n",
       "\n",
       "     <Shape>\n",
       "\n",
       "      <Appearance>\n",
       "\n",
       "       <Material diffuseColor=\"0.784 0.502 0.200\" specularColor=\"0.5 0.5 0.5\">\n",
       "\n",
       "       </Material>\n",
       "\n",
       "      </Appearance>\n",
       "\n",
       "      <Sphere radius=\"1.32\">\n",
       "\n",
       "      </Sphere>\n",
       "\n",
       "     </Shape>\n",
       "\n",
       "    </Transform>\n",
       "\n",
       "    <Transform translation=\"7.22 5.42 1.80\">\n",
       "\n",
       "     <Shape>\n",
       "\n",
       "      <Appearance>\n",
       "\n",
       "       <Material diffuseColor=\"0.784 0.502 0.200\" specularColor=\"0.5 0.5 0.5\">\n",
       "\n",
       "       </Material>\n",
       "\n",
       "      </Appearance>\n",
       "\n",
       "      <Sphere radius=\"1.32\">\n",
       "\n",
       "      </Sphere>\n",
       "\n",
       "     </Shape>\n",
       "\n",
       "    </Transform>\n",
       "\n",
       "    <Transform translation=\"9.03 3.61 1.80\">\n",
       "\n",
       "     <Shape>\n",
       "\n",
       "      <Appearance>\n",
       "\n",
       "       <Material diffuseColor=\"0.784 0.502 0.200\" specularColor=\"0.5 0.5 0.5\">\n",
       "\n",
       "       </Material>\n",
       "\n",
       "      </Appearance>\n",
       "\n",
       "      <Sphere radius=\"1.32\">\n",
       "\n",
       "      </Sphere>\n",
       "\n",
       "     </Shape>\n",
       "\n",
       "    </Transform>\n",
       "\n",
       "    <Transform translation=\"9.03 5.42 0.00\">\n",
       "\n",
       "     <Shape>\n",
       "\n",
       "      <Appearance>\n",
       "\n",
       "       <Material diffuseColor=\"0.784 0.502 0.200\" specularColor=\"0.5 0.5 0.5\">\n",
       "\n",
       "       </Material>\n",
       "\n",
       "      </Appearance>\n",
       "\n",
       "      <Sphere radius=\"1.32\">\n",
       "\n",
       "      </Sphere>\n",
       "\n",
       "     </Shape>\n",
       "\n",
       "    </Transform>\n",
       "\n",
       "    <Transform translation=\"7.22 3.61 3.61\">\n",
       "\n",
       "     <Shape>\n",
       "\n",
       "      <Appearance>\n",
       "\n",
       "       <Material diffuseColor=\"0.784 0.502 0.200\" specularColor=\"0.5 0.5 0.5\">\n",
       "\n",
       "       </Material>\n",
       "\n",
       "      </Appearance>\n",
       "\n",
       "      <Sphere radius=\"1.32\">\n",
       "\n",
       "      </Sphere>\n",
       "\n",
       "     </Shape>\n",
       "\n",
       "    </Transform>\n",
       "\n",
       "    <Transform translation=\"7.22 5.42 5.42\">\n",
       "\n",
       "     <Shape>\n",
       "\n",
       "      <Appearance>\n",
       "\n",
       "       <Material diffuseColor=\"0.784 0.502 0.200\" specularColor=\"0.5 0.5 0.5\">\n",
       "\n",
       "       </Material>\n",
       "\n",
       "      </Appearance>\n",
       "\n",
       "      <Sphere radius=\"1.32\">\n",
       "\n",
       "      </Sphere>\n",
       "\n",
       "     </Shape>\n",
       "\n",
       "    </Transform>\n",
       "\n",
       "    <Transform translation=\"9.03 3.61 5.42\">\n",
       "\n",
       "     <Shape>\n",
       "\n",
       "      <Appearance>\n",
       "\n",
       "       <Material diffuseColor=\"0.784 0.502 0.200\" specularColor=\"0.5 0.5 0.5\">\n",
       "\n",
       "       </Material>\n",
       "\n",
       "      </Appearance>\n",
       "\n",
       "      <Sphere radius=\"1.32\">\n",
       "\n",
       "      </Sphere>\n",
       "\n",
       "     </Shape>\n",
       "\n",
       "    </Transform>\n",
       "\n",
       "    <Transform translation=\"9.03 5.42 3.61\">\n",
       "\n",
       "     <Shape>\n",
       "\n",
       "      <Appearance>\n",
       "\n",
       "       <Material diffuseColor=\"0.784 0.502 0.200\" specularColor=\"0.5 0.5 0.5\">\n",
       "\n",
       "       </Material>\n",
       "\n",
       "      </Appearance>\n",
       "\n",
       "      <Sphere radius=\"1.32\">\n",
       "\n",
       "      </Sphere>\n",
       "\n",
       "     </Shape>\n",
       "\n",
       "    </Transform>\n",
       "\n",
       "    <Transform translation=\"7.22 3.61 7.22\">\n",
       "\n",
       "     <Shape>\n",
       "\n",
       "      <Appearance>\n",
       "\n",
       "       <Material diffuseColor=\"0.784 0.502 0.200\" specularColor=\"0.5 0.5 0.5\">\n",
       "\n",
       "       </Material>\n",
       "\n",
       "      </Appearance>\n",
       "\n",
       "      <Sphere radius=\"1.32\">\n",
       "\n",
       "      </Sphere>\n",
       "\n",
       "     </Shape>\n",
       "\n",
       "    </Transform>\n",
       "\n",
       "    <Transform translation=\"7.22 5.42 9.03\">\n",
       "\n",
       "     <Shape>\n",
       "\n",
       "      <Appearance>\n",
       "\n",
       "       <Material diffuseColor=\"0.784 0.502 0.200\" specularColor=\"0.5 0.5 0.5\">\n",
       "\n",
       "       </Material>\n",
       "\n",
       "      </Appearance>\n",
       "\n",
       "      <Sphere radius=\"1.32\">\n",
       "\n",
       "      </Sphere>\n",
       "\n",
       "     </Shape>\n",
       "\n",
       "    </Transform>\n",
       "\n",
       "    <Transform translation=\"9.03 3.61 9.03\">\n",
       "\n",
       "     <Shape>\n",
       "\n",
       "      <Appearance>\n",
       "\n",
       "       <Material diffuseColor=\"0.784 0.502 0.200\" specularColor=\"0.5 0.5 0.5\">\n",
       "\n",
       "       </Material>\n",
       "\n",
       "      </Appearance>\n",
       "\n",
       "      <Sphere radius=\"1.32\">\n",
       "\n",
       "      </Sphere>\n",
       "\n",
       "     </Shape>\n",
       "\n",
       "    </Transform>\n",
       "\n",
       "    <Transform translation=\"9.03 5.42 7.22\">\n",
       "\n",
       "     <Shape>\n",
       "\n",
       "      <Appearance>\n",
       "\n",
       "       <Material diffuseColor=\"0.784 0.502 0.200\" specularColor=\"0.5 0.5 0.5\">\n",
       "\n",
       "       </Material>\n",
       "\n",
       "      </Appearance>\n",
       "\n",
       "      <Sphere radius=\"1.32\">\n",
       "\n",
       "      </Sphere>\n",
       "\n",
       "     </Shape>\n",
       "\n",
       "    </Transform>\n",
       "\n",
       "    <Transform translation=\"7.22 7.22 0.00\">\n",
       "\n",
       "     <Shape>\n",
       "\n",
       "      <Appearance>\n",
       "\n",
       "       <Material diffuseColor=\"0.784 0.502 0.200\" specularColor=\"0.5 0.5 0.5\">\n",
       "\n",
       "       </Material>\n",
       "\n",
       "      </Appearance>\n",
       "\n",
       "      <Sphere radius=\"1.32\">\n",
       "\n",
       "      </Sphere>\n",
       "\n",
       "     </Shape>\n",
       "\n",
       "    </Transform>\n",
       "\n",
       "    <Transform translation=\"7.22 9.03 1.80\">\n",
       "\n",
       "     <Shape>\n",
       "\n",
       "      <Appearance>\n",
       "\n",
       "       <Material diffuseColor=\"0.784 0.502 0.200\" specularColor=\"0.5 0.5 0.5\">\n",
       "\n",
       "       </Material>\n",
       "\n",
       "      </Appearance>\n",
       "\n",
       "      <Sphere radius=\"1.32\">\n",
       "\n",
       "      </Sphere>\n",
       "\n",
       "     </Shape>\n",
       "\n",
       "    </Transform>\n",
       "\n",
       "    <Transform translation=\"9.03 7.22 1.80\">\n",
       "\n",
       "     <Shape>\n",
       "\n",
       "      <Appearance>\n",
       "\n",
       "       <Material diffuseColor=\"0.784 0.502 0.200\" specularColor=\"0.5 0.5 0.5\">\n",
       "\n",
       "       </Material>\n",
       "\n",
       "      </Appearance>\n",
       "\n",
       "      <Sphere radius=\"1.32\">\n",
       "\n",
       "      </Sphere>\n",
       "\n",
       "     </Shape>\n",
       "\n",
       "    </Transform>\n",
       "\n",
       "    <Transform translation=\"9.03 9.03 0.00\">\n",
       "\n",
       "     <Shape>\n",
       "\n",
       "      <Appearance>\n",
       "\n",
       "       <Material diffuseColor=\"0.784 0.502 0.200\" specularColor=\"0.5 0.5 0.5\">\n",
       "\n",
       "       </Material>\n",
       "\n",
       "      </Appearance>\n",
       "\n",
       "      <Sphere radius=\"1.32\">\n",
       "\n",
       "      </Sphere>\n",
       "\n",
       "     </Shape>\n",
       "\n",
       "    </Transform>\n",
       "\n",
       "    <Transform translation=\"7.22 7.22 3.61\">\n",
       "\n",
       "     <Shape>\n",
       "\n",
       "      <Appearance>\n",
       "\n",
       "       <Material diffuseColor=\"0.784 0.502 0.200\" specularColor=\"0.5 0.5 0.5\">\n",
       "\n",
       "       </Material>\n",
       "\n",
       "      </Appearance>\n",
       "\n",
       "      <Sphere radius=\"1.32\">\n",
       "\n",
       "      </Sphere>\n",
       "\n",
       "     </Shape>\n",
       "\n",
       "    </Transform>\n",
       "\n",
       "    <Transform translation=\"7.22 9.03 5.42\">\n",
       "\n",
       "     <Shape>\n",
       "\n",
       "      <Appearance>\n",
       "\n",
       "       <Material diffuseColor=\"0.784 0.502 0.200\" specularColor=\"0.5 0.5 0.5\">\n",
       "\n",
       "       </Material>\n",
       "\n",
       "      </Appearance>\n",
       "\n",
       "      <Sphere radius=\"1.32\">\n",
       "\n",
       "      </Sphere>\n",
       "\n",
       "     </Shape>\n",
       "\n",
       "    </Transform>\n",
       "\n",
       "    <Transform translation=\"9.03 7.22 5.42\">\n",
       "\n",
       "     <Shape>\n",
       "\n",
       "      <Appearance>\n",
       "\n",
       "       <Material diffuseColor=\"0.784 0.502 0.200\" specularColor=\"0.5 0.5 0.5\">\n",
       "\n",
       "       </Material>\n",
       "\n",
       "      </Appearance>\n",
       "\n",
       "      <Sphere radius=\"1.32\">\n",
       "\n",
       "      </Sphere>\n",
       "\n",
       "     </Shape>\n",
       "\n",
       "    </Transform>\n",
       "\n",
       "    <Transform translation=\"9.03 9.03 3.61\">\n",
       "\n",
       "     <Shape>\n",
       "\n",
       "      <Appearance>\n",
       "\n",
       "       <Material diffuseColor=\"0.784 0.502 0.200\" specularColor=\"0.5 0.5 0.5\">\n",
       "\n",
       "       </Material>\n",
       "\n",
       "      </Appearance>\n",
       "\n",
       "      <Sphere radius=\"1.32\">\n",
       "\n",
       "      </Sphere>\n",
       "\n",
       "     </Shape>\n",
       "\n",
       "    </Transform>\n",
       "\n",
       "    <Transform translation=\"7.22 7.22 7.22\">\n",
       "\n",
       "     <Shape>\n",
       "\n",
       "      <Appearance>\n",
       "\n",
       "       <Material diffuseColor=\"0.784 0.502 0.200\" specularColor=\"0.5 0.5 0.5\">\n",
       "\n",
       "       </Material>\n",
       "\n",
       "      </Appearance>\n",
       "\n",
       "      <Sphere radius=\"1.32\">\n",
       "\n",
       "      </Sphere>\n",
       "\n",
       "     </Shape>\n",
       "\n",
       "    </Transform>\n",
       "\n",
       "    <Transform translation=\"7.22 9.03 9.03\">\n",
       "\n",
       "     <Shape>\n",
       "\n",
       "      <Appearance>\n",
       "\n",
       "       <Material diffuseColor=\"0.784 0.502 0.200\" specularColor=\"0.5 0.5 0.5\">\n",
       "\n",
       "       </Material>\n",
       "\n",
       "      </Appearance>\n",
       "\n",
       "      <Sphere radius=\"1.32\">\n",
       "\n",
       "      </Sphere>\n",
       "\n",
       "     </Shape>\n",
       "\n",
       "    </Transform>\n",
       "\n",
       "    <Transform translation=\"9.03 7.22 9.03\">\n",
       "\n",
       "     <Shape>\n",
       "\n",
       "      <Appearance>\n",
       "\n",
       "       <Material diffuseColor=\"0.784 0.502 0.200\" specularColor=\"0.5 0.5 0.5\">\n",
       "\n",
       "       </Material>\n",
       "\n",
       "      </Appearance>\n",
       "\n",
       "      <Sphere radius=\"1.32\">\n",
       "\n",
       "      </Sphere>\n",
       "\n",
       "     </Shape>\n",
       "\n",
       "    </Transform>\n",
       "\n",
       "    <Transform translation=\"9.03 9.03 7.22\">\n",
       "\n",
       "     <Shape>\n",
       "\n",
       "      <Appearance>\n",
       "\n",
       "       <Material diffuseColor=\"0.784 0.502 0.200\" specularColor=\"0.5 0.5 0.5\">\n",
       "\n",
       "       </Material>\n",
       "\n",
       "      </Appearance>\n",
       "\n",
       "      <Sphere radius=\"1.32\">\n",
       "\n",
       "      </Sphere>\n",
       "\n",
       "     </Shape>\n",
       "\n",
       "    </Transform>\n",
       "\n",
       "   </Scene>\n",
       "\n",
       "  </X3D>\n",
       "\n",
       " </body>\n",
       "\n",
       "</html>\n",
       "\n"
      ],
      "text/plain": [
       "<IPython.core.display.HTML object>"
      ]
     },
     "execution_count": 42,
     "metadata": {},
     "output_type": "execute_result"
    }
   ],
   "source": [
    "view(Cu_conv.repeat(3), viewer='x3d')"
   ]
  },
  {
   "cell_type": "markdown",
   "metadata": {
    "ExecuteTime": {
     "end_time": "2019-10-07T20:44:28.290186Z",
     "start_time": "2019-10-07T20:44:28.280156Z"
    }
   },
   "source": [
    "# Putting it together\n",
    "\n",
    "The class below can calculate the total scattering cross section (using NCrystal) for an ASE Atoms instance."
   ]
  },
  {
   "cell_type": "code",
   "execution_count": 254,
   "metadata": {
    "ExecuteTime": {
     "end_time": "2019-10-30T19:03:08.778515Z",
     "start_time": "2019-10-30T19:03:08.742513Z"
    }
   },
   "outputs": [],
   "source": [
    "class NCAtoms(object):\n",
    "    lengths_format = ' {:7.5f}'\n",
    "    angle_format = ' {:7.3f}'\n",
    "    \n",
    "    def __init__(self, atoms, debye_temperatures, resolution_function=distributions.norm,\n",
    "                 background_function=lambda x: 1,\n",
    "                wavelengths = np.linspace(0.5,10,100)):\n",
    "        self.__dict__['_atoms'] = atoms\n",
    "        self.__dict__['debye_temperatures'] = debye_temperatures\n",
    "        self.__dict__['resolution_function'] = resolution_function\n",
    "        self.__dict__['wavelengths'] = wavelengths\n",
    "        self.__dict__['background_function'] = background_function\n",
    "        self.cell_parameters = self.get_cell_lengths_and_angles()\n",
    "        # Calculate the x-grid that a potential resolution function should be evaluated on\n",
    "        wspan = max(self.wavelengths) - min(self.wavelengths)\n",
    "        nw = len(self.wavelengths)\n",
    "        dw = wspan /(nw - 1)\n",
    "        minx = -wspan/2 - dw\n",
    "        maxx =  wspan/2\n",
    "        self.__dict__['x'] = np.linspace(minx, maxx, nw+1)\n",
    "\n",
    "        \n",
    "    def __getattr__(self, attr):\n",
    "        return getattr(self._atoms, attr)\n",
    "    \n",
    "    def __setattr__(self, attr, value):\n",
    "        setattr(self._atoms, attr, value)\n",
    "        \n",
    "    def __getitem__(self, item):\n",
    "        return self._atoms[item]\n",
    "    \n",
    "    def __setitem__(self, item, value):\n",
    "        self._atoms[item] = value\n",
    "        \n",
    "    def _get_cell_string(self):\n",
    "        format_string = \"@CELL\\n    lengths\" + 3*self.lengths_format + '\\n    angles' + 3*self.angle_format + '\\n'\n",
    "        return format_string.format(*tuple(self.get_cell_lengths_and_angles()))\n",
    "    \n",
    "    def _get_spacegroup_string(self):\n",
    "        return \"@SPACEGROUP\\n    {:d}\".format(ase.spacegroup.get_spacegroup(self).no) +\"\\n\"\n",
    "    \n",
    "    def _get_atom_positions_string(self):\n",
    "        atom_lines = [\"    {0.symbol} {0.a} {0.b} {0.c}\".format(atom) for atom in self]\n",
    "        return \"@ATOMPOSITIONS\\n\" + \"\\n\".join(atom_lines) + \"\\n\"\n",
    "    \n",
    "    def _get_debye_temperature_string(self):\n",
    "        return \"@DEBYETEMPERATURE\\n\" + \"\\n\".join([\"    {} {}\".format(*item) for item in self.debye_temperatures.items()]) + \"\\n\"\n",
    "    \n",
    "    def __str__(self):\n",
    "        #return \"NCMAT v1\\n\" + ''.join([getattr(ncatoms, method)()  for method in filter(lambda s: s[:4]=='get_' and s[-7:]=='_string', dir(ncatoms))])\n",
    "        s  = \"NCMAT v1\\n\"\n",
    "        s += self._get_cell_string()\n",
    "        s += self._get_spacegroup_string()\n",
    "        s += self._get_atom_positions_string()\n",
    "        s += self._get_debye_temperature_string()\n",
    "        return s\n",
    "        \n",
    "    def set_cell_parameters(self, *cell_parameters):\n",
    "        self.cell_parameters = cell_parameters\n",
    "        updated_cell = ase.geometry.cellpar_to_cell(cell_parameters)\n",
    "        tmpcoor = self.get_scaled_positions()[:]\n",
    "        self.set_cell(updated_cell)\n",
    "        self.set_scaled_positions(tmpcoor)\n",
    "        \n",
    "    def set_lattice_constant(self, lattice_constant):\n",
    "        \"\"\"\n",
    "        Assumes all three lattice constants are equal and that all three angles are 90 degrees\n",
    "        \"\"\"\n",
    "        lattice_constants = 3*(lattice_constant,)\n",
    "        angles = 3*(90,)\n",
    "        self.set_cell_parameters(*lattice_constants, *angles)\n",
    "        \n",
    "    def write_ncmat(self, ncmat_filename=None):\n",
    "        filecontext = str(self)\n",
    "        if ncmat_filename==None:\n",
    "            # NCrystal does not repeat calculations for same filenames, so ensure that filename is unique for the configuation\n",
    "            self.ncmat_filename = self.get_chemical_formula() \n",
    "            self.ncmat_filename += re.sub('[@a-zA-Z\\s]+', '-', filecontext[1:-1]) +'.ncmat'\n",
    "        else:\n",
    "            self.ncmat_filename = ncmat_filename\n",
    "        with open(self.ncmat_filename,'w') as ncmat_file:\n",
    "            ncmat_file.write(filecontext)\n",
    "            ncmat_file.close()\n",
    "            \n",
    "    def create_scatter(self, dcutoff=0.5, temperature=25):\n",
    "        s = \"{};dcutoff={};temp={}C\".format(self.ncmat_filename, dcutoff, temperature)\n",
    "        self.scatter = NCrystal.createScatter(os.getcwd() + os.sep + s)\n",
    "        \n",
    "    def convolve_resolution(self, resolution, xsection):\n",
    "        self.convolution_function = distributions.norm.pdf(self.x, scale=resolution)\n",
    "        self.convolution_function /= np.sum(self.convolution_function)\n",
    "        pre_data = np.ones(len(xsection)//2)*xsection[0]\n",
    "        post_data = np.ones(len(xsection)//2)*xsection[-1]\n",
    "        data = np.concatenate([pre_data, xsection, post_data])\n",
    "        return np.convolve(data, self.convolution_function, 'valid')\n",
    "    \n",
    "    def plot_resolution_function(self):\n",
    "        plt.plot(self.x, self.convolution_function)\n",
    "        \n",
    "        \n",
    "    def get_powder_cross_section(self, lattice_constant=None, resolution=0, background_strength=0,\n",
    "                                 dcutoff=0.5, temperature=25, \n",
    "                                 return_wl=True):\n",
    "        if lattice_constant:\n",
    "            self.set_lattice_constant(lattice_constant)\n",
    "        self.write_ncmat()\n",
    "        self.create_scatter(dcutoff=dcutoff, temperature=temperature)\n",
    "        xsection = self.scatter.crossSectionNonOriented(NCrystal.wl2ekin(self.wavelengths))\n",
    "        if background_strength:\n",
    "            xsection += background_strength*self.background_function(self.wavelengths)\n",
    "        if resolution:\n",
    "            xsection = self.convolve_resolution(resolution, xsection)\n",
    "        if return_wl:\n",
    "            return self.wavelengths, xsection\n",
    "        else:\n",
    "            return xsection\n",
    "        \n",
    "    def get_mc_powder_cross_section(self, lattice_constant=None, resolution=0, background_strength=0,\n",
    "                                 spectrum=None, dcutoff=0.5, temperature=25, \n",
    "                                 return_wl=True):\n",
    "        raise NotImplementedError\n",
    "        \n",
    "        "
   ]
  },
  {
   "cell_type": "code",
   "execution_count": 255,
   "metadata": {
    "ExecuteTime": {
     "end_time": "2019-10-30T19:03:09.933557Z",
     "start_time": "2019-10-30T19:03:09.897856Z"
    }
   },
   "outputs": [],
   "source": [
    "xsection = ncatoms.get_powder_cross_section()[1]\n",
    "pre_data = np.ones(len(xsection))*xsection[0]\n",
    "post_data = np.ones(len(xsection))*xsection[-1]\n",
    "dat = np.concatenate([pre_data, xsection, post_data])"
   ]
  },
  {
   "cell_type": "code",
   "execution_count": 256,
   "metadata": {
    "ExecuteTime": {
     "end_time": "2019-10-30T19:03:10.642883Z",
     "start_time": "2019-10-30T19:03:10.636909Z"
    }
   },
   "outputs": [],
   "source": [
    "ncatoms = NCAtoms(bulk('Cu', cubic=True), debye_temperatures = {'Cu': 315.1134})"
   ]
  },
  {
   "cell_type": "markdown",
   "metadata": {},
   "source": [
    "### Ideal scattering cross section"
   ]
  },
  {
   "cell_type": "code",
   "execution_count": 257,
   "metadata": {
    "ExecuteTime": {
     "end_time": "2019-10-30T19:03:14.430209Z",
     "start_time": "2019-10-30T19:03:14.217104Z"
    }
   },
   "outputs": [
    {
     "data": {
      "text/plain": [
       "[<matplotlib.lines.Line2D at 0x1a2a09d6d0>]"
      ]
     },
     "execution_count": 257,
     "metadata": {},
     "output_type": "execute_result"
    },
    {
     "data": {
      "image/png": "[encoded data removed]",
      "text/plain": [
       "<Figure size 432x288 with 1 Axes>"
      ]
     },
     "metadata": {
      "needs_background": "light"
     },
     "output_type": "display_data"
    }
   ],
   "source": [
    "plt.plot(*ncatoms.get_powder_cross_section())"
   ]
  },
  {
   "cell_type": "markdown",
   "metadata": {
    "ExecuteTime": {
     "end_time": "2019-10-07T20:58:35.992298Z",
     "start_time": "2019-10-07T20:58:35.982422Z"
    }
   },
   "source": [
    "### Adding finite resolution\n",
    "Note that the ends need to be cutoff before used for fitting of real data"
   ]
  },
  {
   "cell_type": "code",
   "execution_count": 258,
   "metadata": {
    "ExecuteTime": {
     "end_time": "2019-10-30T19:03:16.758885Z",
     "start_time": "2019-10-30T19:03:16.496529Z"
    }
   },
   "outputs": [
    {
     "data": {
      "text/plain": [
       "[<matplotlib.lines.Line2D at 0x1a2a158b10>]"
      ]
     },
     "execution_count": 258,
     "metadata": {},
     "output_type": "execute_result"
    },
    {
     "data": {
      "image/png": "[encoded data removed]",
      "text/plain": [
       "<Figure size 432x288 with 1 Axes>"
      ]
     },
     "metadata": {
      "needs_background": "light"
     },
     "output_type": "display_data"
    }
   ],
   "source": [
    "plt.plot(*ncatoms.get_powder_cross_section(resolution=0.1))  # resolution is gaussian (default) with width of 0.1 AA"
   ]
  },
  {
   "cell_type": "code",
   "execution_count": 259,
   "metadata": {
    "ExecuteTime": {
     "end_time": "2019-10-30T19:03:37.735244Z",
     "start_time": "2019-10-30T19:03:37.500821Z"
    }
   },
   "outputs": [
    {
     "data": {
      "image/png": "[encoded data removed]",
      "text/plain": [
       "<Figure size 432x288 with 1 Axes>"
      ]
     },
     "metadata": {
      "needs_background": "light"
     },
     "output_type": "display_data"
    }
   ],
   "source": [
    "ncatoms.plot_resolution_function()"
   ]
  },
  {
   "cell_type": "markdown",
   "metadata": {},
   "source": [
    "## Adding background\n",
    "Default is flat background"
   ]
  },
  {
   "cell_type": "code",
   "execution_count": 260,
   "metadata": {
    "ExecuteTime": {
     "end_time": "2019-10-30T19:03:52.813397Z",
     "start_time": "2019-10-30T19:03:52.495339Z"
    }
   },
   "outputs": [
    {
     "data": {
      "text/plain": [
       "<matplotlib.legend.Legend at 0x1a2a316e90>"
      ]
     },
     "execution_count": 260,
     "metadata": {},
     "output_type": "execute_result"
    },
    {
     "data": {
      "image/png": "[encoded data removed]",
      "text/plain": [
       "<Figure size 432x288 with 1 Axes>"
      ]
     },
     "metadata": {
      "needs_background": "light"
     },
     "output_type": "display_data"
    }
   ],
   "source": [
    "lines = plt.plot(*ncatoms.get_powder_cross_section(),\n",
    "         *ncatoms.get_powder_cross_section(background_strength=2.)\n",
    "        )\n",
    "plt.legend(lines, ('no background', '+ background'))"
   ]
  },
  {
   "cell_type": "markdown",
   "metadata": {},
   "source": [
    "Using another background function. At this point it is not possible to fit parameters that define the background function, only the total strength for a given set of parameter, but this should be easy to implement\n",
    "\n",
    "Here is an example for a linear function"
   ]
  },
  {
   "cell_type": "code",
   "execution_count": 261,
   "metadata": {
    "ExecuteTime": {
     "end_time": "2019-10-30T19:03:56.944786Z",
     "start_time": "2019-10-30T19:03:56.626754Z"
    }
   },
   "outputs": [
    {
     "data": {
      "text/plain": [
       "<matplotlib.legend.Legend at 0x1a2a29cb50>"
      ]
     },
     "execution_count": 261,
     "metadata": {},
     "output_type": "execute_result"
    },
    {
     "data": {
      "image/png": "[encoded data removed]",
      "text/plain": [
       "<Figure size 432x288 with 1 Axes>"
      ]
     },
     "metadata": {
      "needs_background": "light"
     },
     "output_type": "display_data"
    }
   ],
   "source": [
    "ncatoms2 = NCAtoms(Cu_conv, background_function=lambda x: 2*x+5, debye_temperatures={'Cu': 315.1134})\n",
    "lines = plt.plot(*ncatoms2.get_powder_cross_section(), \n",
    "                 *ncatoms2.get_powder_cross_section(resolution=0.1, background_strength=1.)\n",
    "                )\n",
    "plt.legend(lines, (\"no background\", \"background = 2x+5\"))"
   ]
  },
  {
   "cell_type": "markdown",
   "metadata": {},
   "source": [
    "## Adding both background and finite resolution"
   ]
  },
  {
   "cell_type": "code",
   "execution_count": 262,
   "metadata": {
    "ExecuteTime": {
     "end_time": "2019-10-30T19:04:01.488536Z",
     "start_time": "2019-10-30T19:04:01.202889Z"
    }
   },
   "outputs": [
    {
     "data": {
      "text/plain": [
       "<matplotlib.legend.Legend at 0x1a2a44e4d0>"
      ]
     },
     "execution_count": 262,
     "metadata": {},
     "output_type": "execute_result"
    },
    {
     "data": {
      "image/png": "[encoded data removed]",
      "text/plain": [
       "<Figure size 432x288 with 1 Axes>"
      ]
     },
     "metadata": {
      "needs_background": "light"
     },
     "output_type": "display_data"
    }
   ],
   "source": [
    "lines = plt.plot(*ncatoms.get_powder_cross_section(), \n",
    "                 *ncatoms.get_powder_cross_section(resolution=0.1, background_strength=2.)\n",
    "                )\n",
    "plt.legend(lines, (\"Ideal\", \"+ background and finite resolution\"))"
   ]
  },
  {
   "cell_type": "markdown",
   "metadata": {},
   "source": [
    "## Different lattice constants"
   ]
  },
  {
   "cell_type": "code",
   "execution_count": 263,
   "metadata": {
    "ExecuteTime": {
     "end_time": "2019-10-30T19:04:05.029958Z",
     "start_time": "2019-10-30T19:04:04.703166Z"
    }
   },
   "outputs": [
    {
     "data": {
      "image/png": "[encoded data removed]",
      "text/plain": [
       "<Figure size 432x288 with 1 Axes>"
      ]
     },
     "metadata": {
      "needs_background": "light"
     },
     "output_type": "display_data"
    }
   ],
   "source": [
    "lattice_constant = ncatoms.get_cell_lengths_and_angles()[0]\n",
    "latcs = np.linspace(0.8,1.2,3)*lattice_constant\n",
    "for lc in latcs:\n",
    "    plt.plot(*ncatoms.get_powder_cross_section(lattice_constant=lc), label=\"a={:.2f} AA\".format(lc))"
   ]
  },
  {
   "cell_type": "markdown",
   "metadata": {},
   "source": [
    "## Mixture\n",
    "\n",
    "The class below calculates the scattering cross section from a list of ASE Atoms or NCAtoms instances"
   ]
  },
  {
   "cell_type": "code",
   "execution_count": 472,
   "metadata": {
    "ExecuteTime": {
     "end_time": "2019-10-31T21:14:41.882535Z",
     "start_time": "2019-10-31T21:14:41.864065Z"
    }
   },
   "outputs": [],
   "source": [
    "class PowderMixture(object):\n",
    "    def __init__(self, ncatoms_list, weights=None, wavelengths=np.linspace(0.5, 10, 100)):\n",
    "        self.ncatoms_list = ncatoms_list\n",
    "        nmixture = len(ncatoms_list)\n",
    "        self.wavelengths = wavelengths\n",
    "        if weights == None:\n",
    "            weights = np.ones(nmixture)\n",
    "        self.set_weights(weights)\n",
    "        # Ensure wavelengths is the same for all ncatoms set\n",
    "        for ncatoms in self.ncatoms_list:\n",
    "            ncatoms.wavelengths = wavelengths\n",
    "            \n",
    "    def set_weights(self, weights):\n",
    "        self.weights = np.asarray(list(weights)) + 0.\n",
    "        # normalize weights\n",
    "        self.weights /= np.sum(self.weights)\n",
    "        \n",
    "        \n",
    "    def get_powder_cross_section(self, weights=None, lattice_constants=None, **kwargs):\n",
    "        # background_strengths and resolution omitted for now\n",
    "        if weights != None:\n",
    "            self.set_weights(weights)\n",
    "        if lattice_constants != None:\n",
    "            for latc, nca in zip(lattice_constants, self.ncatoms_list):\n",
    "                nca.set_lattice_constant(latc)\n",
    "        xsections = np.array([nca.get_powder_cross_section(return_wl=False, **kwargs) \n",
    "                              for nca in self.ncatoms_list])\n",
    "        xsections = np.dot(self.weights, xsections)\n",
    "        return self.wavelengths, xsections\n",
    "        "
   ]
  },
  {
   "cell_type": "code",
   "execution_count": 265,
   "metadata": {
    "ExecuteTime": {
     "end_time": "2019-10-30T19:04:07.905138Z",
     "start_time": "2019-10-30T19:04:07.654348Z"
    }
   },
   "outputs": [
    {
     "data": {
      "text/plain": [
       "Text(0.5, 0, 'Wavelength (AA)')"
      ]
     },
     "execution_count": 265,
     "metadata": {},
     "output_type": "execute_result"
    },
    {
     "data": {
      "image/png": "[encoded data removed]",
      "text/plain": [
       "<Figure size 432x288 with 1 Axes>"
      ]
     },
     "metadata": {
      "needs_background": "light"
     },
     "output_type": "display_data"
    }
   ],
   "source": [
    "Cu = NCAtoms(bulk('Cu', cubic=True), debye_temperatures = {'Cu': 315.1134})  # fcc\n",
    "Fe = NCAtoms(bulk('Fe', cubic=True), debye_temperatures = {'Fe' : 443.9152})  # bcc\n",
    "plt.plot(*Cu.get_powder_cross_section(), label=\"Cu\")\n",
    "plt.plot(*Fe.get_powder_cross_section(), label=\"Fe\")\n",
    "plt.ylabel(\"Cross section (barn)\")\n",
    "plt.xlabel(\"Wavelength (AA)\")"
   ]
  },
  {
   "cell_type": "code",
   "execution_count": 266,
   "metadata": {
    "ExecuteTime": {
     "end_time": "2019-10-30T19:04:12.265693Z",
     "start_time": "2019-10-30T19:04:12.261824Z"
    }
   },
   "outputs": [],
   "source": [
    "CuFe = PowderMixture([Cu, Fe], [1,1])"
   ]
  },
  {
   "cell_type": "code",
   "execution_count": 267,
   "metadata": {
    "ExecuteTime": {
     "end_time": "2019-10-30T19:04:13.321219Z",
     "start_time": "2019-10-30T19:04:12.972396Z"
    }
   },
   "outputs": [
    {
     "data": {
      "text/plain": [
       "<matplotlib.legend.Legend at 0x1a2a894950>"
      ]
     },
     "execution_count": 267,
     "metadata": {},
     "output_type": "execute_result"
    },
    {
     "data": {
      "image/png": "[encoded data removed]",
      "text/plain": [
       "<Figure size 432x288 with 1 Axes>"
      ]
     },
     "metadata": {
      "needs_background": "light"
     },
     "output_type": "display_data"
    }
   ],
   "source": [
    "lines = plt.plot(*Cu.get_powder_cross_section(),\n",
    "         *Fe.get_powder_cross_section(),\n",
    "         *CuFe.get_powder_cross_section()\n",
    "        )\n",
    "plt.legend(lines, (\"Cu\", \"Fe\", \"50% Cu + 50% Fe\"))"
   ]
  },
  {
   "cell_type": "code",
   "execution_count": 268,
   "metadata": {
    "ExecuteTime": {
     "end_time": "2019-10-30T19:04:14.360268Z",
     "start_time": "2019-10-30T19:04:13.882240Z"
    }
   },
   "outputs": [
    {
     "data": {
      "text/plain": [
       "Text(0.5, 0, 'Wavelength (AA)')"
      ]
     },
     "execution_count": 268,
     "metadata": {},
     "output_type": "execute_result"
    },
    {
     "data": {
      "image/png": "[encoded data removed]",
      "text/plain": [
       "<Figure size 432x288 with 1 Axes>"
      ]
     },
     "metadata": {
      "needs_background": "light"
     },
     "output_type": "display_data"
    }
   ],
   "source": [
    "loweights = [(dw, 100-dw) for dw in np.linspace(0, 100, 5)]  # Use percentage content of each\n",
    "CuFe_plotdata = sum([CuFe.get_powder_cross_section(weights=weights) for weights in loweights], ())\n",
    "lines = plt.plot(*CuFe_plotdata)\n",
    "plt.legend(lines, (\"{}% Cu and {}% Fe\".format(*weights) for weights in loweights))\n",
    "plt.ylabel(\"Cross section (barn)\")\n",
    "plt.xlabel(\"Wavelength (AA)\")"
   ]
  },
  {
   "cell_type": "markdown",
   "metadata": {},
   "source": [
    "## Fitting using lmfit and NCAtoms / Mixture"
   ]
  },
  {
   "cell_type": "markdown",
   "metadata": {},
   "source": [
    "Below class can be used to fit an atomic model to a data set"
   ]
  },
  {
   "cell_type": "code",
   "execution_count": 366,
   "metadata": {
    "ExecuteTime": {
     "end_time": "2019-10-30T20:07:06.418941Z",
     "start_time": "2019-10-30T20:07:06.391447Z"
    }
   },
   "outputs": [],
   "source": [
    "def print_parameters(params, i, resid):\n",
    "    if i <= 10 or i%10==0:\n",
    "        s = '{0:3d}: '.format(i) + ',  '.join(['{0.name} = {0.value}'.format(p) for p in params.values()]) # + ' | {}'.format(resid)\n",
    "        print(s)\n",
    "    else:\n",
    "        pass\n",
    "    \n",
    "class Minimizer(object):\n",
    "\n",
    "    def __init__(self, wavelengths, spectrum=None):\n",
    "        self.set_weights(spectrum)\n",
    "        self.parameters = lmfit.Parameters()\n",
    "        self.parameters.add('lattice_constant', min=1., max=7., value=2., vary=True)\n",
    "        self.parameters.add('resolution', min=0., max=1., value=0, vary=False)\n",
    "        self.parameters.add('background_strength', min=0., value=0, vary=False)\n",
    "        self.wavelengths = wavelengths\n",
    "        self.results = []\n",
    "\n",
    "    def objective_function(self, parameters): #, wavelenghts, xsection_data):\n",
    "        # One could consider to use the lmfit Model class\n",
    "        xsections = self._ncatoms.get_powder_cross_section(**parameters.valuesdict())\n",
    "        #plt.plot(*xsections)\n",
    "        return self.target_data - xsections[1]\n",
    "    \n",
    "    def set_model(self, ncatoms):\n",
    "        if ncatoms != None:\n",
    "            self._ncatoms = ncatoms\n",
    "        \n",
    "    def set_target_data(self, target_data):\n",
    "        if type(target_data) != type(None):\n",
    "            self.target_data = target_data\n",
    "        \n",
    "            \n",
    "    def set_weights(self, weights):\n",
    "        if weights != None:\n",
    "            raise NotImplementedError('weighting of data is not implemented yet')\n",
    "    \n",
    "    def free(self, parameter):\n",
    "        self.parameters[parameter].vary = True\n",
    "        \n",
    "    def fix(self, parameter):\n",
    "        self.parameters[parameter].vary = False\n",
    "        \n",
    "    \n",
    "    def init_minimizer(self, ncatoms=None, target_data=None):\n",
    "        self.set_model(ncatoms)\n",
    "        self.set_target_data(target_data)\n",
    "        \n",
    "    def update_parameters(self):\n",
    "        \"\"\"\n",
    "        Update the (initial) parameters to the ones from the latest minimization\n",
    "        \"\"\"\n",
    "        self.parameters = self.results[-1].params\n",
    "    \n",
    "    def run(self, method='bassinhopping'):\n",
    "        self.minimizer = lmfit.Minimizer(self.objective_function, self.parameters, \n",
    "                                         iter_cb=print_parameters) #, fcn_args=(self.wavelengths, self.target_data)\n",
    "        #print('\\nInitial values:\\n')\n",
    "        #self.parameters.pretty_print()\n",
    "        #print(\"\\n\\nIterations:\\n\")\n",
    "        result = self.minimizer.minimize(method=method)\n",
    "        print('\\nFinal result:\\n')\n",
    "        #self.parameters.pretty_print()\n",
    "        print(lmfit.report_fit(result))\n",
    "        self.results.append(result)\n",
    "        return result\n",
    "        \n",
    "    "
   ]
  },
  {
   "cell_type": "code",
   "execution_count": 367,
   "metadata": {
    "ExecuteTime": {
     "end_time": "2019-10-30T20:07:07.144830Z",
     "start_time": "2019-10-30T20:07:07.139680Z"
    }
   },
   "outputs": [],
   "source": [
    "wavelengths = np.linspace(0.5,8.0, 200)"
   ]
  },
  {
   "cell_type": "code",
   "execution_count": 368,
   "metadata": {
    "ExecuteTime": {
     "end_time": "2019-10-30T20:07:08.063837Z",
     "start_time": "2019-10-30T20:07:08.057973Z"
    }
   },
   "outputs": [],
   "source": [
    "Cu = NCAtoms(bulk('Cu', cubic=True), debye_temperatures = {'Cu': 315.1134}, wavelengths=wavelengths)"
   ]
  },
  {
   "cell_type": "code",
   "execution_count": 369,
   "metadata": {
    "ExecuteTime": {
     "end_time": "2019-10-30T20:07:08.815516Z",
     "start_time": "2019-10-30T20:07:08.773374Z"
    }
   },
   "outputs": [],
   "source": [
    "cu_xsections_ideal = Cu.get_powder_cross_section()"
   ]
  },
  {
   "cell_type": "code",
   "execution_count": 370,
   "metadata": {
    "ExecuteTime": {
     "end_time": "2019-10-30T20:07:09.536674Z",
     "start_time": "2019-10-30T20:07:09.530845Z"
    }
   },
   "outputs": [],
   "source": [
    "noisy = wavelengths, cu_xsections_ideal[1] + np.random.normal(size=wavelengths.size)"
   ]
  },
  {
   "cell_type": "code",
   "execution_count": 371,
   "metadata": {
    "ExecuteTime": {
     "end_time": "2019-10-30T20:07:10.548275Z",
     "start_time": "2019-10-30T20:07:10.246842Z"
    }
   },
   "outputs": [
    {
     "data": {
      "text/plain": [
       "[<matplotlib.lines.Line2D at 0x1a2b25a750>,\n",
       " <matplotlib.lines.Line2D at 0x1a2b25a390>]"
      ]
     },
     "execution_count": 371,
     "metadata": {},
     "output_type": "execute_result"
    },
    {
     "data": {
      "image/png": "[encoded data removed]",
      "text/plain": [
       "<Figure size 432x288 with 1 Axes>"
      ]
     },
     "metadata": {
      "needs_background": "light"
     },
     "output_type": "display_data"
    }
   ],
   "source": [
    "plt.plot(*cu_xsections_ideal, *noisy)"
   ]
  },
  {
   "cell_type": "code",
   "execution_count": 372,
   "metadata": {
    "ExecuteTime": {
     "end_time": "2019-10-30T20:07:11.274249Z",
     "start_time": "2019-10-30T20:07:11.261628Z"
    }
   },
   "outputs": [],
   "source": [
    "minimizer = Minimizer(wavelengths)"
   ]
  },
  {
   "cell_type": "markdown",
   "metadata": {},
   "source": [
    "### Fitting to ideal data"
   ]
  },
  {
   "cell_type": "code",
   "execution_count": 373,
   "metadata": {
    "ExecuteTime": {
     "end_time": "2019-10-30T20:07:12.480799Z",
     "start_time": "2019-10-30T20:07:12.473561Z"
    }
   },
   "outputs": [
    {
     "data": {
      "text/plain": [
       "2.0"
      ]
     },
     "execution_count": 373,
     "metadata": {},
     "output_type": "execute_result"
    }
   ],
   "source": [
    "minimizer.init_minimizer(ncatoms=Cu, target_data=cu_xsections_ideal[1])\n",
    "minimizer.parameters['lattice_constant'].value"
   ]
  },
  {
   "cell_type": "code",
   "execution_count": 374,
   "metadata": {
    "ExecuteTime": {
     "end_time": "2019-10-30T20:07:15.190198Z",
     "start_time": "2019-10-30T20:07:13.183591Z"
    }
   },
   "outputs": [
    {
     "name": "stdout",
     "output_type": "stream",
     "text": [
      "  1: lattice_constant = 1.9999999999999998,  resolution = 0,  background_strength = 0\n",
      "  2: lattice_constant = 1.9197631770104284,  resolution = 0,  background_strength = 0\n",
      "  3: lattice_constant = 2.0828990398901763,  resolution = 0,  background_strength = 0\n",
      "  4: lattice_constant = 2.168349949068439,  resolution = 0,  background_strength = 0\n",
      "  5: lattice_constant = 2.346449152171442,  resolution = 0,  background_strength = 0\n",
      "  6: lattice_constant = 2.533349647457059,  resolution = 0,  background_strength = 0\n",
      "  7: lattice_constant = 2.929533730680731,  resolution = 0,  background_strength = 0\n",
      "  8: lattice_constant = 3.348478407141582,  resolution = 0,  background_strength = 0\n",
      "  9: lattice_constant = 4.218724057708508,  resolution = 0,  background_strength = 0\n",
      " 10: lattice_constant = 3.7812759422914968,  resolution = 0,  background_strength = 0\n",
      " 20: lattice_constant = 3.604366450541674,  resolution = 0,  background_strength = 0\n",
      " 30: lattice_constant = 3.6098770510288243,  resolution = 0,  background_strength = 0\n",
      "\n",
      "Final result:\n",
      "\n",
      "[[Fit Statistics]]\n",
      "    # fitting method   = Nelder-Mead\n",
      "    # function evals   = 32\n",
      "    # data points      = 200\n",
      "    # variables        = 1\n",
      "    chi-square         = 5.7380e-06\n",
      "    reduced chi-square = 2.8834e-08\n",
      "    Akaike info crit   = -3471.34390\n",
      "    Bayesian info crit = -3468.04559\n",
      "##  Warning: uncertainties could not be estimated:\n",
      "    this fitting method does not natively calculate uncertainties\n",
      "    and numdifftools is not installed for lmfit to do this. Use\n",
      "    `pip install numdifftools` for lmfit to estimate uncertainties\n",
      "    with this fitting method.\n",
      "[[Variables]]\n",
      "    lattice_constant:     3.61008902 (init = 2)\n",
      "    resolution:           0 (fixed)\n",
      "    background_strength:  0 (fixed)\n",
      "None\n"
     ]
    }
   ],
   "source": [
    "result = minimizer.run()"
   ]
  },
  {
   "cell_type": "code",
   "execution_count": 375,
   "metadata": {
    "ExecuteTime": {
     "end_time": "2019-10-30T20:07:19.090184Z",
     "start_time": "2019-10-30T20:07:19.085081Z"
    }
   },
   "outputs": [
    {
     "data": {
      "text/html": [
       "<h2>Fit Statistics</h2><table><tr><td>fitting method</td><td>Nelder-Mead</td><td></td></tr><tr><td># function evals</td><td>32</td><td></td></tr><tr><td># data points</td><td>200</td><td></td></tr><tr><td># variables</td><td>1</td><td></td></tr><tr><td>chi-square</td><td> 5.7380e-06</td><td></td></tr><tr><td>reduced chi-square</td><td> 2.8834e-08</td><td></td></tr><tr><td>Akaike info crit.</td><td>-3471.34390</td><td></td></tr><tr><td>Bayesian info crit.</td><td>-3468.04559</td><td></td></tr></table><h2>Variables</h2><table><tr><th> name </th><th> value </th><th> initial value </th><th> min </th><th> max </th><th> vary </th></tr><tr><td> lattice_constant </td><td>  3.61008902 </td><td> 2.0 </td><td>  1.00000000 </td><td>  7.00000000 </td><td> True </td></tr><tr><td> resolution </td><td>  0.00000000 </td><td> 0 </td><td>  0.00000000 </td><td>  1.00000000 </td><td> False </td></tr><tr><td> background_strength </td><td>  0.00000000 </td><td> 0 </td><td>  0.00000000 </td><td>         inf </td><td> False </td></tr></table>"
      ],
      "text/plain": [
       "<lmfit.minimizer.MinimizerResult at 0x1a29f75d10>"
      ]
     },
     "execution_count": 375,
     "metadata": {},
     "output_type": "execute_result"
    }
   ],
   "source": [
    "result"
   ]
  },
  {
   "cell_type": "code",
   "execution_count": 376,
   "metadata": {
    "ExecuteTime": {
     "end_time": "2019-10-30T20:07:20.017007Z",
     "start_time": "2019-10-30T20:07:19.723238Z"
    }
   },
   "outputs": [
    {
     "data": {
      "text/plain": [
       "<matplotlib.legend.Legend at 0x1a2b646790>"
      ]
     },
     "execution_count": 376,
     "metadata": {},
     "output_type": "execute_result"
    },
    {
     "data": {
      "image/png": "[encoded data removed]",
      "text/plain": [
       "<Figure size 432x288 with 1 Axes>"
      ]
     },
     "metadata": {
      "needs_background": "light"
     },
     "output_type": "display_data"
    }
   ],
   "source": [
    "lines = plt.plot(*cu_xsections_ideal, *Cu.get_powder_cross_section())\n",
    "plt.legend(lines, (\"Target\", \"Fitted\"))"
   ]
  },
  {
   "cell_type": "markdown",
   "metadata": {},
   "source": [
    "### Fitting to noisy data"
   ]
  },
  {
   "cell_type": "code",
   "execution_count": 377,
   "metadata": {
    "ExecuteTime": {
     "end_time": "2019-10-30T20:07:26.287798Z",
     "start_time": "2019-10-30T20:07:26.280703Z"
    }
   },
   "outputs": [
    {
     "data": {
      "text/html": [
       "<table><tr><th> name </th><th> value </th><th> initial value </th><th> min </th><th> max </th><th> vary </th></tr><tr><td> lattice_constant </td><td>  2.00000000 </td><td> 2.0 </td><td>  1.00000000 </td><td>  7.00000000 </td><td> True </td></tr><tr><td> resolution </td><td>  0.00000000 </td><td> 0 </td><td>  0.00000000 </td><td>  1.00000000 </td><td> False </td></tr><tr><td> background_strength </td><td>  0.00000000 </td><td> 0 </td><td>  0.00000000 </td><td>         inf </td><td> False </td></tr></table>"
      ],
      "text/plain": [
       "Parameters([('lattice_constant',\n",
       "             <Parameter 'lattice_constant', 2.0, bounds=[1.0:7.0]>),\n",
       "            ('resolution',\n",
       "             <Parameter 'resolution', value=0 (fixed), bounds=[0.0:1.0]>),\n",
       "            ('background_strength',\n",
       "             <Parameter 'background_strength', value=0 (fixed), bounds=[0.0:inf]>)])"
      ]
     },
     "execution_count": 377,
     "metadata": {},
     "output_type": "execute_result"
    }
   ],
   "source": [
    "minimizer.init_minimizer(ncatoms=Cu, target_data=noisy[1])\n",
    "minimizer.parameters"
   ]
  },
  {
   "cell_type": "code",
   "execution_count": 378,
   "metadata": {
    "ExecuteTime": {
     "end_time": "2019-10-30T20:07:33.636348Z",
     "start_time": "2019-10-30T20:07:30.494727Z"
    }
   },
   "outputs": [
    {
     "name": "stdout",
     "output_type": "stream",
     "text": [
      "  1: lattice_constant = 1.9999999999999998,  resolution = 0,  background_strength = 0\n",
      "  2: lattice_constant = 1.9197631770104284,  resolution = 0,  background_strength = 0\n",
      "  3: lattice_constant = 2.0828990398901763,  resolution = 0,  background_strength = 0\n",
      "  4: lattice_constant = 2.168349949068439,  resolution = 0,  background_strength = 0\n",
      "  5: lattice_constant = 2.346449152171442,  resolution = 0,  background_strength = 0\n",
      "  6: lattice_constant = 2.533349647457059,  resolution = 0,  background_strength = 0\n",
      "  7: lattice_constant = 2.929533730680731,  resolution = 0,  background_strength = 0\n",
      "  8: lattice_constant = 3.348478407141582,  resolution = 0,  background_strength = 0\n",
      "  9: lattice_constant = 4.218724057708508,  resolution = 0,  background_strength = 0\n",
      " 10: lattice_constant = 3.7812759422914968,  resolution = 0,  background_strength = 0\n",
      " 20: lattice_constant = 3.604366450541674,  resolution = 0,  background_strength = 0\n",
      " 30: lattice_constant = 3.623871469687816,  resolution = 0,  background_strength = 0\n",
      " 40: lattice_constant = 3.6248789684104903,  resolution = 0,  background_strength = 0\n",
      " 50: lattice_constant = 3.6249883376363234,  resolution = 0,  background_strength = 0\n",
      "\n",
      "Final result:\n",
      "\n",
      "[[Fit Statistics]]\n",
      "    # fitting method   = Nelder-Mead\n",
      "    # function evals   = 50\n",
      "    # data points      = 200\n",
      "    # variables        = 1\n",
      "    chi-square         = 243.735409\n",
      "    reduced chi-square = 1.22480105\n",
      "    Akaike info crit   = 41.5531761\n",
      "    Bayesian info crit = 44.8514935\n",
      "##  Warning: uncertainties could not be estimated:\n",
      "    this fitting method does not natively calculate uncertainties\n",
      "    and numdifftools is not installed for lmfit to do this. Use\n",
      "    `pip install numdifftools` for lmfit to estimate uncertainties\n",
      "    with this fitting method.\n",
      "[[Variables]]\n",
      "    lattice_constant:     3.62498502 (init = 2)\n",
      "    resolution:           0 (fixed)\n",
      "    background_strength:  0 (fixed)\n",
      "None\n"
     ]
    }
   ],
   "source": [
    "result = minimizer.run()"
   ]
  },
  {
   "cell_type": "code",
   "execution_count": 379,
   "metadata": {
    "ExecuteTime": {
     "end_time": "2019-10-30T20:07:40.799064Z",
     "start_time": "2019-10-30T20:07:40.793563Z"
    }
   },
   "outputs": [
    {
     "data": {
      "text/html": [
       "<h2>Fit Statistics</h2><table><tr><td>fitting method</td><td>Nelder-Mead</td><td></td></tr><tr><td># function evals</td><td>50</td><td></td></tr><tr><td># data points</td><td>200</td><td></td></tr><tr><td># variables</td><td>1</td><td></td></tr><tr><td>chi-square</td><td> 243.735409</td><td></td></tr><tr><td>reduced chi-square</td><td> 1.22480105</td><td></td></tr><tr><td>Akaike info crit.</td><td> 41.5531761</td><td></td></tr><tr><td>Bayesian info crit.</td><td> 44.8514935</td><td></td></tr></table><h2>Variables</h2><table><tr><th> name </th><th> value </th><th> initial value </th><th> min </th><th> max </th><th> vary </th></tr><tr><td> lattice_constant </td><td>  3.62498502 </td><td> 2.0 </td><td>  1.00000000 </td><td>  7.00000000 </td><td> True </td></tr><tr><td> resolution </td><td>  0.00000000 </td><td> 0 </td><td>  0.00000000 </td><td>  1.00000000 </td><td> False </td></tr><tr><td> background_strength </td><td>  0.00000000 </td><td> 0 </td><td>  0.00000000 </td><td>         inf </td><td> False </td></tr></table>"
      ],
      "text/plain": [
       "<lmfit.minimizer.MinimizerResult at 0x1a2aca0bd0>"
      ]
     },
     "execution_count": 379,
     "metadata": {},
     "output_type": "execute_result"
    }
   ],
   "source": [
    "result"
   ]
  },
  {
   "cell_type": "code",
   "execution_count": 380,
   "metadata": {
    "ExecuteTime": {
     "end_time": "2019-10-30T20:07:41.469786Z",
     "start_time": "2019-10-30T20:07:41.462451Z"
    }
   },
   "outputs": [
    {
     "data": {
      "text/html": [
       "<h2>Fit Statistics</h2><table><tr><td>fitting method</td><td>Nelder-Mead</td><td></td></tr><tr><td># function evals</td><td>50</td><td></td></tr><tr><td># data points</td><td>200</td><td></td></tr><tr><td># variables</td><td>1</td><td></td></tr><tr><td>chi-square</td><td> 243.735409</td><td></td></tr><tr><td>reduced chi-square</td><td> 1.22480105</td><td></td></tr><tr><td>Akaike info crit.</td><td> 41.5531761</td><td></td></tr><tr><td>Bayesian info crit.</td><td> 44.8514935</td><td></td></tr></table><h2>Variables</h2><table><tr><th> name </th><th> value </th><th> initial value </th><th> min </th><th> max </th><th> vary </th></tr><tr><td> lattice_constant </td><td>  3.62498502 </td><td> 2.0 </td><td>  1.00000000 </td><td>  7.00000000 </td><td> True </td></tr><tr><td> resolution </td><td>  0.00000000 </td><td> 0 </td><td>  0.00000000 </td><td>  1.00000000 </td><td> False </td></tr><tr><td> background_strength </td><td>  0.00000000 </td><td> 0 </td><td>  0.00000000 </td><td>         inf </td><td> False </td></tr></table>"
      ],
      "text/plain": [
       "<lmfit.minimizer.MinimizerResult at 0x1a2aca0bd0>"
      ]
     },
     "execution_count": 380,
     "metadata": {},
     "output_type": "execute_result"
    }
   ],
   "source": [
    "minimizer.results[-1]"
   ]
  },
  {
   "cell_type": "code",
   "execution_count": 381,
   "metadata": {
    "ExecuteTime": {
     "end_time": "2019-10-30T20:07:42.366790Z",
     "start_time": "2019-10-30T20:07:42.137142Z"
    }
   },
   "outputs": [
    {
     "data": {
      "text/plain": [
       "[<matplotlib.lines.Line2D at 0x1a2b022290>,\n",
       " <matplotlib.lines.Line2D at 0x1a2b022490>]"
      ]
     },
     "execution_count": 381,
     "metadata": {},
     "output_type": "execute_result"
    },
    {
     "data": {
      "image/png": "[encoded data removed]",
      "text/plain": [
       "<Figure size 432x288 with 1 Axes>"
      ]
     },
     "metadata": {
      "needs_background": "light"
     },
     "output_type": "display_data"
    }
   ],
   "source": [
    "plt.plot(*noisy, *Cu.get_powder_cross_section())"
   ]
  },
  {
   "cell_type": "code",
   "execution_count": 382,
   "metadata": {
    "ExecuteTime": {
     "end_time": "2019-10-30T20:07:47.278289Z",
     "start_time": "2019-10-30T20:07:47.271756Z"
    }
   },
   "outputs": [
    {
     "data": {
      "text/html": [
       "<table><tr><th> name </th><th> value </th><th> initial value </th><th> min </th><th> max </th><th> vary </th></tr><tr><td> lattice_constant </td><td>  2.00000000 </td><td> 2.0 </td><td>  1.00000000 </td><td>  7.00000000 </td><td> True </td></tr><tr><td> resolution </td><td>  0.00000000 </td><td> 0 </td><td>  0.00000000 </td><td>  1.00000000 </td><td> False </td></tr><tr><td> background_strength </td><td>  0.00000000 </td><td> 0 </td><td>  0.00000000 </td><td>         inf </td><td> False </td></tr></table>"
      ],
      "text/plain": [
       "Parameters([('lattice_constant',\n",
       "             <Parameter 'lattice_constant', 2.0, bounds=[1.0:7.0]>),\n",
       "            ('resolution',\n",
       "             <Parameter 'resolution', value=0 (fixed), bounds=[0.0:1.0]>),\n",
       "            ('background_strength',\n",
       "             <Parameter 'background_strength', value=0 (fixed), bounds=[0.0:inf]>)])"
      ]
     },
     "execution_count": 382,
     "metadata": {},
     "output_type": "execute_result"
    }
   ],
   "source": [
    "minimizer.parameters"
   ]
  },
  {
   "cell_type": "code",
   "execution_count": 383,
   "metadata": {
    "ExecuteTime": {
     "end_time": "2019-10-30T20:07:48.010303Z",
     "start_time": "2019-10-30T20:07:48.002467Z"
    }
   },
   "outputs": [],
   "source": [
    "Cu = NCAtoms(bulk('Cu', cubic=True), debye_temperatures = {'Cu': 315.1134}, wavelengths=wavelengths)"
   ]
  },
  {
   "cell_type": "code",
   "execution_count": 389,
   "metadata": {
    "ExecuteTime": {
     "end_time": "2019-10-30T20:09:40.913105Z",
     "start_time": "2019-10-30T20:09:40.904012Z"
    }
   },
   "outputs": [
    {
     "data": {
      "text/html": [
       "<table><tr><th> name </th><th> value </th><th> initial value </th><th> min </th><th> max </th><th> vary </th></tr><tr><td> lattice_constant </td><td>  2.00000000 </td><td> 2.0 </td><td>  1.00000000 </td><td>  7.00000000 </td><td> True </td></tr><tr><td> resolution </td><td>  0.20000000 </td><td> 0 </td><td>  0.00000000 </td><td>  1.00000000 </td><td> True </td></tr><tr><td> background_strength </td><td>  0.00000000 </td><td> 0 </td><td>  0.00000000 </td><td>         inf </td><td> False </td></tr></table>"
      ],
      "text/plain": [
       "Parameters([('lattice_constant',\n",
       "             <Parameter 'lattice_constant', 2.0, bounds=[1.0:7.0]>),\n",
       "            ('resolution', <Parameter 'resolution', 0.2, bounds=[0.0:1.0]>),\n",
       "            ('background_strength',\n",
       "             <Parameter 'background_strength', value=0 (fixed), bounds=[0.0:inf]>)])"
      ]
     },
     "execution_count": 389,
     "metadata": {},
     "output_type": "execute_result"
    }
   ],
   "source": [
    "minimizer.free('resolution')\n",
    "minimizer.parameters['resolution'].value=0.2\n",
    "minimizer.parameters"
   ]
  },
  {
   "cell_type": "code",
   "execution_count": 392,
   "metadata": {
    "ExecuteTime": {
     "end_time": "2019-10-30T20:09:54.815268Z",
     "start_time": "2019-10-30T20:09:54.771872Z"
    }
   },
   "outputs": [],
   "source": [
    "convolved = Cu.get_powder_cross_section(resolution=0.08)"
   ]
  },
  {
   "cell_type": "code",
   "execution_count": 393,
   "metadata": {
    "ExecuteTime": {
     "end_time": "2019-10-30T20:09:55.749244Z",
     "start_time": "2019-10-30T20:09:55.504499Z"
    }
   },
   "outputs": [
    {
     "data": {
      "text/plain": [
       "[<matplotlib.lines.Line2D at 0x1a2bd57090>]"
      ]
     },
     "execution_count": 393,
     "metadata": {},
     "output_type": "execute_result"
    },
    {
     "data": {
      "image/png": "[encoded data removed]",
      "text/plain": [
       "<Figure size 432x288 with 1 Axes>"
      ]
     },
     "metadata": {
      "needs_background": "light"
     },
     "output_type": "display_data"
    }
   ],
   "source": [
    "plt.plot(*convolved)"
   ]
  },
  {
   "cell_type": "code",
   "execution_count": 394,
   "metadata": {
    "ExecuteTime": {
     "end_time": "2019-10-30T20:09:59.855011Z",
     "start_time": "2019-10-30T20:09:56.589502Z"
    }
   },
   "outputs": [
    {
     "name": "stdout",
     "output_type": "stream",
     "text": [
      "  1: lattice_constant = 1.9999999999999998,  resolution = 0.2,  background_strength = 0\n",
      "  2: lattice_constant = 1.9197631770104284,  resolution = 0.2,  background_strength = 0\n",
      "  3: lattice_constant = 1.9999999999999998,  resolution = 0.18728747002333646,  background_strength = 0\n",
      "  4: lattice_constant = 2.0828990398901763,  resolution = 0.18728747002333646,  background_strength = 0\n",
      "  5: lattice_constant = 2.168349949068439,  resolution = 0.18105178405097377,  background_strength = 0\n",
      "  6: lattice_constant = 2.1683499490684386,  resolution = 0.19360408692607584,  background_strength = 0\n",
      "  7: lattice_constant = 2.256238983107493,  resolution = 0.1967922344207279,  background_strength = 0\n",
      "  8: lattice_constant = 2.4388603767419395,  resolution = 0.17796479531019566,  background_strength = 0\n",
      "  9: lattice_constant = 2.6787040409899694,  resolution = 0.16732571876729257,  background_strength = 0\n",
      " 10: lattice_constant = 2.777832521413571,  resolution = 0.18260302965199277,  background_strength = 0\n",
      " 20: lattice_constant = 3.4020071986853977,  resolution = 0.15258645377352975,  background_strength = 0\n",
      " 30: lattice_constant = 3.554200181787371,  resolution = 0.1598815619124606,  background_strength = 0\n",
      " 40: lattice_constant = 3.5734869279852433,  resolution = 0.1505318264230086,  background_strength = 0\n",
      " 50: lattice_constant = 3.5687391914320528,  resolution = 0.10308817351036625,  background_strength = 0\n"
     ]
    },
    {
     "ename": "ValueError",
     "evalue": "NaN values detected in your input data or the output of your objective/model function - fitting algorithms cannot handle this! Please read https://lmfit.github.io/lmfit-py/faq.html#i-get-errors-from-nan-in-my-fit-what-can-i-do for more information.",
     "output_type": "error",
     "traceback": [
      "\u001b[0;31m---------------------------------------------------------------------------\u001b[0m",
      "\u001b[0;31mValueError\u001b[0m                                Traceback (most recent call last)",
      "\u001b[0;32m<ipython-input-394-c838c8cec12b>\u001b[0m in \u001b[0;36m<module>\u001b[0;34m\u001b[0m\n\u001b[0;32m----> 1\u001b[0;31m \u001b[0mresult\u001b[0m \u001b[0;34m=\u001b[0m \u001b[0mminimizer\u001b[0m\u001b[0;34m.\u001b[0m\u001b[0mrun\u001b[0m\u001b[0;34m(\u001b[0m\u001b[0;34m)\u001b[0m\u001b[0;34m\u001b[0m\u001b[0;34m\u001b[0m\u001b[0m\n\u001b[0m",
      "\u001b[0;32m<ipython-input-366-cff2136968fb>\u001b[0m in \u001b[0;36mrun\u001b[0;34m(self, method)\u001b[0m\n\u001b[1;32m     59\u001b[0m         \u001b[0;31m#self.parameters.pretty_print()\u001b[0m\u001b[0;34m\u001b[0m\u001b[0;34m\u001b[0m\u001b[0;34m\u001b[0m\u001b[0m\n\u001b[1;32m     60\u001b[0m         \u001b[0;31m#print(\"\\n\\nIterations:\\n\")\u001b[0m\u001b[0;34m\u001b[0m\u001b[0;34m\u001b[0m\u001b[0;34m\u001b[0m\u001b[0m\n\u001b[0;32m---> 61\u001b[0;31m         \u001b[0mresult\u001b[0m \u001b[0;34m=\u001b[0m \u001b[0mself\u001b[0m\u001b[0;34m.\u001b[0m\u001b[0mminimizer\u001b[0m\u001b[0;34m.\u001b[0m\u001b[0mminimize\u001b[0m\u001b[0;34m(\u001b[0m\u001b[0mmethod\u001b[0m\u001b[0;34m=\u001b[0m\u001b[0mmethod\u001b[0m\u001b[0;34m)\u001b[0m\u001b[0;34m\u001b[0m\u001b[0;34m\u001b[0m\u001b[0m\n\u001b[0m\u001b[1;32m     62\u001b[0m         \u001b[0mprint\u001b[0m\u001b[0;34m(\u001b[0m\u001b[0;34m'\\nFinal result:\\n'\u001b[0m\u001b[0;34m)\u001b[0m\u001b[0;34m\u001b[0m\u001b[0;34m\u001b[0m\u001b[0m\n\u001b[1;32m     63\u001b[0m         \u001b[0;31m#self.parameters.pretty_print()\u001b[0m\u001b[0;34m\u001b[0m\u001b[0;34m\u001b[0m\u001b[0;34m\u001b[0m\u001b[0m\n",
      "\u001b[0;32m~/miniconda3/envs/Rietveld/lib/python3.7/site-packages/lmfit/minimizer.py\u001b[0m in \u001b[0;36mminimize\u001b[0;34m(self, method, params, **kws)\u001b[0m\n\u001b[1;32m   2115\u001b[0m                         val.lower().startswith(user_method)):\n\u001b[1;32m   2116\u001b[0m                     \u001b[0mkwargs\u001b[0m\u001b[0;34m[\u001b[0m\u001b[0;34m'method'\u001b[0m\u001b[0;34m]\u001b[0m \u001b[0;34m=\u001b[0m \u001b[0mval\u001b[0m\u001b[0;34m\u001b[0m\u001b[0;34m\u001b[0m\u001b[0m\n\u001b[0;32m-> 2117\u001b[0;31m         \u001b[0;32mreturn\u001b[0m \u001b[0mfunction\u001b[0m\u001b[0;34m(\u001b[0m\u001b[0;34m**\u001b[0m\u001b[0mkwargs\u001b[0m\u001b[0;34m)\u001b[0m\u001b[0;34m\u001b[0m\u001b[0;34m\u001b[0m\u001b[0m\n\u001b[0m\u001b[1;32m   2118\u001b[0m \u001b[0;34m\u001b[0m\u001b[0m\n\u001b[1;32m   2119\u001b[0m \u001b[0;34m\u001b[0m\u001b[0m\n",
      "\u001b[0;32m~/miniconda3/envs/Rietveld/lib/python3.7/site-packages/lmfit/minimizer.py\u001b[0m in \u001b[0;36mscalar_minimize\u001b[0;34m(self, method, params, **kws)\u001b[0m\n\u001b[1;32m    938\u001b[0m         \u001b[0;32melse\u001b[0m\u001b[0;34m:\u001b[0m\u001b[0;34m\u001b[0m\u001b[0;34m\u001b[0m\u001b[0m\n\u001b[1;32m    939\u001b[0m             \u001b[0;32mtry\u001b[0m\u001b[0;34m:\u001b[0m\u001b[0;34m\u001b[0m\u001b[0;34m\u001b[0m\u001b[0m\n\u001b[0;32m--> 940\u001b[0;31m                 \u001b[0mret\u001b[0m \u001b[0;34m=\u001b[0m \u001b[0mscipy_minimize\u001b[0m\u001b[0;34m(\u001b[0m\u001b[0mself\u001b[0m\u001b[0;34m.\u001b[0m\u001b[0mpenalty\u001b[0m\u001b[0;34m,\u001b[0m \u001b[0mvariables\u001b[0m\u001b[0;34m,\u001b[0m \u001b[0;34m**\u001b[0m\u001b[0mfmin_kws\u001b[0m\u001b[0;34m)\u001b[0m\u001b[0;34m\u001b[0m\u001b[0;34m\u001b[0m\u001b[0m\n\u001b[0m\u001b[1;32m    941\u001b[0m             \u001b[0;32mexcept\u001b[0m \u001b[0mAbortFitException\u001b[0m\u001b[0;34m:\u001b[0m\u001b[0;34m\u001b[0m\u001b[0;34m\u001b[0m\u001b[0m\n\u001b[1;32m    942\u001b[0m                 \u001b[0;32mpass\u001b[0m\u001b[0;34m\u001b[0m\u001b[0;34m\u001b[0m\u001b[0m\n",
      "\u001b[0;32m~/miniconda3/envs/Rietveld/lib/python3.7/site-packages/scipy/optimize/_minimize.py\u001b[0m in \u001b[0;36mminimize\u001b[0;34m(fun, x0, args, method, jac, hess, hessp, bounds, constraints, tol, callback, options)\u001b[0m\n\u001b[1;32m    586\u001b[0m                       callback=callback, **options)\n\u001b[1;32m    587\u001b[0m     \u001b[0;32melif\u001b[0m \u001b[0mmeth\u001b[0m \u001b[0;34m==\u001b[0m \u001b[0;34m'nelder-mead'\u001b[0m\u001b[0;34m:\u001b[0m\u001b[0;34m\u001b[0m\u001b[0;34m\u001b[0m\u001b[0m\n\u001b[0;32m--> 588\u001b[0;31m         \u001b[0;32mreturn\u001b[0m \u001b[0m_minimize_neldermead\u001b[0m\u001b[0;34m(\u001b[0m\u001b[0mfun\u001b[0m\u001b[0;34m,\u001b[0m \u001b[0mx0\u001b[0m\u001b[0;34m,\u001b[0m \u001b[0margs\u001b[0m\u001b[0;34m,\u001b[0m \u001b[0mcallback\u001b[0m\u001b[0;34m,\u001b[0m \u001b[0;34m**\u001b[0m\u001b[0moptions\u001b[0m\u001b[0;34m)\u001b[0m\u001b[0;34m\u001b[0m\u001b[0;34m\u001b[0m\u001b[0m\n\u001b[0m\u001b[1;32m    589\u001b[0m     \u001b[0;32melif\u001b[0m \u001b[0mmeth\u001b[0m \u001b[0;34m==\u001b[0m \u001b[0;34m'powell'\u001b[0m\u001b[0;34m:\u001b[0m\u001b[0;34m\u001b[0m\u001b[0;34m\u001b[0m\u001b[0m\n\u001b[1;32m    590\u001b[0m         \u001b[0;32mreturn\u001b[0m \u001b[0m_minimize_powell\u001b[0m\u001b[0;34m(\u001b[0m\u001b[0mfun\u001b[0m\u001b[0;34m,\u001b[0m \u001b[0mx0\u001b[0m\u001b[0;34m,\u001b[0m \u001b[0margs\u001b[0m\u001b[0;34m,\u001b[0m \u001b[0mcallback\u001b[0m\u001b[0;34m,\u001b[0m \u001b[0;34m**\u001b[0m\u001b[0moptions\u001b[0m\u001b[0;34m)\u001b[0m\u001b[0;34m\u001b[0m\u001b[0;34m\u001b[0m\u001b[0m\n",
      "\u001b[0;32m~/miniconda3/envs/Rietveld/lib/python3.7/site-packages/scipy/optimize/optimize.py\u001b[0m in \u001b[0;36m_minimize_neldermead\u001b[0;34m(func, x0, args, callback, maxiter, maxfev, disp, return_all, initial_simplex, xatol, fatol, adaptive, **unknown_options)\u001b[0m\n\u001b[1;32m    599\u001b[0m         \u001b[0mxbar\u001b[0m \u001b[0;34m=\u001b[0m \u001b[0mnumpy\u001b[0m\u001b[0;34m.\u001b[0m\u001b[0madd\u001b[0m\u001b[0;34m.\u001b[0m\u001b[0mreduce\u001b[0m\u001b[0;34m(\u001b[0m\u001b[0msim\u001b[0m\u001b[0;34m[\u001b[0m\u001b[0;34m:\u001b[0m\u001b[0;34m-\u001b[0m\u001b[0;36m1\u001b[0m\u001b[0;34m]\u001b[0m\u001b[0;34m,\u001b[0m \u001b[0;36m0\u001b[0m\u001b[0;34m)\u001b[0m \u001b[0;34m/\u001b[0m \u001b[0mN\u001b[0m\u001b[0;34m\u001b[0m\u001b[0;34m\u001b[0m\u001b[0m\n\u001b[1;32m    600\u001b[0m         \u001b[0mxr\u001b[0m \u001b[0;34m=\u001b[0m \u001b[0;34m(\u001b[0m\u001b[0;36m1\u001b[0m \u001b[0;34m+\u001b[0m \u001b[0mrho\u001b[0m\u001b[0;34m)\u001b[0m \u001b[0;34m*\u001b[0m \u001b[0mxbar\u001b[0m \u001b[0;34m-\u001b[0m \u001b[0mrho\u001b[0m \u001b[0;34m*\u001b[0m \u001b[0msim\u001b[0m\u001b[0;34m[\u001b[0m\u001b[0;34m-\u001b[0m\u001b[0;36m1\u001b[0m\u001b[0;34m]\u001b[0m\u001b[0;34m\u001b[0m\u001b[0;34m\u001b[0m\u001b[0m\n\u001b[0;32m--> 601\u001b[0;31m         \u001b[0mfxr\u001b[0m \u001b[0;34m=\u001b[0m \u001b[0mfunc\u001b[0m\u001b[0;34m(\u001b[0m\u001b[0mxr\u001b[0m\u001b[0;34m)\u001b[0m\u001b[0;34m\u001b[0m\u001b[0;34m\u001b[0m\u001b[0m\n\u001b[0m\u001b[1;32m    602\u001b[0m         \u001b[0mdoshrink\u001b[0m \u001b[0;34m=\u001b[0m \u001b[0;36m0\u001b[0m\u001b[0;34m\u001b[0m\u001b[0;34m\u001b[0m\u001b[0m\n\u001b[1;32m    603\u001b[0m \u001b[0;34m\u001b[0m\u001b[0m\n",
      "\u001b[0;32m~/miniconda3/envs/Rietveld/lib/python3.7/site-packages/scipy/optimize/optimize.py\u001b[0m in \u001b[0;36mfunction_wrapper\u001b[0;34m(*wrapper_args)\u001b[0m\n\u001b[1;32m    324\u001b[0m     \u001b[0;32mdef\u001b[0m \u001b[0mfunction_wrapper\u001b[0m\u001b[0;34m(\u001b[0m\u001b[0;34m*\u001b[0m\u001b[0mwrapper_args\u001b[0m\u001b[0;34m)\u001b[0m\u001b[0;34m:\u001b[0m\u001b[0;34m\u001b[0m\u001b[0;34m\u001b[0m\u001b[0m\n\u001b[1;32m    325\u001b[0m         \u001b[0mncalls\u001b[0m\u001b[0;34m[\u001b[0m\u001b[0;36m0\u001b[0m\u001b[0;34m]\u001b[0m \u001b[0;34m+=\u001b[0m \u001b[0;36m1\u001b[0m\u001b[0;34m\u001b[0m\u001b[0;34m\u001b[0m\u001b[0m\n\u001b[0;32m--> 326\u001b[0;31m         \u001b[0;32mreturn\u001b[0m \u001b[0mfunction\u001b[0m\u001b[0;34m(\u001b[0m\u001b[0;34m*\u001b[0m\u001b[0;34m(\u001b[0m\u001b[0mwrapper_args\u001b[0m \u001b[0;34m+\u001b[0m \u001b[0margs\u001b[0m\u001b[0;34m)\u001b[0m\u001b[0;34m)\u001b[0m\u001b[0;34m\u001b[0m\u001b[0;34m\u001b[0m\u001b[0m\n\u001b[0m\u001b[1;32m    327\u001b[0m \u001b[0;34m\u001b[0m\u001b[0m\n\u001b[1;32m    328\u001b[0m     \u001b[0;32mreturn\u001b[0m \u001b[0mncalls\u001b[0m\u001b[0;34m,\u001b[0m \u001b[0mfunction_wrapper\u001b[0m\u001b[0;34m\u001b[0m\u001b[0;34m\u001b[0m\u001b[0m\n",
      "\u001b[0;32m~/miniconda3/envs/Rietveld/lib/python3.7/site-packages/lmfit/minimizer.py\u001b[0m in \u001b[0;36mpenalty\u001b[0;34m(self, fvars)\u001b[0m\n\u001b[1;32m    599\u001b[0m             \u001b[0mapply_bounds_transformation\u001b[0m \u001b[0;34m=\u001b[0m \u001b[0;32mTrue\u001b[0m\u001b[0;34m\u001b[0m\u001b[0;34m\u001b[0m\u001b[0m\n\u001b[1;32m    600\u001b[0m \u001b[0;34m\u001b[0m\u001b[0m\n\u001b[0;32m--> 601\u001b[0;31m         \u001b[0mr\u001b[0m \u001b[0;34m=\u001b[0m \u001b[0mself\u001b[0m\u001b[0;34m.\u001b[0m\u001b[0m__residual\u001b[0m\u001b[0;34m(\u001b[0m\u001b[0mfvars\u001b[0m\u001b[0;34m,\u001b[0m \u001b[0mapply_bounds_transformation\u001b[0m\u001b[0;34m)\u001b[0m\u001b[0;34m\u001b[0m\u001b[0;34m\u001b[0m\u001b[0m\n\u001b[0m\u001b[1;32m    602\u001b[0m         \u001b[0;32mif\u001b[0m \u001b[0misinstance\u001b[0m\u001b[0;34m(\u001b[0m\u001b[0mr\u001b[0m\u001b[0;34m,\u001b[0m \u001b[0mndarray\u001b[0m\u001b[0;34m)\u001b[0m \u001b[0;32mand\u001b[0m \u001b[0mr\u001b[0m\u001b[0;34m.\u001b[0m\u001b[0msize\u001b[0m \u001b[0;34m>\u001b[0m \u001b[0;36m1\u001b[0m\u001b[0;34m:\u001b[0m\u001b[0;34m\u001b[0m\u001b[0;34m\u001b[0m\u001b[0m\n\u001b[1;32m    603\u001b[0m             \u001b[0mr\u001b[0m \u001b[0;34m=\u001b[0m \u001b[0mself\u001b[0m\u001b[0;34m.\u001b[0m\u001b[0mreduce_fcn\u001b[0m\u001b[0;34m(\u001b[0m\u001b[0mr\u001b[0m\u001b[0;34m)\u001b[0m\u001b[0;34m\u001b[0m\u001b[0;34m\u001b[0m\u001b[0m\n",
      "\u001b[0;32m~/miniconda3/envs/Rietveld/lib/python3.7/site-packages/lmfit/minimizer.py\u001b[0m in \u001b[0;36m__residual\u001b[0;34m(self, fvars, apply_bounds_transformation)\u001b[0m\n\u001b[1;32m    546\u001b[0m         \u001b[0;32melse\u001b[0m\u001b[0;34m:\u001b[0m\u001b[0;34m\u001b[0m\u001b[0;34m\u001b[0m\u001b[0m\n\u001b[1;32m    547\u001b[0m             return _nan_policy(np.asarray(out).ravel(),\n\u001b[0;32m--> 548\u001b[0;31m                                nan_policy=self.nan_policy)\n\u001b[0m\u001b[1;32m    549\u001b[0m \u001b[0;34m\u001b[0m\u001b[0m\n\u001b[1;32m    550\u001b[0m     \u001b[0;32mdef\u001b[0m \u001b[0m__jacobian\u001b[0m\u001b[0;34m(\u001b[0m\u001b[0mself\u001b[0m\u001b[0;34m,\u001b[0m \u001b[0mfvars\u001b[0m\u001b[0;34m)\u001b[0m\u001b[0;34m:\u001b[0m\u001b[0;34m\u001b[0m\u001b[0;34m\u001b[0m\u001b[0m\n",
      "\u001b[0;32m~/miniconda3/envs/Rietveld/lib/python3.7/site-packages/lmfit/minimizer.py\u001b[0m in \u001b[0;36m_nan_policy\u001b[0;34m(arr, nan_policy, handle_inf)\u001b[0m\n\u001b[1;32m   2310\u001b[0m                    \u001b[0;34m'handle this! Please read https://lmfit.github.io/lmfit-py/faq.html#i-get-errors-from-nan-in-my-fit-what-can-i-do '\u001b[0m\u001b[0;34m\u001b[0m\u001b[0;34m\u001b[0m\u001b[0m\n\u001b[1;32m   2311\u001b[0m                    'for more information.')\n\u001b[0;32m-> 2312\u001b[0;31m             \u001b[0;32mraise\u001b[0m \u001b[0mValueError\u001b[0m\u001b[0;34m(\u001b[0m\u001b[0mmsg\u001b[0m\u001b[0;34m)\u001b[0m\u001b[0;34m\u001b[0m\u001b[0;34m\u001b[0m\u001b[0m\n\u001b[0m\u001b[1;32m   2313\u001b[0m     \u001b[0;32mreturn\u001b[0m \u001b[0marr\u001b[0m\u001b[0;34m\u001b[0m\u001b[0;34m\u001b[0m\u001b[0m\n\u001b[1;32m   2314\u001b[0m \u001b[0;34m\u001b[0m\u001b[0m\n",
      "\u001b[0;31mValueError\u001b[0m: NaN values detected in your input data or the output of your objective/model function - fitting algorithms cannot handle this! Please read https://lmfit.github.io/lmfit-py/faq.html#i-get-errors-from-nan-in-my-fit-what-can-i-do for more information."
     ]
    }
   ],
   "source": [
    "result = minimizer.run()"
   ]
  },
  {
   "cell_type": "code",
   "execution_count": 395,
   "metadata": {
    "ExecuteTime": {
     "end_time": "2019-10-30T20:10:54.444579Z",
     "start_time": "2019-10-30T20:10:51.531135Z"
    }
   },
   "outputs": [
    {
     "name": "stdout",
     "output_type": "stream",
     "text": [
      "  1: lattice_constant = 1.9999999999999998,  resolution = 0.2,  background_strength = 0\n",
      "  2: lattice_constant = 1.9197631770104284,  resolution = 0.2,  background_strength = 0\n",
      "  3: lattice_constant = 2.0828990398901763,  resolution = 0.2,  background_strength = 0\n",
      "  4: lattice_constant = 2.168349949068439,  resolution = 0.2,  background_strength = 0\n",
      "  5: lattice_constant = 2.346449152171442,  resolution = 0.2,  background_strength = 0\n",
      "  6: lattice_constant = 2.533349647457059,  resolution = 0.2,  background_strength = 0\n",
      "  7: lattice_constant = 2.929533730680731,  resolution = 0.2,  background_strength = 0\n",
      "  8: lattice_constant = 3.348478407141582,  resolution = 0.2,  background_strength = 0\n",
      "  9: lattice_constant = 4.218724057708508,  resolution = 0.2,  background_strength = 0\n",
      " 10: lattice_constant = 3.7812759422914968,  resolution = 0.2,  background_strength = 0\n",
      " 20: lattice_constant = 3.550183729409834,  resolution = 0.2,  background_strength = 0\n",
      " 30: lattice_constant = 3.543421045836871,  resolution = 0.2,  background_strength = 0\n",
      " 40: lattice_constant = 3.5425758766128244,  resolution = 0.2,  background_strength = 0\n",
      " 50: lattice_constant = 3.5424174115190086,  resolution = 0.2,  background_strength = 0\n",
      "\n",
      "Final result:\n",
      "\n",
      "[[Fit Statistics]]\n",
      "    # fitting method   = Nelder-Mead\n",
      "    # function evals   = 49\n",
      "    # data points      = 200\n",
      "    # variables        = 1\n",
      "    chi-square         = 335.881378\n",
      "    reduced chi-square = 1.68784612\n",
      "    Akaike info crit   = 105.688138\n",
      "    Bayesian info crit = 108.986455\n",
      "##  Warning: uncertainties could not be estimated:\n",
      "    this fitting method does not natively calculate uncertainties\n",
      "    and numdifftools is not installed for lmfit to do this. Use\n",
      "    `pip install numdifftools` for lmfit to estimate uncertainties\n",
      "    with this fitting method.\n",
      "[[Variables]]\n",
      "    lattice_constant:     3.54241741 (init = 2)\n",
      "    resolution:           0.2 (fixed)\n",
      "    background_strength:  0 (fixed)\n",
      "None\n"
     ]
    },
    {
     "data": {
      "text/html": [
       "<h2>Fit Statistics</h2><table><tr><td>fitting method</td><td>Nelder-Mead</td><td></td></tr><tr><td># function evals</td><td>49</td><td></td></tr><tr><td># data points</td><td>200</td><td></td></tr><tr><td># variables</td><td>1</td><td></td></tr><tr><td>chi-square</td><td> 335.881378</td><td></td></tr><tr><td>reduced chi-square</td><td> 1.68784612</td><td></td></tr><tr><td>Akaike info crit.</td><td> 105.688138</td><td></td></tr><tr><td>Bayesian info crit.</td><td> 108.986455</td><td></td></tr></table><h2>Variables</h2><table><tr><th> name </th><th> value </th><th> initial value </th><th> min </th><th> max </th><th> vary </th></tr><tr><td> lattice_constant </td><td>  3.54241741 </td><td> 2.0 </td><td>  1.00000000 </td><td>  7.00000000 </td><td> True </td></tr><tr><td> resolution </td><td>  0.20000000 </td><td> 0.2 </td><td>  0.00000000 </td><td>  1.00000000 </td><td> False </td></tr><tr><td> background_strength </td><td>  0.00000000 </td><td> 0 </td><td>  0.00000000 </td><td>         inf </td><td> False </td></tr></table>"
      ],
      "text/plain": [
       "<lmfit.minimizer.MinimizerResult at 0x1a2bee2950>"
      ]
     },
     "execution_count": 395,
     "metadata": {},
     "output_type": "execute_result"
    }
   ],
   "source": [
    "minimizer.fix('resolution')\n",
    "minimizer.run()"
   ]
  },
  {
   "cell_type": "code",
   "execution_count": 396,
   "metadata": {
    "ExecuteTime": {
     "end_time": "2019-10-30T20:11:05.344383Z",
     "start_time": "2019-10-30T20:11:05.338828Z"
    }
   },
   "outputs": [
    {
     "data": {
      "text/html": [
       "<table><tr><th> name </th><th> value </th><th> initial value </th><th> min </th><th> max </th><th> vary </th></tr><tr><td> lattice_constant </td><td>  3.54241741 </td><td> 2.0 </td><td>  1.00000000 </td><td>  7.00000000 </td><td> True </td></tr><tr><td> resolution </td><td>  0.20000000 </td><td> 0.2 </td><td>  0.00000000 </td><td>  1.00000000 </td><td> True </td></tr><tr><td> background_strength </td><td>  0.00000000 </td><td> 0 </td><td>  0.00000000 </td><td>         inf </td><td> False </td></tr></table>"
      ],
      "text/plain": [
       "Parameters([('lattice_constant',\n",
       "             <Parameter 'lattice_constant', 3.5424174115190086, bounds=[1.0:7.0]>),\n",
       "            ('resolution', <Parameter 'resolution', 0.2, bounds=[0.0:1.0]>),\n",
       "            ('background_strength',\n",
       "             <Parameter 'background_strength', value=0 (fixed), bounds=[0.0:inf]>)])"
      ]
     },
     "execution_count": 396,
     "metadata": {},
     "output_type": "execute_result"
    }
   ],
   "source": [
    "minimizer.parameters = minimizer.results[-1].params\n",
    "minimizer.free('resolution')\n",
    "minimizer.parameters"
   ]
  },
  {
   "cell_type": "code",
   "execution_count": 402,
   "metadata": {
    "ExecuteTime": {
     "end_time": "2019-10-30T20:13:32.417835Z",
     "start_time": "2019-10-30T20:13:31.275055Z"
    }
   },
   "outputs": [
    {
     "name": "stdout",
     "output_type": "stream",
     "text": [
      " -1: lattice_constant = 3.5424174115190086,  resolution = 0.2,  background_strength = 0\n",
      "  0: lattice_constant = 3.5424174115190086,  resolution = 0.2,  background_strength = 0\n",
      "  1: lattice_constant = 3.5424174115190086,  resolution = 0.2,  background_strength = 0\n",
      "  2: lattice_constant = 3.542417418284145,  resolution = 0.2,  background_strength = 0\n",
      "  3: lattice_constant = 3.5424174115190086,  resolution = 0.20000000383556554,  background_strength = 0\n",
      "  4: lattice_constant = 3.5424174115190086,  resolution = 0.06311328946746741,  background_strength = 0\n",
      "  5: lattice_constant = 3.542417418284145,  resolution = 0.06311328946746741,  background_strength = 0\n",
      "  6: lattice_constant = 3.5424174115190086,  resolution = 0.06311329331887722,  background_strength = 0\n",
      "  7: lattice_constant = 3.5424174115190086,  resolution = 0.039822985398631605,  background_strength = 0\n",
      "  8: lattice_constant = 3.542417418284145,  resolution = 0.039822985398631605,  background_strength = 0\n",
      "  9: lattice_constant = 3.5424174115190086,  resolution = 0.03982298880484253,  background_strength = 0\n",
      " 10: lattice_constant = 3.5424174115190086,  resolution = 0.04760201176566614,  background_strength = 0\n",
      " 20: lattice_constant = 3.542417418284145,  resolution = 0.04433492968293962,  background_strength = 0\n",
      " 30: lattice_constant = 3.5424174115190086,  resolution = 0.04480267350676925,  background_strength = 0\n",
      "\n",
      "Final result:\n",
      "\n",
      "[[Fit Statistics]]\n",
      "    # fitting method   = leastsq\n",
      "    # function evals   = 34\n",
      "    # data points      = 200\n",
      "    # variables        = 2\n",
      "    chi-square         = 290.287280\n",
      "    reduced chi-square = 1.46609737\n",
      "    Akaike info crit   = 78.5107374\n",
      "    Bayesian info crit = 85.1073721\n",
      "##  Warning: uncertainties could not be estimated:\n",
      "    lattice_constant:     at initial value\n",
      "[[Variables]]\n",
      "    lattice_constant:     3.54241741 (init = 3.542417)\n",
      "    resolution:           0.04475836 (init = 0.2)\n",
      "    background_strength:  0 (fixed)\n",
      "None\n"
     ]
    },
    {
     "data": {
      "text/html": [
       "<h2>Fit Statistics</h2><table><tr><td>fitting method</td><td>leastsq</td><td></td></tr><tr><td># function evals</td><td>34</td><td></td></tr><tr><td># data points</td><td>200</td><td></td></tr><tr><td># variables</td><td>2</td><td></td></tr><tr><td>chi-square</td><td> 290.287280</td><td></td></tr><tr><td>reduced chi-square</td><td> 1.46609737</td><td></td></tr><tr><td>Akaike info crit.</td><td> 78.5107374</td><td></td></tr><tr><td>Bayesian info crit.</td><td> 85.1073721</td><td></td></tr></table><h2>Variables</h2><table><tr><th> name </th><th> value </th><th> initial value </th><th> min </th><th> max </th><th> vary </th></tr><tr><td> lattice_constant </td><td>  3.54241741 </td><td> 3.5424174115190086 </td><td>  1.00000000 </td><td>  7.00000000 </td><td> True </td></tr><tr><td> resolution </td><td>  0.04475836 </td><td> 0.2 </td><td>  0.00000000 </td><td>  1.00000000 </td><td> True </td></tr><tr><td> background_strength </td><td>  0.00000000 </td><td> 0 </td><td>  0.00000000 </td><td>         inf </td><td> False </td></tr></table>"
      ],
      "text/plain": [
       "<lmfit.minimizer.MinimizerResult at 0x1a2bee2dd0>"
      ]
     },
     "execution_count": 402,
     "metadata": {},
     "output_type": "execute_result"
    }
   ],
   "source": [
    "minimizer.run(method='leastsq')"
   ]
  },
  {
   "cell_type": "code",
   "execution_count": 132,
   "metadata": {
    "ExecuteTime": {
     "end_time": "2019-10-30T15:30:35.343791Z",
     "start_time": "2019-10-30T15:30:35.333956Z"
    }
   },
   "outputs": [
    {
     "data": {
      "text/html": [
       "<table><tr><th> name </th><th> value </th><th> initial value </th><th> min </th><th> max </th><th> vary </th></tr><tr><td> lattice_constant </td><td>  3.62814038 </td><td> 2.0 </td><td>  1.00000000 </td><td>  7.00000000 </td><td> True </td></tr><tr><td> resolution </td><td>  0.10848679 </td><td> 0 </td><td>  0.00000000 </td><td>  1.00000000 </td><td> True </td></tr><tr><td> background_strength </td><td>  0.00000000 </td><td> 0 </td><td>  0.00000000 </td><td>         inf </td><td> False </td></tr></table>"
      ],
      "text/plain": [
       "Parameters([('lattice_constant',\n",
       "             <Parameter 'lattice_constant', 3.6281403768298714, bounds=[1.0:7.0]>),\n",
       "            ('resolution',\n",
       "             <Parameter 'resolution', 0.10848678846780524, bounds=[0.0:1.0]>),\n",
       "            ('background_strength',\n",
       "             <Parameter 'background_strength', value=0 (fixed), bounds=[0.0:inf]>)])"
      ]
     },
     "execution_count": 132,
     "metadata": {},
     "output_type": "execute_result"
    }
   ],
   "source": []
  },
  {
   "cell_type": "code",
   "execution_count": 133,
   "metadata": {
    "ExecuteTime": {
     "end_time": "2019-10-30T15:30:35.850642Z",
     "start_time": "2019-10-30T15:30:35.847499Z"
    }
   },
   "outputs": [],
   "source": [
    "minimizer.parameters = result.params  # or minimizer.update_parameters()"
   ]
  },
  {
   "cell_type": "markdown",
   "metadata": {},
   "source": [
    "#### Noisy with background and resolution"
   ]
  },
  {
   "cell_type": "code",
   "execution_count": 403,
   "metadata": {
    "ExecuteTime": {
     "end_time": "2019-10-30T20:17:03.801803Z",
     "start_time": "2019-10-30T20:17:03.756380Z"
    }
   },
   "outputs": [],
   "source": [
    "target_data2 = Cu.get_powder_cross_section(resolution=0.08, background_strength=2)[1] + distributions.norm.rvs(\n",
    "    size=wavelengths.size)"
   ]
  },
  {
   "cell_type": "code",
   "execution_count": 404,
   "metadata": {
    "ExecuteTime": {
     "end_time": "2019-10-30T20:17:04.936694Z",
     "start_time": "2019-10-30T20:17:04.520190Z"
    }
   },
   "outputs": [
    {
     "data": {
      "text/plain": [
       "<matplotlib.legend.Legend at 0x1a2be6e310>"
      ]
     },
     "execution_count": 404,
     "metadata": {},
     "output_type": "execute_result"
    },
    {
     "data": {
      "image/png": "[encoded data removed]",
      "text/plain": [
       "<Figure size 432x288 with 1 Axes>"
      ]
     },
     "metadata": {
      "needs_background": "light"
     },
     "output_type": "display_data"
    }
   ],
   "source": [
    "plt.plot(wavelengths, target_data2, label=\"Target data\")\n",
    "plt.plot(*Cu.get_powder_cross_section(), label=\"Ideal\")\n",
    "plt.legend()"
   ]
  },
  {
   "cell_type": "code",
   "execution_count": 405,
   "metadata": {
    "ExecuteTime": {
     "end_time": "2019-10-30T20:17:06.000940Z",
     "start_time": "2019-10-30T20:17:05.996790Z"
    }
   },
   "outputs": [],
   "source": [
    "minimizer.init_minimizer(ncatoms=Cu, target_data=target_data2)"
   ]
  },
  {
   "cell_type": "code",
   "execution_count": 406,
   "metadata": {
    "ExecuteTime": {
     "end_time": "2019-10-30T20:17:07.175000Z",
     "start_time": "2019-10-30T20:17:07.168722Z"
    }
   },
   "outputs": [
    {
     "data": {
      "text/html": [
       "<table><tr><th> name </th><th> value </th><th> initial value </th><th> min </th><th> max </th><th> vary </th></tr><tr><td> lattice_constant </td><td>  3.54241741 </td><td> 2.0 </td><td>  1.00000000 </td><td>  7.00000000 </td><td> True </td></tr><tr><td> resolution </td><td>  0.20000000 </td><td> 0.2 </td><td>  0.00000000 </td><td>  1.00000000 </td><td> True </td></tr><tr><td> background_strength </td><td>  0.00000000 </td><td> 0 </td><td>  0.00000000 </td><td>         inf </td><td> False </td></tr></table>"
      ],
      "text/plain": [
       "Parameters([('lattice_constant',\n",
       "             <Parameter 'lattice_constant', 3.5424174115190086, bounds=[1.0:7.0]>),\n",
       "            ('resolution', <Parameter 'resolution', 0.2, bounds=[0.0:1.0]>),\n",
       "            ('background_strength',\n",
       "             <Parameter 'background_strength', value=0 (fixed), bounds=[0.0:inf]>)])"
      ]
     },
     "execution_count": 406,
     "metadata": {},
     "output_type": "execute_result"
    }
   ],
   "source": [
    "minimizer.parameters"
   ]
  },
  {
   "cell_type": "code",
   "execution_count": 407,
   "metadata": {
    "ExecuteTime": {
     "end_time": "2019-10-30T20:17:08.459028Z",
     "start_time": "2019-10-30T20:17:08.453814Z"
    }
   },
   "outputs": [],
   "source": [
    "minimizer.fix('resolution')\n",
    "minimizer.free('background_strength')"
   ]
  },
  {
   "cell_type": "code",
   "execution_count": 408,
   "metadata": {
    "ExecuteTime": {
     "end_time": "2019-10-30T20:17:14.566335Z",
     "start_time": "2019-10-30T20:17:14.557652Z"
    }
   },
   "outputs": [
    {
     "data": {
      "text/html": [
       "<table><tr><th> name </th><th> value </th><th> initial value </th><th> min </th><th> max </th><th> vary </th></tr><tr><td> lattice_constant </td><td>  3.54241741 </td><td> 2.0 </td><td>  1.00000000 </td><td>  7.00000000 </td><td> True </td></tr><tr><td> resolution </td><td>  0.20000000 </td><td> 0.2 </td><td>  0.00000000 </td><td>  1.00000000 </td><td> False </td></tr><tr><td> background_strength </td><td>  0.00000000 </td><td> 0 </td><td>  0.00000000 </td><td>         inf </td><td> True </td></tr></table>"
      ],
      "text/plain": [
       "Parameters([('lattice_constant',\n",
       "             <Parameter 'lattice_constant', 3.5424174115190086, bounds=[1.0:7.0]>),\n",
       "            ('resolution',\n",
       "             <Parameter 'resolution', value=0.2 (fixed), bounds=[0.0:1.0]>),\n",
       "            ('background_strength',\n",
       "             <Parameter 'background_strength', 0, bounds=[0.0:inf]>)])"
      ]
     },
     "execution_count": 408,
     "metadata": {},
     "output_type": "execute_result"
    }
   ],
   "source": [
    "minimizer.parameters"
   ]
  },
  {
   "cell_type": "code",
   "execution_count": 409,
   "metadata": {
    "ExecuteTime": {
     "end_time": "2019-10-30T20:17:15.688257Z",
     "start_time": "2019-10-30T20:17:15.682965Z"
    }
   },
   "outputs": [],
   "source": [
    "minimizer.parameters['lattice_constant'].value = 2.\n",
    "minimizer.parameters['resolution'].value=0."
   ]
  },
  {
   "cell_type": "code",
   "execution_count": 410,
   "metadata": {
    "ExecuteTime": {
     "end_time": "2019-10-30T20:17:16.718700Z",
     "start_time": "2019-10-30T20:17:16.711830Z"
    }
   },
   "outputs": [
    {
     "data": {
      "text/html": [
       "<table><tr><th> name </th><th> value </th><th> initial value </th><th> min </th><th> max </th><th> vary </th></tr><tr><td> lattice_constant </td><td>  2.00000000 </td><td> 2.0 </td><td>  1.00000000 </td><td>  7.00000000 </td><td> True </td></tr><tr><td> resolution </td><td>  0.00000000 </td><td> 0.2 </td><td>  0.00000000 </td><td>  1.00000000 </td><td> False </td></tr><tr><td> background_strength </td><td>  0.00000000 </td><td> 0 </td><td>  0.00000000 </td><td>         inf </td><td> True </td></tr></table>"
      ],
      "text/plain": [
       "Parameters([('lattice_constant',\n",
       "             <Parameter 'lattice_constant', 2.0, bounds=[1.0:7.0]>),\n",
       "            ('resolution',\n",
       "             <Parameter 'resolution', value=0.0 (fixed), bounds=[0.0:1.0]>),\n",
       "            ('background_strength',\n",
       "             <Parameter 'background_strength', 0, bounds=[0.0:inf]>)])"
      ]
     },
     "execution_count": 410,
     "metadata": {},
     "output_type": "execute_result"
    }
   ],
   "source": [
    "minimizer.parameters"
   ]
  },
  {
   "cell_type": "code",
   "execution_count": 411,
   "metadata": {
    "ExecuteTime": {
     "end_time": "2019-10-30T20:17:24.956672Z",
     "start_time": "2019-10-30T20:17:20.288945Z"
    }
   },
   "outputs": [
    {
     "name": "stdout",
     "output_type": "stream",
     "text": [
      "  1: lattice_constant = 1.9999999999999998,  resolution = 0.0,  background_strength = 0.0\n",
      "  2: lattice_constant = 1.9197631770104284,  resolution = 0.0,  background_strength = 0.0\n",
      "  3: lattice_constant = 1.9999999999999998,  resolution = 0.0,  background_strength = 3.1249999477012125e-08\n",
      "  4: lattice_constant = 2.0828990398901763,  resolution = 0.0,  background_strength = 3.1249999477012125e-08\n",
      "  5: lattice_constant = 2.168349949068439,  resolution = 0.0,  background_strength = 7.031249760203195e-08\n",
      "  6: lattice_constant = 2.1683499490684386,  resolution = 0.0,  background_strength = 1.9531248085513653e-07\n",
      "  7: lattice_constant = 2.256238983107493,  resolution = 0.0,  background_strength = 4.394530284113074e-07\n",
      "  8: lattice_constant = 2.4388603767419395,  resolution = 0.0,  background_strength = 5.644529657011788e-07\n",
      "  9: lattice_constant = 2.6787040409899694,  resolution = 0.0,  background_strength = 1.078612699600967e-06\n",
      " 10: lattice_constant = 2.777832521413571,  resolution = 0.0,  background_strength = 2.062986153239521e-06\n",
      " 20: lattice_constant = 3.462464084271083,  resolution = 0.0,  background_strength = 6.029652536820862e-06\n",
      " 30: lattice_constant = 3.7277427295535297,  resolution = 0.0,  background_strength = 7.87291404580337e-06\n",
      " 40: lattice_constant = 3.6931580162270006,  resolution = 0.0,  background_strength = 7.27032977643205e-06\n",
      " 50: lattice_constant = 3.6916282721437157,  resolution = 0.0,  background_strength = 7.145025145316453e-06\n",
      " 60: lattice_constant = 3.6919151319377215,  resolution = 0.0,  background_strength = 7.121739039162023e-06\n",
      " 70: lattice_constant = 3.6918678904402418,  resolution = 0.0,  background_strength = 7.15241351545437e-06\n",
      " 80: lattice_constant = 3.691874471598655,  resolution = 0.0,  background_strength = 7.137751796948422e-06\n",
      "\n",
      "Final result:\n",
      "\n",
      "[[Fit Statistics]]\n",
      "    # fitting method   = Nelder-Mead\n",
      "    # function evals   = 81\n",
      "    # data points      = 200\n",
      "    # variables        = 2\n",
      "    chi-square         = 998.112042\n",
      "    reduced chi-square = 5.04096991\n",
      "    Akaike info crit   = 325.509634\n",
      "    Bayesian info crit = 332.106269\n",
      "##  Warning: uncertainties could not be estimated:\n",
      "    this fitting method does not natively calculate uncertainties\n",
      "    and numdifftools is not installed for lmfit to do this. Use\n",
      "    `pip install numdifftools` for lmfit to estimate uncertainties\n",
      "    with this fitting method.\n",
      "[[Variables]]\n",
      "    lattice_constant:     3.69187970 (init = 2)\n",
      "    resolution:           0 (fixed)\n",
      "    background_strength:  7.1447e-06 (init = 0)\n",
      "None\n"
     ]
    }
   ],
   "source": [
    "result = minimizer.run()"
   ]
  },
  {
   "cell_type": "code",
   "execution_count": 412,
   "metadata": {
    "ExecuteTime": {
     "end_time": "2019-10-30T20:17:41.005365Z",
     "start_time": "2019-10-30T20:17:40.997454Z"
    }
   },
   "outputs": [
    {
     "data": {
      "text/html": [
       "<table><tr><th> name </th><th> value </th><th> initial value </th><th> min </th><th> max </th><th> vary </th></tr><tr><td> lattice_constant </td><td>  3.69187970 </td><td> 2.0 </td><td>  1.00000000 </td><td>  7.00000000 </td><td> True </td></tr><tr><td> resolution </td><td>  0.00000000 </td><td> 0.0 </td><td>  0.00000000 </td><td>  1.00000000 </td><td> False </td></tr><tr><td> background_strength </td><td>  7.1447e-06 </td><td> 0 </td><td>  0.00000000 </td><td>         inf </td><td> True </td></tr></table>"
      ],
      "text/plain": [
       "Parameters([('lattice_constant',\n",
       "             <Parameter 'lattice_constant', 3.6918797008073727, bounds=[1.0:7.0]>),\n",
       "            ('resolution',\n",
       "             <Parameter 'resolution', value=0.0 (fixed), bounds=[0.0:1.0]>),\n",
       "            ('background_strength',\n",
       "             <Parameter 'background_strength', 7.144738716435839e-06, bounds=[0.0:inf]>)])"
      ]
     },
     "execution_count": 412,
     "metadata": {},
     "output_type": "execute_result"
    }
   ],
   "source": [
    "minimizer.update_parameters()\n",
    "minimizer.parameters"
   ]
  },
  {
   "cell_type": "code",
   "execution_count": 413,
   "metadata": {
    "ExecuteTime": {
     "end_time": "2019-10-30T20:17:44.082309Z",
     "start_time": "2019-10-30T20:17:44.074570Z"
    }
   },
   "outputs": [],
   "source": [
    "minimizer.fix('lattice_constant')"
   ]
  },
  {
   "cell_type": "code",
   "execution_count": 414,
   "metadata": {
    "ExecuteTime": {
     "end_time": "2019-10-30T20:17:47.534714Z",
     "start_time": "2019-10-30T20:17:45.515689Z"
    }
   },
   "outputs": [
    {
     "name": "stdout",
     "output_type": "stream",
     "text": [
      "  1: lattice_constant = 3.6918797008073727,  resolution = 0.0,  background_strength = 7.144738716435839e-06\n",
      "  2: lattice_constant = 3.6918797008073727,  resolution = 0.0,  background_strength = 7.877071550588255e-06\n",
      "  3: lattice_constant = 3.6918797008073727,  resolution = 0.0,  background_strength = 8.645127361317506e-06\n",
      "  4: lattice_constant = 3.6918797008073727,  resolution = 0.0,  background_strength = 9.448906066689133e-06\n",
      "  5: lattice_constant = 3.6918797008073727,  resolution = 0.0,  background_strength = 1.1163631811861308e-05\n",
      "  6: lattice_constant = 3.6918797008073727,  resolution = 0.0,  background_strength = 1.3021248051137135e-05\n",
      "  7: lattice_constant = 3.6918797008073727,  resolution = 0.0,  background_strength = 1.7165148765707627e-05\n",
      "  8: lattice_constant = 3.6918797008073727,  resolution = 0.0,  background_strength = 2.1880601104973252e-05\n",
      "  9: lattice_constant = 3.6918797008073727,  resolution = 0.0,  background_strength = 3.302612733735444e-05\n",
      " 10: lattice_constant = 3.6918797008073727,  resolution = 0.0,  background_strength = 4.6457750310091583e-05\n",
      " 20: lattice_constant = 3.6918797008073727,  resolution = 0.0,  background_strength = 0.01924586002068529\n",
      " 30: lattice_constant = 3.6918797008073727,  resolution = 0.0,  background_strength = 1.531957800186333\n",
      " 40: lattice_constant = 3.6918797008073727,  resolution = 0.0,  background_strength = 1.9143321512430918\n",
      " 50: lattice_constant = 3.6918797008073727,  resolution = 0.0,  background_strength = 1.90794192556611\n",
      "\n",
      "Final result:\n",
      "\n",
      "[[Fit Statistics]]\n",
      "    # fitting method   = Nelder-Mead\n",
      "    # function evals   = 56\n",
      "    # data points      = 200\n",
      "    # variables        = 1\n",
      "    chi-square         = 269.689498\n",
      "    reduced chi-square = 1.35522361\n",
      "    Akaike info crit   = 61.7907844\n",
      "    Bayesian info crit = 65.0891018\n",
      "##  Warning: uncertainties could not be estimated:\n",
      "    this fitting method does not natively calculate uncertainties\n",
      "    and numdifftools is not installed for lmfit to do this. Use\n",
      "    `pip install numdifftools` for lmfit to estimate uncertainties\n",
      "    with this fitting method.\n",
      "[[Variables]]\n",
      "    lattice_constant:     3.69188 (fixed)\n",
      "    resolution:           0 (fixed)\n",
      "    background_strength:  1.90847437 (init = 7.144739e-06)\n",
      "None\n"
     ]
    },
    {
     "data": {
      "text/html": [
       "<h2>Fit Statistics</h2><table><tr><td>fitting method</td><td>Nelder-Mead</td><td></td></tr><tr><td># function evals</td><td>56</td><td></td></tr><tr><td># data points</td><td>200</td><td></td></tr><tr><td># variables</td><td>1</td><td></td></tr><tr><td>chi-square</td><td> 269.689498</td><td></td></tr><tr><td>reduced chi-square</td><td> 1.35522361</td><td></td></tr><tr><td>Akaike info crit.</td><td> 61.7907844</td><td></td></tr><tr><td>Bayesian info crit.</td><td> 65.0891018</td><td></td></tr></table><h2>Variables</h2><table><tr><th> name </th><th> value </th><th> initial value </th><th> min </th><th> max </th><th> vary </th></tr><tr><td> lattice_constant </td><td>  3.69187970 </td><td> 3.6918797008073727 </td><td>  1.00000000 </td><td>  7.00000000 </td><td> False </td></tr><tr><td> resolution </td><td>  0.00000000 </td><td> 0.0 </td><td>  0.00000000 </td><td>  1.00000000 </td><td> False </td></tr><tr><td> background_strength </td><td>  1.90847437 </td><td> 7.144738716435839e-06 </td><td>  0.00000000 </td><td>         inf </td><td> True </td></tr></table>"
      ],
      "text/plain": [
       "<lmfit.minimizer.MinimizerResult at 0x1a2bed0210>"
      ]
     },
     "execution_count": 414,
     "metadata": {},
     "output_type": "execute_result"
    }
   ],
   "source": [
    "minimizer.run()"
   ]
  },
  {
   "cell_type": "code",
   "execution_count": 416,
   "metadata": {
    "ExecuteTime": {
     "end_time": "2019-10-30T20:19:57.453077Z",
     "start_time": "2019-10-30T20:19:57.447149Z"
    }
   },
   "outputs": [
    {
     "data": {
      "text/html": [
       "<table><tr><th> name </th><th> value </th><th> initial value </th><th> min </th><th> max </th><th> vary </th></tr><tr><td> lattice_constant </td><td>  3.69187970 </td><td> 3.6918797008073727 </td><td>  1.00000000 </td><td>  7.00000000 </td><td> True </td></tr><tr><td> resolution </td><td>  0.00000000 </td><td> 0.0 </td><td>  0.00000000 </td><td>  1.00000000 </td><td> False </td></tr><tr><td> background_strength </td><td>  1.90847437 </td><td> 7.144738716435839e-06 </td><td>  0.00000000 </td><td>         inf </td><td> True </td></tr></table>"
      ],
      "text/plain": [
       "Parameters([('lattice_constant',\n",
       "             <Parameter 'lattice_constant', 3.6918797008073727, bounds=[1.0:7.0]>),\n",
       "            ('resolution',\n",
       "             <Parameter 'resolution', value=0.0 (fixed), bounds=[0.0:1.0]>),\n",
       "            ('background_strength',\n",
       "             <Parameter 'background_strength', 1.9084743726305793, bounds=[0.0:inf]>)])"
      ]
     },
     "execution_count": 416,
     "metadata": {},
     "output_type": "execute_result"
    }
   ],
   "source": [
    "minimizer.update_parameters()\n",
    "minimizer.free('lattice_constant')\n",
    "minimizer.parameters"
   ]
  },
  {
   "cell_type": "code",
   "execution_count": 417,
   "metadata": {
    "ExecuteTime": {
     "end_time": "2019-10-30T20:20:14.060929Z",
     "start_time": "2019-10-30T20:20:10.088101Z"
    }
   },
   "outputs": [
    {
     "name": "stdout",
     "output_type": "stream",
     "text": [
      "  1: lattice_constant = 3.6918797008073727,  resolution = 0.0,  background_strength = 1.9084743726305793\n",
      "  2: lattice_constant = 3.676532231747365,  resolution = 0.0,  background_strength = 1.9084743726305793\n",
      "  3: lattice_constant = 3.6918797008073727,  resolution = 0.0,  background_strength = 2.0370698957736133\n",
      "  4: lattice_constant = 3.707235324238875,  resolution = 0.0,  background_strength = 2.0370698957736133\n",
      "  5: lattice_constant = 3.6842049215901755,  resolution = 0.0,  background_strength = 1.9405559439120266\n",
      "  6: lattice_constant = 3.699556518620816,  resolution = 0.0,  background_strength = 2.0048551457697767\n",
      "  7: lattice_constant = 3.6880420532002898,  resolution = 0.0,  background_strength = 1.9566140141225863\n",
      "  8: lattice_constant = 3.695717858063728,  resolution = 0.0,  background_strength = 1.9887637950158341\n",
      "  9: lattice_constant = 3.695717858063728,  resolution = 0.0,  background_strength = 1.860441345367426\n",
      " 10: lattice_constant = 3.6918797008073727,  resolution = 0.0,  background_strength = 1.7806382210860479\n",
      " 20: lattice_constant = 3.6952193188295075,  resolution = 0.0,  background_strength = 1.910963404368236\n",
      " 30: lattice_constant = 3.696546042328118,  resolution = 0.0,  background_strength = 1.9088216850126725\n",
      " 40: lattice_constant = 3.6970065322620806,  resolution = 0.0,  background_strength = 1.9117016566617995\n",
      " 50: lattice_constant = 3.6969277026106173,  resolution = 0.0,  background_strength = 1.916625036389239\n",
      " 60: lattice_constant = 3.69691728654996,  resolution = 0.0,  background_strength = 1.9142956975223298\n",
      " 70: lattice_constant = 3.6969150534585755,  resolution = 0.0,  background_strength = 1.9145401540072764\n",
      "\n",
      "Final result:\n",
      "\n",
      "[[Fit Statistics]]\n",
      "    # fitting method   = Nelder-Mead\n",
      "    # function evals   = 71\n",
      "    # data points      = 200\n",
      "    # variables        = 2\n",
      "    chi-square         = 269.434420\n",
      "    reduced chi-square = 1.36077990\n",
      "    Akaike info crit   = 63.6015308\n",
      "    Bayesian info crit = 70.1981655\n",
      "##  Warning: uncertainties could not be estimated:\n",
      "    this fitting method does not natively calculate uncertainties\n",
      "    and numdifftools is not installed for lmfit to do this. Use\n",
      "    `pip install numdifftools` for lmfit to estimate uncertainties\n",
      "    with this fitting method.\n",
      "[[Variables]]\n",
      "    lattice_constant:     3.69691959 (init = 3.69188)\n",
      "    resolution:           0 (fixed)\n",
      "    background_strength:  1.91467475 (init = 1.908474)\n",
      "None\n"
     ]
    },
    {
     "data": {
      "text/html": [
       "<h2>Fit Statistics</h2><table><tr><td>fitting method</td><td>Nelder-Mead</td><td></td></tr><tr><td># function evals</td><td>71</td><td></td></tr><tr><td># data points</td><td>200</td><td></td></tr><tr><td># variables</td><td>2</td><td></td></tr><tr><td>chi-square</td><td> 269.434420</td><td></td></tr><tr><td>reduced chi-square</td><td> 1.36077990</td><td></td></tr><tr><td>Akaike info crit.</td><td> 63.6015308</td><td></td></tr><tr><td>Bayesian info crit.</td><td> 70.1981655</td><td></td></tr></table><h2>Variables</h2><table><tr><th> name </th><th> value </th><th> initial value </th><th> min </th><th> max </th><th> vary </th></tr><tr><td> lattice_constant </td><td>  3.69691959 </td><td> 3.6918797008073727 </td><td>  1.00000000 </td><td>  7.00000000 </td><td> True </td></tr><tr><td> resolution </td><td>  0.00000000 </td><td> 0.0 </td><td>  0.00000000 </td><td>  1.00000000 </td><td> False </td></tr><tr><td> background_strength </td><td>  1.91467475 </td><td> 1.9084743726305793 </td><td>  0.00000000 </td><td>         inf </td><td> True </td></tr></table>"
      ],
      "text/plain": [
       "<lmfit.minimizer.MinimizerResult at 0x1a2bee2f50>"
      ]
     },
     "execution_count": 417,
     "metadata": {},
     "output_type": "execute_result"
    }
   ],
   "source": [
    "minimizer.run()"
   ]
  },
  {
   "cell_type": "code",
   "execution_count": 422,
   "metadata": {
    "ExecuteTime": {
     "end_time": "2019-10-30T20:22:45.547688Z",
     "start_time": "2019-10-30T20:22:45.544275Z"
    }
   },
   "outputs": [],
   "source": [
    "minimizer.update_parameters()\n",
    "minimizer.free('resolution')\n",
    "minimizer.parameters['resolution'].value = 0.2"
   ]
  },
  {
   "cell_type": "code",
   "execution_count": 423,
   "metadata": {
    "ExecuteTime": {
     "end_time": "2019-10-30T20:22:54.756662Z",
     "start_time": "2019-10-30T20:22:46.249252Z"
    }
   },
   "outputs": [
    {
     "name": "stdout",
     "output_type": "stream",
     "text": [
      "  1: lattice_constant = 3.696919586395556,  resolution = 0.2,  background_strength = 1.9146747480168984\n",
      "  2: lattice_constant = 3.681821277877377,  resolution = 0.2,  background_strength = 1.9146747480168984\n",
      "  3: lattice_constant = 3.696919586395556,  resolution = 0.18728747002333646,  background_strength = 1.9146747480168984\n",
      "  4: lattice_constant = 3.696919586395556,  resolution = 0.2,  background_strength = 2.0436162861991862\n",
      "  5: lattice_constant = 3.6868531613116806,  resolution = 0.19148965611760937,  background_strength = 1.7864913996406755\n",
      "  6: lattice_constant = 3.6801441838388818,  resolution = 0.1858947108485442,  background_strength = 1.8291285650331184\n",
      "  7: lattice_constant = 3.671760240797832,  resolution = 0.17899148625360933,  background_strength = 1.7864913996406746\n",
      "  8: lattice_constant = 3.6801441838388818,  resolution = 0.1858947108485442,  background_strength = 1.9575759024500932\n",
      "  9: lattice_constant = 3.6840575596176675,  resolution = 0.1686064972178013,  background_strength = 1.8576046884426605\n",
      " 10: lattice_constant = 3.685175767143937,  resolution = 0.15371299114067138,  background_strength = 1.829128565033118\n",
      " 20: lattice_constant = 3.6164943696346805,  resolution = 0.10805649744396928,  background_strength = 1.7864913996406746\n",
      " 30: lattice_constant = 3.642956083458443,  resolution = 0.1204409170590438,  background_strength = 1.8826957390981205\n",
      " 40: lattice_constant = 3.6221911077428284,  resolution = 0.0519825317143483,  background_strength = 2.058727528803934\n",
      " 50: lattice_constant = 3.625565570298245,  resolution = 0.06520327225756622,  background_strength = 2.0045617015265638\n",
      " 60: lattice_constant = 3.6265091786142305,  resolution = 0.0665134862087362,  background_strength = 1.9981985825460784\n",
      " 70: lattice_constant = 3.6246303203790955,  resolution = 0.06430733890749712,  background_strength = 1.989374003639674\n",
      " 80: lattice_constant = 3.625511145147642,  resolution = 0.06145900311504909,  background_strength = 1.9909776098003968\n",
      " 90: lattice_constant = 3.6261913657590883,  resolution = 0.058226933067725584,  background_strength = 1.961620883360375\n",
      "100: lattice_constant = 3.6258175077902592,  resolution = 0.059523293394667776,  background_strength = 1.9691366966741608\n",
      "110: lattice_constant = 3.6248257786853966,  resolution = 0.060582476938177865,  background_strength = 1.9687145553699739\n",
      "120: lattice_constant = 3.6249779563782836,  resolution = 0.05951182352917894,  background_strength = 1.9662165975414676\n",
      "130: lattice_constant = 3.6250865077236014,  resolution = 0.059301940228311034,  background_strength = 1.96758068572347\n",
      "140: lattice_constant = 3.625025288060989,  resolution = 0.0591836236801514,  background_strength = 1.9680452675748459\n",
      "150: lattice_constant = 3.6250008033994385,  resolution = 0.059337781492332875,  background_strength = 1.9679813316038706\n",
      "160: lattice_constant = 3.6250090055722985,  resolution = 0.0592516229906942,  background_strength = 1.967950100789777\n",
      "170: lattice_constant = 3.625002836927145,  resolution = 0.05926262527202508,  background_strength = 1.9679589228885743\n",
      "\n",
      "Final result:\n",
      "\n",
      "[[Fit Statistics]]\n",
      "    # fitting method   = Nelder-Mead\n",
      "    # function evals   = 173\n",
      "    # data points      = 200\n",
      "    # variables        = 3\n",
      "    chi-square         = 218.482217\n",
      "    reduced chi-square = 1.10904679\n",
      "    Akaike info crit   = 23.6774513\n",
      "    Bayesian info crit = 33.5724034\n",
      "##  Warning: uncertainties could not be estimated:\n",
      "    this fitting method does not natively calculate uncertainties\n",
      "    and numdifftools is not installed for lmfit to do this. Use\n",
      "    `pip install numdifftools` for lmfit to estimate uncertainties\n",
      "    with this fitting method.\n",
      "[[Variables]]\n",
      "    lattice_constant:     3.62500192 (init = 3.69692)\n",
      "    resolution:           0.05925751 (init = 0.2)\n",
      "    background_strength:  1.96795401 (init = 1.914675)\n",
      "None\n"
     ]
    },
    {
     "data": {
      "text/html": [
       "<h2>Fit Statistics</h2><table><tr><td>fitting method</td><td>Nelder-Mead</td><td></td></tr><tr><td># function evals</td><td>173</td><td></td></tr><tr><td># data points</td><td>200</td><td></td></tr><tr><td># variables</td><td>3</td><td></td></tr><tr><td>chi-square</td><td> 218.482217</td><td></td></tr><tr><td>reduced chi-square</td><td> 1.10904679</td><td></td></tr><tr><td>Akaike info crit.</td><td> 23.6774513</td><td></td></tr><tr><td>Bayesian info crit.</td><td> 33.5724034</td><td></td></tr></table><h2>Variables</h2><table><tr><th> name </th><th> value </th><th> initial value </th><th> min </th><th> max </th><th> vary </th></tr><tr><td> lattice_constant </td><td>  3.62500192 </td><td> 3.696919586395556 </td><td>  1.00000000 </td><td>  7.00000000 </td><td> True </td></tr><tr><td> resolution </td><td>  0.05925751 </td><td> 0.2 </td><td>  0.00000000 </td><td>  1.00000000 </td><td> True </td></tr><tr><td> background_strength </td><td>  1.96795401 </td><td> 1.9146747480168984 </td><td>  0.00000000 </td><td>         inf </td><td> True </td></tr></table>"
      ],
      "text/plain": [
       "<lmfit.minimizer.MinimizerResult at 0x1a2ba0a910>"
      ]
     },
     "execution_count": 423,
     "metadata": {},
     "output_type": "execute_result"
    }
   ],
   "source": [
    "minimizer.run()"
   ]
  },
  {
   "cell_type": "markdown",
   "metadata": {},
   "source": [
    "### Fitting content"
   ]
  },
  {
   "cell_type": "code",
   "execution_count": 431,
   "metadata": {
    "ExecuteTime": {
     "end_time": "2019-10-30T20:48:40.557640Z",
     "start_time": "2019-10-30T20:48:40.545094Z"
    }
   },
   "outputs": [
    {
     "data": {
      "text/plain": [
       "[Atoms(symbols='Cu4', pbc=True, cell=[3.61, 3.61, 3.61]),\n",
       " Atoms(symbols='Fe2', pbc=True, cell=[2.87, 2.87, 2.87]),\n",
       " Atoms(symbols='Al4', pbc=True, cell=[4.05, 4.05, 4.05]),\n",
       " Atoms(symbols='Pb4', pbc=True, cell=[4.95, 4.95, 4.95]),\n",
       " Atoms(symbols='Ni4', pbc=True, cell=[3.52, 3.52, 3.52]),\n",
       " Atoms(symbols='Ti2', pbc=True, cell=[[2.95, 0.0, 0.0], [-1.475, 2.554774941164094, 0.0], [0.0, 0.0, 4.6846000000000005]])]"
      ]
     },
     "execution_count": 431,
     "metadata": {},
     "output_type": "execute_result"
    }
   ],
   "source": [
    "phases = [bulk(element, cubic=True) for element in ['Cu', 'Fe', 'Al', 'Pb', 'Ni']]\n",
    "phases.append(bulk('Ti'))\n",
    "phases"
   ]
  },
  {
   "cell_type": "code",
   "execution_count": 438,
   "metadata": {
    "ExecuteTime": {
     "end_time": "2019-10-30T21:07:43.489035Z",
     "start_time": "2019-10-30T21:07:43.480485Z"
    }
   },
   "outputs": [],
   "source": [
    "debye_temperatures = [315.1134, 443.9152, 410.3542, 87.5182, 412.1374, 378.3194]\n",
    "ncatoms_list = [NCAtoms(atoms, debye_temperatures = {atoms[0].symbol: temp}) \n",
    "                        for atoms, temp in zip(phases, debye_temperatures)]"
   ]
  },
  {
   "cell_type": "markdown",
   "metadata": {},
   "source": [
    "Create a mixture with equal amount of each phase (here a phase is distinguished by element, but it could also by by crystal phase"
   ]
  },
  {
   "cell_type": "code",
   "execution_count": 478,
   "metadata": {
    "ExecuteTime": {
     "end_time": "2019-10-31T21:15:35.555927Z",
     "start_time": "2019-10-31T21:15:35.551117Z"
    }
   },
   "outputs": [],
   "source": [
    "mixture = PowderMixture(ncatoms_list, [1]*len(phases))"
   ]
  },
  {
   "cell_type": "code",
   "execution_count": 484,
   "metadata": {
    "ExecuteTime": {
     "end_time": "2019-10-31T21:16:59.811668Z",
     "start_time": "2019-10-31T21:16:59.452905Z"
    }
   },
   "outputs": [
    {
     "data": {
      "text/plain": [
       "[<matplotlib.lines.Line2D at 0x1a2c1e9890>]"
      ]
     },
     "execution_count": 484,
     "metadata": {},
     "output_type": "execute_result"
    },
    {
     "data": {
      "image/png": "[encoded data removed]",
      "text/plain": [
       "<Figure size 432x288 with 1 Axes>"
      ]
     },
     "metadata": {
      "needs_background": "light"
     },
     "output_type": "display_data"
    }
   ],
   "source": [
    "equal_mix = mixture.get_powder_cross_section()\n",
    "plt.plot(*equal_mix)"
   ]
  },
  {
   "cell_type": "code",
   "execution_count": 443,
   "metadata": {
    "ExecuteTime": {
     "end_time": "2019-10-30T21:49:21.804694Z",
     "start_time": "2019-10-30T21:49:20.648830Z"
    }
   },
   "outputs": [
    {
     "data": {
      "text/plain": [
       "<matplotlib.legend.Legend at 0x1a2c0fc150>"
      ]
     },
     "execution_count": 443,
     "metadata": {},
     "output_type": "execute_result"
    },
    {
     "data": {
      "image/png": "[encoded data removed]",
      "text/plain": [
       "<Figure size 432x288 with 1 Axes>"
      ]
     },
     "metadata": {
      "needs_background": "light"
     },
     "output_type": "display_data"
    }
   ],
   "source": [
    "plt.plot(*mixture.get_powder_cross_section(weights=[1,0,0,0,0,0]), label='Cu')\n",
    "plt.plot(*mixture.get_powder_cross_section(weights=[0,1,0,0,0,0]), label='Fe')\n",
    "plt.plot(*mixture.get_powder_cross_section(weights=[0,0,1,0,0,0]), label='Al')\n",
    "plt.plot(*mixture.get_powder_cross_section(weights=[0,0,0,1,0,0]), label='Pb')\n",
    "plt.plot(*mixture.get_powder_cross_section(weights=[0,0,0,0,1,0]), label='Ni')\n",
    "plt.plot(*mixture.get_powder_cross_section(weights=[0,0,0,0,0,1]), label='Ti')\n",
    "plt.legend()"
   ]
  },
  {
   "cell_type": "code",
   "execution_count": 491,
   "metadata": {
    "ExecuteTime": {
     "end_time": "2019-10-31T21:18:58.033001Z",
     "start_time": "2019-10-31T21:18:58.025607Z"
    }
   },
   "outputs": [],
   "source": [
    "class MixtureMinimizer(Minimizer):\n",
    "    def __init__(self, mixture, wavelengths, target_data):\n",
    "        self.mixture = mixture\n",
    "        self.target_data = target_data\n",
    "        self.parameters = lmfit.Parameters()\n",
    "        self.results = []\n",
    "        for i, weight in enumerate(mixture.weights):\n",
    "            self.parameters.add('w{:02d}'.format(i), value=weight, min=0, max=5)\n",
    "            \n",
    "    def objective_function(self, parameters):\n",
    "        xsections = self.mixture.get_powder_cross_section(weights=parameters.valuesdict().values())\n",
    "        return self.target_data - xsections[1]\n",
    "\n",
    "        "
   ]
  },
  {
   "cell_type": "code",
   "execution_count": 492,
   "metadata": {
    "ExecuteTime": {
     "end_time": "2019-10-31T21:18:58.961367Z",
     "start_time": "2019-10-31T21:18:58.955480Z"
    }
   },
   "outputs": [],
   "source": [
    "mixminimizer = MixtureMinimizer(mixture, wavelengths, equal_mix)"
   ]
  },
  {
   "cell_type": "code",
   "execution_count": 493,
   "metadata": {
    "ExecuteTime": {
     "end_time": "2019-10-31T21:18:59.794271Z",
     "start_time": "2019-10-31T21:18:59.787070Z"
    }
   },
   "outputs": [
    {
     "data": {
      "text/html": [
       "<table><tr><th> name </th><th> value </th><th> initial value </th><th> min </th><th> max </th><th> vary </th></tr><tr><td> w00 </td><td>  1.6470e-10 </td><td> 1.6470104541977996e-10 </td><td>  0.00000000 </td><td>  5.00000000 </td><td> True </td></tr><tr><td> w01 </td><td>  1.9776e-11 </td><td> 1.9776476501459993e-11 </td><td>  0.00000000 </td><td>  5.00000000 </td><td> True </td></tr><tr><td> w02 </td><td>  3.9170e-11 </td><td> 3.917042372701999e-11 </td><td>  0.00000000 </td><td>  5.00000000 </td><td> True </td></tr><tr><td> w03 </td><td>  1.2336e-13 </td><td> 1.2336329928966673e-13 </td><td>  0.00000000 </td><td>  5.00000000 </td><td> True </td></tr><tr><td> w04 </td><td>  0.13182386 </td><td> 0.13182385556837461 </td><td>  0.00000000 </td><td>  5.00000000 </td><td> True </td></tr><tr><td> w05 </td><td>  0.86817614 </td><td> 0.8681761442078542 </td><td>  0.00000000 </td><td>  5.00000000 </td><td> True </td></tr></table>"
      ],
      "text/plain": [
       "Parameters([('w00', <Parameter 'w00', 1.6470104541977996e-10, bounds=[0:5]>),\n",
       "            ('w01', <Parameter 'w01', 1.9776476501459993e-11, bounds=[0:5]>),\n",
       "            ('w02', <Parameter 'w02', 3.917042372701999e-11, bounds=[0:5]>),\n",
       "            ('w03', <Parameter 'w03', 1.2336329928966673e-13, bounds=[0:5]>),\n",
       "            ('w04', <Parameter 'w04', 0.13182385556837461, bounds=[0:5]>),\n",
       "            ('w05', <Parameter 'w05', 0.8681761442078542, bounds=[0:5]>)])"
      ]
     },
     "execution_count": 493,
     "metadata": {},
     "output_type": "execute_result"
    }
   ],
   "source": [
    "mixminimizer.parameters"
   ]
  },
  {
   "cell_type": "code",
   "execution_count": 494,
   "metadata": {
    "ExecuteTime": {
     "end_time": "2019-10-31T21:19:31.111694Z",
     "start_time": "2019-10-31T21:19:02.049834Z"
    }
   },
   "outputs": [
    {
     "name": "stdout",
     "output_type": "stream",
     "text": [
      "  1: w00 = 1.6470103059162966e-10,  w01 = 1.9776402737647913e-11,  w02 = 3.917033364331246e-11,  w03 = 1.2323475573339238e-13,  w04 = 0.13182385556837456,  w05 = 0.8681761442078542\n",
      "  2: w00 = 0.0077043017486658205,  w01 = 1.9776402737647913e-11,  w02 = 3.917033364331246e-11,  w03 = 1.2323475573339238e-13,  w04 = 0.13182385556837456,  w05 = 0.8681761442078542\n",
      "  3: w00 = 1.6470103059162966e-10,  w01 = 0.0077058464864548926,  w02 = 3.917033364331246e-11,  w03 = 1.2323475573339238e-13,  w04 = 0.13182385556837456,  w05 = 0.8681761442078542\n",
      "  4: w00 = 1.6470103059162966e-10,  w01 = 1.9776402737647913e-11,  w02 = 0.007705512798031888,  w03 = 1.2323475573339238e-13,  w04 = 0.13182385556837456,  w05 = 0.8681761442078542\n",
      "  5: w00 = 1.6470103059162966e-10,  w01 = 1.9776402737647913e-11,  w02 = 3.917033364331246e-11,  w03 = 0.007706601000093682,  w04 = 0.13182385556837456,  w05 = 0.8681761442078542\n",
      "  6: w00 = 1.6470103059162966e-10,  w01 = 1.9776402737647913e-11,  w02 = 3.917033364331246e-11,  w03 = 1.2323475573339238e-13,  w04 = 0.08658807073343988,  w05 = 0.8681761442078542\n",
      "  7: w00 = 1.6470103059162966e-10,  w01 = 1.9776402737647913e-11,  w02 = 3.917033364331246e-11,  w03 = 1.2323475573339238e-13,  w04 = 0.13182385556837456,  w05 = 0.8018737895927303\n",
      "  8: w00 = 0.0008559240172700822,  w01 = 0.0008564229410759627,  w02 = 0.000856315157360954,  w03 = 0.0008566666707163217,  w04 = 0.186227726582901,  w05 = 0.8458419271998441\n",
      "  9: w00 = 5.335740453055182e-05,  w01 = 5.3480505947389734e-05,  w02 = 5.345390307720521e-05,  w03 = 5.354068083190944e-05,  w04 = 0.10804816660821837,  w05 = 0.8625709737730586\n",
      " 10: w00 = 0.0010045797706809134,  w01 = 0.0072853909456027655,  w02 = 0.0010050040868880838,  w03 = 0.0010053854090003034,  w04 = 0.12364271268827665,  w05 = 0.843991189551036\n",
      " 20: w00 = 0.00022958371182268955,  w01 = 0.0013764031489332806,  w02 = 0.00032843696887302487,  w03 = 0.00018210886997271913,  w04 = 0.12748168534821191,  w05 = 0.841342666193027\n",
      " 30: w00 = 0.00024101860958802845,  w01 = 4.2103223209799534e-05,  w02 = 0.00013881682003696882,  w03 = 7.553757007672246e-06,  w04 = 0.12750953131176662,  w05 = 0.8327634914201743\n",
      " 40: w00 = 8.43257745872239e-05,  w01 = 8.697795998435787e-06,  w02 = 0.00011202453083114516,  w03 = 2.897971324133941e-05,  w04 = 0.12984568093088122,  w05 = 0.8472896864846613\n",
      " 50: w00 = 9.979026180384487e-07,  w01 = 1.5862995824122983e-05,  w02 = 2.0435273584418212e-07,  w03 = 7.628048731833648e-06,  w04 = 0.12972290752507248,  w05 = 0.8589214877209441\n",
      " 60: w00 = 1.6965316637640449e-06,  w01 = 4.0145665375357353e-07,  w02 = 1.002419124124243e-05,  w03 = 2.584628949753309e-07,  w04 = 0.12954257313024353,  w05 = 0.8504716999582479\n",
      " 70: w00 = 4.057735272788854e-07,  w01 = 1.9950022023262903e-07,  w02 = 1.13250053779268e-06,  w03 = 4.67043636265263e-07,  w04 = 0.12909379991818487,  w05 = 0.8522077865857756\n",
      " 80: w00 = 3.3763077916804107e-07,  w01 = 4.122897859226704e-07,  w02 = 1.0094175773023295e-08,  w03 = 2.721663311389122e-08,  w04 = 0.12998877532259506,  w05 = 0.8548161678325881\n",
      " 90: w00 = 1.1054726883896748e-07,  w01 = 1.0823893142886121e-07,  w02 = 5.049718310168316e-07,  w03 = 5.002387393204799e-12,  w04 = 0.13065015964669774,  w05 = 0.8593454534730555\n",
      "100: w00 = 3.6832194239000415e-08,  w01 = 2.0473873929560682e-07,  w02 = 2.0222899466126876e-08,  w03 = 6.570148036733059e-09,  w04 = 0.13163247015680835,  w05 = 0.8682718291862888\n",
      "110: w00 = 5.85612391912349e-10,  w01 = 1.2257631576417793e-08,  w02 = 1.7495031534586758e-08,  w03 = 2.8289925957381e-10,  w04 = 0.13071502250597944,  w05 = 0.8609796061033848\n",
      "120: w00 = 9.17462772420663e-09,  w01 = 3.9196607071190215e-09,  w02 = 5.76005021457604e-09,  w03 = 1.3272311027989758e-08,  w04 = 0.1315475977215705,  w05 = 0.8668237233794357\n",
      "130: w00 = 7.943645741192995e-13,  w01 = 1.2227718837465318e-10,  w02 = 4.024676703018315e-09,  w03 = 7.298495141583317e-11,  w04 = 0.13123428307085433,  w05 = 0.8644234861674355\n",
      "140: w00 = 9.637596276590443e-11,  w01 = 3.4244829194562953e-12,  w02 = 5.790259938187603e-10,  w03 = 1.5014101073518304e-11,  w04 = 0.13114880724933248,  w05 = 0.8636757456468486\n",
      "150: w00 = 5.406908254457221e-10,  w01 = 6.206182789902925e-10,  w02 = 1.266481086670268e-09,  w03 = 6.506725713784078e-10,  w04 = 0.13120121359832454,  w05 = 0.8640852614743197\n",
      "160: w00 = 2.1712909248350343e-11,  w01 = 2.906441753935951e-10,  w02 = 2.2528201526483826e-10,  w03 = 4.780911777579888e-10,  w04 = 0.13150470780803336,  w05 = 0.8660733386974273\n",
      "170: w00 = 4.352046500954998e-11,  w01 = 1.4721557306529576e-12,  w02 = 1.5735635017222194e-10,  w03 = 1.5505235984036858e-10,  w04 = 0.13152449403594446,  w05 = 0.8662185324338043\n",
      "180: w00 = 1.942890293094024e-13,  w01 = 1.4738210651898953e-12,  w02 = 1.6768253452426052e-10,  w03 = 9.916789611708055e-12,  w04 = 0.13152036448278143,  w05 = 0.8661922895980314\n",
      "190: w00 = 8.491263248089354e-12,  w01 = 3.36952687973735e-13,  w02 = 1.2854162179110062e-11,  w03 = 8.223421943398534e-12,  w04 = 0.1315314888618424,  w05 = 0.8662589867201859\n",
      "200: w00 = 5.828670879282072e-12,  w01 = 1.338318345034395e-11,  w02 = 6.800116025829084e-14,  w03 = 2.531308496145357e-13,  w04 = 0.1315512226895843,  w05 = 0.8663854876936522\n",
      "210: w00 = 1.4960255256823984e-13,  w01 = 2.0483614804334138e-13,  w02 = 1.1574075031717257e-12,  w03 = 2.2065682614424986e-13,  w04 = 0.13148667558993937,  w05 = 0.8659623811132355\n",
      "\n",
      "Final result:\n",
      "\n",
      "[[Fit Statistics]]\n",
      "    # fitting method   = Nelder-Mead\n",
      "    # function evals   = 212\n",
      "    # data points      = 200\n",
      "    # variables        = 6\n",
      "    chi-square         = 1797.89192\n",
      "    reduced chi-square = 9.26748412\n",
      "    Akaike info crit   = 451.210547\n",
      "    Bayesian info crit = 471.000451\n",
      "##  Warning: uncertainties could not be estimated:\n",
      "    this fitting method does not natively calculate uncertainties\n",
      "    and numdifftools is not installed for lmfit to do this. Use\n",
      "    `pip install numdifftools` for lmfit to estimate uncertainties\n",
      "    with this fitting method.\n",
      "[[Variables]]\n",
      "    w00:  5.3291e-14 (init = 1.64701e-10)\n",
      "    w01:  3.8802e-13 (init = 1.977648e-11)\n",
      "    w02:  3.0920e-13 (init = 3.917042e-11)\n",
      "    w03:  3.9968e-13 (init = 1.233633e-13)\n",
      "    w04:  0.13149095 (init = 0.1318239)\n",
      "    w05:  0.86599047 (init = 0.8681761)\n",
      "None\n"
     ]
    },
    {
     "data": {
      "text/html": [
       "<h2>Fit Statistics</h2><table><tr><td>fitting method</td><td>Nelder-Mead</td><td></td></tr><tr><td># function evals</td><td>212</td><td></td></tr><tr><td># data points</td><td>200</td><td></td></tr><tr><td># variables</td><td>6</td><td></td></tr><tr><td>chi-square</td><td> 1797.89192</td><td></td></tr><tr><td>reduced chi-square</td><td> 9.26748412</td><td></td></tr><tr><td>Akaike info crit.</td><td> 451.210547</td><td></td></tr><tr><td>Bayesian info crit.</td><td> 471.000451</td><td></td></tr></table><h2>Variables</h2><table><tr><th> name </th><th> value </th><th> initial value </th><th> min </th><th> max </th><th> vary </th></tr><tr><td> w00 </td><td>  5.3291e-14 </td><td> 1.6470104541977996e-10 </td><td>  0.00000000 </td><td>  5.00000000 </td><td> True </td></tr><tr><td> w01 </td><td>  3.8802e-13 </td><td> 1.9776476501459993e-11 </td><td>  0.00000000 </td><td>  5.00000000 </td><td> True </td></tr><tr><td> w02 </td><td>  3.0920e-13 </td><td> 3.917042372701999e-11 </td><td>  0.00000000 </td><td>  5.00000000 </td><td> True </td></tr><tr><td> w03 </td><td>  3.9968e-13 </td><td> 1.2336329928966673e-13 </td><td>  0.00000000 </td><td>  5.00000000 </td><td> True </td></tr><tr><td> w04 </td><td>  0.13149095 </td><td> 0.13182385556837461 </td><td>  0.00000000 </td><td>  5.00000000 </td><td> True </td></tr><tr><td> w05 </td><td>  0.86599047 </td><td> 0.8681761442078542 </td><td>  0.00000000 </td><td>  5.00000000 </td><td> True </td></tr></table>"
      ],
      "text/plain": [
       "<lmfit.minimizer.MinimizerResult at 0x1a2c362e90>"
      ]
     },
     "execution_count": 494,
     "metadata": {},
     "output_type": "execute_result"
    }
   ],
   "source": [
    "mixminimizer.run()"
   ]
  }
 ],
 "metadata": {
  "kernelspec": {
   "display_name": "Python 3",
   "language": "python",
   "name": "python3"
  },
  "language_info": {
   "codemirror_mode": {
    "name": "ipython",
    "version": 3
   },
   "file_extension": ".py",
   "mimetype": "text/x-python",
   "name": "python",
   "nbconvert_exporter": "python",
   "pygments_lexer": "ipython3",
   "version": "3.7.5"
  },
  "toc": {
   "base_numbering": 1,
   "nav_menu": {},
   "number_sections": true,
   "sideBar": true,
   "skip_h1_title": true,
   "title_cell": "Table of Contents",
   "title_sidebar": "Contents",
   "toc_cell": true,
   "toc_position": {},
   "toc_section_display": true,
   "toc_window_display": true
  },
  "varInspector": {
   "cols": {
    "lenName": 16,
    "lenType": 16,
    "lenVar": 40
   },
   "kernels_config": {
    "python": {
     "delete_cmd_postfix": "",
     "delete_cmd_prefix": "del ",
     "library": "var_list.py",
     "varRefreshCmd": "print(var_dic_list())"
    },
    "r": {
     "delete_cmd_postfix": ") ",
     "delete_cmd_prefix": "rm(",
     "library": "var_list.r",
     "varRefreshCmd": "cat(var_dic_list()) "
    }
   },
   "types_to_exclude": [
    "module",
    "function",
    "builtin_function_or_method",
    "instance",
    "_Feature"
   ],
   "window_display": false
  }
 },
 "nbformat": 4,
 "nbformat_minor": 2
}
