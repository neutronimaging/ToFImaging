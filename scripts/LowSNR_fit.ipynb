{
 "cells": [
  {
   "cell_type": "markdown",
   "metadata": {},
   "source": [
    "# This notebook implements the routine for low SNR edge fitting\n",
    "\n",
    "        What it should be done:\n",
    "            - load source spectrum\n",
    "            - load material attenuation spectrum\n",
    "            - apply poisson noise according to flux, pixels, exposure time\n",
    "            - provide different fitting methods:\n",
    "                - S-G filter: smoothing of 1D signal\n",
    "                - 3D moving average convolution\n",
    "                - fit with weights by covariance found in space domain\n",
    "            - return metrics for assessing quality:\n",
    "                - RMSE"
   ]
  },
  {
   "cell_type": "code",
   "execution_count": null,
   "metadata": {
    "ExecuteTime": {
     "end_time": "2020-03-20T09:34:00.149375Z",
     "start_time": "2020-03-20T09:34:00.128711Z"
    }
   },
   "outputs": [],
   "source": [
    "import math \n",
    "import h5py \n",
    "import numpy as np\n",
    "import matplotlib.pyplot as plt\n",
    "from matplotlib.colors import LinearSegmentedColormap\n",
    "import scipy.io\n",
    "import scipy.signal\n",
    "import pylab as pl\n",
    "%matplotlib inline  \n",
    "#%matplotlib notebook\n",
    "\n",
    "import sys\n",
    "#sys.path.append('C:\\\\Users\\\\busi_m\\\\Workspace\\\\neutronimaging\\\\ToFImaging')\n",
    "sys.path.append('..')\n",
    "from toflib import srcs\n",
    "from toflib import mats\n",
    "from toflib import signpro\n",
    "from toflib import stats"
   ]
  },
  {
   "cell_type": "markdown",
   "metadata": {},
   "source": [
    "# Loading spectra"
   ]
  },
  {
   "cell_type": "code",
   "execution_count": null,
   "metadata": {
    "ExecuteTime": {
     "end_time": "2020-03-18T14:56:10.860505Z",
     "start_time": "2020-03-18T14:56:10.729019Z"
    }
   },
   "outputs": [],
   "source": [
    "ICON = srcs.ICON_spectrum()\n",
    "mu = mats.Fe_gamma()\n",
    "\n",
    "\n",
    "\n",
    "T=mu\n",
    "T[:,0] = mu[:,0]\n",
    "T[:,1] = np.exp(-mu[:,1])\n",
    "\n",
    "plt.plot(ICON[:,0],ICON[:,1])\n",
    "plt.plot(mu[:,0],mu[:,1])\n",
    "plt.plot(T[:,0],T[:,1])\n",
    "plt.show()\n",
    "plt.close()\n"
   ]
  },
  {
   "cell_type": "markdown",
   "metadata": {
    "ExecuteTime": {
     "end_time": "2020-03-17T12:17:32.735746Z",
     "start_time": "2020-03-17T12:17:32.732078Z"
    }
   },
   "source": [
    "# Apply Poisson noise"
   ]
  },
  {
   "cell_type": "code",
   "execution_count": null,
   "metadata": {
    "ExecuteTime": {
     "end_time": "2020-03-18T14:56:11.065938Z",
     "start_time": "2020-03-18T14:56:10.860505Z"
    }
   },
   "outputs": [],
   "source": [
    "fps = 1.7e8  # source flux n /s/cm^2\n",
    "exp_t = 60 * 10 * 1  # exposure time ( s * m * h)\n",
    "pixel_s = 0.0055 * 0.0055\n",
    "duty = 0.01\n",
    "flux = fps * exp_t * pixel_s * duty\n",
    "\n",
    "l = ICON[:,0]\n",
    "y0 = flux*ICON[:,1]\n",
    "T_int = np.interp(l, T[:, 0], T[:, 1])\n",
    "y = y0*T_int\n",
    "y0_n = np.random.poisson(y0)\n",
    "y_n = np.random.poisson(y)\n",
    "T_n = np.divide(y_n,y0_n)\n",
    "\n",
    "plt.plot(l,y0)\n",
    "plt.plot(l,y)\n",
    "plt.plot(l,y0_n)\n",
    "plt.plot(l,y_n)\n",
    "plt.show()\n",
    "plt.close()\n",
    "\n",
    "plt.plot(l,T_int)\n",
    "plt.plot(l,T_n)\n",
    "plt.show()\n",
    "plt.close()"
   ]
  },
  {
   "cell_type": "markdown",
   "metadata": {},
   "source": [
    "# Repeat for a flat panel detector (just 128x128 for speed)"
   ]
  },
  {
   "cell_type": "code",
   "execution_count": null,
   "metadata": {
    "ExecuteTime": {
     "end_time": "2020-03-18T14:56:11.982285Z",
     "start_time": "2020-03-18T14:56:11.066950Z"
    }
   },
   "outputs": [],
   "source": [
    "size = 128\n",
    "Y0 = np.tile(y0,(size,size,1))\n",
    "Y = np.tile(y0*T_int,(size,size,1))\n",
    "\n",
    "Y0_n = np.random.poisson(Y0)\n",
    "Y_n = np.random.poisson(Y)\n",
    "T_n = np.divide(Y_n,Y0_n)\n"
   ]
  },
  {
   "cell_type": "code",
   "execution_count": null,
   "metadata": {
    "ExecuteTime": {
     "end_time": "2020-03-18T14:56:12.206825Z",
     "start_time": "2020-03-18T14:56:11.982285Z"
    }
   },
   "outputs": [],
   "source": [
    "plt.plot(Y0[64,64])\n",
    "plt.plot(Y0[64,65])\n",
    "plt.plot(Y0[64,66])\n",
    "plt.show()\n",
    "plt.close()\n",
    "\n",
    "plt.plot(T_n[64,64])\n",
    "plt.plot(T_n[64,65])\n",
    "plt.plot(T_n[64,66])\n",
    "plt.show()\n",
    "plt.close()\n"
   ]
  },
  {
   "cell_type": "markdown",
   "metadata": {
    "ExecuteTime": {
     "end_time": "2020-03-17T14:30:19.678895Z",
     "start_time": "2020-03-17T14:30:19.674905Z"
    }
   },
   "source": [
    "# S-G filter - Savitzky–Golay filter - Standard 1D smoothing \n",
    "    Applied pixelwise to each spectrum. Example here is for one pixel.\n",
    "    Requires two parameters:\n",
    "        - Filtering window size\n",
    "        - Polynomial order"
   ]
  },
  {
   "cell_type": "code",
   "execution_count": null,
   "metadata": {
    "ExecuteTime": {
     "end_time": "2020-03-20T09:40:14.529109Z",
     "start_time": "2020-03-20T09:40:14.368880Z"
    }
   },
   "outputs": [],
   "source": [
    "window = 9\n",
    "order = 2 \n",
    "\n",
    "mu_n = T_n[int(size/2),int(size/2),:]\n",
    "mu_corr = signpro.savitzky_golay(mu_n,window,order)\n",
    "R = stats.rmse(mu_n,T_int)\n",
    "R_corr = stats.rmse(mu_corr,T_int)\n",
    "\n",
    "plt.plot(l,T_int)\n",
    "plt.plot(l,mu_n)\n",
    "plt.plot(l,mu_corr)\n",
    "plt.show()\n",
    "plt.close()\n",
    "\n",
    "print(\"R =\",R)\n",
    "print(\"R_corr =\",R_corr)\n",
    "print(\"Improvement = \",100*(R_corr-R)/R,\"%\")"
   ]
  },
  {
   "cell_type": "markdown",
   "metadata": {},
   "source": [
    "# Moving Average - Convolution with a kernel\n",
    "    In this approach we convolute the ToF frames with a convolution kernel which does the moving average.\n",
    "    Parameters:\n",
    "        - Dimension of the convolutional kernel: 1D, 2D, 3D\n",
    "        - Axis/axes of the kernel if it's 1D/2D\n",
    "        - Size of the convolutional kernel (along the three axes)\n",
    "        - Kernel shape:\n",
    "            - Matrix of ones (arithmetic average)\n",
    "            - Triangular matrix (give more weight to the central pixel)\n",
    "            - Gaussian matrix (give more weight to the central pixel)\n",
    "        \n",
    "       "
   ]
  },
  {
   "cell_type": "code",
   "execution_count": null,
   "metadata": {
    "ExecuteTime": {
     "end_time": "2020-03-18T15:01:09.897739Z",
     "start_time": "2020-03-18T15:01:07.430615Z"
    }
   },
   "outputs": [],
   "source": [
    "#dim = 2\n",
    "Ksize = 3\n",
    "K1 = np.ones((Ksize,Ksize))\n",
    "K1 = K1/np.sum(K1)\n",
    "Y0_c = np.zeros((int(np.shape(Y0)[0]),int(np.shape(Y0)[1]),int(np.shape(Y0)[2])))\n",
    "Y_c = np.zeros((int(np.shape(Y0)[0]),int(np.shape(Y0)[1]),int(np.shape(Y0)[2])))\n",
    "T_c_dir = np.zeros((int(np.shape(Y0)[0]),int(np.shape(Y0)[1]),int(np.shape(Y0)[2])))\n",
    "for i in range(0,int(np.shape(Y0)[2]),1):\n",
    "    Y0_c[:,:,i] = scipy.signal.convolve2d(Y0[:,:,i],K1,'same')\n",
    "    Y_c[:,:,i] = scipy.signal.convolve2d(Y[:,:,i],K1,'same')\n",
    "    T_c_dir[:,:,i] = scipy.signal.convolve2d(T_n[:,:,i],K1,'same')\n",
    "T_c = np.divide(Y_c,Y0_c)\n",
    "\n",
    "T0 = T_n[64,64]\n",
    "T1 = T_c[64,64]\n",
    "T2 = T_c_dir[64,64]\n",
    "\n",
    "R0 = stats.rmse(T_int,T0)\n",
    "R1 = stats.rmse(T_int,T1)\n",
    "R2 = stats.rmse(T_int,T2)\n",
    "\n",
    "plt.plot(l,T_int)\n",
    "plt.plot(l,T0)\n",
    "plt.plot(l,T1)\n",
    "plt.plot(l,T2)\n",
    "plt.show()\n",
    "plt.close()\n",
    "\n",
    "print(\"R =\",R0)\n",
    "print(\"R1 =\",R1)\n",
    "print(\"Improvement = \",100*(R1-R0)/R0,\"%\")\n",
    "print(\"R2 =\",R2)\n",
    "print(\"Improvement = \",100*(R2-R0)/R0,\"%\")"
   ]
  }
 ],
 "metadata": {
  "kernelspec": {
   "display_name": "Python 3",
   "language": "python",
   "name": "python3"
  },
  "language_info": {
   "codemirror_mode": {
    "name": "ipython",
    "version": 3
   },
   "file_extension": ".py",
   "mimetype": "text/x-python",
   "name": "python",
   "nbconvert_exporter": "python",
   "pygments_lexer": "ipython3",
   "version": "3.7.4"
  },
  "toc": {
   "base_numbering": 1,
   "nav_menu": {},
   "number_sections": true,
   "sideBar": true,
   "skip_h1_title": false,
   "title_cell": "Table of Contents",
   "title_sidebar": "Contents",
   "toc_cell": false,
   "toc_position": {},
   "toc_section_display": true,
   "toc_window_display": false
  },
  "varInspector": {
   "cols": {
    "lenName": 16,
    "lenType": 16,
    "lenVar": 40
   },
   "kernels_config": {
    "python": {
     "delete_cmd_postfix": "",
     "delete_cmd_prefix": "del ",
     "library": "var_list.py",
     "varRefreshCmd": "print(var_dic_list())"
    },
    "r": {
     "delete_cmd_postfix": ") ",
     "delete_cmd_prefix": "rm(",
     "library": "var_list.r",
     "varRefreshCmd": "cat(var_dic_list()) "
    }
   },
   "position": {
    "height": "387.85px",
    "left": "1812px",
    "right": "20px",
    "top": "83px",
    "width": "350px"
   },
   "types_to_exclude": [
    "module",
    "function",
    "builtin_function_or_method",
    "instance",
    "_Feature"
   ],
   "window_display": false
  }
 },
 "nbformat": 4,
 "nbformat_minor": 2
}
