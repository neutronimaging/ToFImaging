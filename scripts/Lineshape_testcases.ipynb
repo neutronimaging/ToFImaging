{
 "cells": [
  {
   "cell_type": "markdown",
   "metadata": {},
   "source": [
    "# In this notebook I produce test cases for different lineshape to be used as tests in the C++ implementation"
   ]
  },
  {
   "cell_type": "code",
   "execution_count": null,
   "metadata": {},
   "outputs": [],
   "source": [
    "import numpy as np\n",
    "import pandas as pd\n",
    "\n",
    "import matplotlib\n",
    "import matplotlib.pyplot as plt\n",
    "import AdvancedBraggEdgeFitting_v2\n",
    "from scipy.stats import norm\n",
    "from lmfit import Model\n",
    "import lmfit\n",
    "\n",
    "from TOF_routines import tof2l, l2tof, find_first, find_last, find_nearest, savitzky_golay\n",
    "from AdvancedBraggEdgeFitting_v2 import running_mean\n",
    "from scipy.optimize import curve_fit\n",
    "\n",
    "%matplotlib notebook"
   ]
  },
  {
   "cell_type": "markdown",
   "metadata": {},
   "source": [
    "## Load the test data, this is the main Bragg edge of the iron powder sample used for calibration of the IMAT experiment "
   ]
  },
  {
   "cell_type": "code",
   "execution_count": null,
   "metadata": {},
   "outputs": [],
   "source": [
    "x = np.loadtxt('../UnitTests/test_data/x.txt') # x axis, here in TOF\n",
    "y = np.loadtxt('../UnitTests/test_data/y.txt') # y axis, here in transmission\n",
    "l = tof2l(x,0,0,55) # this is fictional to produce the results \n",
    "\n",
    "plt.figure()\n",
    "plt.plot(x,y)\n",
    "plt.xlabel('TOF [s]')\n",
    "plt.ylabel('Transmission [I/$I_{0}$]')\n",
    "\n",
    "logy = -np.log(y)\n",
    "plt.figure()\n",
    "plt.plot(x,logy)\n",
    "plt.xlabel('TOF [s]')\n",
    "plt.ylabel('Attenuation -log(I/$I_{0}$)')\n",
    "np.savetxt('../UnitTests/test_data/logy.txt',logy)"
   ]
  },
  {
   "cell_type": "markdown",
   "metadata": {},
   "source": [
    "## First produced case in the transmission and exponential function (default) \n",
    "To be tested are:\n",
    "1. initial edge shape computed with the initial parameters\n",
    "2. fitted parameters"
   ]
  },
  {
   "cell_type": "code",
   "execution_count": null,
   "metadata": {},
   "outputs": [],
   "source": [
    "\n",
    "# initial parameters (these are taken from the initial steps in AdvancedBraggEdgeFitting)\n",
    "t0=0.056568\n",
    "alpha=0.0015\n",
    "sigma=0.0001\n",
    "a1=0.315462\n",
    "a2=5.3447841\n",
    "a5=-0.4700811\n",
    "a6=26.92982514130\n",
    "\n",
    "mymodel_ini=AdvancedBraggEdgeFitting_v2.BraggEdgeExponential(x,t0,alpha,sigma,a1,a2,a5,a6,True)\n",
    "myedge = AdvancedBraggEdgeFitting_v2.B(x,t0,alpha,sigma,True)\n",
    "\n",
    "term3 = AdvancedBraggEdgeFitting_v2.term3(x,t0,sigma)\n",
    "term4 = AdvancedBraggEdgeFitting_v2.term4(x,t0,alpha,sigma)\n",
    "term5 = AdvancedBraggEdgeFitting_v2.term5(x,t0,alpha,sigma)\n",
    "\n",
    "gmodel = Model(AdvancedBraggEdgeFitting_v2.BraggEdgeExponential)\n",
    "\n",
    "# This by passes the implementation of BraggEdgeFitting which is iterative and makes some steps\n",
    "params = gmodel.make_params(t0=t0,sigma=sigma, alpha=alpha, a1=a1, a2=a2, a5=a5, a6=a6)\n",
    "params['bool_transmission'].vary = False\n",
    "\n",
    "\n",
    "result = gmodel.fit(y, params, t=x, nan_policy='propagate')\n",
    "print(result.fit_report())\n",
    "\n",
    "plt.figure()\n",
    "plt.plot(x,mymodel_ini) # Initial model\n",
    "plt.plot(x,y) # Data\n",
    "plt.plot(x, result.best_fit) # Best fit\n",
    "\n",
    "# np.savetxt('../test_data/x.txt',x)\n",
    "# np.savetxt('../test_data/y.txt',y)\n",
    "\n",
    "## This possibly I don't need\n",
    "# np.savetxt('../test_data/edge.txt', myedge) # This is just the edge shape, without the stuff before and after\n",
    "# np.savetxt('../test_data/term3.txt', term3)\n",
    "# np.savetxt('../test_data/term4.txt', term4)\n",
    "# np.savetxt('../test_data/term5.txt', term5)\n",
    "np.savetxt('../UnitTests/test_data/ini_model_Texp.txt', mymodel_ini)"
   ]
  },
  {
   "cell_type": "markdown",
   "metadata": {},
   "source": [
    "## The second test case is Transmission and linear function before and after the edge "
   ]
  },
  {
   "cell_type": "code",
   "execution_count": null,
   "metadata": {},
   "outputs": [],
   "source": [
    "t0=0.056568\n",
    "alpha=0.0015\n",
    "sigma=0.0001\n",
    "\n",
    "# I have to recompute the linear parameters, because the linear formulation is a bit different from the exponentials..\n",
    "est_pos = find_nearest(t0,x)\n",
    "x_before= x[0:est_pos]\n",
    "bragg_before=y[0:est_pos]\n",
    "x_after= x[est_pos+int(est_pos*0.2):-1]\n",
    "bragg_after=y[est_pos+int(est_pos*0.2):-1]\n",
    "\n",
    "# plt.figure()\n",
    "# plt.plot(x_before, bragg_before)\n",
    "# plt.plot(x_after, bragg_after)\n",
    "\n",
    "[slope_before, interception_before] = np.polyfit(x_before, bragg_before, 1)\n",
    "[slope_after, interception_after] = np.polyfit(x_after, bragg_after, 1)\n",
    "#first guess of paramters\n",
    "a2=slope_after\n",
    "a5=interception_before\n",
    "a6=slope_before\n",
    "a1=interception_after\n",
    "\n",
    "print(a1,a2,a5,a6)\n",
    "\n",
    "\n",
    "mymodel_ini=AdvancedBraggEdgeFitting_v2.BraggEdgeLinear(x,t0,alpha,sigma,a1,a2,a5,a6,True)\n",
    "\n",
    "np.savetxt('../UnitTests/test_data/ini_model_Tlin.txt', mymodel_ini)\n",
    "\n",
    "plt.figure()\n",
    "plt.plot(x,y)\n",
    "plt.plot(x, mymodel_ini)\n",
    "\n",
    "gmodel = Model(AdvancedBraggEdgeFitting_v2.BraggEdgeLinear)\n",
    "params = gmodel.make_params(t0=t0,sigma=sigma, alpha=alpha, a1=a1, a2=a2, a5=a5, a6=a6, bool_transmission=True)\n",
    "params['bool_transmission'].vary = False\n",
    "result = gmodel.fit(y, params, t=x, nan_policy='propagate')\n",
    "print(result.fit_report())\n",
    "plt.plot(x, result.best_fit) # Best fit\n"
   ]
  },
  {
   "cell_type": "markdown",
   "metadata": {},
   "source": [
    "## The third case is the gaussian of the gradient \n",
    "but first I will have to implement some sort of averaging in C++"
   ]
  },
  {
   "cell_type": "code",
   "execution_count": null,
   "metadata": {},
   "outputs": [],
   "source": [
    "def gaussian(x, amp, cen, wid):\n",
    "    return amp * np.exp(-(x-cen)**2 / wid)"
   ]
  },
  {
   "cell_type": "code",
   "execution_count": null,
   "metadata": {},
   "outputs": [],
   "source": [
    "#Initial parameters\n",
    "height = 500\n",
    "t0=0.056568\n",
    "sigma=0.0001\n",
    "\n",
    "averaged = savitzky_golay(y, 31, 5)\n",
    "# averaged = y\n",
    "mygradient = np.gradient(averaged,x)\n",
    "print(np.shape(mygradient), np.shape(y))\n",
    "\n",
    "plt.figure()\n",
    "plt.plot(l,y)\n",
    "plt.xlabel('$\\lambda$[$\\AA$]', fontsize=14)\n",
    "plt.ylabel('Transmission I/I$_{0}$', fontsize=14)\n",
    "plt.title('Measured data', fontsize=16)\n",
    "plt.savefig('meas_data.pdf')\n",
    "\n",
    "plt.figure()\n",
    "plt.plot(l,y)\n",
    "plt.plot(l,averaged)\n",
    "plt.xlabel('$\\lambda$[$\\AA$]', fontsize=14)\n",
    "plt.ylabel('Transmission I/I$_{0}$', fontsize=14)\n",
    "plt.title('Smoothed data', fontsize=16)\n",
    "plt.savefig('smooth_data.pdf')\n",
    "\n",
    "\n",
    "np.savetxt('../UnitTests/test_data/smoothed_edge.txt', averaged)\n",
    "\n",
    "# %matplotlib notebook\n",
    "plt.figure()\n",
    "plt.plot(l,mygradient)\n",
    "plt.xlabel('$\\lambda$[$\\AA$]', fontsize=14)\n",
    "plt.ylabel('Gradient of transmission I/I$_{0}$', fontsize=14)\n",
    "plt.title('Numerical gradient', fontsize=16)\n",
    "plt.savefig('gradient_data.pdf')\n",
    "\n",
    "\n",
    "np.savetxt('../UnitTests/test_data/gradient.txt', mygradient)\n",
    "\n",
    "gmodel = Model(gaussian)\n",
    "params = gmodel.make_params(cen=t0, amp=500, wid=0.0001)\n",
    "# y_eval = gmodel.eval(params, x=x)\n",
    "\n",
    "# plt.plot(x,y_eval)\n",
    "ini_gauss = gaussian(x,height, t0, sigma)\n",
    "np.savetxt('../UnitTests/test_data/ini_gauss.txt', ini_gauss)\n",
    "\n",
    "best_vals, covar = curve_fit(gaussian, x, mygradient)\n",
    "print(best_vals)\n",
    "gaus_fit = gaussian(x,best_vals[0], best_vals[1], best_vals[2])\n",
    "\n",
    "plt.figure()\n",
    "ax = plt.subplot(111)\n",
    "plt.plot(l,mygradient,alpha=0.8, label='numerical gradient')\n",
    "plt.plot(l,gaus_fit, color='r',label='gaussian fit')\n",
    "plt.plot(l, ini_gauss,color='g', alpha=0.9, label='first guess for fitting')\n",
    "# computed ini_gauss\n",
    "myini_gauss = height*np.exp(-(x-t0)**2/(sigma**2))\n",
    "# plt.plot(x, myini_gauss)\n",
    "                     \n",
    "result = gmodel.fit(mygradient, params, x=x)\n",
    "print(result.fit_report())\n",
    "\n",
    "# plt.plot(l, result.best_fit) # Best fit\n",
    "\n",
    "plt.xlabel('$\\lambda$[$\\AA$]', fontsize=14)\n",
    "plt.ylabel('Gradient of transmission I/I$_{0}$', fontsize=14)\n",
    "plt.title('Numerical gradient', fontsize=16)\n",
    "lg1 = ax.legend(loc='center left', bbox_to_anchor=(1, 0.5))\n",
    "plt.savefig('gaussfit_data.pdf',bbox_extra_artist=(lg1), bbox_inches='tight')\n",
    "\n",
    "plt.figure()\n",
    "plt.plot(l,y,label='measured data')\n",
    "plt.plot(l,0.2+0.0005*mygradient,color='gray',alpha=0.9, label='numerical gradient')\n",
    "plt.plot(l,0.2+0.0005*gaus_fit, color='r',alpha=0.6,label='gaussian fit')\n",
    "plt.xlabel('$\\lambda$[$\\AA$]', fontsize=14)\n",
    "plt.ylabel('Transmission I/I$_{0}$', fontsize=14)\n",
    "plt.savefig('edge_gradient.pdf')\n",
    "\n"
   ]
  },
  {
   "cell_type": "markdown",
   "metadata": {},
   "source": [
    "amp:  706.346498 +/- 8.90919586 (1.26%) (init = 500)\n",
    "cen:  0.05793304 +/- 2.2146e-06 (0.00%) (init = 0.056568)\n",
    "wid:  4.6231e-08 +/- 1.3469e-09 (2.91%) (init = 0.0001)"
   ]
  },
  {
   "cell_type": "code",
   "execution_count": null,
   "metadata": {},
   "outputs": [],
   "source": [
    "b = 4.6231e-08\n",
    "amp = A*0.5*np.sqrt(np.pi)*np.sqrt(b)\n",
    "print(amp) # it is not correct..!\n"
   ]
  },
  {
   "cell_type": "markdown",
   "metadata": {},
   "source": [
    "## The fourth case is the Bragg edge model in attenuation and exponential functions \n",
    "This I don't foresee it will be really used"
   ]
  },
  {
   "cell_type": "code",
   "execution_count": null,
   "metadata": {},
   "outputs": [],
   "source": [
    "# This is actually to FIX!! in the actual formulation\n",
    "\n",
    "t0=0.056568\n",
    "alpha=0.0015\n",
    "sigma=0.0001\n",
    "\n",
    "est_pos = find_nearest(t0,x)\n",
    "x_before= x[0:est_pos]\n",
    "bragg_before=logy[0:est_pos]\n",
    "x_after= x[est_pos+int(est_pos*0.4):-1]\n",
    "bragg_after=logy[est_pos+int(est_pos*0.4):-1]\n",
    "\n",
    "plt.figure()\n",
    "plt.plot(x_before, bragg_before)\n",
    "plt.plot(x_after, bragg_after)\n",
    "\n",
    "[slope_before, interception_before] = np.polyfit(x_before, bragg_before, 1)\n",
    "[slope_after, interception_after] = np.polyfit(x_after, bragg_after, 1)\n",
    "#first guess of parameters\n",
    "a2=slope_after\n",
    "a5=interception_before\n",
    "a6=slope_before\n",
    "a1=interception_after\n",
    "\n",
    "exp_model_before = Model(AdvancedBraggEdgeFitting_v2.exp_before)\n",
    "params = exp_model_before.make_params(a5=a5, a6=a6)\n",
    "result_exp_model_before = exp_model_before.fit(bragg_before,params,t=x_before)\n",
    "a5=result_exp_model_before.best_values.get('a5')\n",
    "a6=result_exp_model_before.best_values.get('a6')\n",
    "\n",
    "exp_model_after = Model(AdvancedBraggEdgeFitting_v2.exp_combined)\n",
    "params = exp_model_after.make_params(a1=a1, a2=a2, a5=a5, a6=a6)\n",
    "params['a5'].vary = False\n",
    "params['a6'].vary = False\n",
    "result_exp_model_after = exp_model_after.fit(bragg_after,params,t=x_after)\n",
    "a1=result_exp_model_after.best_values.get('a1')\n",
    "a2=result_exp_model_after.best_values.get('a2')\n",
    "\n",
    "print(a1,a2,a5,a6)\n",
    "\n",
    "\n",
    "\n",
    "\n",
    "\n",
    "mymodel_ini=AdvancedBraggEdgeFitting_v2.BraggEdgeExponential_Attenuation(x,t0,alpha,sigma,a1,a2,a5,a6,False) ## This is very weird\n",
    "myedge = AdvancedBraggEdgeFitting_v2.B(x,t0,alpha,sigma,False)\n",
    "\n",
    "\n",
    "plt.figure()\n",
    "plt.plot(x,myedge)\n",
    "plt.plot(x,mymodel_ini)\n",
    "plt.plot(x,logy)\n",
    "plt.plot(x,interception_before+slope_before*x,'--r', label='fitted line before')\n",
    "plt.plot(x,interception_after+slope_after*x,'--g', label='fitted line after')\n",
    "plt.plot(x,AdvancedBraggEdgeFitting_v2.exp_before(x,a5,a6),'r', label='fitted exp after')\n",
    "plt.plot(x,AdvancedBraggEdgeFitting_v2.exp_combined(x,a1,a2,a5,a6),'g', label='fitted exp combined')\n",
    "\n",
    "gmodel = Model(AdvancedBraggEdgeFitting_v2.BraggEdgeExponential_Attenuation)\n",
    "\n",
    "# This by passes the implementation of BraggEdgeFitting which is iterative and makes some steps\n",
    "params = gmodel.make_params(t0=t0,sigma=sigma, alpha=alpha, a1=a1, a2=a2, a5=a5, a6=a6, bool_transmission=False)\n",
    "params['bool_transmission'].vary = False\n",
    "\n",
    "first_guess = gmodel.eval(params, t=x)\n",
    "\n",
    "\n",
    "result = gmodel.fit(logy, params, t=x, nan_policy='propagate')\n",
    "print(result.fit_report())\n",
    "\n",
    "plt.figure()\n",
    "plt.plot(x,first_guess) # Initial model\n",
    "plt.plot(x,logy) # Data\n",
    "plt.plot(x, result.best_fit) # Best fit\n",
    "\n",
    "np.savetxt('../UnitTests/test_data/inimodel_Aexp.txt', mymodel_ini)"
   ]
  },
  {
   "cell_type": "markdown",
   "metadata": {},
   "source": [
    "# The fifth case is the Bragg edge model in attenuation and linear functions\n"
   ]
  },
  {
   "cell_type": "code",
   "execution_count": null,
   "metadata": {},
   "outputs": [],
   "source": [
    "t0=0.056568\n",
    "alpha=0.0015\n",
    "sigma=0.0001\n",
    "\n",
    "est_pos = find_nearest(t0,x)\n",
    "x_before= x[0:est_pos]\n",
    "bragg_before=logy[0:est_pos]\n",
    "x_after= x[est_pos+int(est_pos*0.2):-1]\n",
    "bragg_after=logy[est_pos+int(est_pos*0.2):-1]\n",
    "\n",
    "[slope_before, interception_before] = np.polyfit(x_before, bragg_before, 1)\n",
    "[slope_after, interception_after] = np.polyfit(x_after, bragg_after, 1)\n",
    "#first guess of paramters\n",
    "# a2 = slope_after\n",
    "# a5 = interception_before\n",
    "# a6 = slope_before\n",
    "# a1 = interception_after\n",
    "\n",
    "a6 = slope_after\n",
    "a1 = interception_before\n",
    "a2 = slope_before\n",
    "a5 = interception_after\n",
    "\n",
    "\n",
    "print(a1,a2,a5,a6)\n",
    "\n",
    "mymodel_ini=AdvancedBraggEdgeFitting_v2.BraggEdgeLinear(x,t0,alpha,sigma,a1,a2,a5,a6,False)\n",
    "myedge = AdvancedBraggEdgeFitting_v2.B(x,t0,alpha,sigma,False)\n",
    "\n",
    "plt.figure()\n",
    "plt.plot(myedge)\n",
    "plt.plot(mymodel_ini)\n",
    "\n",
    "gmodel = Model(AdvancedBraggEdgeFitting_v2.BraggEdgeLinear)\n",
    "\n",
    "# This by passes the implementation of BraggEdgeFitting which is iterative and makes some steps\n",
    "params = gmodel.make_params(t0=t0,sigma=sigma, alpha=alpha, a1=a1, a2=a2, a5=a5, a6=a6, bool_tranmission='False')\n",
    "params['bool_transmission'].vary = False\n",
    "\n",
    "\n",
    "result = gmodel.fit(logy, params, t=x, nan_policy='propagate')\n",
    "print(result.fit_report())\n",
    "\n",
    "plt.figure()\n",
    "plt.plot(x,mymodel_ini) # Initial model\n",
    "plt.plot(x,logy) # Data\n",
    "plt.plot(x, result.best_fit) # Best fit\n",
    "\n",
    "np.savetxt('../UnitTests/test_data/inimodel_Alinear.txt', mymodel_ini)"
   ]
  },
  {
   "cell_type": "markdown",
   "metadata": {},
   "source": [
    "## Here I produced the data that were used for testing the numerical gradient implementation "
   ]
  },
  {
   "cell_type": "code",
   "execution_count": null,
   "metadata": {},
   "outputs": [],
   "source": [
    "\n",
    "print(np.shape(x))\n",
    "print(x[1::100])\n",
    "print(y[1::100])\n",
    "print(np.gradient(y[1::100], x[1::100]))\n",
    "\n",
    "plt.figure()\n",
    "plt.plot(x[1::100], y[1::100])\n",
    "\n",
    "plt.figure()\n",
    "plt.plot(x[1::100], np.gradient(y[1::100]))"
   ]
  },
  {
   "cell_type": "markdown",
   "metadata": {},
   "source": [
    "## Here I test some method for edge height computation "
   ]
  },
  {
   "cell_type": "code",
   "execution_count": null,
   "metadata": {},
   "outputs": [],
   "source": [
    "plt.figure()\n",
    "plt.plot(x, result.best_fit)\n",
    "print(result.best_values.get('t0'))\n",
    "edge_point = result.best_values.get('t0')\n",
    "first_point = result.best_values.get('t0')-1.96*result.best_values.get('sigma')\n",
    "second_point = result.best_values.get('t0')+1.96*result.best_values.get('sigma')+5*result.best_values.get('alpha')\n",
    "plt.plot(first_point, result.best_fit[find_nearest(x,first_point)],'*')\n",
    "plt.plot(second_point, result.best_fit[find_nearest(x,second_point)],'*')\n",
    "plt.plot(edge_point, result.best_fit[find_nearest(x,edge_point)],'*')\n",
    "\n",
    "\n",
    "\n",
    "print(result.best_values.get('t0'), result.best_values.get('sigma'), result.best_values.get('alpha'))"
   ]
  },
  {
   "cell_type": "code",
   "execution_count": null,
   "metadata": {},
   "outputs": [],
   "source": [
    "plt.figure()\n",
    "plt.plot(x, np.gradient(result.best_fit))\n",
    "plt.plot(x, np.zeros(np.size(result.best_fit)))\n",
    "plt.plot(x[np.gradient(result.best_fit)==0], (np.gradient(result.best_fit)[np.gradient(result.best_fit)==0]))"
   ]
  },
  {
   "cell_type": "markdown",
   "metadata": {},
   "source": [
    "# Test cases for tof to lambda conversion\n"
   ]
  },
  {
   "cell_type": "code",
   "execution_count": null,
   "metadata": {},
   "outputs": [],
   "source": [
    "mylambda = np.genfromtxt('../UnitTests/test_data/lambda.txt',usecols=0)\n",
    "mytof = l2tof(mylambda,0,0,52)\n",
    "\n",
    "relambda = tof2l(mytof,0,0,52)\n",
    "\n",
    "np.savetxt('../UnitTests/test_data/tof.txt', mytof)"
   ]
  },
  {
   "cell_type": "code",
   "execution_count": null,
   "metadata": {},
   "outputs": [],
   "source": [
    "plt.figure()\n",
    "plt.plot(mytof, mylambda)\n",
    "\n",
    "plt.figure()\n",
    "plt.plot(mylambda, relambda)\n",
    "\n",
    "# print(mylambda==relambda)\n",
    "# print(mylambda)\n",
    "# print(relambda)\n",
    "print(len(mytof))"
   ]
  },
  {
   "cell_type": "markdown",
   "metadata": {},
   "source": [
    "# Test for finding closest point to an array"
   ]
  },
  {
   "cell_type": "code",
   "execution_count": null,
   "metadata": {},
   "outputs": [],
   "source": [
    "# print(mytof)\n",
    "print(t0)\n",
    "pos = find_nearest(mytof, t0)\n",
    "print(mytof[pos])\n",
    "print(pos)"
   ]
  },
  {
   "cell_type": "markdown",
   "metadata": {},
   "source": [
    "# Test case for computing exponential functions"
   ]
  },
  {
   "cell_type": "code",
   "execution_count": null,
   "metadata": {},
   "outputs": [],
   "source": []
  }
 ],
 "metadata": {
  "kernelspec": {
   "display_name": "Python 3",
   "language": "python",
   "name": "python3"
  },
  "language_info": {
   "codemirror_mode": {
    "name": "ipython",
    "version": 3
   },
   "file_extension": ".py",
   "mimetype": "text/x-python",
   "name": "python",
   "nbconvert_exporter": "python",
   "pygments_lexer": "ipython3",
   "version": "3.7.4"
  },
  "toc": {
   "base_numbering": 1,
   "nav_menu": {},
   "number_sections": true,
   "sideBar": true,
   "skip_h1_title": false,
   "title_cell": "Table of Contents",
   "title_sidebar": "Contents",
   "toc_cell": false,
   "toc_position": {},
   "toc_section_display": true,
   "toc_window_display": false
  },
  "varInspector": {
   "cols": {
    "lenName": 16,
    "lenType": 16,
    "lenVar": 40
   },
   "kernels_config": {
    "python": {
     "delete_cmd_postfix": "",
     "delete_cmd_prefix": "del ",
     "library": "var_list.py",
     "varRefreshCmd": "print(var_dic_list())"
    },
    "r": {
     "delete_cmd_postfix": ") ",
     "delete_cmd_prefix": "rm(",
     "library": "var_list.r",
     "varRefreshCmd": "cat(var_dic_list()) "
    }
   },
   "types_to_exclude": [
    "module",
    "function",
    "builtin_function_or_method",
    "instance",
    "_Feature"
   ],
   "window_display": false
  }
 },
 "nbformat": 4,
 "nbformat_minor": 2
}
