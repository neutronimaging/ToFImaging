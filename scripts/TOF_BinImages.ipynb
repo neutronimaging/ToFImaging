{
 "cells": [
  {
   "cell_type": "markdown",
   "metadata": {},
   "source": [
    "# In this notebook binning is applied on TOF images, the weighted average scheme is tested first, then summing is applied\n",
    "\n",
    "each given folder is processed, the user should specify the desired number of bins in the parameter nBins"
   ]
  },
  {
   "cell_type": "code",
   "execution_count": null,
   "metadata": {},
   "outputs": [],
   "source": [
    "import numpy as np\n",
    "import matplotlib\n",
    "import matplotlib.pyplot as plt\n",
    "import pandas as pd\n",
    "from astropy.io import fits\n",
    "import os, fnmatch\n",
    "from os import listdir\n",
    "from scipy import ndimage\n",
    "#%matplotlib inline\n",
    "%matplotlib notebook"
   ]
  },
  {
   "cell_type": "code",
   "execution_count": null,
   "metadata": {},
   "outputs": [],
   "source": [
    "def weightedaverageimage(imgs,size) :\n",
    "    dims=imgs.shape\n",
    "    w=np.zeros(imgs.shape)\n",
    "    M=size**2\n",
    "    for i in np.arange(dims[2]) :\n",
    "        f=ndimage.filters.uniform_filter(imgs[:,:,i], size=size)*M\n",
    "        f2=ndimage.filters.uniform_filter(imgs[:,:,i]**2, size=size)*M\n",
    "        sigma=np.sqrt(1/(M-1)*(f2-(f**2)/M))\n",
    "        \n",
    "        w[:,:,i]=1.0/sigma\n",
    "        \n",
    "    wsum=w.sum(axis=2)\n",
    "    for i in np.arange(dims[2]) :\n",
    "        w[:,:,i]=w[:,:,i]/wsum\n",
    "        \n",
    "    imgs=w*imgs\n",
    "    img=imgs.sum(axis=2)\n",
    "    \n",
    "    return img"
   ]
  },
  {
   "cell_type": "code",
   "execution_count": null,
   "metadata": {},
   "outputs": [],
   "source": [
    "def sumimage(imgs):\n",
    "    summed_img=np.zeros((imgs.shape[0], imgs.shape[1]))\n",
    "    for i in range(imgs.shape[2]):\n",
    "        summed_img+=imgs[:,:,i]\n",
    "    return summed_img"
   ]
  },
  {
   "cell_type": "code",
   "execution_count": null,
   "metadata": {},
   "outputs": [],
   "source": [
    "def BinImages(pathdata,folder_output, nBins):\n",
    "    \n",
    "    if not os.path.exists(folder_output):\n",
    "        os.makedirs(folder_output)\n",
    "    \n",
    "    files = (sorted(fnmatch.filter(listdir(pathdata),'*.fits')))\n",
    "    nImagesPerBin = int((len(files)-1)/nBins)\n",
    "    for i in range(0, nBins):\n",
    "    #     imgs=[]\n",
    "        for j in range(0,nImagesPerBin):\n",
    "            names = pathdata + files[i*nImagesPerBin+j]\n",
    "    #         print(names)\n",
    "            with fits.open(names) as f:\n",
    "                if j==0:\n",
    "                    x_size = np.shape(f[0].data)[0]\n",
    "                    y_size = np.shape(f[0].data)[1]\n",
    "    #                 print(x_size, y_size, nImagesPerBin)\n",
    "                    imgs=np.zeros((x_size,y_size, nImagesPerBin))\n",
    "    #                 print(imgs.shape)\n",
    "                imgs[:,:,j] = f[0].data\n",
    "#         binned_img = weightedaverageimage(imgs,3)\n",
    "        binned_img = sumimage(imgs)\n",
    "        filename_output = 'IMAT_tomo_binned_'\n",
    "        filename=filename_output+str(i).zfill(5)\n",
    "        fits.writeto(folder_output+filename+'.fits',binned_img)\n",
    "\n",
    "\n"
   ]
  },
  {
   "cell_type": "code",
   "execution_count": null,
   "metadata": {},
   "outputs": [],
   "source": [
    "path_folders = \"/media/carminati_c/Elements/tremsin_correction/\"\n",
    "list_folders = sorted(fnmatch.filter(os.listdir(path_folders),'*_Corrected'))\n",
    "\n",
    "nBins = 165\n",
    "\n",
    "display(list_folders)\n",
    "\n",
    "for i in range(0, len(list_folders)):\n",
    "    folder_output = path_folders+list_folders[i]+'_Binned/'\n",
    "    folder_input = path_folders+list_folders[i]+'/'\n",
    "    print(folder_input, folder_output)\n",
    "    BinImages(folder_input, folder_output,nBins)"
   ]
  },
  {
   "cell_type": "code",
   "execution_count": null,
   "metadata": {},
   "outputs": [],
   "source": [
    "\n",
    "path_folders = \"D:/Kaestner/ISIS_IAEAData/RB1730044/PSI_Cylinder/Sample/RB1730044/Tomo_test/Sample/\"\n",
    "list_folders = sorted(fnmatch.filter(os.listdir(path_folders),'*_Corrected'))\n",
    "\n",
    "nBins = 165\n",
    "\n",
    "# display(list_folders)\n",
    "\n",
    "for i in range(0, len(list_folders)):\n",
    "    folder_output = path_folders+list_folders[i]+'_Binned/'\n",
    "    folder_input = path_folders+list_folders[i]+'/'\n",
    "    print(folder_input, folder_output)\n",
    "    BinImages(folder_input, folder_output,nBins)\n",
    "    "
   ]
  },
  {
   "cell_type": "code",
   "execution_count": null,
   "metadata": {},
   "outputs": [],
   "source": []
  }
 ],
 "metadata": {
  "kernelspec": {
   "display_name": "Python 3",
   "language": "python",
   "name": "python3"
  },
  "language_info": {
   "codemirror_mode": {
    "name": "ipython",
    "version": 3
   },
   "file_extension": ".py",
   "mimetype": "text/x-python",
   "name": "python",
   "nbconvert_exporter": "python",
   "pygments_lexer": "ipython3",
   "version": "3.7.4"
  },
  "toc": {
   "base_numbering": 1,
   "nav_menu": {},
   "number_sections": true,
   "sideBar": true,
   "skip_h1_title": false,
   "title_cell": "Table of Contents",
   "title_sidebar": "Contents",
   "toc_cell": false,
   "toc_position": {},
   "toc_section_display": true,
   "toc_window_display": false
  },
  "varInspector": {
   "cols": {
    "lenName": 16,
    "lenType": 16,
    "lenVar": 40
   },
   "kernels_config": {
    "python": {
     "delete_cmd_postfix": "",
     "delete_cmd_prefix": "del ",
     "library": "var_list.py",
     "varRefreshCmd": "print(var_dic_list())"
    },
    "r": {
     "delete_cmd_postfix": ") ",
     "delete_cmd_prefix": "rm(",
     "library": "var_list.r",
     "varRefreshCmd": "cat(var_dic_list()) "
    }
   },
   "types_to_exclude": [
    "module",
    "function",
    "builtin_function_or_method",
    "instance",
    "_Feature"
   ],
   "window_display": false
  }
 },
 "nbformat": 4,
 "nbformat_minor": 2
}
