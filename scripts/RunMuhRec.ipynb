{
 "cells": [
  {
   "cell_type": "markdown",
   "metadata": {},
   "source": [
    "# In this notebook MuhRec is called to reconstruct all time bins created by the TOF_BinImages\n",
    "\n",
    "### path to files and configuration parameters need to be updated to specific applications\n"
   ]
  },
  {
   "cell_type": "code",
   "execution_count": 1,
   "metadata": {},
   "outputs": [
    {
     "name": "stdout",
     "output_type": "stream",
     "text": [
      "Wall time: 5.41 s\n"
     ]
    }
   ],
   "source": [
    "import os\n",
    "import shutil\n",
    "from subprocess import call\n",
    "%matplotlib inline"
   ]
  },
  {
   "cell_type": "markdown",
   "metadata": {},
   "source": [
    "### Running MuhRec loading one ReconConfig file and changing the parameters at each iteration of the loop "
   ]
  },
  {
   "cell_type": "code",
   "execution_count": 1,
   "metadata": {},
   "outputs": [],
   "source": [
    "%%time\n",
    "\n",
    "\n",
    "#path to the projections\n",
    "projpath=r\"D:/Kaestner/ISIS_IAEAData/RB1730044/PSI_Cylinder/Sample/RB1730044/Tomo_test/Sample/\"\n",
    "\n",
    "#destination path\n",
    "destpath=r\"D:/Kaestner/ISIS_IAEAData/RB1730044/PSI_Cylinder/Sample/RB1730044/Tomo_test/CT_recon_binSum_165bin_update\" \n",
    "\n",
    "# path to the application\n",
    "muhrec=r\"C:/Users/carminati_c/muhrec/muhrecCLI.exe\"\n",
    "#path to the configuration file\n",
    "cfgpath=r\"D:/Kaestner/ISIS_IAEAData/RB1730044/PSI_Cylinder/Sample/RB1730044/Tomo_test/CT_recon_WhiteBeam_dose/ReconConfig.xml\"\n",
    "\n",
    "#parameters to be updated\n",
    "obfirstindex =\"projections:obfirstindex=2\"\n",
    "obcount =\"projections:obcount=2\"\n",
    "\n",
    "# first and last index of the iterations\n",
    "first_bin=0\n",
    "last_bin=165\n",
    "\n",
    "for i in range(first_bin, last_bin):\n",
    "    #further parameters to be updated at each iteration:\n",
    "    filemask =\"projections:filemask=D:/Kaestner/ISIS_IAEAData/RB1730044/PSI_Cylinder/Sample/RB1730044/Tomo_test/Sample/angle####_Corrected_Binned/IMAT_tomo_binned_\"+str(i).zfill(5)+\".fits\"\n",
    "    path = r\"/bin\"+str(i).zfill(4)\n",
    "    outputpath=\"matrix:path=\"+destpath+path\n",
    "    obmask =\"projections:obfilemask=D:/Kaestner/ISIS_IAEAData/RB1730015/Tomo_test_RB1730044/OpenBeam_aft#_Corrected_Binned/IMAT_tomo_binned_\"+str(i).zfill(5)+\".fits\"\n",
    "\n",
    "    #create ouput path if not already existing\n",
    "    if not os.path.exists(destpath+path):\n",
    "        os.makedirs(destpath+path)\n",
    "        \n",
    "    #call muhrec\n",
    "    call([muhrec, \"-f\", cfgpath, filemask, obmask, obfirstindex, obcount, outputpath])\n"
   ]
  },
  {
   "cell_type": "markdown",
   "metadata": {},
   "source": [
    "### Running MuhRec loading at each iteration a new ReconConfig file "
   ]
  },
  {
   "cell_type": "code",
   "execution_count": null,
   "metadata": {},
   "outputs": [],
   "source": [
    "%%time\n",
    "\n",
    "#path to the application\n",
    "muhrec=r\"C:/Users/carminati_c/muhrec/muhrecCLI.exe\"\n",
    "\n",
    "#index for the for loop iteration\n",
    "first_bin=0\n",
    "last_bin=165\n",
    "\n",
    "for i in range(first_bin, last_bin):\n",
    "    # i-th ReconConfig file\n",
    "    cfgpath=r\"D:/Kaestner/ISIS_IAEAData/RB1730044/PSI_Cylinder/Sample/RB1730044/Tomo_test/CT_configurations_BBconst_dose/ReconConfig_bin\"+str(i).zfill(4)+\".xml\"\n",
    "    print('Running: ...... ', cfgpath)\n",
    "    call([muhrec, \"-f\", cfgpath]) "
   ]
  }
 ],
 "metadata": {
  "kernelspec": {
   "display_name": "Python 3",
   "language": "python",
   "name": "python3"
  },
  "language_info": {
   "codemirror_mode": {
    "name": "ipython",
    "version": 3
   },
   "file_extension": ".py",
   "mimetype": "text/x-python",
   "name": "python",
   "nbconvert_exporter": "python",
   "pygments_lexer": "ipython3",
   "version": "3.7.1"
  }
 },
 "nbformat": 4,
 "nbformat_minor": 2
}
