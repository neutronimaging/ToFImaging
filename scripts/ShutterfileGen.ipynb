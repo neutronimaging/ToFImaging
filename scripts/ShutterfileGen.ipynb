{
 "cells": [
  {
   "cell_type": "markdown",
   "metadata": {},
   "source": [
    "# Notebook for generating shutterfiles\n",
    "## Setting inputs: length of flight path, t offset and repetition frequency\n",
    "## Inputs for the shutter file generation: number of windows, and, for each window, tof/wavelength start-end and bin size "
   ]
  },
  {
   "cell_type": "code",
   "execution_count": 3,
   "metadata": {},
   "outputs": [],
   "source": [
    "import numpy as np\n",
    "import matplotlib\n",
    "import matplotlib.pyplot as plt\n",
    "import os\n",
    "import csv\n",
    "import sys\n",
    "from TOF_routines import tof2l, l2tof\n",
    "\n",
    "%matplotlib inline"
   ]
  },
  {
   "cell_type": "code",
   "execution_count": 18,
   "metadata": {},
   "outputs": [],
   "source": [
    "L=56.4 #in meters\n",
    "t0=0.00 #in ms\n",
    "f=10 #in Hz\n",
    "t2overlap=1000/f #in ms"
   ]
  },
  {
   "cell_type": "code",
   "execution_count": 5,
   "metadata": {},
   "outputs": [
    {
     "name": "stdout",
     "output_type": "stream",
     "text": [
      "Enter the number of acquisition window: 4\n"
     ]
    }
   ],
   "source": [
    "# number of acquisition windows\n",
    "n_windows=input(\"Enter the number of acquisition window: \")\n",
    "\n"
   ]
  },
  {
   "cell_type": "code",
   "execution_count": 20,
   "metadata": {
    "scrolled": true
   },
   "outputs": [
    {
     "name": "stdout",
     "output_type": "stream",
     "text": [
      "[[14.25670251 34.92892115]\n",
      " [35.64175627 47.04711828]\n",
      " [47.75995341 65.58083154]\n",
      " [66.29366667 85.54021505]]\n"
     ]
    }
   ],
   "source": [
    "windows=np.zeros((int(n_windows),2))\n",
    "windows[0][0]=l2tof(1,t0,L)*1e+3 # in ms\n",
    "windows[0][1]=l2tof(2.45,t0,L)*1e+3\n",
    "\n",
    "windows[1][0]=l2tof(2.5,t0,L)*1e+3\n",
    "windows[1][1]=l2tof(3.3,t0,L)*1e+3\n",
    "\n",
    "windows[2][0]=l2tof(3.35,t0,L)*1e+3\n",
    "windows[2][1]=l2tof(4.6,t0,L)*1e+3\n",
    "\n",
    "windows[3][0]=l2tof(4.65,t0,L)*1e+3\n",
    "windows[3][1]=l2tof(6,t0,L)*1e+3\n",
    "\n",
    "print(windows)\n",
    "\n",
    "#windows[4][0]=22.34\n",
    "#windows[4][1]=36"
   ]
  },
  {
   "cell_type": "code",
   "execution_count": 21,
   "metadata": {
    "scrolled": true
   },
   "outputs": [
    {
     "name": "stdout",
     "output_type": "stream",
     "text": [
      "delta tof:\n",
      "[20.67221864 11.40536201 17.82087814 19.24654839]\n"
     ]
    }
   ],
   "source": [
    "# Windows durations\n",
    "delta_tof=windows[:,1]-windows[:,0]\n",
    "print(\"delta tof:\")\n",
    "print(delta_tof)"
   ]
  },
  {
   "cell_type": "code",
   "execution_count": 22,
   "metadata": {},
   "outputs": [
    {
     "name": "stdout",
     "output_type": "stream",
     "text": [
      "clock frequency:\n",
      "[1.00000000e+02 5.00000000e+01 2.50000000e+01 1.25000000e+01\n",
      " 6.25000000e+00 3.12500000e+00 1.56250000e+00 7.81250000e-01\n",
      " 3.90625000e-01 1.95312500e-01 9.76562500e-02 4.88281250e-02\n",
      " 2.44140625e-02 1.22070312e-02]\n",
      "clock time:\n",
      "[1.000e-05 2.000e-05 4.000e-05 8.000e-05 1.600e-04 3.200e-04 6.400e-04\n",
      " 1.280e-03 2.560e-03 5.120e-03 1.024e-02 2.048e-02 4.096e-02 8.192e-02]\n",
      "range covered:\n",
      "[1.18000e-01 2.36000e-01 4.72000e-01 9.44000e-01 1.88800e+00 3.77600e+00\n",
      " 7.55200e+00 1.51040e+01 3.02080e+01 6.04160e+01 1.20832e+02 2.41664e+02\n",
      " 4.83328e+02 9.66656e+02]\n"
     ]
    }
   ],
   "source": [
    "clock_frequency=np.zeros((14))\n",
    "clock_divider=np.zeros(int(n_windows))\n",
    "clock_time=np.zeros((14))\n",
    "for i in range (0,14):\n",
    "    clock_frequency[i]=100/(2**i)\n",
    "    clock_time[i]=0.00001*(2**i)\n",
    "    #clock_divider[i]=i\n",
    "range_covered=11800*clock_time\n",
    "print(\"clock frequency:\")\n",
    "print(clock_frequency)\n",
    "print(\"clock time:\")\n",
    "print(clock_time)\n",
    "#print(clock_divider)\n",
    "print(\"range covered:\")\n",
    "print(range_covered)\n"
   ]
  },
  {
   "cell_type": "code",
   "execution_count": 23,
   "metadata": {
    "scrolled": true
   },
   "outputs": [
    {
     "name": "stdout",
     "output_type": "stream",
     "text": [
      "clock divider:\n",
      "[8. 7. 8. 8.]\n"
     ]
    }
   ],
   "source": [
    "for i in range (0,int(n_windows)):\n",
    "    for j in range (0,14):\n",
    "            if delta_tof[i]<range_covered[j]:\n",
    "                clock_divider[i]=j\n",
    "                break\n",
    "print(\"clock divider:\")\n",
    "print(clock_divider)\n",
    "    "
   ]
  },
  {
   "cell_type": "code",
   "execution_count": 24,
   "metadata": {},
   "outputs": [
    {
     "data": {
      "text/plain": [
       "0.00256"
      ]
     },
     "execution_count": 24,
     "metadata": {},
     "output_type": "execute_result"
    }
   ],
   "source": [
    "clock_time[int(clock_divider[2])]"
   ]
  },
  {
   "cell_type": "code",
   "execution_count": 26,
   "metadata": {},
   "outputs": [
    {
     "name": "stdout",
     "output_type": "stream",
     "text": [
      "[40.96 20.48 20.48 40.96]\n"
     ]
    }
   ],
   "source": [
    "# Bin width. THIS IS AN INPUT\n",
    "bin_width=np.zeros(int(n_windows));\n",
    "        \n",
    "bin_width[0]=40.96\n",
    "bin_width[1]=20.48\n",
    "bin_width[2]=20.48\n",
    "bin_width[3]=40.96\n",
    "#bin_width[4]=40.96\n",
    "\n",
    "print(bin_width)"
   ]
  },
  {
   "cell_type": "code",
   "execution_count": 28,
   "metadata": {
    "scrolled": true
   },
   "outputs": [
    {
     "name": "stdout",
     "output_type": "stream",
     "text": [
      "[0.71283513 0.71283513 0.71283513]\n"
     ]
    }
   ],
   "source": [
    "# Shutter duration\n",
    "n_shutter=int(n_windows)-1\n",
    "duration=np.zeros((n_shutter))\n",
    "for i in range (0,n_shutter):\n",
    "    duration[i]=windows[i+1][0]-windows[i][1]\n",
    "print(duration)"
   ]
  },
  {
   "cell_type": "code",
   "execution_count": 29,
   "metadata": {},
   "outputs": [
    {
     "name": "stdout",
     "output_type": "stream",
     "text": [
      "[0.28730346 0.05746069 0.04288111 0.06178569]\n",
      "[0.11726672 0.04353083 0.03122864 0.04788391]\n"
     ]
    }
   ],
   "source": [
    "# Resolution calculation\n",
    "min_res=bin_width*0.001/windows[:,0]\n",
    "max_res=bin_width*0.001/windows[:,1]\n",
    "print(min_res*100)\n",
    "print(max_res*100)"
   ]
  },
  {
   "cell_type": "code",
   "execution_count": 30,
   "metadata": {},
   "outputs": [
    {
     "name": "stdout",
     "output_type": "stream",
     "text": [
      "Number of file produced: \n",
      "2403.0\n",
      "Number of fiels\n",
      "[505. 557. 871. 470.]\n"
     ]
    }
   ],
   "source": [
    "# calculation of the number of file and space needed\n",
    "no_file=np.ceil(delta_tof*1000/bin_width);\n",
    "tot_file=np.sum(no_file)\n",
    "print(\"Number of file produced: \")\n",
    "print(tot_file)\n",
    "print(\"Number of fiels\")\n",
    "print(no_file)"
   ]
  },
  {
   "cell_type": "code",
   "execution_count": 32,
   "metadata": {},
   "outputs": [],
   "source": [
    "#base_path = \"/path/to/directory/holding/file/\"\n",
    "filename = \"data/alpha.txt\"\n",
    "filename2= \"data/lambda.txt\"\n",
    "#path_to_file = os.path.join(base_path, filename)\n",
    "#fd = open(path_to_file , 'r')\n",
    "fp = open(filename , 'r')\n",
    "fp2 = open(filename2, 'r')\n",
    "#spectrum=csv.reader(fp, delimiter=\"\\t\")"
   ]
  },
  {
   "cell_type": "code",
   "execution_count": 33,
   "metadata": {},
   "outputs": [],
   "source": [
    "#data = np.genfromtxt(filename, delimiter = '\\t', skip_header=1)\n",
    "data = np.genfromtxt(filename)\n",
    "l = np.genfromtxt(filename2)"
   ]
  },
  {
   "cell_type": "code",
   "execution_count": 34,
   "metadata": {},
   "outputs": [],
   "source": [
    "#type(data)\n",
    "y=data.T\n",
    "x =l.T\n",
    "\n",
    "#x_axis=x(0)\n",
    "#y_axis=y(0)\n",
    "#np.delete(x,0)\n",
    "#np.delete(y,0)"
   ]
  },
  {
   "cell_type": "code",
   "execution_count": 40,
   "metadata": {},
   "outputs": [
    {
     "data": {
      "text/plain": [
       "Text(0.5, 0, 'TOF [ms]')"
      ]
     },
     "execution_count": 40,
     "metadata": {},
     "output_type": "execute_result"
    },
    {
     "data": {
      "image/png": "[encoded data removed]",
      "text/plain": [
       "<Figure size 432x288 with 1 Axes>"
      ]
     },
     "metadata": {
      "needs_background": "light"
     },
     "output_type": "display_data"
    }
   ],
   "source": [
    "\n",
    "for i in range (0,int(n_windows)):\n",
    "    win_plot_x_1=(windows[i][0],windows[i][0])\n",
    "    win_plot_y_1=(min(y),max(y))\n",
    "    plt.plot(win_plot_x_1,win_plot_y_1,'r-')\n",
    "    win_plot_x_2=(windows[i][1],windows[i][1])\n",
    "    win_plot_y_2=(min(y),max(y))\n",
    "    plt.plot(win_plot_x_2,win_plot_y_2,'r-')\n",
    "plt.plot(l2tof(x,t0,L)*1e+3,y)\n",
    "plt.title(\"Theoretical Iron spectrum with overimposed windows\")\n",
    "plt.xlabel(\"TOF [ms]\")\n",
    "   \n"
   ]
  },
  {
   "cell_type": "code",
   "execution_count": 42,
   "metadata": {},
   "outputs": [],
   "source": [
    "#write a txt file for the shutter\n",
    "filename_out = 'FileShutter.txt'\n",
    "\n",
    "with open(filename_out, 'w') as f:\n",
    "    for i in range(0,int(n_windows)):\n",
    "            f.write(str(windows[i][0]))\n",
    "            f.write(\"\\t\")\n",
    "            f.write(str(windows[i][1]))\n",
    "            f.write(\"\\t\")\n",
    "            f.write(str(clock_divider[i]))\n",
    "            f.write(\"\\t\")\n",
    "            f.write(str(bin_width[i]))\n",
    "            f.write(\"\\n\")\n"
   ]
  }
 ],
 "metadata": {
  "kernelspec": {
   "display_name": "Python 2",
   "language": "python",
   "name": "python2"
  },
  "language_info": {
   "codemirror_mode": {
    "name": "ipython",
    "version": 3
   },
   "file_extension": ".py",
   "mimetype": "text/x-python",
   "name": "python",
   "nbconvert_exporter": "python",
   "pygments_lexer": "ipython3",
   "version": "3.7.1"
  },
  "varInspector": {
   "cols": {
    "lenName": 16,
    "lenType": 16,
    "lenVar": 40
   },
   "kernels_config": {
    "python": {
     "delete_cmd_postfix": "",
     "delete_cmd_prefix": "del ",
     "library": "var_list.py",
     "varRefreshCmd": "print(var_dic_list())"
    },
    "r": {
     "delete_cmd_postfix": ") ",
     "delete_cmd_prefix": "rm(",
     "library": "var_list.r",
     "varRefreshCmd": "cat(var_dic_list()) "
    }
   },
   "oldHeight": 468,
   "position": {
    "height": "490px",
    "left": "1051px",
    "right": "20px",
    "top": "106px",
    "width": "352px"
   },
   "types_to_exclude": [
    "module",
    "function",
    "builtin_function_or_method",
    "instance",
    "_Feature"
   ],
   "varInspector_section_display": "block",
   "window_display": false
  }
 },
 "nbformat": 4,
 "nbformat_minor": 2
}
