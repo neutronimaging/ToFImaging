{
 "cells": [
  {
   "cell_type": "markdown",
   "metadata": {},
   "source": [
    "# Notebook for generating shutterfiles\n",
    "\n",
    "Setting inputs: length of flight path, t offset and repetition frequency\n",
    "\n",
    "Inputs for the shutter file generation: number of windows, and, for each window, tof/wavelength start-end and bin size "
   ]
  },
  {
   "cell_type": "code",
   "execution_count": null,
   "metadata": {
    "ExecuteTime": {
     "end_time": "2020-03-31T12:58:19.179760Z",
     "start_time": "2020-03-31T12:58:18.418353Z"
    }
   },
   "outputs": [],
   "source": [
    "import numpy as np\n",
    "import matplotlib\n",
    "import matplotlib.pyplot as plt\n",
    "import os\n",
    "import csv\n",
    "import sys\n",
    "from TOF_routines import tof2l, l2tof\n",
    "\n",
    "%matplotlib inline"
   ]
  },
  {
   "cell_type": "code",
   "execution_count": null,
   "metadata": {
    "ExecuteTime": {
     "end_time": "2020-03-31T12:58:20.816306Z",
     "start_time": "2020-03-31T12:58:20.812319Z"
    }
   },
   "outputs": [],
   "source": [
    "L=56.4 #in meters\n",
    "t0=0.00 #in ms\n",
    "f=10 #in Hz\n",
    "t2overlap=1000/f #in ms"
   ]
  },
  {
   "cell_type": "code",
   "execution_count": null,
   "metadata": {
    "ExecuteTime": {
     "end_time": "2020-03-31T12:59:26.825247Z",
     "start_time": "2020-03-31T12:59:25.492533Z"
    }
   },
   "outputs": [],
   "source": [
    "# number of acquisition windows\n",
    "n_windows=input(\"Enter the number of acquisition window: \")\n",
    "\n"
   ]
  },
  {
   "cell_type": "code",
   "execution_count": null,
   "metadata": {
    "ExecuteTime": {
     "end_time": "2020-03-31T12:59:28.455209Z",
     "start_time": "2020-03-31T12:59:28.447232Z"
    },
    "scrolled": true
   },
   "outputs": [],
   "source": [
    "windows=np.zeros((int(n_windows),2))\n",
    "windows[0][0]=l2tof(1,t0,L)*1e+3 # in ms\n",
    "windows[0][1]=l2tof(2.45,t0,L)*1e+3\n",
    "\n",
    "windows[1][0]=l2tof(2.5,t0,L)*1e+3\n",
    "windows[1][1]=l2tof(3.3,t0,L)*1e+3\n",
    "\n",
    "windows[2][0]=l2tof(3.35,t0,L)*1e+3\n",
    "windows[2][1]=l2tof(4.6,t0,L)*1e+3\n",
    "\n",
    "windows[3][0]=l2tof(4.65,t0,L)*1e+3\n",
    "windows[3][1]=l2tof(6,t0,L)*1e+3\n",
    "\n",
    "print(windows)\n",
    "\n",
    "#windows[4][0]=22.34\n",
    "#windows[4][1]=36"
   ]
  },
  {
   "cell_type": "code",
   "execution_count": null,
   "metadata": {
    "ExecuteTime": {
     "end_time": "2020-03-31T12:59:38.433351Z",
     "start_time": "2020-03-31T12:59:38.428365Z"
    },
    "scrolled": true
   },
   "outputs": [],
   "source": [
    "# Windows durations\n",
    "delta_tof=windows[:,1]-windows[:,0]\n",
    "print(\"delta tof:\")\n",
    "print(delta_tof)"
   ]
  },
  {
   "cell_type": "code",
   "execution_count": null,
   "metadata": {
    "ExecuteTime": {
     "end_time": "2020-03-31T12:59:44.205571Z",
     "start_time": "2020-03-31T12:59:44.197592Z"
    }
   },
   "outputs": [],
   "source": [
    "clock_frequency=np.zeros((14))\n",
    "clock_divider=np.zeros(int(n_windows))\n",
    "clock_time=np.zeros((14))\n",
    "for i in range (0,14):\n",
    "    clock_frequency[i]=100/(2**i)\n",
    "    clock_time[i]=0.00001*(2**i)\n",
    "    #clock_divider[i]=i\n",
    "range_covered=11800*clock_time\n",
    "print(\"clock frequency:\")\n",
    "print(clock_frequency)\n",
    "print(\"clock time:\")\n",
    "print(clock_time)\n",
    "#print(clock_divider)\n",
    "print(\"range covered:\")\n",
    "print(range_covered)\n"
   ]
  },
  {
   "cell_type": "code",
   "execution_count": null,
   "metadata": {
    "ExecuteTime": {
     "end_time": "2020-03-31T12:59:45.289259Z",
     "start_time": "2020-03-31T12:59:45.283275Z"
    },
    "scrolled": true
   },
   "outputs": [],
   "source": [
    "for i in range (0,int(n_windows)):\n",
    "    for j in range (0,14):\n",
    "            if delta_tof[i]<range_covered[j]:\n",
    "                clock_divider[i]=j\n",
    "                break\n",
    "print(\"clock divider:\")\n",
    "print(clock_divider)\n",
    "    "
   ]
  },
  {
   "cell_type": "code",
   "execution_count": null,
   "metadata": {
    "ExecuteTime": {
     "end_time": "2020-03-31T12:59:46.812554Z",
     "start_time": "2020-03-31T12:59:46.806570Z"
    }
   },
   "outputs": [],
   "source": [
    "clock_time[int(clock_divider[2])]"
   ]
  },
  {
   "cell_type": "code",
   "execution_count": null,
   "metadata": {
    "ExecuteTime": {
     "end_time": "2020-03-31T12:59:47.977953Z",
     "start_time": "2020-03-31T12:59:47.973296Z"
    }
   },
   "outputs": [],
   "source": [
    "# Bin width. THIS IS AN INPUT\n",
    "bin_width=np.zeros(int(n_windows));\n",
    "        \n",
    "bin_width[0]=40.96\n",
    "bin_width[1]=20.48\n",
    "bin_width[2]=20.48\n",
    "bin_width[3]=40.96\n",
    "#bin_width[4]=40.96\n",
    "\n",
    "print(bin_width)"
   ]
  },
  {
   "cell_type": "code",
   "execution_count": null,
   "metadata": {
    "ExecuteTime": {
     "end_time": "2020-03-31T12:59:51.566894Z",
     "start_time": "2020-03-31T12:59:51.561910Z"
    },
    "scrolled": true
   },
   "outputs": [],
   "source": [
    "# Shutter duration\n",
    "n_shutter=int(n_windows)-1\n",
    "duration=np.zeros((n_shutter))\n",
    "for i in range (0,n_shutter):\n",
    "    duration[i]=windows[i+1][0]-windows[i][1]\n",
    "print(duration)"
   ]
  },
  {
   "cell_type": "code",
   "execution_count": null,
   "metadata": {
    "ExecuteTime": {
     "end_time": "2020-03-31T12:59:52.289688Z",
     "start_time": "2020-03-31T12:59:52.283731Z"
    }
   },
   "outputs": [],
   "source": [
    "# Resolution calculation\n",
    "min_res=bin_width*0.001/windows[:,0]\n",
    "max_res=bin_width*0.001/windows[:,1]\n",
    "print(min_res*100)\n",
    "print(max_res*100)"
   ]
  },
  {
   "cell_type": "code",
   "execution_count": null,
   "metadata": {
    "ExecuteTime": {
     "end_time": "2020-03-31T12:59:53.128881Z",
     "start_time": "2020-03-31T12:59:53.123894Z"
    }
   },
   "outputs": [],
   "source": [
    "# calculation of the number of file and space needed\n",
    "no_file=np.ceil(delta_tof*1000/bin_width);\n",
    "tot_file=np.sum(no_file)\n",
    "print(\"Number of file produced: \")\n",
    "print(tot_file)\n",
    "print(\"Number of fiels\")\n",
    "print(no_file)"
   ]
  },
  {
   "cell_type": "code",
   "execution_count": null,
   "metadata": {
    "ExecuteTime": {
     "end_time": "2020-03-31T12:59:56.229168Z",
     "start_time": "2020-03-31T12:59:56.208225Z"
    }
   },
   "outputs": [],
   "source": [
    "#base_path = \"/path/to/directory/holding/file/\"\n",
    "filename = \"data/alpha.txt\"\n",
    "filename2= \"data/lambda.txt\"\n",
    "#path_to_file = os.path.join(base_path, filename)\n",
    "#fd = open(path_to_file , 'r')\n",
    "fp = open(filename , 'r')\n",
    "fp2 = open(filename2, 'r')\n",
    "#spectrum=csv.reader(fp, delimiter=\"\\t\")"
   ]
  },
  {
   "cell_type": "code",
   "execution_count": null,
   "metadata": {
    "ExecuteTime": {
     "end_time": "2020-03-31T12:59:58.534869Z",
     "start_time": "2020-03-31T12:59:58.518893Z"
    }
   },
   "outputs": [],
   "source": [
    "#data = np.genfromtxt(filename, delimiter = '\\t', skip_header=1)\n",
    "data = np.genfromtxt(filename)\n",
    "l = np.genfromtxt(filename2)"
   ]
  },
  {
   "cell_type": "code",
   "execution_count": null,
   "metadata": {
    "ExecuteTime": {
     "end_time": "2020-03-31T13:00:00.592951Z",
     "start_time": "2020-03-31T13:00:00.589326Z"
    }
   },
   "outputs": [],
   "source": [
    "#type(data)\n",
    "y=data.T\n",
    "x =l.T\n",
    "\n",
    "#x_axis=x(0)\n",
    "#y_axis=y(0)\n",
    "#np.delete(x,0)\n",
    "#np.delete(y,0)"
   ]
  },
  {
   "cell_type": "code",
   "execution_count": null,
   "metadata": {
    "ExecuteTime": {
     "end_time": "2020-03-31T13:00:01.484198Z",
     "start_time": "2020-03-31T13:00:01.237891Z"
    }
   },
   "outputs": [],
   "source": [
    "\n",
    "for i in range (0,int(n_windows)):\n",
    "    win_plot_x_1=(windows[i][0],windows[i][0])\n",
    "    win_plot_y_1=(min(y),max(y))\n",
    "    plt.plot(win_plot_x_1,win_plot_y_1,'r-')\n",
    "    win_plot_x_2=(windows[i][1],windows[i][1])\n",
    "    win_plot_y_2=(min(y),max(y))\n",
    "    plt.plot(win_plot_x_2,win_plot_y_2,'r-')\n",
    "plt.plot(l2tof(x,t0,L)*1e+3,y)\n",
    "plt.title(\"Theoretical Iron spectrum with overimposed windows\")\n",
    "plt.xlabel(\"TOF [ms]\")\n",
    "   \n"
   ]
  },
  {
   "cell_type": "code",
   "execution_count": null,
   "metadata": {
    "ExecuteTime": {
     "end_time": "2020-03-31T13:00:02.320827Z",
     "start_time": "2020-03-31T13:00:02.313846Z"
    }
   },
   "outputs": [],
   "source": [
    "#write a txt file for the shutter\n",
    "filename_out = 'FileShutter.txt'\n",
    "\n",
    "with open(filename_out, 'w') as f:\n",
    "    for i in range(0,int(n_windows)):\n",
    "            f.write(str(windows[i][0]))\n",
    "            f.write(\"\\t\")\n",
    "            f.write(str(windows[i][1]))\n",
    "            f.write(\"\\t\")\n",
    "            f.write(str(clock_divider[i]))\n",
    "            f.write(\"\\t\")\n",
    "            f.write(str(bin_width[i]))\n",
    "            f.write(\"\\n\")\n"
   ]
  }
 ],
 "metadata": {
  "kernelspec": {
   "display_name": "Python 3",
   "language": "python",
   "name": "python3"
  },
  "language_info": {
   "codemirror_mode": {
    "name": "ipython",
    "version": 3
   },
   "file_extension": ".py",
   "mimetype": "text/x-python",
   "name": "python",
   "nbconvert_exporter": "python",
   "pygments_lexer": "ipython3",
   "version": "3.7.4"
  },
  "toc": {
   "base_numbering": 1,
   "nav_menu": {},
   "number_sections": true,
   "sideBar": true,
   "skip_h1_title": false,
   "title_cell": "Table of Contents",
   "title_sidebar": "Contents",
   "toc_cell": false,
   "toc_position": {},
   "toc_section_display": true,
   "toc_window_display": false
  },
  "varInspector": {
   "cols": {
    "lenName": 16,
    "lenType": 16,
    "lenVar": 40
   },
   "kernels_config": {
    "python": {
     "delete_cmd_postfix": "",
     "delete_cmd_prefix": "del ",
     "library": "var_list.py",
     "varRefreshCmd": "print(var_dic_list())"
    },
    "r": {
     "delete_cmd_postfix": ") ",
     "delete_cmd_prefix": "rm(",
     "library": "var_list.r",
     "varRefreshCmd": "cat(var_dic_list()) "
    }
   },
   "oldHeight": 468,
   "position": {
    "height": "490px",
    "left": "1051px",
    "right": "20px",
    "top": "106px",
    "width": "352px"
   },
   "types_to_exclude": [
    "module",
    "function",
    "builtin_function_or_method",
    "instance",
    "_Feature"
   ],
   "varInspector_section_display": "block",
   "window_display": false
  }
 },
 "nbformat": 4,
 "nbformat_minor": 2
}
