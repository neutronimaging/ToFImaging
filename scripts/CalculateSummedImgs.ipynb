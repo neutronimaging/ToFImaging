{
 "cells": [
  {
   "cell_type": "markdown",
   "metadata": {},
   "source": [
    "# This notebook creates a summed img from an energy resolved scan, thus obtaining the white beam projection, and save the result in some defined folder"
   ]
  },
  {
   "cell_type": "code",
   "execution_count": 21,
   "metadata": {
    "ExecuteTime": {
     "end_time": "2018-10-12T17:49:56.829190Z",
     "start_time": "2018-10-12T17:49:53.676360Z"
    }
   },
   "outputs": [
    {
     "data": {
      "text/html": [
       "<style>.container { width:90% !important; }</style>"
      ],
      "text/plain": [
       "<IPython.core.display.HTML object>"
      ]
     },
     "metadata": {},
     "output_type": "display_data"
    }
   ],
   "source": [
    "import skimage\n",
    "import os, fnmatch\n",
    "import numpy as np\n",
    "import matplotlib.pyplot as plt\n",
    "%matplotlib inline\n",
    "# %matplotlib notebook\n",
    "import pylab\n",
    "import scipy\n",
    "from skimage import io\n",
    "from os import listdir\n",
    "from astropy.io import fits\n",
    "\n",
    "import ipywe.fileselector\n",
    "\n",
    "from IPython.core.display import display, HTML\n",
    "display(HTML(\"<style>.container { width:90% !important; }</style>\"))"
   ]
  },
  {
   "cell_type": "markdown",
   "metadata": {},
   "source": [
    "### Select root path including folders to be processed "
   ]
  },
  {
   "cell_type": "code",
   "execution_count": 16,
   "metadata": {},
   "outputs": [
    {
     "data": {
      "application/vnd.jupyter.widget-view+json": {
       "model_id": "",
       "version_major": 2,
       "version_minor": 0
      },
      "text/plain": [
       "VBox(children=(Label(value='select path directory', layout=Layout(width='250px')), VBox(children=(HBox(childre…"
      ]
     },
     "metadata": {},
     "output_type": "display_data"
    }
   ],
   "source": [
    "fsel_rooth= ipywe.fileselector.FileSelectorPanel(instruction='select path directory', start_dir='.', type='directory')\n",
    "fsel_rooth.show()"
   ]
  },
  {
   "cell_type": "markdown",
   "metadata": {},
   "source": [
    "### Select destination path "
   ]
  },
  {
   "cell_type": "code",
   "execution_count": 17,
   "metadata": {},
   "outputs": [
    {
     "data": {
      "application/vnd.jupyter.widget-view+json": {
       "model_id": "",
       "version_major": 2,
       "version_minor": 0
      },
      "text/plain": [
       "VBox(children=(Label(value='select path directory', layout=Layout(width='250px')), VBox(children=(HBox(childre…"
      ]
     },
     "metadata": {},
     "output_type": "display_data"
    }
   ],
   "source": [
    "fsel_dest= ipywe.fileselector.FileSelectorPanel(instruction='select path directory', start_dir='.', type='directory')\n",
    "fsel_dest.show()"
   ]
  },
  {
   "cell_type": "code",
   "execution_count": 18,
   "metadata": {
    "ExecuteTime": {
     "end_time": "2018-10-12T17:49:56.846736Z",
     "start_time": "2018-10-12T17:49:56.841753Z"
    }
   },
   "outputs": [
    {
     "name": "stdout",
     "output_type": "stream",
     "text": [
      "/media/carminati_c/Data2/RADEN_Feb2018/08_FurnaceARMCO\n",
      "/media/carminati_c/Data2/RADEN_Feb2018/08_FurnaceARMCO/After47A\n"
     ]
    }
   ],
   "source": [
    "rootpath = fsel_rooth.selected\n",
    "savepath = fsel_dest.selected\n",
    "\n",
    "print(rootpath)\n",
    "print(savepath)\n",
    "\n",
    "# ex.:\n",
    "# /media/carminati_c/Data2/RADEN_Feb2018/08_FurnaceARMCO\n",
    "# /media/carminati_c/Data2/RADEN_Feb2018/08_FurnaceARMCO/After47A"
   ]
  },
  {
   "cell_type": "code",
   "execution_count": 22,
   "metadata": {
    "ExecuteTime": {
     "end_time": "2018-10-12T17:50:19.869480Z",
     "start_time": "2018-10-12T17:50:19.866596Z"
    }
   },
   "outputs": [
    {
     "name": "stdout",
     "output_type": "stream",
     "text": [
      "['TEST10_002', 'TEST10_013', 'TEST10_009', 'TEST10_086', 'TEST10_049', 'TEST10_089', 'TEST10_017', 'TEST10_008', 'TEST10_070', 'TEST10_033', 'TEST10_053', 'TEST10_080', 'TEST10_085', 'TEST10_087', 'TEST10_083', 'TEST10_012', 'TEST10_091', 'TEST10_059', 'TEST10_019', 'TEST10_065', 'TEST10_093', 'TEST10_014', 'TEST10_092', 'TEST10_074', 'TEST10_079', 'TEST10_005', 'TEST10_072', 'TEST10_094', 'TEST10_026', 'TEST10_069', 'TEST10_036', 'TEST10_028', 'TEST10_016', 'TEST10_054', 'TEST10_042', 'TEST10_030', 'TEST10_082', 'TEST10_078', 'TEST10_031', 'TEST10_058', 'TEST10_077', 'TEST10_084', 'TEST10_025', 'TEST10_034', 'TEST10_041', 'TEST10_076', 'TEST10_050', 'TEST10_043', 'TEST10_048', 'TEST10_023', 'TEST10_032', 'TEST10_046', 'TEST10_095', 'TEST10_007', 'TEST10_001', 'TEST10_045', 'TEST10_067', 'TEST10_066', 'TEST10_096', 'TEST10_004', 'TEST10_057', 'TEST10_022', 'TEST10_088', 'TEST10_075', 'TEST10_039', 'TEST10_018', 'TEST10_044', 'TEST10_021', 'TEST10_056', 'TEST10_000', 'TEST10_090', 'TEST10_052', 'TEST10_038', 'TEST10_035', 'TEST10_073', 'TEST10_027', 'TEST10_061', 'TEST10_010', 'TEST10_029', 'TEST10_047', 'TEST10_055', 'TEST10_020', 'TEST10_040', 'TEST10_062', 'TEST10_051', 'TEST10_064', 'TEST10_037', 'TEST10_081', 'TEST10_003', 'TEST10_015', 'TEST10_006', 'TEST10_071', 'TEST10_063', 'TEST10_068', 'TEST10_024', 'TEST10_011', 'TEST10_060']\n"
     ]
    }
   ],
   "source": [
    "#select all folders matching a name rule\n",
    "coll_dir = fnmatch.filter(listdir(rootpath),'TEST*')\n",
    "print(coll_dir)\n",
    "\n",
    "#else one could manually select multiple directories with:\n",
    "# fsel= ipywe.fileselector.FileSelectorPanel(instruction='select file', start_dir='.', type='directory', multiple=True)\n",
    "# fsel.show()\n"
   ]
  },
  {
   "cell_type": "code",
   "execution_count": 23,
   "metadata": {
    "ExecuteTime": {
     "end_time": "2018-10-12T17:51:08.187195Z",
     "start_time": "2018-10-12T17:51:08.184374Z"
    }
   },
   "outputs": [],
   "source": [
    "if not os.path.exists(savepath):\n",
    "    os.makedirs(savepath)"
   ]
  },
  {
   "cell_type": "code",
   "execution_count": null,
   "metadata": {
    "ExecuteTime": {
     "end_time": "2018-10-12T18:08:38.535490Z",
     "start_time": "2018-10-12T17:58:50.022628Z"
    }
   },
   "outputs": [],
   "source": [
    "for i in range(0, len(coll_dir)):\n",
    "    path= rootpath+'/'+coll_dir[i]+'/Corrected/'\n",
    "#     print(path)\n",
    "#     coll = listdir(path) # this just lists everything   \n",
    "    summed_img = np.zeros([512,512], dtype='>f4')\n",
    "    current_dir = fnmatch.filter(listdir(path),'*.fits')\n",
    "    sorted_dir = sorted(current_dir)\n",
    "    \n",
    "    myrange=[700,len(sorted_dir)] # here one has to select which range to use for the summing of the images\n",
    "#     myrange = [0, len(sorted_dir)] # summ them all\n",
    "\n",
    "    \n",
    "    for x in range(myrange[0], myrange[1]):\n",
    "        name=path+sorted_dir[x]\n",
    "#         print(name)\n",
    "        im = fits.open(name)\n",
    "        data=im[0].data\n",
    "        summed_img+= data\n",
    "\n",
    "    \n",
    "    io.imsave(savepath+'Summed_img_'+current_dir[0][4:10]+'.tif', summed_img)\n",
    "#     print(i)\n",
    "#     print(savepath+'Summed_img_'+current_dir[0][4:10]+'.tif')\n",
    "\n",
    "\n"
   ]
  },
  {
   "cell_type": "code",
   "execution_count": null,
   "metadata": {
    "collapsed": true
   },
   "outputs": [],
   "source": []
  }
 ],
 "metadata": {
  "kernelspec": {
   "display_name": "Python 2",
   "language": "python",
   "name": "python2"
  },
  "language_info": {
   "codemirror_mode": {
    "name": "ipython",
    "version": 3
   },
   "file_extension": ".py",
   "mimetype": "text/x-python",
   "name": "python",
   "nbconvert_exporter": "python",
   "pygments_lexer": "ipython3",
   "version": "3.7.6"
  },
  "varInspector": {
   "cols": {
    "lenName": 16,
    "lenType": 16,
    "lenVar": 40
   },
   "kernels_config": {
    "python": {
     "delete_cmd_postfix": "",
     "delete_cmd_prefix": "del ",
     "library": "var_list.py",
     "varRefreshCmd": "print(var_dic_list())"
    },
    "r": {
     "delete_cmd_postfix": ") ",
     "delete_cmd_prefix": "rm(",
     "library": "var_list.r",
     "varRefreshCmd": "cat(var_dic_list()) "
    }
   },
   "position": {
    "height": "490px",
    "left": "1647.5px",
    "right": "-400.833px",
    "top": "464px",
    "width": "800px"
   },
   "types_to_exclude": [
    "module",
    "function",
    "builtin_function_or_method",
    "instance",
    "_Feature"
   ],
   "window_display": true
  }
 },
 "nbformat": 4,
 "nbformat_minor": 2
}
