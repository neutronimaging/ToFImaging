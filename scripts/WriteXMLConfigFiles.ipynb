{
 "cells": [
  {
   "cell_type": "markdown",
   "metadata": {},
   "source": [
    "# This notebook implements automatic generation of ReconConfig xml files to be used to run MuhRec in a loop\n",
    "### pathname, filename and parameters are given as examples and need to be adjusted for custom application"
   ]
  },
  {
   "cell_type": "code",
   "execution_count": 1,
   "metadata": {},
   "outputs": [],
   "source": [
    "import xml.etree.ElementTree as ET\n",
    "import numpy\n",
    "import os"
   ]
  },
  {
   "cell_type": "code",
   "execution_count": null,
   "metadata": {},
   "outputs": [],
   "source": [
    "\n",
    "# Open original/template ReconConfig file\n",
    "et = ET.parse('D:/Kaestner/ISIS_IAEAData/RB1730044/PSI_Cylinder/Sample/RB1730044/Tomo_test/CT_recon_WhiteBeam_BBcorrected_const_dose/ReconConfig.xml')\n",
    "root = et.getroot()\n",
    "\n",
    "\n",
    "#with this I find all modules in the pre-processing chain\n",
    "for module in root.findall('./processchain/preprocessing/module'):\n",
    "    name= module.find('modulename')\n",
    "    print(name.text)\n",
    "\n",
    "\n",
    "# Find the first module (BBmodule)\n",
    "BBmodule = root.find('./processchain/preprocessing/module/modulename') ## find the first one, which is always the BBLogNorm\n",
    "# Find relevant parameters that I want to update, ex. names and name mask for BB external images\n",
    "BB_OB_ext_name=root.find('./processchain/preprocessing/module/parameters/BB_OB_ext_name')\n",
    "BB_sample_ext_name=root.find('./processchain/preprocessing/module/parameters/BB_sample_ext_name')\n",
    "\n",
    "# Find other items to be changed for each file\n",
    "filemask = root.find('./projections/filemask')\n",
    "outputpath = root.find('./matrix/path')\n",
    "obmask = root.find('./projections/obfilemask')\n",
    "obfirstindex = root.find('./projections/obfirstindex')\n",
    "projpath = root.find('./projections/path')\n",
    "projrefpath = root.find('./projections/referencepath')\n",
    "\n",
    "\n",
    "\n",
    "\n",
    "# Loop over the bins to create the ReconConfig\n",
    "first_bin=0\n",
    "last_bin=165\n",
    "for i in range(first_bin, last_bin):\n",
    "    #destination path to save the xml files \n",
    "    destpath=r\"D:Kaestner/ISIS_IAEAData/RB1730044/PSI_Cylinder/Sample/RB1730044/Tomo_test/CT_recon_binSum_165bin_249_BBcorrected_const_dose\" \n",
    "    path = r\"/bin\"+str(i).zfill(4)+\"/\"\n",
    "    #update the BB parameters (filenames)\n",
    "    BB_OB_ext_name.text = 'D:/Kaestner/ISIS_IAEAData/RB1730044/PSI_Cylinder/Sample/RB1730044/Tomo_test/Sample/Backgrounds/ConstantBackground_binned/Bin_'+str(i).zfill(4)+'/BackGround_0000.fits'\n",
    "    BB_sample_ext_name.text = 'D:/Kaestner/ISIS_IAEAData/RB1730044/PSI_Cylinder/Sample/RB1730044/Tomo_test/Sample/Backgrounds/ConstantBackground_binned/Bin_'+str(i).zfill(4)+'/BackGround_####.fits'\n",
    "    #update the filemask and other parameters\n",
    "    filemask.text = 'D:/Kaestner/ISIS_IAEAData/RB1730044/PSI_Cylinder/Sample/RB1730044/Tomo_test/Sample/angle####_Corrected_Binned\\IMAT_tomo_binned_'+str(i).zfill(5)+'.fits'\n",
    "    outputpath.text = destpath+path\n",
    "    obmask.text = 'D:/Kaestner/ISIS_IAEAData/RB1730015/Tomo_test_RB1730044/OpenBeam_aft#_Corrected_Binned/IMAT_tomo_binned_'+str(i).zfill(5)+'.fits'\n",
    "    obfirstindex.text=str(2)\n",
    "    projpath.text=' '\n",
    "    projrefpath.text=' '\n",
    "\n",
    "    #path to save the config file\n",
    "    fileconfigpath = 'D:/Kaestner/ISIS_IAEAData/RB1730044/PSI_Cylinder/Sample/RB1730044/Tomo_test/CT_configurations_BBconst_dose'\n",
    "    #file name\n",
    "    fileconfigname = '/ReconConfig_bin'+str(i).zfill(4)+'.xml'\n",
    "    #write the file\n",
    "    et.write(fileconfigpath+fileconfigname) # It works!!\n",
    "    #create the destination path for the reconstructed tomo (this is however re-checked in RunMuhRec)\n",
    "    if not os.path.exists(destpath+path):\n",
    "        os.makedirs(destpath+path)"
   ]
  }
 ],
 "metadata": {
  "kernelspec": {
   "display_name": "Python 3",
   "language": "python",
   "name": "python3"
  },
  "language_info": {
   "codemirror_mode": {
    "name": "ipython",
    "version": 3
   },
   "file_extension": ".py",
   "mimetype": "text/x-python",
   "name": "python",
   "nbconvert_exporter": "python",
   "pygments_lexer": "ipython3",
   "version": "3.7.4"
  },
  "toc": {
   "base_numbering": 1,
   "nav_menu": {},
   "number_sections": true,
   "sideBar": true,
   "skip_h1_title": false,
   "title_cell": "Table of Contents",
   "title_sidebar": "Contents",
   "toc_cell": false,
   "toc_position": {},
   "toc_section_display": true,
   "toc_window_display": false
  },
  "varInspector": {
   "cols": {
    "lenName": 16,
    "lenType": 16,
    "lenVar": 40
   },
   "kernels_config": {
    "python": {
     "delete_cmd_postfix": "",
     "delete_cmd_prefix": "del ",
     "library": "var_list.py",
     "varRefreshCmd": "print(var_dic_list())"
    },
    "r": {
     "delete_cmd_postfix": ") ",
     "delete_cmd_prefix": "rm(",
     "library": "var_list.r",
     "varRefreshCmd": "cat(var_dic_list()) "
    }
   },
   "types_to_exclude": [
    "module",
    "function",
    "builtin_function_or_method",
    "instance",
    "_Feature"
   ],
   "window_display": false
  }
 },
 "nbformat": 4,
 "nbformat_minor": 2
}
