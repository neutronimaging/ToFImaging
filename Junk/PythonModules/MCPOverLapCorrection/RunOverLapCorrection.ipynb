{
 "cells": [
  {
   "cell_type": "markdown",
   "metadata": {},
   "source": [
    "# In this notebook I write a loop that corrects for detector overhead all subfolders in a certain path\n",
    "\n",
    "The routine for MCPOverLapCorrection is called"
   ]
  },
  {
   "cell_type": "code",
   "execution_count": 11,
   "metadata": {
    "ExecuteTime": {
     "end_time": "2019-02-07T13:53:07.066789Z",
     "start_time": "2019-02-07T13:53:03.071628Z"
    }
   },
   "outputs": [],
   "source": [
    "import glob,sys,os,fnmatch\n",
    "import pandas as pd\n",
    "import matplotlib.pyplot as plt\n",
    "from IPython.display import display, HTML\n",
    "import numpy as np\n",
    "%matplotlib inline\n",
    "from astropy.io import fits\n",
    "import MCPOverLapCorrection\n",
    "#import pdb\n"
   ]
  },
  {
   "cell_type": "code",
   "execution_count": 15,
   "metadata": {
    "ExecuteTime": {
     "end_time": "2019-02-07T13:32:58.761674Z",
     "start_time": "2019-02-07T13:32:58.399376Z"
    }
   },
   "outputs": [
    {
     "data": {
      "text/plain": [
       "['6_modified']"
      ]
     },
     "metadata": {},
     "output_type": "display_data"
    }
   ],
   "source": [
    "path_folders = \"/media/carminati_c/Elements/tremsin_correction/\"\n",
    "list_folders = sorted(fnmatch.filter(os.listdir(path_folders),'*_modified'))\n",
    "display(list_folders)\n",
    "# print(list_folders)\n",
    "# print(len(list_folders))"
   ]
  },
  {
   "cell_type": "code",
   "execution_count": 16,
   "metadata": {
    "ExecuteTime": {
     "end_time": "2019-01-24T12:53:33.621093Z",
     "start_time": "2019-01-24T12:53:33.607122Z"
    }
   },
   "outputs": [
    {
     "data": {
      "text/plain": [
       "['6_modified_Corrected']"
      ]
     },
     "metadata": {},
     "output_type": "display_data"
    }
   ],
   "source": [
    "#create standard name for outputfolders\n",
    "list_output_folders=[]\n",
    "for i in range(0,len(list_folders)):\n",
    "    list_output_folders.append(list_folders[i]+\"_Corrected\")\n",
    "\n",
    "display(list_output_folders)\n",
    "# display(list_output_folders[1])"
   ]
  },
  {
   "cell_type": "code",
   "execution_count": 17,
   "metadata": {
    "ExecuteTime": {
     "end_time": "2019-01-24T13:23:31.811614Z",
     "start_time": "2019-01-24T12:53:36.405539Z"
    }
   },
   "outputs": [
    {
     "data": {
      "text/plain": [
       "'/media/carminati_c/Elements/tremsin_correction/6_modified'"
      ]
     },
     "metadata": {},
     "output_type": "display_data"
    },
    {
     "data": {
      "text/plain": [
       "'/media/carminati_c/Elements/tremsin_correction/6_modified_Corrected'"
      ]
     },
     "metadata": {},
     "output_type": "display_data"
    },
    {
     "name": "stdout",
     "output_type": "stream",
     "text": [
      "5\n",
      "0.006999999999999999\n",
      "0.00178176\n",
      "0.00033824\n",
      "0.00200192\n",
      "0.00033808\n",
      "0.00414208\n",
      "0.00033792\n",
      "0.00606208\n",
      "0.00033792\n",
      "0.013639700000000001\n"
     ]
    },
    {
     "data": {
      "image/png": "[encoded data removed]",
      "text/plain": [
       "<Figure size 576x432 with 1 Axes>"
      ]
     },
     "metadata": {
      "needs_background": "light"
     },
     "output_type": "display_data"
    },
    {
     "ename": "IndexError",
     "evalue": "list index out of range",
     "output_type": "error",
     "traceback": [
      "\u001b[0;31m---------------------------------------------------------------------------\u001b[0m",
      "\u001b[0;31mIndexError\u001b[0m                                Traceback (most recent call last)",
      "\u001b[0;32m<ipython-input-17-1625a43afdb3>\u001b[0m in \u001b[0;36m<module>\u001b[0;34m\u001b[0m\n\u001b[1;32m      5\u001b[0m \u001b[0;32mfor\u001b[0m \u001b[0mi\u001b[0m \u001b[0;32min\u001b[0m \u001b[0mrange\u001b[0m\u001b[0;34m(\u001b[0m\u001b[0;36m0\u001b[0m\u001b[0;34m,\u001b[0m \u001b[0;36m2\u001b[0m\u001b[0;34m)\u001b[0m\u001b[0;34m:\u001b[0m\u001b[0;34m\u001b[0m\u001b[0;34m\u001b[0m\u001b[0m\n\u001b[1;32m      6\u001b[0m \u001b[0;31m# for i in range(0, 4):\u001b[0m\u001b[0;34m\u001b[0m\u001b[0;34m\u001b[0m\u001b[0;34m\u001b[0m\u001b[0m\n\u001b[0;32m----> 7\u001b[0;31m     \u001b[0mfolder_input\u001b[0m \u001b[0;34m=\u001b[0m \u001b[0mpath_folders\u001b[0m\u001b[0;34m+\u001b[0m\u001b[0mlist_folders\u001b[0m\u001b[0;34m[\u001b[0m\u001b[0mi\u001b[0m\u001b[0;34m]\u001b[0m\u001b[0;34m\u001b[0m\u001b[0;34m\u001b[0m\u001b[0m\n\u001b[0m\u001b[1;32m      8\u001b[0m     \u001b[0mfolder_output\u001b[0m \u001b[0;34m=\u001b[0m \u001b[0mpath_folders\u001b[0m\u001b[0;34m+\u001b[0m\u001b[0mlist_output_folders\u001b[0m\u001b[0;34m[\u001b[0m\u001b[0mi\u001b[0m\u001b[0;34m]\u001b[0m\u001b[0;34m\u001b[0m\u001b[0;34m\u001b[0m\u001b[0m\n\u001b[1;32m      9\u001b[0m     \u001b[0mfilename_output\u001b[0m \u001b[0;34m=\u001b[0m \u001b[0;34m\"/\"\u001b[0m\u001b[0;34m+\u001b[0m\u001b[0mlist_output_folders\u001b[0m\u001b[0;34m[\u001b[0m\u001b[0mi\u001b[0m\u001b[0;34m]\u001b[0m\u001b[0;34m+\u001b[0m\u001b[0;34m\"_\"\u001b[0m \u001b[0;31m# change this name if the number of folder is not desired in the filename, ex#\u001b[0m\u001b[0;34m\u001b[0m\u001b[0;34m\u001b[0m\u001b[0m\n",
      "\u001b[0;31mIndexError\u001b[0m: list index out of range"
     ]
    }
   ],
   "source": [
    "#Running in loop over all given folders\n",
    "\n",
    "num_windows=0 # this parameter will need to be automatized, put zero to test the automatic option\n",
    "\n",
    "for i in range(0, 2):\n",
    "# for i in range(0, 4):    \n",
    "    folder_input = path_folders+list_folders[i]\n",
    "    folder_output = path_folders+list_output_folders[i]\n",
    "    filename_output = \"/\"+list_output_folders[i]+\"_\" # change this name if the number of folder is not desired in the filename, ex#\n",
    "#     filename_output = \"/IMAT_tomo_\"\n",
    "    display(folder_input)\n",
    "    display(folder_output)\n",
    "#     display(filename_output)\n",
    "    MCPOverLapCorrection.OverLapCorrection(folder_input, folder_output, filename_output, num_windows)\n"
   ]
  },
  {
   "cell_type": "code",
   "execution_count": 5,
   "metadata": {
    "ExecuteTime": {
     "end_time": "2019-02-07T13:57:30.614154Z",
     "start_time": "2019-02-07T13:53:09.975960Z"
    },
    "scrolled": false
   },
   "outputs": [],
   "source": [
    "#Example how to run on single folder\n",
    "\n",
    "# folder_input = \"/media/carminati_c/Elements/IMAT_Nov2018/RB1820231/03_VerticalSetting_3hruns/Flat1\"\n",
    "# folder_output = \"/media/carminati_c/Elements/IMAT_Nov2018/RB1820231/03_VerticalSetting_3hruns/Flat1_Corrected_withsum\"\n",
    "# filename_output =  \"/Flat1_Corrected_\"\n",
    "# num_windows=4\n",
    "# MCPOverLapCorrection.OverLapCorrection(folder_input, folder_output, filename_output, num_windows)"
   ]
  },
  {
   "cell_type": "code",
   "execution_count": 6,
   "metadata": {
    "ExecuteTime": {
     "end_time": "2019-02-05T10:30:29.215142Z",
     "start_time": "2019-02-05T10:30:28.737286Z"
    }
   },
   "outputs": [],
   "source": [
    "# test on copying txt file \n",
    "\n",
    "# folder_input = path_folders + list_folders[0]\n",
    "# sorted_TXT= sorted(glob.glob(folder_input+'/*.txt'))\n",
    "# print(sorted_TXT)\n",
    "\n",
    "# folder_output = '/media/carminati_c/Elements/IMAT_Nov2018/RB1820231/04_HorizontalSetting_3hruns/test_txt'\n",
    "\n",
    "# for txt in sorted_TXT:\n",
    "#     filename = txt\n",
    "#     destname = folder_output\n",
    "#     print(filename)\n",
    "#     print(destname)\n",
    "#     shutil.copy(filename, destname)  "
   ]
  },
  {
   "cell_type": "code",
   "execution_count": null,
   "metadata": {},
   "outputs": [],
   "source": []
  }
 ],
 "metadata": {
  "kernelspec": {
   "display_name": "Python 2",
   "language": "python",
   "name": "python2"
  },
  "language_info": {
   "codemirror_mode": {
    "name": "ipython",
    "version": 3
   },
   "file_extension": ".py",
   "mimetype": "text/x-python",
   "name": "python",
   "nbconvert_exporter": "python",
   "pygments_lexer": "ipython3",
   "version": "3.7.1"
  },
  "varInspector": {
   "cols": {
    "lenName": 16,
    "lenType": 16,
    "lenVar": 40
   },
   "kernels_config": {
    "python": {
     "delete_cmd_postfix": "",
     "delete_cmd_prefix": "del ",
     "library": "var_list.py",
     "varRefreshCmd": "print(var_dic_list())"
    },
    "r": {
     "delete_cmd_postfix": ") ",
     "delete_cmd_prefix": "rm(",
     "library": "var_list.r",
     "varRefreshCmd": "cat(var_dic_list()) "
    }
   },
   "types_to_exclude": [
    "module",
    "function",
    "builtin_function_or_method",
    "instance",
    "_Feature"
   ],
   "window_display": false
  }
 },
 "nbformat": 4,
 "nbformat_minor": 2
}
