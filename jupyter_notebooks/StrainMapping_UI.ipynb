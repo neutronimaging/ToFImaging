{
 "cells": [
  {
   "cell_type": "markdown",
   "metadata": {
    "ExecuteTime": {
     "end_time": "2020-10-01T09:53:27.616414Z",
     "start_time": "2020-10-01T09:53:25.476383Z"
    }
   },
   "source": [
    "# Strain mapping\n",
    "\n",
    "This notebook provides an easy to use interface to the software package for the single Bragg edge fitting, for the analysis  of strain and texture variations.\n",
    "\n",
    "Full step by step tutorial can be found [here](here)"
   ]
  },
  {
   "cell_type": "markdown",
   "metadata": {},
   "source": [
    "# Importing python modules and functions"
   ]
  },
  {
   "cell_type": "code",
   "execution_count": 1,
   "metadata": {
    "ExecuteTime": {
     "end_time": "2020-10-02T09:46:30.428521Z",
     "start_time": "2020-10-02T09:46:28.742115Z"
    }
   },
   "outputs": [
    {
     "data": {
      "text/html": [
       "\n",
       "<style type=\"text/css\">\n",
       ".jupyter-widgets select option {font-family: \"Lucida Console\", Monaco, monospace;}\n",
       ".jupyter-widgets select {width: 98%;}\n",
       "div.output_subarea {padding: 0px;}\n",
       "div.output_subarea > div {margin: 0.4em;}\n",
       "</style>\n"
      ],
      "text/plain": [
       "<IPython.core.display.HTML object>"
      ]
     },
     "metadata": {},
     "output_type": "display_data"
    }
   ],
   "source": [
    "import numpy as np\n",
    "from jupyter_notebooks.code.strain_mapping_api_for_notebook import StrainMappingAPIForNotebook"
   ]
  },
  {
   "cell_type": "markdown",
   "metadata": {},
   "source": [
    "# General Settings "
   ]
  },
  {
   "cell_type": "code",
   "execution_count": 2,
   "metadata": {},
   "outputs": [
    {
     "data": {
      "application/vnd.jupyter.widget-view+json": {
       "model_id": "bb6773fdae2b418bba7efa9a36202528",
       "version_major": 2,
       "version_minor": 0
      },
      "text/plain": [
       "HBox(children=(Checkbox(value=True, layout=Layout(width='120px')), HTML(value='Are you working with <b>raw dat…"
      ]
     },
     "metadata": {},
     "output_type": "display_data"
    }
   ],
   "source": [
    "o_api = StrainMappingAPIForNotebook()\n",
    "o_api.general_settings()"
   ]
  },
  {
   "cell_type": "markdown",
   "metadata": {},
   "source": [
    "# Loading sample, open beam and time spectra"
   ]
  },
  {
   "cell_type": "markdown",
   "metadata": {},
   "source": [
    "## Select sample folder"
   ]
  },
  {
   "cell_type": "markdown",
   "metadata": {},
   "source": [
    "Select the folder(s) containing the sample data. \n",
    "\n",
    "This/These folder(s) must contain:\n",
    " * all the projections\n",
    " * time spectra file  (\\*_Spectra.txt)\n",
    " * shutter count (\\*_ShutterCount.txt) **if working with RAW data**\n",
    " * shutter times (\\*_ShutteTimes.txt)\n",
    "\n",
    "The notebook will automatically load and display the integrated signal for reference.\n",
    "\n",
    "If more than 1 folder is selected, the folder will be combined using mean values."
   ]
  },
  {
   "cell_type": "code",
   "execution_count": 3,
   "metadata": {},
   "outputs": [
    {
     "data": {
      "text/html": [
       "<span style=\"font-size: 15px; color:blue\">MCP detector correction: </span><span style=\"font-size: 15px; color:green\">DONE</span>"
      ],
      "text/plain": [
       "<IPython.core.display.HTML object>"
      ]
     },
     "metadata": {},
     "output_type": "display_data"
    },
    {
     "data": {
      "text/html": [
       "<span style=\"font-size: 15px; color:blue\">List of corrected sample folders:</span>"
      ],
      "text/plain": [
       "<IPython.core.display.HTML object>"
      ]
     },
     "metadata": {},
     "output_type": "display_data"
    },
    {
     "data": {
      "text/html": [
       "<span style=\"font-size: 15px; color:blue\">- /Users/j35/IPTS/IPTS-strain-mapping/raw/Run19_On_Load_Frame_all_COL_15MPA_corrected</span>"
      ],
      "text/plain": [
       "<IPython.core.display.HTML object>"
      ]
     },
     "metadata": {},
     "output_type": "display_data"
    },
    {
     "data": {
      "text/html": [
       "<span style=\"font-size: 15px; color:blue\">- /Users/j35/IPTS/IPTS-strain-mapping/raw/Run20_On_Load_Frame_all_COL_200MPA_corrected</span>"
      ],
      "text/plain": [
       "<IPython.core.display.HTML object>"
      ]
     },
     "metadata": {},
     "output_type": "display_data"
    }
   ],
   "source": [
    "o_api.select_sample()"
   ]
  },
  {
   "cell_type": "code",
   "execution_count": 4,
   "metadata": {},
   "outputs": [
    {
     "ename": "AttributeError",
     "evalue": "'StrainMappingAPIForNotebook' object has no attribute 'projections'",
     "output_type": "error",
     "traceback": [
      "\u001b[0;31m---------------------------------------------------------------------------\u001b[0m",
      "\u001b[0;31mAttributeError\u001b[0m                            Traceback (most recent call last)",
      "\u001b[0;32m<ipython-input-4-91325ca63f36>\u001b[0m in \u001b[0;36m<module>\u001b[0;34m\u001b[0m\n\u001b[0;32m----> 1\u001b[0;31m \u001b[0mo_api\u001b[0m\u001b[0;34m.\u001b[0m\u001b[0mdisplay_integrated_signal\u001b[0m\u001b[0;34m(\u001b[0m\u001b[0;34m)\u001b[0m\u001b[0;34m\u001b[0m\u001b[0;34m\u001b[0m\u001b[0m\n\u001b[0m",
      "\u001b[0;32m~/git/ToFImaging/jupyter_notebooks/code/strain_mapping_api_for_notebook.py\u001b[0m in \u001b[0;36mdisplay_integrated_signal\u001b[0;34m(self)\u001b[0m\n\u001b[1;32m    100\u001b[0m \u001b[0;34m\u001b[0m\u001b[0m\n\u001b[1;32m    101\u001b[0m     \u001b[0;32mdef\u001b[0m \u001b[0mdisplay_integrated_signal\u001b[0m\u001b[0;34m(\u001b[0m\u001b[0mself\u001b[0m\u001b[0;34m)\u001b[0m\u001b[0;34m:\u001b[0m\u001b[0;34m\u001b[0m\u001b[0;34m\u001b[0m\u001b[0m\n\u001b[0;32m--> 102\u001b[0;31m         \u001b[0mplt\u001b[0m\u001b[0;34m.\u001b[0m\u001b[0mimshow\u001b[0m\u001b[0;34m(\u001b[0m\u001b[0mnp\u001b[0m\u001b[0;34m.\u001b[0m\u001b[0mnanmean\u001b[0m\u001b[0;34m(\u001b[0m\u001b[0mself\u001b[0m\u001b[0;34m.\u001b[0m\u001b[0mprojections\u001b[0m\u001b[0;34m,\u001b[0m \u001b[0maxis\u001b[0m\u001b[0;34m=\u001b[0m\u001b[0;36m2\u001b[0m\u001b[0;34m)\u001b[0m\u001b[0;34m)\u001b[0m\u001b[0;34m\u001b[0m\u001b[0;34m\u001b[0m\u001b[0m\n\u001b[0m\u001b[1;32m    103\u001b[0m         \u001b[0mplt\u001b[0m\u001b[0;34m.\u001b[0m\u001b[0mtitle\u001b[0m\u001b[0;34m(\u001b[0m\u001b[0;34m'White beam transmission image'\u001b[0m\u001b[0;34m)\u001b[0m\u001b[0;34m,\u001b[0m \u001b[0mplt\u001b[0m\u001b[0;34m.\u001b[0m\u001b[0mcolorbar\u001b[0m\u001b[0;34m(\u001b[0m\u001b[0;34m)\u001b[0m\u001b[0;34m\u001b[0m\u001b[0;34m\u001b[0m\u001b[0m\n\u001b[1;32m    104\u001b[0m         \u001b[0mplt\u001b[0m\u001b[0;34m.\u001b[0m\u001b[0mshow\u001b[0m\u001b[0;34m(\u001b[0m\u001b[0;34m)\u001b[0m\u001b[0;34m\u001b[0m\u001b[0;34m\u001b[0m\u001b[0m\n",
      "\u001b[0;31mAttributeError\u001b[0m: 'StrainMappingAPIForNotebook' object has no attribute 'projections'"
     ]
    }
   ],
   "source": [
    "o_api.display_integrated_signal()"
   ]
  },
  {
   "cell_type": "markdown",
   "metadata": {},
   "source": [
    "## Select ob folder "
   ]
  },
  {
   "cell_type": "markdown",
   "metadata": {},
   "source": [
    "Select the open beam folder(s)"
   ]
  },
  {
   "cell_type": "code",
   "execution_count": null,
   "metadata": {},
   "outputs": [],
   "source": []
  },
  {
   "cell_type": "markdown",
   "metadata": {},
   "source": [
    "## Load time spectra and define instrument"
   ]
  },
  {
   "cell_type": "code",
   "execution_count": 4,
   "metadata": {},
   "outputs": [
    {
     "data": {
      "application/vnd.jupyter.widget-view+json": {
       "model_id": "8103b6832f0d429486f96c98d543a144",
       "version_major": 2,
       "version_minor": 0
      },
      "text/plain": [
       "VBox(children=(HBox(children=(Label(value='dSD (m)', layout=Layout(width='150px')), Text(value='16.08', layout…"
      ]
     },
     "metadata": {},
     "output_type": "display_data"
    }
   ],
   "source": [
    "o_api.define_instrument()"
   ]
  },
  {
   "cell_type": "code",
   "execution_count": 5,
   "metadata": {},
   "outputs": [
    {
     "data": {
      "application/vnd.jupyter.widget-view+json": {
       "model_id": "",
       "version_major": 2,
       "version_minor": 0
      },
      "text/plain": [
       "VBox(children=(Label(value='Select time spectra file ...', layout=Layout(width='250px')), VBox(children=(HBox(…"
      ]
     },
     "metadata": {},
     "output_type": "display_data"
    }
   ],
   "source": [
    "o_api.select_spectra_file()"
   ]
  },
  {
   "cell_type": "markdown",
   "metadata": {},
   "source": [
    "# Prepare fitting mask "
   ]
  },
  {
   "cell_type": "code",
   "execution_count": null,
   "metadata": {},
   "outputs": [],
   "source": [
    "## graphical selection of mask HERE !!!"
   ]
  },
  {
   "cell_type": "code",
   "execution_count": 6,
   "metadata": {
    "ExecuteTime": {
     "end_time": "2020-10-02T09:46:40.406355Z",
     "start_time": "2020-10-02T09:46:39.206296Z"
    }
   },
   "outputs": [
    {
     "data": {
      "image/png": "[encoded data removed]",
      "text/plain": [
       "<Figure size 432x288 with 2 Axes>"
      ]
     },
     "metadata": {
      "needs_background": "light"
     },
     "output_type": "display_data"
    }
   ],
   "source": [
    "#preparing fitting mask\n",
    "mask = np.zeros(np.shape(np.nanmean(o_api.projections,axis=2)))\n",
    "mask[50:,:] = 1\n",
    "\n",
    "o_api.prepare_fitting_mask(mask=mask, plot=True)"
   ]
  },
  {
   "cell_type": "code",
   "execution_count": null,
   "metadata": {
    "ExecuteTime": {
     "end_time": "2020-10-02T09:47:32.381498Z",
     "start_time": "2020-10-02T09:46:40.406355Z"
    }
   },
   "outputs": [],
   "source": [
    "o_api.calculate_moving_average()"
   ]
  },
  {
   "cell_type": "code",
   "execution_count": null,
   "metadata": {},
   "outputs": [],
   "source": []
  },
  {
   "cell_type": "code",
   "execution_count": null,
   "metadata": {},
   "outputs": [],
   "source": []
  },
  {
   "cell_type": "code",
   "execution_count": null,
   "metadata": {},
   "outputs": [],
   "source": []
  },
  {
   "cell_type": "code",
   "execution_count": null,
   "metadata": {},
   "outputs": [],
   "source": []
  },
  {
   "cell_type": "code",
   "execution_count": null,
   "metadata": {},
   "outputs": [],
   "source": []
  },
  {
   "cell_type": "code",
   "execution_count": null,
   "metadata": {},
   "outputs": [],
   "source": []
  },
  {
   "cell_type": "code",
   "execution_count": null,
   "metadata": {},
   "outputs": [],
   "source": []
  },
  {
   "cell_type": "code",
   "execution_count": null,
   "metadata": {},
   "outputs": [],
   "source": []
  },
  {
   "cell_type": "markdown",
   "metadata": {},
   "source": [
    "# Data fitting\n",
    "Data is now ready for fitting. We fit both using Gaussian method and Advanced method. In both case we test first on a single pixel by setting the debug_idx parameter, and we use the fit results as initial guess for the full image fitting to increase performance (both speed and quality)."
   ]
  },
  {
   "cell_type": "markdown",
   "metadata": {},
   "source": [
    "## Preview of signal (counts vs lambda) "
   ]
  },
  {
   "cell_type": "code",
   "execution_count": null,
   "metadata": {},
   "outputs": [],
   "source": [
    "# plt.figure(0)\n",
    "integrated_signal = np.nanmean(np.nanmean(T,axis=0), axis=0)\n",
    "plt.plot(lambda_array, integrated_signal)\n"
   ]
  },
  {
   "cell_type": "markdown",
   "metadata": {},
   "source": [
    "## Fitting of integrated signal - 1D"
   ]
  },
  {
   "cell_type": "code",
   "execution_count": null,
   "metadata": {},
   "outputs": [],
   "source": [
    "fit = edgefitting_1D.GaussianBraggEdgeFitting(integrated_signal, \n",
    "                                              lambda_array, \n",
    "                                              spectrum_range=[4.0, 4.6],\n",
    "                                              bool_log=False,\n",
    "                                              est_pos=edge_pos,\n",
    "                                              pos_BC=lrange,\n",
    "                                              bool_smooth=True, \n",
    "                                              smooth_w=5,\n",
    "                                              bool_print=True,\n",
    "                                              smooth_n=1)\n"
   ]
  },
  {
   "cell_type": "markdown",
   "metadata": {},
   "source": [
    "## Gaussian fitting"
   ]
  },
  {
   "cell_type": "code",
   "execution_count": null,
   "metadata": {
    "ExecuteTime": {
     "end_time": "2020-10-02T09:47:35.424437Z",
     "start_time": "2020-10-02T09:47:32.383315Z"
    }
   },
   "outputs": [],
   "source": [
    "# here we test on a single pixel\n",
    "lrange = [4.0, 4.6]\n",
    "edge_pos = 4.4\n",
    "pixel = [300,300]\n",
    "fit = edgefitting_2D.GaussianBraggEdgeFitting_2D(T_mavg, \n",
    "                                                 lambda_array, \n",
    "                                                 lrange, \n",
    "                                                 mask=mask,\n",
    "                                                 bool_log=False,\n",
    "                                                 est_pos=edge_pos,\n",
    "                                                 pos_BC=lrange,\n",
    "                                                 bool_smooth=True, \n",
    "                                                 smooth_w=5, \n",
    "                                                 smooth_n=1, \n",
    "                                                 debug_idx=pixel)"
   ]
  },
  {
   "cell_type": "code",
   "execution_count": null,
   "metadata": {
    "ExecuteTime": {
     "end_time": "2020-10-02T10:33:02.100947Z",
     "start_time": "2020-10-02T09:48:56.195829Z"
    }
   },
   "outputs": [],
   "source": [
    "# lrange = [3.5, 4.5]\n",
    "# edge_pos = 4.14\n",
    "est_h = 0.7\n",
    "est_wid = 0.01\n",
    "pos_BC=[4.1,4.2]\n",
    "wid_BC=[0.0,0.02]\n",
    "fit_G = edgefitting_2D.GaussianBraggEdgeFitting_2D(T_mavg, \n",
    "                                                   lambda_array, \n",
    "                                                   lrange, \n",
    "                                                   mask=mask,\n",
    "                                                   bool_log=False,\n",
    "                                                   est_pos=edge_pos,\n",
    "                                                   est_wid=est_wid,\n",
    "                                                   est_h=est_h, \n",
    "                                                   pos_BC=pos_BC,\n",
    "                                                   wid_BC=wid_BC,\n",
    "                                                   bool_smooth=True,\n",
    "                                                   smooth_w=5,\n",
    "                                                   smooth_n=1,\n",
    "                                                   bool_print=1)\n",
    "#scipy.io.savemat('fit_gauss_111.mat',fit_G)"
   ]
  },
  {
   "cell_type": "markdown",
   "metadata": {},
   "source": [
    "## Advanced Fitting"
   ]
  },
  {
   "cell_type": "code",
   "execution_count": null,
   "metadata": {
    "ExecuteTime": {
     "end_time": "2020-10-02T11:05:58.807029Z",
     "start_time": "2020-10-02T11:05:55.783691Z"
    },
    "scrolled": false
   },
   "outputs": [],
   "source": [
    "fit = edgefitting_2D.AdvancedBraggEdgeFitting_2D(T_mavg, \n",
    "                                                 lambda_array,\n",
    "                                                 lrange,\n",
    "                                                 mask=mask,\n",
    "                                                 est_pos=edge_pos,\n",
    "                                                 bool_smooth=True,\n",
    "                                                 smooth_w=5,\n",
    "                                                 smooth_n=1, \n",
    "                                                 debug_idx=pixel)"
   ]
  },
  {
   "cell_type": "code",
   "execution_count": null,
   "metadata": {
    "ExecuteTime": {
     "end_time": "2020-10-02T18:53:05.865300Z",
     "start_time": "2020-10-02T11:07:09.932722Z"
    }
   },
   "outputs": [],
   "source": [
    "# lrange = [3.7, 4.5]\n",
    "# edge_pos = 4.14\n",
    "est_alpha = 0.001\n",
    "est_sigma = 0.01\n",
    "fit_A = edgefitting_2D.AdvancedBraggEdgeFitting_2D(T_mavg, \n",
    "                                                   lambda_array, \n",
    "                                                   lrange, \n",
    "                                                   mask=mask,\n",
    "                                                   est_pos=edge_pos,\n",
    "                                                   est_alpha=est_alpha,\n",
    "                                                   est_sigma=est_sigma,\n",
    "                                                   bool_smooth=True,\n",
    "                                                   smooth_w=5,smooth_n=1, \n",
    "                                                   bool_print=1)\n",
    "#scipy.io.savemat('fit_A_111.mat',fit_A)"
   ]
  },
  {
   "cell_type": "markdown",
   "metadata": {},
   "source": [
    "## Printing maps and comparing results\n",
    "### Edge position"
   ]
  },
  {
   "cell_type": "code",
   "execution_count": null,
   "metadata": {
    "ExecuteTime": {
     "end_time": "2020-10-05T07:27:36.041087Z",
     "start_time": "2020-10-05T07:27:35.730793Z"
    }
   },
   "outputs": [],
   "source": [
    "plt.subplot(1,2,1), plt.imshow(fit_A['edge_position'],vmin = 4.13, vmax = 4.15)\n",
    "plt.title('Advanced Fitting')\n",
    "plt.subplot(1,2,2), plt.imshow(fit_G['edge_position'],vmin = 4.13, vmax = 4.15)\n",
    "plt.title('Gaussian Fitting')\n",
    "plt.show()\n",
    "plt.close()"
   ]
  },
  {
   "cell_type": "markdown",
   "metadata": {},
   "source": [
    "### Edge height\n",
    "For the advanced edge fitting it is calculated as difference before and after.\n",
    "\n",
    "For the gaussian fitting it is calculated as the amplitude of the derivative gaussian fitting hence, it is actually the slope."
   ]
  },
  {
   "cell_type": "code",
   "execution_count": null,
   "metadata": {
    "ExecuteTime": {
     "end_time": "2020-10-05T07:31:44.015718Z",
     "start_time": "2020-10-05T07:31:43.767873Z"
    }
   },
   "outputs": [],
   "source": [
    "plt.subplot(1,2,1), plt.imshow(fit_A['edge_height'], vmin = 0, vmax = 0.32)\n",
    "plt.title('Advanced Fitting')\n",
    "plt.subplot(1,2,2), plt.imshow(fit_G['edge_slope'], vmin = 0, vmax = 0.008)\n",
    "plt.title('Gaussian Fitting')\n",
    "plt.show()\n",
    "plt.close()"
   ]
  },
  {
   "cell_type": "markdown",
   "metadata": {},
   "source": [
    "### Edge width"
   ]
  },
  {
   "cell_type": "code",
   "execution_count": null,
   "metadata": {
    "ExecuteTime": {
     "end_time": "2020-10-05T07:31:49.637275Z",
     "start_time": "2020-10-05T07:31:49.375959Z"
    }
   },
   "outputs": [],
   "source": [
    "plt.subplot(1,2,1), plt.imshow(fit_A['edge_width'], vmin = 0, vmax = 0.2)\n",
    "plt.title('Advanced Fitting')\n",
    "plt.subplot(1,2,2), plt.imshow(fit_G['edge_width'], vmin = 0, vmax = 0.015)\n",
    "plt.title('Gaussian Fitting')\n",
    "plt.show()\n",
    "plt.close()"
   ]
  }
 ],
 "metadata": {
  "kernelspec": {
   "display_name": "Python 3",
   "language": "python",
   "name": "python3"
  },
  "language_info": {
   "codemirror_mode": {
    "name": "ipython",
    "version": 3
   },
   "file_extension": ".py",
   "mimetype": "text/x-python",
   "name": "python",
   "nbconvert_exporter": "python",
   "pygments_lexer": "ipython3",
   "version": "3.6.10"
  },
  "toc": {
   "base_numbering": 1,
   "nav_menu": {},
   "number_sections": true,
   "sideBar": true,
   "skip_h1_title": false,
   "title_cell": "Table of Contents",
   "title_sidebar": "Contents",
   "toc_cell": false,
   "toc_position": {},
   "toc_section_display": true,
   "toc_window_display": false
  },
  "varInspector": {
   "cols": {
    "lenName": 16,
    "lenType": 16,
    "lenVar": 40
   },
   "kernels_config": {
    "python": {
     "delete_cmd_postfix": "",
     "delete_cmd_prefix": "del ",
     "library": "var_list.py",
     "varRefreshCmd": "print(var_dic_list())"
    },
    "r": {
     "delete_cmd_postfix": ") ",
     "delete_cmd_prefix": "rm(",
     "library": "var_list.r",
     "varRefreshCmd": "cat(var_dic_list()) "
    }
   },
   "types_to_exclude": [
    "module",
    "function",
    "builtin_function_or_method",
    "instance",
    "_Feature"
   ],
   "window_display": true
  }
 },
 "nbformat": 4,
 "nbformat_minor": 2
}
