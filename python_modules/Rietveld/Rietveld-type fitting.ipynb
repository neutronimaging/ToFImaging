{
 "cells": [
  {
   "cell_type": "markdown",
   "metadata": {
    "toc": true
   },
   "source": [
    "<h1>Table of Contents<span class=\"tocSkip\"></span></h1>\n",
    "<div class=\"toc\"><ul class=\"toc-item\"><li><span><a href=\"#TODO\" data-toc-modified-id=\"TODO-1\"><span class=\"toc-item-num\">1&nbsp;&nbsp;</span>TODO</a></span></li><li><span><a href=\"#Introduction\" data-toc-modified-id=\"Introduction-2\"><span class=\"toc-item-num\">2&nbsp;&nbsp;</span>Introduction</a></span><ul class=\"toc-item\"><li><span><a href=\"#Dependencies\" data-toc-modified-id=\"Dependencies-2.1\"><span class=\"toc-item-num\">2.1&nbsp;&nbsp;</span>Dependencies</a></span></li><li><span><a href=\"#lmfit\" data-toc-modified-id=\"lmfit-2.2\"><span class=\"toc-item-num\">2.2&nbsp;&nbsp;</span>lmfit</a></span><ul class=\"toc-item\"><li><span><a href=\"#Example\" data-toc-modified-id=\"Example-2.2.1\"><span class=\"toc-item-num\">2.2.1&nbsp;&nbsp;</span>Example</a></span><ul class=\"toc-item\"><li><span><a href=\"#Generate-some-data\" data-toc-modified-id=\"Generate-some-data-2.2.1.1\"><span class=\"toc-item-num\">2.2.1.1&nbsp;&nbsp;</span>Generate some data</a></span></li><li><span><a href=\"#Do-the-fitting\" data-toc-modified-id=\"Do-the-fitting-2.2.1.2\"><span class=\"toc-item-num\">2.2.1.2&nbsp;&nbsp;</span>Do the fitting</a></span></li></ul></li></ul></li></ul></li><li><span><a href=\"#NCrystal\" data-toc-modified-id=\"NCrystal-3\"><span class=\"toc-item-num\">3&nbsp;&nbsp;</span>NCrystal</a></span></li><li><span><a href=\"#Example\" data-toc-modified-id=\"Example-4\"><span class=\"toc-item-num\">4&nbsp;&nbsp;</span>Example</a></span><ul class=\"toc-item\"><li><span><a href=\"#Calculate-the-total-cross-section\" data-toc-modified-id=\"Calculate-the-total-cross-section-4.1\"><span class=\"toc-item-num\">4.1&nbsp;&nbsp;</span>Calculate the total cross section</a></span></li><li><span><a href=\"#Do-a-Monte-Carlo-simulation\" data-toc-modified-id=\"Do-a-Monte-Carlo-simulation-4.2\"><span class=\"toc-item-num\">4.2&nbsp;&nbsp;</span>Do a Monte Carlo simulation</a></span><ul class=\"toc-item\"><li><span><a href=\"#Calculate-scattering\" data-toc-modified-id=\"Calculate-scattering-4.2.1\"><span class=\"toc-item-num\">4.2.1&nbsp;&nbsp;</span>Calculate scattering</a></span></li></ul></li></ul></li><li><span><a href=\"#Atomic-Simulation-Environment-(ASE)\" data-toc-modified-id=\"Atomic-Simulation-Environment-(ASE)-5\"><span class=\"toc-item-num\">5&nbsp;&nbsp;</span>Atomic Simulation Environment (ASE)</a></span><ul class=\"toc-item\"><li><span><a href=\"#ASE-Visualization\" data-toc-modified-id=\"ASE-Visualization-5.1\"><span class=\"toc-item-num\">5.1&nbsp;&nbsp;</span>ASE Visualization</a></span></li><li><span><a href=\"#Ideal-scattering-cross-section\" data-toc-modified-id=\"Ideal-scattering-cross-section-5.2\"><span class=\"toc-item-num\">5.2&nbsp;&nbsp;</span>Ideal scattering cross section</a></span></li><li><span><a href=\"#Adding-finite-resolution\" data-toc-modified-id=\"Adding-finite-resolution-5.3\"><span class=\"toc-item-num\">5.3&nbsp;&nbsp;</span>Adding finite resolution</a></span></li></ul></li><li><span><a href=\"#Adding-background\" data-toc-modified-id=\"Adding-background-6\"><span class=\"toc-item-num\">6&nbsp;&nbsp;</span>Adding background</a></span></li><li><span><a href=\"#Adding-both-background-and-finite-resolution\" data-toc-modified-id=\"Adding-both-background-and-finite-resolution-7\"><span class=\"toc-item-num\">7&nbsp;&nbsp;</span>Adding both background and finite resolution</a></span></li><li><span><a href=\"#Different-lattice-constants\" data-toc-modified-id=\"Different-lattice-constants-8\"><span class=\"toc-item-num\">8&nbsp;&nbsp;</span>Different lattice constants</a></span></li><li><span><a href=\"#Mixture\" data-toc-modified-id=\"Mixture-9\"><span class=\"toc-item-num\">9&nbsp;&nbsp;</span>Mixture</a></span></li><li><span><a href=\"#Fitting-using-lmfit-and-NCAtoms-/-Mixture\" data-toc-modified-id=\"Fitting-using-lmfit-and-NCAtoms-/-Mixture-10\"><span class=\"toc-item-num\">10&nbsp;&nbsp;</span>Fitting using lmfit and NCAtoms / Mixture</a></span><ul class=\"toc-item\"><li><span><a href=\"#Fitting-to-ideal-data\" data-toc-modified-id=\"Fitting-to-ideal-data-10.1\"><span class=\"toc-item-num\">10.1&nbsp;&nbsp;</span>Fitting to ideal data</a></span></li><li><span><a href=\"#Fitting-to-noisy-data\" data-toc-modified-id=\"Fitting-to-noisy-data-10.2\"><span class=\"toc-item-num\">10.2&nbsp;&nbsp;</span>Fitting to noisy data</a></span></li></ul></li><li><span><a href=\"#Real-data\" data-toc-modified-id=\"Real-data-11\"><span class=\"toc-item-num\">11&nbsp;&nbsp;</span>Real data</a></span><ul class=\"toc-item\"><li><span><a href=\"#Using-a-spectrum\" data-toc-modified-id=\"Using-a-spectrum-11.1\"><span class=\"toc-item-num\">11.1&nbsp;&nbsp;</span>Using a spectrum</a></span><ul class=\"toc-item\"><li><span><a href=\"#Noisy-with-background-and-resolution\" data-toc-modified-id=\"Noisy-with-background-and-resolution-11.1.1\"><span class=\"toc-item-num\">11.1.1&nbsp;&nbsp;</span>Noisy with background and resolution</a></span></li></ul></li><li><span><a href=\"#Fitting-using-lmfit.Model\" data-toc-modified-id=\"Fitting-using-lmfit.Model-11.2\"><span class=\"toc-item-num\">11.2&nbsp;&nbsp;</span>Fitting using lmfit.Model</a></span></li><li><span><a href=\"#Fitting-content\" data-toc-modified-id=\"Fitting-content-11.3\"><span class=\"toc-item-num\">11.3&nbsp;&nbsp;</span>Fitting content</a></span></li></ul></li></ul></div>"
   ]
  },
  {
   "cell_type": "markdown",
   "metadata": {},
   "source": [
    "## TODO\n",
    "\n",
    "1. Weight with spectrum of beam for ISIS data - $(\\checkmark)$ can be done, but needs ISIS data\n",
    "1. Fold with correct resolution function for ISIS data and check that convolution is correctly done -> Anders\n",
    "1. Convert from cross section to attenuation using ASE - $\\checkmark$\n",
    "1. Fit normalization constant and background - option to set normalization constant `scale` has not tried fitting.\n",
    "1. Device more robust fitting algorithm - test lmfit emcce or other Bayesian method, like BUMPS\n",
    "1. Texture?\n",
    "1. Create proper module with proper document \n",
    "1. Simple Python bindings"
   ]
  },
  {
   "cell_type": "markdown",
   "metadata": {},
   "source": [
    "# Rietveld-type analysis of time-of-flight imaging data"
   ]
  },
  {
   "cell_type": "markdown",
   "metadata": {},
   "source": [
    "## Introduction\n",
    "\n",
    "In this notebook, we will develop tools for fitting ToF data sets with scattering cross sections. Scattering cross sections will be calculated with `NCrystal` and fitting with `lmfit` and `ase` will be used to construct atomic structures whose lattice parameters then can be fitted. Besides that, we will also use the `distributions` module in `scipy` and (of course) `numpy` and `matplotlib` and also `pandas`."
   ]
  },
  {
   "cell_type": "markdown",
   "metadata": {},
   "source": [
    "### Dependencies"
   ]
  },
  {
   "cell_type": "code",
   "execution_count": 1,
   "metadata": {
    "ExecuteTime": {
     "end_time": "2019-12-09T12:35:11.574214Z",
     "start_time": "2019-12-09T12:35:06.711848Z"
    }
   },
   "outputs": [],
   "source": [
    "import sys\n",
    "import os\n",
    "import re\n",
    "\n",
    "import numpy as np\n",
    "import pandas\n",
    "\n",
    "from matplotlib import pyplot as plt\n",
    "%matplotlib inline  \n",
    "\n",
    "from scipy.stats import distributions\n",
    "import lmfit\n",
    "\n",
    "# set path to NCrystal if needed (most likely system dependent)\n",
    "\n",
    "ncrystal_path = '/usr/local/ncrystal'\n",
    "\n",
    "sys.path.append(os.path.join(ncrystal_path, 'python'))\n",
    "\n",
    "import NCrystal\n",
    "\n",
    "import ase\n",
    "from ase.build import bulk\n",
    "import ase.spacegroup\n",
    "from ase.visualize import view\n",
    "\n",
    "#import scipp # ESS developed data container for multi-dimensional data with associated uncertainties and units\n",
    "\n",
    "\n"
   ]
  },
  {
   "cell_type": "code",
   "execution_count": 2,
   "metadata": {
    "ExecuteTime": {
     "end_time": "2019-12-09T12:35:11.605959Z",
     "start_time": "2019-12-09T12:35:11.595062Z"
    }
   },
   "outputs": [
    {
     "data": {
      "text/plain": [
       "3.468433482757507"
      ]
     },
     "execution_count": 2,
     "metadata": {},
     "output_type": "execute_result"
    }
   ],
   "source": [
    "NCrystal.ekin2wl(0.0068)"
   ]
  },
  {
   "cell_type": "markdown",
   "metadata": {},
   "source": [
    "### lmfit\n",
    "lmfit (https://lmfit.github.io/lmfit-py/intro.html) is used for fitting here. \n",
    "\n",
    "In these machine-learning times, probabilistic programming modules like pyro (facebook) \n",
    "or the alternative one from google could perhaps be an alternative.\n",
    "\n",
    "#### Example\n",
    "Define a model, `f`, parameters `params` to be optimized, and function to be minimized `fom` (difference between actual data and model):"
   ]
  },
  {
   "cell_type": "code",
   "execution_count": 3,
   "metadata": {
    "ExecuteTime": {
     "end_time": "2019-12-09T12:35:13.939304Z",
     "start_time": "2019-12-09T12:35:13.934943Z"
    }
   },
   "outputs": [],
   "source": [
    "def f(x, a, b):\n",
    "    return a*x + b"
   ]
  },
  {
   "cell_type": "markdown",
   "metadata": {},
   "source": [
    "##### Generate some data\n",
    "Let's create the grid to evaluate the model function on and for which the target data are defined. We use the model function to create the target data and then add some random noise to them."
   ]
  },
  {
   "cell_type": "code",
   "execution_count": 4,
   "metadata": {
    "ExecuteTime": {
     "end_time": "2019-12-09T12:35:15.960839Z",
     "start_time": "2019-12-09T12:35:15.956748Z"
    }
   },
   "outputs": [],
   "source": [
    "N = 20\n",
    "x = distributions.uniform(loc=-2, scale=6).rvs(N) # select 20 random x values in the interval from -2 to 4"
   ]
  },
  {
   "cell_type": "code",
   "execution_count": 5,
   "metadata": {
    "ExecuteTime": {
     "end_time": "2019-12-09T12:35:16.605927Z",
     "start_time": "2019-12-09T12:35:16.601005Z"
    }
   },
   "outputs": [],
   "source": [
    "target_data = f(x, -1, 1) + distributions.norm(loc=0, scale=0.8).rvs(20)"
   ]
  },
  {
   "cell_type": "markdown",
   "metadata": {},
   "source": [
    "Have a look"
   ]
  },
  {
   "cell_type": "code",
   "execution_count": 6,
   "metadata": {
    "ExecuteTime": {
     "end_time": "2019-12-09T12:35:18.615936Z",
     "start_time": "2019-12-09T12:35:18.331719Z"
    },
    "scrolled": true
   },
   "outputs": [
    {
     "data": {
      "text/plain": [
       "[<matplotlib.lines.Line2D at 0x1a202a49d0>]"
      ]
     },
     "execution_count": 6,
     "metadata": {},
     "output_type": "execute_result"
    },
    {
     "data": {
      "image/png": "[encoded data removed]",
      "text/plain": [
       "<Figure size 432x288 with 1 Axes>"
      ]
     },
     "metadata": {
      "needs_background": "light"
     },
     "output_type": "display_data"
    }
   ],
   "source": [
    "plt.plot(x, target_data, 'o')"
   ]
  },
  {
   "cell_type": "markdown",
   "metadata": {},
   "source": [
    "##### Do the fitting"
   ]
  },
  {
   "cell_type": "markdown",
   "metadata": {},
   "source": [
    "Use the lmfit `Parameters` class (https://lmfit.github.io/lmfit-py/parameters.html) for defining parameters ()"
   ]
  },
  {
   "cell_type": "code",
   "execution_count": 7,
   "metadata": {
    "ExecuteTime": {
     "end_time": "2019-12-09T12:35:20.967358Z",
     "start_time": "2019-12-09T12:35:20.961982Z"
    }
   },
   "outputs": [],
   "source": [
    "p = lmfit.Parameters()\n",
    "p.add('a', value=1)\n",
    "p.add('b', value=-1)"
   ]
  },
  {
   "cell_type": "markdown",
   "metadata": {},
   "source": [
    "The function to be minimized:"
   ]
  },
  {
   "cell_type": "code",
   "execution_count": 8,
   "metadata": {
    "ExecuteTime": {
     "end_time": "2019-12-09T12:35:22.595668Z",
     "start_time": "2019-12-09T12:35:22.584211Z"
    }
   },
   "outputs": [],
   "source": [
    "def fom(params, x, target_data):\n",
    "    return f(x,**params) - target_data"
   ]
  },
  {
   "cell_type": "markdown",
   "metadata": {},
   "source": [
    "Define a function to be called for each iteration in the minimization"
   ]
  },
  {
   "cell_type": "code",
   "execution_count": 9,
   "metadata": {
    "ExecuteTime": {
     "end_time": "2019-12-09T12:35:25.297891Z",
     "start_time": "2019-12-09T12:35:25.293755Z"
    }
   },
   "outputs": [],
   "source": [
    "def iter_cb(params, i, resid, x, target_data):\n",
    "    print(\"{} a={a:5.2f} b={b:5.2f}\".format(i, **params.valuesdict()))"
   ]
  },
  {
   "cell_type": "code",
   "execution_count": 10,
   "metadata": {
    "ExecuteTime": {
     "end_time": "2019-12-09T12:35:25.988334Z",
     "start_time": "2019-12-09T12:35:25.983377Z"
    }
   },
   "outputs": [],
   "source": [
    "mn = lmfit.Minimizer(fom, p, fcn_args=(x, target_data), iter_cb=iter_cb)"
   ]
  },
  {
   "cell_type": "code",
   "execution_count": 11,
   "metadata": {
    "ExecuteTime": {
     "end_time": "2019-12-09T12:35:26.774107Z",
     "start_time": "2019-12-09T12:35:26.746978Z"
    }
   },
   "outputs": [
    {
     "name": "stdout",
     "output_type": "stream",
     "text": [
      "-1 a= 1.00 b=-1.00\n",
      "0 a= 1.00 b=-1.00\n",
      "1 a= 1.00 b=-1.00\n",
      "2 a= 1.00 b=-1.00\n",
      "3 a= 1.00 b=-1.00\n",
      "4 a=-0.86 b= 1.19\n",
      "5 a=-0.86 b= 1.19\n",
      "6 a=-0.86 b= 1.19\n",
      "7 a=-0.86 b= 1.19\n"
     ]
    }
   ],
   "source": [
    "result = mn.minimize()"
   ]
  },
  {
   "cell_type": "code",
   "execution_count": 12,
   "metadata": {
    "ExecuteTime": {
     "end_time": "2019-12-09T12:35:27.534178Z",
     "start_time": "2019-12-09T12:35:27.529674Z"
    }
   },
   "outputs": [
    {
     "name": "stdout",
     "output_type": "stream",
     "text": [
      "[[Fit Statistics]]\n",
      "    # fitting method   = leastsq\n",
      "    # function evals   = 6\n",
      "    # data points      = 20\n",
      "    # variables        = 2\n",
      "    chi-square         = 9.34017796\n",
      "    reduced chi-square = 0.51889878\n",
      "    Akaike info crit   = -11.2281394\n",
      "    Bayesian info crit = -9.23667481\n",
      "[[Variables]]\n",
      "    a: -0.86395178 +/- 0.10934066 (12.66%) (init = 1)\n",
      "    b:  1.18630567 +/- 0.18387450 (15.50%) (init = -1)\n",
      "[[Correlations]] (unreported correlations are < 0.100)\n",
      "    C(a, b) = -0.482\n"
     ]
    }
   ],
   "source": [
    "lmfit.report_fit(result)"
   ]
  },
  {
   "cell_type": "markdown",
   "metadata": {},
   "source": [
    "Plot initial guess, fitted data, and target data"
   ]
  },
  {
   "cell_type": "code",
   "execution_count": 13,
   "metadata": {
    "ExecuteTime": {
     "end_time": "2019-12-09T12:35:29.219934Z",
     "start_time": "2019-12-09T12:35:29.034810Z"
    }
   },
   "outputs": [
    {
     "data": {
      "image/png": "[encoded data removed]",
      "text/plain": [
       "<Figure size 432x288 with 1 Axes>"
      ]
     },
     "metadata": {
      "needs_background": "light"
     },
     "output_type": "display_data"
    }
   ],
   "source": [
    "plot_elements = plt.plot(x, f(x, **result.params.valuesdict()), x, f(x, **p.valuesdict()), x, target_data, 'o')\n",
    "plt.legend(plot_elements, ('Model fit', 'Initial guess', 'Target data') )  # a bit of an indirect way for adding labels\n",
    "plt.show()"
   ]
  },
  {
   "cell_type": "markdown",
   "metadata": {},
   "source": [
    "## NCrystal\n",
    "\n",
    "NCrystal (https://github.com/mctools/ncrystal) \"for Monte Carlo simulations of thermal neutrons in\n",
    "crystals. Initial releases focus on scattering in single-crystals or\n",
    "polycrystalline materials and powders, including both coherent elastic (Bragg)\n",
    "diffraction and various models for inelastic scattering on phonons.\"\n",
    "\n",
    "The Python interface is not well developed and works to a lot of extend through strings. Moreover, it does not readily give access to the different components to the total scattering cross section or keep track of whether a scatterer is isotropic or not"
   ]
  },
  {
   "cell_type": "markdown",
   "metadata": {},
   "source": [
    "## Example"
   ]
  },
  {
   "cell_type": "code",
   "execution_count": 14,
   "metadata": {
    "ExecuteTime": {
     "end_time": "2019-12-09T12:35:31.620740Z",
     "start_time": "2019-12-09T12:35:31.598746Z"
    },
    "scrolled": true
   },
   "outputs": [],
   "source": [
    "# set path to NCrystal\n",
    "\n",
    "# create isotropic Fe scatter\n",
    "pc = NCrystal.createScatter(\"Fe_sg229_Iron-beta.ncmat;dcutoff=0.5;temp=25C\")\n",
    "\n",
    "# create adsorption\n",
    "ab = NCrystal.createAbsorption(\"Fe_sg229_Iron-beta.ncmat;dcutoff=0.5;temp=25C\")\n",
    "\n",
    "# create info\n",
    "info = NCrystal.createInfo(\"Fe_sg229_Iron-beta.ncmat;dcutoff=0.5;temp=25C\")\n"
   ]
  },
  {
   "cell_type": "markdown",
   "metadata": {},
   "source": [
    "Where the ncmat file contains"
   ]
  },
  {
   "cell_type": "code",
   "execution_count": 15,
   "metadata": {
    "ExecuteTime": {
     "end_time": "2019-12-09T12:35:33.042552Z",
     "start_time": "2019-12-09T12:35:33.035718Z"
    }
   },
   "outputs": [
    {
     "name": "stdout",
     "output_type": "stream",
     "text": [
      "NCMAT v1\n",
      "#converted from the cif file of the entry 0011215 in the AMCSD\n",
      "#reference: Wyckoff R W G, Crystal Structures, vol. 1, p. 7-83, 1963.\n",
      "#comment: The Debye temperature is derived from the Debye-waller factor at 293K compiled in the supplement of Acta Cryst., A52, p. 456-470, 1996\n",
      "@CELL\n",
      "    lengths 2.91 2.91 2.91 \n",
      "    angles 90. 90. 90. \n",
      "@SPACEGROUP\n",
      "    229\n",
      "@ATOMPOSITIONS\n",
      "    Fe 0. 0. 0.\n",
      "    Fe 0.5 0.5 0.5\n",
      "@DEBYETEMPERATURE\n",
      "    Fe   334.6089\n",
      "\n"
     ]
    }
   ],
   "source": [
    "print(open(os.path.join(ncrystal_path, \"data/Fe_sg229_Iron-beta.ncmat\")).read())"
   ]
  },
  {
   "cell_type": "markdown",
   "metadata": {},
   "source": [
    "### Calculate the total cross section"
   ]
  },
  {
   "cell_type": "code",
   "execution_count": 16,
   "metadata": {
    "ExecuteTime": {
     "end_time": "2019-12-09T12:35:34.935775Z",
     "start_time": "2019-12-09T12:35:34.642931Z"
    },
    "scrolled": true
   },
   "outputs": [
    {
     "data": {
      "text/plain": [
       "<matplotlib.legend.Legend at 0x1a208bb1d0>"
      ]
     },
     "execution_count": 16,
     "metadata": {},
     "output_type": "execute_result"
    },
    {
     "data": {
      "image/png": "[encoded data removed]",
      "text/plain": [
       "<Figure size 432x288 with 1 Axes>"
      ]
     },
     "metadata": {
      "needs_background": "light"
     },
     "output_type": "display_data"
    }
   ],
   "source": [
    "# create the grid we will evaluate the cross section on\n",
    "wavelengths = np.linspace(0.5, 8, 100)\n",
    "\n",
    "ekins = NCrystal.wl2ekin(wavelengths)\n",
    "\n",
    "\n",
    "# Calculate total cross sections\n",
    "xsections = pc.crossSectionNonOriented(ekins)\n",
    "absorption = ab.crossSectionNonOriented(ekins)\n",
    "total = xsections + absorption\n",
    "\n",
    "lines = plt.plot(wavelengths, xsections, wavelengths, absorption, wavelengths, total)\n",
    "\n",
    "plt.legend(lines, (\"Scattering\", \"Absorption\", \"Total\"))"
   ]
  },
  {
   "cell_type": "markdown",
   "metadata": {},
   "source": [
    "The `getStructureInfo()` method can return various information, e.g. "
   ]
  },
  {
   "cell_type": "code",
   "execution_count": 17,
   "metadata": {
    "ExecuteTime": {
     "end_time": "2019-12-09T12:35:36.130710Z",
     "start_time": "2019-12-09T12:35:36.124146Z"
    }
   },
   "outputs": [
    {
     "data": {
      "text/plain": [
       "2.91"
      ]
     },
     "execution_count": 17,
     "metadata": {},
     "output_type": "execute_result"
    }
   ],
   "source": [
    "information = info.getStructureInfo()\n",
    "info.dspacingFromHKL(1,0,0)"
   ]
  },
  {
   "cell_type": "code",
   "execution_count": 18,
   "metadata": {
    "ExecuteTime": {
     "end_time": "2019-12-09T12:35:36.874637Z",
     "start_time": "2019-12-09T12:35:36.866486Z"
    }
   },
   "outputs": [
    {
     "data": {
      "text/plain": [
       "(11.213356678102755, 2.56)"
      ]
     },
     "execution_count": 18,
     "metadata": {},
     "output_type": "execute_result"
    }
   ],
   "source": [
    "info.getXSectFree(), info.getXSectAbsorption()"
   ]
  },
  {
   "cell_type": "markdown",
   "metadata": {},
   "source": [
    "### Do a Monte Carlo simulation"
   ]
  },
  {
   "cell_type": "code",
   "execution_count": 19,
   "metadata": {
    "ExecuteTime": {
     "end_time": "2019-12-09T12:35:38.472901Z",
     "start_time": "2019-12-09T12:35:38.466157Z"
    }
   },
   "outputs": [
    {
     "data": {
      "text/plain": [
       "(1.591382201102494, -3.4698389580006443)"
      ]
     },
     "execution_count": 19,
     "metadata": {},
     "output_type": "execute_result"
    }
   ],
   "source": [
    "pc.generateScatteringNonOriented(3.5)"
   ]
  },
  {
   "cell_type": "code",
   "execution_count": 20,
   "metadata": {
    "ExecuteTime": {
     "end_time": "2019-12-09T12:35:39.368805Z",
     "start_time": "2019-12-09T12:35:39.361043Z"
    }
   },
   "outputs": [
    {
     "name": "stdout",
     "output_type": "stream",
     "text": [
      "A neutron was scattered with an energy change of -3.487 meV and scattering angle of 2.214 rad\n",
      "A neutron was scattered with an energy change of -3.458 meV and scattering angle of 1.110 rad\n",
      "A neutron was scattered with an energy change of -3.476 meV and scattering angle of 1.012 rad\n",
      "A neutron was scattered with an energy change of -3.488 meV and scattering angle of 2.008 rad\n",
      "A neutron was scattered with an energy change of -3.469 meV and scattering angle of 1.749 rad\n",
      "A neutron was scattered with an energy change of -3.464 meV and scattering angle of 1.000 rad\n",
      "A neutron was scattered with an energy change of -3.495 meV and scattering angle of 0.293 rad\n",
      "A neutron was scattered with an energy change of -3.470 meV and scattering angle of 1.050 rad\n",
      "A neutron was scattered with an energy change of -3.462 meV and scattering angle of 2.410 rad\n",
      "A neutron was scattered with an energy change of -3.462 meV and scattering angle of 3.011 rad\n"
     ]
    }
   ],
   "source": [
    "for i in range(10):\n",
    "    print(\"A neutron was scattered with an energy change of {1:.3f} meV and scattering angle of {0:.3f} rad\".format(\n",
    "    *pc.generateScatteringNonOriented(3.5 ) ) )"
   ]
  },
  {
   "cell_type": "markdown",
   "metadata": {},
   "source": [
    "#### Calculate scattering"
   ]
  },
  {
   "cell_type": "code",
   "execution_count": 21,
   "metadata": {
    "ExecuteTime": {
     "end_time": "2019-12-09T12:35:45.127231Z",
     "start_time": "2019-12-09T12:35:41.075205Z"
    }
   },
   "outputs": [
    {
     "data": {
      "text/html": [
       "<div>\n",
       "<style scoped>\n",
       "    .dataframe tbody tr th:only-of-type {\n",
       "        vertical-align: middle;\n",
       "    }\n",
       "\n",
       "    .dataframe tbody tr th {\n",
       "        vertical-align: top;\n",
       "    }\n",
       "\n",
       "    .dataframe thead th {\n",
       "        text-align: right;\n",
       "    }\n",
       "</style>\n",
       "<table border=\"1\" class=\"dataframe\">\n",
       "  <thead>\n",
       "    <tr style=\"text-align: right;\">\n",
       "      <th></th>\n",
       "      <th>dE (meV)</th>\n",
       "      <th>scat. angle (rad)</th>\n",
       "      <th>scat. angle (deg)</th>\n",
       "    </tr>\n",
       "  </thead>\n",
       "  <tbody>\n",
       "    <tr>\n",
       "      <th>0</th>\n",
       "      <td>-5.467566</td>\n",
       "      <td>1.809988</td>\n",
       "      <td>103.704684</td>\n",
       "    </tr>\n",
       "    <tr>\n",
       "      <th>1</th>\n",
       "      <td>-5.455859</td>\n",
       "      <td>0.267840</td>\n",
       "      <td>15.346107</td>\n",
       "    </tr>\n",
       "    <tr>\n",
       "      <th>2</th>\n",
       "      <td>-5.451585</td>\n",
       "      <td>1.218362</td>\n",
       "      <td>69.806991</td>\n",
       "    </tr>\n",
       "    <tr>\n",
       "      <th>3</th>\n",
       "      <td>-5.487762</td>\n",
       "      <td>1.151451</td>\n",
       "      <td>65.973268</td>\n",
       "    </tr>\n",
       "    <tr>\n",
       "      <th>4</th>\n",
       "      <td>-5.457158</td>\n",
       "      <td>1.242868</td>\n",
       "      <td>71.211083</td>\n",
       "    </tr>\n",
       "    <tr>\n",
       "      <th>...</th>\n",
       "      <td>...</td>\n",
       "      <td>...</td>\n",
       "      <td>...</td>\n",
       "    </tr>\n",
       "    <tr>\n",
       "      <th>999995</th>\n",
       "      <td>-5.439501</td>\n",
       "      <td>1.297216</td>\n",
       "      <td>74.324989</td>\n",
       "    </tr>\n",
       "    <tr>\n",
       "      <th>999996</th>\n",
       "      <td>-5.468598</td>\n",
       "      <td>1.647431</td>\n",
       "      <td>94.390823</td>\n",
       "    </tr>\n",
       "    <tr>\n",
       "      <th>999997</th>\n",
       "      <td>-5.457452</td>\n",
       "      <td>2.295249</td>\n",
       "      <td>131.508054</td>\n",
       "    </tr>\n",
       "    <tr>\n",
       "      <th>999998</th>\n",
       "      <td>-5.399976</td>\n",
       "      <td>1.723282</td>\n",
       "      <td>98.736775</td>\n",
       "    </tr>\n",
       "    <tr>\n",
       "      <th>999999</th>\n",
       "      <td>-5.492289</td>\n",
       "      <td>1.416948</td>\n",
       "      <td>81.185112</td>\n",
       "    </tr>\n",
       "  </tbody>\n",
       "</table>\n",
       "<p>1000000 rows × 3 columns</p>\n",
       "</div>"
      ],
      "text/plain": [
       "        dE (meV)  scat. angle (rad)  scat. angle (deg)\n",
       "0      -5.467566           1.809988         103.704684\n",
       "1      -5.455859           0.267840          15.346107\n",
       "2      -5.451585           1.218362          69.806991\n",
       "3      -5.487762           1.151451          65.973268\n",
       "4      -5.457158           1.242868          71.211083\n",
       "...          ...                ...                ...\n",
       "999995 -5.439501           1.297216          74.324989\n",
       "999996 -5.468598           1.647431          94.390823\n",
       "999997 -5.457452           2.295249         131.508054\n",
       "999998 -5.399976           1.723282          98.736775\n",
       "999999 -5.492289           1.416948          81.185112\n",
       "\n",
       "[1000000 rows x 3 columns]"
      ]
     },
     "execution_count": 21,
     "metadata": {},
     "output_type": "execute_result"
    }
   ],
   "source": [
    "# Perform a million events for some incoming wavelengths\n",
    "\n",
    "wavelengths = [4.5, 5., 5.5]\n",
    "sample_size = 1000000\n",
    "ones = np.ones(sample_size)\n",
    "\n",
    "data_sets = {}\n",
    "\n",
    "for wl in wavelengths:\n",
    "    data = pandas.DataFrame()\n",
    "    thetas, des = pc.generateScatteringNonOriented(wl*ones)\n",
    "    data['dE (meV)'] = des\n",
    "    data['scat. angle (rad)'] = thetas\n",
    "    data['scat. angle (deg)'] = 180*thetas/np.pi\n",
    "    data_sets[wl] = data\n",
    "    \n",
    "data"
   ]
  },
  {
   "cell_type": "code",
   "execution_count": 22,
   "metadata": {
    "ExecuteTime": {
     "end_time": "2019-12-09T12:35:47.392473Z",
     "start_time": "2019-12-09T12:35:46.013291Z"
    }
   },
   "outputs": [
    {
     "data": {
      "text/plain": [
       "<matplotlib.axes._subplots.AxesSubplot at 0x1a1fe31190>"
      ]
     },
     "execution_count": 22,
     "metadata": {},
     "output_type": "execute_result"
    },
    {
     "data": {
      "image/png": "[encoded data removed]",
      "text/plain": [
       "<Figure size 432x288 with 1 Axes>"
      ]
     },
     "metadata": {
      "needs_background": "light"
     },
     "output_type": "display_data"
    }
   ],
   "source": [
    "data_sets[wl]['scat. angle (deg)'].hist(bins=500)"
   ]
  },
  {
   "cell_type": "markdown",
   "metadata": {},
   "source": [
    "The sine above reflects the isotropic scattering (non-coherent) whereas the peaks are coherent scattering (i.e. diffraction. Clearly, only scattering events are returned (i.e. no transmission). The constant wavelengths diffraction pattern at 5 AA is shown below (by zooming in)"
   ]
  },
  {
   "cell_type": "code",
   "execution_count": 23,
   "metadata": {
    "ExecuteTime": {
     "end_time": "2019-12-09T12:35:49.471070Z",
     "start_time": "2019-12-09T12:35:48.912477Z"
    }
   },
   "outputs": [
    {
     "data": {
      "text/plain": [
       "<matplotlib.axes._subplots.AxesSubplot at 0x1a2a948690>"
      ]
     },
     "execution_count": 23,
     "metadata": {},
     "output_type": "execute_result"
    },
    {
     "data": {
      "image/png": "[encoded data removed]",
      "text/plain": [
       "<Figure size 432x288 with 1 Axes>"
      ]
     },
     "metadata": {
      "needs_background": "light"
     },
     "output_type": "display_data"
    }
   ],
   "source": [
    "data_sets[wl]['scat. angle (deg)'].hist(bins=200, range=(0,15))"
   ]
  },
  {
   "cell_type": "code",
   "execution_count": 24,
   "metadata": {
    "ExecuteTime": {
     "end_time": "2019-12-09T12:35:51.985074Z",
     "start_time": "2019-12-09T12:35:50.201607Z"
    }
   },
   "outputs": [
    {
     "data": {
      "text/plain": [
       "<matplotlib.legend.Legend at 0x1a24e39f50>"
      ]
     },
     "execution_count": 24,
     "metadata": {},
     "output_type": "execute_result"
    },
    {
     "data": {
      "image/png": "[encoded data removed]",
      "text/plain": [
       "<Figure size 432x288 with 1 Axes>"
      ]
     },
     "metadata": {
      "needs_background": "light"
     },
     "output_type": "display_data"
    }
   ],
   "source": [
    "for wl in wavelengths:\n",
    "    plt.hist(data_sets[wl]['scat. angle (deg)'], np.linspace(0,15,200), label='{} AA'.format(wl))\n",
    "    \n",
    "plt.legend(loc='upper left')\n"
   ]
  },
  {
   "cell_type": "markdown",
   "metadata": {},
   "source": [
    "## Atomic Simulation Environment (ASE)\n",
    "ASE is useful for constructing advanced crystal structures. Here will use the simple build features for bulk systems and the spacegroup module to get the spacegroup of a structure"
   ]
  },
  {
   "cell_type": "code",
   "execution_count": 25,
   "metadata": {
    "ExecuteTime": {
     "end_time": "2019-12-09T12:35:53.938373Z",
     "start_time": "2019-12-09T12:35:53.933518Z"
    }
   },
   "outputs": [],
   "source": [
    "Cu_prim = bulk('Cu')"
   ]
  },
  {
   "cell_type": "code",
   "execution_count": 26,
   "metadata": {
    "ExecuteTime": {
     "end_time": "2019-12-09T12:35:54.835641Z",
     "start_time": "2019-12-09T12:35:54.828763Z"
    }
   },
   "outputs": [
    {
     "data": {
      "text/plain": [
       "array([[0., 0., 0.]])"
      ]
     },
     "execution_count": 26,
     "metadata": {},
     "output_type": "execute_result"
    }
   ],
   "source": [
    "Cu_prim.get_positions()"
   ]
  },
  {
   "cell_type": "code",
   "execution_count": 27,
   "metadata": {
    "ExecuteTime": {
     "end_time": "2019-12-09T12:35:55.787611Z",
     "start_time": "2019-12-09T12:35:55.781325Z"
    }
   },
   "outputs": [
    {
     "name": "stdout",
     "output_type": "stream",
     "text": [
      "[ 2.55265548  2.55265548  2.55265548 60.         60.         60.        ]\n"
     ]
    }
   ],
   "source": [
    "print(Cu_prim.get_cell_lengths_and_angles())"
   ]
  },
  {
   "cell_type": "code",
   "execution_count": 28,
   "metadata": {
    "ExecuteTime": {
     "end_time": "2019-12-09T12:35:56.819198Z",
     "start_time": "2019-12-09T12:35:56.766215Z"
    }
   },
   "outputs": [
    {
     "data": {
      "text/plain": [
       "Spacegroup(225, setting=1)"
      ]
     },
     "execution_count": 28,
     "metadata": {},
     "output_type": "execute_result"
    }
   ],
   "source": [
    "ase.spacegroup.get_spacegroup(Cu_prim)"
   ]
  },
  {
   "cell_type": "code",
   "execution_count": 29,
   "metadata": {
    "ExecuteTime": {
     "end_time": "2019-12-09T12:35:57.573092Z",
     "start_time": "2019-12-09T12:35:57.569118Z"
    }
   },
   "outputs": [],
   "source": [
    "Cu_conv = bulk('Cu', cubic=True)"
   ]
  },
  {
   "cell_type": "code",
   "execution_count": 30,
   "metadata": {
    "ExecuteTime": {
     "end_time": "2019-12-09T12:35:58.439179Z",
     "start_time": "2019-12-09T12:35:58.433342Z"
    }
   },
   "outputs": [
    {
     "name": "stdout",
     "output_type": "stream",
     "text": [
      "[ 3.61  3.61  3.61 90.   90.   90.  ]\n"
     ]
    }
   ],
   "source": [
    "print(Cu_conv.get_cell_lengths_and_angles())"
   ]
  },
  {
   "cell_type": "code",
   "execution_count": 31,
   "metadata": {
    "ExecuteTime": {
     "end_time": "2019-12-09T12:35:59.318531Z",
     "start_time": "2019-12-09T12:35:59.280700Z"
    }
   },
   "outputs": [
    {
     "data": {
      "text/plain": [
       "Spacegroup(225, setting=1)"
      ]
     },
     "execution_count": 31,
     "metadata": {},
     "output_type": "execute_result"
    }
   ],
   "source": [
    "ase.spacegroup.get_spacegroup(Cu_conv)"
   ]
  },
  {
   "cell_type": "code",
   "execution_count": 32,
   "metadata": {
    "ExecuteTime": {
     "end_time": "2019-12-09T12:36:00.173421Z",
     "start_time": "2019-12-09T12:36:00.169224Z"
    }
   },
   "outputs": [],
   "source": [
    "Cu_bcc = bulk('Cu', crystalstructure='bcc', a = 3.)"
   ]
  },
  {
   "cell_type": "code",
   "execution_count": 33,
   "metadata": {
    "ExecuteTime": {
     "end_time": "2019-12-09T12:36:02.175104Z",
     "start_time": "2019-12-09T12:36:02.169996Z"
    }
   },
   "outputs": [
    {
     "name": "stdout",
     "output_type": "stream",
     "text": [
      "[  2.59807621   2.59807621   2.59807621 109.47122063 109.47122063\n",
      " 109.47122063]\n"
     ]
    }
   ],
   "source": [
    "print(Cu_bcc.get_cell_lengths_and_angles())"
   ]
  },
  {
   "cell_type": "code",
   "execution_count": 34,
   "metadata": {
    "ExecuteTime": {
     "end_time": "2019-12-09T12:36:02.924790Z",
     "start_time": "2019-12-09T12:36:02.903887Z"
    }
   },
   "outputs": [
    {
     "data": {
      "text/plain": [
       "Spacegroup(229, setting=1)"
      ]
     },
     "execution_count": 34,
     "metadata": {},
     "output_type": "execute_result"
    }
   ],
   "source": [
    "ase.spacegroup.get_spacegroup(Cu_bcc)"
   ]
  },
  {
   "cell_type": "markdown",
   "metadata": {},
   "source": [
    "Creating a unit cell matrix from lattice vector lengths and angles"
   ]
  },
  {
   "cell_type": "code",
   "execution_count": 35,
   "metadata": {
    "ExecuteTime": {
     "end_time": "2019-12-09T12:36:04.401253Z",
     "start_time": "2019-12-09T12:36:04.393056Z"
    }
   },
   "outputs": [
    {
     "data": {
      "text/plain": [
       "array([[ 4.00000000e+00,  0.00000000e+00,  0.00000000e+00],\n",
       "       [ 1.73205081e+00,  1.00000000e+00,  0.00000000e+00],\n",
       "       [-2.50000000e+00,  4.33012702e+00,  1.17804023e-07]])"
      ]
     },
     "execution_count": 35,
     "metadata": {},
     "output_type": "execute_result"
    }
   ],
   "source": [
    "cell = ase.geometry.cellpar_to_cell([4., 2., 5., 90., 120., 30])\n",
    "cell"
   ]
  },
  {
   "cell_type": "markdown",
   "metadata": {},
   "source": [
    "### ASE Visualization\n",
    "Different viewers can be used, e.g. nglview inline if jupyter is set up for it. The default built in one is pretty primitive but does the job. Note that it is possible to change to other viewers from the menu if they are installed, e.g. Avogadro."
   ]
  },
  {
   "cell_type": "code",
   "execution_count": 36,
   "metadata": {
    "ExecuteTime": {
     "end_time": "2019-12-09T12:36:05.998581Z",
     "start_time": "2019-12-09T12:36:05.968262Z"
    }
   },
   "outputs": [],
   "source": [
    "view(Cu_conv)  "
   ]
  },
  {
   "cell_type": "markdown",
   "metadata": {},
   "source": [
    "Specifically for Jupyter"
   ]
  },
  {
   "cell_type": "code",
   "execution_count": 37,
   "metadata": {
    "ExecuteTime": {
     "end_time": "2019-12-09T12:36:12.642067Z",
     "start_time": "2019-12-09T12:36:12.628643Z"
    }
   },
   "outputs": [
    {
     "data": {
      "text/html": [
       "<html>\n",
       "\n",
       " <head>\n",
       "\n",
       "  <title>ASE atomic visualization</title>\n",
       "\n",
       "  <link rel=\"stylesheet\" type=\"text/css\"\n",
       "\n",
       "   href=\"https://www.x3dom.org/x3dom/release/x3dom.css\">\n",
       "\n",
       "  </link>\n",
       "\n",
       "  <script type=\"text/javascript\"\n",
       "\n",
       "   src=\"https://www.x3dom.org/x3dom/release/x3dom.js\">\n",
       "\n",
       "  </script>\n",
       "\n",
       " </head>\n",
       "\n",
       " <body>\n",
       "\n",
       "  <X3D style=\"margin:0; padding:0; width:100%; height:100%; border:none;\">\n",
       "\n",
       "   <Scene>\n",
       "\n",
       "    <Transform translation=\"0.00 0.00 0.00\">\n",
       "\n",
       "     <Shape>\n",
       "\n",
       "      <Appearance>\n",
       "\n",
       "       <Material diffuseColor=\"0.784 0.502 0.200\" specularColor=\"0.5 0.5 0.5\">\n",
       "\n",
       "       </Material>\n",
       "\n",
       "      </Appearance>\n",
       "\n",
       "      <Sphere radius=\"1.32\">\n",
       "\n",
       "      </Sphere>\n",
       "\n",
       "     </Shape>\n",
       "\n",
       "    </Transform>\n",
       "\n",
       "    <Transform translation=\"0.00 1.80 1.80\">\n",
       "\n",
       "     <Shape>\n",
       "\n",
       "      <Appearance>\n",
       "\n",
       "       <Material diffuseColor=\"0.784 0.502 0.200\" specularColor=\"0.5 0.5 0.5\">\n",
       "\n",
       "       </Material>\n",
       "\n",
       "      </Appearance>\n",
       "\n",
       "      <Sphere radius=\"1.32\">\n",
       "\n",
       "      </Sphere>\n",
       "\n",
       "     </Shape>\n",
       "\n",
       "    </Transform>\n",
       "\n",
       "    <Transform translation=\"1.80 0.00 1.80\">\n",
       "\n",
       "     <Shape>\n",
       "\n",
       "      <Appearance>\n",
       "\n",
       "       <Material diffuseColor=\"0.784 0.502 0.200\" specularColor=\"0.5 0.5 0.5\">\n",
       "\n",
       "       </Material>\n",
       "\n",
       "      </Appearance>\n",
       "\n",
       "      <Sphere radius=\"1.32\">\n",
       "\n",
       "      </Sphere>\n",
       "\n",
       "     </Shape>\n",
       "\n",
       "    </Transform>\n",
       "\n",
       "    <Transform translation=\"1.80 1.80 0.00\">\n",
       "\n",
       "     <Shape>\n",
       "\n",
       "      <Appearance>\n",
       "\n",
       "       <Material diffuseColor=\"0.784 0.502 0.200\" specularColor=\"0.5 0.5 0.5\">\n",
       "\n",
       "       </Material>\n",
       "\n",
       "      </Appearance>\n",
       "\n",
       "      <Sphere radius=\"1.32\">\n",
       "\n",
       "      </Sphere>\n",
       "\n",
       "     </Shape>\n",
       "\n",
       "    </Transform>\n",
       "\n",
       "   </Scene>\n",
       "\n",
       "  </X3D>\n",
       "\n",
       " </body>\n",
       "\n",
       "</html>\n",
       "\n"
      ],
      "text/plain": [
       "<IPython.core.display.HTML object>"
      ]
     },
     "execution_count": 37,
     "metadata": {},
     "output_type": "execute_result"
    }
   ],
   "source": [
    "view(Cu_conv, viewer='x3d')"
   ]
  },
  {
   "cell_type": "code",
   "execution_count": 38,
   "metadata": {
    "ExecuteTime": {
     "end_time": "2019-12-09T12:36:14.147839Z",
     "start_time": "2019-12-09T12:36:14.138192Z"
    }
   },
   "outputs": [
    {
     "name": "stdout",
     "output_type": "stream",
     "text": [
      "nglview is not properly installed\n"
     ]
    }
   ],
   "source": [
    "try:\n",
    "    view(Cu_conv, viewer='ngl')  # only works if nglview is setup\\\n",
    "except ModuleNotFoundError:\n",
    "    print(\"nglview is not properly installed\")"
   ]
  },
  {
   "cell_type": "code",
   "execution_count": 39,
   "metadata": {
    "ExecuteTime": {
     "end_time": "2019-12-09T12:36:15.194212Z",
     "start_time": "2019-12-09T12:36:15.182191Z"
    }
   },
   "outputs": [
    {
     "data": {
      "text/html": [
       "<html>\n",
       "\n",
       " <head>\n",
       "\n",
       "  <title>ASE atomic visualization</title>\n",
       "\n",
       "  <link rel=\"stylesheet\" type=\"text/css\"\n",
       "\n",
       "   href=\"https://www.x3dom.org/x3dom/release/x3dom.css\">\n",
       "\n",
       "  </link>\n",
       "\n",
       "  <script type=\"text/javascript\"\n",
       "\n",
       "   src=\"https://www.x3dom.org/x3dom/release/x3dom.js\">\n",
       "\n",
       "  </script>\n",
       "\n",
       " </head>\n",
       "\n",
       " <body>\n",
       "\n",
       "  <X3D style=\"margin:0; padding:0; width:100%; height:100%; border:none;\">\n",
       "\n",
       "   <Scene>\n",
       "\n",
       "    <Transform translation=\"0.00 0.00 0.00\">\n",
       "\n",
       "     <Shape>\n",
       "\n",
       "      <Appearance>\n",
       "\n",
       "       <Material diffuseColor=\"0.784 0.502 0.200\" specularColor=\"0.5 0.5 0.5\">\n",
       "\n",
       "       </Material>\n",
       "\n",
       "      </Appearance>\n",
       "\n",
       "      <Sphere radius=\"1.32\">\n",
       "\n",
       "      </Sphere>\n",
       "\n",
       "     </Shape>\n",
       "\n",
       "    </Transform>\n",
       "\n",
       "    <Transform translation=\"0.00 1.80 1.80\">\n",
       "\n",
       "     <Shape>\n",
       "\n",
       "      <Appearance>\n",
       "\n",
       "       <Material diffuseColor=\"0.784 0.502 0.200\" specularColor=\"0.5 0.5 0.5\">\n",
       "\n",
       "       </Material>\n",
       "\n",
       "      </Appearance>\n",
       "\n",
       "      <Sphere radius=\"1.32\">\n",
       "\n",
       "      </Sphere>\n",
       "\n",
       "     </Shape>\n",
       "\n",
       "    </Transform>\n",
       "\n",
       "    <Transform translation=\"1.80 0.00 1.80\">\n",
       "\n",
       "     <Shape>\n",
       "\n",
       "      <Appearance>\n",
       "\n",
       "       <Material diffuseColor=\"0.784 0.502 0.200\" specularColor=\"0.5 0.5 0.5\">\n",
       "\n",
       "       </Material>\n",
       "\n",
       "      </Appearance>\n",
       "\n",
       "      <Sphere radius=\"1.32\">\n",
       "\n",
       "      </Sphere>\n",
       "\n",
       "     </Shape>\n",
       "\n",
       "    </Transform>\n",
       "\n",
       "    <Transform translation=\"1.80 1.80 0.00\">\n",
       "\n",
       "     <Shape>\n",
       "\n",
       "      <Appearance>\n",
       "\n",
       "       <Material diffuseColor=\"0.784 0.502 0.200\" specularColor=\"0.5 0.5 0.5\">\n",
       "\n",
       "       </Material>\n",
       "\n",
       "      </Appearance>\n",
       "\n",
       "      <Sphere radius=\"1.32\">\n",
       "\n",
       "      </Sphere>\n",
       "\n",
       "     </Shape>\n",
       "\n",
       "    </Transform>\n",
       "\n",
       "    <Transform translation=\"0.00 0.00 3.61\">\n",
       "\n",
       "     <Shape>\n",
       "\n",
       "      <Appearance>\n",
       "\n",
       "       <Material diffuseColor=\"0.784 0.502 0.200\" specularColor=\"0.5 0.5 0.5\">\n",
       "\n",
       "       </Material>\n",
       "\n",
       "      </Appearance>\n",
       "\n",
       "      <Sphere radius=\"1.32\">\n",
       "\n",
       "      </Sphere>\n",
       "\n",
       "     </Shape>\n",
       "\n",
       "    </Transform>\n",
       "\n",
       "    <Transform translation=\"0.00 1.80 5.42\">\n",
       "\n",
       "     <Shape>\n",
       "\n",
       "      <Appearance>\n",
       "\n",
       "       <Material diffuseColor=\"0.784 0.502 0.200\" specularColor=\"0.5 0.5 0.5\">\n",
       "\n",
       "       </Material>\n",
       "\n",
       "      </Appearance>\n",
       "\n",
       "      <Sphere radius=\"1.32\">\n",
       "\n",
       "      </Sphere>\n",
       "\n",
       "     </Shape>\n",
       "\n",
       "    </Transform>\n",
       "\n",
       "    <Transform translation=\"1.80 0.00 5.42\">\n",
       "\n",
       "     <Shape>\n",
       "\n",
       "      <Appearance>\n",
       "\n",
       "       <Material diffuseColor=\"0.784 0.502 0.200\" specularColor=\"0.5 0.5 0.5\">\n",
       "\n",
       "       </Material>\n",
       "\n",
       "      </Appearance>\n",
       "\n",
       "      <Sphere radius=\"1.32\">\n",
       "\n",
       "      </Sphere>\n",
       "\n",
       "     </Shape>\n",
       "\n",
       "    </Transform>\n",
       "\n",
       "    <Transform translation=\"1.80 1.80 3.61\">\n",
       "\n",
       "     <Shape>\n",
       "\n",
       "      <Appearance>\n",
       "\n",
       "       <Material diffuseColor=\"0.784 0.502 0.200\" specularColor=\"0.5 0.5 0.5\">\n",
       "\n",
       "       </Material>\n",
       "\n",
       "      </Appearance>\n",
       "\n",
       "      <Sphere radius=\"1.32\">\n",
       "\n",
       "      </Sphere>\n",
       "\n",
       "     </Shape>\n",
       "\n",
       "    </Transform>\n",
       "\n",
       "    <Transform translation=\"0.00 0.00 7.22\">\n",
       "\n",
       "     <Shape>\n",
       "\n",
       "      <Appearance>\n",
       "\n",
       "       <Material diffuseColor=\"0.784 0.502 0.200\" specularColor=\"0.5 0.5 0.5\">\n",
       "\n",
       "       </Material>\n",
       "\n",
       "      </Appearance>\n",
       "\n",
       "      <Sphere radius=\"1.32\">\n",
       "\n",
       "      </Sphere>\n",
       "\n",
       "     </Shape>\n",
       "\n",
       "    </Transform>\n",
       "\n",
       "    <Transform translation=\"0.00 1.80 9.03\">\n",
       "\n",
       "     <Shape>\n",
       "\n",
       "      <Appearance>\n",
       "\n",
       "       <Material diffuseColor=\"0.784 0.502 0.200\" specularColor=\"0.5 0.5 0.5\">\n",
       "\n",
       "       </Material>\n",
       "\n",
       "      </Appearance>\n",
       "\n",
       "      <Sphere radius=\"1.32\">\n",
       "\n",
       "      </Sphere>\n",
       "\n",
       "     </Shape>\n",
       "\n",
       "    </Transform>\n",
       "\n",
       "    <Transform translation=\"1.80 0.00 9.03\">\n",
       "\n",
       "     <Shape>\n",
       "\n",
       "      <Appearance>\n",
       "\n",
       "       <Material diffuseColor=\"0.784 0.502 0.200\" specularColor=\"0.5 0.5 0.5\">\n",
       "\n",
       "       </Material>\n",
       "\n",
       "      </Appearance>\n",
       "\n",
       "      <Sphere radius=\"1.32\">\n",
       "\n",
       "      </Sphere>\n",
       "\n",
       "     </Shape>\n",
       "\n",
       "    </Transform>\n",
       "\n",
       "    <Transform translation=\"1.80 1.80 7.22\">\n",
       "\n",
       "     <Shape>\n",
       "\n",
       "      <Appearance>\n",
       "\n",
       "       <Material diffuseColor=\"0.784 0.502 0.200\" specularColor=\"0.5 0.5 0.5\">\n",
       "\n",
       "       </Material>\n",
       "\n",
       "      </Appearance>\n",
       "\n",
       "      <Sphere radius=\"1.32\">\n",
       "\n",
       "      </Sphere>\n",
       "\n",
       "     </Shape>\n",
       "\n",
       "    </Transform>\n",
       "\n",
       "    <Transform translation=\"0.00 3.61 0.00\">\n",
       "\n",
       "     <Shape>\n",
       "\n",
       "      <Appearance>\n",
       "\n",
       "       <Material diffuseColor=\"0.784 0.502 0.200\" specularColor=\"0.5 0.5 0.5\">\n",
       "\n",
       "       </Material>\n",
       "\n",
       "      </Appearance>\n",
       "\n",
       "      <Sphere radius=\"1.32\">\n",
       "\n",
       "      </Sphere>\n",
       "\n",
       "     </Shape>\n",
       "\n",
       "    </Transform>\n",
       "\n",
       "    <Transform translation=\"0.00 5.42 1.80\">\n",
       "\n",
       "     <Shape>\n",
       "\n",
       "      <Appearance>\n",
       "\n",
       "       <Material diffuseColor=\"0.784 0.502 0.200\" specularColor=\"0.5 0.5 0.5\">\n",
       "\n",
       "       </Material>\n",
       "\n",
       "      </Appearance>\n",
       "\n",
       "      <Sphere radius=\"1.32\">\n",
       "\n",
       "      </Sphere>\n",
       "\n",
       "     </Shape>\n",
       "\n",
       "    </Transform>\n",
       "\n",
       "    <Transform translation=\"1.80 3.61 1.80\">\n",
       "\n",
       "     <Shape>\n",
       "\n",
       "      <Appearance>\n",
       "\n",
       "       <Material diffuseColor=\"0.784 0.502 0.200\" specularColor=\"0.5 0.5 0.5\">\n",
       "\n",
       "       </Material>\n",
       "\n",
       "      </Appearance>\n",
       "\n",
       "      <Sphere radius=\"1.32\">\n",
       "\n",
       "      </Sphere>\n",
       "\n",
       "     </Shape>\n",
       "\n",
       "    </Transform>\n",
       "\n",
       "    <Transform translation=\"1.80 5.42 0.00\">\n",
       "\n",
       "     <Shape>\n",
       "\n",
       "      <Appearance>\n",
       "\n",
       "       <Material diffuseColor=\"0.784 0.502 0.200\" specularColor=\"0.5 0.5 0.5\">\n",
       "\n",
       "       </Material>\n",
       "\n",
       "      </Appearance>\n",
       "\n",
       "      <Sphere radius=\"1.32\">\n",
       "\n",
       "      </Sphere>\n",
       "\n",
       "     </Shape>\n",
       "\n",
       "    </Transform>\n",
       "\n",
       "    <Transform translation=\"0.00 3.61 3.61\">\n",
       "\n",
       "     <Shape>\n",
       "\n",
       "      <Appearance>\n",
       "\n",
       "       <Material diffuseColor=\"0.784 0.502 0.200\" specularColor=\"0.5 0.5 0.5\">\n",
       "\n",
       "       </Material>\n",
       "\n",
       "      </Appearance>\n",
       "\n",
       "      <Sphere radius=\"1.32\">\n",
       "\n",
       "      </Sphere>\n",
       "\n",
       "     </Shape>\n",
       "\n",
       "    </Transform>\n",
       "\n",
       "    <Transform translation=\"0.00 5.42 5.42\">\n",
       "\n",
       "     <Shape>\n",
       "\n",
       "      <Appearance>\n",
       "\n",
       "       <Material diffuseColor=\"0.784 0.502 0.200\" specularColor=\"0.5 0.5 0.5\">\n",
       "\n",
       "       </Material>\n",
       "\n",
       "      </Appearance>\n",
       "\n",
       "      <Sphere radius=\"1.32\">\n",
       "\n",
       "      </Sphere>\n",
       "\n",
       "     </Shape>\n",
       "\n",
       "    </Transform>\n",
       "\n",
       "    <Transform translation=\"1.80 3.61 5.42\">\n",
       "\n",
       "     <Shape>\n",
       "\n",
       "      <Appearance>\n",
       "\n",
       "       <Material diffuseColor=\"0.784 0.502 0.200\" specularColor=\"0.5 0.5 0.5\">\n",
       "\n",
       "       </Material>\n",
       "\n",
       "      </Appearance>\n",
       "\n",
       "      <Sphere radius=\"1.32\">\n",
       "\n",
       "      </Sphere>\n",
       "\n",
       "     </Shape>\n",
       "\n",
       "    </Transform>\n",
       "\n",
       "    <Transform translation=\"1.80 5.42 3.61\">\n",
       "\n",
       "     <Shape>\n",
       "\n",
       "      <Appearance>\n",
       "\n",
       "       <Material diffuseColor=\"0.784 0.502 0.200\" specularColor=\"0.5 0.5 0.5\">\n",
       "\n",
       "       </Material>\n",
       "\n",
       "      </Appearance>\n",
       "\n",
       "      <Sphere radius=\"1.32\">\n",
       "\n",
       "      </Sphere>\n",
       "\n",
       "     </Shape>\n",
       "\n",
       "    </Transform>\n",
       "\n",
       "    <Transform translation=\"0.00 3.61 7.22\">\n",
       "\n",
       "     <Shape>\n",
       "\n",
       "      <Appearance>\n",
       "\n",
       "       <Material diffuseColor=\"0.784 0.502 0.200\" specularColor=\"0.5 0.5 0.5\">\n",
       "\n",
       "       </Material>\n",
       "\n",
       "      </Appearance>\n",
       "\n",
       "      <Sphere radius=\"1.32\">\n",
       "\n",
       "      </Sphere>\n",
       "\n",
       "     </Shape>\n",
       "\n",
       "    </Transform>\n",
       "\n",
       "    <Transform translation=\"0.00 5.42 9.03\">\n",
       "\n",
       "     <Shape>\n",
       "\n",
       "      <Appearance>\n",
       "\n",
       "       <Material diffuseColor=\"0.784 0.502 0.200\" specularColor=\"0.5 0.5 0.5\">\n",
       "\n",
       "       </Material>\n",
       "\n",
       "      </Appearance>\n",
       "\n",
       "      <Sphere radius=\"1.32\">\n",
       "\n",
       "      </Sphere>\n",
       "\n",
       "     </Shape>\n",
       "\n",
       "    </Transform>\n",
       "\n",
       "    <Transform translation=\"1.80 3.61 9.03\">\n",
       "\n",
       "     <Shape>\n",
       "\n",
       "      <Appearance>\n",
       "\n",
       "       <Material diffuseColor=\"0.784 0.502 0.200\" specularColor=\"0.5 0.5 0.5\">\n",
       "\n",
       "       </Material>\n",
       "\n",
       "      </Appearance>\n",
       "\n",
       "      <Sphere radius=\"1.32\">\n",
       "\n",
       "      </Sphere>\n",
       "\n",
       "     </Shape>\n",
       "\n",
       "    </Transform>\n",
       "\n",
       "    <Transform translation=\"1.80 5.42 7.22\">\n",
       "\n",
       "     <Shape>\n",
       "\n",
       "      <Appearance>\n",
       "\n",
       "       <Material diffuseColor=\"0.784 0.502 0.200\" specularColor=\"0.5 0.5 0.5\">\n",
       "\n",
       "       </Material>\n",
       "\n",
       "      </Appearance>\n",
       "\n",
       "      <Sphere radius=\"1.32\">\n",
       "\n",
       "      </Sphere>\n",
       "\n",
       "     </Shape>\n",
       "\n",
       "    </Transform>\n",
       "\n",
       "    <Transform translation=\"0.00 7.22 0.00\">\n",
       "\n",
       "     <Shape>\n",
       "\n",
       "      <Appearance>\n",
       "\n",
       "       <Material diffuseColor=\"0.784 0.502 0.200\" specularColor=\"0.5 0.5 0.5\">\n",
       "\n",
       "       </Material>\n",
       "\n",
       "      </Appearance>\n",
       "\n",
       "      <Sphere radius=\"1.32\">\n",
       "\n",
       "      </Sphere>\n",
       "\n",
       "     </Shape>\n",
       "\n",
       "    </Transform>\n",
       "\n",
       "    <Transform translation=\"0.00 9.03 1.80\">\n",
       "\n",
       "     <Shape>\n",
       "\n",
       "      <Appearance>\n",
       "\n",
       "       <Material diffuseColor=\"0.784 0.502 0.200\" specularColor=\"0.5 0.5 0.5\">\n",
       "\n",
       "       </Material>\n",
       "\n",
       "      </Appearance>\n",
       "\n",
       "      <Sphere radius=\"1.32\">\n",
       "\n",
       "      </Sphere>\n",
       "\n",
       "     </Shape>\n",
       "\n",
       "    </Transform>\n",
       "\n",
       "    <Transform translation=\"1.80 7.22 1.80\">\n",
       "\n",
       "     <Shape>\n",
       "\n",
       "      <Appearance>\n",
       "\n",
       "       <Material diffuseColor=\"0.784 0.502 0.200\" specularColor=\"0.5 0.5 0.5\">\n",
       "\n",
       "       </Material>\n",
       "\n",
       "      </Appearance>\n",
       "\n",
       "      <Sphere radius=\"1.32\">\n",
       "\n",
       "      </Sphere>\n",
       "\n",
       "     </Shape>\n",
       "\n",
       "    </Transform>\n",
       "\n",
       "    <Transform translation=\"1.80 9.03 0.00\">\n",
       "\n",
       "     <Shape>\n",
       "\n",
       "      <Appearance>\n",
       "\n",
       "       <Material diffuseColor=\"0.784 0.502 0.200\" specularColor=\"0.5 0.5 0.5\">\n",
       "\n",
       "       </Material>\n",
       "\n",
       "      </Appearance>\n",
       "\n",
       "      <Sphere radius=\"1.32\">\n",
       "\n",
       "      </Sphere>\n",
       "\n",
       "     </Shape>\n",
       "\n",
       "    </Transform>\n",
       "\n",
       "    <Transform translation=\"0.00 7.22 3.61\">\n",
       "\n",
       "     <Shape>\n",
       "\n",
       "      <Appearance>\n",
       "\n",
       "       <Material diffuseColor=\"0.784 0.502 0.200\" specularColor=\"0.5 0.5 0.5\">\n",
       "\n",
       "       </Material>\n",
       "\n",
       "      </Appearance>\n",
       "\n",
       "      <Sphere radius=\"1.32\">\n",
       "\n",
       "      </Sphere>\n",
       "\n",
       "     </Shape>\n",
       "\n",
       "    </Transform>\n",
       "\n",
       "    <Transform translation=\"0.00 9.03 5.42\">\n",
       "\n",
       "     <Shape>\n",
       "\n",
       "      <Appearance>\n",
       "\n",
       "       <Material diffuseColor=\"0.784 0.502 0.200\" specularColor=\"0.5 0.5 0.5\">\n",
       "\n",
       "       </Material>\n",
       "\n",
       "      </Appearance>\n",
       "\n",
       "      <Sphere radius=\"1.32\">\n",
       "\n",
       "      </Sphere>\n",
       "\n",
       "     </Shape>\n",
       "\n",
       "    </Transform>\n",
       "\n",
       "    <Transform translation=\"1.80 7.22 5.42\">\n",
       "\n",
       "     <Shape>\n",
       "\n",
       "      <Appearance>\n",
       "\n",
       "       <Material diffuseColor=\"0.784 0.502 0.200\" specularColor=\"0.5 0.5 0.5\">\n",
       "\n",
       "       </Material>\n",
       "\n",
       "      </Appearance>\n",
       "\n",
       "      <Sphere radius=\"1.32\">\n",
       "\n",
       "      </Sphere>\n",
       "\n",
       "     </Shape>\n",
       "\n",
       "    </Transform>\n",
       "\n",
       "    <Transform translation=\"1.80 9.03 3.61\">\n",
       "\n",
       "     <Shape>\n",
       "\n",
       "      <Appearance>\n",
       "\n",
       "       <Material diffuseColor=\"0.784 0.502 0.200\" specularColor=\"0.5 0.5 0.5\">\n",
       "\n",
       "       </Material>\n",
       "\n",
       "      </Appearance>\n",
       "\n",
       "      <Sphere radius=\"1.32\">\n",
       "\n",
       "      </Sphere>\n",
       "\n",
       "     </Shape>\n",
       "\n",
       "    </Transform>\n",
       "\n",
       "    <Transform translation=\"0.00 7.22 7.22\">\n",
       "\n",
       "     <Shape>\n",
       "\n",
       "      <Appearance>\n",
       "\n",
       "       <Material diffuseColor=\"0.784 0.502 0.200\" specularColor=\"0.5 0.5 0.5\">\n",
       "\n",
       "       </Material>\n",
       "\n",
       "      </Appearance>\n",
       "\n",
       "      <Sphere radius=\"1.32\">\n",
       "\n",
       "      </Sphere>\n",
       "\n",
       "     </Shape>\n",
       "\n",
       "    </Transform>\n",
       "\n",
       "    <Transform translation=\"0.00 9.03 9.03\">\n",
       "\n",
       "     <Shape>\n",
       "\n",
       "      <Appearance>\n",
       "\n",
       "       <Material diffuseColor=\"0.784 0.502 0.200\" specularColor=\"0.5 0.5 0.5\">\n",
       "\n",
       "       </Material>\n",
       "\n",
       "      </Appearance>\n",
       "\n",
       "      <Sphere radius=\"1.32\">\n",
       "\n",
       "      </Sphere>\n",
       "\n",
       "     </Shape>\n",
       "\n",
       "    </Transform>\n",
       "\n",
       "    <Transform translation=\"1.80 7.22 9.03\">\n",
       "\n",
       "     <Shape>\n",
       "\n",
       "      <Appearance>\n",
       "\n",
       "       <Material diffuseColor=\"0.784 0.502 0.200\" specularColor=\"0.5 0.5 0.5\">\n",
       "\n",
       "       </Material>\n",
       "\n",
       "      </Appearance>\n",
       "\n",
       "      <Sphere radius=\"1.32\">\n",
       "\n",
       "      </Sphere>\n",
       "\n",
       "     </Shape>\n",
       "\n",
       "    </Transform>\n",
       "\n",
       "    <Transform translation=\"1.80 9.03 7.22\">\n",
       "\n",
       "     <Shape>\n",
       "\n",
       "      <Appearance>\n",
       "\n",
       "       <Material diffuseColor=\"0.784 0.502 0.200\" specularColor=\"0.5 0.5 0.5\">\n",
       "\n",
       "       </Material>\n",
       "\n",
       "      </Appearance>\n",
       "\n",
       "      <Sphere radius=\"1.32\">\n",
       "\n",
       "      </Sphere>\n",
       "\n",
       "     </Shape>\n",
       "\n",
       "    </Transform>\n",
       "\n",
       "    <Transform translation=\"3.61 0.00 0.00\">\n",
       "\n",
       "     <Shape>\n",
       "\n",
       "      <Appearance>\n",
       "\n",
       "       <Material diffuseColor=\"0.784 0.502 0.200\" specularColor=\"0.5 0.5 0.5\">\n",
       "\n",
       "       </Material>\n",
       "\n",
       "      </Appearance>\n",
       "\n",
       "      <Sphere radius=\"1.32\">\n",
       "\n",
       "      </Sphere>\n",
       "\n",
       "     </Shape>\n",
       "\n",
       "    </Transform>\n",
       "\n",
       "    <Transform translation=\"3.61 1.80 1.80\">\n",
       "\n",
       "     <Shape>\n",
       "\n",
       "      <Appearance>\n",
       "\n",
       "       <Material diffuseColor=\"0.784 0.502 0.200\" specularColor=\"0.5 0.5 0.5\">\n",
       "\n",
       "       </Material>\n",
       "\n",
       "      </Appearance>\n",
       "\n",
       "      <Sphere radius=\"1.32\">\n",
       "\n",
       "      </Sphere>\n",
       "\n",
       "     </Shape>\n",
       "\n",
       "    </Transform>\n",
       "\n",
       "    <Transform translation=\"5.42 0.00 1.80\">\n",
       "\n",
       "     <Shape>\n",
       "\n",
       "      <Appearance>\n",
       "\n",
       "       <Material diffuseColor=\"0.784 0.502 0.200\" specularColor=\"0.5 0.5 0.5\">\n",
       "\n",
       "       </Material>\n",
       "\n",
       "      </Appearance>\n",
       "\n",
       "      <Sphere radius=\"1.32\">\n",
       "\n",
       "      </Sphere>\n",
       "\n",
       "     </Shape>\n",
       "\n",
       "    </Transform>\n",
       "\n",
       "    <Transform translation=\"5.42 1.80 0.00\">\n",
       "\n",
       "     <Shape>\n",
       "\n",
       "      <Appearance>\n",
       "\n",
       "       <Material diffuseColor=\"0.784 0.502 0.200\" specularColor=\"0.5 0.5 0.5\">\n",
       "\n",
       "       </Material>\n",
       "\n",
       "      </Appearance>\n",
       "\n",
       "      <Sphere radius=\"1.32\">\n",
       "\n",
       "      </Sphere>\n",
       "\n",
       "     </Shape>\n",
       "\n",
       "    </Transform>\n",
       "\n",
       "    <Transform translation=\"3.61 0.00 3.61\">\n",
       "\n",
       "     <Shape>\n",
       "\n",
       "      <Appearance>\n",
       "\n",
       "       <Material diffuseColor=\"0.784 0.502 0.200\" specularColor=\"0.5 0.5 0.5\">\n",
       "\n",
       "       </Material>\n",
       "\n",
       "      </Appearance>\n",
       "\n",
       "      <Sphere radius=\"1.32\">\n",
       "\n",
       "      </Sphere>\n",
       "\n",
       "     </Shape>\n",
       "\n",
       "    </Transform>\n",
       "\n",
       "    <Transform translation=\"3.61 1.80 5.42\">\n",
       "\n",
       "     <Shape>\n",
       "\n",
       "      <Appearance>\n",
       "\n",
       "       <Material diffuseColor=\"0.784 0.502 0.200\" specularColor=\"0.5 0.5 0.5\">\n",
       "\n",
       "       </Material>\n",
       "\n",
       "      </Appearance>\n",
       "\n",
       "      <Sphere radius=\"1.32\">\n",
       "\n",
       "      </Sphere>\n",
       "\n",
       "     </Shape>\n",
       "\n",
       "    </Transform>\n",
       "\n",
       "    <Transform translation=\"5.42 0.00 5.42\">\n",
       "\n",
       "     <Shape>\n",
       "\n",
       "      <Appearance>\n",
       "\n",
       "       <Material diffuseColor=\"0.784 0.502 0.200\" specularColor=\"0.5 0.5 0.5\">\n",
       "\n",
       "       </Material>\n",
       "\n",
       "      </Appearance>\n",
       "\n",
       "      <Sphere radius=\"1.32\">\n",
       "\n",
       "      </Sphere>\n",
       "\n",
       "     </Shape>\n",
       "\n",
       "    </Transform>\n",
       "\n",
       "    <Transform translation=\"5.42 1.80 3.61\">\n",
       "\n",
       "     <Shape>\n",
       "\n",
       "      <Appearance>\n",
       "\n",
       "       <Material diffuseColor=\"0.784 0.502 0.200\" specularColor=\"0.5 0.5 0.5\">\n",
       "\n",
       "       </Material>\n",
       "\n",
       "      </Appearance>\n",
       "\n",
       "      <Sphere radius=\"1.32\">\n",
       "\n",
       "      </Sphere>\n",
       "\n",
       "     </Shape>\n",
       "\n",
       "    </Transform>\n",
       "\n",
       "    <Transform translation=\"3.61 0.00 7.22\">\n",
       "\n",
       "     <Shape>\n",
       "\n",
       "      <Appearance>\n",
       "\n",
       "       <Material diffuseColor=\"0.784 0.502 0.200\" specularColor=\"0.5 0.5 0.5\">\n",
       "\n",
       "       </Material>\n",
       "\n",
       "      </Appearance>\n",
       "\n",
       "      <Sphere radius=\"1.32\">\n",
       "\n",
       "      </Sphere>\n",
       "\n",
       "     </Shape>\n",
       "\n",
       "    </Transform>\n",
       "\n",
       "    <Transform translation=\"3.61 1.80 9.03\">\n",
       "\n",
       "     <Shape>\n",
       "\n",
       "      <Appearance>\n",
       "\n",
       "       <Material diffuseColor=\"0.784 0.502 0.200\" specularColor=\"0.5 0.5 0.5\">\n",
       "\n",
       "       </Material>\n",
       "\n",
       "      </Appearance>\n",
       "\n",
       "      <Sphere radius=\"1.32\">\n",
       "\n",
       "      </Sphere>\n",
       "\n",
       "     </Shape>\n",
       "\n",
       "    </Transform>\n",
       "\n",
       "    <Transform translation=\"5.42 0.00 9.03\">\n",
       "\n",
       "     <Shape>\n",
       "\n",
       "      <Appearance>\n",
       "\n",
       "       <Material diffuseColor=\"0.784 0.502 0.200\" specularColor=\"0.5 0.5 0.5\">\n",
       "\n",
       "       </Material>\n",
       "\n",
       "      </Appearance>\n",
       "\n",
       "      <Sphere radius=\"1.32\">\n",
       "\n",
       "      </Sphere>\n",
       "\n",
       "     </Shape>\n",
       "\n",
       "    </Transform>\n",
       "\n",
       "    <Transform translation=\"5.42 1.80 7.22\">\n",
       "\n",
       "     <Shape>\n",
       "\n",
       "      <Appearance>\n",
       "\n",
       "       <Material diffuseColor=\"0.784 0.502 0.200\" specularColor=\"0.5 0.5 0.5\">\n",
       "\n",
       "       </Material>\n",
       "\n",
       "      </Appearance>\n",
       "\n",
       "      <Sphere radius=\"1.32\">\n",
       "\n",
       "      </Sphere>\n",
       "\n",
       "     </Shape>\n",
       "\n",
       "    </Transform>\n",
       "\n",
       "    <Transform translation=\"3.61 3.61 0.00\">\n",
       "\n",
       "     <Shape>\n",
       "\n",
       "      <Appearance>\n",
       "\n",
       "       <Material diffuseColor=\"0.784 0.502 0.200\" specularColor=\"0.5 0.5 0.5\">\n",
       "\n",
       "       </Material>\n",
       "\n",
       "      </Appearance>\n",
       "\n",
       "      <Sphere radius=\"1.32\">\n",
       "\n",
       "      </Sphere>\n",
       "\n",
       "     </Shape>\n",
       "\n",
       "    </Transform>\n",
       "\n",
       "    <Transform translation=\"3.61 5.42 1.80\">\n",
       "\n",
       "     <Shape>\n",
       "\n",
       "      <Appearance>\n",
       "\n",
       "       <Material diffuseColor=\"0.784 0.502 0.200\" specularColor=\"0.5 0.5 0.5\">\n",
       "\n",
       "       </Material>\n",
       "\n",
       "      </Appearance>\n",
       "\n",
       "      <Sphere radius=\"1.32\">\n",
       "\n",
       "      </Sphere>\n",
       "\n",
       "     </Shape>\n",
       "\n",
       "    </Transform>\n",
       "\n",
       "    <Transform translation=\"5.42 3.61 1.80\">\n",
       "\n",
       "     <Shape>\n",
       "\n",
       "      <Appearance>\n",
       "\n",
       "       <Material diffuseColor=\"0.784 0.502 0.200\" specularColor=\"0.5 0.5 0.5\">\n",
       "\n",
       "       </Material>\n",
       "\n",
       "      </Appearance>\n",
       "\n",
       "      <Sphere radius=\"1.32\">\n",
       "\n",
       "      </Sphere>\n",
       "\n",
       "     </Shape>\n",
       "\n",
       "    </Transform>\n",
       "\n",
       "    <Transform translation=\"5.42 5.42 0.00\">\n",
       "\n",
       "     <Shape>\n",
       "\n",
       "      <Appearance>\n",
       "\n",
       "       <Material diffuseColor=\"0.784 0.502 0.200\" specularColor=\"0.5 0.5 0.5\">\n",
       "\n",
       "       </Material>\n",
       "\n",
       "      </Appearance>\n",
       "\n",
       "      <Sphere radius=\"1.32\">\n",
       "\n",
       "      </Sphere>\n",
       "\n",
       "     </Shape>\n",
       "\n",
       "    </Transform>\n",
       "\n",
       "    <Transform translation=\"3.61 3.61 3.61\">\n",
       "\n",
       "     <Shape>\n",
       "\n",
       "      <Appearance>\n",
       "\n",
       "       <Material diffuseColor=\"0.784 0.502 0.200\" specularColor=\"0.5 0.5 0.5\">\n",
       "\n",
       "       </Material>\n",
       "\n",
       "      </Appearance>\n",
       "\n",
       "      <Sphere radius=\"1.32\">\n",
       "\n",
       "      </Sphere>\n",
       "\n",
       "     </Shape>\n",
       "\n",
       "    </Transform>\n",
       "\n",
       "    <Transform translation=\"3.61 5.42 5.42\">\n",
       "\n",
       "     <Shape>\n",
       "\n",
       "      <Appearance>\n",
       "\n",
       "       <Material diffuseColor=\"0.784 0.502 0.200\" specularColor=\"0.5 0.5 0.5\">\n",
       "\n",
       "       </Material>\n",
       "\n",
       "      </Appearance>\n",
       "\n",
       "      <Sphere radius=\"1.32\">\n",
       "\n",
       "      </Sphere>\n",
       "\n",
       "     </Shape>\n",
       "\n",
       "    </Transform>\n",
       "\n",
       "    <Transform translation=\"5.42 3.61 5.42\">\n",
       "\n",
       "     <Shape>\n",
       "\n",
       "      <Appearance>\n",
       "\n",
       "       <Material diffuseColor=\"0.784 0.502 0.200\" specularColor=\"0.5 0.5 0.5\">\n",
       "\n",
       "       </Material>\n",
       "\n",
       "      </Appearance>\n",
       "\n",
       "      <Sphere radius=\"1.32\">\n",
       "\n",
       "      </Sphere>\n",
       "\n",
       "     </Shape>\n",
       "\n",
       "    </Transform>\n",
       "\n",
       "    <Transform translation=\"5.42 5.42 3.61\">\n",
       "\n",
       "     <Shape>\n",
       "\n",
       "      <Appearance>\n",
       "\n",
       "       <Material diffuseColor=\"0.784 0.502 0.200\" specularColor=\"0.5 0.5 0.5\">\n",
       "\n",
       "       </Material>\n",
       "\n",
       "      </Appearance>\n",
       "\n",
       "      <Sphere radius=\"1.32\">\n",
       "\n",
       "      </Sphere>\n",
       "\n",
       "     </Shape>\n",
       "\n",
       "    </Transform>\n",
       "\n",
       "    <Transform translation=\"3.61 3.61 7.22\">\n",
       "\n",
       "     <Shape>\n",
       "\n",
       "      <Appearance>\n",
       "\n",
       "       <Material diffuseColor=\"0.784 0.502 0.200\" specularColor=\"0.5 0.5 0.5\">\n",
       "\n",
       "       </Material>\n",
       "\n",
       "      </Appearance>\n",
       "\n",
       "      <Sphere radius=\"1.32\">\n",
       "\n",
       "      </Sphere>\n",
       "\n",
       "     </Shape>\n",
       "\n",
       "    </Transform>\n",
       "\n",
       "    <Transform translation=\"3.61 5.42 9.03\">\n",
       "\n",
       "     <Shape>\n",
       "\n",
       "      <Appearance>\n",
       "\n",
       "       <Material diffuseColor=\"0.784 0.502 0.200\" specularColor=\"0.5 0.5 0.5\">\n",
       "\n",
       "       </Material>\n",
       "\n",
       "      </Appearance>\n",
       "\n",
       "      <Sphere radius=\"1.32\">\n",
       "\n",
       "      </Sphere>\n",
       "\n",
       "     </Shape>\n",
       "\n",
       "    </Transform>\n",
       "\n",
       "    <Transform translation=\"5.42 3.61 9.03\">\n",
       "\n",
       "     <Shape>\n",
       "\n",
       "      <Appearance>\n",
       "\n",
       "       <Material diffuseColor=\"0.784 0.502 0.200\" specularColor=\"0.5 0.5 0.5\">\n",
       "\n",
       "       </Material>\n",
       "\n",
       "      </Appearance>\n",
       "\n",
       "      <Sphere radius=\"1.32\">\n",
       "\n",
       "      </Sphere>\n",
       "\n",
       "     </Shape>\n",
       "\n",
       "    </Transform>\n",
       "\n",
       "    <Transform translation=\"5.42 5.42 7.22\">\n",
       "\n",
       "     <Shape>\n",
       "\n",
       "      <Appearance>\n",
       "\n",
       "       <Material diffuseColor=\"0.784 0.502 0.200\" specularColor=\"0.5 0.5 0.5\">\n",
       "\n",
       "       </Material>\n",
       "\n",
       "      </Appearance>\n",
       "\n",
       "      <Sphere radius=\"1.32\">\n",
       "\n",
       "      </Sphere>\n",
       "\n",
       "     </Shape>\n",
       "\n",
       "    </Transform>\n",
       "\n",
       "    <Transform translation=\"3.61 7.22 0.00\">\n",
       "\n",
       "     <Shape>\n",
       "\n",
       "      <Appearance>\n",
       "\n",
       "       <Material diffuseColor=\"0.784 0.502 0.200\" specularColor=\"0.5 0.5 0.5\">\n",
       "\n",
       "       </Material>\n",
       "\n",
       "      </Appearance>\n",
       "\n",
       "      <Sphere radius=\"1.32\">\n",
       "\n",
       "      </Sphere>\n",
       "\n",
       "     </Shape>\n",
       "\n",
       "    </Transform>\n",
       "\n",
       "    <Transform translation=\"3.61 9.03 1.80\">\n",
       "\n",
       "     <Shape>\n",
       "\n",
       "      <Appearance>\n",
       "\n",
       "       <Material diffuseColor=\"0.784 0.502 0.200\" specularColor=\"0.5 0.5 0.5\">\n",
       "\n",
       "       </Material>\n",
       "\n",
       "      </Appearance>\n",
       "\n",
       "      <Sphere radius=\"1.32\">\n",
       "\n",
       "      </Sphere>\n",
       "\n",
       "     </Shape>\n",
       "\n",
       "    </Transform>\n",
       "\n",
       "    <Transform translation=\"5.42 7.22 1.80\">\n",
       "\n",
       "     <Shape>\n",
       "\n",
       "      <Appearance>\n",
       "\n",
       "       <Material diffuseColor=\"0.784 0.502 0.200\" specularColor=\"0.5 0.5 0.5\">\n",
       "\n",
       "       </Material>\n",
       "\n",
       "      </Appearance>\n",
       "\n",
       "      <Sphere radius=\"1.32\">\n",
       "\n",
       "      </Sphere>\n",
       "\n",
       "     </Shape>\n",
       "\n",
       "    </Transform>\n",
       "\n",
       "    <Transform translation=\"5.42 9.03 0.00\">\n",
       "\n",
       "     <Shape>\n",
       "\n",
       "      <Appearance>\n",
       "\n",
       "       <Material diffuseColor=\"0.784 0.502 0.200\" specularColor=\"0.5 0.5 0.5\">\n",
       "\n",
       "       </Material>\n",
       "\n",
       "      </Appearance>\n",
       "\n",
       "      <Sphere radius=\"1.32\">\n",
       "\n",
       "      </Sphere>\n",
       "\n",
       "     </Shape>\n",
       "\n",
       "    </Transform>\n",
       "\n",
       "    <Transform translation=\"3.61 7.22 3.61\">\n",
       "\n",
       "     <Shape>\n",
       "\n",
       "      <Appearance>\n",
       "\n",
       "       <Material diffuseColor=\"0.784 0.502 0.200\" specularColor=\"0.5 0.5 0.5\">\n",
       "\n",
       "       </Material>\n",
       "\n",
       "      </Appearance>\n",
       "\n",
       "      <Sphere radius=\"1.32\">\n",
       "\n",
       "      </Sphere>\n",
       "\n",
       "     </Shape>\n",
       "\n",
       "    </Transform>\n",
       "\n",
       "    <Transform translation=\"3.61 9.03 5.42\">\n",
       "\n",
       "     <Shape>\n",
       "\n",
       "      <Appearance>\n",
       "\n",
       "       <Material diffuseColor=\"0.784 0.502 0.200\" specularColor=\"0.5 0.5 0.5\">\n",
       "\n",
       "       </Material>\n",
       "\n",
       "      </Appearance>\n",
       "\n",
       "      <Sphere radius=\"1.32\">\n",
       "\n",
       "      </Sphere>\n",
       "\n",
       "     </Shape>\n",
       "\n",
       "    </Transform>\n",
       "\n",
       "    <Transform translation=\"5.42 7.22 5.42\">\n",
       "\n",
       "     <Shape>\n",
       "\n",
       "      <Appearance>\n",
       "\n",
       "       <Material diffuseColor=\"0.784 0.502 0.200\" specularColor=\"0.5 0.5 0.5\">\n",
       "\n",
       "       </Material>\n",
       "\n",
       "      </Appearance>\n",
       "\n",
       "      <Sphere radius=\"1.32\">\n",
       "\n",
       "      </Sphere>\n",
       "\n",
       "     </Shape>\n",
       "\n",
       "    </Transform>\n",
       "\n",
       "    <Transform translation=\"5.42 9.03 3.61\">\n",
       "\n",
       "     <Shape>\n",
       "\n",
       "      <Appearance>\n",
       "\n",
       "       <Material diffuseColor=\"0.784 0.502 0.200\" specularColor=\"0.5 0.5 0.5\">\n",
       "\n",
       "       </Material>\n",
       "\n",
       "      </Appearance>\n",
       "\n",
       "      <Sphere radius=\"1.32\">\n",
       "\n",
       "      </Sphere>\n",
       "\n",
       "     </Shape>\n",
       "\n",
       "    </Transform>\n",
       "\n",
       "    <Transform translation=\"3.61 7.22 7.22\">\n",
       "\n",
       "     <Shape>\n",
       "\n",
       "      <Appearance>\n",
       "\n",
       "       <Material diffuseColor=\"0.784 0.502 0.200\" specularColor=\"0.5 0.5 0.5\">\n",
       "\n",
       "       </Material>\n",
       "\n",
       "      </Appearance>\n",
       "\n",
       "      <Sphere radius=\"1.32\">\n",
       "\n",
       "      </Sphere>\n",
       "\n",
       "     </Shape>\n",
       "\n",
       "    </Transform>\n",
       "\n",
       "    <Transform translation=\"3.61 9.03 9.03\">\n",
       "\n",
       "     <Shape>\n",
       "\n",
       "      <Appearance>\n",
       "\n",
       "       <Material diffuseColor=\"0.784 0.502 0.200\" specularColor=\"0.5 0.5 0.5\">\n",
       "\n",
       "       </Material>\n",
       "\n",
       "      </Appearance>\n",
       "\n",
       "      <Sphere radius=\"1.32\">\n",
       "\n",
       "      </Sphere>\n",
       "\n",
       "     </Shape>\n",
       "\n",
       "    </Transform>\n",
       "\n",
       "    <Transform translation=\"5.42 7.22 9.03\">\n",
       "\n",
       "     <Shape>\n",
       "\n",
       "      <Appearance>\n",
       "\n",
       "       <Material diffuseColor=\"0.784 0.502 0.200\" specularColor=\"0.5 0.5 0.5\">\n",
       "\n",
       "       </Material>\n",
       "\n",
       "      </Appearance>\n",
       "\n",
       "      <Sphere radius=\"1.32\">\n",
       "\n",
       "      </Sphere>\n",
       "\n",
       "     </Shape>\n",
       "\n",
       "    </Transform>\n",
       "\n",
       "    <Transform translation=\"5.42 9.03 7.22\">\n",
       "\n",
       "     <Shape>\n",
       "\n",
       "      <Appearance>\n",
       "\n",
       "       <Material diffuseColor=\"0.784 0.502 0.200\" specularColor=\"0.5 0.5 0.5\">\n",
       "\n",
       "       </Material>\n",
       "\n",
       "      </Appearance>\n",
       "\n",
       "      <Sphere radius=\"1.32\">\n",
       "\n",
       "      </Sphere>\n",
       "\n",
       "     </Shape>\n",
       "\n",
       "    </Transform>\n",
       "\n",
       "    <Transform translation=\"7.22 0.00 0.00\">\n",
       "\n",
       "     <Shape>\n",
       "\n",
       "      <Appearance>\n",
       "\n",
       "       <Material diffuseColor=\"0.784 0.502 0.200\" specularColor=\"0.5 0.5 0.5\">\n",
       "\n",
       "       </Material>\n",
       "\n",
       "      </Appearance>\n",
       "\n",
       "      <Sphere radius=\"1.32\">\n",
       "\n",
       "      </Sphere>\n",
       "\n",
       "     </Shape>\n",
       "\n",
       "    </Transform>\n",
       "\n",
       "    <Transform translation=\"7.22 1.80 1.80\">\n",
       "\n",
       "     <Shape>\n",
       "\n",
       "      <Appearance>\n",
       "\n",
       "       <Material diffuseColor=\"0.784 0.502 0.200\" specularColor=\"0.5 0.5 0.5\">\n",
       "\n",
       "       </Material>\n",
       "\n",
       "      </Appearance>\n",
       "\n",
       "      <Sphere radius=\"1.32\">\n",
       "\n",
       "      </Sphere>\n",
       "\n",
       "     </Shape>\n",
       "\n",
       "    </Transform>\n",
       "\n",
       "    <Transform translation=\"9.03 0.00 1.80\">\n",
       "\n",
       "     <Shape>\n",
       "\n",
       "      <Appearance>\n",
       "\n",
       "       <Material diffuseColor=\"0.784 0.502 0.200\" specularColor=\"0.5 0.5 0.5\">\n",
       "\n",
       "       </Material>\n",
       "\n",
       "      </Appearance>\n",
       "\n",
       "      <Sphere radius=\"1.32\">\n",
       "\n",
       "      </Sphere>\n",
       "\n",
       "     </Shape>\n",
       "\n",
       "    </Transform>\n",
       "\n",
       "    <Transform translation=\"9.03 1.80 0.00\">\n",
       "\n",
       "     <Shape>\n",
       "\n",
       "      <Appearance>\n",
       "\n",
       "       <Material diffuseColor=\"0.784 0.502 0.200\" specularColor=\"0.5 0.5 0.5\">\n",
       "\n",
       "       </Material>\n",
       "\n",
       "      </Appearance>\n",
       "\n",
       "      <Sphere radius=\"1.32\">\n",
       "\n",
       "      </Sphere>\n",
       "\n",
       "     </Shape>\n",
       "\n",
       "    </Transform>\n",
       "\n",
       "    <Transform translation=\"7.22 0.00 3.61\">\n",
       "\n",
       "     <Shape>\n",
       "\n",
       "      <Appearance>\n",
       "\n",
       "       <Material diffuseColor=\"0.784 0.502 0.200\" specularColor=\"0.5 0.5 0.5\">\n",
       "\n",
       "       </Material>\n",
       "\n",
       "      </Appearance>\n",
       "\n",
       "      <Sphere radius=\"1.32\">\n",
       "\n",
       "      </Sphere>\n",
       "\n",
       "     </Shape>\n",
       "\n",
       "    </Transform>\n",
       "\n",
       "    <Transform translation=\"7.22 1.80 5.42\">\n",
       "\n",
       "     <Shape>\n",
       "\n",
       "      <Appearance>\n",
       "\n",
       "       <Material diffuseColor=\"0.784 0.502 0.200\" specularColor=\"0.5 0.5 0.5\">\n",
       "\n",
       "       </Material>\n",
       "\n",
       "      </Appearance>\n",
       "\n",
       "      <Sphere radius=\"1.32\">\n",
       "\n",
       "      </Sphere>\n",
       "\n",
       "     </Shape>\n",
       "\n",
       "    </Transform>\n",
       "\n",
       "    <Transform translation=\"9.03 0.00 5.42\">\n",
       "\n",
       "     <Shape>\n",
       "\n",
       "      <Appearance>\n",
       "\n",
       "       <Material diffuseColor=\"0.784 0.502 0.200\" specularColor=\"0.5 0.5 0.5\">\n",
       "\n",
       "       </Material>\n",
       "\n",
       "      </Appearance>\n",
       "\n",
       "      <Sphere radius=\"1.32\">\n",
       "\n",
       "      </Sphere>\n",
       "\n",
       "     </Shape>\n",
       "\n",
       "    </Transform>\n",
       "\n",
       "    <Transform translation=\"9.03 1.80 3.61\">\n",
       "\n",
       "     <Shape>\n",
       "\n",
       "      <Appearance>\n",
       "\n",
       "       <Material diffuseColor=\"0.784 0.502 0.200\" specularColor=\"0.5 0.5 0.5\">\n",
       "\n",
       "       </Material>\n",
       "\n",
       "      </Appearance>\n",
       "\n",
       "      <Sphere radius=\"1.32\">\n",
       "\n",
       "      </Sphere>\n",
       "\n",
       "     </Shape>\n",
       "\n",
       "    </Transform>\n",
       "\n",
       "    <Transform translation=\"7.22 0.00 7.22\">\n",
       "\n",
       "     <Shape>\n",
       "\n",
       "      <Appearance>\n",
       "\n",
       "       <Material diffuseColor=\"0.784 0.502 0.200\" specularColor=\"0.5 0.5 0.5\">\n",
       "\n",
       "       </Material>\n",
       "\n",
       "      </Appearance>\n",
       "\n",
       "      <Sphere radius=\"1.32\">\n",
       "\n",
       "      </Sphere>\n",
       "\n",
       "     </Shape>\n",
       "\n",
       "    </Transform>\n",
       "\n",
       "    <Transform translation=\"7.22 1.80 9.03\">\n",
       "\n",
       "     <Shape>\n",
       "\n",
       "      <Appearance>\n",
       "\n",
       "       <Material diffuseColor=\"0.784 0.502 0.200\" specularColor=\"0.5 0.5 0.5\">\n",
       "\n",
       "       </Material>\n",
       "\n",
       "      </Appearance>\n",
       "\n",
       "      <Sphere radius=\"1.32\">\n",
       "\n",
       "      </Sphere>\n",
       "\n",
       "     </Shape>\n",
       "\n",
       "    </Transform>\n",
       "\n",
       "    <Transform translation=\"9.03 0.00 9.03\">\n",
       "\n",
       "     <Shape>\n",
       "\n",
       "      <Appearance>\n",
       "\n",
       "       <Material diffuseColor=\"0.784 0.502 0.200\" specularColor=\"0.5 0.5 0.5\">\n",
       "\n",
       "       </Material>\n",
       "\n",
       "      </Appearance>\n",
       "\n",
       "      <Sphere radius=\"1.32\">\n",
       "\n",
       "      </Sphere>\n",
       "\n",
       "     </Shape>\n",
       "\n",
       "    </Transform>\n",
       "\n",
       "    <Transform translation=\"9.03 1.80 7.22\">\n",
       "\n",
       "     <Shape>\n",
       "\n",
       "      <Appearance>\n",
       "\n",
       "       <Material diffuseColor=\"0.784 0.502 0.200\" specularColor=\"0.5 0.5 0.5\">\n",
       "\n",
       "       </Material>\n",
       "\n",
       "      </Appearance>\n",
       "\n",
       "      <Sphere radius=\"1.32\">\n",
       "\n",
       "      </Sphere>\n",
       "\n",
       "     </Shape>\n",
       "\n",
       "    </Transform>\n",
       "\n",
       "    <Transform translation=\"7.22 3.61 0.00\">\n",
       "\n",
       "     <Shape>\n",
       "\n",
       "      <Appearance>\n",
       "\n",
       "       <Material diffuseColor=\"0.784 0.502 0.200\" specularColor=\"0.5 0.5 0.5\">\n",
       "\n",
       "       </Material>\n",
       "\n",
       "      </Appearance>\n",
       "\n",
       "      <Sphere radius=\"1.32\">\n",
       "\n",
       "      </Sphere>\n",
       "\n",
       "     </Shape>\n",
       "\n",
       "    </Transform>\n",
       "\n",
       "    <Transform translation=\"7.22 5.42 1.80\">\n",
       "\n",
       "     <Shape>\n",
       "\n",
       "      <Appearance>\n",
       "\n",
       "       <Material diffuseColor=\"0.784 0.502 0.200\" specularColor=\"0.5 0.5 0.5\">\n",
       "\n",
       "       </Material>\n",
       "\n",
       "      </Appearance>\n",
       "\n",
       "      <Sphere radius=\"1.32\">\n",
       "\n",
       "      </Sphere>\n",
       "\n",
       "     </Shape>\n",
       "\n",
       "    </Transform>\n",
       "\n",
       "    <Transform translation=\"9.03 3.61 1.80\">\n",
       "\n",
       "     <Shape>\n",
       "\n",
       "      <Appearance>\n",
       "\n",
       "       <Material diffuseColor=\"0.784 0.502 0.200\" specularColor=\"0.5 0.5 0.5\">\n",
       "\n",
       "       </Material>\n",
       "\n",
       "      </Appearance>\n",
       "\n",
       "      <Sphere radius=\"1.32\">\n",
       "\n",
       "      </Sphere>\n",
       "\n",
       "     </Shape>\n",
       "\n",
       "    </Transform>\n",
       "\n",
       "    <Transform translation=\"9.03 5.42 0.00\">\n",
       "\n",
       "     <Shape>\n",
       "\n",
       "      <Appearance>\n",
       "\n",
       "       <Material diffuseColor=\"0.784 0.502 0.200\" specularColor=\"0.5 0.5 0.5\">\n",
       "\n",
       "       </Material>\n",
       "\n",
       "      </Appearance>\n",
       "\n",
       "      <Sphere radius=\"1.32\">\n",
       "\n",
       "      </Sphere>\n",
       "\n",
       "     </Shape>\n",
       "\n",
       "    </Transform>\n",
       "\n",
       "    <Transform translation=\"7.22 3.61 3.61\">\n",
       "\n",
       "     <Shape>\n",
       "\n",
       "      <Appearance>\n",
       "\n",
       "       <Material diffuseColor=\"0.784 0.502 0.200\" specularColor=\"0.5 0.5 0.5\">\n",
       "\n",
       "       </Material>\n",
       "\n",
       "      </Appearance>\n",
       "\n",
       "      <Sphere radius=\"1.32\">\n",
       "\n",
       "      </Sphere>\n",
       "\n",
       "     </Shape>\n",
       "\n",
       "    </Transform>\n",
       "\n",
       "    <Transform translation=\"7.22 5.42 5.42\">\n",
       "\n",
       "     <Shape>\n",
       "\n",
       "      <Appearance>\n",
       "\n",
       "       <Material diffuseColor=\"0.784 0.502 0.200\" specularColor=\"0.5 0.5 0.5\">\n",
       "\n",
       "       </Material>\n",
       "\n",
       "      </Appearance>\n",
       "\n",
       "      <Sphere radius=\"1.32\">\n",
       "\n",
       "      </Sphere>\n",
       "\n",
       "     </Shape>\n",
       "\n",
       "    </Transform>\n",
       "\n",
       "    <Transform translation=\"9.03 3.61 5.42\">\n",
       "\n",
       "     <Shape>\n",
       "\n",
       "      <Appearance>\n",
       "\n",
       "       <Material diffuseColor=\"0.784 0.502 0.200\" specularColor=\"0.5 0.5 0.5\">\n",
       "\n",
       "       </Material>\n",
       "\n",
       "      </Appearance>\n",
       "\n",
       "      <Sphere radius=\"1.32\">\n",
       "\n",
       "      </Sphere>\n",
       "\n",
       "     </Shape>\n",
       "\n",
       "    </Transform>\n",
       "\n",
       "    <Transform translation=\"9.03 5.42 3.61\">\n",
       "\n",
       "     <Shape>\n",
       "\n",
       "      <Appearance>\n",
       "\n",
       "       <Material diffuseColor=\"0.784 0.502 0.200\" specularColor=\"0.5 0.5 0.5\">\n",
       "\n",
       "       </Material>\n",
       "\n",
       "      </Appearance>\n",
       "\n",
       "      <Sphere radius=\"1.32\">\n",
       "\n",
       "      </Sphere>\n",
       "\n",
       "     </Shape>\n",
       "\n",
       "    </Transform>\n",
       "\n",
       "    <Transform translation=\"7.22 3.61 7.22\">\n",
       "\n",
       "     <Shape>\n",
       "\n",
       "      <Appearance>\n",
       "\n",
       "       <Material diffuseColor=\"0.784 0.502 0.200\" specularColor=\"0.5 0.5 0.5\">\n",
       "\n",
       "       </Material>\n",
       "\n",
       "      </Appearance>\n",
       "\n",
       "      <Sphere radius=\"1.32\">\n",
       "\n",
       "      </Sphere>\n",
       "\n",
       "     </Shape>\n",
       "\n",
       "    </Transform>\n",
       "\n",
       "    <Transform translation=\"7.22 5.42 9.03\">\n",
       "\n",
       "     <Shape>\n",
       "\n",
       "      <Appearance>\n",
       "\n",
       "       <Material diffuseColor=\"0.784 0.502 0.200\" specularColor=\"0.5 0.5 0.5\">\n",
       "\n",
       "       </Material>\n",
       "\n",
       "      </Appearance>\n",
       "\n",
       "      <Sphere radius=\"1.32\">\n",
       "\n",
       "      </Sphere>\n",
       "\n",
       "     </Shape>\n",
       "\n",
       "    </Transform>\n",
       "\n",
       "    <Transform translation=\"9.03 3.61 9.03\">\n",
       "\n",
       "     <Shape>\n",
       "\n",
       "      <Appearance>\n",
       "\n",
       "       <Material diffuseColor=\"0.784 0.502 0.200\" specularColor=\"0.5 0.5 0.5\">\n",
       "\n",
       "       </Material>\n",
       "\n",
       "      </Appearance>\n",
       "\n",
       "      <Sphere radius=\"1.32\">\n",
       "\n",
       "      </Sphere>\n",
       "\n",
       "     </Shape>\n",
       "\n",
       "    </Transform>\n",
       "\n",
       "    <Transform translation=\"9.03 5.42 7.22\">\n",
       "\n",
       "     <Shape>\n",
       "\n",
       "      <Appearance>\n",
       "\n",
       "       <Material diffuseColor=\"0.784 0.502 0.200\" specularColor=\"0.5 0.5 0.5\">\n",
       "\n",
       "       </Material>\n",
       "\n",
       "      </Appearance>\n",
       "\n",
       "      <Sphere radius=\"1.32\">\n",
       "\n",
       "      </Sphere>\n",
       "\n",
       "     </Shape>\n",
       "\n",
       "    </Transform>\n",
       "\n",
       "    <Transform translation=\"7.22 7.22 0.00\">\n",
       "\n",
       "     <Shape>\n",
       "\n",
       "      <Appearance>\n",
       "\n",
       "       <Material diffuseColor=\"0.784 0.502 0.200\" specularColor=\"0.5 0.5 0.5\">\n",
       "\n",
       "       </Material>\n",
       "\n",
       "      </Appearance>\n",
       "\n",
       "      <Sphere radius=\"1.32\">\n",
       "\n",
       "      </Sphere>\n",
       "\n",
       "     </Shape>\n",
       "\n",
       "    </Transform>\n",
       "\n",
       "    <Transform translation=\"7.22 9.03 1.80\">\n",
       "\n",
       "     <Shape>\n",
       "\n",
       "      <Appearance>\n",
       "\n",
       "       <Material diffuseColor=\"0.784 0.502 0.200\" specularColor=\"0.5 0.5 0.5\">\n",
       "\n",
       "       </Material>\n",
       "\n",
       "      </Appearance>\n",
       "\n",
       "      <Sphere radius=\"1.32\">\n",
       "\n",
       "      </Sphere>\n",
       "\n",
       "     </Shape>\n",
       "\n",
       "    </Transform>\n",
       "\n",
       "    <Transform translation=\"9.03 7.22 1.80\">\n",
       "\n",
       "     <Shape>\n",
       "\n",
       "      <Appearance>\n",
       "\n",
       "       <Material diffuseColor=\"0.784 0.502 0.200\" specularColor=\"0.5 0.5 0.5\">\n",
       "\n",
       "       </Material>\n",
       "\n",
       "      </Appearance>\n",
       "\n",
       "      <Sphere radius=\"1.32\">\n",
       "\n",
       "      </Sphere>\n",
       "\n",
       "     </Shape>\n",
       "\n",
       "    </Transform>\n",
       "\n",
       "    <Transform translation=\"9.03 9.03 0.00\">\n",
       "\n",
       "     <Shape>\n",
       "\n",
       "      <Appearance>\n",
       "\n",
       "       <Material diffuseColor=\"0.784 0.502 0.200\" specularColor=\"0.5 0.5 0.5\">\n",
       "\n",
       "       </Material>\n",
       "\n",
       "      </Appearance>\n",
       "\n",
       "      <Sphere radius=\"1.32\">\n",
       "\n",
       "      </Sphere>\n",
       "\n",
       "     </Shape>\n",
       "\n",
       "    </Transform>\n",
       "\n",
       "    <Transform translation=\"7.22 7.22 3.61\">\n",
       "\n",
       "     <Shape>\n",
       "\n",
       "      <Appearance>\n",
       "\n",
       "       <Material diffuseColor=\"0.784 0.502 0.200\" specularColor=\"0.5 0.5 0.5\">\n",
       "\n",
       "       </Material>\n",
       "\n",
       "      </Appearance>\n",
       "\n",
       "      <Sphere radius=\"1.32\">\n",
       "\n",
       "      </Sphere>\n",
       "\n",
       "     </Shape>\n",
       "\n",
       "    </Transform>\n",
       "\n",
       "    <Transform translation=\"7.22 9.03 5.42\">\n",
       "\n",
       "     <Shape>\n",
       "\n",
       "      <Appearance>\n",
       "\n",
       "       <Material diffuseColor=\"0.784 0.502 0.200\" specularColor=\"0.5 0.5 0.5\">\n",
       "\n",
       "       </Material>\n",
       "\n",
       "      </Appearance>\n",
       "\n",
       "      <Sphere radius=\"1.32\">\n",
       "\n",
       "      </Sphere>\n",
       "\n",
       "     </Shape>\n",
       "\n",
       "    </Transform>\n",
       "\n",
       "    <Transform translation=\"9.03 7.22 5.42\">\n",
       "\n",
       "     <Shape>\n",
       "\n",
       "      <Appearance>\n",
       "\n",
       "       <Material diffuseColor=\"0.784 0.502 0.200\" specularColor=\"0.5 0.5 0.5\">\n",
       "\n",
       "       </Material>\n",
       "\n",
       "      </Appearance>\n",
       "\n",
       "      <Sphere radius=\"1.32\">\n",
       "\n",
       "      </Sphere>\n",
       "\n",
       "     </Shape>\n",
       "\n",
       "    </Transform>\n",
       "\n",
       "    <Transform translation=\"9.03 9.03 3.61\">\n",
       "\n",
       "     <Shape>\n",
       "\n",
       "      <Appearance>\n",
       "\n",
       "       <Material diffuseColor=\"0.784 0.502 0.200\" specularColor=\"0.5 0.5 0.5\">\n",
       "\n",
       "       </Material>\n",
       "\n",
       "      </Appearance>\n",
       "\n",
       "      <Sphere radius=\"1.32\">\n",
       "\n",
       "      </Sphere>\n",
       "\n",
       "     </Shape>\n",
       "\n",
       "    </Transform>\n",
       "\n",
       "    <Transform translation=\"7.22 7.22 7.22\">\n",
       "\n",
       "     <Shape>\n",
       "\n",
       "      <Appearance>\n",
       "\n",
       "       <Material diffuseColor=\"0.784 0.502 0.200\" specularColor=\"0.5 0.5 0.5\">\n",
       "\n",
       "       </Material>\n",
       "\n",
       "      </Appearance>\n",
       "\n",
       "      <Sphere radius=\"1.32\">\n",
       "\n",
       "      </Sphere>\n",
       "\n",
       "     </Shape>\n",
       "\n",
       "    </Transform>\n",
       "\n",
       "    <Transform translation=\"7.22 9.03 9.03\">\n",
       "\n",
       "     <Shape>\n",
       "\n",
       "      <Appearance>\n",
       "\n",
       "       <Material diffuseColor=\"0.784 0.502 0.200\" specularColor=\"0.5 0.5 0.5\">\n",
       "\n",
       "       </Material>\n",
       "\n",
       "      </Appearance>\n",
       "\n",
       "      <Sphere radius=\"1.32\">\n",
       "\n",
       "      </Sphere>\n",
       "\n",
       "     </Shape>\n",
       "\n",
       "    </Transform>\n",
       "\n",
       "    <Transform translation=\"9.03 7.22 9.03\">\n",
       "\n",
       "     <Shape>\n",
       "\n",
       "      <Appearance>\n",
       "\n",
       "       <Material diffuseColor=\"0.784 0.502 0.200\" specularColor=\"0.5 0.5 0.5\">\n",
       "\n",
       "       </Material>\n",
       "\n",
       "      </Appearance>\n",
       "\n",
       "      <Sphere radius=\"1.32\">\n",
       "\n",
       "      </Sphere>\n",
       "\n",
       "     </Shape>\n",
       "\n",
       "    </Transform>\n",
       "\n",
       "    <Transform translation=\"9.03 9.03 7.22\">\n",
       "\n",
       "     <Shape>\n",
       "\n",
       "      <Appearance>\n",
       "\n",
       "       <Material diffuseColor=\"0.784 0.502 0.200\" specularColor=\"0.5 0.5 0.5\">\n",
       "\n",
       "       </Material>\n",
       "\n",
       "      </Appearance>\n",
       "\n",
       "      <Sphere radius=\"1.32\">\n",
       "\n",
       "      </Sphere>\n",
       "\n",
       "     </Shape>\n",
       "\n",
       "    </Transform>\n",
       "\n",
       "   </Scene>\n",
       "\n",
       "  </X3D>\n",
       "\n",
       " </body>\n",
       "\n",
       "</html>\n",
       "\n"
      ],
      "text/plain": [
       "<IPython.core.display.HTML object>"
      ]
     },
     "execution_count": 39,
     "metadata": {},
     "output_type": "execute_result"
    }
   ],
   "source": [
    "view(Cu_conv.repeat(3), viewer='x3d')"
   ]
  },
  {
   "cell_type": "markdown",
   "metadata": {
    "ExecuteTime": {
     "end_time": "2019-10-07T20:44:28.290186Z",
     "start_time": "2019-10-07T20:44:28.280156Z"
    }
   },
   "source": [
    "# Putting it together\n",
    "\n",
    "The class below can calculate the total scattering cross section (using NCrystal) for an ASE Atoms instance."
   ]
  },
  {
   "cell_type": "markdown",
   "metadata": {},
   "source": [
    "Setting the debye temperatures. We will work with the elements below"
   ]
  },
  {
   "cell_type": "code",
   "execution_count": 40,
   "metadata": {
    "ExecuteTime": {
     "end_time": "2019-12-09T12:36:18.816912Z",
     "start_time": "2019-12-09T12:36:18.810084Z"
    }
   },
   "outputs": [
    {
     "data": {
      "text/plain": [
       "{'Cu': 315.1134,\n",
       " 'Fe': 443.9152,\n",
       " 'Al': 410.3542,\n",
       " 'Pb': 87.5182,\n",
       " 'Ni': 412.1374,\n",
       " 'Ti': 378.3194}"
      ]
     },
     "execution_count": 40,
     "metadata": {},
     "output_type": "execute_result"
    }
   ],
   "source": [
    "elements = ['Cu', 'Fe', 'Al', 'Pb', 'Ni', 'Ti']\n",
    "debye_temp_lst = [315.1134, 443.9152, 410.3542, 87.5182, 412.1374, 378.3194]\n",
    "debye_temperatures = dict(zip(elements, debye_temp_lst))\n",
    "debye_temperatures"
   ]
  },
  {
   "cell_type": "code",
   "execution_count": 41,
   "metadata": {
    "ExecuteTime": {
     "end_time": "2019-12-09T12:36:19.630246Z",
     "start_time": "2019-12-09T12:36:19.490368Z"
    }
   },
   "outputs": [],
   "source": [
    "class NCAtoms(object):\n",
    "    lengths_format = ' {:7.5f}'\n",
    "    angle_format = ' {:7.3f}'\n",
    "    \n",
    "    def __init__(self, atoms, debye_temperatures, \n",
    "                 resolution_function=distributions.norm,\n",
    "                 background_function=lambda x: 1,\n",
    "                 scale = 1.,\n",
    "                 wavelengths = np.linspace(0.5,7.,100)):\n",
    "        self._atoms = atoms\n",
    "        self.debye_temperatures = debye_temperatures\n",
    "        self.resolution_function = resolution_function\n",
    "        self.wavelengths = wavelengths\n",
    "        self.background_function = background_function\n",
    "        self.resolution = None\n",
    "        self.background_strength = None\n",
    "        self.cell_parameters = self.get_cell_lengths_and_angles()\n",
    "        self.density = self.get_number_of_atoms()/self.cell.volume\n",
    "        # Calculate the x-grid that a potential resolution function should be evaluated on\n",
    "        wspan = max(self.wavelengths) - min(self.wavelengths)\n",
    "        nw = len(self.wavelengths)\n",
    "        dw = wspan /(nw - 1)\n",
    "        minx = -wspan/2 - dw\n",
    "        maxx =  wspan/2\n",
    "        self.__dict__['x'] = np.linspace(minx, maxx, nw+1)\n",
    "\n",
    "        \n",
    "    def __getattr__(self, attr):\n",
    "        return getattr(self._atoms, attr)\n",
    "            \n",
    "    def __getitem__(self, item):\n",
    "        return self._atoms[item]\n",
    "    \n",
    "    def __setitem__(self, item, value):\n",
    "        self._atoms[item] = value\n",
    "        \n",
    "    def _get_cell_string(self):\n",
    "        format_string = \"@CELL\\n    lengths\" + 3*self.lengths_format + '\\n    angles' + 3*self.angle_format + '\\n'\n",
    "        return format_string.format(*tuple(self.get_cell_lengths_and_angles()))\n",
    "    \n",
    "    def _get_spacegroup_string(self):\n",
    "        return \"@SPACEGROUP\\n    {:d}\".format(ase.spacegroup.get_spacegroup(self).no) +\"\\n\"\n",
    "    \n",
    "    def _get_atom_positions_string(self):\n",
    "        atom_lines = [\"    {0.symbol} {0.a} {0.b} {0.c}\".format(atom) for atom in self]\n",
    "        return \"@ATOMPOSITIONS\\n\" + \"\\n\".join(atom_lines) + \"\\n\"\n",
    "    \n",
    "    def _get_debye_temperature_string(self):\n",
    "        return \"@DEBYETEMPERATURE\\n\" + \"\\n\".join([\"    {} {}\".format(*item) for item in self.debye_temperatures.items()]) + \"\\n\"\n",
    "    \n",
    "    def __str__(self):\n",
    "        #return \"NCMAT v1\\n\" + ''.join([getattr(ncatoms, method)()  for method in filter(lambda s: s[:4]=='get_' and s[-7:]=='_string', dir(ncatoms))])\n",
    "        s  = \"NCMAT v1\\n\"\n",
    "        s += self._get_cell_string()\n",
    "        s += self._get_spacegroup_string()\n",
    "        s += self._get_atom_positions_string()\n",
    "        s += self._get_debye_temperature_string()\n",
    "        return s\n",
    "        \n",
    "    def set_cell_parameters(self, *cell_parameters):\n",
    "        self.cell_parameters = cell_parameters\n",
    "        updated_cell = ase.geometry.cellpar_to_cell(cell_parameters)\n",
    "        tmpcoor = self.get_scaled_positions()[:]\n",
    "        self.set_cell(updated_cell)\n",
    "        self.set_scaled_positions(tmpcoor)\n",
    "        \n",
    "    def set_lattice_constant(self, lattice_constant):\n",
    "        \"\"\"\n",
    "        Assumes all three lattice constants are equal and that all three angles are 90 degrees\n",
    "        \n",
    "        Updates the density\n",
    "        \n",
    "        \"\"\"\n",
    "        lattice_constants = 3*(lattice_constant,)\n",
    "        angles = 3*(90,)\n",
    "        self.set_cell_parameters(*lattice_constants, *angles)\n",
    "        \n",
    "    def get_density(self):\n",
    "        \"\"\"\n",
    "        Returns number of atoms per unit volume\n",
    "        \n",
    "        Unit: Å^(-3)\n",
    "        \n",
    "        \"\"\"\n",
    "        self.density = self.get_number_of_atoms()/self.cell.volume\n",
    "        return self.density\n",
    "\n",
    "        \n",
    "        \n",
    "    def write_ncmat(self, ncmat_filename=None):\n",
    "        filecontext = str(self)\n",
    "        if ncmat_filename==None:\n",
    "            # NCrystal does not repeat calculations for same filenames, so ensure that filename is unique for the configuation\n",
    "            self.ncmat_filename = self.get_chemical_formula() \n",
    "            self.ncmat_filename += re.sub('[@a-zA-Z\\s]+', '-', filecontext[1:-1]) +'.ncmat'\n",
    "        else:\n",
    "            self.ncmat_filename = ncmat_filename\n",
    "        with open(self.ncmat_filename,'w') as ncmat_file:\n",
    "            ncmat_file.write(filecontext)\n",
    "            ncmat_file.close()\n",
    "            \n",
    "    def create_scatter(self, dcutoff=0.5, temperature=25):\n",
    "        s = os.getcwd() + os.sep\n",
    "        s += \"{};dcutoff={};temp={}C\".format(self.ncmat_filename, dcutoff, temperature)\n",
    "        self.scatter = NCrystal.createScatter(s)\n",
    "        self.absorption = NCrystal.createAbsorption(s)\n",
    "        \n",
    "    def convolve_resolution(self, resolution, xsection):\n",
    "        self.convolution_function = distributions.norm.pdf(self.x, scale=resolution)\n",
    "        self.convolution_function /= np.sum(self.convolution_function)\n",
    "        pre_data = np.ones(len(xsection)//2)*xsection[0]\n",
    "        post_data = np.ones(len(xsection)//2)*xsection[-1]\n",
    "        data = np.concatenate([pre_data, xsection, post_data])\n",
    "        return np.convolve(data, self.convolution_function, 'valid')\n",
    "    \n",
    "    def plot_resolution_function(self):\n",
    "        plt.plot(self.x, self.convolution_function)\n",
    "        \n",
    "        \n",
    "    def get_powder_cross_section(self, \n",
    "                                 lattice_constant=None, \n",
    "                                 resolution=None, \n",
    "                                 background_strength=None,\n",
    "                                 scale=1,\n",
    "                                 dcutoff=0.5, \n",
    "                                 temperature=25,\n",
    "                                 macroscopic=False, \n",
    "                                 return_wl=True):\n",
    "        \"\"\"\n",
    "        Macroscopic = True: Unit cm-1\n",
    "        Macroscopic = False: Unit barn\n",
    "        \n",
    "        TODO: Check temperature unit is Celcius\n",
    "        \"\"\"\n",
    "        if lattice_constant:\n",
    "            self.set_lattice_constant(lattice_constant)\n",
    "        self.write_ncmat()\n",
    "        self.create_scatter(dcutoff=dcutoff, temperature=temperature)\n",
    "        xsection = self.absorption.crossSectionNonOriented(NCrystal.wl2ekin(self.wavelengths))\n",
    "        xsection += self.scatter.crossSectionNonOriented(NCrystal.wl2ekin(self.wavelengths))\n",
    "        if scale != None:  # scaling is done before addition background\n",
    "            self.scale = scale\n",
    "        if scale != 1:\n",
    "            xsection *= scale\n",
    "        if background_strength != None:\n",
    "            self.background_strength = background_strength\n",
    "        if self.background_strength:\n",
    "            xsection += self.background_strength*self.background_function(self.wavelengths)\n",
    "        if resolution != None:\n",
    "            self.resolution = resolution\n",
    "        if self.resolution:\n",
    "            xsection = self.convolve_resolution(self.resolution, xsection)\n",
    "        if macroscopic:  # return attenuation in cm-1\n",
    "            xsection *= self.get_density()\n",
    "        if return_wl:\n",
    "            return self.wavelengths, xsection\n",
    "        else:\n",
    "            return xsection\n",
    "        \n",
    "        "
   ]
  },
  {
   "cell_type": "code",
   "execution_count": 42,
   "metadata": {
    "ExecuteTime": {
     "end_time": "2019-12-09T12:36:20.337948Z",
     "start_time": "2019-12-09T12:36:20.333474Z"
    }
   },
   "outputs": [],
   "source": [
    "ncatoms = NCAtoms(bulk('Cu', cubic=True), debye_temperatures = {'Cu': 315.1134})\n",
    "#ncatoms = NCAtoms(bulk('Pb', cubic=True), debye_temperatures = {'Pb': 87.5})"
   ]
  },
  {
   "cell_type": "code",
   "execution_count": 43,
   "metadata": {
    "ExecuteTime": {
     "end_time": "2019-12-09T12:36:20.991643Z",
     "start_time": "2019-12-09T12:36:20.981151Z"
    }
   },
   "outputs": [
    {
     "data": {
      "text/plain": [
       "0.0850233838749879"
      ]
     },
     "execution_count": 43,
     "metadata": {},
     "output_type": "execute_result"
    }
   ],
   "source": [
    "ncatoms.density"
   ]
  },
  {
   "cell_type": "code",
   "execution_count": 44,
   "metadata": {
    "ExecuteTime": {
     "end_time": "2019-12-09T12:36:21.544714Z",
     "start_time": "2019-12-09T12:36:21.537825Z"
    }
   },
   "outputs": [
    {
     "data": {
      "text/plain": [
       "47.04588100000001"
      ]
     },
     "execution_count": 44,
     "metadata": {},
     "output_type": "execute_result"
    }
   ],
   "source": [
    "ncatoms.cell.volume"
   ]
  },
  {
   "cell_type": "code",
   "execution_count": null,
   "metadata": {},
   "outputs": [],
   "source": []
  },
  {
   "cell_type": "markdown",
   "metadata": {},
   "source": [
    "### Ideal scattering cross section"
   ]
  },
  {
   "cell_type": "code",
   "execution_count": 45,
   "metadata": {
    "ExecuteTime": {
     "end_time": "2019-12-09T12:36:24.482207Z",
     "start_time": "2019-12-09T12:36:24.427560Z"
    }
   },
   "outputs": [],
   "source": [
    "xsec = ncatoms.get_powder_cross_section()"
   ]
  },
  {
   "cell_type": "code",
   "execution_count": 46,
   "metadata": {
    "ExecuteTime": {
     "end_time": "2019-12-09T12:36:25.479552Z",
     "start_time": "2019-12-09T12:36:25.170734Z"
    }
   },
   "outputs": [
    {
     "data": {
      "text/plain": [
       "[<matplotlib.lines.Line2D at 0x1a2a44a750>,\n",
       " <matplotlib.lines.Line2D at 0x1a2a44a950>]"
      ]
     },
     "execution_count": 46,
     "metadata": {},
     "output_type": "execute_result"
    },
    {
     "data": {
      "image/png": "[encoded data removed]",
      "text/plain": [
       "<Figure size 432x288 with 1 Axes>"
      ]
     },
     "metadata": {
      "needs_background": "light"
     },
     "output_type": "display_data"
    }
   ],
   "source": [
    "plt.plot(*ncatoms.get_powder_cross_section(lattice_constant=3), \n",
    "         *ncatoms.get_powder_cross_section(lattice_constant=4))"
   ]
  },
  {
   "cell_type": "code",
   "execution_count": 47,
   "metadata": {
    "ExecuteTime": {
     "end_time": "2019-12-09T12:36:26.032667Z",
     "start_time": "2019-12-09T12:36:26.023438Z"
    }
   },
   "outputs": [
    {
     "data": {
      "text/plain": [
       "0.06250000000000003"
      ]
     },
     "execution_count": 47,
     "metadata": {},
     "output_type": "execute_result"
    }
   ],
   "source": [
    "ncatoms.get_density()"
   ]
  },
  {
   "cell_type": "code",
   "execution_count": 48,
   "metadata": {
    "ExecuteTime": {
     "end_time": "2019-12-09T12:36:26.852609Z",
     "start_time": "2019-12-09T12:36:26.595797Z"
    }
   },
   "outputs": [
    {
     "data": {
      "text/plain": [
       "<matplotlib.legend.Legend at 0x1a2a4dbd10>"
      ]
     },
     "execution_count": 48,
     "metadata": {},
     "output_type": "execute_result"
    },
    {
     "data": {
      "image/png": "[encoded data removed]",
      "text/plain": [
       "<Figure size 432x288 with 1 Axes>"
      ]
     },
     "metadata": {
      "needs_background": "light"
     },
     "output_type": "display_data"
    }
   ],
   "source": [
    "plt.plot(*ncatoms.get_powder_cross_section(macroscopic=False), label='barn')\n",
    "plt.plot(*ncatoms.get_powder_cross_section(macroscopic=True), label='cm-1')\n",
    "plt.legend()"
   ]
  },
  {
   "cell_type": "markdown",
   "metadata": {
    "ExecuteTime": {
     "end_time": "2019-10-07T20:58:35.992298Z",
     "start_time": "2019-10-07T20:58:35.982422Z"
    }
   },
   "source": [
    "### Adding finite resolution\n",
    "Note that the ends need to be cutoff before used for fitting of real data"
   ]
  },
  {
   "cell_type": "code",
   "execution_count": 49,
   "metadata": {
    "ExecuteTime": {
     "end_time": "2019-12-09T12:36:28.764310Z",
     "start_time": "2019-12-09T12:36:28.553849Z"
    }
   },
   "outputs": [
    {
     "data": {
      "text/plain": [
       "[<matplotlib.lines.Line2D at 0x1a2a5c6050>]"
      ]
     },
     "execution_count": 49,
     "metadata": {},
     "output_type": "execute_result"
    },
    {
     "data": {
      "image/png": "[encoded data removed]",
      "text/plain": [
       "<Figure size 432x288 with 1 Axes>"
      ]
     },
     "metadata": {
      "needs_background": "light"
     },
     "output_type": "display_data"
    }
   ],
   "source": [
    "plt.plot(*ncatoms.get_powder_cross_section(resolution=0.1))  # resolution is gaussian (default) with width of 0.1 AA"
   ]
  },
  {
   "cell_type": "code",
   "execution_count": 50,
   "metadata": {
    "ExecuteTime": {
     "end_time": "2019-12-09T12:36:29.460807Z",
     "start_time": "2019-12-09T12:36:29.286707Z"
    }
   },
   "outputs": [
    {
     "data": {
      "image/png": "[encoded data removed]",
      "text/plain": [
       "<Figure size 432x288 with 1 Axes>"
      ]
     },
     "metadata": {
      "needs_background": "light"
     },
     "output_type": "display_data"
    }
   ],
   "source": [
    "ncatoms.plot_resolution_function()"
   ]
  },
  {
   "cell_type": "markdown",
   "metadata": {},
   "source": [
    "## Adding background\n",
    "Default is flat background"
   ]
  },
  {
   "cell_type": "code",
   "execution_count": 51,
   "metadata": {
    "ExecuteTime": {
     "end_time": "2019-12-09T12:36:31.234002Z",
     "start_time": "2019-12-09T12:36:30.968997Z"
    }
   },
   "outputs": [
    {
     "data": {
      "text/plain": [
       "<matplotlib.legend.Legend at 0x1a2a502810>"
      ]
     },
     "execution_count": 51,
     "metadata": {},
     "output_type": "execute_result"
    },
    {
     "data": {
      "image/png": "[encoded data removed]",
      "text/plain": [
       "<Figure size 432x288 with 1 Axes>"
      ]
     },
     "metadata": {
      "needs_background": "light"
     },
     "output_type": "display_data"
    }
   ],
   "source": [
    "lines = plt.plot(*ncatoms.get_powder_cross_section(),\n",
    "         *ncatoms.get_powder_cross_section(background_strength=2.)\n",
    "        )\n",
    "plt.legend(lines, ('no background', '+ background'))"
   ]
  },
  {
   "cell_type": "markdown",
   "metadata": {},
   "source": [
    "Using another background function. At this point it is not possible to fit parameters that define the background function, only the total strength for a given set of parameter, but this should be easy to implement\n",
    "\n",
    "Here is an example for a linear function"
   ]
  },
  {
   "cell_type": "code",
   "execution_count": 52,
   "metadata": {
    "ExecuteTime": {
     "end_time": "2019-12-09T12:36:32.702470Z",
     "start_time": "2019-12-09T12:36:32.429558Z"
    }
   },
   "outputs": [
    {
     "data": {
      "text/plain": [
       "<matplotlib.legend.Legend at 0x1a2b921a90>"
      ]
     },
     "execution_count": 52,
     "metadata": {},
     "output_type": "execute_result"
    },
    {
     "data": {
      "image/png": "[encoded data removed]",
      "text/plain": [
       "<Figure size 432x288 with 1 Axes>"
      ]
     },
     "metadata": {
      "needs_background": "light"
     },
     "output_type": "display_data"
    }
   ],
   "source": [
    "ncatoms2 = NCAtoms(Cu_conv, background_function=lambda x: 2*x+5, debye_temperatures={'Cu': 315.1134})\n",
    "lines = plt.plot(*ncatoms2.get_powder_cross_section(), \n",
    "                 *ncatoms2.get_powder_cross_section(resolution=0.1, background_strength=1.)\n",
    "                )\n",
    "plt.legend(lines, (\"no background\", \"background = 2x+5\"))"
   ]
  },
  {
   "cell_type": "markdown",
   "metadata": {},
   "source": [
    "## Adding both background and finite resolution"
   ]
  },
  {
   "cell_type": "code",
   "execution_count": 53,
   "metadata": {
    "ExecuteTime": {
     "end_time": "2019-12-09T12:36:34.152045Z",
     "start_time": "2019-12-09T12:36:33.896891Z"
    }
   },
   "outputs": [
    {
     "data": {
      "text/plain": [
       "<matplotlib.legend.Legend at 0x1a2b911d90>"
      ]
     },
     "execution_count": 53,
     "metadata": {},
     "output_type": "execute_result"
    },
    {
     "data": {
      "image/png": "[encoded data removed]",
      "text/plain": [
       "<Figure size 432x288 with 1 Axes>"
      ]
     },
     "metadata": {
      "needs_background": "light"
     },
     "output_type": "display_data"
    }
   ],
   "source": [
    "lines = plt.plot(*ncatoms.get_powder_cross_section(), \n",
    "                 *ncatoms.get_powder_cross_section(resolution=0.1, background_strength=2.)\n",
    "                )\n",
    "plt.legend(lines, (\"Ideal\", \"+ background and finite resolution\"))"
   ]
  },
  {
   "cell_type": "markdown",
   "metadata": {},
   "source": [
    "## Different lattice constants"
   ]
  },
  {
   "cell_type": "code",
   "execution_count": 54,
   "metadata": {
    "ExecuteTime": {
     "end_time": "2019-12-09T12:36:36.046326Z",
     "start_time": "2019-12-09T12:36:35.712121Z"
    }
   },
   "outputs": [
    {
     "data": {
      "image/png": "[encoded data removed]",
      "text/plain": [
       "<Figure size 432x288 with 1 Axes>"
      ]
     },
     "metadata": {
      "needs_background": "light"
     },
     "output_type": "display_data"
    }
   ],
   "source": [
    "lattice_constant = ncatoms.get_cell_lengths_and_angles()[0]\n",
    "latcs = np.linspace(0.8,1.2,3)*lattice_constant\n",
    "for lc in latcs:\n",
    "    plt.plot(*ncatoms.get_powder_cross_section(lattice_constant=lc), label=\"a={:.2f} AA\".format(lc))"
   ]
  },
  {
   "cell_type": "markdown",
   "metadata": {},
   "source": [
    "## Mixture\n",
    "\n",
    "The class below calculates the scattering cross section from a list of ASE Atoms or NCAtoms instances"
   ]
  },
  {
   "cell_type": "code",
   "execution_count": 55,
   "metadata": {
    "ExecuteTime": {
     "end_time": "2019-12-09T12:36:37.321420Z",
     "start_time": "2019-12-09T12:36:37.311631Z"
    }
   },
   "outputs": [],
   "source": [
    "class PowderMixture(object):\n",
    "    def __init__(self, ncatoms_list, weights=None, wavelengths=np.linspace(0.5, 10, 100)):\n",
    "        self.ncatoms_list = ncatoms_list\n",
    "        nmixture = len(ncatoms_list)\n",
    "        self.wavelengths = wavelengths\n",
    "        if weights == None:\n",
    "            weights = np.ones(nmixture)\n",
    "        self.set_weights(weights)\n",
    "        # Ensure wavelengths is the same for all ncatoms set\n",
    "        for ncatoms in self.ncatoms_list:\n",
    "            ncatoms.wavelengths = wavelengths\n",
    "            \n",
    "    def set_weights(self, weights):\n",
    "        self.weights = np.asarray(list(weights)) + 0.\n",
    "        # normalize weights\n",
    "        self.weights /= np.sum(self.weights)\n",
    "        \n",
    "        \n",
    "    def get_powder_cross_section(self, weights=None, lattice_constants=None, **kwargs):\n",
    "        # background_strengths and resolution omitted for now\n",
    "        if weights != None:\n",
    "            self.set_weights(weights)\n",
    "        if lattice_constants != None:\n",
    "            for latc, nca in zip(lattice_constants, self.ncatoms_list):\n",
    "                nca.set_lattice_constant(latc)\n",
    "        xsections = np.array([nca.get_powder_cross_section(return_wl=False, **kwargs) \n",
    "                              for nca in self.ncatoms_list])\n",
    "        xsections = np.dot(self.weights, xsections)\n",
    "        return self.wavelengths, xsections\n",
    "        "
   ]
  },
  {
   "cell_type": "code",
   "execution_count": 56,
   "metadata": {
    "ExecuteTime": {
     "end_time": "2019-12-09T12:36:38.653697Z",
     "start_time": "2019-12-09T12:36:38.369944Z"
    }
   },
   "outputs": [
    {
     "data": {
      "text/plain": [
       "<matplotlib.legend.Legend at 0x1a2bc35390>"
      ]
     },
     "execution_count": 56,
     "metadata": {},
     "output_type": "execute_result"
    },
    {
     "data": {
      "image/png": "[encoded data removed]",
      "text/plain": [
       "<Figure size 432x288 with 1 Axes>"
      ]
     },
     "metadata": {
      "needs_background": "light"
     },
     "output_type": "display_data"
    }
   ],
   "source": [
    "Cu = NCAtoms(bulk('Cu', cubic=True), debye_temperatures = {'Cu': 315.1134})  # fcc\n",
    "Fe = NCAtoms(bulk('Fe', cubic=True), debye_temperatures = {'Fe' : 443.9152})  # bcc\n",
    "plt.plot(*Cu.get_powder_cross_section(), label=\"Cu\")\n",
    "plt.plot(*Fe.get_powder_cross_section(), label=\"Fe\")\n",
    "plt.ylabel(\"Cross section (barn)\")\n",
    "plt.xlabel(\"Wavelength (AA)\")\n",
    "plt.legend()"
   ]
  },
  {
   "cell_type": "code",
   "execution_count": 57,
   "metadata": {
    "ExecuteTime": {
     "end_time": "2019-12-09T12:36:39.203716Z",
     "start_time": "2019-12-09T12:36:39.200617Z"
    }
   },
   "outputs": [],
   "source": [
    "CuFe = PowderMixture([Cu, Fe], [1,1])"
   ]
  },
  {
   "cell_type": "code",
   "execution_count": 58,
   "metadata": {
    "ExecuteTime": {
     "end_time": "2019-12-09T12:36:40.289587Z",
     "start_time": "2019-12-09T12:36:39.992090Z"
    }
   },
   "outputs": [
    {
     "data": {
      "text/plain": [
       "<matplotlib.legend.Legend at 0x1a2bc77450>"
      ]
     },
     "execution_count": 58,
     "metadata": {},
     "output_type": "execute_result"
    },
    {
     "data": {
      "image/png": "[encoded data removed]",
      "text/plain": [
       "<Figure size 432x288 with 1 Axes>"
      ]
     },
     "metadata": {
      "needs_background": "light"
     },
     "output_type": "display_data"
    }
   ],
   "source": [
    "lines = plt.plot(*Cu.get_powder_cross_section(),\n",
    "         *Fe.get_powder_cross_section(),\n",
    "         *CuFe.get_powder_cross_section()\n",
    "        )\n",
    "plt.legend(lines, (\"Cu\", \"Fe\", \"50% Cu + 50% Fe\"))"
   ]
  },
  {
   "cell_type": "code",
   "execution_count": 59,
   "metadata": {
    "ExecuteTime": {
     "end_time": "2019-12-09T12:36:41.202943Z",
     "start_time": "2019-12-09T12:36:40.768934Z"
    }
   },
   "outputs": [
    {
     "data": {
      "text/plain": [
       "Text(0.5, 0, 'Wavelength (AA)')"
      ]
     },
     "execution_count": 59,
     "metadata": {},
     "output_type": "execute_result"
    },
    {
     "data": {
      "image/png": "[encoded data removed]",
      "text/plain": [
       "<Figure size 432x288 with 1 Axes>"
      ]
     },
     "metadata": {
      "needs_background": "light"
     },
     "output_type": "display_data"
    }
   ],
   "source": [
    "loweights = [(dw, 100-dw) for dw in np.linspace(0, 100, 5)]  # Use percentage content of each\n",
    "CuFe_plotdata = sum([CuFe.get_powder_cross_section(weights=weights) for weights in loweights], ())\n",
    "lines = plt.plot(*CuFe_plotdata)\n",
    "plt.legend(lines, (\"{}% Cu and {}% Fe\".format(*weights) for weights in loweights))\n",
    "plt.ylabel(\"Cross section (barn)\")\n",
    "plt.xlabel(\"Wavelength (AA)\")"
   ]
  },
  {
   "cell_type": "markdown",
   "metadata": {},
   "source": [
    "## Fitting using lmfit and NCAtoms / Mixture"
   ]
  },
  {
   "cell_type": "markdown",
   "metadata": {},
   "source": [
    "Below class can be used to fit an atomic model to a data set"
   ]
  },
  {
   "cell_type": "code",
   "execution_count": 60,
   "metadata": {
    "ExecuteTime": {
     "end_time": "2019-12-09T12:36:43.638862Z",
     "start_time": "2019-12-09T12:36:43.635327Z"
    }
   },
   "outputs": [],
   "source": [
    "wavelengths = np.linspace(0.5,8.0, 200)"
   ]
  },
  {
   "cell_type": "code",
   "execution_count": 61,
   "metadata": {
    "ExecuteTime": {
     "end_time": "2019-12-09T12:36:44.335344Z",
     "start_time": "2019-12-09T12:36:44.328325Z"
    }
   },
   "outputs": [],
   "source": [
    "Cu = NCAtoms(bulk('Cu', cubic=True), debye_temperatures = {'Cu': 315.1134}, wavelengths=wavelengths)"
   ]
  },
  {
   "cell_type": "code",
   "execution_count": 62,
   "metadata": {
    "ExecuteTime": {
     "end_time": "2019-12-09T12:36:44.900911Z",
     "start_time": "2019-12-09T12:36:44.866406Z"
    }
   },
   "outputs": [],
   "source": [
    "cu_xsections_ideal = Cu.get_powder_cross_section()"
   ]
  },
  {
   "cell_type": "code",
   "execution_count": 63,
   "metadata": {
    "ExecuteTime": {
     "end_time": "2019-12-09T12:36:45.470706Z",
     "start_time": "2019-12-09T12:36:45.466675Z"
    }
   },
   "outputs": [],
   "source": [
    "noisy = wavelengths, cu_xsections_ideal[1] + np.random.normal(size=wavelengths.size)"
   ]
  },
  {
   "cell_type": "code",
   "execution_count": 64,
   "metadata": {
    "ExecuteTime": {
     "end_time": "2019-12-09T12:36:46.584721Z",
     "start_time": "2019-12-09T12:36:46.332479Z"
    }
   },
   "outputs": [
    {
     "data": {
      "text/plain": [
       "[<matplotlib.lines.Line2D at 0x1a2bf0a3d0>,\n",
       " <matplotlib.lines.Line2D at 0x1a2bf0a5d0>]"
      ]
     },
     "execution_count": 64,
     "metadata": {},
     "output_type": "execute_result"
    },
    {
     "data": {
      "image/png": "[encoded data removed]",
      "text/plain": [
       "<Figure size 432x288 with 1 Axes>"
      ]
     },
     "metadata": {
      "needs_background": "light"
     },
     "output_type": "display_data"
    }
   ],
   "source": [
    "plt.plot(*cu_xsections_ideal, *noisy)"
   ]
  },
  {
   "cell_type": "code",
   "execution_count": 65,
   "metadata": {
    "ExecuteTime": {
     "end_time": "2019-12-09T12:36:47.201295Z",
     "start_time": "2019-12-09T12:36:47.181394Z"
    }
   },
   "outputs": [],
   "source": [
    "def print_parameters(params, i, resid):\n",
    "    if i <= 10 or i%10==0:\n",
    "        s = '{0:3d}: '.format(i) + ',  '.join(['{0.name} = {0.value}'.format(p) for p in params.values()]) # + ' | {}'.format(resid)\n",
    "        print(s)\n",
    "    else:\n",
    "        pass\n",
    "    \n",
    "class Minimizer(object):\n",
    "\n",
    "    def __init__(self, spectrum=None):\n",
    "        if spectrum is not None:\n",
    "            self.set_weights(spectrum)\n",
    "        self.parameters = lmfit.Parameters()\n",
    "        self.parameters.add('lattice_constant', min=1., max=7., value=3., vary=True)\n",
    "        self.parameters.add('resolution', min=0., max=1., value=0, vary=False)\n",
    "        self.parameters.add('background_strength', min=0., value=0, vary=False)\n",
    "        #self.wavelengths = wavelengths\n",
    "        self.results = []\n",
    "\n",
    "    def objective_function(self, parameters): #, wavelenghts, xsection_data):\n",
    "        # One could consider to use the lmfit Model class\n",
    "        xsections = self._ncatoms.get_powder_cross_section(macroscopic=self.ismacroscopic,\n",
    "                                                           **parameters.valuesdict())\n",
    "        #plt.plot(*xsections)\n",
    "        if hasattr(self, 'weights'):\n",
    "            return self.weights*(self.target_data - xsections[1])\n",
    "        else:\n",
    "            return self.target_data - xsections[1]\n",
    "    \n",
    "    def set_model(self, ncatoms):\n",
    "        if ncatoms is not None:\n",
    "            self._ncatoms = ncatoms\n",
    "        \n",
    "    def set_target_data(self, target_data):\n",
    "        if target_data is not None:\n",
    "            self.target_data = target_data\n",
    "        \n",
    "            \n",
    "    def set_weights(self, spectrum):\n",
    "        self.weights = spectrum/np.sum(spectrum)\n",
    "    \n",
    "    def free(self, parameter):\n",
    "        self.parameters[parameter].vary = True\n",
    "        \n",
    "    def fix(self, parameter):\n",
    "        self.parameters[parameter].vary = False\n",
    "        \n",
    "    \n",
    "    def init_minimizer(self, ncatoms=None, target_data=None, macroscopic=False):\n",
    "        self.set_model(ncatoms)\n",
    "        self.parameters['lattice_constant'].value = ncatoms.cell[0][0]\n",
    "        self.set_target_data(target_data)\n",
    "        self.ismacroscopic = macroscopic\n",
    "        \n",
    "    def update_parameters(self):\n",
    "        \"\"\"\n",
    "        Update the (initial) parameters to the ones from the latest minimization\n",
    "        \"\"\"\n",
    "        self.parameters = self.results[-1].params\n",
    "    \n",
    "    def run(self, method='bassinhopping'):\n",
    "        self.minimizer = lmfit.Minimizer(self.objective_function, self.parameters, \n",
    "                                         iter_cb=print_parameters) #, fcn_args=(self.wavelengths, self.target_data)\n",
    "        #print('\\nInitial values:\\n')\n",
    "        #self.parameters.pretty_print()\n",
    "        #print(\"\\n\\nIterations:\\n\")\n",
    "        result = self.minimizer.minimize(method=method)\n",
    "        print('\\nFinal result:\\n')\n",
    "        #self.parameters.pretty_print()\n",
    "        print(lmfit.report_fit(result))\n",
    "        self.results.append(result)\n",
    "        return result\n",
    "        \n",
    "    "
   ]
  },
  {
   "cell_type": "code",
   "execution_count": 66,
   "metadata": {
    "ExecuteTime": {
     "end_time": "2019-12-09T12:36:48.461203Z",
     "start_time": "2019-12-09T12:36:48.456667Z"
    }
   },
   "outputs": [],
   "source": [
    "minimizer = Minimizer()"
   ]
  },
  {
   "cell_type": "markdown",
   "metadata": {},
   "source": [
    "### Fitting to ideal data"
   ]
  },
  {
   "cell_type": "code",
   "execution_count": 67,
   "metadata": {
    "ExecuteTime": {
     "end_time": "2019-12-09T12:36:51.565213Z",
     "start_time": "2019-12-09T12:36:51.555828Z"
    }
   },
   "outputs": [
    {
     "data": {
      "text/html": [
       "<table><tr><th> name </th><th> value </th><th> initial value </th><th> min </th><th> max </th><th> vary </th></tr><tr><td> lattice_constant </td><td>  3.61000000 </td><td> 3.0 </td><td>  1.00000000 </td><td>  7.00000000 </td><td> True </td></tr><tr><td> resolution </td><td>  0.00000000 </td><td> 0 </td><td>  0.00000000 </td><td>  1.00000000 </td><td> False </td></tr><tr><td> background_strength </td><td>  0.00000000 </td><td> 0 </td><td>  0.00000000 </td><td>         inf </td><td> False </td></tr></table>"
      ],
      "text/plain": [
       "Parameters([('lattice_constant',\n",
       "             <Parameter 'lattice_constant', 3.61, bounds=[1.0:7.0]>),\n",
       "            ('resolution',\n",
       "             <Parameter 'resolution', value=0 (fixed), bounds=[0.0:1.0]>),\n",
       "            ('background_strength',\n",
       "             <Parameter 'background_strength', value=0 (fixed), bounds=[0.0:inf]>)])"
      ]
     },
     "execution_count": 67,
     "metadata": {},
     "output_type": "execute_result"
    }
   ],
   "source": [
    "minimizer = Minimizer()\n",
    "minimizer.init_minimizer(ncatoms=Cu, target_data=cu_xsections_ideal[1])\n",
    "minimizer.parameters"
   ]
  },
  {
   "cell_type": "code",
   "execution_count": 68,
   "metadata": {
    "ExecuteTime": {
     "end_time": "2019-12-09T12:36:53.153366Z",
     "start_time": "2019-12-09T12:36:52.348861Z"
    }
   },
   "outputs": [
    {
     "name": "stdout",
     "output_type": "stream",
     "text": [
      "  1: lattice_constant = 3.61,  resolution = 0,  background_strength = 0\n",
      "  2: lattice_constant = 3.5906190227038217,  resolution = 0,  background_strength = 0\n",
      "  3: lattice_constant = 3.6293975484065997,  resolution = 0,  background_strength = 0\n",
      "  4: lattice_constant = 3.6196967543110516,  resolution = 0,  background_strength = 0\n",
      "  5: lattice_constant = 3.600307388477555,  resolution = 0,  background_strength = 0\n",
      "  6: lattice_constant = 3.6148478657436884,  resolution = 0,  background_strength = 0\n",
      "  7: lattice_constant = 3.605153169954151,  resolution = 0,  background_strength = 0\n",
      "  8: lattice_constant = 3.6124238042141856,  resolution = 0,  background_strength = 0\n",
      "  9: lattice_constant = 3.6075764547103173,  resolution = 0,  background_strength = 0\n",
      " 10: lattice_constant = 3.6112118698421,  resolution = 0,  background_strength = 0\n",
      "\n",
      "Final result:\n",
      "\n",
      "[[Fit Statistics]]\n",
      "    # fitting method   = Nelder-Mead\n",
      "    # function evals   = 16\n",
      "    # data points      = 200\n",
      "    # variables        = 1\n",
      "    chi-square         = 0.00000000\n",
      "    reduced chi-square = 0.00000000\n",
      "    Akaike info crit   = -inf\n",
      "    Bayesian info crit = -inf\n",
      "##  Warning: uncertainties could not be estimated:\n",
      "    this fitting method does not natively calculate uncertainties\n",
      "    and numdifftools is not installed for lmfit to do this. Use\n",
      "    `pip install numdifftools` for lmfit to estimate uncertainties\n",
      "    with this fitting method.\n",
      "[[Variables]]\n",
      "    lattice_constant:     3.61000000 (init = 3.61)\n",
      "    resolution:           0 (fixed)\n",
      "    background_strength:  0 (fixed)\n",
      "None\n"
     ]
    },
    {
     "name": "stderr",
     "output_type": "stream",
     "text": [
      "/Users/thomasholmrod/miniconda3/envs/Rietveld/lib/python3.7/site-packages/lmfit/minimizer.py:359: RuntimeWarning: divide by zero encountered in log\n",
      "  _neg2_log_likel = self.ndata * np.log(self.chisqr / self.ndata)\n"
     ]
    }
   ],
   "source": [
    "result = minimizer.run()  # note that this fails if numdifftools is installed (cf Warning)"
   ]
  },
  {
   "cell_type": "code",
   "execution_count": 69,
   "metadata": {
    "ExecuteTime": {
     "end_time": "2019-12-09T12:36:53.999886Z",
     "start_time": "2019-12-09T12:36:53.994656Z"
    }
   },
   "outputs": [
    {
     "data": {
      "text/html": [
       "<h2>Fit Statistics</h2><table><tr><td>fitting method</td><td>Nelder-Mead</td><td></td></tr><tr><td># function evals</td><td>16</td><td></td></tr><tr><td># data points</td><td>200</td><td></td></tr><tr><td># variables</td><td>1</td><td></td></tr><tr><td>chi-square</td><td> 0.00000000</td><td></td></tr><tr><td>reduced chi-square</td><td> 0.00000000</td><td></td></tr><tr><td>Akaike info crit.</td><td>       -inf</td><td></td></tr><tr><td>Bayesian info crit.</td><td>       -inf</td><td></td></tr></table><h2>Variables</h2><table><tr><th> name </th><th> value </th><th> initial value </th><th> min </th><th> max </th><th> vary </th></tr><tr><td> lattice_constant </td><td>  3.61000000 </td><td> 3.61 </td><td>  1.00000000 </td><td>  7.00000000 </td><td> True </td></tr><tr><td> resolution </td><td>  0.00000000 </td><td> 0 </td><td>  0.00000000 </td><td>  1.00000000 </td><td> False </td></tr><tr><td> background_strength </td><td>  0.00000000 </td><td> 0 </td><td>  0.00000000 </td><td>         inf </td><td> False </td></tr></table>"
      ],
      "text/plain": [
       "<lmfit.minimizer.MinimizerResult at 0x1a2bf44250>"
      ]
     },
     "execution_count": 69,
     "metadata": {},
     "output_type": "execute_result"
    }
   ],
   "source": [
    "result"
   ]
  },
  {
   "cell_type": "code",
   "execution_count": 70,
   "metadata": {
    "ExecuteTime": {
     "end_time": "2019-12-09T12:36:55.248182Z",
     "start_time": "2019-12-09T12:36:54.996366Z"
    }
   },
   "outputs": [
    {
     "data": {
      "text/plain": [
       "<matplotlib.legend.Legend at 0x1a2bf23ad0>"
      ]
     },
     "execution_count": 70,
     "metadata": {},
     "output_type": "execute_result"
    },
    {
     "data": {
      "image/png": "[encoded data removed]",
      "text/plain": [
       "<Figure size 432x288 with 1 Axes>"
      ]
     },
     "metadata": {
      "needs_background": "light"
     },
     "output_type": "display_data"
    }
   ],
   "source": [
    "lines = plt.plot(*cu_xsections_ideal, *Cu.get_powder_cross_section())\n",
    "plt.legend(lines, (\"Target\", \"Fitted\"))"
   ]
  },
  {
   "cell_type": "markdown",
   "metadata": {},
   "source": [
    "### Fitting to noisy data"
   ]
  },
  {
   "cell_type": "code",
   "execution_count": 71,
   "metadata": {
    "ExecuteTime": {
     "end_time": "2019-12-09T12:36:56.575285Z",
     "start_time": "2019-12-09T12:36:56.568541Z"
    }
   },
   "outputs": [
    {
     "data": {
      "text/html": [
       "<table><tr><th> name </th><th> value </th><th> initial value </th><th> min </th><th> max </th><th> vary </th></tr><tr><td> lattice_constant </td><td>  3.61000000 </td><td> 3.0 </td><td>  1.00000000 </td><td>  7.00000000 </td><td> True </td></tr><tr><td> resolution </td><td>  0.00000000 </td><td> 0 </td><td>  0.00000000 </td><td>  1.00000000 </td><td> False </td></tr><tr><td> background_strength </td><td>  0.00000000 </td><td> 0 </td><td>  0.00000000 </td><td>         inf </td><td> False </td></tr></table>"
      ],
      "text/plain": [
       "Parameters([('lattice_constant',\n",
       "             <Parameter 'lattice_constant', 3.61, bounds=[1.0:7.0]>),\n",
       "            ('resolution',\n",
       "             <Parameter 'resolution', value=0 (fixed), bounds=[0.0:1.0]>),\n",
       "            ('background_strength',\n",
       "             <Parameter 'background_strength', value=0 (fixed), bounds=[0.0:inf]>)])"
      ]
     },
     "execution_count": 71,
     "metadata": {},
     "output_type": "execute_result"
    }
   ],
   "source": [
    "minimizer.init_minimizer(ncatoms=Cu, target_data=noisy[1])\n",
    "minimizer.parameters"
   ]
  },
  {
   "cell_type": "code",
   "execution_count": 72,
   "metadata": {
    "ExecuteTime": {
     "end_time": "2019-12-09T12:36:58.101616Z",
     "start_time": "2019-12-09T12:36:57.268566Z"
    }
   },
   "outputs": [
    {
     "name": "stdout",
     "output_type": "stream",
     "text": [
      "  1: lattice_constant = 3.61,  resolution = 0,  background_strength = 0\n",
      "  2: lattice_constant = 3.5906190227038217,  resolution = 0,  background_strength = 0\n",
      "  3: lattice_constant = 3.6293975484065997,  resolution = 0,  background_strength = 0\n",
      "  4: lattice_constant = 3.6196967543110516,  resolution = 0,  background_strength = 0\n",
      "  5: lattice_constant = 3.600307388477555,  resolution = 0,  background_strength = 0\n",
      "  6: lattice_constant = 3.5906190227038217,  resolution = 0,  background_strength = 0\n",
      "  7: lattice_constant = 3.5906190227038217,  resolution = 0,  background_strength = 0\n",
      "  8: lattice_constant = 3.605153169954151,  resolution = 0,  background_strength = 0\n",
      "  9: lattice_constant = 3.61,  resolution = 0,  background_strength = 0\n",
      " 10: lattice_constant = 3.6027301473403415,  resolution = 0,  background_strength = 0\n",
      " 20: lattice_constant = 3.605304617588152,  resolution = 0,  background_strength = 0\n",
      "\n",
      "Final result:\n",
      "\n",
      "[[Fit Statistics]]\n",
      "    # fitting method   = Nelder-Mead\n",
      "    # function evals   = 20\n",
      "    # data points      = 200\n",
      "    # variables        = 1\n",
      "    chi-square         = 200.196521\n",
      "    reduced chi-square = 1.00601267\n",
      "    Akaike info crit   = 2.19642432\n",
      "    Bayesian info crit = 5.49474169\n",
      "##  Warning: uncertainties could not be estimated:\n",
      "    this fitting method does not natively calculate uncertainties\n",
      "    and numdifftools is not installed for lmfit to do this. Use\n",
      "    `pip install numdifftools` for lmfit to estimate uncertainties\n",
      "    with this fitting method.\n",
      "[[Variables]]\n",
      "    lattice_constant:     3.60545607 (init = 3.61)\n",
      "    resolution:           0 (fixed)\n",
      "    background_strength:  0 (fixed)\n",
      "None\n"
     ]
    }
   ],
   "source": [
    "result = minimizer.run()"
   ]
  },
  {
   "cell_type": "code",
   "execution_count": 73,
   "metadata": {
    "ExecuteTime": {
     "end_time": "2019-12-09T12:36:59.004997Z",
     "start_time": "2019-12-09T12:36:58.999267Z"
    }
   },
   "outputs": [
    {
     "data": {
      "text/html": [
       "<h2>Fit Statistics</h2><table><tr><td>fitting method</td><td>Nelder-Mead</td><td></td></tr><tr><td># function evals</td><td>20</td><td></td></tr><tr><td># data points</td><td>200</td><td></td></tr><tr><td># variables</td><td>1</td><td></td></tr><tr><td>chi-square</td><td> 200.196521</td><td></td></tr><tr><td>reduced chi-square</td><td> 1.00601267</td><td></td></tr><tr><td>Akaike info crit.</td><td> 2.19642432</td><td></td></tr><tr><td>Bayesian info crit.</td><td> 5.49474169</td><td></td></tr></table><h2>Variables</h2><table><tr><th> name </th><th> value </th><th> initial value </th><th> min </th><th> max </th><th> vary </th></tr><tr><td> lattice_constant </td><td>  3.60545607 </td><td> 3.61 </td><td>  1.00000000 </td><td>  7.00000000 </td><td> True </td></tr><tr><td> resolution </td><td>  0.00000000 </td><td> 0 </td><td>  0.00000000 </td><td>  1.00000000 </td><td> False </td></tr><tr><td> background_strength </td><td>  0.00000000 </td><td> 0 </td><td>  0.00000000 </td><td>         inf </td><td> False </td></tr></table>"
      ],
      "text/plain": [
       "<lmfit.minimizer.MinimizerResult at 0x1a2c07e750>"
      ]
     },
     "execution_count": 73,
     "metadata": {},
     "output_type": "execute_result"
    }
   ],
   "source": [
    "minimizer.results[-1]"
   ]
  },
  {
   "cell_type": "code",
   "execution_count": 74,
   "metadata": {
    "ExecuteTime": {
     "end_time": "2019-12-09T12:37:00.047135Z",
     "start_time": "2019-12-09T12:36:59.779334Z"
    }
   },
   "outputs": [
    {
     "data": {
      "text/plain": [
       "[<matplotlib.lines.Line2D at 0x1a2c10e210>,\n",
       " <matplotlib.lines.Line2D at 0x1a2c10e410>]"
      ]
     },
     "execution_count": 74,
     "metadata": {},
     "output_type": "execute_result"
    },
    {
     "data": {
      "image/png": "[encoded data removed]",
      "text/plain": [
       "<Figure size 432x288 with 1 Axes>"
      ]
     },
     "metadata": {
      "needs_background": "light"
     },
     "output_type": "display_data"
    }
   ],
   "source": [
    "plt.plot(*noisy, *Cu.get_powder_cross_section())"
   ]
  },
  {
   "cell_type": "markdown",
   "metadata": {},
   "source": [
    "## Real data"
   ]
  },
  {
   "cell_type": "code",
   "execution_count": 75,
   "metadata": {
    "ExecuteTime": {
     "end_time": "2019-12-09T12:37:02.481742Z",
     "start_time": "2019-12-09T12:37:02.473672Z"
    }
   },
   "outputs": [],
   "source": [
    "ni_xsec = np.genfromtxt('Ni.txt')"
   ]
  },
  {
   "cell_type": "code",
   "execution_count": 76,
   "metadata": {
    "ExecuteTime": {
     "end_time": "2019-12-09T12:37:03.312262Z",
     "start_time": "2019-12-09T12:37:03.304775Z"
    }
   },
   "outputs": [],
   "source": [
    "ni_wl = np.genfromtxt('wave.txt')"
   ]
  },
  {
   "cell_type": "code",
   "execution_count": 77,
   "metadata": {
    "ExecuteTime": {
     "end_time": "2019-12-09T12:37:04.360722Z",
     "start_time": "2019-12-09T12:37:04.137593Z"
    }
   },
   "outputs": [
    {
     "data": {
      "text/plain": [
       "[<matplotlib.lines.Line2D at 0x1a2c1e1750>]"
      ]
     },
     "execution_count": 77,
     "metadata": {},
     "output_type": "execute_result"
    },
    {
     "data": {
      "image/png": "[encoded data removed]",
      "text/plain": [
       "<Figure size 432x288 with 1 Axes>"
      ]
     },
     "metadata": {
      "needs_background": "light"
     },
     "output_type": "display_data"
    }
   ],
   "source": [
    "plt.plot(ni_wl, ni_xsec)"
   ]
  },
  {
   "cell_type": "code",
   "execution_count": 78,
   "metadata": {
    "ExecuteTime": {
     "end_time": "2019-12-09T12:37:04.898259Z",
     "start_time": "2019-12-09T12:37:04.887423Z"
    }
   },
   "outputs": [
    {
     "data": {
      "text/plain": [
       "(0.09171323253193085, 0.09171323253193092)"
      ]
     },
     "execution_count": 78,
     "metadata": {},
     "output_type": "execute_result"
    }
   ],
   "source": [
    "# Silly test - density should be independent of representation of crystal structure\n",
    "\n",
    "Niprimitive = NCAtoms(bulk('Ni', cubic=False), debye_temperatures={'Ni':1})  # debye_temp is not important here\n",
    "Nicubic = NCAtoms(bulk('Ni', cubic=True), debye_temperatures={'Ni':1})  # debye_temp is not important here\n",
    "\n",
    "Niprimitive.get_density(), Nicubic.get_density()\n"
   ]
  },
  {
   "cell_type": "code",
   "execution_count": 79,
   "metadata": {
    "ExecuteTime": {
     "end_time": "2019-12-09T12:37:06.135732Z",
     "start_time": "2019-12-09T12:37:05.853716Z"
    }
   },
   "outputs": [
    {
     "data": {
      "text/plain": [
       "Cell([3.52, 3.52, 3.52])"
      ]
     },
     "execution_count": 79,
     "metadata": {},
     "output_type": "execute_result"
    },
    {
     "data": {
      "image/png": "[encoded data removed]",
      "text/plain": [
       "<Figure size 432x288 with 1 Axes>"
      ]
     },
     "metadata": {
      "needs_background": "light"
     },
     "output_type": "display_data"
    }
   ],
   "source": [
    "Ni = NCAtoms(bulk('Ni', cubic=True), debye_temperatures={'Ni': debye_temperatures['Ni']},\n",
    "             wavelengths=ni_wl)\n",
    "plt.plot(ni_wl, ni_xsec, *Ni.get_powder_cross_section(macroscopic=True))\n",
    "plt.title(\"Before fitting\")\n",
    "Ni.cell"
   ]
  },
  {
   "cell_type": "code",
   "execution_count": 80,
   "metadata": {
    "ExecuteTime": {
     "end_time": "2019-12-09T12:37:06.675881Z",
     "start_time": "2019-12-09T12:37:06.666706Z"
    }
   },
   "outputs": [
    {
     "data": {
      "text/html": [
       "<table><tr><th> name </th><th> value </th><th> initial value </th><th> min </th><th> max </th><th> vary </th></tr><tr><td> lattice_constant </td><td>  3.52000000 </td><td> 3.0 </td><td>  1.00000000 </td><td>  7.00000000 </td><td> True </td></tr><tr><td> resolution </td><td>  0.00000000 </td><td> 0 </td><td>  0.00000000 </td><td>  1.00000000 </td><td> False </td></tr><tr><td> background_strength </td><td>  0.00000000 </td><td> 0 </td><td>  0.00000000 </td><td>         inf </td><td> False </td></tr></table>"
      ],
      "text/plain": [
       "Parameters([('lattice_constant',\n",
       "             <Parameter 'lattice_constant', 3.52, bounds=[1.0:7.0]>),\n",
       "            ('resolution',\n",
       "             <Parameter 'resolution', value=0 (fixed), bounds=[0.0:1.0]>),\n",
       "            ('background_strength',\n",
       "             <Parameter 'background_strength', value=0 (fixed), bounds=[0.0:inf]>)])"
      ]
     },
     "execution_count": 80,
     "metadata": {},
     "output_type": "execute_result"
    }
   ],
   "source": [
    "minimizer = Minimizer()\n",
    "minimizer.init_minimizer(ncatoms=Ni, target_data=ni_xsec, macroscopic=True)\n",
    "minimizer.parameters"
   ]
  },
  {
   "cell_type": "code",
   "execution_count": 81,
   "metadata": {
    "ExecuteTime": {
     "end_time": "2019-12-09T12:37:08.873581Z",
     "start_time": "2019-12-09T12:37:07.336185Z"
    }
   },
   "outputs": [
    {
     "name": "stdout",
     "output_type": "stream",
     "text": [
      "  1: lattice_constant = 3.52,  resolution = 0,  background_strength = 0\n",
      "  2: lattice_constant = 3.4962226771597837,  resolution = 0,  background_strength = 0\n",
      "  3: lattice_constant = 3.5438083084566645,  resolution = 0,  background_strength = 0\n",
      "  4: lattice_constant = 3.56764606562329,  resolution = 0,  background_strength = 0\n",
      "  5: lattice_constant = 3.56764606562329,  resolution = 0,  background_strength = 0\n",
      "  6: lattice_constant = 3.5557236020833094,  resolution = 0,  background_strength = 0\n",
      "  7: lattice_constant = 3.56764606562329,  resolution = 0,  background_strength = 0\n",
      "  8: lattice_constant = 3.5497650470097053,  resolution = 0,  background_strength = 0\n",
      "  9: lattice_constant = 3.561683949637055,  resolution = 0,  background_strength = 0\n",
      " 10: lattice_constant = 3.552744098983793,  resolution = 0,  background_strength = 0\n",
      " 20: lattice_constant = 3.557027275779337,  resolution = 0,  background_strength = 0\n",
      " 30: lattice_constant = 3.5572833645982778,  resolution = 0,  background_strength = 0\n",
      "\n",
      "Final result:\n",
      "\n",
      "[[Fit Statistics]]\n",
      "    # fitting method   = Nelder-Mead\n",
      "    # function evals   = 35\n",
      "    # data points      = 165\n",
      "    # variables        = 1\n",
      "    chi-square         = 0.77256725\n",
      "    reduced chi-square = 0.00471078\n",
      "    Akaike info crit   = -883.056979\n",
      "    Bayesian info crit = -879.951033\n",
      "##  Warning: uncertainties could not be estimated:\n",
      "    this fitting method does not natively calculate uncertainties\n",
      "    and numdifftools is not installed for lmfit to do this. Use\n",
      "    `pip install numdifftools` for lmfit to estimate uncertainties\n",
      "    with this fitting method.\n",
      "[[Variables]]\n",
      "    lattice_constant:     3.55727172 (init = 3.52)\n",
      "    resolution:           0 (fixed)\n",
      "    background_strength:  0 (fixed)\n",
      "None\n"
     ]
    }
   ],
   "source": [
    "result = minimizer.run()"
   ]
  },
  {
   "cell_type": "code",
   "execution_count": 82,
   "metadata": {
    "ExecuteTime": {
     "end_time": "2019-12-09T12:37:09.550738Z",
     "start_time": "2019-12-09T12:37:09.532731Z"
    }
   },
   "outputs": [
    {
     "data": {
      "text/html": [
       "<h2>Fit Statistics</h2><table><tr><td>fitting method</td><td>Nelder-Mead</td><td></td></tr><tr><td># function evals</td><td>35</td><td></td></tr><tr><td># data points</td><td>165</td><td></td></tr><tr><td># variables</td><td>1</td><td></td></tr><tr><td>chi-square</td><td> 0.77256725</td><td></td></tr><tr><td>reduced chi-square</td><td> 0.00471078</td><td></td></tr><tr><td>Akaike info crit.</td><td>-883.056979</td><td></td></tr><tr><td>Bayesian info crit.</td><td>-879.951033</td><td></td></tr></table><h2>Variables</h2><table><tr><th> name </th><th> value </th><th> initial value </th><th> min </th><th> max </th><th> vary </th></tr><tr><td> lattice_constant </td><td>  3.55727172 </td><td> 3.52 </td><td>  1.00000000 </td><td>  7.00000000 </td><td> True </td></tr><tr><td> resolution </td><td>  0.00000000 </td><td> 0 </td><td>  0.00000000 </td><td>  1.00000000 </td><td> False </td></tr><tr><td> background_strength </td><td>  0.00000000 </td><td> 0 </td><td>  0.00000000 </td><td>         inf </td><td> False </td></tr></table>"
      ],
      "text/plain": [
       "<lmfit.minimizer.MinimizerResult at 0x1a2bb97050>"
      ]
     },
     "execution_count": 82,
     "metadata": {},
     "output_type": "execute_result"
    }
   ],
   "source": [
    "result"
   ]
  },
  {
   "cell_type": "code",
   "execution_count": 83,
   "metadata": {
    "ExecuteTime": {
     "end_time": "2019-12-09T12:37:10.399232Z",
     "start_time": "2019-12-09T12:37:10.147715Z"
    }
   },
   "outputs": [
    {
     "data": {
      "text/plain": [
       "[<matplotlib.lines.Line2D at 0x1a2badec50>]"
      ]
     },
     "execution_count": 83,
     "metadata": {},
     "output_type": "execute_result"
    },
    {
     "data": {
      "image/png": "[encoded data removed]",
      "text/plain": [
       "<Figure size 432x288 with 1 Axes>"
      ]
     },
     "metadata": {
      "needs_background": "light"
     },
     "output_type": "display_data"
    }
   ],
   "source": [
    "plt.plot(ni_wl, ni_xsec, label=\"Exp\")\n",
    "plt.plot(*Ni.get_powder_cross_section(lattice_constant=3.5573, macroscopic=True), label=\"Fitted\")"
   ]
  },
  {
   "cell_type": "markdown",
   "metadata": {},
   "source": [
    "### Using a spectrum"
   ]
  },
  {
   "cell_type": "code",
   "execution_count": 84,
   "metadata": {
    "ExecuteTime": {
     "end_time": "2019-12-09T12:37:11.950146Z",
     "start_time": "2019-12-09T12:37:11.741929Z"
    }
   },
   "outputs": [
    {
     "data": {
      "text/plain": [
       "[<matplotlib.lines.Line2D at 0x1a2bb61f90>,\n",
       " <matplotlib.lines.Line2D at 0x1a2bb5b1d0>]"
      ]
     },
     "execution_count": 84,
     "metadata": {},
     "output_type": "execute_result"
    },
    {
     "data": {
      "image/png": "[encoded data removed]",
      "text/plain": [
       "<Figure size 432x288 with 1 Axes>"
      ]
     },
     "metadata": {
      "needs_background": "light"
     },
     "output_type": "display_data"
    }
   ],
   "source": [
    "spectrum = distributions.uniform(loc=4.0, scale=0.2).pdf(ni_wl)\n",
    "plt.plot(ni_wl, ni_xsec, ni_wl, spectrum)"
   ]
  },
  {
   "cell_type": "code",
   "execution_count": 85,
   "metadata": {
    "ExecuteTime": {
     "end_time": "2019-12-09T12:37:12.470041Z",
     "start_time": "2019-12-09T12:37:12.461365Z"
    }
   },
   "outputs": [
    {
     "data": {
      "text/html": [
       "<table><tr><th> name </th><th> value </th><th> initial value </th><th> min </th><th> max </th><th> vary </th></tr><tr><td> lattice_constant </td><td>  3.55730000 </td><td> 3.0 </td><td>  1.00000000 </td><td>  7.00000000 </td><td> True </td></tr><tr><td> resolution </td><td>  0.00000000 </td><td> 0 </td><td>  0.00000000 </td><td>  1.00000000 </td><td> False </td></tr><tr><td> background_strength </td><td>  0.00000000 </td><td> 0 </td><td>  0.00000000 </td><td>         inf </td><td> False </td></tr></table>"
      ],
      "text/plain": [
       "Parameters([('lattice_constant',\n",
       "             <Parameter 'lattice_constant', 3.5573, bounds=[1.0:7.0]>),\n",
       "            ('resolution',\n",
       "             <Parameter 'resolution', value=0 (fixed), bounds=[0.0:1.0]>),\n",
       "            ('background_strength',\n",
       "             <Parameter 'background_strength', value=0 (fixed), bounds=[0.0:inf]>)])"
      ]
     },
     "execution_count": 85,
     "metadata": {},
     "output_type": "execute_result"
    }
   ],
   "source": [
    "minimizer = Minimizer(spectrum=spectrum)\n",
    "minimizer.init_minimizer(ncatoms=Ni, target_data=ni_xsec, macroscopic=True)\n",
    "minimizer.parameters"
   ]
  },
  {
   "cell_type": "code",
   "execution_count": 86,
   "metadata": {
    "ExecuteTime": {
     "end_time": "2019-12-09T12:37:14.155490Z",
     "start_time": "2019-12-09T12:37:13.008511Z"
    }
   },
   "outputs": [
    {
     "name": "stdout",
     "output_type": "stream",
     "text": [
      "  1: lattice_constant = 3.5573,  resolution = 0,  background_strength = 0\n",
      "  2: lattice_constant = 3.5353394266949305,  resolution = 0,  background_strength = 0\n",
      "  3: lattice_constant = 3.5134043350809563,  resolution = 0,  background_strength = 0\n",
      "  4: lattice_constant = 3.5243686204613747,  resolution = 0,  background_strength = 0\n",
      "  5: lattice_constant = 3.546316603373095,  resolution = 0,  background_strength = 0\n",
      "  6: lattice_constant = 3.5573,  resolution = 0,  background_strength = 0\n",
      "  7: lattice_constant = 3.5573,  resolution = 0,  background_strength = 0\n",
      "  8: lattice_constant = 3.5408272281324056,  resolution = 0,  background_strength = 0\n",
      "  9: lattice_constant = 3.5518075336023016,  resolution = 0,  background_strength = 0\n",
      " 10: lattice_constant = 3.5573,  resolution = 0,  background_strength = 0\n",
      " 20: lattice_constant = 3.5552401462759686,  resolution = 0,  background_strength = 0\n",
      "\n",
      "Final result:\n",
      "\n",
      "[[Fit Statistics]]\n",
      "    # fitting method   = Nelder-Mead\n",
      "    # function evals   = 28\n",
      "    # data points      = 165\n",
      "    # variables        = 1\n",
      "    chi-square         = 0.00953326\n",
      "    reduced chi-square = 5.8130e-05\n",
      "    Akaike info crit   = -1608.22079\n",
      "    Bayesian info crit = -1605.11484\n",
      "##  Warning: uncertainties could not be estimated:\n",
      "    this fitting method does not natively calculate uncertainties\n",
      "    and numdifftools is not installed for lmfit to do this. Use\n",
      "    `pip install numdifftools` for lmfit to estimate uncertainties\n",
      "    with this fitting method.\n",
      "[[Variables]]\n",
      "    lattice_constant:     3.55695668 (init = 3.5573)\n",
      "    resolution:           0 (fixed)\n",
      "    background_strength:  0 (fixed)\n",
      "None\n"
     ]
    },
    {
     "data": {
      "text/html": [
       "<h2>Fit Statistics</h2><table><tr><td>fitting method</td><td>Nelder-Mead</td><td></td></tr><tr><td># function evals</td><td>28</td><td></td></tr><tr><td># data points</td><td>165</td><td></td></tr><tr><td># variables</td><td>1</td><td></td></tr><tr><td>chi-square</td><td> 0.00953326</td><td></td></tr><tr><td>reduced chi-square</td><td> 5.8130e-05</td><td></td></tr><tr><td>Akaike info crit.</td><td>-1608.22079</td><td></td></tr><tr><td>Bayesian info crit.</td><td>-1605.11484</td><td></td></tr></table><h2>Variables</h2><table><tr><th> name </th><th> value </th><th> initial value </th><th> min </th><th> max </th><th> vary </th></tr><tr><td> lattice_constant </td><td>  3.55695668 </td><td> 3.5573 </td><td>  1.00000000 </td><td>  7.00000000 </td><td> True </td></tr><tr><td> resolution </td><td>  0.00000000 </td><td> 0 </td><td>  0.00000000 </td><td>  1.00000000 </td><td> False </td></tr><tr><td> background_strength </td><td>  0.00000000 </td><td> 0 </td><td>  0.00000000 </td><td>         inf </td><td> False </td></tr></table>"
      ],
      "text/plain": [
       "<lmfit.minimizer.MinimizerResult at 0x1a2badea90>"
      ]
     },
     "execution_count": 86,
     "metadata": {},
     "output_type": "execute_result"
    }
   ],
   "source": [
    "minimizer.run()"
   ]
  },
  {
   "cell_type": "code",
   "execution_count": 87,
   "metadata": {
    "ExecuteTime": {
     "end_time": "2019-12-09T12:37:15.143236Z",
     "start_time": "2019-12-09T12:37:14.892535Z"
    }
   },
   "outputs": [
    {
     "data": {
      "text/plain": [
       "[<matplotlib.lines.Line2D at 0x1a2c367a90>]"
      ]
     },
     "execution_count": 87,
     "metadata": {},
     "output_type": "execute_result"
    },
    {
     "data": {
      "image/png": "[encoded data removed]",
      "text/plain": [
       "<Figure size 432x288 with 1 Axes>"
      ]
     },
     "metadata": {
      "needs_background": "light"
     },
     "output_type": "display_data"
    }
   ],
   "source": [
    "plt.plot(ni_wl, ni_xsec, label=\"Exp\")\n",
    "plt.plot(*Ni.get_powder_cross_section(macroscopic=True), label=\"Fitted\")"
   ]
  },
  {
   "cell_type": "code",
   "execution_count": 88,
   "metadata": {
    "ExecuteTime": {
     "end_time": "2019-12-09T12:37:15.972675Z",
     "start_time": "2019-12-09T12:37:15.738377Z"
    }
   },
   "outputs": [
    {
     "data": {
      "text/plain": [
       "[<matplotlib.lines.Line2D at 0x1a2c3c3c50>,\n",
       " <matplotlib.lines.Line2D at 0x1a2c3c3e50>]"
      ]
     },
     "execution_count": 88,
     "metadata": {},
     "output_type": "execute_result"
    },
    {
     "data": {
      "image/png": "[encoded data removed]",
      "text/plain": [
       "<Figure size 432x288 with 1 Axes>"
      ]
     },
     "metadata": {
      "needs_background": "light"
     },
     "output_type": "display_data"
    }
   ],
   "source": [
    "spectrum = distributions.uniform(loc=2.6, scale=1.6).pdf(ni_wl)\n",
    "plt.plot(ni_wl, ni_xsec-min(ni_xsec), ni_wl, spectrum)"
   ]
  },
  {
   "cell_type": "code",
   "execution_count": 89,
   "metadata": {
    "ExecuteTime": {
     "end_time": "2019-12-09T12:37:16.513837Z",
     "start_time": "2019-12-09T12:37:16.504522Z"
    }
   },
   "outputs": [
    {
     "data": {
      "text/html": [
       "<table><tr><th> name </th><th> value </th><th> initial value </th><th> min </th><th> max </th><th> vary </th></tr><tr><td> lattice_constant </td><td>  3.55695668 </td><td> 3.0 </td><td>  1.00000000 </td><td>  7.00000000 </td><td> True </td></tr><tr><td> resolution </td><td>  0.00000000 </td><td> 0 </td><td>  0.00000000 </td><td>  1.00000000 </td><td> False </td></tr><tr><td> background_strength </td><td>  0.00000000 </td><td> 0 </td><td>  0.00000000 </td><td>         inf </td><td> False </td></tr></table>"
      ],
      "text/plain": [
       "Parameters([('lattice_constant',\n",
       "             <Parameter 'lattice_constant', 3.5569566762013727, bounds=[1.0:7.0]>),\n",
       "            ('resolution',\n",
       "             <Parameter 'resolution', value=0 (fixed), bounds=[0.0:1.0]>),\n",
       "            ('background_strength',\n",
       "             <Parameter 'background_strength', value=0 (fixed), bounds=[0.0:inf]>)])"
      ]
     },
     "execution_count": 89,
     "metadata": {},
     "output_type": "execute_result"
    }
   ],
   "source": [
    "minimizer = Minimizer(spectrum=spectrum)\n",
    "minimizer.init_minimizer(ncatoms=Ni, target_data=ni_xsec, macroscopic=True)\n",
    "minimizer.parameters"
   ]
  },
  {
   "cell_type": "code",
   "execution_count": 90,
   "metadata": {
    "ExecuteTime": {
     "end_time": "2019-12-09T12:37:18.017868Z",
     "start_time": "2019-12-09T12:37:17.257506Z"
    },
    "scrolled": true
   },
   "outputs": [
    {
     "name": "stdout",
     "output_type": "stream",
     "text": [
      "  1: lattice_constant = 3.5569566762013727,  resolution = 0,  background_strength = 0\n",
      "  2: lattice_constant = 3.534979345207789,  resolution = 0,  background_strength = 0\n",
      "  3: lattice_constant = 3.5789583413872914,  resolution = 0,  background_strength = 0\n",
      "  4: lattice_constant = 3.5459648934542622,  resolution = 0,  background_strength = 0\n",
      "  5: lattice_constant = 3.5679545425174504,  resolution = 0,  background_strength = 0\n",
      "  6: lattice_constant = 3.551460014946485,  resolution = 0,  background_strength = 0\n",
      "  7: lattice_constant = 3.5624548583498075,  resolution = 0,  background_strength = 0\n",
      "  8: lattice_constant = 3.554208154282792,  resolution = 0,  background_strength = 0\n",
      "  9: lattice_constant = 3.5597055783434213,  resolution = 0,  background_strength = 0\n",
      " 10: lattice_constant = 3.555582367566716,  resolution = 0,  background_strength = 0\n",
      "\n",
      "Final result:\n",
      "\n",
      "[[Fit Statistics]]\n",
      "    # fitting method   = Nelder-Mead\n",
      "    # function evals   = 16\n",
      "    # data points      = 165\n",
      "    # variables        = 1\n",
      "    chi-square         = 1.1436e-04\n",
      "    reduced chi-square = 6.9735e-07\n",
      "    Akaike info crit   = -2338.04053\n",
      "    Bayesian info crit = -2334.93459\n",
      "##  Warning: uncertainties could not be estimated:\n",
      "    this fitting method does not natively calculate uncertainties\n",
      "    and numdifftools is not installed for lmfit to do this. Use\n",
      "    `pip install numdifftools` for lmfit to estimate uncertainties\n",
      "    with this fitting method.\n",
      "[[Variables]]\n",
      "    lattice_constant:     3.55695668 (init = 3.556957)\n",
      "    resolution:           0 (fixed)\n",
      "    background_strength:  0 (fixed)\n",
      "None\n"
     ]
    },
    {
     "data": {
      "text/html": [
       "<h2>Fit Statistics</h2><table><tr><td>fitting method</td><td>Nelder-Mead</td><td></td></tr><tr><td># function evals</td><td>16</td><td></td></tr><tr><td># data points</td><td>165</td><td></td></tr><tr><td># variables</td><td>1</td><td></td></tr><tr><td>chi-square</td><td> 1.1436e-04</td><td></td></tr><tr><td>reduced chi-square</td><td> 6.9735e-07</td><td></td></tr><tr><td>Akaike info crit.</td><td>-2338.04053</td><td></td></tr><tr><td>Bayesian info crit.</td><td>-2334.93459</td><td></td></tr></table><h2>Variables</h2><table><tr><th> name </th><th> value </th><th> initial value </th><th> min </th><th> max </th><th> vary </th></tr><tr><td> lattice_constant </td><td>  3.55695668 </td><td> 3.5569566762013727 </td><td>  1.00000000 </td><td>  7.00000000 </td><td> True </td></tr><tr><td> resolution </td><td>  0.00000000 </td><td> 0 </td><td>  0.00000000 </td><td>  1.00000000 </td><td> False </td></tr><tr><td> background_strength </td><td>  0.00000000 </td><td> 0 </td><td>  0.00000000 </td><td>         inf </td><td> False </td></tr></table>"
      ],
      "text/plain": [
       "<lmfit.minimizer.MinimizerResult at 0x1a2c3cdc10>"
      ]
     },
     "execution_count": 90,
     "metadata": {},
     "output_type": "execute_result"
    }
   ],
   "source": [
    "minimizer.run()"
   ]
  },
  {
   "cell_type": "code",
   "execution_count": 91,
   "metadata": {
    "ExecuteTime": {
     "end_time": "2019-12-09T12:37:18.756364Z",
     "start_time": "2019-12-09T12:37:18.500627Z"
    }
   },
   "outputs": [
    {
     "data": {
      "text/plain": [
       "[<matplotlib.lines.Line2D at 0x1a2c4f1c50>]"
      ]
     },
     "execution_count": 91,
     "metadata": {},
     "output_type": "execute_result"
    },
    {
     "data": {
      "image/png": "[encoded data removed]",
      "text/plain": [
       "<Figure size 432x288 with 1 Axes>"
      ]
     },
     "metadata": {
      "needs_background": "light"
     },
     "output_type": "display_data"
    }
   ],
   "source": [
    "plt.plot(ni_wl, ni_xsec, label=\"Exp\")\n",
    "plt.plot(*Ni.get_powder_cross_section(macroscopic=True), label=\"Fitted\")"
   ]
  },
  {
   "cell_type": "code",
   "execution_count": 92,
   "metadata": {
    "ExecuteTime": {
     "end_time": "2019-12-09T12:37:20.338517Z",
     "start_time": "2019-12-09T12:37:19.259586Z"
    }
   },
   "outputs": [
    {
     "name": "stdout",
     "output_type": "stream",
     "text": [
      "  1: lattice_constant = 3.5569566762013727,  resolution = 0,  background_strength = 0\n",
      "  2: lattice_constant = 3.534979345207789,  resolution = 0,  background_strength = 0\n",
      "  3: lattice_constant = 3.5130275555133195,  resolution = 0,  background_strength = 0\n",
      "  4: lattice_constant = 3.5459648934542622,  resolution = 0,  background_strength = 0\n",
      "  5: lattice_constant = 3.5569566762013727,  resolution = 0,  background_strength = 0\n",
      "  6: lattice_constant = 3.5404713305885362,  resolution = 0,  background_strength = 0\n",
      "  7: lattice_constant = 3.534979345207789,  resolution = 0,  background_strength = 0\n",
      "  8: lattice_constant = 3.543217916014306,  resolution = 0,  background_strength = 0\n",
      "  9: lattice_constant = 3.5377251395340963,  resolution = 0,  background_strength = 0\n",
      " 10: lattice_constant = 3.541844574152319,  resolution = 0,  background_strength = 0\n",
      "\n",
      "Final result:\n",
      "\n",
      "[[Fit Statistics]]\n",
      "    # fitting method   = Nelder-Mead\n",
      "    # function evals   = 16\n",
      "    # data points      = 165\n",
      "    # variables        = 1\n",
      "    chi-square         = 8.5054e-06\n",
      "    reduced chi-square = 5.1862e-08\n",
      "    Akaike info crit   = -2766.82432\n",
      "    Bayesian info crit = -2763.71838\n",
      "##  Warning: uncertainties could not be estimated:\n",
      "    this fitting method does not natively calculate uncertainties\n",
      "    and numdifftools is not installed for lmfit to do this. Use\n",
      "    `pip install numdifftools` for lmfit to estimate uncertainties\n",
      "    with this fitting method.\n",
      "[[Variables]]\n",
      "    lattice_constant:     3.54150125 (init = 3.556957)\n",
      "    resolution:           0 (fixed)\n",
      "    background_strength:  0 (fixed)\n",
      "None\n"
     ]
    },
    {
     "data": {
      "text/plain": [
       "[<matplotlib.lines.Line2D at 0x1a2c5bdad0>]"
      ]
     },
     "execution_count": 92,
     "metadata": {},
     "output_type": "execute_result"
    },
    {
     "data": {
      "image/png": "[encoded data removed]",
      "text/plain": [
       "<Figure size 432x288 with 1 Axes>"
      ]
     },
     "metadata": {
      "needs_background": "light"
     },
     "output_type": "display_data"
    }
   ],
   "source": [
    "spectrum = distributions.uniform(loc=5, scale=1).pdf(ni_wl)\n",
    "minimizer = Minimizer(spectrum=spectrum)\n",
    "minimizer.init_minimizer(ncatoms=Ni, target_data=ni_xsec, macroscopic=True)\n",
    "minimizer.run()\n",
    "plt.plot(ni_wl, ni_xsec, label=\"Exp\")\n",
    "plt.plot(*Ni.get_powder_cross_section(macroscopic=True), label=\"Fitted\")\n",
    "plt.plot(ni_wl, spectrum + min(ni_xsec), label=\"Spectrum\")"
   ]
  },
  {
   "cell_type": "code",
   "execution_count": 93,
   "metadata": {
    "ExecuteTime": {
     "end_time": "2019-12-09T12:37:22.251432Z",
     "start_time": "2019-12-09T12:37:20.818637Z"
    }
   },
   "outputs": [
    {
     "name": "stdout",
     "output_type": "stream",
     "text": [
      "  1: lattice_constant = 3.541501254034407,  resolution = 0,  background_strength = 0\n",
      "  2: lattice_constant = 3.5187702153818208,  resolution = 0,  background_strength = 0\n",
      "  3: lattice_constant = 3.564259277571707,  resolution = 0,  background_strength = 0\n",
      "  4: lattice_constant = 3.5870429465731712,  resolution = 0,  background_strength = 0\n",
      "  5: lattice_constant = 3.632681855818523,  resolution = 0,  background_strength = 0\n",
      "  6: lattice_constant = 3.609850920108893,  resolution = 0,  background_strength = 0\n",
      "  7: lattice_constant = 3.632681855818523,  resolution = 0,  background_strength = 0\n",
      "  8: lattice_constant = 3.598443979139171,  resolution = 0,  background_strength = 0\n",
      "  9: lattice_constant = 3.5870429465731712,  resolution = 0,  background_strength = 0\n",
      " 10: lattice_constant = 3.6041467215615035,  resolution = 0,  background_strength = 0\n",
      " 20: lattice_constant = 3.6041467215615035,  resolution = 0,  background_strength = 0\n",
      "\n",
      "Final result:\n",
      "\n",
      "[[Fit Statistics]]\n",
      "    # fitting method   = Nelder-Mead\n",
      "    # function evals   = 21\n",
      "    # data points      = 165\n",
      "    # variables        = 1\n",
      "    chi-square         = 4.1933e-05\n",
      "    reduced chi-square = 2.5569e-07\n",
      "    Akaike info crit   = -2503.58914\n",
      "    Bayesian info crit = -2500.48319\n",
      "##  Warning: uncertainties could not be estimated:\n",
      "    this fitting method does not natively calculate uncertainties\n",
      "    and numdifftools is not installed for lmfit to do this. Use\n",
      "    `pip install numdifftools` for lmfit to estimate uncertainties\n",
      "    with this fitting method.\n",
      "[[Variables]]\n",
      "    lattice_constant:     3.60450319 (init = 3.541501)\n",
      "    resolution:           0 (fixed)\n",
      "    background_strength:  0 (fixed)\n",
      "None\n"
     ]
    },
    {
     "data": {
      "text/plain": [
       "[<matplotlib.lines.Line2D at 0x1a2c68bd90>]"
      ]
     },
     "execution_count": 93,
     "metadata": {},
     "output_type": "execute_result"
    },
    {
     "data": {
      "image/png": "[encoded data removed]",
      "text/plain": [
       "<Figure size 432x288 with 1 Axes>"
      ]
     },
     "metadata": {
      "needs_background": "light"
     },
     "output_type": "display_data"
    }
   ],
   "source": [
    "spectrum = distributions.uniform(loc=1, scale=1).pdf(ni_wl)\n",
    "minimizer = Minimizer(spectrum=spectrum)\n",
    "minimizer.init_minimizer(ncatoms=Ni, target_data=ni_xsec, macroscopic=True)\n",
    "minimizer.run()\n",
    "plt.plot(ni_wl, ni_xsec, label=\"Exp\")\n",
    "plt.plot(*Ni.get_powder_cross_section(macroscopic=True), label=\"Fitted\")\n",
    "plt.plot(ni_wl, spectrum + min(ni_xsec), label=\"Spectrum\")"
   ]
  },
  {
   "cell_type": "code",
   "execution_count": 94,
   "metadata": {
    "ExecuteTime": {
     "end_time": "2019-12-09T12:37:23.886029Z",
     "start_time": "2019-12-09T12:37:22.747060Z"
    }
   },
   "outputs": [
    {
     "name": "stdout",
     "output_type": "stream",
     "text": [
      "  1: lattice_constant = 3.6045031915284897,  resolution = 0,  background_strength = 0\n",
      "  2: lattice_constant = 3.5848525015487076,  resolution = 0,  background_strength = 0\n",
      "  3: lattice_constant = 3.5652199548769627,  resolution = 0,  background_strength = 0\n",
      "  4: lattice_constant = 3.575033906654887,  resolution = 0,  background_strength = 0\n",
      "  5: lattice_constant = 3.594675632281927,  resolution = 0,  background_strength = 0\n",
      "  6: lattice_constant = 3.575033906654887,  resolution = 0,  background_strength = 0\n",
      "  7: lattice_constant = 3.579942630415916,  resolution = 0,  background_strength = 0\n",
      "  8: lattice_constant = 3.589763506642123,  resolution = 0,  background_strength = 0\n",
      "  9: lattice_constant = 3.582397423398965,  resolution = 0,  background_strength = 0\n",
      " 10: lattice_constant = 3.587307863188655,  resolution = 0,  background_strength = 0\n",
      "\n",
      "Final result:\n",
      "\n",
      "[[Fit Statistics]]\n",
      "    # fitting method   = Nelder-Mead\n",
      "    # function evals   = 17\n",
      "    # data points      = 165\n",
      "    # variables        = 1\n",
      "    chi-square         = 4.1320e-04\n",
      "    reduced chi-square = 2.5195e-06\n",
      "    Akaike info crit   = -2126.09336\n",
      "    Bayesian info crit = -2122.98742\n",
      "##  Warning: uncertainties could not be estimated:\n",
      "    this fitting method does not natively calculate uncertainties\n",
      "    and numdifftools is not installed for lmfit to do this. Use\n",
      "    `pip install numdifftools` for lmfit to estimate uncertainties\n",
      "    with this fitting method.\n",
      "[[Variables]]\n",
      "    lattice_constant:     3.58377837 (init = 3.604503)\n",
      "    resolution:           0 (fixed)\n",
      "    background_strength:  0 (fixed)\n",
      "None\n"
     ]
    },
    {
     "data": {
      "text/plain": [
       "[<matplotlib.lines.Line2D at 0x1a2c6a8790>]"
      ]
     },
     "execution_count": 94,
     "metadata": {},
     "output_type": "execute_result"
    },
    {
     "data": {
      "image/png": "[encoded data removed]",
      "text/plain": [
       "<Figure size 432x288 with 1 Axes>"
      ]
     },
     "metadata": {
      "needs_background": "light"
     },
     "output_type": "display_data"
    }
   ],
   "source": [
    "spectrum = distributions.uniform(loc=2.5, scale=1.7).pdf(ni_wl)\n",
    "minimizer = Minimizer(spectrum=spectrum)\n",
    "minimizer.init_minimizer(ncatoms=Ni, target_data=ni_xsec, macroscopic=True)\n",
    "minimizer.run()\n",
    "plt.plot(ni_wl, ni_xsec, label=\"Exp\")\n",
    "plt.plot(*Ni.get_powder_cross_section(macroscopic=True), label=\"Fitted\")\n",
    "plt.plot(ni_wl, spectrum + min(ni_xsec), label=\"Spectrum\")"
   ]
  },
  {
   "cell_type": "code",
   "execution_count": null,
   "metadata": {
    "ExecuteTime": {
     "start_time": "2019-12-09T12:37:22.119Z"
    }
   },
   "outputs": [
    {
     "name": "stderr",
     "output_type": "stream",
     "text": [
      " 51%|█████     | 506/1000 [33:32<29:45,  3.61s/it]  "
     ]
    }
   ],
   "source": [
    "minimizer.run(method='emcee')"
   ]
  },
  {
   "cell_type": "code",
   "execution_count": null,
   "metadata": {},
   "outputs": [],
   "source": []
  },
  {
   "cell_type": "code",
   "execution_count": null,
   "metadata": {
    "ExecuteTime": {
     "start_time": "2019-12-09T12:37:24.733Z"
    }
   },
   "outputs": [],
   "source": [
    "Pb = NCAtoms(bulk('Pb', cubic=True), debye_temperatures={'Pb': debye_temperatures['Pb']})"
   ]
  },
  {
   "cell_type": "markdown",
   "metadata": {},
   "source": [
    "#### Noisy with background and resolution"
   ]
  },
  {
   "cell_type": "code",
   "execution_count": null,
   "metadata": {
    "ExecuteTime": {
     "end_time": "2019-11-15T14:02:08.140785Z",
     "start_time": "2019-11-15T14:02:08.059741Z"
    }
   },
   "outputs": [],
   "source": [
    "target_data2 = Cu.get_powder_cross_section(resolution=0.08, background_strength=2)[1] + distributions.norm.rvs(\n",
    "    size=wavelengths.size)"
   ]
  },
  {
   "cell_type": "code",
   "execution_count": null,
   "metadata": {
    "ExecuteTime": {
     "end_time": "2019-11-15T14:02:11.508137Z",
     "start_time": "2019-11-15T14:02:10.935680Z"
    }
   },
   "outputs": [],
   "source": [
    "plt.plot(wavelengths, target_data2, label=\"Target data\")\n",
    "plt.plot(*Cu.get_powder_cross_section(), label=\"Ideal\")\n",
    "plt.legend()"
   ]
  },
  {
   "cell_type": "code",
   "execution_count": null,
   "metadata": {
    "ExecuteTime": {
     "end_time": "2019-11-15T14:02:12.061706Z",
     "start_time": "2019-11-15T14:02:12.048783Z"
    }
   },
   "outputs": [],
   "source": [
    "minimizer.init_minimizer(ncatoms=Cu, target_data=target_data2)"
   ]
  },
  {
   "cell_type": "code",
   "execution_count": null,
   "metadata": {
    "ExecuteTime": {
     "end_time": "2019-11-15T14:02:16.840319Z",
     "start_time": "2019-11-15T14:02:16.830316Z"
    }
   },
   "outputs": [],
   "source": [
    "minimizer.parameters"
   ]
  },
  {
   "cell_type": "code",
   "execution_count": null,
   "metadata": {
    "ExecuteTime": {
     "end_time": "2019-11-15T14:02:20.351518Z",
     "start_time": "2019-11-15T14:02:20.344819Z"
    }
   },
   "outputs": [],
   "source": [
    "minimizer.fix('resolution')\n",
    "minimizer.free('background_strength')"
   ]
  },
  {
   "cell_type": "code",
   "execution_count": null,
   "metadata": {
    "ExecuteTime": {
     "end_time": "2019-11-15T14:02:21.219176Z",
     "start_time": "2019-11-15T14:02:21.207705Z"
    }
   },
   "outputs": [],
   "source": [
    "minimizer.parameters"
   ]
  },
  {
   "cell_type": "code",
   "execution_count": null,
   "metadata": {
    "ExecuteTime": {
     "end_time": "2019-11-15T14:02:21.868283Z",
     "start_time": "2019-11-15T14:02:21.857457Z"
    }
   },
   "outputs": [],
   "source": [
    "minimizer.parameters['lattice_constant'].value = 2.\n",
    "minimizer.parameters['resolution'].value=0."
   ]
  },
  {
   "cell_type": "code",
   "execution_count": null,
   "metadata": {
    "ExecuteTime": {
     "end_time": "2019-11-15T14:02:24.323455Z",
     "start_time": "2019-11-15T14:02:24.312124Z"
    }
   },
   "outputs": [],
   "source": [
    "minimizer.parameters"
   ]
  },
  {
   "cell_type": "code",
   "execution_count": null,
   "metadata": {
    "ExecuteTime": {
     "end_time": "2019-11-15T14:02:35.191022Z",
     "start_time": "2019-11-15T14:02:27.225800Z"
    }
   },
   "outputs": [],
   "source": [
    "result = minimizer.run()"
   ]
  },
  {
   "cell_type": "code",
   "execution_count": null,
   "metadata": {
    "ExecuteTime": {
     "end_time": "2019-11-15T14:02:36.259686Z",
     "start_time": "2019-11-15T14:02:36.242952Z"
    }
   },
   "outputs": [],
   "source": [
    "minimizer.update_parameters()\n",
    "minimizer.parameters"
   ]
  },
  {
   "cell_type": "code",
   "execution_count": null,
   "metadata": {
    "ExecuteTime": {
     "end_time": "2019-11-15T14:02:37.100349Z",
     "start_time": "2019-11-15T14:02:37.094765Z"
    }
   },
   "outputs": [],
   "source": [
    "minimizer.fix('lattice_constant')"
   ]
  },
  {
   "cell_type": "code",
   "execution_count": null,
   "metadata": {
    "ExecuteTime": {
     "end_time": "2019-11-15T14:02:42.078014Z",
     "start_time": "2019-11-15T14:02:37.828799Z"
    }
   },
   "outputs": [],
   "source": [
    "minimizer.run()"
   ]
  },
  {
   "cell_type": "code",
   "execution_count": null,
   "metadata": {
    "ExecuteTime": {
     "end_time": "2019-10-30T20:19:57.453077Z",
     "start_time": "2019-10-30T20:19:57.447149Z"
    }
   },
   "outputs": [],
   "source": [
    "minimizer.update_parameters()\n",
    "minimizer.free('lattice_constant')\n",
    "minimizer.parameters"
   ]
  },
  {
   "cell_type": "code",
   "execution_count": null,
   "metadata": {
    "ExecuteTime": {
     "end_time": "2019-10-30T20:20:14.060929Z",
     "start_time": "2019-10-30T20:20:10.088101Z"
    }
   },
   "outputs": [],
   "source": [
    "minimizer.run()"
   ]
  },
  {
   "cell_type": "code",
   "execution_count": null,
   "metadata": {
    "ExecuteTime": {
     "end_time": "2019-10-30T20:22:45.547688Z",
     "start_time": "2019-10-30T20:22:45.544275Z"
    }
   },
   "outputs": [],
   "source": [
    "minimizer.update_parameters()\n",
    "minimizer.free('resolution')\n",
    "minimizer.parameters['resolution'].value = 0.2"
   ]
  },
  {
   "cell_type": "code",
   "execution_count": null,
   "metadata": {
    "ExecuteTime": {
     "end_time": "2019-10-30T20:22:54.756662Z",
     "start_time": "2019-10-30T20:22:46.249252Z"
    }
   },
   "outputs": [],
   "source": [
    "minimizer.run()"
   ]
  },
  {
   "cell_type": "markdown",
   "metadata": {},
   "source": [
    "### Fitting using lmfit.Model"
   ]
  },
  {
   "cell_type": "code",
   "execution_count": null,
   "metadata": {
    "ExecuteTime": {
     "end_time": "2019-11-01T15:16:20.659277Z",
     "start_time": "2019-11-01T15:16:20.532491Z"
    }
   },
   "outputs": [],
   "source": [
    "Cu.scatter.crossSectionNonOriented(NCrystal.wl2ekin(3.0))"
   ]
  },
  {
   "cell_type": "code",
   "execution_count": null,
   "metadata": {},
   "outputs": [],
   "source": []
  },
  {
   "cell_type": "code",
   "execution_count": null,
   "metadata": {},
   "outputs": [],
   "source": []
  },
  {
   "cell_type": "markdown",
   "metadata": {},
   "source": [
    "### Fitting content"
   ]
  },
  {
   "cell_type": "code",
   "execution_count": null,
   "metadata": {
    "ExecuteTime": {
     "end_time": "2019-12-04T11:23:26.108887Z",
     "start_time": "2019-12-04T11:23:26.097322Z"
    }
   },
   "outputs": [],
   "source": [
    "phases = [bulk(element, cubic=True) for element in ['Cu', 'Fe', 'Al', 'Pb', 'Ni']]\n",
    "phases.append(bulk('Ti'))\n",
    "phases"
   ]
  },
  {
   "cell_type": "code",
   "execution_count": null,
   "metadata": {
    "ExecuteTime": {
     "end_time": "2019-12-04T11:26:40.592331Z",
     "start_time": "2019-12-04T11:26:40.586916Z"
    }
   },
   "outputs": [],
   "source": [
    "\n",
    "ncatoms_list = [NCAtoms(atoms, debye_temperatures = {atoms[0].symbol: temp}) \n",
    "                        for atoms, temp in zip(phases, debye_temp_lst)]"
   ]
  },
  {
   "cell_type": "markdown",
   "metadata": {},
   "source": [
    "Create a mixture with equal amount of each phase (here a phase is distinguished by element, but it could also by by crystal phase"
   ]
  },
  {
   "cell_type": "code",
   "execution_count": null,
   "metadata": {
    "ExecuteTime": {
     "end_time": "2019-12-04T11:23:32.692166Z",
     "start_time": "2019-12-04T11:23:32.687711Z"
    }
   },
   "outputs": [],
   "source": [
    "mixture = PowderMixture(ncatoms_list, [1]*len(phases))"
   ]
  },
  {
   "cell_type": "code",
   "execution_count": null,
   "metadata": {
    "ExecuteTime": {
     "end_time": "2019-12-04T11:23:33.242342Z",
     "start_time": "2019-12-04T11:23:33.169608Z"
    }
   },
   "outputs": [],
   "source": [
    "equal_mix = mixture.get_powder_cross_section()\n",
    "plt.plot(*equal_mix)"
   ]
  },
  {
   "cell_type": "code",
   "execution_count": null,
   "metadata": {
    "ExecuteTime": {
     "end_time": "2019-12-04T09:09:25.895963Z",
     "start_time": "2019-12-04T09:09:24.826677Z"
    }
   },
   "outputs": [],
   "source": [
    "plt.plot(*mixture.get_powder_cross_section(weights=[1,0,0,0,0,0]), label='Cu')\n",
    "plt.plot(*mixture.get_powder_cross_section(weights=[0,1,0,0,0,0]), label='Fe')\n",
    "plt.plot(*mixture.get_powder_cross_section(weights=[0,0,1,0,0,0]), label='Al')\n",
    "plt.plot(*mixture.get_powder_cross_section(weights=[0,0,0,1,0,0]), label='Pb')\n",
    "plt.plot(*mixture.get_powder_cross_section(weights=[0,0,0,0,1,0]), label='Ni')\n",
    "plt.plot(*mixture.get_powder_cross_section(weights=[0,0,0,0,0,1]), label='Ti')\n",
    "plt.legend()"
   ]
  },
  {
   "cell_type": "code",
   "execution_count": null,
   "metadata": {
    "ExecuteTime": {
     "end_time": "2019-12-04T09:09:55.617224Z",
     "start_time": "2019-12-04T09:09:55.610218Z"
    }
   },
   "outputs": [],
   "source": [
    "class MixtureMinimizer(Minimizer):\n",
    "    def __init__(self, mixture, wavelengths, target_data):\n",
    "        self.mixture = mixture\n",
    "        self.target_data = target_data\n",
    "        self.parameters = lmfit.Parameters()\n",
    "        self.results = []\n",
    "        for i, weight in enumerate(mixture.weights):\n",
    "            self.parameters.add('w{:02d}'.format(i), value=weight, min=0, max=5)\n",
    "            \n",
    "    def objective_function(self, parameters):\n",
    "        xsections = self.mixture.get_powder_cross_section(weights=parameters.valuesdict().values())\n",
    "        return self.target_data - xsections[1]\n",
    "\n",
    "        "
   ]
  },
  {
   "cell_type": "code",
   "execution_count": null,
   "metadata": {
    "ExecuteTime": {
     "end_time": "2019-12-04T09:09:56.592783Z",
     "start_time": "2019-12-04T09:09:56.587646Z"
    }
   },
   "outputs": [],
   "source": [
    "mixminimizer = MixtureMinimizer(mixture, wavelengths, equal_mix)"
   ]
  },
  {
   "cell_type": "code",
   "execution_count": null,
   "metadata": {
    "ExecuteTime": {
     "end_time": "2019-12-04T09:09:57.717786Z",
     "start_time": "2019-12-04T09:09:57.710541Z"
    }
   },
   "outputs": [],
   "source": [
    "mixminimizer.parameters"
   ]
  },
  {
   "cell_type": "code",
   "execution_count": null,
   "metadata": {
    "ExecuteTime": {
     "end_time": "2019-12-04T09:10:38.101532Z",
     "start_time": "2019-12-04T09:10:02.044034Z"
    }
   },
   "outputs": [],
   "source": [
    "mixminimizer.run()"
   ]
  },
  {
   "cell_type": "code",
   "execution_count": null,
   "metadata": {},
   "outputs": [],
   "source": []
  }
 ],
 "metadata": {
  "kernelspec": {
   "display_name": "Python 3",
   "language": "python",
   "name": "python3"
  },
  "language_info": {
   "codemirror_mode": {
    "name": "ipython",
    "version": 3
   },
   "file_extension": ".py",
   "mimetype": "text/x-python",
   "name": "python",
   "nbconvert_exporter": "python",
   "pygments_lexer": "ipython3",
   "version": "3.7.5"
  },
  "toc": {
   "base_numbering": 1,
   "nav_menu": {},
   "number_sections": true,
   "sideBar": true,
   "skip_h1_title": true,
   "title_cell": "Table of Contents",
   "title_sidebar": "Contents",
   "toc_cell": true,
   "toc_position": {},
   "toc_section_display": true,
   "toc_window_display": true
  },
  "varInspector": {
   "cols": {
    "lenName": 16,
    "lenType": 16,
    "lenVar": 40
   },
   "kernels_config": {
    "python": {
     "delete_cmd_postfix": "",
     "delete_cmd_prefix": "del ",
     "library": "var_list.py",
     "varRefreshCmd": "print(var_dic_list())"
    },
    "r": {
     "delete_cmd_postfix": ") ",
     "delete_cmd_prefix": "rm(",
     "library": "var_list.r",
     "varRefreshCmd": "cat(var_dic_list()) "
    }
   },
   "types_to_exclude": [
    "module",
    "function",
    "builtin_function_or_method",
    "instance",
    "_Feature"
   ],
   "window_display": false
  }
 },
 "nbformat": 4,
 "nbformat_minor": 2
}
