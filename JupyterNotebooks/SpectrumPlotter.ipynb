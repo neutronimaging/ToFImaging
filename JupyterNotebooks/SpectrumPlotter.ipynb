{
 "cells": [
  {
   "cell_type": "markdown",
   "id": "eb7207ae",
   "metadata": {},
   "source": [
    "# Plot the beamline spectra "
   ]
  },
  {
   "cell_type": "code",
   "execution_count": null,
   "id": "fcd0fb80",
   "metadata": {
    "ExecuteTime": {
     "end_time": "2024-02-13T10:34:48.583158Z",
     "start_time": "2024-02-13T10:34:41.752572Z"
    }
   },
   "outputs": [],
   "source": [
    "import matplotlib.pyplot as plt\n",
    "import numpy as np\n",
    "import pandas as pd\n"
   ]
  },
  {
   "cell_type": "code",
   "execution_count": null,
   "id": "17b52ef4",
   "metadata": {
    "ExecuteTime": {
     "end_time": "2024-02-13T10:44:25.649775Z",
     "start_time": "2024-02-13T10:44:25.622872Z"
    }
   },
   "outputs": [],
   "source": [
    "datapath = '../src/tofimaging/data/SourceSpectra/'\n",
    "\n",
    "icon   = pd.read_csv(datapath+\"SpectrumIcon.txt\",delimiter='   ',names=['lambda','ICON'])\n",
    "boa    = pd.read_csv(datapath+\"SpectrumBoa.txt\",delimiter='  ',names=['lambda','BOA'])\n",
    "neutra = pd.read_csv(datapath+\"SpectrumNeutra.txt\",delimiter='  ',names=['lambda','NEUTRA'])\n",
    "poldi  = pd.read_csv(datapath+\"SpectrumPoldi.txt\",delimiter='  ',names=['lambda','POLDI'])\n"
   ]
  },
  {
   "cell_type": "code",
   "execution_count": null,
   "id": "9cea52f2",
   "metadata": {
    "ExecuteTime": {
     "end_time": "2024-02-13T10:44:28.259747Z",
     "start_time": "2024-02-13T10:44:28.244586Z"
    }
   },
   "outputs": [],
   "source": [
    "icon.head()"
   ]
  },
  {
   "cell_type": "code",
   "execution_count": null,
   "id": "8fd2ec84",
   "metadata": {
    "ExecuteTime": {
     "end_time": "2024-02-13T10:45:09.322958Z",
     "start_time": "2024-02-13T10:45:09.307709Z"
    }
   },
   "outputs": [],
   "source": [
    "def plot_spectrum(df,instrument,ax=None) :\n",
    "    if ax is None :\n",
    "        fig, ax = plt.subplots(1,figsize=(10,7))\n",
    "    \n",
    "    df.plot(x='lambda',y=instrument,ax=ax)\n",
    "    avg = (df['lambda']*df[instrument]).sum()/df[instrument].sum()\n",
    "    ax.axvline(avg,color='green',label=r'$\\bar{\\lambda{}}$ = '+'{0:0.2f} Å'.format(avg))\n",
    "    peak = df['lambda'][np.argmax(df[instrument])]\n",
    "    ax.axvline(peak,color='red',label=r'$\\hat{\\lambda{}}$ = '+'{0:0.2f} Å'.format(peak))\n",
    "    ax.legend()\n",
    "    ax.grid(True)\n",
    "    ax.set(title=instrument+' spectrum', xlabel='$\\lambda$ [$\\AA$]',ylabel='Normalized intensity', xticks=np.linspace(0,10,11), yticks=np.linspace(0,1,11));\n",
    "    plt.tight_layout()"
   ]
  },
  {
   "cell_type": "code",
   "execution_count": null,
   "id": "4a34a32d",
   "metadata": {
    "ExecuteTime": {
     "end_time": "2024-02-13T10:45:10.339377Z",
     "start_time": "2024-02-13T10:45:09.962940Z"
    }
   },
   "outputs": [],
   "source": [
    "plot_spectrum(icon,\"ICON\")\n",
    "plt.savefig('iconspectrum.png', dpi=300)"
   ]
  },
  {
   "cell_type": "code",
   "execution_count": null,
   "id": "5b299a9e",
   "metadata": {
    "ExecuteTime": {
     "end_time": "2024-02-13T10:45:11.499759Z",
     "start_time": "2024-02-13T10:45:11.127881Z"
    }
   },
   "outputs": [],
   "source": [
    "plot_spectrum(neutra,\"NEUTRA\")\n",
    "plt.savefig('neutraspectrum.png', dpi=300)"
   ]
  },
  {
   "cell_type": "code",
   "execution_count": null,
   "id": "d8538b3d",
   "metadata": {
    "ExecuteTime": {
     "end_time": "2024-02-13T10:45:53.472385Z",
     "start_time": "2024-02-13T10:45:53.100901Z"
    }
   },
   "outputs": [],
   "source": [
    "plot_spectrum(boa,\"BOA\")\n",
    "plt.savefig('boaspectrum.png', dpi=300)"
   ]
  },
  {
   "cell_type": "code",
   "execution_count": null,
   "id": "488e2bf0",
   "metadata": {
    "ExecuteTime": {
     "end_time": "2024-02-13T10:46:19.436647Z",
     "start_time": "2024-02-13T10:46:19.067590Z"
    }
   },
   "outputs": [],
   "source": [
    "plot_spectrum(poldi,\"POLDI\")\n",
    "plt.savefig('poldispectrum.png', dpi=300)"
   ]
  },
  {
   "cell_type": "code",
   "execution_count": null,
   "id": "f2bb2904",
   "metadata": {},
   "outputs": [],
   "source": []
  }
 ],
 "metadata": {
  "kernelspec": {
   "display_name": "Python 3 (ipykernel)",
   "language": "python",
   "name": "python3"
  },
  "language_info": {
   "codemirror_mode": {
    "name": "ipython",
    "version": 3
   },
   "file_extension": ".py",
   "mimetype": "text/x-python",
   "name": "python",
   "nbconvert_exporter": "python",
   "pygments_lexer": "ipython3",
   "version": "3.11.7"
  },
  "varInspector": {
   "cols": {
    "lenName": 16,
    "lenType": 16,
    "lenVar": 40
   },
   "kernels_config": {
    "python": {
     "delete_cmd_postfix": "",
     "delete_cmd_prefix": "del ",
     "library": "var_list.py",
     "varRefreshCmd": "print(var_dic_list())"
    },
    "r": {
     "delete_cmd_postfix": ") ",
     "delete_cmd_prefix": "rm(",
     "library": "var_list.r",
     "varRefreshCmd": "cat(var_dic_list()) "
    }
   },
   "types_to_exclude": [
    "module",
    "function",
    "builtin_function_or_method",
    "instance",
    "_Feature"
   ],
   "window_display": false
  }
 },
 "nbformat": 4,
 "nbformat_minor": 5
}
