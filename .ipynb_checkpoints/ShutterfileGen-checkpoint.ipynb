{
 "cells": [
  {
   "cell_type": "markdown",
   "metadata": {},
   "source": [
    "# Notebook for generating shutterfiles\n",
    "## Setting inputs: length of flight path, t offset and repetition frequency\n",
    "## Inputs for the shutter file generation: number of windows, and, for each window, tof/wavelength start-end and bin size "
   ]
  },
  {
   "cell_type": "code",
   "execution_count": 149,
   "metadata": {
    "collapsed": true
   },
   "outputs": [],
   "source": [
    "import numpy as np\n",
    "import matplotlib\n",
    "import matplotlib.pyplot as plt\n",
    "import os\n",
    "import csv\n",
    "import sys\n",
    "#%matplotlib notebook\n",
    "%matplotlib inline"
   ]
  },
  {
   "cell_type": "code",
   "execution_count": 150,
   "metadata": {
    "collapsed": true
   },
   "outputs": [],
   "source": [
    "L=19 #in meters\n",
    "t0=0 #in ms\n",
    "f=22 #in Hz\n",
    "t2overlap=1000/f #in ms"
   ]
  },
  {
   "cell_type": "code",
   "execution_count": 151,
   "metadata": {
    "collapsed": true
   },
   "outputs": [],
   "source": [
    "# function to convert tof to lambda\n",
    "def tof2l(tof):\n",
    "    l=3.956*(tof-t0)/L\n",
    "    return l"
   ]
  },
  {
   "cell_type": "code",
   "execution_count": 152,
   "metadata": {
    "collapsed": true
   },
   "outputs": [],
   "source": [
    "# function to convert lambda to tof\n",
    "def l2tof(l):\n",
    "    tof=t0+l*L/3.956\n",
    "    return tof"
   ]
  },
  {
   "cell_type": "code",
   "execution_count": 153,
   "metadata": {
    "collapsed": false
   },
   "outputs": [
    {
     "name": "stdout",
     "output_type": "stream",
     "text": [
      "Enter the number of acquisition window: 5\n"
     ]
    }
   ],
   "source": [
    "# number of acquisition windows\n",
    "n_windows=input(\"Enter the number of acquisition window: \")\n",
    "n_windows=5; # REMOVE THIS AFTER DEBUG\n",
    "windows=np.zeros((n_windows,2))"
   ]
  },
  {
   "cell_type": "code",
   "execution_count": 154,
   "metadata": {
    "collapsed": true
   },
   "outputs": [],
   "source": [
    "# REMOVE THE WHOLE SECTION AFTER DEBUG\n",
    "windows[0][0]=7\n",
    "windows[0][1]=8.78\n",
    "\n",
    "windows[1][0]=9.12\n",
    "windows[1][1]=12.2\n",
    "\n",
    "windows[2][0]=12.54\n",
    "windows[2][1]=15.6\n",
    "\n",
    "windows[3][0]=15.94\n",
    "windows[3][1]=22\n",
    "\n",
    "windows[4][0]=22.34\n",
    "windows[4][1]=36"
   ]
  },
  {
   "cell_type": "code",
   "execution_count": 155,
   "metadata": {
    "collapsed": true
   },
   "outputs": [],
   "source": [
    "# for i in range (0,n_windows):\n",
    "#     while True:\n",
    "#         if (i==0):\n",
    "#             windows[i][0]=input(\"Enter the ToF start for window %i (in ms):\" %(i+1))\n",
    "#             windows[i][1]=input(\"Enter the ToF end for window %i (in ms):\" %(i+1))\n",
    "#             if ((windows[i][0]>0)and(windows[i][1]>windows[i][0])):\n",
    "#                 break\n",
    "#             print(\"ERROR!\")\n",
    "#         else:   \n",
    "#             windows[i][0]=input(\"Enter the ToF start for window %i (in ms):\" %(i+1))\n",
    "#             windows[i][1]=input(\"Enter the ToF end for window %i (in ms):\" %(i+1))\n",
    "#             if ((windows[i][0]>0)and(windows[i][1]>windows[i][0]))and(windows[i][0]>windows[i-1][1]):\n",
    "#                 break\n",
    "#             print(\"ERROR!\")\n",
    "            "
   ]
  },
  {
   "cell_type": "code",
   "execution_count": 156,
   "metadata": {
    "collapsed": false,
    "scrolled": true
   },
   "outputs": [
    {
     "name": "stdout",
     "output_type": "stream",
     "text": [
      "[ 1.78  3.08  3.06  6.06 13.66]\n"
     ]
    }
   ],
   "source": [
    "# Windows durations\n",
    "delta_tof=windows[:,1]-windows[:,0]\n",
    "print(delta_tof)"
   ]
  },
  {
   "cell_type": "code",
   "execution_count": 157,
   "metadata": {
    "collapsed": false
   },
   "outputs": [
    {
     "name": "stdout",
     "output_type": "stream",
     "text": [
      "[1.00000000e+02 5.00000000e+01 2.50000000e+01 1.25000000e+01\n",
      " 6.25000000e+00 3.12500000e+00 1.56250000e+00 7.81250000e-01\n",
      " 3.90625000e-01 1.95312500e-01 9.76562500e-02 4.88281250e-02\n",
      " 2.44140625e-02 1.22070312e-02]\n",
      "[1.000e-05 2.000e-05 4.000e-05 8.000e-05 1.600e-04 3.200e-04 6.400e-04\n",
      " 1.280e-03 2.560e-03 5.120e-03 1.024e-02 2.048e-02 4.096e-02 8.192e-02]\n",
      "[1.18000e-01 2.36000e-01 4.72000e-01 9.44000e-01 1.88800e+00 3.77600e+00\n",
      " 7.55200e+00 1.51040e+01 3.02080e+01 6.04160e+01 1.20832e+02 2.41664e+02\n",
      " 4.83328e+02 9.66656e+02]\n"
     ]
    }
   ],
   "source": [
    "clock_frequency=np.zeros((14))\n",
    "clock_divider=np.zeros((n_windows))\n",
    "clock_time=np.zeros((14))\n",
    "for i in range (0,14):\n",
    "    clock_frequency[i]=100/(2**i)\n",
    "    clock_time[i]=0.00001*(2**i)\n",
    "    #clock_divider[i]=i\n",
    "range_covered=11800*clock_time\n",
    "print(clock_frequency)\n",
    "print(clock_time)\n",
    "#print(clock_divider)\n",
    "print(range_covered)\n"
   ]
  },
  {
   "cell_type": "code",
   "execution_count": 158,
   "metadata": {
    "collapsed": false,
    "scrolled": true
   },
   "outputs": [
    {
     "name": "stdout",
     "output_type": "stream",
     "text": [
      "[4. 5. 5. 6. 7.]\n"
     ]
    }
   ],
   "source": [
    "for i in range (0,n_windows):\n",
    "    for j in range (0,14):\n",
    "            if delta_tof[i]<range_covered[j]:\n",
    "                clock_divider[i]=j\n",
    "                break\n",
    "print(clock_divider)\n",
    "    "
   ]
  },
  {
   "cell_type": "code",
   "execution_count": 159,
   "metadata": {
    "collapsed": false
   },
   "outputs": [
    {
     "data": {
      "text/plain": [
       "0.00032"
      ]
     },
     "execution_count": 159,
     "metadata": {},
     "output_type": "execute_result"
    }
   ],
   "source": [
    "clock_time[int(clock_divider[2])]"
   ]
  },
  {
   "cell_type": "code",
   "execution_count": 161,
   "metadata": {
    "collapsed": false
   },
   "outputs": [
    {
     "ename": "SyntaxError",
     "evalue": "invalid syntax (<ipython-input-161-97ec64b155af>, line 7)",
     "output_type": "error",
     "traceback": [
      "\u001b[0;36m  File \u001b[0;32m\"<ipython-input-161-97ec64b155af>\"\u001b[0;36m, line \u001b[0;32m7\u001b[0m\n\u001b[0;31m    if 0.001*(bin_width[i]/clock_time[int(clock_divider[i])])).is_integer():\u001b[0m\n\u001b[0m                                                             ^\u001b[0m\n\u001b[0;31mSyntaxError\u001b[0m\u001b[0;31m:\u001b[0m invalid syntax\n"
     ]
    }
   ],
   "source": [
    "# Bin width. THIS IS AN INPUT\n",
    "bin_width=np.zeros((n_windows));\n",
    "while True:\n",
    "    for i in range (0,n_windows):\n",
    "        bin_width[i]=input(\"Enter the Bin width in acquisition window %i in (us): \"%(i+1))\n",
    "        print((bin_width[i]/(1000*clock_time[int(clock_divider[i])]))\n",
    "        if 0.001*(bin_width[i]/clock_time[int(clock_divider[i])])).is_integer():\n",
    "            break\n",
    "        print(\"Error!\")\n",
    "        \n",
    "# bin_width[0]=20.48\n",
    "# bin_width[1]=5.12\n",
    "# bin_width[2]=5.12\n",
    "# bin_width[3]=5.12\n",
    "# bin_width[4]=40.96\n"
   ]
  },
  {
   "cell_type": "code",
   "execution_count": 104,
   "metadata": {
    "collapsed": false,
    "scrolled": true
   },
   "outputs": [
    {
     "name": "stdout",
     "output_type": "stream",
     "text": [
      "[0.34 0.34 0.34 0.34]\n"
     ]
    }
   ],
   "source": [
    "# Shutter duration\n",
    "n_shutter=n_windows-1\n",
    "duration=np.zeros((n_shutter))\n",
    "for i in range (0,n_shutter):\n",
    "    duration[i]=windows[i+1][0]-windows[i][1]\n",
    "print(duration)"
   ]
  },
  {
   "cell_type": "code",
   "execution_count": 105,
   "metadata": {
    "collapsed": false
   },
   "outputs": [
    {
     "name": "stdout",
     "output_type": "stream",
     "text": [
      "[0.29257143 0.05614035 0.04082935 0.03212045 0.18334825]\n",
      "[0.2332574  0.04196721 0.03282051 0.02327273 0.11377778]\n"
     ]
    }
   ],
   "source": [
    "# Resolution calculation\n",
    "min_res=bin_width*0.001/windows[:,0]\n",
    "max_res=bin_width*0.001/windows[:,1]\n",
    "print(min_res*100)\n",
    "print(max_res*100)"
   ]
  },
  {
   "cell_type": "code",
   "execution_count": 106,
   "metadata": {
    "collapsed": false
   },
   "outputs": [
    {
     "name": "stdout",
     "output_type": "stream",
     "text": [
      "2805.0\n",
      "[  87.  602.  598. 1184.  334.]\n"
     ]
    }
   ],
   "source": [
    "# calculation of the number of file and space needed\n",
    "no_file=np.ceil(delta_tof*1000/bin_width);\n",
    "tot_file=np.sum(no_file)\n",
    "print(tot_file)\n",
    "print(no_file)"
   ]
  },
  {
   "cell_type": "code",
   "execution_count": 107,
   "metadata": {
    "collapsed": true
   },
   "outputs": [],
   "source": [
    "#base_path = \"/path/to/directory/holding/file/\"\n",
    "filename = \"Fe_standard_J-parc.txt\"\n",
    "#path_to_file = os.path.join(base_path, filename)\n",
    "#fd = open(path_to_file , 'r')\n",
    "fp = open(filename , 'r')\n",
    "#spectrum=csv.reader(fp, delimiter=\"\\t\")"
   ]
  },
  {
   "cell_type": "code",
   "execution_count": 108,
   "metadata": {
    "collapsed": true
   },
   "outputs": [],
   "source": [
    "data = np.genfromtxt(filename, delimiter = '\\t', skip_header=1)"
   ]
  },
  {
   "cell_type": "code",
   "execution_count": 109,
   "metadata": {
    "collapsed": true
   },
   "outputs": [],
   "source": [
    "#type(data)\n",
    "x,y=data.T\n",
    "#x_axis=x(0)\n",
    "#y_axis=y(0)\n",
    "#np.delete(x,0)\n",
    "#np.delete(y,0)"
   ]
  },
  {
   "cell_type": "code",
   "execution_count": 110,
   "metadata": {
    "collapsed": false
   },
   "outputs": [
    {
     "data": {
      "text/plain": [
       "[<matplotlib.lines.Line2D at 0x10d53a358>]"
      ]
     },
     "execution_count": 110,
     "metadata": {},
     "output_type": "execute_result"
    },
    {
     "data": {
      "image/png": "[encoded data removed]",
      "text/plain": [
       "<matplotlib.figure.Figure at 0x10d53ad68>"
      ]
     },
     "metadata": {},
     "output_type": "display_data"
    }
   ],
   "source": [
    "\n",
    "for i in range (0,n_windows):\n",
    "    win_plot_x_1=(windows[i][0],windows[i][0])\n",
    "    win_plot_y_1=(min(y),max(y))\n",
    "    plt.plot(win_plot_x_1,win_plot_y_1,'r-')\n",
    "    win_plot_x_2=(windows[i][1],windows[i][1])\n",
    "    win_plot_y_2=(min(y),max(y))\n",
    "    plt.plot(win_plot_x_2,win_plot_y_2,'r-')\n",
    "plt.plot(x/1000,y)\n",
    "   \n"
   ]
  },
  {
   "cell_type": "code",
   "execution_count": null,
   "metadata": {
    "collapsed": true
   },
   "outputs": [],
   "source": []
  },
  {
   "cell_type": "code",
   "execution_count": null,
   "metadata": {
    "collapsed": true
   },
   "outputs": [],
   "source": []
  },
  {
   "cell_type": "code",
   "execution_count": null,
   "metadata": {
    "collapsed": true
   },
   "outputs": [],
   "source": []
  },
  {
   "cell_type": "code",
   "execution_count": null,
   "metadata": {
    "collapsed": true
   },
   "outputs": [],
   "source": []
  }
 ],
 "metadata": {
  "kernelspec": {
   "display_name": "Python 2",
   "language": "python",
   "name": "python2"
  },
  "language_info": {
   "codemirror_mode": {
    "name": "ipython",
    "version": 2
   },
   "file_extension": ".py",
   "mimetype": "text/x-python",
   "name": "python",
   "nbconvert_exporter": "python",
   "pygments_lexer": "ipython2",
   "version": "2.7.12"
  },
  "varInspector": {
   "cols": {
    "lenName": 16,
    "lenType": 16,
    "lenVar": 40
   },
   "kernels_config": {
    "python": {
     "delete_cmd_postfix": "",
     "delete_cmd_prefix": "del ",
     "library": "var_list.py",
     "varRefreshCmd": "print(var_dic_list())"
    },
    "r": {
     "delete_cmd_postfix": ") ",
     "delete_cmd_prefix": "rm(",
     "library": "var_list.r",
     "varRefreshCmd": "cat(var_dic_list()) "
    }
   },
   "oldHeight": 468,
   "position": {
    "height": "490px",
    "left": "1051px",
    "right": "20px",
    "top": "106px",
    "width": "352px"
   },
   "types_to_exclude": [
    "module",
    "function",
    "builtin_function_or_method",
    "instance",
    "_Feature"
   ],
   "varInspector_section_display": "block",
   "window_display": false
  }
 },
 "nbformat": 4,
 "nbformat_minor": 2
}
