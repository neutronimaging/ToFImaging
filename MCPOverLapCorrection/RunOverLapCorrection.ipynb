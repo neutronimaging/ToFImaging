{
 "cells": [
  {
   "cell_type": "markdown",
   "metadata": {},
   "source": [
    "# In this notebook I write a loop that corrects for detector overhead all subfolders in a certain path\n",
    "\n",
    "The routine for MCPOverLapCorrection is called"
   ]
  },
  {
   "cell_type": "code",
   "execution_count": 1,
   "metadata": {
    "ExecuteTime": {
     "end_time": "2019-02-07T13:53:07.066789Z",
     "start_time": "2019-02-07T13:53:03.071628Z"
    },
    "collapsed": false
   },
   "outputs": [
    {
     "name": "stderr",
     "output_type": "stream",
     "text": [
      "/home/carminati_c/anaconda2/lib/python2.7/site-packages/matplotlib/font_manager.py:273: UserWarning: Matplotlib is building the font cache using fc-list. This may take a moment.\n",
      "  warnings.warn('Matplotlib is building the font cache using fc-list. This may take a moment.')\n"
     ]
    }
   ],
   "source": [
    "import glob,sys,os\n",
    "import pandas as pd\n",
    "import matplotlib.pyplot as plt\n",
    "from IPython.display import display, HTML\n",
    "import numpy as np\n",
    "%matplotlib inline\n",
    "from astropy.io import fits\n",
    "import MCPOverLapCorrection\n",
    "#import pdb\n"
   ]
  },
  {
   "cell_type": "code",
   "execution_count": null,
   "metadata": {
    "ExecuteTime": {
     "end_time": "2019-02-07T13:32:58.761674Z",
     "start_time": "2019-02-07T13:32:58.399376Z"
    },
    "collapsed": false
   },
   "outputs": [],
   "source": [
    "path_folders = \"/media/carminati_c/Elements/IMAT_Nov2018/RB1820231/04_HorizontalSetting_3hruns/2nd run/\"\n",
    "list_folders = sorted(os.listdir(path_folders))\n",
    "display(list_folders)\n",
    "# print(list_folders)\n",
    "# print(len(list_folders))"
   ]
  },
  {
   "cell_type": "code",
   "execution_count": null,
   "metadata": {
    "ExecuteTime": {
     "end_time": "2019-01-24T12:53:33.621093Z",
     "start_time": "2019-01-24T12:53:33.607122Z"
    },
    "collapsed": false
   },
   "outputs": [],
   "source": [
    "#create standard name for outputfolders\n",
    "list_output_folders=[]\n",
    "for i in range(0,len(list_folders)):\n",
    "    list_output_folders.append(list_folders[i]+\"_Corrected\")\n",
    "\n",
    "display(list_output_folders)\n",
    "# display(list_output_folders[1])"
   ]
  },
  {
   "cell_type": "code",
   "execution_count": null,
   "metadata": {
    "ExecuteTime": {
     "end_time": "2019-01-24T13:23:31.811614Z",
     "start_time": "2019-01-24T12:53:36.405539Z"
    },
    "collapsed": false
   },
   "outputs": [],
   "source": [
    "#Running in loop over all given folders\n",
    "\n",
    "num_windows=4 # this parameter will need to be automatized\n",
    "\n",
    "for i in range(0, len(list_folders)):\n",
    "# for i in range(0, 4):    \n",
    "    folder_input = path_folders+list_folders[i]\n",
    "    folder_output = path_folders+list_output_folders[i]\n",
    "    filename_output = \"/\"+list_output_folders[i]+\"_\" # change this name if the number of folder is not desired in the filename, ex#\n",
    "#     filename_output = \"/IMAT_tomo_\"\n",
    "    display(folder_input)\n",
    "    display(folder_output)\n",
    "#     display(filename_output)\n",
    "    MCPOverLapCorrection.OverLapCorrection(folder_input, folder_output, filename_output, num_windows)\n"
   ]
  },
  {
   "cell_type": "code",
   "execution_count": 2,
   "metadata": {
    "ExecuteTime": {
     "end_time": "2019-02-07T13:57:30.614154Z",
     "start_time": "2019-02-07T13:53:09.975960Z"
    },
    "collapsed": false,
    "scrolled": false
   },
   "outputs": [
    {
     "name": "stdout",
     "output_type": "stream",
     "text": [
      "0.014\n",
      "0.0206848\n",
      "0.00031648\n",
      "0.0116736\n",
      "0.00032896\n",
      "0.0186778\n",
      "0.0003248\n",
      "0.0190054\n"
     ]
    },
    {
     "data": {
      "image/png": "[encoded data removed]",
      "text/plain": [
       "<matplotlib.figure.Figure at 0x7f70ed40e3d0>"
      ]
     },
     "metadata": {},
     "output_type": "display_data"
    },
    {
     "name": "stdout",
     "output_type": "stream",
     "text": [
      "/media/carminati_c/Elements/IMAT_Nov2018/RB1820231/03_VerticalSetting_3hruns/Flat1_Corrected_withsum/Flat1_Corrected_SummedImg.fits\n"
     ]
    }
   ],
   "source": [
    "#Example how to run on single folder\n",
    "\n",
    "# folder_input = \"/media/carminati_c/Elements/IMAT_Nov2018/RB1820231/03_VerticalSetting_3hruns/Flat1\"\n",
    "# folder_output = \"/media/carminati_c/Elements/IMAT_Nov2018/RB1820231/03_VerticalSetting_3hruns/Flat1_Corrected_withsum\"\n",
    "# filename_output =  \"/Flat1_Corrected_\"\n",
    "# num_windows=4\n",
    "# MCPOverLapCorrection.OverLapCorrection(folder_input, folder_output, filename_output, num_windows)"
   ]
  },
  {
   "cell_type": "code",
   "execution_count": null,
   "metadata": {
    "ExecuteTime": {
     "end_time": "2019-02-05T10:30:29.215142Z",
     "start_time": "2019-02-05T10:30:28.737286Z"
    },
    "collapsed": false
   },
   "outputs": [],
   "source": [
    "# test on copying txt file \n",
    "\n",
    "# folder_input = path_folders + list_folders[0]\n",
    "# sorted_TXT= sorted(glob.glob(folder_input+'/*.txt'))\n",
    "# print(sorted_TXT)\n",
    "\n",
    "# folder_output = '/media/carminati_c/Elements/IMAT_Nov2018/RB1820231/04_HorizontalSetting_3hruns/test_txt'\n",
    "\n",
    "# for txt in sorted_TXT:\n",
    "#     filename = txt\n",
    "#     destname = folder_output\n",
    "#     print(filename)\n",
    "#     print(destname)\n",
    "#     shutil.copy(filename, destname)  "
   ]
  },
  {
   "cell_type": "code",
   "execution_count": null,
   "metadata": {
    "collapsed": true
   },
   "outputs": [],
   "source": []
  }
 ],
 "metadata": {
  "kernelspec": {
   "display_name": "Python 2",
   "language": "python",
   "name": "python2"
  },
  "language_info": {
   "codemirror_mode": {
    "name": "ipython",
    "version": 2
   },
   "file_extension": ".py",
   "mimetype": "text/x-python",
   "name": "python",
   "nbconvert_exporter": "python",
   "pygments_lexer": "ipython2",
   "version": "2.7.12"
  },
  "varInspector": {
   "cols": {
    "lenName": 16,
    "lenType": 16,
    "lenVar": 40
   },
   "kernels_config": {
    "python": {
     "delete_cmd_postfix": "",
     "delete_cmd_prefix": "del ",
     "library": "var_list.py",
     "varRefreshCmd": "print(var_dic_list())"
    },
    "r": {
     "delete_cmd_postfix": ") ",
     "delete_cmd_prefix": "rm(",
     "library": "var_list.r",
     "varRefreshCmd": "cat(var_dic_list()) "
    }
   },
   "types_to_exclude": [
    "module",
    "function",
    "builtin_function_or_method",
    "instance",
    "_Feature"
   ],
   "window_display": false
  }
 },
 "nbformat": 4,
 "nbformat_minor": 2
}
